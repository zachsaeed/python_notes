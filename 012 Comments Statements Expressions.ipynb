{
 "cells": [
  {
   "cell_type": "markdown",
   "metadata": {},
   "source": [
    "# Python Comment\n",
    "\n",
    "Python Comment are statements that are not part of your program.For this reason, comment statements are skipped while executing your program. \n",
    "* Usually we use comments for making brief notes about a chunk of code. \n",
    "* They are important so that other can understand easily while reading your program. \n",
    "* They are also useful for the programmer himself. One can understand a program done a long time a ago simply from the comments of the program.\n",
    "\n",
    "## Types of Python Comments\n",
    "In Python there are two types of comments\n",
    "- Single line comments and \n",
    "- Multiple lines comments. \n",
    "\n",
    "Single line commenting is commonly used for a brief and quick comment (or to debug a program, we will see it later). \n",
    "\n",
    "Multiple lines comments to note down something much more in details or to block out an entire chunk of code.\n",
    "\n",
    "## Single Line Comments\n",
    "In Python for single line comments use # sign to comment out everything following it on that line."
   ]
  },
  {
   "cell_type": "code",
   "execution_count": 1,
   "metadata": {},
   "outputs": [
    {
     "name": "stdout",
     "output_type": "stream",
     "text": [
      "hello comments\n"
     ]
    }
   ],
   "source": [
    "#this is a comment\n",
    "myVar = \"hello comments\" # a variable containing something\n",
    "print(myVar) #print statement to print contents of a variable"
   ]
  },
  {
   "cell_type": "markdown",
   "metadata": {},
   "source": [
    "## Multiple Lines Comments\n",
    "Multiple lines comments are slightly different. Simply use 3 single quotes before and after the part you want to be commented."
   ]
  },
  {
   "cell_type": "code",
   "execution_count": 2,
   "metadata": {},
   "outputs": [
    {
     "name": "stdout",
     "output_type": "stream",
     "text": [
      "I am out of Multiple line comment\n"
     ]
    }
   ],
   "source": [
    "'''\n",
    "\n",
    "print(\"I am in Multiple line comment line 1\")\n",
    "\n",
    "print (\"I am in Multiple line comment line 2\")\n",
    "\n",
    "'''\n",
    "\n",
    "print(\"I am out of Multiple line comment\")"
   ]
  },
  {
   "cell_type": "markdown",
   "metadata": {},
   "source": [
    "## Python Statement\n",
    "Statements are logical lines we write in our code. Statements can be like below.\n",
    "\n",
    "### Assignment Statement:\n",
    "Takes the value on the right and assigns it to the left."
   ]
  },
  {
   "cell_type": "code",
   "execution_count": 3,
   "metadata": {},
   "outputs": [],
   "source": [
    "myVariable1=\"hello world\"\n",
    "\n",
    "myVariable2=100\n",
    "\n",
    "myVariable3=12.23"
   ]
  },
  {
   "cell_type": "markdown",
   "metadata": {},
   "source": [
    "### Addition Statement:"
   ]
  },
  {
   "cell_type": "code",
   "execution_count": 4,
   "metadata": {},
   "outputs": [],
   "source": [
    "myVariable4 = myVariable2 + myVariable3"
   ]
  },
  {
   "cell_type": "markdown",
   "metadata": {},
   "source": [
    "### Subtraction Statement:"
   ]
  },
  {
   "cell_type": "code",
   "execution_count": 5,
   "metadata": {},
   "outputs": [],
   "source": [
    "myVariable4=myVariable2 - myVariable3"
   ]
  },
  {
   "cell_type": "markdown",
   "metadata": {},
   "source": [
    "### Multiplication Statement:"
   ]
  },
  {
   "cell_type": "code",
   "execution_count": 6,
   "metadata": {},
   "outputs": [],
   "source": [
    "myVariable4=myVariable2 * myVariable3"
   ]
  },
  {
   "cell_type": "markdown",
   "metadata": {},
   "source": [
    "### Division Statement:"
   ]
  },
  {
   "cell_type": "code",
   "execution_count": 7,
   "metadata": {},
   "outputs": [],
   "source": [
    "myVariable4=myVariable2 / myVariable3"
   ]
  },
  {
   "cell_type": "markdown",
   "metadata": {},
   "source": [
    "## Expression\n",
    "Basically, a statement returns nothing while an expression produces at least one value. Simple mathematical expression like addition, multiplication, division are expressions and their values can be assigned to a variable or returned from a function body."
   ]
  },
  {
   "cell_type": "markdown",
   "metadata": {},
   "source": []
  }
 ],
 "metadata": {
  "kernelspec": {
   "display_name": "Python 3",
   "language": "python",
   "name": "python3"
  },
  "language_info": {
   "codemirror_mode": {
    "name": "ipython",
    "version": 3
   },
   "file_extension": ".py",
   "mimetype": "text/x-python",
   "name": "python",
   "nbconvert_exporter": "python",
   "pygments_lexer": "ipython3",
   "version": "3.8.7"
  }
 },
 "nbformat": 4,
 "nbformat_minor": 4
}
