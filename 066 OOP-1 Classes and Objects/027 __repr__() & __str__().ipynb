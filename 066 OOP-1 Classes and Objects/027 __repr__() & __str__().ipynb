{
 "cells": [
  {
   "cell_type": "markdown",
   "metadata": {},
   "source": [
    "# string representation of instance using ```__repr__()``` and  ```__str__()```\n",
    "\n",
    "There are several dunder/magic methods that python uses internaly to return our instances in string format and which one to choose is a bit complicated.\n",
    "\n",
    "For example:"
   ]
  },
  {
   "cell_type": "code",
   "execution_count": 32,
   "metadata": {},
   "outputs": [
    {
     "name": "stdout",
     "output_type": "stream",
     "text": [
      "<__main__.Human object at 0x0000026219AE9130>\n",
      "the instance is <__main__.Human object at 0x0000026219AE9130>\n"
     ]
    }
   ],
   "source": [
    "class Human:\n",
    "    def __init__(self, name='somebody'):\n",
    "        self.name = name\n",
    "        \n",
    "dude = Human()\n",
    "\n",
    "# print() converts 'dude' into string to print it on screen:\n",
    "print(dude)\n",
    "print(f'the instance is {dude}')"
   ]
  },
  {
   "cell_type": "markdown",
   "metadata": {},
   "source": [
    "## ```__repr__(self)```:\n",
    "We can give our instance a user friendly string representation when it is printed or typecasted to a string by creating a ```__repr__()``` method:\n",
    "\n",
    "Python will automatically call this when our instance is converted into a string:"
   ]
  },
  {
   "cell_type": "code",
   "execution_count": 33,
   "metadata": {},
   "outputs": [
    {
     "name": "stdout",
     "output_type": "stream",
     "text": [
      "Syed Saquib Saeed\n",
      "Syed Saquib Saeed is awesome (probably)\n"
     ]
    }
   ],
   "source": [
    "class Human2:\n",
    "    def __init__(self, name='somebody'):\n",
    "        self.name = name\n",
    "\n",
    "    def __repr__(self):\n",
    "        return self.name\n",
    "\n",
    "\n",
    "saquib = Human2(name=\"Syed Saquib Saeed\")\n",
    "print(str(saquib))\n",
    "print(f\"{saquib} is awesome (probably)\")"
   ]
  },
  {
   "cell_type": "markdown",
   "metadata": {},
   "source": [
    "> **Note:** The built-in repr() method also calls this method"
   ]
  },
  {
   "cell_type": "code",
   "execution_count": 34,
   "metadata": {},
   "outputs": [
    {
     "name": "stdout",
     "output_type": "stream",
     "text": [
      "Syed Saquib Saeed\n"
     ]
    }
   ],
   "source": [
    "print(repr(saquib))"
   ]
  },
  {
   "cell_type": "markdown",
   "metadata": {},
   "source": [
    "> **Note:** If we don’t implement ```__str__()``` function for a class, then str() also calls ```__repr__()``` function."
   ]
  },
  {
   "cell_type": "code",
   "execution_count": 35,
   "metadata": {},
   "outputs": [
    {
     "name": "stdout",
     "output_type": "stream",
     "text": [
      "Syed Saquib Saeed\n"
     ]
    }
   ],
   "source": [
    "print(str(saquib))"
   ]
  },
  {
   "cell_type": "markdown",
   "metadata": {},
   "source": [
    "## ```__str__(self)```\n",
    "This function defines behavior for when 'str()' is called on an instance of your class."
   ]
  },
  {
   "cell_type": "code",
   "execution_count": 36,
   "metadata": {},
   "outputs": [
    {
     "name": "stdout",
     "output_type": "stream",
     "text": [
      "__str__() was called\n"
     ]
    }
   ],
   "source": [
    "class Human3:\n",
    "    def __init__(self, name='somebody'):\n",
    "        self.name = name\n",
    "\n",
    "    def __repr__(self):\n",
    "        return self.name\n",
    "    \n",
    "    def __str__(self):\n",
    "        return '__str__() was called'\n",
    "    \n",
    "saquib = Human3(name=\"Syed Saquib Saeed\")\n",
    "print(str(saquib))    "
   ]
  },
  {
   "cell_type": "code",
   "execution_count": 37,
   "metadata": {},
   "outputs": [
    {
     "name": "stdout",
     "output_type": "stream",
     "text": [
      "Syed Saquib Saeed\n"
     ]
    }
   ],
   "source": [
    "print(repr(saquib))"
   ]
  },
  {
   "cell_type": "markdown",
   "metadata": {},
   "source": [
    "## when to use what\n",
    "The major difference between str() and repr() is intended audience.\n",
    "\n",
    "repr() is intended to produce output that is mostly machine-readable (in many cases, it could be valid Python code even), whereas str() is intended to be human-readable."
   ]
  },
  {
   "cell_type": "markdown",
   "metadata": {},
   "source": [
    "## ```__format__()```"
   ]
  },
  {
   "cell_type": "code",
   "execution_count": 38,
   "metadata": {},
   "outputs": [
    {
     "name": "stdout",
     "output_type": "stream",
     "text": [
      "23\n"
     ]
    }
   ],
   "source": [
    "format(saquib)\n",
    "\n",
    "class Human3:\n",
    "    def __init__(self, name='somebody'):\n",
    "        self.name = name\n",
    "\n",
    "    def __repr__(self):\n",
    "        return self.name\n",
    "    \n",
    "    def __str__(self):\n",
    "        return '__str__() was called'\n",
    "        \n",
    "    def __format__(self, format):\n",
    "        if(format == 'age'):\n",
    "            return '23'\n",
    "        return 'None' \n",
    "    \n",
    "saquib = Human3(name=\"Syed Saquib Saeed\")\n",
    "print(format(saquib, 'age'))"
   ]
  },
  {
   "cell_type": "code",
   "execution_count": null,
   "metadata": {},
   "outputs": [],
   "source": []
  }
 ],
 "metadata": {
  "kernelspec": {
   "display_name": "Python 3",
   "language": "python",
   "name": "python3"
  },
  "language_info": {
   "codemirror_mode": {
    "name": "ipython",
    "version": 3
   },
   "file_extension": ".py",
   "mimetype": "text/x-python",
   "name": "python",
   "nbconvert_exporter": "python",
   "pygments_lexer": "ipython3",
   "version": "3.8.7"
  }
 },
 "nbformat": 4,
 "nbformat_minor": 4
}
