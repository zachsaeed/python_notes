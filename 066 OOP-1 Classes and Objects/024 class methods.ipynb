{
 "cells": [
  {
   "cell_type": "markdown",
   "metadata": {},
   "source": [
    "# Class methods\n",
    "Class methods are methods (with the @classmethod decorator) that are not concerned with instances, but the class itself.\n",
    "\n",
    "All class methods take the reference to class-object as a first default parameter (just like instance methods take reference to instance-object as a first parameter). P.S. Python classes are instances and therefore objects themselves.\n",
    "\n",
    "\n",
    "We cannot access 'self' (ref to instance-object) inside a class method as self-reference only comes into existence after instantiation. Therefore class methods can access only class attributes but not instance attributes.\n",
    "\n",
    "There will be only one copy of the class method regardless how many instances you create. They live in the class itself and are shared by the class and its instances. Therefore, can be accessed as:\n",
    "```<classname>.classmethod or <instancename>.classmethod```\n",
    "\n",
    "Class methods are used when the method does not need to know bout the specific instance. Instance methods are the opposite.\n",
    "\n",
    "> **Note:** More about @decorators later. For now, @classmethod is an expression that goes on top of a method to turn it into a class method. For example:"
   ]
  },
  {
   "cell_type": "code",
   "execution_count": 10,
   "metadata": {},
   "outputs": [],
   "source": [
    "class PersonClass:     \n",
    "    persons_count = 0  \n",
    "        \n",
    "    def __init__(self, personName, personAge):          \n",
    "        self.name = personName  \n",
    "        self.age = personAge          \n",
    "        PersonClass.persons_count+=1\n",
    "        print('Person has logged in')\n",
    "    \n",
    "    # A class method:\n",
    "    @classmethod\n",
    "    def display_value_of_cls(cls):\n",
    "        print(cls) # to see what cls contains\n",
    "    \n",
    "    def logout(self):\n",
    "        PersonClass.persons_count-=1\n",
    "        print('Person has logged out')\n",
    "    \n",
    "    def showName(self):\n",
    "        print(self.name)    \n",
    "  \n",
    "    def showAge(self):  \n",
    "        print(self.age)  \n",
    "    \n",
    "    def returnAgeAfterYears(self, years): \n",
    "        return self.age + years\n",
    "    \n",
    "   # End of the class definition     "
   ]
  },
  {
   "cell_type": "markdown",
   "metadata": {},
   "source": [
    "Just like class attributes, class methods can be called via class name or instance as follows:"
   ]
  },
  {
   "cell_type": "code",
   "execution_count": 11,
   "metadata": {},
   "outputs": [
    {
     "name": "stdout",
     "output_type": "stream",
     "text": [
      "<class '__main__.PersonClass'>\n",
      "Person has logged in\n",
      "<class '__main__.PersonClass'>\n"
     ]
    }
   ],
   "source": [
    "# calling via class name. Note: instance variables can only be called via instance\n",
    "PersonClass.display_value_of_cls()\n",
    "\n",
    "# calling via instance variable\n",
    "person_obj_1 = PersonClass('David', 56)\n",
    "person_obj_1.display_value_of_cls()"
   ]
  },
  {
   "cell_type": "markdown",
   "metadata": {},
   "source": [
    "## When to use class methods\n",
    "One use developers have found for class methods is to create inheritable alternative constructors.\n",
    "\n",
    "Python doesn't allow constructor/method overloading so we cannot create more than one __init__()s accepting different params. Therefore, we use class method to create factory methods.\n",
    "\n",
    "Factory methods return class object ( similar to a constructor) for different use cases.\n",
    "\n",
    "It is an alternative way to create objects ie, when we need to accept parameters to the class constructor but the parameters are not compatible with constructor.\n",
    "\n",
    "For example, the the PersonCLass above, we can create a new class method that takes a string to create an instance of PersonClass:"
   ]
  },
  {
   "cell_type": "code",
   "execution_count": 12,
   "metadata": {},
   "outputs": [
    {
     "name": "stdout",
     "output_type": "stream",
     "text": [
      "Person has logged in\n",
      "{'name': 'Saquib', 'age': ' 48'}\n"
     ]
    }
   ],
   "source": [
    "class PersonClass2:     \n",
    "    persons_count = 0  \n",
    "        \n",
    "    def __init__(self, personName, personAge):          \n",
    "        self.name = personName  \n",
    "        self.age = personAge          \n",
    "        PersonClass.persons_count+=1\n",
    "        print('Person has logged in')\n",
    "    \n",
    "    # A class method to create an instance from a string value which is formatted as 'name,age':\n",
    "    @classmethod\n",
    "    def from_string(cls, data_str):\n",
    "        # extract the parameters from the string\n",
    "        name, age = data_str.split(',')\n",
    "        # we can pass in the variables to our class constructor and return the new instance:\n",
    "        return cls(name, age) # remember, cls is the class itself ie PersonClass2\n",
    "        \n",
    "\n",
    "# creating an instance from a string:        \n",
    "my_string = 'Saquib, 48' # a string with a comma        \n",
    "new_instance = PersonClass2.from_string(my_string)        \n",
    "print(vars(new_instance))"
   ]
  },
  {
   "cell_type": "markdown",
   "metadata": {},
   "source": [
    "## Similar use in python's built-in datatypes:\n",
    "\n",
    "We can create dictionary using the constructor (__init__()):"
   ]
  },
  {
   "cell_type": "code",
   "execution_count": 13,
   "metadata": {},
   "outputs": [
    {
     "name": "stdout",
     "output_type": "stream",
     "text": [
      "{'name': 'Saquib', 'address': 'chadwell heath', 'pet': 'cat'}\n"
     ]
    }
   ],
   "source": [
    "my_dictionary1 = dict(name='Saquib', address='chadwell heath', pet='cat')\n",
    "print(my_dictionary1)"
   ]
  },
  {
   "cell_type": "markdown",
   "metadata": {},
   "source": [
    "or we can call a class method in the dict class which will process a different structure of params and still return a dic object:"
   ]
  },
  {
   "cell_type": "code",
   "execution_count": 14,
   "metadata": {},
   "outputs": [
    {
     "name": "stdout",
     "output_type": "stream",
     "text": [
      "{'name': 'unknown', 'address': 'unknown', 'pet': 'unknown'}\n"
     ]
    }
   ],
   "source": [
    "# fromkeys() restructures the params and then still calls the __init__()\n",
    "my_dictionary2 = dict.fromkeys(['name', 'address', 'pet'], 'unknown')\n",
    "\n",
    "print(my_dictionary2)"
   ]
  },
  {
   "cell_type": "markdown",
   "metadata": {},
   "source": [
    "They are often also used, where we have static methods, which have to call other static methods. In static methods, we have to hard code the class name to access it's attributes. This is a problem, if we are in a use case, where we have inherited classes. Therefore, we use class methods instead."
   ]
  }
 ],
 "metadata": {
  "kernelspec": {
   "display_name": "Python 3",
   "language": "python",
   "name": "python3"
  },
  "language_info": {
   "codemirror_mode": {
    "name": "ipython",
    "version": 3
   },
   "file_extension": ".py",
   "mimetype": "text/x-python",
   "name": "python",
   "nbconvert_exporter": "python",
   "pygments_lexer": "ipython3",
   "version": "3.7.9"
  }
 },
 "nbformat": 4,
 "nbformat_minor": 4
}
