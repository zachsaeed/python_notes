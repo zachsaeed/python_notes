{
 "cells": [
  {
   "cell_type": "markdown",
   "metadata": {},
   "source": [
    "# Static Methods\n",
    "\n",
    "A static method is very similar to a class method except that:\n",
    "\n",
    "1- A static method is marked with a @staticmethod decorator to flag it as a static method.\n",
    "\n",
    "2- This type of method takes neither a self nor a cls parameter (but of course it’s free to accept an arbitrary number of other parameters).\n",
    "\n",
    "For example:"
   ]
  },
  {
   "cell_type": "code",
   "execution_count": 12,
   "metadata": {},
   "outputs": [
    {
     "name": "stdout",
     "output_type": "stream",
     "text": [
      "0\n"
     ]
    }
   ],
   "source": [
    "class Robot:\n",
    "    __counter = 0\n",
    "\n",
    "    \n",
    "    def __init__(self):\n",
    "        type(self).__counter += 1\n",
    "\n",
    "    \n",
    "    # static method decorator    \n",
    "    @staticmethod\n",
    "    def RobotInstances(): # the first param is absent (no self or cls)\n",
    "        return Robot.__counter\n",
    "\n",
    "    \n",
    "    # static method decorator. It has nothing to do woth the class or object. Just calculates the pie    \n",
    "    @staticmethod\n",
    "    def calculate_pie(circumference, diameter): # the first param is absent (no self or cls)\n",
    "        return circumference/diameter\n",
    "\n",
    "    \n",
    "print(Robot.RobotInstances())  # 0"
   ]
  },
  {
   "cell_type": "markdown",
   "metadata": {},
   "source": [
    "They behave like plain functions except that you can call them from an instance or the class"
   ]
  },
  {
   "cell_type": "code",
   "execution_count": 13,
   "metadata": {},
   "outputs": [
    {
     "name": "stdout",
     "output_type": "stream",
     "text": [
      "1\n"
     ]
    }
   ],
   "source": [
    "x = Robot()\n",
    "print(x.RobotInstances())  # 1"
   ]
  },
  {
   "cell_type": "code",
   "execution_count": 14,
   "metadata": {},
   "outputs": [
    {
     "name": "stdout",
     "output_type": "stream",
     "text": [
      "2\n",
      "2\n"
     ]
    }
   ],
   "source": [
    "y = Robot()\n",
    "print(x.RobotInstances())  # 2\n",
    "print(Robot.RobotInstances())  # 2"
   ]
  },
  {
   "cell_type": "markdown",
   "metadata": {},
   "source": [
    "As you can see, static methods don't need a reference to an instance (self) or a class (cls) as the first parameter. Therefore a static method can neither modify object state nor class state. Static methods are restricted in what data they can access - and they’re primarily a way to namespace your method\n",
    "\n",
    "## Uses of static methods:\n",
    "Static methods are used to create utility functions not w.r.t an Object but w.r.t the complete class. This is pretty much advantageous when we need to create Utility methods as they aren’t tied to an object lifecycle usually.\n",
    "\n",
    "Another form of utility function can be some sort of independant processing / calculation that does not need access to cls or self. Like the calculate_pie function above."
   ]
  }
 ],
 "metadata": {
  "kernelspec": {
   "display_name": "Python 3",
   "language": "python",
   "name": "python3"
  },
  "language_info": {
   "codemirror_mode": {
    "name": "ipython",
    "version": 3
   },
   "file_extension": ".py",
   "mimetype": "text/x-python",
   "name": "python",
   "nbconvert_exporter": "python",
   "pygments_lexer": "ipython3",
   "version": "3.7.9"
  }
 },
 "nbformat": 4,
 "nbformat_minor": 4
}
