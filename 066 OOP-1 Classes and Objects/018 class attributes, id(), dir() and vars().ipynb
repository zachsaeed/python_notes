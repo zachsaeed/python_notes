{
 "cells": [
  {
   "cell_type": "markdown",
   "metadata": {},
   "source": [
    "# Class Attributes\n",
    "\n",
    "instance attributes are unique to each instance where as, class attributes are defined directly in the class. Because of this, every instance of a class points to the same class attribute.\n",
    "\n",
    "In other words, a class attribute is a single copy which is shared by the class and every instance of that class.\n",
    "\n",
    "We define class atrributes directly in the class ie outside of the __init()__ constructor method. For example:"
   ]
  },
  {
   "cell_type": "code",
   "execution_count": 16,
   "metadata": {},
   "outputs": [],
   "source": [
    "class PersonClass: \n",
    "    \n",
    "    # initializing a class variable which will keep a count of every object created\n",
    "    persons_count = 0  \n",
    "        \n",
    "    def __init__(self, personName, personAge):  \n",
    "        # defining instance attributes\n",
    "        self.name = personName  \n",
    "        self.age = personAge  \n",
    "        # whenever init is called (on instantiation), increase count by one\n",
    "        PersonClass.persons_count+=1\n",
    "        print('Person has logged in')\n",
    "        \n",
    "    def logout(self):\n",
    "        PersonClass.persons_count-=1\n",
    "        print('Person has logged out')\n",
    "    \n",
    "    # defining instance methods  \n",
    "    def showName(self):  # More about self later\n",
    "        print(self.name)\n",
    "        # can also have a return value just like functions.\n",
    "  \n",
    "    def showAge(self):  # More about self later\n",
    "        print(self.age)  \n",
    "    \n",
    "    def returnAgeAfterYears(self, years): # Like normal functions, you can pass arguments and/or return values\n",
    "        return self.age + years\n",
    "    \n",
    "    # End of the class definition     "
   ]
  },
  {
   "cell_type": "markdown",
   "metadata": {},
   "source": [
    "The class attribute exists in the class, even before we instantiate. Therefore, we can access it via class name or after instantiation, via instance name. Both will point to the same class attribute."
   ]
  },
  {
   "cell_type": "code",
   "execution_count": 17,
   "metadata": {},
   "outputs": [
    {
     "name": "stdout",
     "output_type": "stream",
     "text": [
      "Person has logged in\n",
      "Person has logged in\n",
      "2\n",
      "2\n"
     ]
    }
   ],
   "source": [
    "person_obj_1 = PersonClass('saquib', '30')\n",
    "person_obj_2 = PersonClass('saeed', '40')\n",
    "\n",
    "print(PersonClass.persons_count)\n",
    "print(person_obj_2.persons_count)"
   ]
  },
  {
   "cell_type": "markdown",
   "metadata": {},
   "source": [
    "## id() method\n",
    "\n",
    "We can use python's built-in id() method to prove that the class and it's objects are pointing to the same class attribute"
   ]
  },
  {
   "cell_type": "code",
   "execution_count": 18,
   "metadata": {},
   "outputs": [
    {
     "name": "stdout",
     "output_type": "stream",
     "text": [
      "140736213223120\n",
      "140736213223120\n",
      "140736213223120\n"
     ]
    }
   ],
   "source": [
    "print(id(PersonClass.persons_count))\n",
    "print(id(person_obj_2.persons_count))\n",
    "print(id(person_obj_1.persons_count))"
   ]
  },
  {
   "cell_type": "markdown",
   "metadata": {},
   "source": [
    "As you can see, the id's of the variable is the same nomatter which one we use. This proves that they are pointing to the same variable\n",
    "\n",
    "## Assigning values to class attributes using class name:\n",
    "\n",
    "We can change the value of the class attribute using ```<classname>.<attributename> = <new_value>```. Since the objects also point to the same class attribute, the change will be visibale in the objects too:"
   ]
  },
  {
   "cell_type": "code",
   "execution_count": 19,
   "metadata": {},
   "outputs": [
    {
     "name": "stdout",
     "output_type": "stream",
     "text": [
      "1001\n",
      "1001\n",
      "1001\n"
     ]
    }
   ],
   "source": [
    "# assign a new value to the class attribute:\n",
    "PersonClass.persons_count=1001 \n",
    "\n",
    "# print the new value. We are accessing the same persons_count:\n",
    "print(PersonClass.persons_count)\n",
    "print(person_obj_2.persons_count)    \n",
    "print(person_obj_2.persons_count)  \n",
    "\n",
    "# See next section for a very importan behaviour related to this"
   ]
  },
  {
   "cell_type": "markdown",
   "metadata": {},
   "source": [
    "# dir() and vars() method:\n",
    "We can use python's built-in vars() and dir() methods to see the members of any class or object:"
   ]
  },
  {
   "cell_type": "code",
   "execution_count": 24,
   "metadata": {},
   "outputs": [
    {
     "data": {
      "text/plain": [
       "mappingproxy({'__module__': '__main__',\n",
       "              'persons_count': 0,\n",
       "              '__init__': <function __main__.PersonClass2.__init__(self, personName, personAge)>,\n",
       "              'logout': <function __main__.PersonClass2.logout(self)>,\n",
       "              '__dict__': <attribute '__dict__' of 'PersonClass2' objects>,\n",
       "              '__weakref__': <attribute '__weakref__' of 'PersonClass2' objects>,\n",
       "              '__doc__': None})"
      ]
     },
     "execution_count": 24,
     "metadata": {},
     "output_type": "execute_result"
    }
   ],
   "source": [
    "vars(PersonClass2)"
   ]
  },
  {
   "cell_type": "code",
   "execution_count": 25,
   "metadata": {},
   "outputs": [
    {
     "data": {
      "text/plain": [
       "{'name': 'saquib', 'age': '30', 'persons_count': 2002}"
      ]
     },
     "execution_count": 25,
     "metadata": {},
     "output_type": "execute_result"
    }
   ],
   "source": [
    "vars(person_obj_1) # new instance attribute"
   ]
  },
  {
   "cell_type": "code",
   "execution_count": 26,
   "metadata": {},
   "outputs": [
    {
     "data": {
      "text/plain": [
       "{'name': 'saeed', 'age': '40'}"
      ]
     },
     "execution_count": 26,
     "metadata": {},
     "output_type": "execute_result"
    }
   ],
   "source": [
    "vars(person_obj_2) "
   ]
  },
  {
   "cell_type": "markdown",
   "metadata": {},
   "source": [
    "We can also use the following attributes and methods to see an objects contents. Try them out:"
   ]
  },
  {
   "cell_type": "code",
   "execution_count": 28,
   "metadata": {},
   "outputs": [
    {
     "data": {
      "text/plain": [
       "['__class__',\n",
       " '__delattr__',\n",
       " '__dict__',\n",
       " '__dir__',\n",
       " '__doc__',\n",
       " '__eq__',\n",
       " '__format__',\n",
       " '__ge__',\n",
       " '__getattribute__',\n",
       " '__gt__',\n",
       " '__hash__',\n",
       " '__init__',\n",
       " '__init_subclass__',\n",
       " '__le__',\n",
       " '__lt__',\n",
       " '__module__',\n",
       " '__ne__',\n",
       " '__new__',\n",
       " '__reduce__',\n",
       " '__reduce_ex__',\n",
       " '__repr__',\n",
       " '__setattr__',\n",
       " '__sizeof__',\n",
       " '__str__',\n",
       " '__subclasshook__',\n",
       " '__weakref__',\n",
       " 'logout',\n",
       " 'persons_count']"
      ]
     },
     "execution_count": 28,
     "metadata": {},
     "output_type": "execute_result"
    }
   ],
   "source": [
    "dir(PersonClass2)"
   ]
  },
  {
   "cell_type": "code",
   "execution_count": 29,
   "metadata": {},
   "outputs": [
    {
     "data": {
      "text/plain": [
       "['__class__',\n",
       " '__delattr__',\n",
       " '__dict__',\n",
       " '__dir__',\n",
       " '__doc__',\n",
       " '__eq__',\n",
       " '__format__',\n",
       " '__ge__',\n",
       " '__getattribute__',\n",
       " '__gt__',\n",
       " '__hash__',\n",
       " '__init__',\n",
       " '__init_subclass__',\n",
       " '__le__',\n",
       " '__lt__',\n",
       " '__module__',\n",
       " '__ne__',\n",
       " '__new__',\n",
       " '__reduce__',\n",
       " '__reduce_ex__',\n",
       " '__repr__',\n",
       " '__setattr__',\n",
       " '__sizeof__',\n",
       " '__str__',\n",
       " '__subclasshook__',\n",
       " '__weakref__',\n",
       " 'age',\n",
       " 'logout',\n",
       " 'name',\n",
       " 'persons_count',\n",
       " 'returnAgeAfterYears',\n",
       " 'showAge',\n",
       " 'showName']"
      ]
     },
     "execution_count": 29,
     "metadata": {},
     "output_type": "execute_result"
    }
   ],
   "source": [
    "dir(person_obj_1) # dir lists methods aswell"
   ]
  },
  {
   "cell_type": "code",
   "execution_count": 30,
   "metadata": {},
   "outputs": [
    {
     "data": {
      "text/plain": [
       "['name',\n",
       " 'age',\n",
       " 'persons_count',\n",
       " '__module__',\n",
       " '__init__',\n",
       " 'logout',\n",
       " 'showName',\n",
       " 'showAge',\n",
       " 'returnAgeAfterYears',\n",
       " '__dict__',\n",
       " '__weakref__',\n",
       " '__doc__',\n",
       " '__repr__',\n",
       " '__hash__',\n",
       " '__str__',\n",
       " '__getattribute__',\n",
       " '__setattr__',\n",
       " '__delattr__',\n",
       " '__lt__',\n",
       " '__le__',\n",
       " '__eq__',\n",
       " '__ne__',\n",
       " '__gt__',\n",
       " '__ge__',\n",
       " '__new__',\n",
       " '__reduce_ex__',\n",
       " '__reduce__',\n",
       " '__subclasshook__',\n",
       " '__init_subclass__',\n",
       " '__format__',\n",
       " '__sizeof__',\n",
       " '__dir__',\n",
       " '__class__']"
      ]
     },
     "execution_count": 30,
     "metadata": {},
     "output_type": "execute_result"
    }
   ],
   "source": [
    "# or \n",
    "person_obj_1.__dir__()"
   ]
  }
 ],
 "metadata": {
  "kernelspec": {
   "display_name": "Python 3",
   "language": "python",
   "name": "python3"
  },
  "language_info": {
   "codemirror_mode": {
    "name": "ipython",
    "version": 3
   },
   "file_extension": ".py",
   "mimetype": "text/x-python",
   "name": "python",
   "nbconvert_exporter": "python",
   "pygments_lexer": "ipython3",
   "version": "3.7.9"
  }
 },
 "nbformat": 4,
 "nbformat_minor": 4
}
