{
 "cells": [
  {
   "cell_type": "markdown",
   "metadata": {},
   "source": [
    "# 'self'\n",
    "\n",
    "We have already seen that when we create an instance, we access the members (attributes/methods) of that instance using the '.' operator.\n",
    "\n",
    "Example:"
   ]
  },
  {
   "cell_type": "code",
   "execution_count": 8,
   "metadata": {},
   "outputs": [],
   "source": [
    "class PersonClass:  # This line marks the beginning of class definition for class ‘Person’.\n",
    "    # defining constructor  \n",
    "    def __init__(self, personName, personAge):  \n",
    "        # defining instance attributes\n",
    "        self.name = personName  \n",
    "        self.age = personAge  \n",
    "    \n",
    "    # defining instance methods  \n",
    "    def showName(self):  # More about self later\n",
    "        print(self.name)\n",
    "        # can also have a return value just like functions.\n",
    "  \n",
    "    def showAge(self):  # More about self later\n",
    "        print(self.age)  \n",
    "    \n",
    "    def returnAgeAfterYears(self, years): # Like normal functions, you can pass arguments and/or return values\n",
    "        return self.age + years\n",
    "    \n",
    "    #end of the class definition  \n",
    "    "
   ]
  },
  {
   "cell_type": "markdown",
   "metadata": {},
   "source": [
    "As shown above, the instance methods in the above class always take 'self' as the first parameter.\n",
    "We now create an instance of the class and then access it's members using the . operator without passing any arguments to the 'self' parameter:"
   ]
  },
  {
   "cell_type": "code",
   "execution_count": 9,
   "metadata": {},
   "outputs": [
    {
     "name": "stdout",
     "output_type": "stream",
     "text": [
      "saquib\n",
      "30\n",
      "saquib\n",
      "30\n",
      "121\n"
     ]
    }
   ],
   "source": [
    "# Instantiate objects in memory of type PersonClass_2\n",
    "person_obj = PersonClass('saquib', 30)  \n",
    "\n",
    "# Accessing instance attributes using '.':\n",
    "print(person_obj.name)\n",
    "print(person_obj.age)\n",
    "\n",
    "# calling instance methods  using '.':\n",
    "person_obj.showName()\n",
    "person_obj.showAge()\n",
    "age_after_91_years = person_obj.returnAgeAfterYears(91)\n",
    "print(age_after_91_years)"
   ]
  },
  {
   "cell_type": "markdown",
   "metadata": {},
   "source": [
    "This is because, when instance methods are called after instantiation, the self argument is automatically passed in by python, and doesnt need to be passed in explicitly.\n",
    "\n",
    "# What does self contain?:\n",
    "This 'self' parameter refers to the object/instance itself and it makes it easy for us to use the same '.' operator notation to access the instance's members from inside ie in the code above, 'self' and 'person_instance' are the same. \n",
    "\n",
    "Therefore, outside of the instance, when we access the instance's members, we use:\n",
    "```python\n",
    "person_instance.an_instance_method()\n",
    "person_instance.an_instance_var\n",
    "```\n",
    "whereas, inside the instance, where we define the members, we use\n",
    "```python\n",
    "self.an_instance_method(self)\n",
    "self.an_instance_var\n",
    "```\n",
    " \n",
    "Both 'self' and 'person_instance' point to the same object.\n",
    "\n",
    "# Proof that self and instance are same:\n",
    "The followng line proves that 'self' and 'person_instance' are the same (see the method's code):"
   ]
  },
  {
   "cell_type": "code",
   "execution_count": 10,
   "metadata": {},
   "outputs": [
    {
     "name": "stdout",
     "output_type": "stream",
     "text": [
      "True\n"
     ]
    }
   ],
   "source": [
    "class SelfCheckClass(): # class\n",
    "    \n",
    "    def self_is_same_as_instance(self, object_var): # instance method takes 1 param\n",
    "        print(self == object_var) # compare the param with self\n",
    "\n",
    "self_check_instance_var = SelfCheckClass() # create an instance / object\n",
    "\n",
    "self_check_instance_var.self_is_same_as_instance(self_check_instance_var) # call the method and pass the instance var to it"
   ]
  },
  {
   "cell_type": "markdown",
   "metadata": {},
   "source": [
    "# Is self a keyword?\n",
    "Python automatially passes the reference to the instance itself as the firt parameter of an instance method therefore, we can call it anything we want like 'ref_to_self', 'this_objs_ref' etc' . We just call it 'self' as per connvention and good practice."
   ]
  },
  {
   "cell_type": "markdown",
   "metadata": {},
   "source": [
    "# If we dont use self to refer to instance variables:\n",
    "In a method's body, if we don't use self with a variable name, that variable is simply existent only while that method is running and hence, is local to that method. The local variable can even have the same name as the instance variable. See the code for the following methods:"
   ]
  },
  {
   "cell_type": "code",
   "execution_count": 14,
   "metadata": {},
   "outputs": [
    {
     "name": "stdout",
     "output_type": "stream",
     "text": [
      "Saquib\n",
      "Rida\n"
     ]
    }
   ],
   "source": [
    "class LocalVariableClass(): # class\n",
    "    \n",
    "    def a_method(self, a_var): # instance method takes 1 param\n",
    "        self.a_var = a_var # Assign the argument to an instance variable\n",
    "        a_var = 'Saeed' # Assign another value with the same name, another value\n",
    "        \n",
    "        # Print both variables:\n",
    "        print(self.a_var) # this value has not changed \n",
    "        print(a_var)\n",
    "\n",
    "obj_ref_var = LocalVariableClass() # create an instance / object\n",
    "obj_ref_var.a_method('Saquib')"
   ]
  },
  {
   "cell_type": "code",
   "execution_count": null,
   "metadata": {},
   "outputs": [],
   "source": []
  }
 ],
 "metadata": {
  "kernelspec": {
   "display_name": "Python 3",
   "language": "python",
   "name": "python3"
  },
  "language_info": {
   "codemirror_mode": {
    "name": "ipython",
    "version": 3
   },
   "file_extension": ".py",
   "mimetype": "text/x-python",
   "name": "python",
   "nbconvert_exporter": "python",
   "pygments_lexer": "ipython3",
   "version": "3.8.7"
  }
 },
 "nbformat": 4,
 "nbformat_minor": 4
}
