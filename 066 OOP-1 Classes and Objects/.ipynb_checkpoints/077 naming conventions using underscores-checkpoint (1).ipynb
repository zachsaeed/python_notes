{
 "cells": [
  {
   "cell_type": "markdown",
   "metadata": {},
   "source": [
    "The underscore \\_ is special in Python. While the underscore is used for just snake-case variables and functions names in many languages, but it has special meanings in Python. They are used extensively in various scenarios including cases where we’d like to ignore some value, or in declaration of variables, methods etc.\n",
    "\n",
    "Single and double underscores have a meaning in Python variable and method names. Some of the meaning is merely by convention whilst some of it is enforced by the Python interpreter.\n",
    "\n",
    "In this article we’ll discuss the five underscore patterns and naming conventions and how they affect the behaviour of our Python programs. Understanding these concepts will help a lot especially when writing advanced code.\n",
    "\n",
    "There are five underscore patterns:\n",
    "1. Single Leading Underscore: _var  (Private method / attribute)\n",
    "2. Single Trailing Underscore: var_ (Avoid conflict with keywords)\n",
    "3. Double Leading Underscore: __var (Name mangling)\n",
    "4. Double Leading and Trailing Underscore: __var__ (Dunder methods)\n",
    "5. Single standalone Underscore: _ (temporary or insignificant)\n",
    "\n",
    "# 1. Single Leading Underscore: _var  (Private method / attribute)\n",
    "_name: There are no private method in python. Convention is to start private method name with an underscore. This indicates to other programmers that it is for internal use and is treated as non-public. Python does not impose any restrictions on accessing a variable and it is upto the programmer. This convention is defined in [PEP 8](http://pep8.org/#descriptive-naming-styles).\n",
    "\n",
    "# 2. Single Trailing Underscore: var_ (Avoid conflict with keywords)\n",
    "Python has some default keywords which we can not use as the variable name. To avoid such conflict with Python keywords or built-ins. we use underscore after the name eg class_, def_ return_, break_. As explained in [PEP 8 docs](https://pep8.org/#descriptive-naming-styles)\n",
    "\n",
    "# 3. Double Leading Underscore: __var (Name mangling)\n",
    "A Double Leading Underscore causes the Python interpreter to rewrite the attribute name to avoid conflicts of attribute names between classes. The interpreter replaces the double prefix underscore name with _ClassName__msg(called name mangling) as a way to ensure that the name will not overlap with a similar name in subclasses. \n",
    "\n",
    "Its sole purpose is to make this method or attribute, particular to this class so that when we inherit from this class, the subclass can have its own __msg and we dont want them to conflict. See [9.6 code example](https://docs.python.org/3/tutorial/classes.html#private-variables):"
   ]
  },
  {
   "cell_type": "code",
   "execution_count": 6,
   "metadata": {},
   "outputs": [
    {
     "name": "stdout",
     "output_type": "stream",
     "text": [
      "Saquib\n",
      "hi\n",
      "I like turtles!\n"
     ]
    }
   ],
   "source": [
    "class Person:\n",
    "\n",
    "    def __init__(self):  # dunder method which python will automaically call during instantiation\n",
    "        self.name = \"Saquib\"\n",
    "        # private method which convention says should only be called within the\n",
    "        # object\n",
    "        self._secret = \"hi\" # Private\n",
    "        self.__msg = \"I like turtles!\"  # python will name mangle this variable\n",
    "\n",
    "    def doorman(self, guess):\n",
    "        if guess == self._secret:  # correct usage as it needs to be treated as private\n",
    "            print('Let them in')\n",
    "\n",
    "\n",
    "p = Person()\n",
    "print(p.name)  # Saquib\n",
    "\n",
    "# prints hi but as per convention, do not invoke it here (outside the instance) as \\_ indicate it is \n",
    "# private (for internale use)\n",
    "print(p._secret)\n",
    "\n",
    "# print(p.__msg)  # AttributeError: 'Person' object has no attribute '__msg'\n",
    "print(p._Person__msg)  # I like turtles!\n",
    "# The sublcass of Person can have its own __msg which will be mangled by python to <_subclass__msg> \n",
    "# and will not conflict wih super class's __msg (_Person__msg)"
   ]
  },
  {
   "cell_type": "markdown",
   "metadata": {},
   "source": [
    "# 4. Double Leading and Trailing Underscore: \\_\\_var\\_\\_ (Dunder attributes/methods)\n",
    "Names surrounded by a double underscore prefix and postfix are called Magic methods or dunder(\"Double UNDERscore\").\n",
    "\n",
    "Convention defines that we only define dunder methods for methods that mean something for python. i.e for methods that python looks for automatically like \\_\\_init\\_\\_(), \\_\\_len\\_\\_, \\_\\_repr\\_\\_, \\_\\_add\\_\\_\n",
    "\n",
    "You can use the dir() function to see the number of magic methods inherited by a class.\n",
    "\n",
    "# 5. Single standalone Underscore: _ (temporary or insignificant)\n",
    "Per convention, a single standalone underscore is sometimes used as a name to indicate that a variable is temporary or insignificant.\n",
    "For example, in the following loop, we don’t need access to the running index and we can use “_” to indicate that it is just a temporary value:"
   ]
  },
  {
   "cell_type": "code",
   "execution_count": 7,
   "metadata": {},
   "outputs": [
    {
     "name": "stdout",
     "output_type": "stream",
     "text": [
      "Hey there...\n",
      "Hey there...\n"
     ]
    }
   ],
   "source": [
    "for _ in range(2):\n",
    "    print('Hey there...')"
   ]
  },
  {
   "cell_type": "markdown",
   "metadata": {},
   "source": [
    " Again, this meaning is per convention only and there’s no special behavior triggered in the Python interpreter.\n",
    "\n",
    "> **Note:** Apart from use as a temporary variable, it has a special meaning in the python interpretor. The underscore returns the last value that was evaluated by the interpreter. This means you can access some computation after the execution and later store it into a variable and use it for something else:\n",
    "```console\n",
    ">>> 10+20\n",
    "30\n",
    ">>> _\n",
    "30\n",
    ">>> _+10\n",
    "40\n",
    "```"
   ]
  }
 ],
 "metadata": {
  "kernelspec": {
   "display_name": "Python 3",
   "language": "python",
   "name": "python3"
  },
  "language_info": {
   "codemirror_mode": {
    "name": "ipython",
    "version": 3
   },
   "file_extension": ".py",
   "mimetype": "text/x-python",
   "name": "python",
   "nbconvert_exporter": "python",
   "pygments_lexer": "ipython3",
   "version": "3.7.4"
  }
 },
 "nbformat": 4,
 "nbformat_minor": 4
}
