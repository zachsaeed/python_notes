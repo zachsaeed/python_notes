{
 "cells": [
  {
   "cell_type": "markdown",
   "metadata": {},
   "source": [
    "# ```__init__()``` method (constructor)\n",
    "\n",
    "So far, the Person class's objects that we created are empty ie they have no data inside it related to the person they represent.\n",
    "\n",
    "Classes in python can have a special ```__init__()``` method. Python class constructor is the first piece of code to be executed automatically when you instantiate a class (ie create an object of the class). \n",
    "\n",
    "For example:"
   ]
  },
  {
   "cell_type": "code",
   "execution_count": 1,
   "metadata": {},
   "outputs": [],
   "source": [
    "class PersonClass:     \n",
    "    # defining constructor. Python calls it automatically during instantiation. Do not call it explicitly  \n",
    "    def __init__(self):  # The first parameter is always 'self'. More about self later\n",
    "        print(' new person has been made')        \n"
   ]
  },
  {
   "cell_type": "markdown",
   "metadata": {},
   "source": [
    "Now when we create a couple of Persons, the output indicates ```__init__()``` has been called:"
   ]
  },
  {
   "cell_type": "code",
   "execution_count": 2,
   "metadata": {},
   "outputs": [
    {
     "name": "stdout",
     "output_type": "stream",
     "text": [
      " new person has been made\n",
      " new person has been made\n",
      " new person has been made\n"
     ]
    }
   ],
   "source": [
    "person_obj_1 = PersonClass()\n",
    "person_obj_2 = PersonClass()\n",
    "person_obj_3 = PersonClass()\n",
    "# the output indicates __init__ has been called:"
   ]
  },
  {
   "cell_type": "markdown",
   "metadata": {},
   "source": [
    "The init method is used to pass and store data inside our objects. \n",
    "\n",
    "# Instance variables / attributes\n",
    "\n",
    "So far, our person objects are empty. We can use ```__init__()``` to pass and store variables in our objects. This is done as follows \n",
    "\n",
    "> **Note:** Please ignore 'self' for now. More on this later\n",
    "\n",
    "Whatever attributes we need to initialise, we add parameters to our init method as shown below, and then pass arguments which can be assigned to our instance attributes."
   ]
  },
  {
   "cell_type": "code",
   "execution_count": 3,
   "metadata": {},
   "outputs": [],
   "source": [
    "class PersonClass_2:  # This line marks the beginning of class definition for class ‘Person_2’.\n",
    "    \n",
    "    # defining constructor  \n",
    "    def __init__(self, personName, personAge): # we have self and parameters in init \n",
    "               \n",
    "        self.name = personName  # this line creates an instance attributae called name and assigns it the value of personName\n",
    "        self.age = personAge  # this line creates an instance attributae called age and assigns it the value of personAge\n",
    "        \n",
    "        print('new person object has been made')        "
   ]
  },
  {
   "cell_type": "markdown",
   "metadata": {},
   "source": [
    "Now when we create a couple of person objects, we can pass in arguments to personName, personAge in init(). \n",
    "Each person can have different values stored inside of its instance attributes. \n",
    "\n",
    "> **Note:** We do not pass value to 'self' as python automatically takes care of it. Excluding self, the number and type of arguments should be compatible with the parameters received in the init() constructor function. More about self later."
   ]
  },
  {
   "cell_type": "code",
   "execution_count": 4,
   "metadata": {},
   "outputs": [
    {
     "name": "stdout",
     "output_type": "stream",
     "text": [
      "new person object has been made\n",
      "new person object has been made\n",
      "new person object has been made\n"
     ]
    }
   ],
   "source": [
    "# Instantiate 3 separate objects in memory of type Person_2\n",
    "person_obj_4 = PersonClass_2('saquib', 30)  \n",
    "person_obj_5 = PersonClass_2('Atif', 15) \n",
    "person_obj_6 = PersonClass_2('John', 78) \n",
    "# the output indicates __init__ has been called:    "
   ]
  },
  {
   "cell_type": "markdown",
   "metadata": {},
   "source": [
    "# '.' operator\n",
    "\n",
    "Once the objects (person_obj_4, person_obj_5, Person_obj_6) are created, we can access each person's instance attributes using the '.' operator as follows. \n",
    "> **Note:** These variables are called instance attributes as they exist within the instance of the class:"
   ]
  },
  {
   "cell_type": "code",
   "execution_count": 5,
   "metadata": {},
   "outputs": [
    {
     "name": "stdout",
     "output_type": "stream",
     "text": [
      "saquib\n",
      "30\n"
     ]
    }
   ],
   "source": [
    "print(person_obj_4.name)\n",
    "print(person_obj_4.age)"
   ]
  },
  {
   "cell_type": "code",
   "execution_count": 6,
   "metadata": {},
   "outputs": [
    {
     "name": "stdout",
     "output_type": "stream",
     "text": [
      "Atif\n",
      "15\n"
     ]
    }
   ],
   "source": [
    "print(person_obj_5.name)\n",
    "print(person_obj_5.age)"
   ]
  },
  {
   "cell_type": "markdown",
   "metadata": {},
   "source": [
    "We can even change values as needed"
   ]
  },
  {
   "cell_type": "code",
   "execution_count": 7,
   "metadata": {},
   "outputs": [
    {
     "name": "stdout",
     "output_type": "stream",
     "text": [
      "John\n",
      "Yaqub\n"
     ]
    }
   ],
   "source": [
    "print(person_obj_6.name)\n",
    "person_obj_6.name = 'Yaqub'\n",
    "print(person_obj_6.name)"
   ]
  }
 ],
 "metadata": {
  "kernelspec": {
   "display_name": "Python 3",
   "language": "python",
   "name": "python3"
  },
  "language_info": {
   "codemirror_mode": {
    "name": "ipython",
    "version": 3
   },
   "file_extension": ".py",
   "mimetype": "text/x-python",
   "name": "python",
   "nbconvert_exporter": "python",
   "pygments_lexer": "ipython3",
   "version": "3.8.7"
  }
 },
 "nbformat": 4,
 "nbformat_minor": 4
}
