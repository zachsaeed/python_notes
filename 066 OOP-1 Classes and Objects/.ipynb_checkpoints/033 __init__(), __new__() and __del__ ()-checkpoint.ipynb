{
 "cells": [
  {
   "cell_type": "markdown",
   "metadata": {},
   "source": [
    "# ```__new__()```, ```__init__()``` and ```__del__()``` \n",
    "\n",
    "```__new__()```, ```__init__()``` and ```__del__()``` are magic methods. Magic methods are predefined methods in every python object and are called by python internally. More on magic methods later\n",
    "\n",
    "FOr example, consider this class:"
   ]
  },
  {
   "cell_type": "code",
   "execution_count": 7,
   "metadata": {},
   "outputs": [],
   "source": [
    "class Vehicle:\n",
    "    # The __init__ method is called implicitly by python every time you create an\n",
    "    # instance of the class\n",
    "    # It is optional and mainly used to initialise instance attributes so not needed\n",
    "    # for a class with no attributes and only methods\n",
    "    def __init__(self, make, model, year):\n",
    "        self.make = make\n",
    "        self.model = model\n",
    "        self.year = year\n",
    "        print(f'A new vehicle from {make} has been made')"
   ]
  },
  {
   "cell_type": "markdown",
   "metadata": {},
   "source": [
    "To instantiate a class:"
   ]
  },
  {
   "cell_type": "code",
   "execution_count": 8,
   "metadata": {},
   "outputs": [
    {
     "name": "stdout",
     "output_type": "stream",
     "text": [
      "A new vehicle from toyota has been made\n"
     ]
    }
   ],
   "source": [
    "car1 = Vehicle('toyota', 'auris', 2008)  # An instance of a new vehicle from toyota has been made"
   ]
  },
  {
   "cell_type": "markdown",
   "metadata": {},
   "source": [
    "We saw that when a class is instantiated, the ```__init__()``` method is called. In fact, there is more to class instantiation.\n",
    "\n",
    "## ```__new__()```:\n",
    "\n",
    "When we instantiate a class the ```__new__()``` magic method is implicitly called first before the ```__init__()``` method. \n",
    "\n",
    "The ```__new__()``` is a static method returns a new object (instance). The reference to this object is actually passed in to ```__init__(self)``` 's self parameter which is used to initialise the instance attributes inside init."
   ]
  },
  {
   "cell_type": "code",
   "execution_count": 9,
   "metadata": {},
   "outputs": [
    {
     "name": "stdout",
     "output_type": "stream",
     "text": [
      "auris\n",
      "A new vehicle from nissan has been made\n",
      "A new vehicle from mercedes has been made\n"
     ]
    }
   ],
   "source": [
    "print(car1.model)  # auris\n",
    "car2 = Vehicle('nissan', 'almera', 2004)  # A new vehicle from nissan has been made\n",
    "car3 = Vehicle('mercedes', 'E-class', '2011')  # A new vehicle from mercedes has been made"
   ]
  },
  {
   "cell_type": "markdown",
   "metadata": {},
   "source": [
    "## ```__del__()```: \n",
    "This is alse called an Object destructor (opposite of constructor). \n",
    "```__del__()``` method will be called by python only when the garbage collection kicks in. And this happens automatically when the reference count of an object becomes zero.\n",
    "\n",
    "To see all the instance attributes and magic methods, uses:"
   ]
  },
  {
   "cell_type": "code",
   "execution_count": 10,
   "metadata": {},
   "outputs": [
    {
     "name": "stdout",
     "output_type": "stream",
     "text": [
      "['__class__', '__delattr__', '__dict__', '__dir__', '__doc__', '__eq__', '__format__', '__ge__', '__getattribute__', '__gt__', '__hash__', '__init__', '__init_subclass__', '__le__', '__lt__', '__module__', '__ne__', '__new__', '__reduce__', '__reduce_ex__', '__repr__', '__setattr__', '__sizeof__', '__str__', '__subclasshook__', '__weakref__', 'make', 'model', 'year']\n"
     ]
    }
   ],
   "source": [
    "print(dir(car3))\n",
    "# '__class__', '__delattr__', '__dict__', '__dir__', '__doc__', '__eq__', '__format__',\n",
    "# '__ge__', '__getattribute__', '__gt__', '__hash__', '__init__', '__init_subclass__',\n",
    "# '__le__', '__lt__', '__module__', '__ne__', '__new__', '__reduce__', '__reduce_ex__',\n",
    "# '__repr__', '__setattr__', '__sizeof__', '__str__', '__subclasshook__', '__weakref__',\n",
    "# 'make', 'model', 'year']"
   ]
  }
 ],
 "metadata": {
  "kernelspec": {
   "display_name": "Python 3",
   "language": "python",
   "name": "python3"
  },
  "language_info": {
   "codemirror_mode": {
    "name": "ipython",
    "version": 3
   },
   "file_extension": ".py",
   "mimetype": "text/x-python",
   "name": "python",
   "nbconvert_exporter": "python",
   "pygments_lexer": "ipython3",
   "version": "3.8.7"
  }
 },
 "nbformat": 4,
 "nbformat_minor": 4
}
