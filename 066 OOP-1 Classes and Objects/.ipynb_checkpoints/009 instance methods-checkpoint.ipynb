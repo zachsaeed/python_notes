{
 "cells": [
  {
   "cell_type": "markdown",
   "metadata": {},
   "source": [
    "# Instance Methods\n",
    "\n",
    "We have already covered how to define a basic class, define the init method and add some instance attributes via that init() method as follows:"
   ]
  },
  {
   "cell_type": "code",
   "execution_count": 11,
   "metadata": {},
   "outputs": [
    {
     "name": "stdout",
     "output_type": "stream",
     "text": [
      "new person object has been made\n",
      "saquib\n",
      "30\n"
     ]
    }
   ],
   "source": [
    "# Class definition\n",
    "class PersonClass:  \n",
    "    \n",
    "    # defining constructor  \n",
    "    def __init__(self, personName, personAge):                \n",
    "        self.name = personName  # instance attribute\n",
    "        self.age = personAge  # instance attribute        \n",
    "        print('new person object has been made')  \n",
    "        \n",
    "# Instantiate an object of type PersonClass\n",
    "person_obj = PersonClass('saquib', 30) \n",
    "\n",
    "# Access the instance's attributes:\n",
    "print(person_obj.name)\n",
    "print(person_obj.age)"
   ]
  },
  {
   "cell_type": "markdown",
   "metadata": {},
   "source": [
    "We can add methods to our instances aswell. This is where OOP gets more useful. \n",
    "\n",
    "> **Note:** An instance method is exactly the same as a python function, except that it's first parameter is 'self' (Just like ```__init__()```).  More about self later\n",
    "\n",
    "We use instance methods for things like processing attributes, perform calculations, access resources etc. For example:"
   ]
  },
  {
   "cell_type": "code",
   "execution_count": 12,
   "metadata": {},
   "outputs": [],
   "source": [
    "class PersonClass2:  # This line marks the beginning of class definition for class ‘Person’.\n",
    "    # defining constructor  \n",
    "    def __init__(self, personName, personAge):  \n",
    "        # defining instance attributes\n",
    "        self.name = personName  \n",
    "        self.age = personAge  \n",
    "    \n",
    "    # defining instance methods  \n",
    "    def showName(self):  # More about self later\n",
    "        print(self.name)\n",
    "        # can also have a return value just like functions.\n",
    "  \n",
    "    def showAge(self):  # More about self later\n",
    "        print(self.age)  \n",
    "    \n",
    "    def returnAgeAfterYears(self, years): # Like normal functions, you can pass arguments and/or return values\n",
    "        return self.age + years\n",
    "    \n",
    "    #end of the class definition  \n",
    "    "
   ]
  },
  {
   "cell_type": "markdown",
   "metadata": {},
   "source": [
    "Again this is similar to when we use objects of python built in types which have instance methods of their own. For example:"
   ]
  },
  {
   "cell_type": "code",
   "execution_count": 13,
   "metadata": {},
   "outputs": [
    {
     "name": "stdout",
     "output_type": "stream",
     "text": [
      "saquib\n",
      "30\n",
      "121\n"
     ]
    }
   ],
   "source": [
    "# Instantiate objects in memory of type PersonClass_2\n",
    "person_obj_2 = PersonClass2('saquib', 30)  \n",
    "\n",
    "# calling instance methods:\n",
    "person_obj_2.showName()\n",
    "person_obj_2.showAge()\n",
    "age_after_91_years = person_obj_2.returnAgeAfterYears(91)\n",
    "print(age_after_91_years)\n"
   ]
  },
  {
   "cell_type": "markdown",
   "metadata": {},
   "source": [
    "## Similar to python's built-in classes/types:\n",
    "\n",
    "Python already has a lot of built in classes. We have already used them by creating their objects and calling their attributes and methods. \n",
    "For example:"
   ]
  },
  {
   "cell_type": "code",
   "execution_count": 15,
   "metadata": {},
   "outputs": [
    {
     "name": "stdout",
     "output_type": "stream",
     "text": [
      "[1, 2, 3, 4, 5, 6, 7, 8, 9]\n",
      "[9, 8, 7, 6, 5, 4, 3, 2, 1]\n"
     ]
    }
   ],
   "source": [
    "# Create a list object \n",
    "my_list = list((1,2,3,4,5,6,7,8,9))  # same as calling  my_list = [1,2,3,4,5,6,7,8,9] which is a shortcut defined internally by python for built-in datatypes\n",
    "print(my_list)\n",
    "my_list.reverse()  # method defined in the list class\n",
    "print(my_list)"
   ]
  },
  {
   "cell_type": "code",
   "execution_count": 17,
   "metadata": {},
   "outputs": [
    {
     "name": "stdout",
     "output_type": "stream",
     "text": [
      "Hello how are you\n",
      "HELLO HOW ARE YOU\n"
     ]
    }
   ],
   "source": [
    "# Create a string object \n",
    "my_string = str('Hello how are you') # same as calling  my_string = 'Hello how are you' which is a shortcut defined internally by python for built-in datatypes\n",
    "print(my_string)\n",
    "print(my_string.upper())  # method defined in the string class\n",
    "\n",
    "# list, str, dic etc are all built in classes in python wwith their own attributes and methods"
   ]
  },
  {
   "cell_type": "code",
   "execution_count": null,
   "metadata": {},
   "outputs": [],
   "source": []
  }
 ],
 "metadata": {
  "kernelspec": {
   "display_name": "Python 3",
   "language": "python",
   "name": "python3"
  },
  "language_info": {
   "codemirror_mode": {
    "name": "ipython",
    "version": 3
   },
   "file_extension": ".py",
   "mimetype": "text/x-python",
   "name": "python",
   "nbconvert_exporter": "python",
   "pygments_lexer": "ipython3",
   "version": "3.8.7"
  }
 },
 "nbformat": 4,
 "nbformat_minor": 4
}
