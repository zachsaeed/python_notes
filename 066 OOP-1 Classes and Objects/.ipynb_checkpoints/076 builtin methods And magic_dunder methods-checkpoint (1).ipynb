{
 "cells": [
  {
   "cell_type": "markdown",
   "metadata": {},
   "source": [
    "When we create an instance/object from a class in python, the object/instance not only contains the attributes and methods we defined in the class but also Magic methods and attributes which are special methods/variables and add  \"magic\" to your class, object or function.\n",
    "\n",
    "Magic methods are not meant to be invoked directly by you, but the invocation happens internally from the class on a certain action. For example, when you add two numbers using the + operator, internally, the __add__() method will be called.\n",
    "\n",
    "Built-in classes in Python define many magic methods too. Use the dir() function to see the number of magic methods inherited by a class.\n",
    "\n",
    "## dir([object]) method\n",
    "The dir() takes maximum of one object.\n",
    "* object (optional) - dir() attempts to return all attributes of this object.\n",
    "* If object is not passed to the dir() method, it returns the list of names in the current local scope.\n",
    "\n",
    "For example, the following lists all the attributes and methods defined in the int class:"
   ]
  },
  {
   "cell_type": "code",
   "execution_count": 1,
   "metadata": {},
   "outputs": [
    {
     "name": "stdout",
     "output_type": "stream",
     "text": [
      "['__abs__', '__add__', '__and__', '__bool__', '__ceil__', '__class__', '__delattr__', '__dir__', '__divmod__', '__doc__', '__eq__', '__float__', '__floor__', '__floordiv__', '__format__', '__ge__', '__getattribute__', '__getnewargs__', '__gt__', '__hash__', '__index__', '__init__', '__init_subclass__', '__int__', '__invert__', '__le__', '__lshift__', '__lt__', '__mod__', '__mul__', '__ne__', '__neg__', '__new__', '__or__', '__pos__', '__pow__', '__radd__', '__rand__', '__rdivmod__', '__reduce__', '__reduce_ex__', '__repr__', '__rfloordiv__', '__rlshift__', '__rmod__', '__rmul__', '__ror__', '__round__', '__rpow__', '__rrshift__', '__rshift__', '__rsub__', '__rtruediv__', '__rxor__', '__setattr__', '__sizeof__', '__str__', '__sub__', '__subclasshook__', '__truediv__', '__trunc__', '__xor__', 'bit_length', 'conjugate', 'denominator', 'from_bytes', 'imag', 'numerator', 'real', 'to_bytes']\n"
     ]
    }
   ],
   "source": [
    "print(dir(int))"
   ]
  },
  {
   "cell_type": "code",
   "execution_count": 2,
   "metadata": {},
   "outputs": [
    {
     "name": "stdout",
     "output_type": "stream",
     "text": [
      "['__class__', '__delattr__', '__dict__', '__dir__', '__doc__', '__eq__', '__format__', '__ge__', '__getattribute__', '__gt__', '__hash__', '__init__', '__init_subclass__', '__le__', '__lt__', '__module__', '__ne__', '__new__', '__reduce__', '__reduce_ex__', '__repr__', '__setattr__', '__sizeof__', '__str__', '__subclasshook__', '__weakref__', 'age', 'name', 'showAge', 'showName']\n"
     ]
    }
   ],
   "source": [
    "class Person:  \n",
    "    \n",
    "    name = \"\"  \n",
    "    age = 0  \n",
    "   \n",
    "    def __init__(self, personName, personAge):  \n",
    "        self.name = personName  \n",
    "        self.age = personAge  \n",
    "   \n",
    "    def showName(self):  \n",
    "        print(self.name)\n",
    "        # can also have a return value just like functions.\n",
    "         \n",
    "  \n",
    "    def showAge(self):  \n",
    "        print(self.age)  \n",
    "\n",
    "person1 = Person(\"John\", 23)  \n",
    "\n",
    "# class:\n",
    "print(dir(Person))   "
   ]
  },
  {
   "cell_type": "code",
   "execution_count": 3,
   "metadata": {},
   "outputs": [
    {
     "name": "stdout",
     "output_type": "stream",
     "text": [
      "['__class__', '__delattr__', '__dict__', '__dir__', '__doc__', '__eq__', '__format__', '__ge__', '__getattribute__', '__gt__', '__hash__', '__init__', '__init_subclass__', '__le__', '__lt__', '__module__', '__ne__', '__new__', '__reduce__', '__reduce_ex__', '__repr__', '__setattr__', '__sizeof__', '__str__', '__subclasshook__', '__weakref__', 'age', 'name', 'showAge', 'showName']\n"
     ]
    }
   ],
   "source": [
    "# object\n",
    "print(dir(person1))"
   ]
  },
  {
   "cell_type": "markdown",
   "metadata": {},
   "source": [
    "As mentioned, Magic methods are not meant to be invoked directly by you. When we call dir\n",
    "* If the object has \\_\\_dir\\_\\_() magic method, the method will be called and must return the list of attributes.\n",
    "* If the object doesn't have \\_\\_dir\\_\\_() method, this method tries to find information from the \\_\\_dict\\_\\_ attribute (if defined), and from type object. In this case, the list returned from dir() may not be complete.\n",
    "\n",
    "# Common Magic Methods\n",
    "The most common magic methods are:\n",
    "This is not a complete list as classes, instances and functions have additional magic attributes/methods\n",
    "\n",
    "(https://rszalski.github.io/magicmethods/#construction)\n",
    "\n",
    "Construction and Initialization:\n",
    "* __new__(cls, other) # Create instance. Discussed in next topic\n",
    "* __init__(self, other)  # Initialises the created instance. Discussed in next topic\n",
    "* __del__(self) # Destructor method called by garbage collector. Discussed ahead\n",
    "\n",
    "## Representing your Classes:\n",
    "# Magic attributes:\n",
    "# __class__  # has the name of the class. Same value as as type(instance)\n",
    "# __name__  # discussed ahead\n",
    "# __doc__  # Returns \"\"\"1st-line\"\"\" defined under class or function def. Discussed ahead\n",
    "\n",
    "# '__init_subclass__',\n",
    "# '__subclasshook__',\n",
    "# '__weakref__'\n",
    "\n",
    "\n",
    "\n",
    "# Magic Methods:\n",
    "# __dir__(self)  # To get called by built-int dir() method to return a list of attributes of a class.\n",
    "# __dict__  # Dictionary if instance attributes. Discussed ahead\n",
    "# __repr__(self)  # Called by built-in repr() method. Discussed ahead\n",
    "# __str__(self)  # Called by built-in str() method. Discussed ahead\n",
    "# __format__(self, formatstr)  # Called by built-in string.format() method. Discussed ahead\n",
    "# __unicode__(self)\n",
    "# __hash__(self)\n",
    "# __nonzero__(self)\n",
    "# __sizeof__(self)\n",
    "\n",
    "# TODO https://rszalski.github.io/magicmethods/#access\n",
    "# Controlling Attribute Access\n",
    "# __getattr__(self, name)\n",
    "# __setattr__(self, name, value)\n",
    "# __delattr__(self, name)\n",
    "# __getattribute__(self, name)\n",
    "\n",
    "# Callable Objects\n",
    "# https://rszalski.github.io/magicmethods/#callable\n",
    "# __call__(self, [args...])  # Create callable instance/object. Discussed ahead\n",
    "\n",
    "# TODO https://rszalski.github.io/magicmethods/#reflection\n",
    "# Reflection\n",
    "# __instancecheck__(self, instance)\n",
    "# __subclasscheck__(self, subclass)\n",
    "\n",
    "# TODO https://rszalski.github.io/magicmethods/#sequence\n",
    "# Making Custom Sequences\n",
    "# __len__(self)\n",
    "# __getitem__(self, key)\n",
    "# __setitem__(self, key, value)\n",
    "# __delitem__(self, key)\n",
    "# __iter__(self)\n",
    "# __reversed__(self)\n",
    "# __contains__(self, item)\n",
    "# __missing__(self, key)\n",
    "\n",
    "\n",
    "# https://rszalski.github.io/magicmethods/#operators\n",
    "# Boolean Operators\n",
    "# __cmp__(self, other)\n",
    "# __eq__(self, other)\n",
    "# __ne__(self, other)\n",
    "# __lt__(self, other)\n",
    "# __gt__(self, other)\n",
    "# __le__(self, other)\n",
    "# __ge__(self, other)\n",
    "\n",
    "# TODO https://docs.python.org/3/howto/descriptor.html\n",
    "# Descriptor object\n",
    "# '__get__',\n",
    "# '__set__',\n",
    "# '__delete__',\n",
    "\n",
    "# TODO https://rszalski.github.io/magicmethods/#copying\n",
    "# Copying\n",
    "# __copy__(self)\n",
    "# __deepcopy__(self, memodict={})\n",
    "\n",
    "# https://rszalski.github.io/magicmethods/#pickling\n",
    "# Pickling\n",
    "# __getinitargs__(self)\n",
    "# __getnewargs__(self)\n",
    "# __getstate__(self)\n",
    "# __setstate__(self, state)\n",
    "# __reduce__(self)\n",
    "# __reduce_ex__(self)\n",
    "\n",
    "\n",
    "\n"
   ]
  },
  {
   "cell_type": "code",
   "execution_count": null,
   "metadata": {},
   "outputs": [],
   "source": []
  }
 ],
 "metadata": {
  "kernelspec": {
   "display_name": "Python 3",
   "language": "python",
   "name": "python3"
  },
  "language_info": {
   "codemirror_mode": {
    "name": "ipython",
    "version": 3
   },
   "file_extension": ".py",
   "mimetype": "text/x-python",
   "name": "python",
   "nbconvert_exporter": "python",
   "pygments_lexer": "ipython3",
   "version": "3.7.4"
  }
 },
 "nbformat": 4,
 "nbformat_minor": 4
}
