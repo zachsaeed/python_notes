{
 "cells": [
  {
   "cell_type": "markdown",
   "metadata": {},
   "source": [
    "# string representation of instance using ```__repr__()``` and  ```__str__()```\n",
    "\n",
    "There are several dunder/magic methods that python uses internaly to return our instances in string format and which one to choose is a bit complicated.\n",
    "\n",
    "For example:"
   ]
  },
  {
   "cell_type": "code",
   "execution_count": 23,
   "metadata": {},
   "outputs": [
    {
     "name": "stdout",
     "output_type": "stream",
     "text": [
      "<__main__.Human object at 0x0000026219ACF7F0>\n",
      "the instance is <__main__.Human object at 0x0000026219ACF7F0>\n"
     ]
    }
   ],
   "source": [
    "class Human:\n",
    "    def __init__(self, name='somebody'):\n",
    "        self.name = name\n",
    "        \n",
    "dude = Human()\n",
    "\n",
    "# print() converts 'dude' into string to print it on screen:\n",
    "print(dude)\n",
    "print(f'the instance is {dude}')"
   ]
  },
  {
   "cell_type": "markdown",
   "metadata": {},
   "source": [
    "## ```__repr__(self)```:\n",
    "We can give our instance a user friendly string representation when it is printed or typecasted to a string by creating a ```__repr__()``` method:\n",
    "\n",
    "Python will automatically call this when our instance is converted into a string:"
   ]
  },
  {
   "cell_type": "code",
   "execution_count": 24,
   "metadata": {},
   "outputs": [
    {
     "name": "stdout",
     "output_type": "stream",
     "text": [
      "Syed Saquib Saeed\n",
      "Syed Saquib Saeed is awesome (probably)\n"
     ]
    }
   ],
   "source": [
    "class Human2:\n",
    "    def __init__(self, name='somebody'):\n",
    "        self.name = name\n",
    "\n",
    "    def __repr__(self):\n",
    "        return self.name\n",
    "\n",
    "\n",
    "saquib = Human2(name=\"Syed Saquib Saeed\")\n",
    "print(str(saquib))\n",
    "print(f\"{saquib} is awesome (probably)\")"
   ]
  },
  {
   "cell_type": "markdown",
   "metadata": {},
   "source": [
    "> **Note:** The built-in repr() method also calls this method"
   ]
  },
  {
   "cell_type": "code",
   "execution_count": 25,
   "metadata": {},
   "outputs": [
    {
     "name": "stdout",
     "output_type": "stream",
     "text": [
      "Syed Saquib Saeed\n"
     ]
    }
   ],
   "source": [
    "print(repr(saquib))"
   ]
  },
  {
   "cell_type": "markdown",
   "metadata": {},
   "source": [
    "> **Note:** If we don’t implement ```__str__()``` function for a class, then str() also calls ```__repr__()``` function."
   ]
  },
  {
   "cell_type": "code",
   "execution_count": 26,
   "metadata": {},
   "outputs": [
    {
     "name": "stdout",
     "output_type": "stream",
     "text": [
      "Syed Saquib Saeed\n"
     ]
    }
   ],
   "source": [
    "print(str(saquib))"
   ]
  },
  {
   "cell_type": "markdown",
   "metadata": {},
   "source": [
    "## ```__str__(self)```\n",
    "This function defines behavior for when 'str()' is called on an instance of your class."
   ]
  },
  {
   "cell_type": "code",
   "execution_count": 27,
   "metadata": {},
   "outputs": [
    {
     "name": "stdout",
     "output_type": "stream",
     "text": [
      "__str__() was called\n"
     ]
    }
   ],
   "source": [
    "class Human3:\n",
    "    def __init__(self, name='somebody'):\n",
    "        self.name = name\n",
    "\n",
    "    def __repr__(self):\n",
    "        return self.name\n",
    "    \n",
    "    def __str__(self):\n",
    "        return '__str__() was called'\n",
    "    \n",
    "saquib = Human3(name=\"Syed Saquib Saeed\")\n",
    "print(str(saquib))    "
   ]
  },
  {
   "cell_type": "code",
   "execution_count": 28,
   "metadata": {},
   "outputs": [
    {
     "name": "stdout",
     "output_type": "stream",
     "text": [
      "Syed Saquib Saeed\n"
     ]
    }
   ],
   "source": [
    "print(repr(saquib))"
   ]
  },
  {
   "cell_type": "markdown",
   "metadata": {},
   "source": [
    "## when to use what\n",
    "The major difference between str() and repr() is intended audience.\n",
    "\n",
    "repr() is intended to produce output that is mostly machine-readable (in many cases, it could be valid Python code even), whereas str() is intended to be human-readable."
   ]
  },
  {
   "cell_type": "markdown",
   "metadata": {},
   "source": [
    "## ```__format__()```"
   ]
  },
  {
   "cell_type": "code",
   "execution_count": 30,
   "metadata": {},
   "outputs": [
    {
     "ename": "AttributeError",
     "evalue": "'Human3' object has no attribute 'format'",
     "output_type": "error",
     "traceback": [
      "\u001b[1;31m---------------------------------------------------------------------------\u001b[0m",
      "\u001b[1;31mAttributeError\u001b[0m                            Traceback (most recent call last)",
      "\u001b[1;32m<ipython-input-30-cba2f86dd206>\u001b[0m in \u001b[0;36m<module>\u001b[1;34m\u001b[0m\n\u001b[1;32m----> 1\u001b[1;33m \u001b[0msaquib\u001b[0m\u001b[1;33m.\u001b[0m\u001b[0mformat\u001b[0m\u001b[1;33m(\u001b[0m\u001b[1;33m)\u001b[0m\u001b[1;33m\u001b[0m\u001b[1;33m\u001b[0m\u001b[0m\n\u001b[0m\u001b[0;32m      2\u001b[0m \u001b[1;33m\u001b[0m\u001b[0m\n\u001b[0;32m      3\u001b[0m \u001b[1;32mclass\u001b[0m \u001b[0mHuman3\u001b[0m\u001b[1;33m:\u001b[0m\u001b[1;33m\u001b[0m\u001b[1;33m\u001b[0m\u001b[0m\n\u001b[0;32m      4\u001b[0m     \u001b[1;32mdef\u001b[0m \u001b[0m__init__\u001b[0m\u001b[1;33m(\u001b[0m\u001b[0mself\u001b[0m\u001b[1;33m,\u001b[0m \u001b[0mname\u001b[0m\u001b[1;33m=\u001b[0m\u001b[1;34m'somebody'\u001b[0m\u001b[1;33m)\u001b[0m\u001b[1;33m:\u001b[0m\u001b[1;33m\u001b[0m\u001b[1;33m\u001b[0m\u001b[0m\n\u001b[0;32m      5\u001b[0m         \u001b[0mself\u001b[0m\u001b[1;33m.\u001b[0m\u001b[0mname\u001b[0m \u001b[1;33m=\u001b[0m \u001b[0mname\u001b[0m\u001b[1;33m\u001b[0m\u001b[1;33m\u001b[0m\u001b[0m\n",
      "\u001b[1;31mAttributeError\u001b[0m: 'Human3' object has no attribute 'format'"
     ]
    }
   ],
   "source": [
    "format(saquib)\n",
    "\n",
    "class Human3:\n",
    "    def __init__(self, name='somebody'):\n",
    "        self.name = name\n",
    "\n",
    "    def __repr__(self):\n",
    "        return self.name\n",
    "    \n",
    "    def __str__(self):\n",
    "        return '__str__() was called'\n",
    "        \n",
    "    def __format__(self, format):\n",
    "        if(format == 'age'):\n",
    "            return '23'\n",
    "        return 'None' \n",
    "    \n",
    "saquib = Human3(name=\"Syed Saquib Saeed\")\n",
    "print(format(saquib, 'age'))"
   ]
  },
  {
   "cell_type": "code",
   "execution_count": null,
   "metadata": {},
   "outputs": [],
   "source": []
  }
 ],
 "metadata": {
  "kernelspec": {
   "display_name": "Python 3",
   "language": "python",
   "name": "python3"
  },
  "language_info": {
   "codemirror_mode": {
    "name": "ipython",
    "version": 3
   },
   "file_extension": ".py",
   "mimetype": "text/x-python",
   "name": "python",
   "nbconvert_exporter": "python",
   "pygments_lexer": "ipython3",
   "version": "3.8.7"
  }
 },
 "nbformat": 4,
 "nbformat_minor": 4
}
