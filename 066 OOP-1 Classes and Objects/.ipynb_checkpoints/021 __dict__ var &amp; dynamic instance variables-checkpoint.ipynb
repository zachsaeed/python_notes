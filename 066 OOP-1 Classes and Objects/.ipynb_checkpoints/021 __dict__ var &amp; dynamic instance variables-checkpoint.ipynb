{
 "cells": [
  {
   "cell_type": "markdown",
   "metadata": {},
   "source": [
    "# instance and class dictionaries\n",
    "\n",
    "Python allows us to use the same identifers/names for instance and class attributes.\n",
    "\n",
    "To keep them separate, instance attributes are stored in the object/instance dictionary whereas static variables are stored in the class dictionary\n",
    "\n",
    "When you try access a variable in a object, Python will look first in the object, if it is not there then it looks in class dict."
   ]
  },
  {
   "cell_type": "code",
   "execution_count": 27,
   "metadata": {},
   "outputs": [],
   "source": [
    "class Test:\n",
    "\n",
    "    # static/class variable: (Note, i is defined in 2 places, As a class and as an instance variable)\n",
    "    i = 'I am a class variable'\n",
    "    j = 'I am the second class variable'\n",
    "\n",
    "    def __init__(self, a, b, c):\n",
    "        # instance variables:\n",
    "        self.i = 'I am an instance variable'\n",
    "        self.a = a\n",
    "        self.b = b\n",
    "        self.c = c\n",
    "\n",
    "    # You can access class variable with self. But, in case you have an instance variable,\n",
    "    # with the same name, you will be accessing the instance variable when you use self as\n",
    "    # it is shadowing the class variable:\n",
    "    def print_j(self):\n",
    "        print(self.j)  # I am the second class variable\n",
    "\n",
    "    def print_i(self):\n",
    "        print(self.i)  # I am an instance variable\n",
    "\n",
    "    def print_static_i(self):\n",
    "        print(Test.i)  # I am a class variable\n"
   ]
  },
  {
   "cell_type": "markdown",
   "metadata": {},
   "source": [
    "## The class dictionary:\n",
    "We can access the class's ```__dict__``` variable to see the class attributes: (As you will learn later, classes themselves are objects)"
   ]
  },
  {
   "cell_type": "code",
   "execution_count": 28,
   "metadata": {},
   "outputs": [
    {
     "name": "stdout",
     "output_type": "stream",
     "text": [
      "{'__module__': '__main__', 'i': 'I am a class variable', 'j': 'I am the second class variable', '__init__': <function Test.__init__ at 0x000001C27E65C1F0>, 'print_j': <function Test.print_j at 0x000001C27E6A3F70>, 'print_i': <function Test.print_i at 0x000001C27E6A3EE0>, 'print_static_i': <function Test.print_static_i at 0x000001C27E6AC1F0>, '__dict__': <attribute '__dict__' of 'Test' objects>, '__weakref__': <attribute '__weakref__' of 'Test' objects>, '__doc__': None}\n"
     ]
    }
   ],
   "source": [
    "print(Test.__dict__)"
   ]
  },
  {
   "cell_type": "markdown",
   "metadata": {},
   "source": [
    "## The instance dictionary:\n",
    "Similarly we can access the object's dictionary to access the instance attributes: "
   ]
  },
  {
   "cell_type": "code",
   "execution_count": 29,
   "metadata": {},
   "outputs": [
    {
     "name": "stdout",
     "output_type": "stream",
     "text": [
      "{'i': 'I am an instance variable', 'a': 1, 'b': 2, 'c': 3}\n"
     ]
    }
   ],
   "source": [
    "test_instance = Test(1, 2, 3)\n",
    "print(test_instance.__dict__)"
   ]
  },
  {
   "cell_type": "markdown",
   "metadata": {},
   "source": [
    "> **Note:** When you try access a variable in a class, it looks for it in the class dictionary howeverwhen you access a variable in an object, Python will first look in the  object dictionary. If it is not there then it looks in class dict."
   ]
  },
  {
   "cell_type": "code",
   "execution_count": 30,
   "metadata": {},
   "outputs": [
    {
     "name": "stdout",
     "output_type": "stream",
     "text": [
      "I am a class variable\n",
      "I am an instance variable\n",
      "I am the second class variable\n",
      "I am an instance variable\n",
      "I am a class variable\n"
     ]
    }
   ],
   "source": [
    "print(Test.i)  # I am a class variable\n",
    "print(test_instance.i)  # I am an instance variable\n",
    "test_instance.print_j()  # I am the second class variable\n",
    "test_instance.print_i()  # I am an instance variable\n",
    "test_instance.print_static_i()  # I am a class variable"
   ]
  },
  {
   "cell_type": "markdown",
   "metadata": {},
   "source": [
    "## Dynamic instance attributes\n",
    "\n",
    "In Python, variables can be created dynamically (directly inside an instance). \n",
    "\n",
    "You can simply assign a value to a new variable:"
   ]
  },
  {
   "cell_type": "code",
   "execution_count": 31,
   "metadata": {},
   "outputs": [
    {
     "name": "stdout",
     "output_type": "stream",
     "text": [
      "{'i': 'I am an instance variable', 'a': 1, 'b': 2, 'c': 3, 'iama_dynamic_instance_attribute': 'Syed Saquib Saeed'}\n"
     ]
    }
   ],
   "source": [
    "test_instance.iama_dynamic_instance_attribute = 'Syed Saquib Saeed'\n",
    "print(test_instance.__dict__)"
   ]
  },
  {
   "cell_type": "markdown",
   "metadata": {},
   "source": [
    "> **Note:** this variable will only exists in this particular instance. You wont see it in the class or any other previous or newly created instance\n",
    "\n",
    "> **IMPORTANT NOTE:** Assigning a value to a class attribute via an instance will also create a new instance attribute with the same name as the class attribute:\n",
    "\n",
    "When we access j via instance and class, it gives us the static j variable"
   ]
  },
  {
   "cell_type": "code",
   "execution_count": 32,
   "metadata": {},
   "outputs": [
    {
     "name": "stdout",
     "output_type": "stream",
     "text": [
      "I am the second class variable\n",
      "I am the second class variable\n"
     ]
    }
   ],
   "source": [
    "print(Test.j)  # I am the second class variable\n",
    "print(test_instance.j)  # I am the second class variable"
   ]
  },
  {
   "cell_type": "markdown",
   "metadata": {},
   "source": [
    "In this method, self points to the class variable:"
   ]
  },
  {
   "cell_type": "code",
   "execution_count": 33,
   "metadata": {},
   "outputs": [
    {
     "name": "stdout",
     "output_type": "stream",
     "text": [
      "I am the second class variable\n"
     ]
    }
   ],
   "source": [
    "test_instance.print_j()   # I am the second class variable"
   ]
  },
  {
   "cell_type": "markdown",
   "metadata": {},
   "source": [
    "However, when we assign a value to j via instance name, it doesnt assign it to the static j variable. Instead, creates a new j instance variable"
   ]
  },
  {
   "cell_type": "code",
   "execution_count": 34,
   "metadata": {},
   "outputs": [
    {
     "name": "stdout",
     "output_type": "stream",
     "text": [
      "I am the second class variable\n",
      "I am a new instance variable\n"
     ]
    }
   ],
   "source": [
    "test_instance.j = 'I am a new instance variable'\n",
    "print(Test.j)  # I am the second class variable\n",
    "print(test_instance.j)  # I am a new instance variable"
   ]
  },
  {
   "cell_type": "markdown",
   "metadata": {},
   "source": [
    "When calling this method again, now self points to the new instance variable:"
   ]
  },
  {
   "cell_type": "code",
   "execution_count": 35,
   "metadata": {},
   "outputs": [
    {
     "name": "stdout",
     "output_type": "stream",
     "text": [
      "I am a new instance variable\n"
     ]
    }
   ],
   "source": [
    "test_instance.print_j()   # I am a new instance variable"
   ]
  },
  {
   "cell_type": "markdown",
   "metadata": {},
   "source": [
    "Eventually, you will learn that Python classes are instances and therefore objects themselves, which gives new insight to understanding the above."
   ]
  },
  {
   "cell_type": "code",
   "execution_count": null,
   "metadata": {},
   "outputs": [],
   "source": []
  }
 ],
 "metadata": {
  "kernelspec": {
   "display_name": "Python 3",
   "language": "python",
   "name": "python3"
  },
  "language_info": {
   "codemirror_mode": {
    "name": "ipython",
    "version": 3
   },
   "file_extension": ".py",
   "mimetype": "text/x-python",
   "name": "python",
   "nbconvert_exporter": "python",
   "pygments_lexer": "ipython3",
   "version": "3.8.7"
  }
 },
 "nbformat": 4,
 "nbformat_minor": 4
}
