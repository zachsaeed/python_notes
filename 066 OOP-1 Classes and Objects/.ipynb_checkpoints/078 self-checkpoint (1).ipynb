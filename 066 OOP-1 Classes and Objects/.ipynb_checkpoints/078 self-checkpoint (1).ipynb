{
 "cells": [
  {
   "cell_type": "markdown",
   "metadata": {},
   "source": [
    "We have already seen that when we create an instance, we access the members (attributes/methods) of that instance using the '.' operator.\n",
    "\n",
    "Example:"
   ]
  },
  {
   "cell_type": "code",
   "execution_count": 5,
   "metadata": {},
   "outputs": [],
   "source": [
    "class Person:    \n",
    "    \n",
    "    def __init__(self, name):\n",
    "        self.an_instance_var = name  # this line creates an instance attributae called an_instance_var and assigns it the value of name\n",
    "        \n",
    "    def an_instance_method(self):\n",
    "        print(\"name is:\"+ self.an_instance_var)\n",
    "        \n",
    "    def self_is_same_as_instance(self, instance):\n",
    "        print(self is instance) # check 'self' and 'instance' refer to the same variable   \n",
    "        \n",
    "    def method_with_local_variable(self, name):        \n",
    "        an_instance_var = name\n",
    "        # this method has 2 local variables, name and an_instance_var\n",
    "        print(an_instance_var)  # refers to the local 'an_instance_var'\n",
    "        print(self.an_instance_var)  # refers to the instance's 'an_instance_var'"
   ]
  },
  {
   "cell_type": "markdown",
   "metadata": {},
   "source": [
    "We now create an instance of the class and then access it's members using the . operator:"
   ]
  },
  {
   "cell_type": "code",
   "execution_count": 6,
   "metadata": {},
   "outputs": [
    {
     "name": "stdout",
     "output_type": "stream",
     "text": [
      "name is:saquib\n",
      "saquib\n"
     ]
    }
   ],
   "source": [
    "person_instance = Person('saquib')\n",
    "\n",
    "person_instance.an_instance_method()  # we access the instance's method\n",
    "print(person_instance.an_instance_var)  # we access the instance's attribute"
   ]
  },
  {
   "cell_type": "markdown",
   "metadata": {},
   "source": [
    "# Should we pass self to a method?:\n",
    "\n",
    "As shown above, instance method definitions inside a class always have the first parameter as 'self':\n",
    "```python\n",
    " def an_instance_method(self):\n",
    "        print(\"name is:\"+ self.an_instance_var)\n",
    "```        \n",
    "\n",
    "However, when we create an instance and call the istance methods, we do not pass the 'self' paramater. \n",
    "```python\n",
    "person_instance.an_instance_method() \n",
    "```\n",
    "This is because, when instance methods are called after instantiation, the self argument is automatically passed in by python, and doesnt need to be passed in explicitly.\n",
    "\n",
    "# What does self contain?:\n",
    "This 'self' parameter refers to the object/instance itself and it makes it easy for us to use the same '.' operator notation to access the instance's members from inside ie in the code above, 'self' and 'person_instance' are the same. \n",
    "Therefore, outside of the instance we use:\n",
    "```python\n",
    "person_instance.an_instance_method()\n",
    "person_instance.an_instance_var\n",
    "```\n",
    "whereas, inside the instance, we use\n",
    "```python\n",
    "self.an_instance_method()\n",
    "self.an_instance_var\n",
    "```\n",
    "# Proof that self and instance are same:\n",
    "The followng line proves that 'self' and 'person_instance' are the same (see the method's code):"
   ]
  },
  {
   "cell_type": "code",
   "execution_count": 7,
   "metadata": {},
   "outputs": [
    {
     "name": "stdout",
     "output_type": "stream",
     "text": [
      "True\n"
     ]
    }
   ],
   "source": [
    "person_instance.self_is_same_as_instance(person_instance)"
   ]
  },
  {
   "cell_type": "markdown",
   "metadata": {},
   "source": [
    "# Is self a keyword?\n",
    "Python automatially passes the reference to the instance itself as the firt parameter of an instance method therefore, we can call it anything we want. We just call it 'self' as per connvention and good practice."
   ]
  },
  {
   "cell_type": "markdown",
   "metadata": {},
   "source": [
    "# If we dont use self to refer to instance variables:\n",
    "In a method's body, if we don't use self with a variable name, that variable is simply existent only while that method is running and hence, is local to that method. The local variable can even have the same name as the instance variable. See the code for the following methods:"
   ]
  },
  {
   "cell_type": "code",
   "execution_count": 8,
   "metadata": {},
   "outputs": [
    {
     "name": "stdout",
     "output_type": "stream",
     "text": [
      "Rida\n",
      "saquib\n",
      "Rida\n",
      "saquib\n"
     ]
    }
   ],
   "source": [
    "person_instance.method_with_local_variable('Rida')\n",
    "# Rida\n",
    "# Saquib\n",
    "\n",
    "person_instance.method_with_local_variable('Rida')\n",
    "# Rida\n",
    "# Saquib"
   ]
  }
 ],
 "metadata": {
  "kernelspec": {
   "display_name": "Python 3",
   "language": "python",
   "name": "python3"
  },
  "language_info": {
   "codemirror_mode": {
    "name": "ipython",
    "version": 3
   },
   "file_extension": ".py",
   "mimetype": "text/x-python",
   "name": "python",
   "nbconvert_exporter": "python",
   "pygments_lexer": "ipython3",
   "version": "3.7.4"
  }
 },
 "nbformat": 4,
 "nbformat_minor": 4
}
