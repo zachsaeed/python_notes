{
 "cells": [
  {
   "cell_type": "markdown",
   "metadata": {},
   "source": [
    "# print()\n",
    "The print method is used to print data to the screen\n",
    "\n",
    "Example:"
   ]
  },
  {
   "cell_type": "code",
   "execution_count": 2,
   "metadata": {},
   "outputs": [
    {
     "name": "stdout",
     "output_type": "stream",
     "text": [
      "Hello World\n"
     ]
    }
   ],
   "source": [
    "print('Hello World')"
   ]
  },
  {
   "cell_type": "markdown",
   "metadata": {},
   "source": [
    "Now the above example is required when you are within an IDE. If you are running your Python code on the command line, you don’t even need to use print.\n",
    "```console\n",
    "$ my-folder: python3\n",
    "Python 3.6.5 (v3.6.5:f59c0932b4, Mar 28 2018, 03:03:55)\n",
    "[GCC 4.2.1 (Apple Inc. build 5666) (dot 3)] on darwin\n",
    "Type \"help\", \"copyright\", \"credits\" or \"license\" for more information.\n",
    ">>> 'Hello World'\n",
    "'Hello World'\n",
    "```\n",
    "\n",
    "## sys.stdout.write\n",
    "Print by default provides an interface to the standard output(sys.stdout) object. When you use print, you are asking your Python interpreter to echo your message to standard output. For example, you can also print a message, without using print."
   ]
  },
  {
   "cell_type": "code",
   "execution_count": 4,
   "metadata": {},
   "outputs": [
    {
     "name": "stdout",
     "output_type": "stream",
     "text": [
      "Hello World"
     ]
    }
   ],
   "source": [
    "sys.stdout.write('Hello World')"
   ]
  },
  {
   "cell_type": "markdown",
   "metadata": {},
   "source": [
    "You use the write() method in sys.stdout to output your message to the standard output stream. Print is just easier to use and comprehend.\n",
    "\n",
    "## General Syntax of Print\n",
    "Let’s look at the general syntax of print in Python.\n",
    "\n",
    "```python\n",
    "print(*objects, sep=' ', end='\\n', file=sys.stdout, flush=False)\n",
    "```\n",
    "Python converts the objects into strings(if they are not strings) and then writes to the standard output stream.\n",
    "\n",
    "## Printing multiple elements\n",
    "We can use print to write multiple elements in a single line."
   ]
  },
  {
   "cell_type": "code",
   "execution_count": 5,
   "metadata": {},
   "outputs": [
    {
     "name": "stdout",
     "output_type": "stream",
     "text": [
      "Python 3 Rocks\n"
     ]
    }
   ],
   "source": [
    "print('Python', 3, 'Rocks')"
   ]
  },
  {
   "cell_type": "markdown",
   "metadata": {},
   "source": [
    "Print adds a space between each object before writing it to the standard output. In the general syntax, you can see a sep (separator) parameter. It has been set to ' ' as default.\n",
    "\n",
    "That being said, you can easily pass in a different value to the sep argument in Python 3. For e.g."
   ]
  },
  {
   "cell_type": "code",
   "execution_count": 6,
   "metadata": {},
   "outputs": [
    {
     "name": "stdout",
     "output_type": "stream",
     "text": [
      "Python|3|Rocks\n"
     ]
    }
   ],
   "source": [
    "print('Python', 3, 'Rocks', sep='|')"
   ]
  },
  {
   "cell_type": "markdown",
   "metadata": {},
   "source": [
    "## Printing to a newline\n",
    "Check out this example code."
   ]
  },
  {
   "cell_type": "code",
   "execution_count": 7,
   "metadata": {},
   "outputs": [
    {
     "name": "stdout",
     "output_type": "stream",
     "text": [
      "Python 3 Rocks\n",
      "I love Python\n"
     ]
    }
   ],
   "source": [
    "print('Python', 3, 'Rocks')\n",
    "print('I love Python')"
   ]
  },
  {
   "cell_type": "markdown",
   "metadata": {},
   "source": [
    "When you have multiple print statements, Python by default prints it to a newline. This is because there is a keyword argument called 'end' with the default value set to '\\n' (end='\\n')\n",
    "\n",
    "However, you can change this default behavior.\n",
    "\n",
    "To print multiple expressions to the same line, you can set the 'end' parameter to a whitespace character string."
   ]
  },
  {
   "cell_type": "code",
   "execution_count": 8,
   "metadata": {},
   "outputs": [
    {
     "name": "stdout",
     "output_type": "stream",
     "text": [
      "Python 3 Rocks I love Python\n"
     ]
    }
   ],
   "source": [
    "print('Python', 3, 'Rocks', end=' ')\n",
    "print('I love Python')"
   ]
  },
  {
   "cell_type": "markdown",
   "metadata": {},
   "source": [
    "You do have the added flexibility of changing the end paramter to anything you want. For e.g."
   ]
  },
  {
   "cell_type": "code",
   "execution_count": null,
   "metadata": {},
   "outputs": [],
   "source": [
    "print('Python', 3, 'Rocks', end='*')\n",
    "print('I love Python')"
   ]
  },
  {
   "cell_type": "markdown",
   "metadata": {},
   "source": [
    "Watch how I use an asterisk(*) value for my end parameter. \n",
    "\n",
    "## Printing to a file\n",
    "You can also write your message to a file using print in Python. For this purpose, we can use the file argument."
   ]
  },
  {
   "cell_type": "code",
   "execution_count": 9,
   "metadata": {},
   "outputs": [],
   "source": [
    "print('Hello World', file=open('016 print.txt', 'w'))"
   ]
  },
  {
   "cell_type": "markdown",
   "metadata": {},
   "source": [
    "In the above example, the message is written to a file called '016 print.txt'. Notice the use of open in order to save the messages to the file.\n",
    "\n",
    "So if you want to send your messages to any other place other than the standard output, make sure to provide a file object that has a write method to it.\n",
    "\n",
    "## Flushing\n",
    "This is probably one of the most ignored concepts. Probably because we don’t see any direct impact while we are printing. But it is an important concept.\n",
    "\n",
    "Usually Python buffers the messages that you want to print until it gets a newline(\\n).\n",
    "\n",
    "Let’s see this through an example. Instead of the the default value for the end parameter (\\n), we are going to leave it empty."
   ]
  },
  {
   "cell_type": "code",
   "execution_count": 5,
   "metadata": {},
   "outputs": [
    {
     "name": "stdout",
     "output_type": "stream",
     "text": [
      "Will it get printed immediately?"
     ]
    }
   ],
   "source": [
    "from time import sleep\n",
    "\n",
    "print('Will it get printed immediately?', end='')\n",
    "sleep(5)"
   ]
  },
  {
   "cell_type": "markdown",
   "metadata": {},
   "source": [
    "When you run the above snippet, the print message will only show up after the 5 seconds of sleep is over. Why? because print expects a \\n or a newline at the end of every print statement. Hence, your message is in buffer.\n",
    "\n",
    "Using the flush argument in Python 3, you can directly print the message to the standard output stream without having to wait for the sleep time to finish.\n",
    "\n",
    "Try this out."
   ]
  },
  {
   "cell_type": "code",
   "execution_count": 3,
   "metadata": {},
   "outputs": [
    {
     "name": "stdout",
     "output_type": "stream",
     "text": [
      "Will it get printed immediately?"
     ]
    }
   ],
   "source": [
    "from time import sleep\n",
    "\n",
    "print('Will it get printed immediately?', end='', flush=True)\n",
    "sleep(5)"
   ]
  },
  {
   "cell_type": "markdown",
   "metadata": {},
   "source": [
    "# input([prompt])\n",
    "The input function is used to get user input which can then be processed in our code.\n",
    "\n",
    "If the prompt argument is present, it is written to standard output without a trailing newline. The function then reads a line from input, converts it to a string (stripping a trailing newline), and returns that. When EOF is read, EOFError is raised. Example:"
   ]
  },
  {
   "cell_type": "code",
   "execution_count": null,
   "metadata": {},
   "outputs": [],
   "source": [
    "s = input('Enter input: ')  \n",
    "print(s)  "
   ]
  },
  {
   "cell_type": "markdown",
   "metadata": {},
   "source": [
    "If the readline module was loaded, then input() will use it to provide elaborate line editing and history features.    "
   ]
  }
 ],
 "metadata": {
  "kernelspec": {
   "display_name": "Python 3",
   "language": "python",
   "name": "python3"
  },
  "language_info": {
   "codemirror_mode": {
    "name": "ipython",
    "version": 3
   },
   "file_extension": ".py",
   "mimetype": "text/x-python",
   "name": "python",
   "nbconvert_exporter": "python",
   "pygments_lexer": "ipython3",
   "version": "3.7.4"
  }
 },
 "nbformat": 4,
 "nbformat_minor": 4
}
