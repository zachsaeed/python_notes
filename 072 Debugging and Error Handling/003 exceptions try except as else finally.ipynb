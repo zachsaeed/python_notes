{
 "cells": [
  {
   "cell_type": "markdown",
   "metadata": {},
   "source": [
    "# Python Exception Handling\n",
    "\n",
    "Basically, exception means something that is not expected. In real life, we are not interested to deal with exceptions. So there goes a proverb, “Exception is not an example”. But when we write programs, we have to think about exceptional cases. For example, if your user entered a string object while you were expecting an integer object as input, it will raise an exception.\n",
    "\n",
    "Exception hampers normal program flows. If any exception happens, the programmer needs to handle that. Therefore, we are going to learn exception handling in upcoming sections.\n",
    "\n",
    "# Some Built-in Python Exceptions\n",
    "\n",
    "The builtins module defines a lot of exceptions. List can be seen in the builtins lecture. Some of them are described below:\n",
    "\n",
    "* **Exception:** This is the base class for all kind of the exceptions. All kind of exceptions should be derived from this class\n",
    "* **ArithmeticError:** This is the base class for the exception raised for any arithmetic errors.\n",
    "* **EOFError:** This exception raise when input() function read End-of-File without reading any data.\n",
    "* **ZeroDivisionError:** This exception raise when the second argument of a division or modulo operation is zero\n",
    "* **AssertionError:** This exception raise when an assert statement fails.\n",
    "* **FloatingPointError:** This exception raise when a floating point operation fails.\n",
    "* **KeyError:** Occurs with dictionaries. When you try to access a key which doesnt exist\n",
    "* **KeyboardInterrupt:** This exception raise when the user hits the interrupt key (normally Control-C or Delete). During execution, a check for interrupts is made regularly.\n",
    "* **SyntaxError:** Occurs when python encounters incorrect syntax / typo (Something it cannot parse)\n",
    "* **NameError:** Occurs when a variable is not defined ie it has not been assigned before its use\n",
    "* **TypeError:** Mismatch of datatype, when operations functions are applied to the wrong type\n",
    "* **ValueError:** Occurs when a built-in operation or function receives an argument that has the right type but inappropriate value\n",
    "* **IndexError:** Occurs when you try to access an element in a list/String using an invalid index (ie One that is outside the rage of the list or string)\n",
    "* **AttributeError:** When trying to access an object attribute that doesnt exist.\n",
    "\n",
    "Besides, you can find the list of all Built-in Exception in their official site.\n",
    "\n",
    "# Python try except\n",
    "In our python code, some statements may raise one or more types of exceptions, which halts the execution and shows an error message. We can handle the errors within the code to catch and handle the error and\n",
    "continue execution using the try-except (catch) bloc. \n",
    "\n",
    "We do this by surrounding those statements with a try-except-else block. For example, we will now raise an exception by our code. The following code will raise IndexError Exception."
   ]
  },
  {
   "cell_type": "code",
   "execution_count": null,
   "metadata": {},
   "outputs": [],
   "source": [
    "name = 'Imtiaz Abedin'\n",
    "print(name[15])\n",
    "\n",
    "print('This will not print')"
   ]
  },
  {
   "cell_type": "markdown",
   "metadata": {},
   "source": [
    "Because the size of the string type object ‘name’ is less than 15 and we are trying to access the index no 15. Note, the second print statement is not executed after the exception is raised and the program halts with the error message. We can handle this exception as follows:"
   ]
  },
  {
   "cell_type": "code",
   "execution_count": null,
   "metadata": {},
   "outputs": [],
   "source": [
    "name = 'Imtiaz Abedin'\n",
    "try:\n",
    "   print(name[15])\n",
    "except IndexError:\n",
    "   print('IndexError has been found!')\n",
    "\n",
    "print('This will be printed print.')"
   ]
  },
  {
   "cell_type": "markdown",
   "metadata": {},
   "source": [
    "So, you can see from the above two examples that exception should be handled to avoid the program crash. In our first example, the last print statement was not executed because the program found exception before that. You can see that try except keywords are used for exception handling.\n",
    "\n",
    "# Basic Structure of Python Exception Handling (try, except, as, else, finally)\n",
    "In this section, we will discuss the structure for handling exceptions using the example below:"
   ]
  },
  {
   "cell_type": "code",
   "execution_count": null,
   "metadata": {},
   "outputs": [],
   "source": [
    "name = 'Imtiaz Abedin'\n",
    "try:\n",
    "   # Write the suspicious block of code\n",
    "   print(name[15])\n",
    "except AssertionError:  # Catch a single exception\n",
    "   # This block will be executed if exception A is caught\n",
    "   print('AssertionError')\n",
    "except (EnvironmentError, SyntaxError, NameError) as err:  # catch multiple exception\n",
    "   # This block will be executed if any of the exception B, C or D is caught.\n",
    "   # We can use 'as' to catch the actual ErrorObject in a variable called 'err' which we can then access \n",
    "   print(err)\n",
    "except :\n",
    "   print('Exception')\n",
    "   # This block will be executed if any other exception other than A, B, C or D is caught.\n",
    "   # It acts as a fallback in this scenario, if we are not able to identify what went wrong (ie none of the\n",
    "   # previous excepts are entered), we can handle it here accordingly.\n",
    "   # Highly discouraged to use only 'try:-except:' to catch all errors \n",
    "else:\n",
    "   # If no exception is caught, this block will be executed\n",
    "   pass\n",
    "finally:\n",
    "   # This block will always be executed and it is a must!.  \n",
    "   # It is generally used to deallocate the system resources.\n",
    "   pass\n",
    "\n",
    "# this line is not related to the try-except block\n",
    "print('This will be printed.')"
   ]
  },
  {
   "cell_type": "markdown",
   "metadata": {},
   "source": [
    "Here you can see that, \n",
    "1. we use except keyword in different style. The first except keyword is used to catch only one exception that is AssertionError exception.\n",
    "2. However, the second except keyword is used to catch multiple exceptions, as you see.\n",
    "3. We can use 'as' to catch the actual ErrorObject in a variable which we can then access \n",
    "4. If you use except keyword without mentioning any specific exception, it will catch any exception that is raised by the program.\n",
    "5. The else block will be executed if no exception is found. \n",
    "6. Lastly, whether any exception is caught or not, the finally block will be executed. If an exception is not handled by an except block, it is re-raised after execution of finally block.\n",
    "\n",
    "# Python Exception Handling Important Points\n",
    "\n",
    "For undergoing a professional python project you need to be careful about exceptions. A simple exception can ruin your code. So, you need to handle those exceptions. A few important points about handling exceptions are given below.\n",
    "\n",
    "It is better to surround the suspicious code with try-except.\n",
    "Using one try-except block for each line of suspicious code is better than using one try-except block for several  lines (block) of suspicious code.\n",
    "It is better to catch specific exception class. Using generalized exception class is not that useful for unique handling according to the nature of the errors.\n",
    "\n",
    "# Throwing Exceptions\n",
    "We can create and raise/throw our own exceptions aswell. There are 2 ways to do it:\n",
    "\n",
    "## 1. Using assert statement\n",
    "We can create an assert statement which will create and throw an AssertionError if a certain condition is not met. \n",
    "Example, Suppose you wrote a function where you take age as an argument. You don’t want to let programmers use the function if the age is less the 18. So the function would be:"
   ]
  },
  {
   "cell_type": "code",
   "execution_count": null,
   "metadata": {},
   "outputs": [],
   "source": [
    "def input_age(age):\n",
    "   try:\n",
    "       assert int(age) > 18\n",
    "   except ValueError:\n",
    "       return 'ValueError: Cannot convert into int'\n",
    "   else:\n",
    "       return 'Age is saved successfully'\n",
    "\n",
    "\n",
    "print(input_age('23'))  # This will print\n",
    "print(input_age(25))  # This will print\n",
    "print(input_age('nothing'))  # This will raise ValueError which is handled\n",
    "print(input_age('18'))  # This will raise AssertionError and the the program collapse\n",
    "print(input_age(43))  # This will not print"
   ]
  },
  {
   "cell_type": "markdown",
   "metadata": {},
   "source": [
    "## 2. Raising an Exception:\n",
    "We can also raise exceptions using the raise keyword and then the name of the exception. If we modify the previous code, we get"
   ]
  },
  {
   "cell_type": "code",
   "execution_count": null,
   "metadata": {},
   "outputs": [],
   "source": [
    "def input_age(age):\n",
    "   try:\n",
    "       if(int(age)<=18):\n",
    "           raise ZeroDivisionError\n",
    "   except ValueError:\n",
    "       return 'ValueError: Cannot convert into int'\n",
    "   else:\n",
    "       return 'Age is saved successfully'\n",
    "\n",
    "\n",
    "print(input_age('23'))  # This will execute properly\n",
    "print(input_age('18'))  # This will not execute properly"
   ]
  },
  {
   "cell_type": "markdown",
   "metadata": {},
   "source": [
    "Even tough, the exception was not due to divide by zero, we still see ZeroDivisionError, as thats what we raised.\n",
    "\n",
    "> **Note:** Using just raise:\n",
    "> You can throw or raise an exception whenever it is needed (Even in the absence of the try block) for example, You can do it simply by calling ```python raise Exception(‘Test error!’)``` from your code.\n",
    "> Once raised, the exception will stop the current execution as usual and will go further up in the call stack until handled.\n",
    "\n",
    "# Custom Exception Class\n",
    "Python allow programmers to create their own exception class. All custom exception classess should be derived from the 'Exception' class, either directly or indirectly. \n",
    "\n",
    "In the following example, we create custom exception class UnderAge that is derived from the base class Exception. We then raise the UnderAge exception if the condition is not met under the 'verify_age' method."
   ]
  },
  {
   "cell_type": "code",
   "execution_count": null,
   "metadata": {},
   "outputs": [],
   "source": [
    "class UnderAge(Exception):\n",
    "   pass\n",
    "\n",
    "def verify_age(age):\n",
    "   if int(age) < 18:\n",
    "       raise UnderAge\n",
    "   else:\n",
    "       print('Age: '+str(age))\n",
    "\n",
    "# main program\n",
    "verify_age(23)  # won't raise exception\n",
    "verify_age(17)  # will raise exception"
   ]
  },
  {
   "cell_type": "code",
   "execution_count": null,
   "metadata": {},
   "outputs": [],
   "source": []
  }
 ],
 "metadata": {
  "kernelspec": {
   "display_name": "Python 3",
   "language": "python",
   "name": "python3"
  },
  "language_info": {
   "codemirror_mode": {
    "name": "ipython",
    "version": 3
   },
   "file_extension": ".py",
   "mimetype": "text/x-python",
   "name": "python",
   "nbconvert_exporter": "python",
   "pygments_lexer": "ipython3",
   "version": "3.8.7"
  }
 },
 "nbformat": 4,
 "nbformat_minor": 4
}
