{
 "cells": [
  {
   "cell_type": "markdown",
   "id": "464ab923-1962-4c76-ac7c-94bf8b112a35",
   "metadata": {},
   "source": [
    "# Decorators with other parameters (besides fn)\n",
    "\n",
    "We can pass other arguments (besides fn) to decorators aswell.\n",
    "Essentially its a multilayer process. We need an extra layer of function because of the argument we are trying to pass in.\n",
    "\n",
    "The following code ensures that the first argument is something specific which we can specify in the decorator"
   ]
  },
  {
   "cell_type": "code",
   "execution_count": 9,
   "id": "9ae5a3f8-b98b-47a3-b93f-d87a4c4a07cd",
   "metadata": {},
   "outputs": [
    {
     "name": "stdout",
     "output_type": "stream",
     "text": [
      "('burrito', 'ice cream')\n"
     ]
    }
   ],
   "source": [
    "from functools import wraps\n",
    "\n",
    "\n",
    "def ensure_first_arg_is(val):\n",
    "    def inner(fn):  # This is the actual decorator\n",
    "        @wraps(fn)\n",
    "        def wrapper(*args, **kwargs):\n",
    "            if args and args[0] != val:\n",
    "                return f\"Invalid! First arg needs to be {val}\"\n",
    "            return fn(*args, **kwargs)\n",
    "        return wrapper\n",
    "    return inner\n",
    "\n",
    "\n",
    "@ensure_first_arg_is(\"burrito\")\n",
    "def fav_foods(*foods):\n",
    "    return foods\n",
    "\n",
    "\n",
    "print(fav_foods(\"burrito\", \"ice cream\"))  "
   ]
  },
  {
   "cell_type": "code",
   "execution_count": 10,
   "id": "f88e9953-4b0a-4ffa-8155-6c7b103eac50",
   "metadata": {},
   "outputs": [
    {
     "name": "stdout",
     "output_type": "stream",
     "text": [
      "Invalid! First arg needs to be burrito\n"
     ]
    }
   ],
   "source": [
    "print(fav_foods(\"ice cream\", \"burrito\")) "
   ]
  },
  {
   "cell_type": "code",
   "execution_count": 11,
   "id": "6197debb-b80c-4590-96fe-f708b5f2ee8a",
   "metadata": {},
   "outputs": [
    {
     "name": "stdout",
     "output_type": "stream",
     "text": [
      "22\n"
     ]
    }
   ],
   "source": [
    "@ensure_first_arg_is(10)\n",
    "def add_to_ten(num1, num2):\n",
    "    return num1 + num2\n",
    "\n",
    "\n",
    "print(add_to_ten(10, 12))  "
   ]
  },
  {
   "cell_type": "code",
   "execution_count": 18,
   "id": "ba2249db-de06-45ce-a950-48a41d512a45",
   "metadata": {},
   "outputs": [
    {
     "name": "stdout",
     "output_type": "stream",
     "text": [
      "Invalid! First arg needs to be 10\n"
     ]
    }
   ],
   "source": [
    "print(add_to_ten(1, 2)) "
   ]
  },
  {
   "cell_type": "markdown",
   "id": "b173b9fe-a58f-48d2-82b9-c2a9bd2a0bd6",
   "metadata": {},
   "source": [
    "What we are really doing is:\n",
    "\n",
    "```func = decorator_with_args(arg)(func)```\n",
    "\n",
    "where decorator_with_args(arg) returns inner\n",
    "and then inner(func) is called which returns the wrapper\n",
    "\n",
    "Example:\n",
    "Here, we create a decoator that enforces what argument datatypes are allowed when a function is called"
   ]
  },
  {
   "cell_type": "code",
   "execution_count": 17,
   "id": "3c79110b-4385-47e1-a035-48fa1132ea4f",
   "metadata": {},
   "outputs": [
    {
     "name": "stdout",
     "output_type": "stream",
     "text": [
      "hello\n",
      "hello\n",
      "hello\n",
      "hello\n",
      "hello\n",
      "0.25\n"
     ]
    }
   ],
   "source": [
    "def enforce(*types):  # Decorator that takes any number of arguments\n",
    "    def decorator(f):  # Actual decorator (inner function) as we need argument support for our decorator\n",
    "        def new_func(*args, **kwargs):  # wrapper function\n",
    "            # convert args into something mutable\n",
    "            newargs = []\n",
    "            for (a, t) in zip(args, types):\n",
    "                # feel free to have more elaborated conversion:\n",
    "                newargs.append(t(a))  # cast each argument with type.\n",
    "            return f(*newargs, **kwargs)\n",
    "        return new_func\n",
    "    return decorator\n",
    "\n",
    "\n",
    "@enforce(str, int)\n",
    "def repeat_msg(msg, times):\n",
    "    for time in range(times):\n",
    "        print(msg)\n",
    "\n",
    "\n",
    "@enforce(float, float)\n",
    "def divide(a, b):\n",
    "    print(a / b)\n",
    "\n",
    "\n",
    "repeat_msg(\"hello\", '5')\n",
    "divide('1', '4')"
   ]
  },
  {
   "cell_type": "code",
   "execution_count": null,
   "id": "8238c29a-8949-4202-ae42-af1c96c1084a",
   "metadata": {},
   "outputs": [],
   "source": []
  }
 ],
 "metadata": {
  "kernelspec": {
   "display_name": "Python 3 (ipykernel)",
   "language": "python",
   "name": "python3"
  },
  "language_info": {
   "codemirror_mode": {
    "name": "ipython",
    "version": 3
   },
   "file_extension": ".py",
   "mimetype": "text/x-python",
   "name": "python",
   "nbconvert_exporter": "python",
   "pygments_lexer": "ipython3",
   "version": "3.9.6"
  }
 },
 "nbformat": 4,
 "nbformat_minor": 5
}
