{
 "cells": [
  {
   "cell_type": "markdown",
   "id": "5c7384ef-b548-4014-822e-6b3fa3e630a1",
   "metadata": {},
   "source": [
    "# Class based decorators\n",
    "\n",
    "We will now see how we can use classes to decorate functions and extend their functionality. But before we do, we will have to see what the ```__call__()``` dunder function does.\n",
    "\n",
    "## ```__call__()``` dunder function\n",
    "- The ```__call__()``` method enables Python programmers to write classes where the instances behave like functions and can be called like a function. - FOr example, when the instance 'x' is called as a function; if this method is defined, x(arg1, arg2, ...), it's a shorthand for x.```__call__```(arg1, arg2, ...). ie instance() is shorthand for instance.```__call__```()\n",
    "\n",
    "For example:"
   ]
  },
  {
   "cell_type": "code",
   "execution_count": null,
   "id": "51ea440a-f408-47f2-bf56-3e4edc210288",
   "metadata": {},
   "outputs": [],
   "source": [
    "class Example:\n",
    "    def __init__(self):\n",
    "        print(\"Instance Created\")\n",
    "      \n",
    "    # Defining __call__ method\n",
    "    def __call__(self):\n",
    "        print(\"Instance is called via special method\")\n",
    "  \n",
    "# Instance created\n",
    "e = Example()\n",
    "  \n",
    "# __call__ method will be called\n",
    "e()"
   ]
  },
  {
   "cell_type": "markdown",
   "id": "785d6de9-9aa0-482c-8e71-b9d5a0061823",
   "metadata": {},
   "source": [
    "- In class based decorators, we use the '@' syntax like before but followed by the decorator class name instead of a function.\n",
    "- Following convention, we will use camel-case for our class name. \n",
    "- In the class definition, we define two methods: \n",
    "1. the init constructor and \n",
    "2. the magic (or dunder) call method.\n",
    "\n",
    "- When we decorate a function with a class, the function is automatically passed as the first argument to the init constructor.  \n",
    "- By defining the __call__() method, we can call we call the function like you could with the original function. \n",
    "\n",
    "- In the call method, which requires two arguments (specified because our original multiply together function required two arguments), we call the multiply together function with these two arguments. This function has been set as self._arg in the object.attribute syntax below. We call this function with two values passed and save the returned value to the variable retval. Finally, we square retval and return the value.\n",
    "\n",
    "\n",
    "Basic syntax:"
   ]
  },
  {
   "cell_type": "code",
   "execution_count": 6,
   "id": "bb55cc6f-4e39-4060-b615-5758085e1ff1",
   "metadata": {},
   "outputs": [
    {
     "name": "stdout",
     "output_type": "stream",
     "text": [
      "<__main__.Power object at 0x000002708E8C1910>\n",
      "16\n"
     ]
    }
   ],
   "source": [
    "# We will create a class based decorator that adds extra functionality of squaring the result of a function\n",
    "\n",
    "class Power:\n",
    "    def __init__(self, fn):\n",
    "        self._fn = fn  # We set this function as an attribute in our object.\n",
    "        \n",
    "    def __call__(self, a, b):\n",
    "        result = self._fn(a, b)\n",
    "        return result ** 2\n",
    "\n",
    "@Power\n",
    "def multiply(a, b):\n",
    "    return a * b\n",
    "\n",
    "# If we print multiply_together now, we can see it is an instance of the Power class.\n",
    "print(multiply) # Because, we set this function as an attribute in our object.\n",
    "\n",
    "print(multiply(2, 2))\n",
    "\n"
   ]
  },
  {
   "cell_type": "code",
   "execution_count": null,
   "id": "7d112b8f-2dab-4e4c-9b3a-63a1693ef412",
   "metadata": {},
   "outputs": [],
   "source": []
  }
 ],
 "metadata": {
  "kernelspec": {
   "display_name": "Python 3 (ipykernel)",
   "language": "python",
   "name": "python3"
  },
  "language_info": {
   "codemirror_mode": {
    "name": "ipython",
    "version": 3
   },
   "file_extension": ".py",
   "mimetype": "text/x-python",
   "name": "python",
   "nbconvert_exporter": "python",
   "pygments_lexer": "ipython3",
   "version": "3.9.6"
  }
 },
 "nbformat": 4,
 "nbformat_minor": 5
}
