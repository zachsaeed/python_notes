{
 "cells": [
  {
   "cell_type": "markdown",
   "id": "5cc2bfd6-1824-4d8d-a82e-26968ea3fd1a",
   "metadata": {},
   "source": [
    "# Class based decorators\n",
    "\n",
    "- In class based decorators, we use the '@' syntax like before but followed by the decorator class name instead of a function.\n",
    "- Following convention, we will use camel-case for our class name. \n",
    "- In the class definition, we define two methods: \n",
    "1. the init constructor and \n",
    "2. the magic (or dunder) call method.\n",
    "\n",
    "- When we decorate a function with a class-based decorator, the function is automatically passed as the first argument to the ```__init__()``` constructor and as constructors do, it returns us an instance of the decorator-class. The function is assigned to a class property so it can be accessed later (inside ```__call__()```)\n",
    "\n",
    "- By defining the ```__call__()``` method, we can call the returned instance as a function. In other words, the ```__call__()``` method is similar to our 'inner_wrapper()' function for function based decorators. Therefore any wrapping functionality can go into the ```__call__()``` method\n",
    "\n",
    "Basic syntax:"
   ]
  },
  {
   "cell_type": "code",
   "execution_count": 6,
   "id": "f6a3c6b4-d27f-4be2-b165-dae7b7ba1218",
   "metadata": {},
   "outputs": [],
   "source": [
    "# We will create a class based decorator that adds extra functionality of squaring the result of a function\n",
    "\n",
    "class Power:\n",
    "    # init() takes the function as a parameter\n",
    "    def __init__(self, fn):\n",
    "        print('initialised')\n",
    "        # We set this function as an attribute in our instance.\n",
    "        self._fn = fn  \n",
    "   \n",
    "\n",
    "    def __call__(self, a, b):\n",
    "        # add wrapper functionality here\n",
    "        print('__call__ called')        \n",
    "        result = self._fn(a, b)  # our decorated function called\n",
    "        # add wrapper functionality here\n",
    "        return result ** 2\n",
    "\n",
    "@Power # class based decorator\n",
    "def multiply(a, b):\n",
    "    print('multiply called')\n",
    "    return a * b\n",
    "\n",
    "# If we print multiply_together now, we can see it is an instance of the Power class.\n",
    "print(multiply) # Because, we set this function as an attribute in our object."
   ]
  },
  {
   "cell_type": "code",
   "execution_count": 6,
   "id": "8c6c1e8e-dae7-4985-80f5-872e0a54bb9d",
   "metadata": {},
   "outputs": [
    {
     "name": "stdout",
     "output_type": "stream",
     "text": [
      "<__main__.Power object at 0x000002708E8C1910>\n",
      "16\n"
     ]
    }
   ],
   "source": [
    "# since multiply is an instance of Power, callinf multiply() method will call __call__(a, b)\n",
    "print(multiply(2, 2))"
   ]
  },
  {
   "cell_type": "code",
   "execution_count": null,
   "id": "d126137e-eddf-44e1-ba66-1b8417036bfd",
   "metadata": {},
   "outputs": [],
   "source": []
  }
 ],
 "metadata": {
  "kernelspec": {
   "display_name": "Python 3 (ipykernel)",
   "language": "python",
   "name": "python3"
  },
  "language_info": {
   "codemirror_mode": {
    "name": "ipython",
    "version": 3
   },
   "file_extension": ".py",
   "mimetype": "text/x-python",
   "name": "python",
   "nbconvert_exporter": "python",
   "pygments_lexer": "ipython3",
   "version": "3.9.6"
  }
 },
 "nbformat": 4,
 "nbformat_minor": 5
}
