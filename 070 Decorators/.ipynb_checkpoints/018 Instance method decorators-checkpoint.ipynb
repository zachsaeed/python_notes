{
 "cells": [
  {
   "cell_type": "markdown",
   "id": "9eb43d74-f46b-4e2d-a3f0-15cdf736295e",
   "metadata": {},
   "source": [
    "# Instance method decorators\n",
    "\n",
    "So far we have seen how to implement decorators using functions.\n",
    "\n",
    "We can also have class based decorators which we will see next. \n",
    "\n",
    "They are different to functions as the inner, wrapper function should start with a parameter for 'self' reference.\n",
    "\n",
    "For example:"
   ]
  },
  {
   "cell_type": "code",
   "execution_count": 9,
   "id": "8cd9fa53-41c3-4eca-86e3-4369720120af",
   "metadata": {},
   "outputs": [
    {
     "name": "stdout",
     "output_type": "stream",
     "text": [
      "Hey my name is same!!!\n"
     ]
    }
   ],
   "source": [
    "from functools import wraps\n",
    "\n",
    "def check_name(fn):\n",
    "    @wraps(fn)  # to get the correct metadata\n",
    "    # Here obj_ref holds a reference to the object\n",
    "    def inner_wrapper(obj_ref, *args, **kwargs): # *args, **kwargs ensure this decorator can be applied to functions with params\n",
    "        if obj_ref.name == 'Saquib':\n",
    "            print('Hey my name is same!!!')\n",
    "        else:\n",
    "            # Here obj_ref holds a reference to the object\n",
    "            fn(obj_ref, *args, **kwargs)        \n",
    "    return inner_wrapper\n",
    "\n",
    "class Printing:\n",
    "    def __init__(self, name):\n",
    "        self.name = name\n",
    "    \n",
    "    @check_name\n",
    "    def print_name(self):\n",
    "        print(\"Entered user name is\", self.name)\n",
    "        \n",
    "p = Printing('Saquib')        \n",
    "p.print_name()"
   ]
  },
  {
   "cell_type": "code",
   "execution_count": 10,
   "id": "e5bd4557-13a3-4701-9b73-85ffb73a9ed8",
   "metadata": {},
   "outputs": [
    {
     "name": "stdout",
     "output_type": "stream",
     "text": [
      "Entered user name is Saeed\n"
     ]
    }
   ],
   "source": [
    "p = Printing('Saeed')        \n",
    "p.print_name()"
   ]
  },
  {
   "cell_type": "code",
   "execution_count": null,
   "id": "74361235-4832-4779-8742-021a6ac2770c",
   "metadata": {},
   "outputs": [],
   "source": []
  }
 ],
 "metadata": {
  "kernelspec": {
   "display_name": "Python 3 (ipykernel)",
   "language": "python",
   "name": "python3"
  },
  "language_info": {
   "codemirror_mode": {
    "name": "ipython",
    "version": 3
   },
   "file_extension": ".py",
   "mimetype": "text/x-python",
   "name": "python",
   "nbconvert_exporter": "python",
   "pygments_lexer": "ipython3",
   "version": "3.9.6"
  }
 },
 "nbformat": 4,
 "nbformat_minor": 5
}
