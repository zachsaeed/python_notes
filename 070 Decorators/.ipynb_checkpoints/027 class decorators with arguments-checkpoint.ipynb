{
 "cells": [
  {
   "cell_type": "markdown",
   "id": "59951696-2a26-41ae-a729-ab59b4e8dc43",
   "metadata": {},
   "source": [
    "# Class decorators with arguments\n",
    "In the previous example, our class decorator does not accept any arguments except for the function. \n",
    "\n",
    "But when it comes to creating a decorator that accepts an argument, there is a huge difference in the program flow.\n",
    "\n",
    "An argument infront of a class decorator means the decorator class is already instantiated with that argument. \n",
    "\n",
    "Therefore when the function is passed into it, we are passing the function into the the ```__call__``` dunder method. Therefore, the call method needs to return a wrapper function with the same param signature as the decorated function\n",
    "\n"
   ]
  },
  {
   "cell_type": "code",
   "execution_count": 22,
   "id": "37407dcc-18bc-44c1-b5b9-d7f2d72f026c",
   "metadata": {},
   "outputs": [
    {
     "name": "stdout",
     "output_type": "stream",
     "text": [
      "Inside init: 3\n",
      "Inside __call__: (<function multiply_together at 0x00000246825CD160>,)\n",
      "Inside wrapper: 2 2\n",
      "64\n"
     ]
    }
   ],
   "source": [
    "# Full example version with accompanying doc string\n",
    "class Power(object):\n",
    "    \n",
    "    def __init__(self, arg):        \n",
    "        print('Inside init:', arg)\n",
    "        self._arg = arg\n",
    "\n",
    "    def __call__(self, *param_arg):\n",
    "        print('Inside __call__:', param_arg)\n",
    "        def wrapper(a, b):\n",
    "            print('Inside wrapper:', a, b)\n",
    "            retval = param_arg[0](a, b)\n",
    "            # new wrapper code. power as passed into the decorator:\n",
    "            return retval ** self._arg \n",
    "        return wrapper\n",
    "\n",
    "\n",
    "@Power(3) # Power class is instantiated here. \n",
    "# The method will be passed to: @Power(3)(multiply_together) which is actually calling __call__(multiply_together) \n",
    "# Therefore, __call__(multiply_together) should return a wrapper function with the same param signature, \n",
    "# because it is actually calling __call__(multiply_together)(2,2) => wrapper(2,2)\n",
    "def multiply_together(a, b):\n",
    "    return a * b\n",
    "\n",
    "print(multiply_together(2, 2))"
   ]
  },
  {
   "cell_type": "markdown",
   "id": "565ac7cf-49e7-40b8-a176-54cc33f7e3d6",
   "metadata": {},
   "source": [
    "As per the comments above, What actually happening is:"
   ]
  },
  {
   "cell_type": "code",
   "execution_count": 23,
   "id": "0cf31e5f-7942-41e2-820c-0277f668d549",
   "metadata": {},
   "outputs": [
    {
     "name": "stdout",
     "output_type": "stream",
     "text": [
      "Inside init: 3\n",
      "Inside __call__: (<function multiply_together_2 at 0x00000246825B93A0>,)\n",
      "Inside wrapper: 2 2\n",
      "64\n"
     ]
    }
   ],
   "source": [
    "def multiply_together_2(a, b):\n",
    "    return a * b\n",
    "\n",
    "\n",
    "power_instance = Power(3) # Create an instance of Power and pass our function\n",
    "wrapper = power_instance(multiply_together_2)\n",
    "print(wrapper(2,2))\n"
   ]
  },
  {
   "cell_type": "markdown",
   "id": "2af8a770-6743-41ac-8a16-739865980572",
   "metadata": {},
   "source": [
    "> Note: There is a problem with the above code. It does not work when we dont provide an argument to the decorator (Like in the previous article). Because, with no argument, it passes in the decorated function (multiply_together_3) to init and the newly added wrapper function messes it up:"
   ]
  },
  {
   "cell_type": "code",
   "execution_count": 24,
   "id": "d800edbc-3a07-42b9-97a6-f5dfb8b5ba1d",
   "metadata": {},
   "outputs": [
    {
     "name": "stdout",
     "output_type": "stream",
     "text": [
      "Inside init: <function multiply_together_3 at 0x00000246825B9820>\n",
      "Inside __call__: (2, 2)\n",
      "<function Power.__call__.<locals>.wrapper at 0x00000246825CD5E0>\n"
     ]
    }
   ],
   "source": [
    "@Power\n",
    "def multiply_together_3(a, b):\n",
    "    return a * b\n",
    "\n",
    "\n",
    "print(multiply_together_3(2, 2))"
   ]
  },
  {
   "cell_type": "markdown",
   "id": "3cf08695-c3b9-4684-b077-945af02d858c",
   "metadata": {},
   "source": [
    "To make it work with both argument or no argument (default = 2), we do this:"
   ]
  },
  {
   "cell_type": "code",
   "execution_count": 35,
   "id": "03caac93-6262-4cc8-8119-34d143f664d4",
   "metadata": {},
   "outputs": [],
   "source": [
    "from functools import wraps\n",
    "# Full example version with accompanying doc string\n",
    "\n",
    "class Power2(object):\n",
    "    def __init__(self, arg):\n",
    "        # arg will either have a decorator param value or decorated func if no argument is provided\n",
    "        self._arg = arg\n",
    "\n",
    "    def __call__(self, *param_arg):        \n",
    "        if len(param_arg) == 1: # argument provided to decorator. This means self._arg is parameter value and param_arg is decorated function            \n",
    "            def wrapper(a, b):\n",
    "                retval = param_arg[0](a, b)\n",
    "                return retval ** self._arg\n",
    "            return wrapper\n",
    "        else:  # No arg provided to decorator. self._arg contains decorated func and param_arg[0], param_arg[1] are a and b respectively             \n",
    "            expo = 2            \n",
    "            retval = self._arg(param_arg[0], param_arg[1])\n",
    "            return retval ** expo"
   ]
  },
  {
   "cell_type": "code",
   "execution_count": 36,
   "id": "0deae713-9a28-4fbd-a385-98123f269b57",
   "metadata": {},
   "outputs": [
    {
     "name": "stdout",
     "output_type": "stream",
     "text": [
      "wrapper\n",
      "64\n"
     ]
    }
   ],
   "source": [
    "@Power2(3)  # with param\n",
    "def multiply_together_4(a, b):\n",
    "    return a * b\n",
    "\n",
    "print(multiply_together_4.__name__)\n",
    "\n",
    "print(multiply_together_4(2, 2))"
   ]
  },
  {
   "cell_type": "code",
   "execution_count": 37,
   "id": "196aaa99-164e-4eb0-b527-c107253992c3",
   "metadata": {},
   "outputs": [
    {
     "name": "stdout",
     "output_type": "stream",
     "text": [
      "16\n"
     ]
    }
   ],
   "source": [
    "@Power2  # without param\n",
    "def multiply_together_5(a, b):\n",
    "    return a * b\n",
    "\n",
    "print(multiply_together_5(2, 2))"
   ]
  },
  {
   "cell_type": "code",
   "execution_count": null,
   "id": "5b9278eb-9131-4676-8d7e-7a5e7d294b6f",
   "metadata": {},
   "outputs": [],
   "source": []
  }
 ],
 "metadata": {
  "kernelspec": {
   "display_name": "Python 3 (ipykernel)",
   "language": "python",
   "name": "python3"
  },
  "language_info": {
   "codemirror_mode": {
    "name": "ipython",
    "version": 3
   },
   "file_extension": ".py",
   "mimetype": "text/x-python",
   "name": "python",
   "nbconvert_exporter": "python",
   "pygments_lexer": "ipython3",
   "version": "3.9.6"
  }
 },
 "nbformat": 4,
 "nbformat_minor": 5
}
