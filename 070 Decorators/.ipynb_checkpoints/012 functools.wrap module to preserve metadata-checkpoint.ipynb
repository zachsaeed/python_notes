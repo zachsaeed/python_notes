{
 "cells": [
  {
   "cell_type": "markdown",
   "id": "15e14aff-38c9-46db-b33d-9ae78a0427f8",
   "metadata": {},
   "source": [
    "# Preserving metadata on a decorated function\n",
    "As shown in the prevoius topic, after applying the decorator, it was showing up the meta data of the wrapper function instead of the decorated function. TO fix that we use the wraps decorator within our decorator function:"
   ]
  },
  {
   "cell_type": "code",
   "execution_count": 1,
   "id": "cdff614f-c57c-47d0-be23-c72375675d97",
   "metadata": {},
   "outputs": [
    {
     "name": "stdout",
     "output_type": "stream",
     "text": [
      "Adds two numbers together.\n"
     ]
    }
   ],
   "source": [
    "from functools import wraps\n",
    "# wraps preserves a functions metadata when it is decorated\n",
    "# It is a wrapper function we use to wrap our wrapper function\n",
    "\n",
    "\n",
    "def log_function_data(fn):\n",
    "    @wraps(fn)  # decorator to replace ou wrapper's metadata with fn's\n",
    "    def wrapper(*args, **kwargs):\n",
    "        \"\"\"I AM WRAPPER FUNCTION\"\"\"\n",
    "        print(f\"you are about to call {fn.__name__}\")\n",
    "        print(f\"Here's the documentation: {fn.__doc__}\")\n",
    "        return fn(*args, **kwargs)\n",
    "    return wrapper\n",
    "\n",
    "\n",
    "@log_function_data\n",
    "def add(x,y):\n",
    "    \"\"\"Adds two numbers together.\"\"\"\n",
    "    return x + y\n",
    "\n",
    "\n",
    "print(add.__doc__)"
   ]
  },
  {
   "cell_type": "code",
   "execution_count": 2,
   "id": "5ea7ca1a-7daf-4559-8ce9-412317694c6b",
   "metadata": {},
   "outputs": [
    {
     "name": "stdout",
     "output_type": "stream",
     "text": [
      "add\n"
     ]
    }
   ],
   "source": [
    "print(add.__name__)"
   ]
  },
  {
   "cell_type": "code",
   "execution_count": 3,
   "id": "44314385-235d-4a50-a946-537c0c4be39e",
   "metadata": {},
   "outputs": [
    {
     "name": "stdout",
     "output_type": "stream",
     "text": [
      "Help on function add in module __main__:\n",
      "\n",
      "add(x, y)\n",
      "    Adds two numbers together.\n",
      "\n"
     ]
    }
   ],
   "source": [
    "help(add)"
   ]
  },
  {
   "cell_type": "markdown",
   "id": "c8cfe620-b6e9-47bf-8bac-946fa0437d21",
   "metadata": {},
   "source": [
    "> Note: So far, our decorators accept only the fn as an argument. We can pass more arguments into our decorator as shown in the next topic.\n",
    "\n",
    "Example: Let's define a speed_test decorator"
   ]
  },
  {
   "cell_type": "code",
   "execution_count": null,
   "id": "feaf531e-51f4-4565-8eee-746b98661564",
   "metadata": {},
   "outputs": [],
   "source": [
    "from functools import wraps\n",
    "from time import time\n",
    "\n",
    "\n",
    "def speed_test(fn):\n",
    "    @wraps(fn)\n",
    "    def wrapper(*args, **kwargs):\n",
    "        start_time = time()\n",
    "        result = fn(*args, **kwargs)\n",
    "        end_time = time()\n",
    "        print(f\"Executing {fn.__name__}\")\n",
    "        print(f\"Time Elapsed: {end_time - start_time}\")\n",
    "        return result\n",
    "    return wrapper\n",
    "\n",
    "\n",
    "@speed_test\n",
    "def sum_nums_gen():\n",
    "    return sum(x for x in range(90000000))\n",
    "\n",
    "\n",
    "@speed_test\n",
    "def sum_nums_list():\n",
    "    return sum([x for x in range(90000000)])\n",
    "\n",
    "\n",
    "print(sum_nums_gen())\n",
    "print(sum_nums_list())\n",
    "\n",
    "\n",
    "# Ensuring functio doesnt accept key args\n",
    "\n",
    "\n",
    "def ensure_no_kwargs(fn):\n",
    "    @wraps(fn)\n",
    "    def wrapper(*args, **kwargs):\n",
    "        if kwargs:\n",
    "            raise ValueError(\"No kwargs allowed! sorry :(\")\n",
    "        return fn(*args, **kwargs)\n",
    "    return wrapper\n",
    "\n",
    "\n",
    "@ensure_no_kwargs\n",
    "def greet(name):\n",
    "    print(f\"hi there {name}\")\n",
    "\n",
    "\n",
    "greet(name=\"Tony\")"
   ]
  },
  {
   "cell_type": "code",
   "execution_count": null,
   "id": "ffe7cfcd-974f-4849-abcf-a30ac02ff67e",
   "metadata": {},
   "outputs": [],
   "source": []
  },
  {
   "cell_type": "code",
   "execution_count": null,
   "id": "602b73b6-41e8-4d66-97f2-4143cd2824fe",
   "metadata": {},
   "outputs": [],
   "source": []
  }
 ],
 "metadata": {
  "kernelspec": {
   "display_name": "Python 3 (ipykernel)",
   "language": "python",
   "name": "python3"
  },
  "language_info": {
   "codemirror_mode": {
    "name": "ipython",
    "version": 3
   },
   "file_extension": ".py",
   "mimetype": "text/x-python",
   "name": "python",
   "nbconvert_exporter": "python",
   "pygments_lexer": "ipython3",
   "version": "3.9.6"
  }
 },
 "nbformat": 4,
 "nbformat_minor": 5
}
