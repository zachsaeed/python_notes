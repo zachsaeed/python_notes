{
 "cells": [
  {
   "cell_type": "markdown",
   "id": "0e04b8b1-4a7e-485d-a53c-bd90cbcf3163",
   "metadata": {
    "tags": []
   },
   "source": [
    "# Decorator that decorate functions with any number of arguments\n",
    "We need our decorator to work with any number of arguments which is the standard decorator pattern\n",
    "\n",
    "To do this, we make our wrapper function (which is decorator returned) accept unlimited number of arguments and keyword arguments (*args and **kwargs)"
   ]
  },
  {
   "cell_type": "code",
   "execution_count": 1,
   "id": "f9da9ddf-c76b-4006-bd42-a0ca1ef4c5f6",
   "metadata": {},
   "outputs": [
    {
     "name": "stdout",
     "output_type": "stream",
     "text": [
      "HI, I'M TODD.\n"
     ]
    }
   ],
   "source": [
    "# This version works with any number of args\n",
    "\n",
    "def shout(fn):\n",
    "    def wrapper(*args, **kwargs):\n",
    "        \"\"\"I am the wrapper\"\"\" # < doc string we will print later\n",
    "        return fn(*args, **kwargs).upper()\n",
    "    return wrapper\n",
    "\n",
    "\n",
    "@shout\n",
    "def greet(name):\n",
    "    \"\"\"I am greet\"\"\"\n",
    "    return f\"Hi, I'm {name}.\"\n",
    "\n",
    "\n",
    "@shout\n",
    "def order(main, side):\n",
    "    \"\"\"I am order\"\"\"\n",
    "    return f\"Hi, I'd like the {main}, with a side of {side}, please.\"\n",
    "\n",
    "\n",
    "@shout\n",
    "def lol():\n",
    "    return \"lol\"\n",
    "\n",
    "\n",
    "print(greet(\"todd\")) "
   ]
  },
  {
   "cell_type": "code",
   "execution_count": 2,
   "id": "74ff71a6-1e08-420b-a06e-46947a671dbd",
   "metadata": {},
   "outputs": [
    {
     "name": "stdout",
     "output_type": "stream",
     "text": [
      "HI, I'D LIKE THE FRIES, WITH A SIDE OF BURGER, PLEASE.\n"
     ]
    }
   ],
   "source": [
    "print(order(side=\"burger\", main=\"fries\"))"
   ]
  },
  {
   "cell_type": "code",
   "execution_count": 3,
   "id": "35b040ca-270f-43ff-88ab-a44191f8607f",
   "metadata": {},
   "outputs": [
    {
     "name": "stdout",
     "output_type": "stream",
     "text": [
      "LOL\n"
     ]
    }
   ],
   "source": [
    "print(lol())  # LOL"
   ]
  },
  {
   "cell_type": "markdown",
   "id": "99e3d558-aa6c-4c81-9906-6ad094da727a",
   "metadata": {},
   "source": [
    "What actually happening is:"
   ]
  },
  {
   "cell_type": "code",
   "execution_count": 4,
   "id": "6a4d9f23-9ae3-448a-b286-5a290c7859cc",
   "metadata": {},
   "outputs": [
    {
     "name": "stdout",
     "output_type": "stream",
     "text": [
      "HI, I'M TODD.\n"
     ]
    }
   ],
   "source": [
    "def shout_decorator(fn):\n",
    "    def wrapper(*args, **kwargs):\n",
    "        upper = fn(*args, **kwargs).upper()\n",
    "        return upper\n",
    "    return wrapper\n",
    "\n",
    "\n",
    "def greet1(name):\n",
    "    return f\"Hi, I'm {name}.\"\n",
    "\n",
    "\n",
    "def order1(main, side):\n",
    "    return f\"Hi, I'd like the {main}, with a side of {side}, please.\"\n",
    "\n",
    "\n",
    "def lol1():\n",
    "    return \"lol\"\n",
    "\n",
    "\n",
    "# Here we return the wrapper (Decorated function):\n",
    "greet_decorated = shout_decorator(greet1)\n",
    "print(greet_decorated(\"todd\"))"
   ]
  },
  {
   "cell_type": "code",
   "execution_count": 5,
   "id": "d0f9ed09-394d-435a-9d50-177e21027a53",
   "metadata": {},
   "outputs": [
    {
     "name": "stdout",
     "output_type": "stream",
     "text": [
      "HI, I'D LIKE THE FRIES, WITH A SIDE OF BURGER, PLEASE.\n"
     ]
    }
   ],
   "source": [
    "order_decorated = shout_decorator(order1)\n",
    "print(order_decorated(side=\"burger\", main=\"fries\"))"
   ]
  },
  {
   "cell_type": "code",
   "execution_count": 6,
   "id": "e19cbcfc-2482-4d2c-80e1-25b97060ac6e",
   "metadata": {},
   "outputs": [
    {
     "name": "stdout",
     "output_type": "stream",
     "text": [
      "LOL\n"
     ]
    }
   ],
   "source": [
    "lol_decorated = shout_decorator(lol1)\n",
    "print(lol_decorated())"
   ]
  },
  {
   "cell_type": "markdown",
   "id": "22db32e4-41c3-4385-b382-2cac7e7c7b40",
   "metadata": {},
   "source": [
    "> NOTE: There is a problem when using decorators. When we try to access the meta data (```__doc__, __name__ and help()```) on the decorated functions, it returns meta-data for the wrapper function instead of the decorated function as it is actually the wrapper function that is being called"
   ]
  },
  {
   "cell_type": "code",
   "execution_count": 7,
   "id": "35cf271e-0223-4875-93de-fbd76eafd94b",
   "metadata": {},
   "outputs": [
    {
     "name": "stdout",
     "output_type": "stream",
     "text": [
      "I am the wrapper\n"
     ]
    }
   ],
   "source": [
    "print(greet.__doc__)"
   ]
  },
  {
   "cell_type": "code",
   "execution_count": 25,
   "id": "8c9d210d-e6dc-4934-b52a-037b083f642b",
   "metadata": {},
   "outputs": [
    {
     "name": "stdout",
     "output_type": "stream",
     "text": [
      "wrapper\n"
     ]
    }
   ],
   "source": [
    "print(greet.__name__)"
   ]
  },
  {
   "cell_type": "code",
   "execution_count": 26,
   "id": "702148ce-6c50-462c-8a7c-9ea796ad208a",
   "metadata": {},
   "outputs": [
    {
     "name": "stdout",
     "output_type": "stream",
     "text": [
      "Help on function wrapper in module __main__:\n",
      "\n",
      "wrapper(*args, **kwargs)\n",
      "    I am the wrapper\n",
      "\n"
     ]
    }
   ],
   "source": [
    "help(greet)"
   ]
  },
  {
   "cell_type": "markdown",
   "id": "92689eb8-7524-4783-b978-6bf7450dc7ee",
   "metadata": {},
   "source": [
    "To return the original metadata, we use the wrap library as shown in the next topic"
   ]
  },
  {
   "cell_type": "code",
   "execution_count": null,
   "id": "1c934d98-eece-414d-a750-a1881c863a48",
   "metadata": {},
   "outputs": [],
   "source": []
  }
 ],
 "metadata": {
  "kernelspec": {
   "display_name": "Python 3 (ipykernel)",
   "language": "python",
   "name": "python3"
  },
  "language_info": {
   "codemirror_mode": {
    "name": "ipython",
    "version": 3
   },
   "file_extension": ".py",
   "mimetype": "text/x-python",
   "name": "python",
   "nbconvert_exporter": "python",
   "pygments_lexer": "ipython3",
   "version": "3.9.6"
  }
 },
 "nbformat": 4,
 "nbformat_minor": 5
}
