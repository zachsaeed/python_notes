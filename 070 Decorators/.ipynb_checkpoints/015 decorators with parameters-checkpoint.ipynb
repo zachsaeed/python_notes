{
 "cells": [
  {
   "cell_type": "markdown",
   "id": "464ab923-1962-4c76-ac7c-94bf8b112a35",
   "metadata": {},
   "source": [
    "We can pass other arguments (besides fn) to decorators aswell.\n",
    "Essentially its a multilayer process. We need an extra layer of function because of the argument we are trying to pass in.\n",
    "\n",
    "The following code ensures that the first argument is something specific which we can specify in the decorator"
   ]
  },
  {
   "cell_type": "code",
   "execution_count": 9,
   "id": "9ae5a3f8-b98b-47a3-b93f-d87a4c4a07cd",
   "metadata": {},
   "outputs": [
    {
     "name": "stdout",
     "output_type": "stream",
     "text": [
      "('burrito', 'ice cream')\n"
     ]
    }
   ],
   "source": [
    "from functools import wraps\n",
    "\n",
    "\n",
    "def ensure_first_arg_is(val):\n",
    "    def inner(fn):  # This is the actual decorator\n",
    "        @wraps(fn)\n",
    "        def wrapper(*args, **kwargs):\n",
    "            if args and args[0] != val:\n",
    "                return f\"Invalid! First arg needs to be {val}\"\n",
    "            return fn(*args, **kwargs)\n",
    "        return wrapper\n",
    "    return inner\n",
    "\n",
    "\n",
    "@ensure_first_arg_is(\"burrito\")\n",
    "def fav_foods(*foods):\n",
    "    return foods\n",
    "\n",
    "\n",
    "print(fav_foods(\"burrito\", \"ice cream\"))  "
   ]
  },
  {
   "cell_type": "code",
   "execution_count": 10,
   "id": "f88e9953-4b0a-4ffa-8155-6c7b103eac50",
   "metadata": {},
   "outputs": [
    {
     "name": "stdout",
     "output_type": "stream",
     "text": [
      "Invalid! First arg needs to be burrito\n"
     ]
    }
   ],
   "source": [
    "print(fav_foods(\"ice cream\", \"burrito\")) "
   ]
  },
  {
   "cell_type": "code",
   "execution_count": 11,
   "id": "6197debb-b80c-4590-96fe-f708b5f2ee8a",
   "metadata": {},
   "outputs": [
    {
     "name": "stdout",
     "output_type": "stream",
     "text": [
      "22\n"
     ]
    }
   ],
   "source": [
    "@ensure_first_arg_is(10)\n",
    "def add_to_ten(num1, num2):\n",
    "    return num1 + num2\n",
    "\n",
    "\n",
    "print(add_to_ten(10, 12))  "
   ]
  },
  {
   "cell_type": "code",
   "execution_count": 12,
   "id": "ba2249db-de06-45ce-a950-48a41d512a45",
   "metadata": {},
   "outputs": [
    {
     "name": "stdout",
     "output_type": "stream",
     "text": [
      "Invalid! First arg needs to be 10\n"
     ]
    }
   ],
   "source": [
    "print(add_to_ten(1, 2)) "
   ]
  },
  {
   "cell_type": "markdown",
   "id": "b173b9fe-a58f-48d2-82b9-c2a9bd2a0bd6",
   "metadata": {},
   "source": [
    "What we are really doing is:\n",
    "\n",
    "func = decorator_with_args(arg)(func)\n",
    "\n",
    "where decorator_with_args(arg) returns inner\n",
    "and then inner(func) is called which returns the wrapper\n",
    "\n",
    "Example:\n",
    "Here, we create a decoator that enforces what argument datatypes are allowed when a function is called"
   ]
  },
  {
   "cell_type": "code",
   "execution_count": 16,
   "id": "3c79110b-4385-47e1-a035-48fa1132ea4f",
   "metadata": {},
   "outputs": [
    {
     "ename": "ValueError",
     "evalue": "invalid literal for int() with base 10: 'sdfg5'",
     "output_type": "error",
     "traceback": [
      "\u001b[1;31m---------------------------------------------------------------------------\u001b[0m",
      "\u001b[1;31mValueError\u001b[0m                                Traceback (most recent call last)",
      "\u001b[1;32m~\\AppData\\Local\\Temp/ipykernel_4040/286394481.py\u001b[0m in \u001b[0;36m<module>\u001b[1;34m\u001b[0m\n\u001b[0;32m     23\u001b[0m \u001b[1;33m\u001b[0m\u001b[0m\n\u001b[0;32m     24\u001b[0m \u001b[1;33m\u001b[0m\u001b[0m\n\u001b[1;32m---> 25\u001b[1;33m \u001b[0mrepeat_msg\u001b[0m\u001b[1;33m(\u001b[0m\u001b[1;34m\"hello\"\u001b[0m\u001b[1;33m,\u001b[0m \u001b[1;34m'sdfg5'\u001b[0m\u001b[1;33m)\u001b[0m\u001b[1;33m\u001b[0m\u001b[1;33m\u001b[0m\u001b[0m\n\u001b[0m\u001b[0;32m     26\u001b[0m \u001b[0mdivide\u001b[0m\u001b[1;33m(\u001b[0m\u001b[1;34m'1'\u001b[0m\u001b[1;33m,\u001b[0m \u001b[1;34m'4'\u001b[0m\u001b[1;33m)\u001b[0m\u001b[1;33m\u001b[0m\u001b[1;33m\u001b[0m\u001b[0m\n",
      "\u001b[1;32m~\\AppData\\Local\\Temp/ipykernel_4040/286394481.py\u001b[0m in \u001b[0;36mnew_func\u001b[1;34m(*args, **kwargs)\u001b[0m\n\u001b[0;32m      6\u001b[0m             \u001b[1;32mfor\u001b[0m \u001b[1;33m(\u001b[0m\u001b[0ma\u001b[0m\u001b[1;33m,\u001b[0m \u001b[0mt\u001b[0m\u001b[1;33m)\u001b[0m \u001b[1;32min\u001b[0m \u001b[0mzip\u001b[0m\u001b[1;33m(\u001b[0m\u001b[0margs\u001b[0m\u001b[1;33m,\u001b[0m \u001b[0mtypes\u001b[0m\u001b[1;33m)\u001b[0m\u001b[1;33m:\u001b[0m\u001b[1;33m\u001b[0m\u001b[1;33m\u001b[0m\u001b[0m\n\u001b[0;32m      7\u001b[0m                 \u001b[1;31m# feel free to have more elaborated conversion:\u001b[0m\u001b[1;33m\u001b[0m\u001b[1;33m\u001b[0m\u001b[1;33m\u001b[0m\u001b[0m\n\u001b[1;32m----> 8\u001b[1;33m                 \u001b[0mnewargs\u001b[0m\u001b[1;33m.\u001b[0m\u001b[0mappend\u001b[0m\u001b[1;33m(\u001b[0m\u001b[0mt\u001b[0m\u001b[1;33m(\u001b[0m\u001b[0ma\u001b[0m\u001b[1;33m)\u001b[0m\u001b[1;33m)\u001b[0m  \u001b[1;31m# cast each argument with type.\u001b[0m\u001b[1;33m\u001b[0m\u001b[1;33m\u001b[0m\u001b[0m\n\u001b[0m\u001b[0;32m      9\u001b[0m             \u001b[1;32mreturn\u001b[0m \u001b[0mf\u001b[0m\u001b[1;33m(\u001b[0m\u001b[1;33m*\u001b[0m\u001b[0mnewargs\u001b[0m\u001b[1;33m,\u001b[0m \u001b[1;33m**\u001b[0m\u001b[0mkwargs\u001b[0m\u001b[1;33m)\u001b[0m\u001b[1;33m\u001b[0m\u001b[1;33m\u001b[0m\u001b[0m\n\u001b[0;32m     10\u001b[0m         \u001b[1;32mreturn\u001b[0m \u001b[0mnew_func\u001b[0m\u001b[1;33m\u001b[0m\u001b[1;33m\u001b[0m\u001b[0m\n",
      "\u001b[1;31mValueError\u001b[0m: invalid literal for int() with base 10: 'sdfg5'"
     ]
    }
   ],
   "source": [
    "def enforce(*types):  # Decorator that takes any number of arguments\n",
    "    def decorator(f):  # Actual decorator (inner function) as we need argument support for our decorator\n",
    "        def new_func(*args, **kwargs):  # wrapper function\n",
    "            # convert args into something mutable\n",
    "            newargs = []\n",
    "            for (a, t) in zip(args, types):\n",
    "                # feel free to have more elaborated conversion:\n",
    "                newargs.append(t(a))  # cast each argument with type.\n",
    "            return f(*newargs, **kwargs)\n",
    "        return new_func\n",
    "    return decorator\n",
    "\n",
    "\n",
    "@enforce(str, int)\n",
    "def repeat_msg(msg, times):\n",
    "    for time in range(times):\n",
    "        print(msg)\n",
    "\n",
    "\n",
    "@enforce(float, float)\n",
    "def divide(a, b):\n",
    "    print(a / b)\n",
    "\n",
    "\n",
    "repeat_msg(\"hello\", '5')\n",
    "divide('1', '4')"
   ]
  },
  {
   "cell_type": "code",
   "execution_count": null,
   "id": "8238c29a-8949-4202-ae42-af1c96c1084a",
   "metadata": {},
   "outputs": [],
   "source": []
  }
 ],
 "metadata": {
  "kernelspec": {
   "display_name": "Python 3 (ipykernel)",
   "language": "python",
   "name": "python3"
  },
  "language_info": {
   "codemirror_mode": {
    "name": "ipython",
    "version": 3
   },
   "file_extension": ".py",
   "mimetype": "text/x-python",
   "name": "python",
   "nbconvert_exporter": "python",
   "pygments_lexer": "ipython3",
   "version": "3.9.6"
  }
 },
 "nbformat": 4,
 "nbformat_minor": 5
}
