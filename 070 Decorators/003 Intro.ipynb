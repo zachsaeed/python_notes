{
 "cells": [
  {
   "cell_type": "markdown",
   "metadata": {},
   "source": [
    "# Decorators\n",
    "- Decorator is a pattern\n",
    "- It is a higher order function ie It accepts another function and returna function\n",
    "- It uses closure to wrap other functions and enhance/change their behaviour\n",
    "- Have their own syntax using \"@\" (syntactic sugar) with the decorator name on top of the item we want to decorate.\n",
    "\n",
    "There are 3 types of decorators:\n",
    "\n",
    "Using functions:\n",
    "1. decorators for functions \n",
    "2. decorators for methods\n",
    "\n",
    "Using classes\n",
    "\n",
    "3. decorators for classes"
   ]
  },
  {
   "cell_type": "code",
   "execution_count": null,
   "metadata": {},
   "outputs": [],
   "source": []
  }
 ],
 "metadata": {
  "kernelspec": {
   "display_name": "Python 3 (ipykernel)",
   "language": "python",
   "name": "python3"
  },
  "language_info": {
   "codemirror_mode": {
    "name": "ipython",
    "version": 3
   },
   "file_extension": ".py",
   "mimetype": "text/x-python",
   "name": "python",
   "nbconvert_exporter": "python",
   "pygments_lexer": "ipython3",
   "version": "3.9.6"
  }
 },
 "nbformat": 4,
 "nbformat_minor": 4
}
