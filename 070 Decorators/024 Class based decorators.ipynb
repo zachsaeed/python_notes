{
 "cells": [
  {
   "cell_type": "markdown",
   "id": "5cc2bfd6-1824-4d8d-a82e-26968ea3fd1a",
   "metadata": {},
   "source": [
    "# Class based decorators\n",
    "\n",
    "- In class based decorators, we use the '@' syntax like before but followed by the decorator class name instead of a function.\n",
    "- Following convention, we will use camel-case for our class name. \n",
    "- In the class definition, we define two methods: \n",
    "1. the init constructor and \n",
    "2. the magic (or dunder) call method.\n",
    "\n",
    "- When we decorate a function with a class-based decorator, the function is automatically passed as the first argument to the ```__init__()``` constructor and as constructors do, it returns us an instance of the decorator-class. The function is assigned to a class property so it can be accessed later (inside ```__call__()```)\n",
    "\n",
    "- By defining the ```__call__()``` method, we can call the returned instance as a function. In other words, the ```__call__()``` method is similar to our 'inner_wrapper()' function for function based decorators. Therefore any wrapping functionality can go into the ```__call__()``` method\n",
    "\n",
    "Basic syntax:"
   ]
  },
  {
   "cell_type": "code",
   "execution_count": 9,
   "id": "f6a3c6b4-d27f-4be2-b165-dae7b7ba1218",
   "metadata": {},
   "outputs": [
    {
     "name": "stdout",
     "output_type": "stream",
     "text": [
      "initialised\n",
      "<__main__.Power object at 0x0000023E781D2850>\n"
     ]
    }
   ],
   "source": [
    "# We will create a class based decorator that adds extra functionality of squaring the result of a function\n",
    "\n",
    "class Power:\n",
    "    # init() takes the function as a parameter\n",
    "    def __init__(self, fn):\n",
    "        print('initialised')\n",
    "        # We set this function as an attribute in our instance.\n",
    "        self._fn = fn  \n",
    "   \n",
    "\n",
    "    def __call__(self, a, b):\n",
    "        # add wrapper functionality here\n",
    "        print('__call__ called')        \n",
    "        result = self._fn(a, b)  # our decorated function called\n",
    "        # add wrapper functionality here\n",
    "        return result ** 2\n",
    "\n",
    "@Power # class based decorator\n",
    "def multiply(a, b):\n",
    "    print('multiply called')\n",
    "    return a * b\n",
    "\n",
    "# If we print multiply_together now, we can see it is an instance of the Power class.\n",
    "print(multiply) # Because, we set this function as an attribute in our object."
   ]
  },
  {
   "cell_type": "code",
   "execution_count": 10,
   "id": "8c6c1e8e-dae7-4985-80f5-872e0a54bb9d",
   "metadata": {},
   "outputs": [
    {
     "name": "stdout",
     "output_type": "stream",
     "text": [
      "__call__ called\n",
      "multiply called\n",
      "16\n"
     ]
    }
   ],
   "source": [
    "# since multiply is an instance of Power, callinf multiply() method will call __call__(a, b)\n",
    "print(multiply(2, 2))"
   ]
  },
  {
   "cell_type": "markdown",
   "id": "1a9d344a-5a1d-438d-aa92-718328931ace",
   "metadata": {},
   "source": [
    "This is what is happening behind the scenes:"
   ]
  },
  {
   "cell_type": "code",
   "execution_count": 11,
   "id": "8fb4a009-102d-49b8-88cd-e09bd53ee580",
   "metadata": {},
   "outputs": [
    {
     "name": "stdout",
     "output_type": "stream",
     "text": [
      "initialised\n"
     ]
    }
   ],
   "source": [
    "def add(a, b):\n",
    "    print('add called')\n",
    "    return a + b\n",
    "\n",
    "power_instance = Power(add) # Create an instance of Power and pass our function"
   ]
  },
  {
   "cell_type": "code",
   "execution_count": 12,
   "id": "50a420f9-5926-4f40-906a-4687306f1ee4",
   "metadata": {},
   "outputs": [
    {
     "name": "stdout",
     "output_type": "stream",
     "text": [
      "__call__ called\n",
      "add called\n"
     ]
    },
    {
     "data": {
      "text/plain": [
       "16"
      ]
     },
     "execution_count": 12,
     "metadata": {},
     "output_type": "execute_result"
    }
   ],
   "source": [
    "power_instance(2,2)  # __call__() is called"
   ]
  },
  {
   "cell_type": "markdown",
   "id": "a0a5b5af-afc7-47ff-8c9c-9ec2899f9b18",
   "metadata": {},
   "source": [
    "# When to use class based decorators\n",
    "Classes are custom define datatypes that store data and provide methods to work on that data. \n",
    "\n",
    "When a class based decorator instance is created, we can use it to call its methods, and store data.\n",
    "\n",
    "For example, to can extend the example presented in the previous section by giving our Power object some memory of the squared values returned. \n",
    "\n",
    "We can set an empty list to the memory attribute of our object, and append to this list every time we call the decorated function. \n",
    "\n",
    "Finally, we can define a method, named memory below to return the values stored in the list held by the memory attribute."
   ]
  },
  {
   "cell_type": "code",
   "execution_count": 14,
   "id": "fd697d3b-2f32-4285-8968-990d45bb7597",
   "metadata": {},
   "outputs": [
    {
     "name": "stdout",
     "output_type": "stream",
     "text": [
      "<__main__.Power2 object at 0x0000023E781D2BB0>\n"
     ]
    }
   ],
   "source": [
    "class Power2(object):\n",
    "    def __init__(self, arg):\n",
    "        self._arg = arg\n",
    "        self._memory = []\n",
    "\n",
    "    def __call__(self, a, b):\n",
    "        retval = self._arg(a, b)\n",
    "        self._memory.append(retval ** 2)\n",
    "        return retval ** 2\n",
    "\n",
    "    def memory(self):\n",
    "        return self._memory\n",
    "\n",
    "\n",
    "@Power2\n",
    "def multiply_together(a, b):\n",
    "    return a * b\n",
    "\n",
    "print(multiply_together)"
   ]
  },
  {
   "cell_type": "code",
   "execution_count": 15,
   "id": "a420840d-5d9e-41e8-8d61-29210b05375c",
   "metadata": {},
   "outputs": [
    {
     "name": "stdout",
     "output_type": "stream",
     "text": [
      "16\n",
      "36\n",
      "144\n"
     ]
    }
   ],
   "source": [
    "print(multiply_together(2, 2))\n",
    "print(multiply_together(3, 2))\n",
    "print(multiply_together(2, 6))"
   ]
  },
  {
   "cell_type": "code",
   "execution_count": 17,
   "id": "42ac723d-f21a-4e6a-bd91-bf07956a8ac7",
   "metadata": {},
   "outputs": [
    {
     "name": "stdout",
     "output_type": "stream",
     "text": [
      "[16, 36, 144]\n"
     ]
    }
   ],
   "source": [
    "print(multiply_together.memory())"
   ]
  },
  {
   "cell_type": "markdown",
   "id": "232bb0f3-8212-4ac7-a2e2-4525465e42cc",
   "metadata": {},
   "source": [
    "> Note: there is a limit to our class decorator above. Our class decorator does not accept any arguments. We will look into this in the next section"
   ]
  },
  {
   "cell_type": "code",
   "execution_count": null,
   "id": "e4c7dee9-a3c2-4783-969e-70a2e99b0ec2",
   "metadata": {},
   "outputs": [],
   "source": []
  }
 ],
 "metadata": {
  "kernelspec": {
   "display_name": "Python 3 (ipykernel)",
   "language": "python",
   "name": "python3"
  },
  "language_info": {
   "codemirror_mode": {
    "name": "ipython",
    "version": 3
   },
   "file_extension": ".py",
   "mimetype": "text/x-python",
   "name": "python",
   "nbconvert_exporter": "python",
   "pygments_lexer": "ipython3",
   "version": "3.9.6"
  }
 },
 "nbformat": 4,
 "nbformat_minor": 5
}
