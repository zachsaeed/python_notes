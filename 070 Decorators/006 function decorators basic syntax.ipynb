{
 "cells": [
  {
   "cell_type": "markdown",
   "id": "4d81f551-2c02-44d1-b84e-974f321f9b39",
   "metadata": {},
   "source": [
    "# Basic Syntax:\n"
   ]
  },
  {
   "cell_type": "code",
   "execution_count": 2,
   "id": "f1db31e2-8914-4e12-b770-2d94c47ba1b8",
   "metadata": {},
   "outputs": [
    {
     "name": "stdout",
     "output_type": "stream",
     "text": [
      "code to do something before\n",
      "My name is Colt.\n",
      "code to do something after\n"
     ]
    }
   ],
   "source": [
    "# A decorator:\n",
    "def a_decorator(fn):  # higher order function as it accepts and returns a function\n",
    "    def nested_wrapper():  # nested wrapper function\n",
    "        print('code to do something before')\n",
    "        fn()  # closure. The original function\n",
    "        print('code to do something after')\n",
    "    return nested_wrapper  # returns the nested function\n",
    "\n",
    "@a_decorator\n",
    "def greet():\n",
    "    print(\"My name is Colt.\")\n",
    "\n",
    "@a_decorator\n",
    "def rage():\n",
    "    print(\"I HATE YOU!\")\n",
    "\n",
    "greet()"
   ]
  },
  {
   "cell_type": "code",
   "execution_count": 3,
   "id": "18e7fc45-e4f9-4290-a926-e389df2f80f1",
   "metadata": {},
   "outputs": [
    {
     "name": "stdout",
     "output_type": "stream",
     "text": [
      "code to do something before\n",
      "I HATE YOU!\n",
      "code to do something after\n"
     ]
    }
   ],
   "source": [
    "rage()"
   ]
  },
  {
   "cell_type": "markdown",
   "id": "7ea259f2-15de-4524-accb-a8248d9a651a",
   "metadata": {},
   "source": [
    "What actually happening is:"
   ]
  },
  {
   "cell_type": "code",
   "execution_count": 4,
   "id": "c0a4ceca-548b-46ef-a352-36fe64dc7c29",
   "metadata": {},
   "outputs": [
    {
     "name": "stdout",
     "output_type": "stream",
     "text": [
      "code to do something before\n",
      "My name is Colt.\n",
      "code to do something after\n"
     ]
    }
   ],
   "source": [
    "def greet2():\n",
    "    print(\"My name is Colt.\")\n",
    "\n",
    "def rage2():\n",
    "    print(\"I HATE YOU!\")\n",
    "\n",
    "# we are decorating our function with politeness!\n",
    "greet_decorated = a_decorator(greet2)\n",
    "# call the decorated functions:\n",
    "greet_decorated()"
   ]
  },
  {
   "cell_type": "code",
   "execution_count": 5,
   "id": "fc8feffb-3ce2-4a74-8f2a-164011e6549f",
   "metadata": {},
   "outputs": [
    {
     "name": "stdout",
     "output_type": "stream",
     "text": [
      "code to do something before\n",
      "I HATE YOU!\n",
      "code to do something after\n"
     ]
    }
   ],
   "source": [
    "# Similarly:\n",
    "polite_rage_decorated = a_decorator(rage2)\n",
    "polite_rage_decorated()"
   ]
  },
  {
   "cell_type": "markdown",
   "id": "785f69bf-3c7f-4fb7-954d-c1de557dc8c6",
   "metadata": {},
   "source": [
    "> Note: The problem here is that our decorator above doesn't work on functions with multiple arguments. This is because within the decorator, fn() closure is called without arguments.\n",
    "\n",
    "This issue will be soprted in the next topic"
   ]
  },
  {
   "cell_type": "code",
   "execution_count": null,
   "id": "81958342-eb6a-4ed1-a4b3-ccbcd4a0cfc9",
   "metadata": {},
   "outputs": [],
   "source": []
  }
 ],
 "metadata": {
  "kernelspec": {
   "display_name": "Python 3 (ipykernel)",
   "language": "python",
   "name": "python3"
  },
  "language_info": {
   "codemirror_mode": {
    "name": "ipython",
    "version": 3
   },
   "file_extension": ".py",
   "mimetype": "text/x-python",
   "name": "python",
   "nbconvert_exporter": "python",
   "pygments_lexer": "ipython3",
   "version": "3.9.6"
  }
 },
 "nbformat": 4,
 "nbformat_minor": 5
}
