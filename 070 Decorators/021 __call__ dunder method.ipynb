{
 "cells": [
  {
   "cell_type": "markdown",
   "id": "5c7384ef-b548-4014-822e-6b3fa3e630a1",
   "metadata": {},
   "source": [
    "We will now see how we can use classes to decorate functions and extend their functionality. But before we do, we will have to see what the ```__call__()``` dunder function does.\n",
    "\n",
    "## ```__call__()``` dunder function\n",
    "- The ```__call__()``` method enables Python programmers to write classes where the instances behave like functions and can be called like a function. - FOr example, when the instance 'x' is called as a function; if this method is defined, x(arg1, arg2, ...), it's a shorthand for x.```__call__```(arg1, arg2, ...). ie instance() is shorthand for instance.```__call__```()\n",
    "\n",
    "For example:"
   ]
  },
  {
   "cell_type": "code",
   "execution_count": 7,
   "id": "35b487c8-e2b1-48a6-a770-866503d516c3",
   "metadata": {},
   "outputs": [],
   "source": [
    "class Example:\n",
    "    def __init__(self):\n",
    "        print(\"Instance Created\")\n",
    "      \n",
    "    # Defining __call__ method\n",
    "    def __call__(self):\n",
    "        print(\"Instance is called via special method\")\n",
    "  \n",
    "# Instance created\n",
    "e = Example()"
   ]
  },
  {
   "cell_type": "code",
   "execution_count": 7,
   "id": "2ed3a5d4-df34-4f33-8c20-2f3f4bb4b0ee",
   "metadata": {},
   "outputs": [],
   "source": [
    "# __call__ method will be called\n",
    "e()"
   ]
  },
  {
   "cell_type": "code",
   "execution_count": 7,
   "id": "73bce2f6-8f65-4b5b-85bd-10d808558374",
   "metadata": {},
   "outputs": [
    {
     "name": "stdout",
     "output_type": "stream",
     "text": [
      "Instance Created\n",
      "Instance is called via special method\n",
      "Instance is called via special method\n"
     ]
    }
   ],
   "source": [
    "# which is the same as \n",
    "e.__call__()"
   ]
  }
 ],
 "metadata": {
  "kernelspec": {
   "display_name": "Python 3 (ipykernel)",
   "language": "python",
   "name": "python3"
  },
  "language_info": {
   "codemirror_mode": {
    "name": "ipython",
    "version": 3
   },
   "file_extension": ".py",
   "mimetype": "text/x-python",
   "name": "python",
   "nbconvert_exporter": "python",
   "pygments_lexer": "ipython3",
   "version": "3.9.6"
  }
 },
 "nbformat": 4,
 "nbformat_minor": 5
}
