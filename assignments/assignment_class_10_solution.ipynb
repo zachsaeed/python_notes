{
 "cells": [
  {
   "cell_type": "markdown",
   "metadata": {},
   "source": [
    "Q We have a zip() function in python. It accepts a variable number of iterators.\n",
    "Create a function called 'my_zip' that does the same and takes 3 list variables ie\n",
    "def my_zip(list1, list2, list3):\n",
    "There are several ways to implement it.Your implementation should:\n",
    "- Use a for loop. \n",
    "- Also, it should be able to accept lists with different lengths just like zip does "
   ]
  },
  {
   "cell_type": "code",
   "execution_count": 12,
   "metadata": {},
   "outputs": [
    {
     "name": "stdout",
     "output_type": "stream",
     "text": [
      "[(1, 'a', 'ab'), (2, 'b', 'cd'), (3, 'c', 'ef'), (4, 'v', 'gh'), (5, 'd', 'ij')]\n"
     ]
    }
   ],
   "source": [
    "def my_zip(list1, list2, list3):\n",
    "    smallest_len = min([len(list1), len(list2), len(list3)])    \n",
    "    zip_list = []\n",
    "    i = 0\n",
    "    for item in list1:\n",
    "        item_tuple = (list1[i],list2[i],list3[i])\n",
    "        zip_list.append(item_tuple)\n",
    "        if not i<smallest_len-1:\n",
    "            break\n",
    "        i+=1        \n",
    "    return zip_list\n",
    "\n",
    "list_1 = [1,2,3,4,5,6,7,8,9,0]\n",
    "list_2 = ['a','b','c','v','d','e','f','g','h','i','j','k','l','m','n','o','p','q','r','s','t']\n",
    "list_3 = ['ab', 'cd', 'ef', 'gh', 'ij']\n",
    "result = my_zip(list_1, list_2, list_3)\n",
    "print(result)    "
   ]
  },
  {
   "cell_type": "markdown",
   "metadata": {},
   "source": [
    "Write a program that prints the numbers 1-100, each on a new line\n",
    "For each number that is a multiple of 3, print “Multiple of 3” instead of the number\n",
    "For each number that is a multiple of 5, print “Multiple of 5” instead of the number\n",
    "For each number that is a multiple of both 3 and 5, print “Multiple of 3Multiple of 5” instead of the number"
   ]
  },
  {
   "cell_type": "code",
   "execution_count": 2,
   "metadata": {},
   "outputs": [
    {
     "name": "stdout",
     "output_type": "stream",
     "text": [
      "1\n",
      "2\n",
      "Multiple of 3\n",
      "4\n",
      "Multiple of 5\n",
      "Multiple of 3\n",
      "7\n",
      "8\n",
      "Multiple of 3\n",
      "Multiple of 5\n",
      "11\n",
      "Multiple of 3\n",
      "13\n",
      "14\n",
      "Multiple of 3Multiple of 5\n",
      "16\n",
      "17\n",
      "Multiple of 3\n",
      "19\n",
      "Multiple of 5\n",
      "Multiple of 3\n",
      "22\n",
      "23\n",
      "Multiple of 3\n",
      "Multiple of 5\n",
      "26\n",
      "Multiple of 3\n",
      "28\n",
      "29\n",
      "Multiple of 3Multiple of 5\n",
      "31\n",
      "32\n",
      "Multiple of 3\n",
      "34\n",
      "Multiple of 5\n",
      "Multiple of 3\n",
      "37\n",
      "38\n",
      "Multiple of 3\n",
      "Multiple of 5\n",
      "41\n",
      "Multiple of 3\n",
      "43\n",
      "44\n",
      "Multiple of 3Multiple of 5\n",
      "46\n",
      "47\n",
      "Multiple of 3\n",
      "49\n",
      "Multiple of 5\n",
      "Multiple of 3\n",
      "52\n",
      "53\n",
      "Multiple of 3\n",
      "Multiple of 5\n",
      "56\n",
      "Multiple of 3\n",
      "58\n",
      "59\n",
      "Multiple of 3Multiple of 5\n",
      "61\n",
      "62\n",
      "Multiple of 3\n",
      "64\n",
      "Multiple of 5\n",
      "Multiple of 3\n",
      "67\n",
      "68\n",
      "Multiple of 3\n",
      "Multiple of 5\n",
      "71\n",
      "Multiple of 3\n",
      "73\n",
      "74\n",
      "Multiple of 3Multiple of 5\n",
      "76\n",
      "77\n",
      "Multiple of 3\n",
      "79\n",
      "Multiple of 5\n",
      "Multiple of 3\n",
      "82\n",
      "83\n",
      "Multiple of 3\n",
      "Multiple of 5\n",
      "86\n",
      "Multiple of 3\n",
      "88\n",
      "89\n",
      "Multiple of 3Multiple of 5\n",
      "91\n",
      "92\n",
      "Multiple of 3\n",
      "94\n",
      "Multiple of 5\n",
      "Multiple of 3\n",
      "97\n",
      "98\n",
      "Multiple of 3\n",
      "Multiple of 5\n"
     ]
    }
   ],
   "source": [
    "for num in range(1,101):\n",
    "    string = \"\"\n",
    "    if num % 3 == 0:\n",
    "        string = string + \"Multiple of 3\"\n",
    "    if num % 5 == 0:\n",
    "        string = string + \"Multiple of 5\"\n",
    "    if num % 5 != 0 and num % 3 != 0:\n",
    "        string = string + str(num)\n",
    "    print(string)"
   ]
  },
  {
   "cell_type": "code",
   "execution_count": 1,
   "metadata": {},
   "outputs": [
    {
     "name": "stdout",
     "output_type": "stream",
     "text": [
      "1\n",
      "2\n",
      "Multiple of 3\n",
      "4\n",
      "Multiple of 5\n",
      "Multiple of 3\n",
      "7\n",
      "8\n",
      "Multiple of 3\n",
      "Multiple of 5\n",
      "11\n",
      "Multiple of 3\n",
      "13\n",
      "14\n",
      "Multiple of 3Multiple of 5\n",
      "16\n",
      "17\n",
      "Multiple of 3\n",
      "19\n",
      "Multiple of 5\n",
      "Multiple of 3\n",
      "22\n",
      "23\n",
      "Multiple of 3\n",
      "Multiple of 5\n",
      "26\n",
      "Multiple of 3\n",
      "28\n",
      "29\n",
      "Multiple of 3Multiple of 5\n",
      "31\n",
      "32\n",
      "Multiple of 3\n",
      "34\n",
      "Multiple of 5\n",
      "Multiple of 3\n",
      "37\n",
      "38\n",
      "Multiple of 3\n",
      "Multiple of 5\n",
      "41\n",
      "Multiple of 3\n",
      "43\n",
      "44\n",
      "Multiple of 3Multiple of 5\n",
      "46\n",
      "47\n",
      "Multiple of 3\n",
      "49\n",
      "Multiple of 5\n",
      "Multiple of 3\n",
      "52\n",
      "53\n",
      "Multiple of 3\n",
      "Multiple of 5\n",
      "56\n",
      "Multiple of 3\n",
      "58\n",
      "59\n",
      "Multiple of 3Multiple of 5\n",
      "61\n",
      "62\n",
      "Multiple of 3\n",
      "64\n",
      "Multiple of 5\n",
      "Multiple of 3\n",
      "67\n",
      "68\n",
      "Multiple of 3\n",
      "Multiple of 5\n",
      "71\n",
      "Multiple of 3\n",
      "73\n",
      "74\n",
      "Multiple of 3Multiple of 5\n",
      "76\n",
      "77\n",
      "Multiple of 3\n",
      "79\n",
      "Multiple of 5\n",
      "Multiple of 3\n",
      "82\n",
      "83\n",
      "Multiple of 3\n",
      "Multiple of 5\n",
      "86\n",
      "Multiple of 3\n",
      "88\n",
      "89\n",
      "Multiple of 3Multiple of 5\n",
      "91\n",
      "92\n",
      "Multiple of 3\n",
      "94\n",
      "Multiple of 5\n",
      "Multiple of 3\n",
      "97\n",
      "98\n",
      "Multiple of 3\n",
      "Multiple of 5\n"
     ]
    }
   ],
   "source": [
    "for num in range(1, 101):\n",
    "    if num % 3 == 0 and num % 5 == 0:\n",
    "        print('Multiple of 3Multiple of 5')\n",
    "    elif num % 3 == 0:\n",
    "        print('Multiple of 3')\n",
    "    elif num % 5 == 0:\n",
    "        print('Multiple of 5')\n",
    "    else:\n",
    "        print(num)"
   ]
  },
  {
   "cell_type": "markdown",
   "metadata": {},
   "source": [
    "Create a function which for a given sentence, returns the average word length. \n",
    "Note: Remember that your code removes punctuation (!?',;.) first.\n",
    "\n"
   ]
  },
  {
   "cell_type": "code",
   "execution_count": 5,
   "metadata": {},
   "outputs": [
    {
     "name": "stdout",
     "output_type": "stream",
     "text": [
      "4.27\n",
      "3.1\n"
     ]
    }
   ],
   "source": [
    "sentence1 = \"They may take our lives, but they'll never take our freedom!\"\n",
    "sentence2 = \"If you let my daughter go now, that'll be the end of it. I will not look for you, I will not pursue you. But if you don't, I will look for you, I will find you, and I will kill you.\"\n",
    "\n",
    "def solution(sentence):\n",
    "    for p in \"!?',;.\":\n",
    "        sentence = sentence.replace(p, '')\n",
    "    words = sentence.split()\n",
    "    return round(sum(len(word) for word in words)/len(words),2)\n",
    "    \n",
    "print(solution(sentence1))   # should print 4.27\n",
    "print(solution(sentence2))   # should print 3.1"
   ]
  },
  {
   "cell_type": "markdown",
   "metadata": {},
   "source": [
    "A palindrome is a phrase, a word, or a sequence that reads the same forward and backward. One such example will be ‘nurses run’. Create a function that checks whether a string or word is a palindrome and returns a boolean value."
   ]
  },
  {
   "cell_type": "code",
   "execution_count": 6,
   "metadata": {},
   "outputs": [
    {
     "data": {
      "text/plain": [
       "True"
      ]
     },
     "execution_count": 6,
     "metadata": {},
     "output_type": "execute_result"
    }
   ],
   "source": [
    "def isPalindrome(string):\n",
    "     left,right=0,len(string)-1\n",
    "     while right>=left:\n",
    "             if not string[left]==string[right]:\n",
    "                return False\n",
    "             left+=1;right-=1\n",
    "             return True\n",
    "isPalindrome('redrum murder')"
   ]
  },
  {
   "cell_type": "markdown",
   "metadata": {},
   "source": [
    "Create a function that can accept anynumber of keyword arguments. It should print 3 things: \n",
    "- total arguments: <number>\n",
    "- list of keys: [] \n",
    "- list of values: \n",
    "    \n",
    "The function defintion should start with:\n",
    "    def kwrag_details(**kwargs):\n",
    "        your code \n",
    "        "
   ]
  },
  {
   "cell_type": "code",
   "execution_count": 28,
   "metadata": {},
   "outputs": [
    {
     "name": "stdout",
     "output_type": "stream",
     "text": [
      "5\n",
      "['var_1', 'var_2', 'var_3', 'var_4', 'var_5']\n",
      "dict_keys(['var_1', 'var_2', 'var_3', 'var_4', 'var_5'])\n",
      "dict_values(['saquib', 23, 123456, 3.678, ('abc', 'def')])\n",
      "['var_1', 'var_2', 'var_3', 'var_4', 'var_5']\n",
      "['saquib', 23, 123456, 3.678, ('abc', 'def')]\n"
     ]
    }
   ],
   "source": [
    "def keywordArgumentFunction(**kwargs):\n",
    "    # total arguments\n",
    "    print(len(kwargs))\n",
    "    \n",
    "    # keys\n",
    "    print(list(kwargs))\n",
    "    print(kwargs.keys())\n",
    "    \n",
    "    # values\n",
    "    print(kwargs.values())\n",
    "    \n",
    "    # list of keys and values using for\n",
    "    list_keys = []\n",
    "    list_vals = []\n",
    "    for k in kwargs:\n",
    "        list_keys.append(k)\n",
    "        list_vals.append(kwargs[k])\n",
    "    print(list_keys)    \n",
    "    print(list_vals)    \n",
    "    \n",
    "keywordArgumentFunction(var_1='saquib', var_2=23, var_3=123456, var_4=3.678, var_5=('abc', 'def'))    "
   ]
  },
  {
   "cell_type": "code",
   "execution_count": null,
   "metadata": {},
   "outputs": [],
   "source": []
  }
 ],
 "metadata": {
  "kernelspec": {
   "display_name": "Python 3",
   "language": "python",
   "name": "python3"
  },
  "language_info": {
   "codemirror_mode": {
    "name": "ipython",
    "version": 3
   },
   "file_extension": ".py",
   "mimetype": "text/x-python",
   "name": "python",
   "nbconvert_exporter": "python",
   "pygments_lexer": "ipython3",
   "version": "3.8.7"
  }
 },
 "nbformat": 4,
 "nbformat_minor": 4
}
