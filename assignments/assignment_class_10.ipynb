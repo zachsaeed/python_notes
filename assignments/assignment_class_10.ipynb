{
 "cells": [
  {
   "cell_type": "markdown",
   "metadata": {},
   "source": [
    "Q1 We have a zip() function in python. It accepts a variable number of iterators (atleast two).\n",
    "Create a function called 'my_zip' that does the same and takes 3 list variables\n",
    "\n",
    "There are several ways to implement it.Your implementation should:\n",
    "- Use a for loop. \n",
    "- Also, it should be able to accept lists with different lengths just like zip does "
   ]
  },
  {
   "cell_type": "code",
   "execution_count": 6,
   "metadata": {},
   "outputs": [
    {
     "name": "stdout",
     "output_type": "stream",
     "text": [
      "[('abc', 'a', 'ab'), (2, 'b', 'cd'), (3, 'c', 'ef'), (4, 'v', 'gh'), (5, 'd', 'ij')]\n"
     ]
    }
   ],
   "source": [
    "def my_zip(list1, list2, list3):\n",
    "    smallest = min([len(list1), len(list2), len(list3)])\n",
    "    zip_list = []    \n",
    "    \n",
    "    for index in range(0, smallest):\n",
    "        item_tuple = (list1[index], list2[index], list3[index])\n",
    "        zip_list.append(item_tuple)\n",
    "        \n",
    "    return zip_list\n",
    "\n",
    "list_1 = ['abc',2,3,4,5,6,7,8,9,0]\n",
    "list_2 = ['a','b','c','v','d','e','f','g','h','i','j','k','l','m','n','o','p','q','r','s','t']\n",
    "list_3 = ['ab', 'cd', 'ef', 'gh', 'ij']\n",
    "\n",
    "result = my_zip(list_1, list_2, list_3)\n",
    "print(result)"
   ]
  },
  {
   "cell_type": "markdown",
   "metadata": {},
   "source": [
    "Q2 Write a program that prints the numbers 1-100, each on a new line\n",
    "For each number that is a multiple of 3, print “Multiple of 3” instead of the number\n",
    "For each number that is a multiple of 5, print “Multiple of 5” instead of the number\n",
    "For each number that is a multiple of both 3 and 5, print “Multiple of 3Multiple of 5” instead of the number"
   ]
  },
  {
   "cell_type": "code",
   "execution_count": 23,
   "metadata": {},
   "outputs": [
    {
     "name": "stdout",
     "output_type": "stream",
     "text": [
      "1\n",
      "2\n",
      "Multiple of 3\n",
      "4\n",
      "Multiple of 5\n",
      "Multiple of 3\n",
      "7\n",
      "8\n",
      "Multiple of 3\n",
      "Multiple of 5\n",
      "11\n",
      "Multiple of 3\n",
      "13\n",
      "14\n",
      "Multiple of 3Multiple of 5\n",
      "16\n",
      "17\n",
      "Multiple of 3\n",
      "19\n",
      "Multiple of 5\n",
      "Multiple of 3\n",
      "22\n",
      "23\n",
      "Multiple of 3\n",
      "Multiple of 5\n",
      "26\n",
      "Multiple of 3\n",
      "28\n",
      "29\n",
      "Multiple of 3Multiple of 5\n",
      "31\n",
      "32\n",
      "Multiple of 3\n",
      "34\n",
      "Multiple of 5\n",
      "Multiple of 3\n",
      "37\n",
      "38\n",
      "Multiple of 3\n",
      "Multiple of 5\n",
      "41\n",
      "Multiple of 3\n",
      "43\n",
      "44\n",
      "Multiple of 3Multiple of 5\n",
      "46\n",
      "47\n",
      "Multiple of 3\n",
      "49\n",
      "Multiple of 5\n",
      "Multiple of 3\n",
      "52\n",
      "53\n",
      "Multiple of 3\n",
      "Multiple of 5\n",
      "56\n",
      "Multiple of 3\n",
      "58\n",
      "59\n",
      "Multiple of 3Multiple of 5\n",
      "61\n",
      "62\n",
      "Multiple of 3\n",
      "64\n",
      "Multiple of 5\n",
      "Multiple of 3\n",
      "67\n",
      "68\n",
      "Multiple of 3\n",
      "Multiple of 5\n",
      "71\n",
      "Multiple of 3\n",
      "73\n",
      "74\n",
      "Multiple of 3Multiple of 5\n",
      "76\n",
      "77\n",
      "Multiple of 3\n",
      "79\n",
      "Multiple of 5\n",
      "Multiple of 3\n",
      "82\n",
      "83\n",
      "Multiple of 3\n",
      "Multiple of 5\n",
      "86\n",
      "Multiple of 3\n",
      "88\n",
      "89\n",
      "Multiple of 3Multiple of 5\n",
      "91\n",
      "92\n",
      "Multiple of 3\n",
      "94\n",
      "Multiple of 5\n",
      "Multiple of 3\n",
      "97\n",
      "98\n",
      "Multiple of 3\n",
      "Multiple of 5\n"
     ]
    }
   ],
   "source": [
    "for num in range(1, 101):\n",
    "    if num % 3 == 0 and num % 5 == 0:\n",
    "        print('Multiple of 3Multiple of 5')\n",
    "    elif num % 3 == 0:\n",
    "        print('Multiple of 3')\n",
    "    elif num % 5 == 0:\n",
    "        print('Multiple of 5')\n",
    "    else:\n",
    "        print(num)"
   ]
  },
  {
   "cell_type": "code",
   "execution_count": 28,
   "metadata": {},
   "outputs": [
    {
     "name": "stdout",
     "output_type": "stream",
     "text": [
      "1\n",
      "2\n",
      "Multiple of 3\n",
      "4\n",
      "Multiple of 5\n",
      "Multiple of 3\n",
      "7\n",
      "8\n",
      "Multiple of 3\n",
      "Multiple of 5\n",
      "11\n",
      "Multiple of 3\n",
      "13\n",
      "14\n",
      "Multiple of 3Multiple of 5\n",
      "16\n",
      "17\n",
      "Multiple of 3\n",
      "19\n",
      "Multiple of 5\n",
      "Multiple of 3\n",
      "22\n",
      "23\n",
      "Multiple of 3\n",
      "Multiple of 5\n",
      "26\n",
      "Multiple of 3\n",
      "28\n",
      "29\n",
      "Multiple of 3Multiple of 5\n",
      "31\n",
      "32\n",
      "Multiple of 3\n",
      "34\n",
      "Multiple of 5\n",
      "Multiple of 3\n",
      "37\n",
      "38\n",
      "Multiple of 3\n",
      "Multiple of 5\n",
      "41\n",
      "Multiple of 3\n",
      "43\n",
      "44\n",
      "Multiple of 3Multiple of 5\n",
      "46\n",
      "47\n",
      "Multiple of 3\n",
      "49\n",
      "Multiple of 5\n",
      "Multiple of 3\n",
      "52\n",
      "53\n",
      "Multiple of 3\n",
      "Multiple of 5\n",
      "56\n",
      "Multiple of 3\n",
      "58\n",
      "59\n",
      "Multiple of 3Multiple of 5\n",
      "61\n",
      "62\n",
      "Multiple of 3\n",
      "64\n",
      "Multiple of 5\n",
      "Multiple of 3\n",
      "67\n",
      "68\n",
      "Multiple of 3\n",
      "Multiple of 5\n",
      "71\n",
      "Multiple of 3\n",
      "73\n",
      "74\n",
      "Multiple of 3Multiple of 5\n",
      "76\n",
      "77\n",
      "Multiple of 3\n",
      "79\n",
      "Multiple of 5\n",
      "Multiple of 3\n",
      "82\n",
      "83\n",
      "Multiple of 3\n",
      "Multiple of 5\n",
      "86\n",
      "Multiple of 3\n",
      "88\n",
      "89\n",
      "Multiple of 3Multiple of 5\n",
      "91\n",
      "92\n",
      "Multiple of 3\n",
      "94\n",
      "Multiple of 5\n",
      "Multiple of 3\n",
      "97\n",
      "98\n",
      "Multiple of 3\n",
      "Multiple of 5\n"
     ]
    }
   ],
   "source": [
    "# string concat technique\n",
    "for num in range(1, 101):\n",
    "    \n",
    "    my_string = ''\n",
    "    \n",
    "    if num % 3 == 0:\n",
    "        my_string = \"Multiple of 3\"\n",
    "        \n",
    "    if num % 5 == 0:\n",
    "        my_string = my_string + \"Multiple of 5\"\n",
    "        \n",
    "    if num % 3 != 0 and num % 5 != 0:\n",
    "        my_string = str(num)\n",
    "        \n",
    "    print(my_string)    \n",
    "   "
   ]
  },
  {
   "cell_type": "markdown",
   "metadata": {},
   "source": [
    "Q3 Create a function which for a given sentence, returns the average word length. \n",
    "Note: Remember that your code removes punctuation first."
   ]
  },
  {
   "cell_type": "code",
   "execution_count": 7,
   "metadata": {},
   "outputs": [
    {
     "name": "stdout",
     "output_type": "stream",
     "text": [
      "None\n",
      "None\n"
     ]
    }
   ],
   "source": [
    "sentence1 = \"They may take our lives, but they'll never take our freedom!\"\n",
    "sentence2 = \"If you let my daughter go now, that'll be the end of it. I will not look for you, I will not pursue you. But if you don't, I will look for you, I will find you, and I will kill you.\"\n",
    "\n",
    "def solution(sentence):\n",
    "    pass # your code\n",
    "    \n",
    "print(solution(sentence1))   # should print 4.27\n",
    "print(solution(sentence2))   # should print 3.1"
   ]
  },
  {
   "cell_type": "markdown",
   "metadata": {},
   "source": [
    "Q4 A palindrome is a phrase, a word, or a sequence that reads the same forward and backward. One such example will be ‘nurses run’. Create a function that checks whether a string or word is a palindrome and returns a boolean value, for example: isPalindrome('redrum murder') should return True. otherwise false"
   ]
  },
  {
   "cell_type": "code",
   "execution_count": 9,
   "metadata": {},
   "outputs": [
    {
     "name": "stdout",
     "output_type": "stream",
     "text": [
      "True\n",
      "True\n",
      "False\n"
     ]
    }
   ],
   "source": [
    "def isPalindrome(string):\n",
    "    rev = string[::-1]\n",
    "    \n",
    "    if(string == rev):\n",
    "        return True\n",
    "    else:\n",
    "        return False\n",
    "\n",
    "print(isPalindrome('civic'))\n",
    "    \n",
    "print(isPalindrome('redrum murder'))\n",
    "\n",
    "print(isPalindrome('saeed'))"
   ]
  },
  {
   "cell_type": "markdown",
   "metadata": {},
   "source": [
    "Create a function that can accept anynumber of keyword arguments. It should print 3 things: \n",
    "- total arguments: <number>\n",
    "- list of keys: [] \n",
    "- list of values"
   ]
  },
  {
   "cell_type": "code",
   "execution_count": 21,
   "metadata": {},
   "outputs": [
    {
     "name": "stdout",
     "output_type": "stream",
     "text": [
      "['var_2', 'var_3', 'var_4', 'var_5']\n",
      "[23, 123456, 3.678, ('abc', 'def')]\n"
     ]
    }
   ],
   "source": [
    "def kwarg_details(**kwargs):\n",
    "    '''\n",
    "    # total arguments:\n",
    "    print(len(kwargs))\n",
    "    \n",
    "    # list of keys: []\n",
    "    print(list(kwargs))\n",
    "    print(list(kwargs.keys()))\n",
    "    \n",
    "    # list of values\n",
    "    print(list(kwargs.values()))\n",
    "    '''\n",
    "    \n",
    "    # list of keys and values using for\n",
    "    list_keys = []\n",
    "    list_values = []\n",
    "    \n",
    "    for k in kwargs:\n",
    "        list_keys.append(k)\n",
    "        list_values.append(kwargs[k])\n",
    "        \n",
    "    print(list_keys)\n",
    "    print(list_values)\n",
    "\n",
    "\n",
    "kwarg_details( var_2=23, var_3=123456, var_4=3.678, var_5=('abc', 'def'))\n",
    "        "
   ]
  },
  {
   "cell_type": "code",
   "execution_count": null,
   "metadata": {},
   "outputs": [],
   "source": []
  }
 ],
 "metadata": {
  "kernelspec": {
   "display_name": "Python 3",
   "language": "python",
   "name": "python3"
  },
  "language_info": {
   "codemirror_mode": {
    "name": "ipython",
    "version": 3
   },
   "file_extension": ".py",
   "mimetype": "text/x-python",
   "name": "python",
   "nbconvert_exporter": "python",
   "pygments_lexer": "ipython3",
   "version": "3.8.7"
  }
 },
 "nbformat": 4,
 "nbformat_minor": 4
}
