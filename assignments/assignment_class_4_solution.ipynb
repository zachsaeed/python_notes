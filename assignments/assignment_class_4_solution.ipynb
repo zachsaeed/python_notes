{
 "cells": [
  {
   "cell_type": "markdown",
   "metadata": {},
   "source": [
    "## INSTRUCTIONS:\n",
    "### <font color = 'red'>Where indicated, double-click to activate the cell and write the answer. Then click on 'run' button.</font>"
   ]
  },
  {
   "cell_type": "markdown",
   "metadata": {},
   "source": [
    "#### Q1. What is the correct way to declare strings?\n",
    "\n",
    "####    a. 'Hello'\n",
    "    \n",
    "####    b. \"Hello\"\n",
    "    \n",
    "####    c. Both of the above\n",
    "    \n",
    "####    d. None of the above"
   ]
  },
  {
   "cell_type": "markdown",
   "metadata": {},
   "source": [
    "##### double-click here to answer Q1\n",
    "\n",
    "Answer: c"
   ]
  },
  {
   "cell_type": "markdown",
   "metadata": {},
   "source": [
    "#### Q2. Multiline strings can be written using which symbol?"
   ]
  },
  {
   "cell_type": "code",
   "execution_count": 2,
   "metadata": {},
   "outputs": [
    {
     "name": "stdout",
     "output_type": "stream",
     "text": [
      "Lorem ipsum dolor sit amet,\n",
      "    consectetur adipiscing elit,\n",
      "    sed do eiusmod tempor incididunt\n",
      "    ut labore et dolore magna aliqua.\n"
     ]
    }
   ],
   "source": [
    "# replace the ? with appropriate character\n",
    "a = '''Lorem ipsum dolor sit amet,\n",
    "    consectetur adipiscing elit,\n",
    "    sed do eiusmod tempor incididunt\n",
    "    ut labore et dolore magna aliqua.'''\n",
    "print(a)"
   ]
  },
  {
   "cell_type": "markdown",
   "metadata": {},
   "source": [
    "#### Q3. In the following string, how can we print '!'?"
   ]
  },
  {
   "cell_type": "code",
   "execution_count": 8,
   "metadata": {},
   "outputs": [
    {
     "name": "stdout",
     "output_type": "stream",
     "text": [
      "!\n"
     ]
    }
   ],
   "source": [
    "a = 'Hello World!'\n",
    "\n",
    "print(a[-1])"
   ]
  },
  {
   "cell_type": "markdown",
   "metadata": {},
   "source": [
    "#### Q4. Print the length of the following string:"
   ]
  },
  {
   "cell_type": "code",
   "execution_count": 15,
   "metadata": {},
   "outputs": [
    {
     "name": "stdout",
     "output_type": "stream",
     "text": [
      "12\n"
     ]
    }
   ],
   "source": [
    "b = 'Python Class'\n",
    "print(len(b))"
   ]
  },
  {
   "cell_type": "markdown",
   "metadata": {},
   "source": [
    "#### Q5. Use slicing method for the below string to print the following:\n",
    "\n",
    "####    a. 'unda'\n",
    "\n",
    "####    b. 'great!'\n",
    "    \n",
    "####    c. every 2nd letter of the string"
   ]
  },
  {
   "cell_type": "code",
   "execution_count": 24,
   "metadata": {},
   "outputs": [
    {
     "name": "stdout",
     "output_type": "stream",
     "text": [
      "unda\n",
      "great!\n",
      "Snasaeget\n"
     ]
    }
   ],
   "source": [
    "c = 'Sundays are great!'\n",
    "print(c[1:5])\n",
    "\n",
    "# print(c[12:len(c)])\n",
    "print(c[12:])\n",
    "\n",
    "# print(c[0:len(c):2])\n",
    "print(c[::2])\n"
   ]
  },
  {
   "cell_type": "markdown",
   "metadata": {},
   "source": [
    "#### Q6. Convert the following string into all caps:"
   ]
  },
  {
   "cell_type": "code",
   "execution_count": 27,
   "metadata": {},
   "outputs": [
    {
     "name": "stdout",
     "output_type": "stream",
     "text": [
      "PYTHON CLASS\n"
     ]
    }
   ],
   "source": [
    "e = 'python class'\n",
    "print(e.upper())"
   ]
  },
  {
   "cell_type": "markdown",
   "metadata": {},
   "source": [
    "#### Q7. A string was split at space to return the list ['I', 'am', 'a', 'programmer']. What was the original string?"
   ]
  },
  {
   "cell_type": "code",
   "execution_count": 28,
   "metadata": {},
   "outputs": [
    {
     "name": "stdout",
     "output_type": "stream",
     "text": [
      "['I', 'am', 'a', 'programmer']\n"
     ]
    }
   ],
   "source": [
    "##### double-click here to answer Q7\n",
    "\n",
    "a = 'I am a programmer'\n",
    "print(a.split(' '))"
   ]
  },
  {
   "cell_type": "markdown",
   "metadata": {},
   "source": [
    "#### Q8. f = 'Programming' ===>  print(f.replace('m', 'z')). What will be printed?"
   ]
  },
  {
   "cell_type": "code",
   "execution_count": 29,
   "metadata": {},
   "outputs": [
    {
     "name": "stdout",
     "output_type": "stream",
     "text": [
      "Prograzzing\n"
     ]
    }
   ],
   "source": [
    "##### double-click here to answer Q8\n",
    "\n",
    "f = 'Programming' \n",
    "print(f.replace('m', 'z'))"
   ]
  },
  {
   "cell_type": "markdown",
   "metadata": {},
   "source": [
    "#### Q9. Replace ? to concatenate g and h:"
   ]
  },
  {
   "cell_type": "code",
   "execution_count": 30,
   "metadata": {},
   "outputs": [
    {
     "name": "stdout",
     "output_type": "stream",
     "text": [
      "HelloWorld\n"
     ]
    }
   ],
   "source": [
    "g = 'Hello'\n",
    "h = 'World'\n",
    "i = g + h\n",
    "print(i)"
   ]
  },
  {
   "cell_type": "markdown",
   "metadata": {},
   "source": [
    "#### Q10. The following string will give an error. \n",
    "\n",
    "####    txt = \"We are the so-called \"Vikings\" from the north.\"\n",
    "    \n",
    "####    Which escape character can be used to prevent the error?"
   ]
  },
  {
   "cell_type": "code",
   "execution_count": 31,
   "metadata": {},
   "outputs": [],
   "source": [
    "txt = \"We are the so-called \\\"Vikings\\\" from the north.\""
   ]
  },
  {
   "cell_type": "markdown",
   "metadata": {},
   "source": [
    "#### Q11. What will be the output of the following:\n",
    "####     print('Python\\nClass')"
   ]
  },
  {
   "cell_type": "code",
   "execution_count": 32,
   "metadata": {},
   "outputs": [
    {
     "name": "stdout",
     "output_type": "stream",
     "text": [
      "Python\n",
      "Class\n"
     ]
    }
   ],
   "source": [
    "##### double-click here to answer Q11\n",
    "print('Python\\nClass')"
   ]
  },
  {
   "cell_type": "markdown",
   "metadata": {},
   "source": [
    "#### Q12. Use the python documentation to print the output of the following methods on z:\n",
    "\n",
    "####    z = 'python documentation'\n",
    "\n",
    "####    a. z.islower()\n",
    "    \n",
    "####    b. z.capitalize()\n",
    "    \n",
    "####    c. z.title()"
   ]
  },
  {
   "cell_type": "markdown",
   "metadata": {},
   "source": [
    "##### double-click here to answer Q12\n",
    "\n",
    "Answer:"
   ]
  },
  {
   "cell_type": "code",
   "execution_count": 35,
   "metadata": {},
   "outputs": [
    {
     "name": "stdout",
     "output_type": "stream",
     "text": [
      "python documentation\n",
      "True\n",
      "Python documentation\n",
      "Python Documentation\n"
     ]
    }
   ],
   "source": [
    "z = 'python documentation'\n",
    "print(z)\n",
    "print(z.islower())\n",
    "print(z.capitalize())\n",
    "print(z.title())"
   ]
  },
  {
   "cell_type": "code",
   "execution_count": 37,
   "metadata": {},
   "outputs": [
    {
     "name": "stdout",
     "output_type": "stream",
     "text": [
      "None\n",
      "[100, 82, 65, 50, 23]\n"
     ]
    },
    {
     "ename": "TypeError",
     "evalue": "'str' object does not support item assignment",
     "output_type": "error",
     "traceback": [
      "\u001b[1;31m---------------------------------------------------------------------------\u001b[0m",
      "\u001b[1;31mTypeError\u001b[0m                                 Traceback (most recent call last)",
      "\u001b[1;32m<ipython-input-37-68d079991394>\u001b[0m in \u001b[0;36m<module>\u001b[1;34m\u001b[0m\n\u001b[0;32m      4\u001b[0m \u001b[1;33m\u001b[0m\u001b[0m\n\u001b[0;32m      5\u001b[0m \u001b[0mMystring\u001b[0m \u001b[1;33m=\u001b[0m \u001b[1;34m'Hello How are you'\u001b[0m\u001b[1;33m\u001b[0m\u001b[1;33m\u001b[0m\u001b[0m\n\u001b[1;32m----> 6\u001b[1;33m \u001b[0mMystring\u001b[0m\u001b[1;33m[\u001b[0m\u001b[1;36m5\u001b[0m\u001b[1;33m]\u001b[0m \u001b[1;33m=\u001b[0m \u001b[1;34m'a'\u001b[0m\u001b[1;33m\u001b[0m\u001b[1;33m\u001b[0m\u001b[0m\n\u001b[0m\u001b[0;32m      7\u001b[0m \u001b[0mprint\u001b[0m\u001b[1;33m(\u001b[0m\u001b[0mMystring\u001b[0m\u001b[1;33m)\u001b[0m\u001b[1;33m\u001b[0m\u001b[1;33m\u001b[0m\u001b[0m\n",
      "\u001b[1;31mTypeError\u001b[0m: 'str' object does not support item assignment"
     ]
    }
   ],
   "source": [
    "thislist = [100, 50, 65, 82, 23]\n",
    "print(thislist.sort(reverse = True))\n",
    "print(thislist)\n",
    "\n",
    "Mystring = 'Hello How are you'\n",
    "Mystring[5] = 'a'\n",
    "print(Mystring)"
   ]
  },
  {
   "cell_type": "code",
   "execution_count": null,
   "metadata": {},
   "outputs": [],
   "source": []
  }
 ],
 "metadata": {
  "kernelspec": {
   "display_name": "Python 3",
   "language": "python",
   "name": "python3"
  },
  "language_info": {
   "codemirror_mode": {
    "name": "ipython",
    "version": 3
   },
   "file_extension": ".py",
   "mimetype": "text/x-python",
   "name": "python",
   "nbconvert_exporter": "python",
   "pygments_lexer": "ipython3",
   "version": "3.8.7"
  }
 },
 "nbformat": 4,
 "nbformat_minor": 4
}
