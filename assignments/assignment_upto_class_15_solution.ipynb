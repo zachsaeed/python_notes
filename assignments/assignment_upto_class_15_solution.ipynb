{
 "cells": [
  {
   "cell_type": "markdown",
   "metadata": {},
   "source": [
    "# Q1  World's Simplest Class\n",
    "\n",
    "Define a class called Vehicle.  It should be completely empty (just add a pass statement inside) . "
   ]
  },
  {
   "cell_type": "code",
   "execution_count": null,
   "metadata": {},
   "outputs": [],
   "source": []
  },
  {
   "cell_type": "markdown",
   "metadata": {},
   "source": [
    "After the class is defined, create two instances of Vehicle.  \n",
    "Save one to a variable called car  \n",
    "Save another to a variable called boat ."
   ]
  },
  {
   "cell_type": "code",
   "execution_count": null,
   "metadata": {},
   "outputs": [],
   "source": []
  },
  {
   "cell_type": "markdown",
   "metadata": {},
   "source": [
    "# Q2 Define a new class called 'BankAccount'.\n",
    "\n",
    " - Each BankAccount should have an 'owner', specified when a new BankAccount is created like: 'BankAccount(\"Charlie\")'\n",
    " - Each BankAccount should have a 'balance attribute' that **always starts out as ** '0.0'\n",
    " - Each instance should have a deposit method that accepts a number and adds it to the balance. It should return the new \n",
    "balance.\n",
    " - Each instance should have a withdraw method that accepts a number and subtracts it from the balance. It should return the new balance.\n",
    " \n",
    "```\n",
    "acct = BankAccount(\"Darcy\")\n",
    "acct.owner #Darcy\n",
    "acct.balance #0.0\n",
    "acct.deposit(10) #10.0\n",
    "acct.withdraw(3) #7.0\n",
    "acct.balance #7.0 \n",
    "```"
   ]
  },
  {
   "cell_type": "code",
   "execution_count": null,
   "metadata": {},
   "outputs": [],
   "source": []
  },
  {
   "cell_type": "markdown",
   "metadata": {},
   "source": [
    "# Q3 Chicken Coop Exercise\n",
    "\n",
    "Suppose we have a big ol chicken coop in our backyard full of very productive hens. We're going to model our chickens with python! We want to keep track of how many eggs each individual Chicken lays, and at the same time we want to track the total number of eggs all hens have laid.\n",
    "\n",
    "Create a 'Chicken' class. Each Chicken has a 'species' and 'name', as well as an integer attribute called 'eggs'. **eggs should always start out at 0.**"
   ]
  },
  {
   "cell_type": "code",
   "execution_count": null,
   "metadata": {},
   "outputs": [],
   "source": []
  },
  {
   "cell_type": "markdown",
   "metadata": {},
   "source": [
    "# Quiz\n",
    "\n",
    "# 1- What's the difference between a class and an instance?\n",
    "\n",
    "[] A **class** is an object constructed from a blueprint; an&nbsp;**instance** is the blueprint for constructing class objects.\n",
    "\n",
    "[] A **class** is a blueprint for constructing objects; an **instance** is an object constructed from the class definition.\n",
    "\n",
    "[] A **class** is the primary adventuring style of a player character and describes spells, skills, and abilities; an **instance** is a dungeon that a group of players complete together isolated from the outer world."
   ]
  },
  {
   "cell_type": "markdown",
   "metadata": {},
   "source": [
    "# 2- Given the following code snippet, how do we make a new instance of Car ?\n",
    "\n",
    "```\n",
    "class Car():\n",
    "    def __init__(self, make):\n",
    "        self.make = make\n",
    "```\n",
    "[] honda = new Car(make=\"honda\")\n",
    "\n",
    "[] honda = Car()\n",
    "\n",
    "[] honda = Car(\"honda\")\n",
    "\n",
    "[] honda = super().__init__(\"honda\")"
   ]
  },
  {
   "cell_type": "markdown",
   "metadata": {},
   "source": [
    "# 3- What's the difference between a class method and an instance method?\n",
    "\n",
    "[] A class method has class (```cls```) as the implicit first argument whereas instance method has the instance (called ```self```).\n",
    "\n",
    "[] Class methods must be decorated with ```@classmethod```, whereas instance methods don't.\n",
    "\n",
    "[] Class methods are used when the method does not need to know about the specific instance; instance methods are the opposite.\n",
    "\n",
    "[] All of the above."
   ]
  },
  {
   "cell_type": "markdown",
   "metadata": {},
   "source": [
    "# Q4 Role Playing Game Classes\n",
    "\n",
    "Let's pretend we're building an RPG (roleplaying game) in Python.\n",
    "> Side note: check out https://wiki.python.org/moin/PythonGames. These games are actually built in Python!\n",
    "\n",
    "1. Define a base class \"Character\" that has the following properties:\n",
    "    - 'name' - String\n",
    "    - 'hp' - an Integer value representing health (aka hitpoints)\n",
    "    - 'level' - an integer value representing experience level\n",
    "    \n",
    "2. Define a subclass \"NPC\" (which stands for Non-Player Character) that inherits from 'Character', and has an additional instance method called 'speak' which prints the speech that character would say when a player interacts with them.\n",
    "Example: \n",
    "\n",
    "```\n",
    "villager= PC(\"Bob\",100,12)\n",
    "villager.name  # Bob\n",
    "villager.hp  # 100\n",
    "villager.level  # 12\n",
    "villager.speak() # \" heard there were monsters around last night!\"\n",
    "```"
   ]
  },
  {
   "cell_type": "code",
   "execution_count": 2,
   "metadata": {},
   "outputs": [],
   "source": [
    "# First define the Character class:\n",
    "\n",
    "\n",
    "# And then define the NPC class which inherits from Character.  It also calls the Character __init__() method using super():\n"
   ]
  }
 ],
 "metadata": {
  "kernelspec": {
   "display_name": "Python 3",
   "language": "python",
   "name": "python3"
  },
  "language_info": {
   "codemirror_mode": {
    "name": "ipython",
    "version": 3
   },
   "file_extension": ".py",
   "mimetype": "text/x-python",
   "name": "python",
   "nbconvert_exporter": "python",
   "pygments_lexer": "ipython3",
   "version": "3.8.10"
  }
 },
 "nbformat": 4,
 "nbformat_minor": 4
}
