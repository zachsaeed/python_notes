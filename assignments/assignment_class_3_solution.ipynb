{
 "cells": [
  {
   "cell_type": "code",
   "execution_count": null,
   "metadata": {},
   "outputs": [],
   "source": [
    "# 1 Comments in Python are written with a special character, which one?\n",
    "#This is a comment"
   ]
  },
  {
   "cell_type": "code",
   "execution_count": null,
   "metadata": {},
   "outputs": [],
   "source": [
    "# 2 Use a multiline string to make the a multi line comment:\n",
    "'''\n",
    "This is a comment\n",
    "written in\n",
    "more that just one line\n",
    "'''"
   ]
  },
  {
   "cell_type": "code",
   "execution_count": 2,
   "metadata": {},
   "outputs": [],
   "source": [
    "# 3 Create a variable named carname and assign the value Volvo to it.\n",
    "carname = 'volvo'"
   ]
  },
  {
   "cell_type": "code",
   "execution_count": 3,
   "metadata": {},
   "outputs": [
    {
     "name": "stdout",
     "output_type": "stream",
     "text": [
      "15\n"
     ]
    }
   ],
   "source": [
    "# 4 Display the sum of 5 + 10, using two variables: x and y. (Replace the question marks ?)\n",
    "x = 5\n",
    "y = 10\n",
    "print(x + y)"
   ]
  },
  {
   "cell_type": "code",
   "execution_count": null,
   "metadata": {},
   "outputs": [],
   "source": [
    "# 5 Create a variable called z, assign x + y to it, and display the result.\n",
    "x = 5\n",
    "y = 10\n",
    "z = x + y\n",
    "print(z)"
   ]
  },
  {
   "cell_type": "code",
   "execution_count": 7,
   "metadata": {},
   "outputs": [],
   "source": [
    "# 6 Remove the illegal characters in the variable name:\n",
    "myfirst_name = \"John\""
   ]
  },
  {
   "cell_type": "code",
   "execution_count": 6,
   "metadata": {},
   "outputs": [],
   "source": [
    "# 7 Insert the correct syntax to assign the same value to all three variables in one code line.\n",
    "x=y=z=\"Orange\""
   ]
  },
  {
   "cell_type": "code",
   "execution_count": 9,
   "metadata": {},
   "outputs": [
    {
     "name": "stdout",
     "output_type": "stream",
     "text": [
      "<class 'int'>\n",
      "<class 'str'>\n",
      "<class 'float'>\n",
      "<class 'list'>\n",
      "<class 'tuple'>\n",
      "<class 'dict'>\n",
      "<class 'bool'>\n"
     ]
    }
   ],
   "source": [
    "# 8 print the data type of the following variables\n",
    "a = 5\n",
    "b = \"Hello World\"\n",
    "c = 0.123\n",
    "d = [\"apple\", \"banana\", \"cherry\"]\n",
    "e = (\"apple\", \"banana\", \"cherry\")\n",
    "f = {\"name\" : \"John\", \"age\" : 36}\n",
    "g = True\n",
    "\n",
    "print(type(a))\n",
    "print(type(b))\n",
    "print(type(c))\n",
    "print(type(d))\n",
    "print(type(e))\n",
    "print(type(f))\n",
    "print(type(g))"
   ]
  },
  {
   "cell_type": "code",
   "execution_count": 12,
   "metadata": {},
   "outputs": [
    {
     "name": "stdout",
     "output_type": "stream",
     "text": [
      "5.0\n"
     ]
    }
   ],
   "source": [
    "# 9 Insert the correct syntax to convert x into a floating point number.\n",
    "x = 5\n",
    "x = float(x)\n",
    "print(x)"
   ]
  },
  {
   "cell_type": "code",
   "execution_count": 13,
   "metadata": {},
   "outputs": [
    {
     "name": "stdout",
     "output_type": "stream",
     "text": [
      "5\n"
     ]
    }
   ],
   "source": [
    "# 10 Insert the correct syntax to convert x into a integer.\n",
    "x = 5.5\n",
    "x = int(x)\n",
    "print(x)"
   ]
  },
  {
   "cell_type": "code",
   "execution_count": 15,
   "metadata": {},
   "outputs": [
    {
     "name": "stdout",
     "output_type": "stream",
     "text": [
      "(5+0j)\n"
     ]
    }
   ],
   "source": [
    "# 11 Insert the correct syntax to convert x into a complex number.\\\n",
    "x = 5\n",
    "x = complex(x)\n",
    "print(x)"
   ]
  },
  {
   "cell_type": "code",
   "execution_count": 16,
   "metadata": {},
   "outputs": [
    {
     "name": "stdout",
     "output_type": "stream",
     "text": [
      "True\n"
     ]
    }
   ],
   "source": [
    "# 12 Use the correct comparison operator to check if 5 is not equal to 10 and print True.\n",
    "print(5 != 10)"
   ]
  },
  {
   "cell_type": "code",
   "execution_count": 10,
   "metadata": {},
   "outputs": [],
   "source": [
    "# 13 Change the value from \"apple\" to \"kiwi\", in the fruits list.\n",
    "fruits = [\"apple\", \"banana\", \"cherry\"]\n",
    "fruits[0] = 'kiwi'\n",
    "print(fruits)"
   ]
  },
  {
   "cell_type": "code",
   "execution_count": 33,
   "metadata": {},
   "outputs": [
    {
     "name": "stdout",
     "output_type": "stream",
     "text": [
      "{'a': [1, (2, 3)], 1: 'I love python', 'my key': 'my value', 'a dict': ({'another_key': 34}, {'another_key_2': 'saquib'})}\n",
      "{1: 'I love python'}\n"
     ]
    }
   ],
   "source": [
    "my_dict = {'a': [1, (2, 3)],\n",
    "           1: 'I love python',\n",
    "           'my key': 'my value',\n",
    "           'a dict': ({'another_key': 34}, {'another_key_2': 'saquib'})\n",
    "           }\n",
    "\n",
    "print(my_dict)\n",
    "# 14 Create the above dictionary (my_dict) using the dict() constructor method using the following variables\n",
    "# Use the following variables only. Do not use direct values. You can use as many statements/steps as you want\n",
    "var_1 = 'a'\n",
    "var_2 = 1\n",
    "var_3 = 2\n",
    "var_4 = 3\n",
    "var_5 = 'I love python'\n",
    "var_6 = 'my key'\n",
    "var_7 = 'my value'\n",
    "var_8 = 'a dict'\n",
    "var_9 = 'another_key'\n",
    "var_10 = 34\n",
    "var_11 = 'another_key_2'\n",
    "var_12 = 'saquib'\n",
    "\n",
    "my_dict2 = dict()\n",
    "firstele_tuple = tuple([2,3])\n",
    "# print(firstele_tuple)\n",
    "firstele_list = list([1, firstele_tuple])\n",
    "# print(firstele_list)\n",
    "# my_dict2 = {var_1: firstele_list}\n",
    "# my_dict2 = dict( var_1 = firstele_list)\n",
    "my_dict2[var_1] = firstele_list\n",
    "my_dict2 = {var_2: 'I love python'}\n",
    "print(my_dict2)"
   ]
  },
  {
   "cell_type": "code",
   "execution_count": 19,
   "metadata": {},
   "outputs": [
    {
     "name": "stdout",
     "output_type": "stream",
     "text": [
      "Jo Kaha Tha maine such tha, Jo suna Tha wo nahi tha,\n"
     ]
    }
   ],
   "source": [
    "my_list = ['suna', # 0\n",
    "           'nahi',  # 1\n",
    "           'wo', # 2\n",
    "           'Jo', # 3\n",
    "           'maine', # 4 \n",
    "           'tha,', # 5\n",
    "           'Kaha', # 6\n",
    "           'Tha', # 7\n",
    "           'such', # 8\n",
    "           ' '] # 9\n",
    "# 15 Please use the above list to print:\n",
    "# Jo Kaha tha maine such tha, Jo suna tha wo nahi Tha\n",
    "print(my_list[3]+\n",
    "      my_list[9]+\n",
    "      my_list[6]+\n",
    "      my_list[9]+\n",
    "      my_list[7]+\n",
    "      my_list[9]+\n",
    "      my_list[4]+\n",
    "      my_list[9]+\n",
    "      my_list[8]+\n",
    "      my_list[9]+\n",
    "      my_list[5]+\n",
    "      my_list[9]+\n",
    "      my_list[3]+\n",
    "      my_list[9]+\n",
    "      my_list[0]+\n",
    "      my_list[9]+\n",
    "      my_list[7]+\n",
    "      my_list[9]+\n",
    "      my_list[2]+\n",
    "      my_list[9]+\n",
    "      my_list[1]+\n",
    "      my_list[9]+\n",
    "      my_list[7)"
   ]
  },
  {
   "cell_type": "code",
   "execution_count": null,
   "metadata": {},
   "outputs": [],
   "source": []
  }
 ],
 "metadata": {
  "kernelspec": {
   "display_name": "Python 3",
   "language": "python",
   "name": "python3"
  },
  "language_info": {
   "codemirror_mode": {
    "name": "ipython",
    "version": 3
   },
   "file_extension": ".py",
   "mimetype": "text/x-python",
   "name": "python",
   "nbconvert_exporter": "python",
   "pygments_lexer": "ipython3",
   "version": "3.8.7"
  }
 },
 "nbformat": 4,
 "nbformat_minor": 4
}
