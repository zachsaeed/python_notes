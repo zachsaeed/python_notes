{
 "cells": [
  {
   "cell_type": "markdown",
   "metadata": {},
   "source": [
    "# OOP-2\n",
    "\n",
    "## Q1- MRO Genetics\n",
    "Do you remember Gregor Mendel (https://en.wikipedia.org/wiki/Gregor_Mendel) from biology? We're going to simulate basic Mendelian inheritance in this exercise. You don't need to know what that means, but basically imagine a family where all the kids look exactly like one parent, maybe that parent has more \"dominant\" genetic traits than the other parent.\n",
    "\n",
    "Create three classes, ```Mother``` , ```Father``` , and ```Child```.\n",
    "\n",
    "Let ```Mother``` have the \"dominant\" traits:\n",
    "\n",
    "```\n",
    "eye_color = \"brown\"\n",
    "hair_color = \"dark brown\"\n",
    "hair_type = \"curly\"\n",
    "```\n",
    "Let ```Father```  have \"recessive\" traits:\n",
    "\n",
    "```\n",
    "eye_color = \"blue\"\n",
    "hair_color = \"blond\"\n",
    "hair_type = \"straight\"\n",
    "```\n",
    "\n",
    "Now define ```Child```  to have the same attributes, ```eye_color , hair_color``` , and ```hair_type``` , but don't set them on the class.  Instead, let Child's Method Resolution Order be such that Child inherits from ```Mother``` first, then ```Father```.\n",
    "\n",
    "Note: You don't have to instantiate any of the classes to pass the tests. The tests will create instances for you."
   ]
  },
  {
   "cell_type": "code",
   "execution_count": 1,
   "metadata": {},
   "outputs": [],
   "source": [
    "# Define your classes below:\n",
    "class Mother:\n",
    "    def __init__(self):\n",
    "        self.eye_color = \"brown\"\n",
    "        self.hair_color = \"dark brown\"\n",
    "        self.hair_type = \"curly\"\n",
    " \n",
    " \n",
    "class Father:\n",
    "    def __init__(self):\n",
    "        self.eye_color = \"blue\"\n",
    "        self.hair_color = \"blond\"\n",
    "        self.hair_type = \"straight\"\n",
    " \n",
    " \n",
    "class Child(Mother, Father):\n",
    "    pass"
   ]
  },
  {
   "cell_type": "markdown",
   "metadata": {},
   "source": [
    "## Q2- Special Methods Train\n",
    "Create a class Train  that has one attribute: num_cars  which is specified when the train is instantiated.\n",
    "\n",
    "There should also be two special/magic/dunder methods on it:\n",
    "\n",
    "One method that describes the train when we call print  on it by saying \"x car train\" where x is the number of cars (see example below)\n",
    "One method that denotes the length of the train when we call len  on it\n",
    "Example:\n",
    "```\n",
    "a_train = Train(4)\n",
    "print(a_train)  # 4 car train\n",
    "len(a_train)  # 4\n",
    "```\n",
    "Note: You do not need to instantiate Train  for the tests to pass. The tests will try to instantiate Train  for you."
   ]
  },
  {
   "cell_type": "code",
   "execution_count": 2,
   "metadata": {},
   "outputs": [],
   "source": [
    "class Train():\n",
    "    def __init__(self, num_cars):\n",
    "        self.num_cars = num_cars\n",
    " \n",
    "    def __repr__(self):\n",
    "        return \"{} car train\".format(self.num_cars)\n",
    " \n",
    "    def __len__(self):\n",
    "        return self.num_cars"
   ]
  },
  {
   "cell_type": "markdown",
   "metadata": {},
   "source": [
    "# Modules\n",
    "\n",
    "## Q1- Import the math  module\n",
    "Use math.sqrt  to find the square root of 15129 and save it to variable called answer ."
   ]
  },
  {
   "cell_type": "code",
   "execution_count": 3,
   "metadata": {},
   "outputs": [],
   "source": [
    "import math\n",
    " \n",
    "answer = math.sqrt(15129)"
   ]
  },
  {
   "cell_type": "markdown",
   "metadata": {},
   "source": [
    "## Q2- Built-In Modules: Slightly Tougher Challenge\n",
    "Define a function called ```contains_keyword```  that accepts **any number of string arguments**.  It should return ```True```  if any of the arguments are considered Python keywords (things like \"def\", \"return\", \"if\", etc.)  Otherwise it should return ```False```.   Python has a built-in module called ```keyword```  that contains a method called ```iskeyword``` .  Import ```keyword```  and then use ```keyword.iskeyword```  in you own function to determine if a given string is a keyword.\n",
    "\n",
    "```contains_keyword(\"hello\", \"goodbye\")  #False\n",
    "\n",
    "contains_keyword(\"def\", \"haha\", \"lol\", \"chicken\", \"alaska\")  #True\n",
    "\n",
    "contains_keyword(\"four\", \"for\", \"if\")  #True\n",
    "\n",
    "contains_keyword(\"blah\", \"doggo\", \"crab\", \"anchor\")  #False\n",
    "\n",
    "contains_keyword(\"grizzly\", \"ignore\", \"return\", \"False\")  #True\n",
    "```\n",
    "\n",
    "**Note: don't just manually check for the keywords you know like return, def, if, and for.  The test logic for this exercise will use a bunch of keywords we haven't yet covered, so definitely make sure to import and use the keyword module to help you! That's the point of this exercise, after all :) **"
   ]
  },
  {
   "cell_type": "code",
   "execution_count": 4,
   "metadata": {},
   "outputs": [],
   "source": [
    "'''\n",
    "- I start by importing keyword up top\n",
    "- Inside of contains_keyword , I look through all items in args\n",
    "- for each item, I test if it's a keyword by calling keyword.iskeyword(item) \n",
    "- The first time we encounter a keyword, return True right away\n",
    "- Otherwise, once the loop is over return False (meaning, no keywords were found)\n",
    "'''\n",
    "import keyword\n",
    " \n",
    "def contains_keyword(*args):\n",
    "    for item in args:\n",
    "        if keyword.iskeyword(item): return True\n",
    "    return False"
   ]
  },
  {
   "cell_type": "markdown",
   "metadata": {},
   "source": [
    "## Q3 Custom Module Exercise\n",
    "This exercise has two files!!! 🙀 . TWO FILES!\n",
    "\n",
    "Your task is to write a function in the helpers.py file, and then call it from the exercise.py file.  More specifically:\n",
    "\n",
    "In helpers.py, define a function called ```lucky_number()```  that always returns the number 37.  That's it.   It always returns 37, no matter what.\n",
    "\n",
    "In exercise.py, import the helpers module.  In order for the testing logic to work properly, don't use the 'as', or 'from' keywords when importing.  Just do a plain old import.\n",
    "\n",
    "From inside exercise.py, call the ```lucky_number```  function you defined in the helpers module. Save the result to a variable called ```num```\n",
    "\n",
    "The point of this exercise is to get comfortable working with multiple files, and defining custom modules.   Because of that, the testing logic actually checks to see that your code is all in the correct filed rather than just checking if you got the right answer."
   ]
  },
  {
   "cell_type": "code",
   "execution_count": 5,
   "metadata": {},
   "outputs": [
    {
     "ename": "ModuleNotFoundError",
     "evalue": "No module named 'helpers'",
     "output_type": "error",
     "traceback": [
      "\u001b[1;31m---------------------------------------------------------------------------\u001b[0m",
      "\u001b[1;31mModuleNotFoundError\u001b[0m                       Traceback (most recent call last)",
      "\u001b[1;32m<ipython-input-5-51fc55a9c626>\u001b[0m in \u001b[0;36m<module>\u001b[1;34m\u001b[0m\n\u001b[0;32m      7\u001b[0m \u001b[1;31m# I import my helpers module first.  And then I call helpers.lucky_number()  and save the result to the num  variable\u001b[0m\u001b[1;33m\u001b[0m\u001b[1;33m\u001b[0m\u001b[1;33m\u001b[0m\u001b[0m\n\u001b[0;32m      8\u001b[0m \u001b[1;33m\u001b[0m\u001b[0m\n\u001b[1;32m----> 9\u001b[1;33m \u001b[1;32mimport\u001b[0m \u001b[0mhelpers\u001b[0m\u001b[1;33m\u001b[0m\u001b[1;33m\u001b[0m\u001b[0m\n\u001b[0m\u001b[0;32m     10\u001b[0m \u001b[1;31m#Call the lucky_number function from your helpers module, and save the result to a variable called num\u001b[0m\u001b[1;33m\u001b[0m\u001b[1;33m\u001b[0m\u001b[1;33m\u001b[0m\u001b[0m\n\u001b[0;32m     11\u001b[0m \u001b[0mnum\u001b[0m \u001b[1;33m=\u001b[0m \u001b[0mhelpers\u001b[0m\u001b[1;33m.\u001b[0m\u001b[0mlucky_number\u001b[0m\u001b[1;33m(\u001b[0m\u001b[1;33m)\u001b[0m\u001b[1;33m\u001b[0m\u001b[1;33m\u001b[0m\u001b[0m\n",
      "\u001b[1;31mModuleNotFoundError\u001b[0m: No module named 'helpers'"
     ]
    }
   ],
   "source": [
    "# In helpers.py:\n",
    "# I started by defining lucky_number  in helpers.py :\n",
    "def lucky_number():\n",
    "    return 37\n",
    "\n",
    "#In exercise.py:\n",
    "# I import my helpers module first.  And then I call helpers.lucky_number()  and save the result to the num  variable\n",
    "\n",
    "import helpers\n",
    "#Call the lucky_number function from your helpers module, and save the result to a variable called num\n",
    "num = helpers.lucky_number()"
   ]
  },
  {
   "cell_type": "markdown",
   "metadata": {},
   "source": [
    "## Quiz\n",
    "\n",
    "### Question 1:\n",
    "The syntax for importing code from built-in modules (such as the random  module) is different than the syntax for importing code from other Python files that we write.\n",
    "\n",
    "- [] True\n",
    "- [X] False\n",
    "\n",
    "### Question 2:\n",
    "Which one of these is NOT a keyword used with Python's module system?\n",
    "- [] import\n",
    "- [X] export\n",
    "- [] from \n",
    "- [] as\n",
    "\n",
    "### Question 3:\n",
    "What's the difference between these two import statements?\n",
    "1. import random \n",
    "2. from random import * \n",
    "\n",
    "- [] There is no difference\n",
    "- [] One imports everything, the other only imports functions\n",
    "- [X] One imports everything as an attribute on ```random```, the other imports everything into the current namespace.\n",
    "\n",
    "### Question 4:\n",
    "Question 4:\n",
    "Which 'one' of the following is NOT a valid way to import code from a module?\n",
    "- [] import some_stuff\n",
    "- [] import some_stuff as boom\n",
    "- [] from some_stuff import *\n",
    "- [] from some_stuff import * as boom\n",
    "\n",
    "### Question 5:\n",
    "What is pip?\n",
    "\n",
    "- [] It is the package management system for Python.\n",
    "- [] It's the tool we use to install external modules for our Python applications.\n",
    "- [] It's the name of a minor character in the show South Park.\n",
    "- [X] All of the above.\n",
    "\n",
    "### Question 6:\n",
    "What 'ONE' command can you use to install an external module in Python 3? \n",
    "\n",
    "- [] python3 -m pip NAME_OF_PACKAGE\n",
    "- [] python3 pip install NAME_OF_PACKAGE\n",
    "- [X] python3 -m pip install NAME_OF_PACKAGE\n",
    "- [] python3 pip -m install NAME_OF_PACKAGE\n",
    "- [] python3 pip install -m NAME_OF_PACKAGE\n",
    "\n",
    "#### We will cover the following 3 in detail in python CLI:\n",
    "### Question 7: \n",
    "When will the value of the __name__  variable in a Python file be equal to \"__main__\" ?\n",
    "\n",
    "- [] When you import code from that file.\n",
    "- [X] When you run the file directly.\n",
    "- [] Never.\n",
    "\n",
    "### Question 8:\n",
    "When will the value of the __name__  variable in a Python file be equal to the name of the file being run?\n",
    "\n",
    "- [X] When you import code from that file.\n",
    "- [] When you run the file directly.\n",
    "- [] Never.\n",
    "\n",
    "### Question 9:\n",
    "When would you use the if __name__ == \"__main__\"  pattern?\n",
    "\n",
    "- [] When you create a variable called __name__  and want to check its value.\n",
    "- [X] When you want to prevent a block of code from running on an import.\n",
    "- [] When you want to check if you've imported a module.\n",
    "- [] When you want to import just a piece of a different module."
   ]
  },
  {
   "cell_type": "markdown",
   "metadata": {},
   "source": [
    "# File IO:\n",
    "\n",
    "### Question 1:\n",
    "What's the difference between file.readlines  and file.read ?\n",
    "\n",
    "- [] <code>readlines</code>&nbsp; only read parts of a file, <code>read</code>&nbsp; reads the whole file.\n",
    "\n",
    "- [X] <code>readlines</code>&nbsp; reads the file into memory as a list of strings, <code>read</code>&nbsp; reads the file into memory as a single string.\n",
    "\n",
    "- [] <code>readlines</code>&nbsp; works on text formats that <code>read</code>&nbsp; doesn't.\n",
    "\n",
    "- [] <code>read</code>&nbsp; works on text formats that <code>readlines</code>&nbsp; doesn't.\n",
    "\n",
    "###  Question 2:\n",
    "What's one benefit to using a with  block to open files?\n",
    "- [X] You don't need to manually close the file.\n",
    "- [] It's faster to open the file.\n",
    "- [] It uses less memory to open the file.\n",
    "\n",
    "### Question 3:\n",
    "What does the seek  method do?\n",
    "- [] It lets you perform text search in a file.\n",
    "- [] It lets you search your file system for a certain file.\n",
    "- [X] It lets you move your cursor anywhere in an open file."
   ]
  },
  {
   "cell_type": "code",
   "execution_count": null,
   "metadata": {},
   "outputs": [],
   "source": []
  }
 ],
 "metadata": {
  "kernelspec": {
   "display_name": "Python 3",
   "language": "python",
   "name": "python3"
  },
  "language_info": {
   "codemirror_mode": {
    "name": "ipython",
    "version": 3
   },
   "file_extension": ".py",
   "mimetype": "text/x-python",
   "name": "python",
   "nbconvert_exporter": "python",
   "pygments_lexer": "ipython3",
   "version": "3.8.10"
  }
 },
 "nbformat": 4,
 "nbformat_minor": 4
}
