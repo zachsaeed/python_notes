{
 "cells": [
  {
   "cell_type": "markdown",
   "metadata": {},
   "source": [
    "Q1: Print the first 10 numbers starting from 0 (using while loop)\n",
    "\n",
    "Expected output:\n",
    "0\n",
    "1\n",
    "2\n",
    "3\n",
    "4\n",
    "5\n",
    "6\n",
    "7\n",
    "8\n",
    "9\n",
    "10"
   ]
  },
  {
   "cell_type": "code",
   "execution_count": null,
   "metadata": {},
   "outputs": [],
   "source": []
  },
  {
   "cell_type": "markdown",
   "metadata": {},
   "source": [
    "Q2: Do the same as previous question but using a for loop (and range())"
   ]
  },
  {
   "cell_type": "code",
   "execution_count": null,
   "metadata": {},
   "outputs": [],
   "source": []
  },
  {
   "cell_type": "markdown",
   "metadata": {},
   "source": [
    "Q3: Accept number input from user and calculate sum of all number starting from 1 to the entered number (Use for and range)\n",
    "For example, if user entered 10 the output should be 55."
   ]
  },
  {
   "cell_type": "code",
   "execution_count": null,
   "metadata": {},
   "outputs": [],
   "source": []
  },
  {
   "cell_type": "markdown",
   "metadata": {},
   "source": [
    "Q4: Display a user inputed number and it's cube. Start cube calculation from 1 all the way to the inputed number (Use for and range)\n",
    "Given:\n",
    "input_number = 5\n",
    "\n",
    "Expected output:\n",
    "Current Number is : 1  and the cube is 1\n",
    "Current Number is : 2  and the cube is 8\n",
    "Current Number is : 3  and the cube is 27\n",
    "Current Number is : 4  and the cube is 64\n",
    "Current Number is : 5  and the cube is 125"
   ]
  },
  {
   "cell_type": "code",
   "execution_count": null,
   "metadata": {},
   "outputs": [],
   "source": []
  },
  {
   "cell_type": "markdown",
   "metadata": {},
   "source": [
    "Q5 Print the following pattern (Use nested for - twice)\n",
    "```\n",
    "* \n",
    "* * \n",
    "* * * \n",
    "* * * * \n",
    "* * * * * \n",
    "* * * * \n",
    "* * * \n",
    "* * \n",
    "*\n",
    "```"
   ]
  },
  {
   "cell_type": "code",
   "execution_count": null,
   "metadata": {},
   "outputs": [],
   "source": []
  },
  {
   "cell_type": "markdown",
   "metadata": {},
   "source": [
    "Q6 Reverse a given integer number or string (use while)\n",
    "Given:\n",
    "309871\n",
    "\n",
    "Expected output:\n",
    "\n",
    "178903"
   ]
  },
  {
   "cell_type": "code",
   "execution_count": null,
   "metadata": {},
   "outputs": [],
   "source": []
  },
  {
   "cell_type": "markdown",
   "metadata": {},
   "source": [
    "# FUNCTIONS\n",
    "\n",
    "Q7: Create a function that can accept two arguments, 'name' and 'age' and print their value:"
   ]
  },
  {
   "cell_type": "code",
   "execution_count": null,
   "metadata": {},
   "outputs": [],
   "source": []
  },
  {
   "cell_type": "markdown",
   "metadata": {},
   "source": [
    "Q8: Write a function my_func() which can accept any quantity of arguments and print all the arguments' values\n",
    "Examnple:\n",
    "func1(20, 40, 60)\n",
    "func1(80, 100)\n",
    "\n",
    "output:\n",
    "func1(20, 40, 60)\n",
    "20\n",
    "40\n",
    "60\n",
    "\n",
    "func1(80, 100)\n",
    "80\n",
    "100"
   ]
  },
  {
   "cell_type": "code",
   "execution_count": null,
   "metadata": {},
   "outputs": [],
   "source": []
  },
  {
   "cell_type": "markdown",
   "metadata": {},
   "source": [
    "Q9: Create a function showEmployeeDetails() which should accept name, and salary and display both. If the salary is missing in the function call, it should show a default value of 9000 \n",
    "\n",
    "For example:\n",
    "showEmployeeDetails(\"Zia\", 9000)\n",
    "showEmployeeDetails(\"Tahir\")\n",
    "\n",
    "Output:\n",
    "Employee Zia salary is: 9000\n",
    "Employee Tahir salary is: 9000"
   ]
  },
  {
   "cell_type": "code",
   "execution_count": null,
   "metadata": {},
   "outputs": [],
   "source": []
  },
  {
   "cell_type": "markdown",
   "metadata": {},
   "source": [
    "Q10: Create a function returnMax that returns the largest item from the given list\n",
    "\n",
    "aList = [4, 6, 8, 24, 12, 2]\n",
    "\n",
    "Example:\n",
    "printreturnMax(aList)\n",
    "\n",
    "Output:\n",
    "24"
   ]
  },
  {
   "cell_type": "code",
   "execution_count": null,
   "metadata": {},
   "outputs": [],
   "source": []
  }
 ],
 "metadata": {
  "kernelspec": {
   "display_name": "Python 3",
   "language": "python",
   "name": "python3"
  },
  "language_info": {
   "codemirror_mode": {
    "name": "ipython",
    "version": 3
   },
   "file_extension": ".py",
   "mimetype": "text/x-python",
   "name": "python",
   "nbconvert_exporter": "python",
   "pygments_lexer": "ipython3",
   "version": "3.8.7"
  }
 },
 "nbformat": 4,
 "nbformat_minor": 4
}
