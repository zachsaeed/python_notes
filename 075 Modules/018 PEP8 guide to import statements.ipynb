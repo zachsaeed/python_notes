{
 "cells": [
  {
   "cell_type": "markdown",
   "metadata": {},
   "source": [
    "# Pep8 guide for import styling:\n",
    "```python\n",
    "\"\"\"imports come after the doc string\"\"\"\n",
    "\n",
    "# Standard library imports\n",
    "import datetime\n",
    "import os\n",
    "\n",
    "# Third-party imports\n",
    "from flask import Flask\n",
    "from flask_restful import Api\n",
    "from flask_sqlalchemy import SQLAlchemy\n",
    "\n",
    "# Local application imports\n",
    "from local_module import local_class\n",
    "from local_package import local_function\n",
    "\n",
    "# NOTE: we can import multiple modules using commas but PEP8 says to import each module in a separate line\n",
    "import module1, module2 as b, module3\n",
    "# should be:\n",
    "import module1\n",
    "import module2 as b\n",
    "import module3\n",
    "\n",
    "# PEP8 is ok with using commas when using from. Example:\n",
    "from XXX import a, b, c\n",
    "```"
   ]
  },
  {
   "cell_type": "code",
   "execution_count": null,
   "metadata": {},
   "outputs": [],
   "source": []
  }
 ],
 "metadata": {
  "kernelspec": {
   "display_name": "Python 3",
   "language": "python",
   "name": "python3"
  },
  "language_info": {
   "codemirror_mode": {
    "name": "ipython",
    "version": 3
   },
   "file_extension": ".py",
   "mimetype": "text/x-python",
   "name": "python",
   "nbconvert_exporter": "python",
   "pygments_lexer": "ipython3",
   "version": "3.7.9"
  }
 },
 "nbformat": 4,
 "nbformat_minor": 4
}
