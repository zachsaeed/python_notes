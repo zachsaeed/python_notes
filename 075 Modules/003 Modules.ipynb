{
 "cells": [
  {
   "cell_type": "markdown",
   "metadata": {},
   "source": [
    "# Python Modules\n",
    "\n",
    "Python modules is broken up python code components (Mainly functions, classes, variables, constants or any other Python objects) into separate files, and they can be imported into our code wherever needed.\n",
    "\n",
    "They:\n",
    "- keep python files small\n",
    "- shared accross multiple files by importing\n",
    "- the module is just a python file\n",
    "\n",
    "To import a module, we use the **import**, **from** and **as** keywords.\n",
    "\n",
    "There are 3 types of modules in python.\n",
    "\n",
    "1. default python modules (Which come with out python installation)\n",
    "3. External modules (These are modules written by a third party or someone else which we need to download / install to our computer using package the pip installer)\n",
    "2. custom modules (Which we create ourselves to break up our code)\n"
   ]
  },
  {
   "cell_type": "code",
   "execution_count": null,
   "metadata": {},
   "outputs": [],
   "source": []
  }
 ],
 "metadata": {
  "kernelspec": {
   "display_name": "Python 3",
   "language": "python",
   "name": "python3"
  },
  "language_info": {
   "codemirror_mode": {
    "name": "ipython",
    "version": 3
   },
   "file_extension": ".py",
   "mimetype": "text/x-python",
   "name": "python",
   "nbconvert_exporter": "python",
   "pygments_lexer": "ipython3",
   "version": "3.7.9"
  }
 },
 "nbformat": 4,
 "nbformat_minor": 4
}
