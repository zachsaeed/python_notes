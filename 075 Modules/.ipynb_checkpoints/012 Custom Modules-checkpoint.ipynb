{
 "cells": [
  {
   "cell_type": "markdown",
   "metadata": {},
   "source": [
    "# Custom Modules\n",
    "\n",
    "In this section we will see how to create and import our own modules. The syntax is the same as before\n",
    "\n",
    "It is as simple as creating a separate python file (with our code) and importing that into another python file (with our code) using it's name (without the .py extension).\n",
    "\n",
    "For example, in the current directory we have a file, ./my_code_file.py with a couple of functions and a class (Open it and see the code). We can import the file (custom module) into our code and call it's contents as shown as below:"
   ]
  },
  {
   "cell_type": "code",
   "execution_count": 1,
   "metadata": {},
   "outputs": [
    {
     "name": "stdout",
     "output_type": "stream",
     "text": [
      "do some stuff\n",
      "Method from Clss called\n"
     ]
    }
   ],
   "source": [
    "import my_code_file # import statement\n",
    "\n",
    "print(my_code_file.fn())\n",
    "\n",
    "my_obj = my_code_file.Clss()\n",
    "print(my_obj.mthd())\n"
   ]
  },
  {
   "cell_type": "markdown",
   "metadata": {},
   "source": [
    "Another example is, we have 2 python files, apples.py and bananas. py. We can either import them as follows:"
   ]
  },
  {
   "cell_type": "code",
   "execution_count": 2,
   "metadata": {},
   "outputs": [
    {
     "name": "stdout",
     "output_type": "stream",
     "text": [
      "Hey do you like apples?\n",
      "Here's a delicious banana, dipped in chocolate!\n"
     ]
    }
   ],
   "source": [
    "# Importing everythin in both modules:\n",
    "\n",
    "import bananas\n",
    "import apples\n",
    "\n",
    "print(apples.offer())\n",
    "\n",
    "print(bananas.dip_in_chocolate())"
   ]
  },
  {
   "cell_type": "markdown",
   "metadata": {},
   "source": [
    "> Note: if your module has any code, all that code gets executed as soon as it is imported.\n",
    "    \n",
    "See the python module fruits.py. It imports both bananas.py and apples.py and runs some code. All we have to do is import that python module once and it's contents get executed. import is the same as copy pasting the contents of the module in your file:"
   ]
  },
  {
   "cell_type": "code",
   "execution_count": 3,
   "metadata": {},
   "outputs": [
    {
     "name": "stdout",
     "output_type": "stream",
     "text": [
      "Hey do you like apples?\n",
      "Here's a delicious banana, dipped in chocolate!\n",
      "Here's a delicious banana, dipped in chocolate!\n"
     ]
    }
   ],
   "source": [
    "import fruits    "
   ]
  },
  {
   "cell_type": "code",
   "execution_count": null,
   "metadata": {},
   "outputs": [],
   "source": []
  }
 ],
 "metadata": {
  "kernelspec": {
   "display_name": "Python 3",
   "language": "python",
   "name": "python3"
  },
  "language_info": {
   "codemirror_mode": {
    "name": "ipython",
    "version": 3
   },
   "file_extension": ".py",
   "mimetype": "text/x-python",
   "name": "python",
   "nbconvert_exporter": "python",
   "pygments_lexer": "ipython3",
   "version": "3.8.10"
  }
 },
 "nbformat": 4,
 "nbformat_minor": 4
}
