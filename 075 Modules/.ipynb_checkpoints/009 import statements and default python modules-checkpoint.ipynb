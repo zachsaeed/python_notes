{
 "cells": [
  {
   "cell_type": "markdown",
   "metadata": {},
   "source": [
    "We will start with looking into importing default modules that come bundled with our python installation:\n",
    "\n",
    "# Modules bundled with python\n",
    "\n",
    "Our python distribution comes with a large library of pre-defined functions, classes, variables, constants or any other Python objects which are bundled as modules. These prebundled modules and their contents (functions, classes, variables, constants or any other Python objects) can be imported in any of our python code as and when needed.\n",
    "\n",
    "These pre-bundled modules are written in C and integrated with the Python interpreter. Each module contains resources for certain system-specific functionalities such as OS management, disk IO, etc. The standard library also contains many Python scripts (with the .py extension) containing useful utilities.\n",
    "\n",
    "You can see a lit of them here:\n",
    "https://docs.python.org/3/py-modindex.html\n",
    "\n",
    "To display the above list of all of the system installed modules (builtin and pip installed third party) within python, we can use help() method as follows:"
   ]
  },
  {
   "cell_type": "code",
   "execution_count": 5,
   "metadata": {},
   "outputs": [
    {
     "name": "stdout",
     "output_type": "stream",
     "text": [
      "\n",
      "Please wait a moment while I gather a list of all available modules...\n",
      "\n",
      "_cffi_ext.c\n",
      "C:\\Users\\saqui\\.conda\\envs\\conda-python37\\lib\\site-packages\\zmq\\backend\\cffi\\__pycache__\\_cffi_ext.c(268): fatal error C1083: Cannot open include file: 'zmq.h': No such file or directory\n",
      "IPython             bz2                 mmsystem            symbol\n",
      "OpenSSL             cProfile            modulefinder        sympyprinting\n",
      "__future__          calendar            msilib              symtable\n",
      "_abc                certifi             msvcrt              sys\n",
      "_ast                cffi                multiprocessing     sysconfig\n",
      "_asyncio            cgi                 my_code_files       tabnanny\n",
      "_bisect             cgitb               nbclassic           tarfile\n",
      "_blake2             chardet             nbclient            telnetlib\n",
      "_bootlocale         chunk               nbconvert           tempfile\n",
      "_bz2                cmath               nbformat            terminado\n",
      "_cffi_backend       cmd                 nest_asyncio        test\n",
      "_codecs             code                netbios             testpath\n",
      "_codecs_cn          codecs              netrc               tests\n",
      "_codecs_hk          codeop              nntplib             textwrap\n",
      "_codecs_iso2022     collections         notebook            this\n",
      "_codecs_jp          colorama            nt                  threading\n",
      "_codecs_kr          colorsys            ntpath              time\n",
      "_codecs_tw          commctrl            ntsecuritycon       timeit\n",
      "_collections        compileall          nturl2path          timer\n",
      "_collections_abc    concurrent          numbers             tkinter\n",
      "_compat_pickle      configparser        numpy               token\n",
      "_compression        contextlib          odbc                tokenize\n",
      "_contextvars        contextvars         opcode              tornado\n",
      "_csv                copy                operator            trace\n",
      "_ctypes             copyreg             optparse            traceback\n",
      "_ctypes_test        crypt               os                  tracemalloc\n",
      "_datetime           cryptography        packaging           traitlets\n",
      "_decimal            csv                 pandas              tty\n",
      "_distutils_hack     ctypes              pandocfilters       turtle\n",
      "_dummy_thread       curses              parser              turtledemo\n",
      "_elementtree        cythonmagic         parso               types\n",
      "_functools          dataclasses         pathlib             typing\n",
      "_hashlib            datetime            pdb                 typing_extensions\n",
      "_heapq              dateutil            perfmon             unicodedata\n",
      "_imp                dbi                 pickle              unittest\n",
      "_io                 dbm                 pickleshare         urllib\n",
      "_json               dde                 pickletools         urllib3\n",
      "_locale             decimal             pip                 uu\n",
      "_lsprof             decorator           pipes               uuid\n",
      "_lzma               defusedxml          pkg_resources       venv\n",
      "_markupbase         difflib             pkgutil             warnings\n",
      "_md5                dis                 platform            wave\n",
      "_msi                distutils           plistlib            wcwidth\n",
      "_multibytecodec     doctest             poplib              weakref\n",
      "_multiprocessing    dummy_threading     posixpath           webbrowser\n",
      "_opcode             easy_install        pprint              webencodings\n",
      "_operator           email               profile             websocket\n",
      "_osx_support        encodings           prometheus_client   wheel\n",
      "_overlapped         ensurepip           prompt_toolkit      win2kras\n",
      "_pickle             entrypoints         pstats              win32api\n",
      "_py_abc             enum                pty                 win32clipboard\n",
      "_pydecimal          errno               pvectorc            win32com\n",
      "_pyio               faulthandler        py_compile          win32con\n",
      "_pyrsistent_version filecmp             pyclbr              win32console\n",
      "_queue              fileinput           pycparser           win32cred\n",
      "_random             fnmatch             pydoc               win32crypt\n",
      "_sha1               formatter           pydoc_data          win32cryptcon\n",
      "_sha256             fractions           pyexpat             win32event\n",
      "_sha3               ftplib              pygments            win32evtlog\n",
      "_sha512             functools           pyparsing           win32evtlogutil\n",
      "_signal             gc                  pyrsistent          win32file\n",
      "_sitebuiltins       genericpath         pythoncom           win32gui\n",
      "_socket             getopt              pytz                win32gui_struct\n",
      "_sqlite3            getpass             pywin               win32help\n",
      "_sre                gettext             pywin32_bootstrap   win32inet\n",
      "_ssl                glob                pywin32_testutil    win32inetcon\n",
      "_stat               gzip                pywintypes          win32job\n",
      "_string             hashlib             queue               win32lz\n",
      "_strptime           heapq               quopri              win32net\n",
      "_struct             hmac                random              win32netcon\n",
      "_symtable           html                rasutil             win32pdh\n",
      "_testbuffer         http                re                  win32pdhquery\n",
      "_testcapi           idlelib             regcheck            win32pdhutil\n",
      "_testconsole        idna                regutil             win32pipe\n",
      "_testimportmultiple imaplib             reprlib             win32print\n",
      "_testmultiphase     imghdr              requests            win32process\n",
      "_thread             imp                 rlcompleter         win32profile\n",
      "_threading_local    importlib           rmagic              win32ras\n",
      "_tkinter            importlib_metadata  runpy               win32rcparser\n",
      "_tracemalloc        inspect             sched               win32security\n",
      "_warnings           io                  secrets             win32service\n",
      "_weakref            ipaddress           select              win32serviceutil\n",
      "_weakrefset         ipykernel           selectors           win32timezone\n",
      "_win32sysloader     ipykernel_launcher  send2trash          win32trace\n",
      "_winapi             ipython_genutils    servicemanager      win32traceutil\n",
      "_winxptheme         isapi               setuptools          win32transaction\n",
      "_yaml               itertools           shelve              win32ts\n",
      "abc                 jedi                shlex               win32ui\n",
      "adodbapi            jinja2              shutil              win32uiole\n",
      "afxres              json                signal              win32verstamp\n",
      "aifc                json5               site                win32wnet\n",
      "antigravity         jsonschema          six                 win_inet_pton\n",
      "anyio               jupyter             smtpd               wincertstore\n",
      "argon2              jupyter_client      smtplib             winerror\n",
      "argparse            jupyter_core        sndhdr              winioctlcon\n",
      "array               jupyter_server      sniffio             winnt\n",
      "ast                 jupyterlab          socket              winperf\n",
      "async_generator     jupyterlab_pygments socketserver        winpty\n",
      "asynchat            jupyterlab_server   socks               winreg\n",
      "asyncio             keyword             sockshandler        winsound\n",
      "asyncore            lib2to3             sqlite3             winxpgui\n",
      "atexit              linecache           sre_compile         winxptheme\n",
      "attr                locale              sre_constants       wsgiref\n",
      "audioop             logging             sre_parse           xdrlib\n",
      "autoreload          lzma                ssl                 xml\n",
      "babel               macpath             sspi                xmlrpc\n",
      "backcall            mailbox             sspicon             xxsubtype\n",
      "base64              mailcap             stat                yaml\n",
      "bdb                 markupsafe          statistics          zipapp\n",
      "binascii            marshal             storemagic          zipfile\n",
      "binhex              math                string              zipimport\n",
      "bisect              mimetypes           stringprep          zipp\n",
      "bleach              mistune             struct              zlib\n",
      "brotli              mmap                subprocess          zmq\n",
      "builtins            mmapfile            sunau               \n",
      "\n",
      "Enter any module name to get more help.  Or, type \"modules spam\" to search\n",
      "for modules whose name or summary contain the string \"spam\".\n",
      "\n"
     ]
    }
   ],
   "source": [
    "help('modules')"
   ]
  },
  {
   "cell_type": "markdown",
   "metadata": {},
   "source": [
    "> Note: This list does not include custom modules.\n",
    "\n",
    "## Importing modules\n",
    "\n",
    "All types of modules (i.e. default, custom and 3rd party) are imported in the same way using the **import**, **from** and **as** keywords. \n",
    "\n",
    "As an example we will use one of pythons default modules, called 'random' (visible in the list above)\n",
    "\n",
    "You can see the contents of the random module's documentation here:\n",
    "https://docs.python.org/3/library/random.html#module-random\n",
    "\n",
    "Now we can import this module into our code using the 'import' keyword. Based on what and how we want to import, the import statement has a few syntax variations:\n",
    "\n",
    "1. import \\<module_name\\>\\[,\\<module_name2\\>\\]\n",
    "2. import \\<module_name\\> as \\<alias\\> \\[,\\<module_name2\\> as \\<alias2\\>\\]    \n",
    "3. from \\<module_name\\> import \\<member\\>\\[,\\<member2\\>\\]    \n",
    "4. from \\<module_name\\> import \\<name\\> as \\<alt_name\\>\\[, \\<name2\\> as \\<alt_name2\\>\\]    \n",
    "\n",
    "\n",
    "## 1. import \\<module_name\\>\\[,\\<module_name2\\>\\]\n",
    "\n",
    "The simplest form to import a module. To import the previously created module, we use the following statement \n",
    "at the top of our code:"
   ]
  },
  {
   "cell_type": "code",
   "execution_count": 63,
   "metadata": {},
   "outputs": [],
   "source": [
    "import random"
   ]
  },
  {
   "cell_type": "markdown",
   "metadata": {},
   "source": [
    "This import command will import the contents of the 'random' module and the code in side of it will be available for us to use.\n",
    "\n",
    "Now to access the module’s function we need to use the module name like below:"
   ]
  },
  {
   "cell_type": "code",
   "execution_count": 64,
   "metadata": {},
   "outputs": [
    {
     "name": "stdout",
     "output_type": "stream",
     "text": [
      "apple\n"
     ]
    }
   ],
   "source": [
    "print(random.choice(['apple', 'banana', 'cherry', 'durian', 'mango']))"
   ]
  },
  {
   "cell_type": "code",
   "execution_count": 65,
   "metadata": {},
   "outputs": [
    {
     "name": "stdout",
     "output_type": "stream",
     "text": [
      "4\n"
     ]
    }
   ],
   "source": [
    "print(random.randint(1,100))"
   ]
  },
  {
   "cell_type": "markdown",
   "metadata": {},
   "source": [
    "> **Note:** \n",
    "> - Each module has its own private symbol table. (This private symbol table is a global symbol table with respect to all objects defined in the module.) \n",
    "> -  The statement, ```python import \\<module_name\\> ``` places \\<module_name\\> in the caller’s symbol table (creates a separate namespace). The objects that are defined in the module remain in the module’s private symbol table.\n",
    "> - Therefore, from the caller, objects in the module are only accessible when prefixed with <module_name> via dot notation as shown above. ie ```python printNumbers.printForward(5) ```\n",
    "\n",
    "Several comma-separated modules may be specified in a single import statement:\n",
    "```python\n",
    "import <module_name_1>, <module_name_2>, <module_name_3>\n",
    "```\n",
    "\n",
    "## 2. import \\<module_name\\> as \\<alias\\> \\[,\\<module_name2\\> as \\<alias2\\>\\] \n",
    "\n",
    "Sometimes if the module name is too long, we can rename the import like below:"
   ]
  },
  {
   "cell_type": "code",
   "execution_count": 66,
   "metadata": {},
   "outputs": [
    {
     "name": "stdout",
     "output_type": "stream",
     "text": [
      "durian\n"
     ]
    }
   ],
   "source": [
    "import random as omg_so_random\n",
    "\n",
    "print(omg_so_random.choice(['apple', 'banana', 'cherry', 'durian', 'mango']))"
   ]
  },
  {
   "cell_type": "code",
   "execution_count": 67,
   "metadata": {},
   "outputs": [
    {
     "name": "stdout",
     "output_type": "stream",
     "text": [
      "51\n"
     ]
    }
   ],
   "source": [
    "print(omg_so_random.randint(1,100))"
   ]
  },
  {
   "cell_type": "markdown",
   "metadata": {},
   "source": [
    "Several comma-separated modules may be specified in a single import statement:\n",
    "```python\n",
    "import <module_name_1> as <alias1>, <module_name_2> as <alias2>, <module_name_3> as <alias3>\n",
    "```\n",
    "\n",
    "## 3. from \\<module_name\\> import \\<member\\>\\[,\\<member2\\>\\]    \n",
    "Used for importing specific members from a Module. Sometimes it’s unnecessary to import all the members (variables, functions and classes) of a python module. We may need only one or two functions. In that case, we can use the following variant of the import statement;"
   ]
  },
  {
   "cell_type": "code",
   "execution_count": 68,
   "metadata": {},
   "outputs": [
    {
     "name": "stdout",
     "output_type": "stream",
     "text": [
      "banana\n"
     ]
    }
   ],
   "source": [
    "from random import choice\n",
    "print(choice(['apple', 'banana', 'cherry', 'durian', 'mango']))  #<-- Note we use the name of the component directly"
   ]
  },
  {
   "cell_type": "markdown",
   "metadata": {},
   "source": [
    "> **Note:** \n",
    "> - Following execution of the above statement, \\<member(s)\\> can be referenced in the caller’s environment without the \\<module_name\\> prefix. \n",
    "> - This is because, instead of importing the whole module, we are importing specific members directly by name e.g.  printForward, so those members are added to in the current symbol table. Therefore, we don’t need to call the function like – printNumbers.printForward()\n",
    "\n",
    "Several comma-separated members may be specified in a single import statement:\n",
    "```python\n",
    "from <module_name_1> import <member1>, <member2>, <member3>\n",
    "```\n",
    " \n",
    " \n",
    "- Also if we want to import all the names that a module defines in one fell swoop:\n",
    "```python\n",
    "from <module_name> import *\n",
    "```\n",
    "This imports all names (place the names of all objects from \\<module_name\\> into the local symbol table) except those beginning with an underscore (_).\n",
    "\n",
    "> **Note:** This isn’t recommended in large-scale production code. It’s dangerous because you’re entering names into the local symbol table en masse. Unless you know them all well and can be confident there won’t be a conflict you have a decent chance of overwriting an existing name inadvertently.\n",
    "\n",
    "\n",
    "- Because this form of import places the object names directly into the caller’s symbol table, any objects that already exist with the same name will be overwritten:"
   ]
  },
  {
   "cell_type": "code",
   "execution_count": 69,
   "metadata": {},
   "outputs": [
    {
     "name": "stdout",
     "output_type": "stream",
     "text": [
      "['abc', 'def', 'ghi']\n",
      "53\n"
     ]
    }
   ],
   "source": [
    "BPF = ['abc', 'def', 'ghi']\n",
    "print(BPF)  # ['abc', 'def', 'ghi']\n",
    "\n",
    "from random import BPF\n",
    "print(BPF)  "
   ]
  },
  {
   "cell_type": "markdown",
   "metadata": {},
   "source": [
    "## 4. from \\<module_name\\> import \\<name\\> as \\<alt_name\\>\\[, \\<name2\\> as \\<alt_name2\\>\\]    \n",
    "\n",
    "It’s also possible to import individual objects but put them into the local symbol table with alternate names. This makes it possible to place names directly into the local symbol table but avoid conflicts with previously\n",
    "existing names:"
   ]
  },
  {
   "cell_type": "code",
   "execution_count": 70,
   "metadata": {},
   "outputs": [
    {
     "ename": "ModuleNotFoundError",
     "evalue": "No module named 'printNumbers'",
     "output_type": "error",
     "traceback": [
      "\u001b[1;31m---------------------------------------------------------------------------\u001b[0m",
      "\u001b[1;31mModuleNotFoundError\u001b[0m                       Traceback (most recent call last)",
      "\u001b[1;32m<ipython-input-70-050900f58c5c>\u001b[0m in \u001b[0;36m<module>\u001b[1;34m\u001b[0m\n\u001b[1;32m----> 1\u001b[1;33m \u001b[1;32mfrom\u001b[0m \u001b[0mprintNumbers\u001b[0m \u001b[1;32mimport\u001b[0m \u001b[0mprintForward\u001b[0m \u001b[1;32mas\u001b[0m \u001b[0mpf\u001b[0m\u001b[1;33m,\u001b[0m \u001b[0mprintbackwards\u001b[0m \u001b[1;32mas\u001b[0m \u001b[0mpb\u001b[0m\u001b[1;33m,\u001b[0m \u001b[0ms\u001b[0m\u001b[1;33m,\u001b[0m \u001b[0ma\u001b[0m\u001b[1;33m,\u001b[0m \u001b[0mClassy\u001b[0m \u001b[1;32mas\u001b[0m \u001b[0mmyClass\u001b[0m\u001b[1;33m\u001b[0m\u001b[1;33m\u001b[0m\u001b[0m\n\u001b[0m\u001b[0;32m      2\u001b[0m \u001b[0mpf\u001b[0m\u001b[1;33m(\u001b[0m\u001b[1;36m5\u001b[0m\u001b[1;33m)\u001b[0m\u001b[1;33m\u001b[0m\u001b[1;33m\u001b[0m\u001b[0m\n",
      "\u001b[1;31mModuleNotFoundError\u001b[0m: No module named 'printNumbers'"
     ]
    }
   ],
   "source": [
    "from printNumbers import printForward as pf, printbackwards as pb, s, a, Classy as myClass\n",
    "pf(5)"
   ]
  },
  {
   "cell_type": "markdown",
   "metadata": {},
   "source": [
    "With this, we import just the modules we want, and not the entire package, but still maintain our options open by avoiding name clashes.\n",
    "\n",
    "\n",
    "\n",
    "\n",
    "# Import inside function definition\n",
    "Module contents can be imported from within a function definition. In that case, the import does not occur until the function is called:\n",
    "```python\n",
    "def importer():\n",
    "    from mod import printy\n",
    "    printy('Hello Everyone')\n",
    "\n",
    "print(mod)  # NameError: name 'mod' is not defined\n",
    "printy  # NameError: name 'printy' is not defined\n",
    "\n",
    "importer()  # arg = Hello Everyone\n",
    "```\n",
    "\n",
    "> **Note:** However, Python 3 does not allow the indiscriminate import * syntax from within a function:\n",
    "```python\n",
    "\n",
    "def importer2():\n",
    "    from mod import *  # SyntaxError: import * only allowed at module level\n",
    "```\n",
    "\n",
    "# Import Exception handling:\n",
    "Lastly, you can use a try statement with an except ImportError to guard against unsuccessful import attempts:"
   ]
  },
  {
   "cell_type": "code",
   "execution_count": null,
   "metadata": {},
   "outputs": [],
   "source": [
    "try:\n",
    "    # Non-existent module\n",
    "    import foo\n",
    "except ImportError:\n",
    "    print('Module not found')  # Module not found\n",
    "\n",
    "try:\n",
    "    # Existing module, but non-existent object\n",
    "    from mod import bar\n",
    "except ImportError:\n",
    "    print('Object not found in module')  # Object not found in module"
   ]
  },
  {
   "cell_type": "markdown",
   "metadata": {},
   "source": [
    "# dir()\n",
    "The built-in function dir() is used to alphabetically list all types of names: variables, modules, functions, etc. a module defines. It returns a sorted list of strings:"
   ]
  },
  {
   "cell_type": "code",
   "execution_count": null,
   "metadata": {},
   "outputs": [],
   "source": [
    "import random\n",
    "print(dir(random))"
   ]
  },
  {
   "cell_type": "markdown",
   "metadata": {},
   "source": [
    "Without arguments, dir() lists the names you have defined currently:"
   ]
  },
  {
   "cell_type": "code",
   "execution_count": null,
   "metadata": {},
   "outputs": [],
   "source": [
    "print(dir())"
   ]
  },
  {
   "cell_type": "markdown",
   "metadata": {},
   "source": [
    "> **Note:** : Notice sys in the end which is now part of the local symbols table due to ```python import sys``` earlier but it's members are not."
   ]
  }
 ],
 "metadata": {
  "kernelspec": {
   "display_name": "Python 3",
   "language": "python",
   "name": "python3"
  },
  "language_info": {
   "codemirror_mode": {
    "name": "ipython",
    "version": 3
   },
   "file_extension": ".py",
   "mimetype": "text/x-python",
   "name": "python",
   "nbconvert_exporter": "python",
   "pygments_lexer": "ipython3",
   "version": "3.7.9"
  }
 },
 "nbformat": 4,
 "nbformat_minor": 4
}
