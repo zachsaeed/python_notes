{
 "cells": [
  {
   "cell_type": "markdown",
   "metadata": {},
   "source": [
    "# Third party modules\n",
    "Third party modules exist online on a server. Basically python developers all over the world develop modules and packages and push them up online so other devs like us can download them and use them in their code.\n",
    "\n",
    "This website https://pypi.org/ is a repositry of third party packages where these developers and you can share your code.\n",
    "pypi stands for Python Package Index. In there you can see that currently there are 311,474 projects different packages that python devs have contributed.\n",
    "\n",
    "The packages range from really important useful libraries to really niche and weird ones. You can manually browse them wrt to their area here: https://pypi.org/search/\n",
    "\n",
    "# DOwnloading and installing thes modules\n",
    "- Python comes with a command line utility called 'pip'. It stands for '(P)ip (I)nstalls (P)ackages'. \n",
    "- It is a package management system for python\n",
    "- It used  to be a separate project but as of python 3.4 comes with python by default.\n",
    "- To run it, we type:\n",
    "        python -m pip install NAME_OF_PACKAGE\n",
    "\n",
    "The first package we will install is termcolor (https://pypi.org/project/termcolor/). SOme packages also have documentation / instructions to help you start with them. It is used to add color to your python print statements\n",
    "\n",
    "Open you command line and run:\n",
    "\n",
    "    python -m pip install termcolor\n",
    "    \n",
    "Once installed, you can see it has been added to python's module list:"
   ]
  },
  {
   "cell_type": "code",
   "execution_count": 1,
   "metadata": {},
   "outputs": [
    {
     "name": "stdout",
     "output_type": "stream",
     "text": [
      "\n",
      "Please wait a moment while I gather a list of all available modules...\n",
      "\n"
     ]
    },
    {
     "name": "stderr",
     "output_type": "stream",
     "text": [
      "C:\\Users\\saqui\\.conda\\envs\\conda-python37\\lib\\site-packages\\IPython\\kernel\\__init__.py:13: ShimWarning: The `IPython.kernel` package has been deprecated since IPython 4.0.You should import from ipykernel or jupyter_client instead.\n",
      "  \"You should import from ipykernel or jupyter_client instead.\", ShimWarning)\n"
     ]
    },
    {
     "name": "stdout",
     "output_type": "stream",
     "text": [
      "_cffi_ext.c\n",
      "C:\\Users\\saqui\\.conda\\envs\\conda-python37\\lib\\site-packages\\zmq\\backend\\cffi\\__pycache__\\_cffi_ext.c(268): fatal error C1083: Cannot open include file: 'zmq.h': No such file or directory\n",
      "IPython             builtins            mmapfile            symbol\n",
      "OpenSSL             bz2                 mmsystem            sympyprinting\n",
      "__future__          cProfile            modulefinder        symtable\n",
      "_abc                calendar            msilib              sys\n",
      "_ast                certifi             msvcrt              sysconfig\n",
      "_asyncio            cffi                multiprocessing     tabnanny\n",
      "_bisect             cgi                 my_code_file        tarfile\n",
      "_blake2             cgitb               nbclassic           telnetlib\n",
      "_bootlocale         chardet             nbclient            tempfile\n",
      "_bz2                chunk               nbconvert           termcolor\n",
      "_cffi_backend       cmath               nbformat            terminado\n",
      "_codecs             cmd                 nest_asyncio        test\n",
      "_codecs_cn          code                netbios             testpath\n",
      "_codecs_hk          codecs              netrc               tests\n",
      "_codecs_iso2022     codeop              nntplib             textwrap\n",
      "_codecs_jp          collections         notebook            this\n",
      "_codecs_kr          colorama            nt                  threading\n",
      "_codecs_tw          colorsys            ntpath              time\n",
      "_collections        commctrl            ntsecuritycon       timeit\n",
      "_collections_abc    compileall          nturl2path          timer\n",
      "_compat_pickle      concurrent          numbers             tkinter\n",
      "_compression        configparser        numpy               token\n",
      "_contextvars        contextlib          odbc                tokenize\n",
      "_csv                contextvars         opcode              tornado\n",
      "_ctypes             copy                operator            trace\n",
      "_ctypes_test        copyreg             optparse            traceback\n",
      "_datetime           crypt               os                  tracemalloc\n",
      "_decimal            cryptography        packaging           traitlets\n",
      "_distutils_hack     csv                 pandas              tty\n",
      "_dummy_thread       ctypes              pandocfilters       turtle\n",
      "_elementtree        curses              parser              turtledemo\n",
      "_functools          cythonmagic         parso               types\n",
      "_hashlib            dataclasses         pathlib             typing\n",
      "_heapq              datetime            pdb                 typing_extensions\n",
      "_imp                dateutil            perfmon             unicodedata\n",
      "_io                 dbi                 pickle              unittest\n",
      "_json               dbm                 pickleshare         urllib\n",
      "_locale             dde                 pickletools         urllib3\n",
      "_lsprof             decimal             pip                 uu\n",
      "_lzma               decorator           pipes               uuid\n",
      "_markupbase         defusedxml          pkg_resources       venv\n",
      "_md5                difflib             pkgutil             warnings\n",
      "_msi                dis                 platform            wave\n",
      "_multibytecodec     distutils           plistlib            wcwidth\n",
      "_multiprocessing    doctest             poplib              weakref\n",
      "_opcode             dummy_threading     posixpath           webbrowser\n",
      "_operator           easy_install        pprint              webencodings\n",
      "_osx_support        email               profile             websocket\n",
      "_overlapped         encodings           prometheus_client   wheel\n",
      "_pickle             ensurepip           prompt_toolkit      win2kras\n",
      "_py_abc             entrypoints         pstats              win32api\n",
      "_pydecimal          enum                pty                 win32clipboard\n",
      "_pyio               errno               pvectorc            win32com\n",
      "_pyrsistent_version faulthandler        py_compile          win32con\n",
      "_queue              filecmp             pyclbr              win32console\n",
      "_random             fileinput           pycparser           win32cred\n",
      "_sha1               fnmatch             pydoc               win32crypt\n",
      "_sha256             formatter           pydoc_data          win32cryptcon\n",
      "_sha3               fractions           pyexpat             win32event\n",
      "_sha512             fruits              pygments            win32evtlog\n",
      "_signal             ftplib              pyparsing           win32evtlogutil\n",
      "_sitebuiltins       functools           pyrsistent          win32file\n",
      "_socket             gc                  pythoncom           win32gui\n",
      "_sqlite3            genericpath         pytz                win32gui_struct\n",
      "_sre                getopt              pywin               win32help\n",
      "_ssl                getpass             pywin32_bootstrap   win32inet\n",
      "_stat               gettext             pywin32_testutil    win32inetcon\n",
      "_string             glob                pywintypes          win32job\n",
      "_strptime           gzip                queue               win32lz\n",
      "_struct             hashlib             quopri              win32net\n",
      "_symtable           heapq               random              win32netcon\n",
      "_testbuffer         hmac                rasutil             win32pdh\n",
      "_testcapi           html                re                  win32pdhquery\n",
      "_testconsole        http                regcheck            win32pdhutil\n",
      "_testimportmultiple idlelib             regutil             win32pipe\n",
      "_testmultiphase     idna                reprlib             win32print\n",
      "_thread             imaplib             requests            win32process\n",
      "_threading_local    imghdr              rlcompleter         win32profile\n",
      "_tkinter            imp                 rmagic              win32ras\n",
      "_tracemalloc        importlib           runpy               win32rcparser\n",
      "_warnings           importlib_metadata  sched               win32security\n",
      "_weakref            inspect             secrets             win32service\n",
      "_weakrefset         io                  select              win32serviceutil\n",
      "_win32sysloader     ipaddress           selectors           win32timezone\n",
      "_winapi             ipykernel           send2trash          win32trace\n",
      "_winxptheme         ipykernel_launcher  servicemanager      win32traceutil\n",
      "_yaml               ipython_genutils    setuptools          win32transaction\n",
      "abc                 isapi               shelve              win32ts\n",
      "adodbapi            itertools           shlex               win32ui\n",
      "afxres              jedi                shutil              win32uiole\n",
      "aifc                jinja2              signal              win32verstamp\n",
      "antigravity         json                site                win32wnet\n",
      "anyio               json5               six                 win_inet_pton\n",
      "apples              jsonschema          smtpd               wincertstore\n",
      "argon2              jupyter             smtplib             winerror\n",
      "argparse            jupyter_client      sndhdr              winioctlcon\n",
      "array               jupyter_core        sniffio             winnt\n",
      "ast                 jupyter_server      socket              winperf\n",
      "async_generator     jupyterlab          socketserver        winpty\n",
      "asynchat            jupyterlab_pygments socks               winreg\n",
      "asyncio             jupyterlab_server   sockshandler        winsound\n",
      "asyncore            keyword             sqlite3             winxpgui\n",
      "atexit              lib2to3             sre_compile         winxptheme\n",
      "attr                linecache           sre_constants       wsgiref\n",
      "audioop             locale              sre_parse           xdrlib\n",
      "autoreload          logging             ssl                 xml\n",
      "babel               lzma                sspi                xmlrpc\n",
      "backcall            macpath             sspicon             xxsubtype\n",
      "bananas             mailbox             stat                yaml\n",
      "base64              mailcap             statistics          zipapp\n",
      "bdb                 markupsafe          storemagic          zipfile\n",
      "binascii            marshal             string              zipimport\n",
      "binhex              math                stringprep          zipp\n",
      "bisect              mimetypes           struct              zlib\n",
      "bleach              mistune             subprocess          zmq\n",
      "brotli              mmap                sunau               \n",
      "\n",
      "Enter any module name to get more help.  Or, type \"modules spam\" to search\n",
      "for modules whose name or summary contain the string \"spam\".\n",
      "\n"
     ]
    },
    {
     "name": "stderr",
     "output_type": "stream",
     "text": [
      "C:\\Users\\saqui\\.conda\\envs\\conda-python37\\lib\\pkgutil.py:107: VisibleDeprecationWarning: zmq.eventloop.minitornado is deprecated in pyzmq 14.0 and will be removed.\n",
      "    Install tornado itself to use zmq with the tornado IOLoop.\n",
      "    \n",
      "  yield from walk_packages(path, info.name+'.', onerror)\n"
     ]
    }
   ],
   "source": [
    "help('modules')"
   ]
  },
  {
   "cell_type": "markdown",
   "metadata": {},
   "source": [
    "Once we have term color, we can import it in our code:"
   ]
  },
  {
   "cell_type": "code",
   "execution_count": 2,
   "metadata": {},
   "outputs": [],
   "source": [
    "import termcolor"
   ]
  },
  {
   "cell_type": "markdown",
   "metadata": {},
   "source": [
    "we can check the modules it comes with using dir:"
   ]
  },
  {
   "cell_type": "code",
   "execution_count": 3,
   "metadata": {},
   "outputs": [
    {
     "data": {
      "text/plain": [
       "['ATTRIBUTES',\n",
       " 'COLORS',\n",
       " 'HIGHLIGHTS',\n",
       " 'RESET',\n",
       " 'VERSION',\n",
       " '__ALL__',\n",
       " '__builtins__',\n",
       " '__cached__',\n",
       " '__doc__',\n",
       " '__file__',\n",
       " '__loader__',\n",
       " '__name__',\n",
       " '__package__',\n",
       " '__spec__',\n",
       " 'colored',\n",
       " 'cprint',\n",
       " 'os',\n",
       " 'print_function']"
      ]
     },
     "execution_count": 3,
     "metadata": {},
     "output_type": "execute_result"
    }
   ],
   "source": [
    "dir(termcolor)    "
   ]
  },
  {
   "cell_type": "markdown",
   "metadata": {},
   "source": [
    "This is not as useful as it just lists the contents of the module. We can also use help() which will show us the documentation:"
   ]
  },
  {
   "cell_type": "code",
   "execution_count": 4,
   "metadata": {},
   "outputs": [
    {
     "name": "stdout",
     "output_type": "stream",
     "text": [
      "Help on module termcolor:\n",
      "\n",
      "NAME\n",
      "    termcolor - ANSII Color formatting for output in terminal.\n",
      "\n",
      "FUNCTIONS\n",
      "    colored(text, color=None, on_color=None, attrs=None)\n",
      "        Colorize text.\n",
      "        \n",
      "        Available text colors:\n",
      "            red, green, yellow, blue, magenta, cyan, white.\n",
      "        \n",
      "        Available text highlights:\n",
      "            on_red, on_green, on_yellow, on_blue, on_magenta, on_cyan, on_white.\n",
      "        \n",
      "        Available attributes:\n",
      "            bold, dark, underline, blink, reverse, concealed.\n",
      "        \n",
      "        Example:\n",
      "            colored('Hello, World!', 'red', 'on_grey', ['blue', 'blink'])\n",
      "            colored('Hello, World!', 'green')\n",
      "    \n",
      "    cprint(text, color=None, on_color=None, attrs=None, **kwargs)\n",
      "        Print colorize text.\n",
      "        \n",
      "        It accepts arguments of print function.\n",
      "\n",
      "DATA\n",
      "    ATTRIBUTES = {'blink': 5, 'bold': 1, 'concealed': 8, 'dark': 2, 'rever...\n",
      "    COLORS = {'blue': 34, 'cyan': 36, 'green': 32, 'grey': 30, 'magenta': ...\n",
      "    HIGHLIGHTS = {'on_blue': 44, 'on_cyan': 46, 'on_green': 42, 'on_grey':...\n",
      "    RESET = '\\x1b[0m'\n",
      "    VERSION = (1, 1, 0)\n",
      "    __ALL__ = ['colored', 'cprint']\n",
      "    print_function = _Feature((2, 6, 0, 'alpha', 2), (3, 0, 0, 'alpha', 0)...\n",
      "\n",
      "FILE\n",
      "    c:\\users\\saqui\\.conda\\envs\\conda-python37\\lib\\site-packages\\termcolor.py\n",
      "\n",
      "\n"
     ]
    }
   ],
   "source": [
    "help(termcolor)"
   ]
  },
  {
   "cell_type": "markdown",
   "metadata": {},
   "source": [
    "Lets try running the colored function. Notice we are using termcolor. before the function name:"
   ]
  },
  {
   "cell_type": "code",
   "execution_count": 9,
   "metadata": {},
   "outputs": [
    {
     "name": "stdout",
     "output_type": "stream",
     "text": [
      "\u001b[40m\u001b[31mHello, World!\u001b[0m\n"
     ]
    }
   ],
   "source": [
    "text = termcolor.colored('Hello, World!', color= 'red', on_color='on_grey')\n",
    "print(text)"
   ]
  },
  {
   "cell_type": "markdown",
   "metadata": {},
   "source": [
    "We can also do,"
   ]
  },
  {
   "cell_type": "code",
   "execution_count": 12,
   "metadata": {},
   "outputs": [
    {
     "name": "stdout",
     "output_type": "stream",
     "text": [
      "\u001b[44m\u001b[35mHello, World!\u001b[0m\n"
     ]
    }
   ],
   "source": [
    "from termcolor import colored\n",
    "text2 = colored('Hello, World!', color= 'magenta', on_color='on_blue')\n",
    "print(text2)"
   ]
  },
  {
   "cell_type": "code",
   "execution_count": null,
   "metadata": {},
   "outputs": [],
   "source": []
  }
 ],
 "metadata": {
  "kernelspec": {
   "display_name": "Python 3",
   "language": "python",
   "name": "python3"
  },
  "language_info": {
   "codemirror_mode": {
    "name": "ipython",
    "version": 3
   },
   "file_extension": ".py",
   "mimetype": "text/x-python",
   "name": "python",
   "nbconvert_exporter": "python",
   "pygments_lexer": "ipython3",
   "version": "3.7.9"
  }
 },
 "nbformat": 4,
 "nbformat_minor": 4
}
