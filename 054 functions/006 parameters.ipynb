{
 "cells": [
  {
   "cell_type": "markdown",
   "metadata": {},
   "source": [
    "# Parameters\n",
    "We define one or more comma separated parameters as part of the function definition to pass arguments (input) into a function:"
   ]
  },
  {
   "cell_type": "code",
   "execution_count": 62,
   "metadata": {},
   "outputs": [
    {
     "name": "stdout",
     "output_type": "stream",
     "text": [
      "16\n",
      "64\n"
     ]
    }
   ],
   "source": [
    "def square(num_param):\n",
    "    square_result = num_param**2\n",
    "    print(square_result)\n",
    "\n",
    "square(4)\n",
    "square(8)"
   ]
  },
  {
   "cell_type": "code",
   "execution_count": 63,
   "metadata": {},
   "outputs": [
    {
     "name": "stdout",
     "output_type": "stream",
     "text": [
      "happy birthday jinnah\n"
     ]
    }
   ],
   "source": [
    "def sing_birthday(name):\n",
    "    print(f\"happy birthday {name}\")\n",
    "\n",
    "sing_birthday('jinnah')  # happy birthday saquib"
   ]
  },
  {
   "cell_type": "markdown",
   "metadata": {},
   "source": [
    "The quantity of parameters can be as many as you want of any types"
   ]
  },
  {
   "cell_type": "code",
   "execution_count": 64,
   "metadata": {},
   "outputs": [
    {
     "name": "stdout",
     "output_type": "stream",
     "text": [
      "Your fullname is Saquib Saeed\n"
     ]
    }
   ],
   "source": [
    "def print_full_name(first_name, last_name):\n",
    "    print(f'Your fullname is {first_name} {last_name}')\n",
    "\n",
    "print_full_name('Saquib', 'Saeed')  # Your fullname is Saquib Saeed"
   ]
  },
  {
   "cell_type": "markdown",
   "metadata": {},
   "source": [
    "> ### Parameters vs Arguments\n",
    ">\n",
    "> **Parameters** are the variables in the function definition\n",
    ">\n",
    "> **Arguments** are the actual values which we pass in when the function is called / invoked\n",
    "\n",
    "> In the above example,\n",
    "> **first_name, last_name** in the function definition are refered as paramaters\n",
    ">\n",
    "> where as, the values passed during function call, **'Saquib', 'Saeed'** are refered to as arguments \n",
    "\n",
    "## Number of Arguments\n",
    "By default, a function must be called with the correct number of arguments. Meaning that if your function expects 2 arguments, you have to call the function with 2 arguments, not more, and not less."
   ]
  },
  {
   "cell_type": "code",
   "execution_count": 65,
   "metadata": {},
   "outputs": [
    {
     "name": "stdout",
     "output_type": "stream",
     "text": [
      "Emil Refsnes\n"
     ]
    }
   ],
   "source": [
    "# This function expects 2 arguments, and gets 2 arguments:\n",
    "def my_function(fname, lname):\n",
    "  print(fname + \" \" + lname)\n",
    "\n",
    "my_function(\"Emil\", \"Refsnes\")"
   ]
  },
  {
   "cell_type": "markdown",
   "metadata": {},
   "source": [
    "If you try to call the function with 1 or 3 arguments, you will get an error:"
   ]
  },
  {
   "cell_type": "code",
   "execution_count": 66,
   "metadata": {},
   "outputs": [],
   "source": [
    "# my_function(\"Emil\")  # TypeError: my_function() missing 1 required positional argument: 'lname'\n",
    "# my_function(\"Emil\", \"Refsnes\", \"Jack\")  # TypeError: my_function() takes 2 positional arguments but 3 were given"
   ]
  },
  {
   "cell_type": "markdown",
   "metadata": {},
   "source": [
    "## Default Parameters \n",
    "In the previous example, the function call requires 2 arguments otherwise it will throw an error. \n",
    "We can handle this issue by providing a default value for some of our parameters in the function defintion. \n",
    "\n",
    "If an argument is not passed during function call, the default values are automatically used. However, if argument is passed, it overrides the default value. \n",
    "\n",
    "* default params allows us to be more defensive\n",
    "* avoid errors with incorrect params\n",
    "* more readable examples\n",
    "* default values can be lists, dictionaries, strings, booleans, even other"
   ]
  },
  {
   "cell_type": "code",
   "execution_count": 67,
   "metadata": {},
   "outputs": [
    {
     "name": "stdout",
     "output_type": "stream",
     "text": [
      "16\n"
     ]
    }
   ],
   "source": [
    "def power(num, power=2): # here poer has a default value of 2\n",
    "    print(num**power)\n",
    "\n",
    "power(4)  # only num is provided, since power is not passed, a default walue power=2 will be used"
   ]
  },
  {
   "cell_type": "code",
   "execution_count": 68,
   "metadata": {},
   "outputs": [
    {
     "name": "stdout",
     "output_type": "stream",
     "text": [
      "64\n"
     ]
    }
   ],
   "source": [
    "power(4, 3)  # Both num and power are passed so default power=2 will be overridden by user provided power=3"
   ]
  },
  {
   "cell_type": "markdown",
   "metadata": {},
   "source": [
    "> **Note:** Make sure that default arguments are placed after non-default arguments in the function defintion. Otherwise, Python will raise “SyntaxError: non-default argument follows default argument” error. For example:"
   ]
  },
  {
   "cell_type": "code",
   "execution_count": 69,
   "metadata": {},
   "outputs": [],
   "source": [
    "# def power(power=2, num):\n",
    "#     print(num**power)\n",
    "# SyntaxError: non-default argument follows default argument"
   ]
  },
  {
   "cell_type": "markdown",
   "metadata": {},
   "source": [
    "##  Keyword Arguments\n",
    "Keyword arguments only works when a function is defined with default arguments.  \n",
    "When we call a function, we can pass 'keyword arguments' by assigning arguments to the same keys as defined for the params in the function definition (ie as key-value pairs as defined in the function definition).\n",
    "This means we dont have to dollow the same arrangement of parameters as defined in the function defintion."
   ]
  },
  {
   "cell_type": "code",
   "execution_count": 70,
   "metadata": {},
   "outputs": [
    {
     "name": "stdout",
     "output_type": "stream",
     "text": [
      "6\n"
     ]
    }
   ],
   "source": [
    "# FUnction defintion and default parameters\n",
    "def calculate (a=2, b=4, operationName='add'):\n",
    "    result = ''\n",
    "    if(operationName=='add'):\n",
    "        result = a+b\n",
    "    elif(operationName=='subtract'):    \n",
    "        result = a-b\n",
    "    elif(operationName=='multiply'):    \n",
    "        result = a*b\n",
    "    elif(operationName=='divide'):    \n",
    "        result = a/b\n",
    "    else:    \n",
    "        result = 'Unknown operation'    \n",
    "        \n",
    "    return result    \n",
    "\n",
    "# Since the function has default paramaters it can be called without params:\n",
    "print(calculate()) # default params will be used"
   ]
  },
  {
   "cell_type": "code",
   "execution_count": 71,
   "metadata": {},
   "outputs": [
    {
     "name": "stdout",
     "output_type": "stream",
     "text": [
      "-3\n"
     ]
    }
   ],
   "source": [
    "# We can also pass in (non-keyword) arguments as follows (without the keys, the order/sort of the arguments is important)\n",
    "print(calculate(2, 5, 'subtract'))  # the args are automatically assigned to a, b and operationName in func definition"
   ]
  },
  {
   "cell_type": "code",
   "execution_count": 75,
   "metadata": {},
   "outputs": [
    {
     "name": "stdout",
     "output_type": "stream",
     "text": [
      "-3\n",
      "7\n"
     ]
    }
   ],
   "source": [
    "# Now passing keyword arguments which will overide the default param values in the func defintion\n",
    "print(calculate(a=2, b=5, operationName='subtract')) \n",
    "print(calculate(b=5))  # Only b=5 is provided. Default will be used for the rest"
   ]
  },
  {
   "cell_type": "markdown",
   "metadata": {},
   "source": [
    "Keyword arguments are useful when \n",
    "* The arguments dont match the arrangement of the parameters in the function definition"
   ]
  },
  {
   "cell_type": "code",
   "execution_count": 73,
   "metadata": {},
   "outputs": [
    {
     "name": "stdout",
     "output_type": "stream",
     "text": [
      "-3\n"
     ]
    }
   ],
   "source": [
    "# The arrangement does not follow the function defintion, but python will pass the values to the function defintion using the keys (var names)\n",
    "print(calculate(operationName='subtract', b=5, a=2)) "
   ]
  },
  {
   "cell_type": "markdown",
   "metadata": {},
   "source": [
    "> #### **Note:**  default params vs keyword arguments\n",
    "> when you define a function and use =, you are setting a default param but\n",
    "> when you invoke a function and use =, you are passing a keyword argument to the function"
   ]
  },
  {
   "cell_type": "markdown",
   "metadata": {},
   "source": [
    "## \\*args - Passing variable / unknown number of arguments\n",
    "If you don’t know how many arguments you have to pass in the function then you can allow the function to take variable number of arguments. To do this you need to add an asterisk(*) right before your argument name. \n",
    "\n",
    "But there is some condition, that your special argument has to be the last argument of the function and it is allowed to have only one argument of that kind in one function as it's aim is to gathers remaining arguments as tuple. A tuple which is accessible within the function body."
   ]
  },
  {
   "cell_type": "code",
   "execution_count": null,
   "metadata": {},
   "outputs": [],
   "source": [
    "def sum_all_nums(num1, num2, num3):\n",
    "    sum = num1 + num2 + num3\n",
    "    print(sum)\n",
    "\n",
    "sum_all_nums(1, 2, 3)  # 6"
   ]
  },
  {
   "cell_type": "markdown",
   "metadata": {},
   "source": [
    "In the code above, we are limited to three arguments. What i we have 10 or 20 arguments? we use *args as parameter. "
   ]
  },
  {
   "cell_type": "code",
   "execution_count": null,
   "metadata": {},
   "outputs": [],
   "source": [
    "def sum_all_nums2(*nums):\n",
    "    # nums will be treated as a tuple here\n",
    "    print(type(nums))  # <class 'tuple'>\n",
    "    print(nums)\n",
    "    total = 0\n",
    "    for num in nums:\n",
    "        total += num\n",
    "    return total\n",
    "\n",
    "print(sum_all_nums2(1, 2, 3))\n",
    "print(sum_all_nums2(1, 2, 3, 20, 1, 5))"
   ]
  },
  {
   "cell_type": "markdown",
   "metadata": {},
   "source": [
    "> **Note:** we can mix *arg with individual params but args has to be in the end otherwise it wont be able to differentiate b/w params and arg tuple"
   ]
  },
  {
   "cell_type": "code",
   "execution_count": null,
   "metadata": {},
   "outputs": [],
   "source": [
    "def func(arg1, arg2, *args):\n",
    "    print(arg1, arg2, args)\n",
    "    \n",
    "func(1,2)\n",
    "func(1,2,3,4,5,6)\n"
   ]
  },
  {
   "cell_type": "markdown",
   "metadata": {},
   "source": [
    "## \\*\\*kwargs - Passing variable / unknown number of keyword arguments\n",
    "\n",
    "You can also pass arguments by keywords ( that the order you send argument does not matter. To do so, you have to add two asterisks(\\*\\*) right before the special argument when you define a function. The function gathers remaining keyword arguments as a dictionary which is available in the function definition / body"
   ]
  },
  {
   "cell_type": "code",
   "execution_count": null,
   "metadata": {},
   "outputs": [],
   "source": [
    "def fav_colors(**kwargs):\n",
    "    #kwargs needs to be treated as a dictionary here\n",
    "    print(type(kwargs))  # <class 'dict'>\n",
    "    print(kwargs)  # {'colt': 'purple', 'ruby': 'red', 'ethel': 'teal'}\n",
    "    for k,v in kwargs.items():\n",
    "        print(f\"{k}'s favourite color is {v}\")\n",
    "        # colt's favourite color is purple\n",
    "        # ruby's favourite color is red\n",
    "        # ethel's favourite color is teal\n",
    "\n",
    "fav_colors(colt='purple', ruby='red', ethel='teal')"
   ]
  },
  {
   "cell_type": "markdown",
   "metadata": {},
   "source": [
    "## tuple and list unpacking\n",
    "We can pass in a tuple or list with the same length as the params of a function with a * before the list/tuple name. The * will unpack the collection and turn each item into individual method arguments"
   ]
  },
  {
   "cell_type": "code",
   "execution_count": null,
   "metadata": {},
   "outputs": [],
   "source": [
    "def sum(num1, num2, num3):\n",
    "    return num1+num2+num3\n",
    "\n",
    "# individual params\n",
    "print(sum(1,4,4))  # 9"
   ]
  },
  {
   "cell_type": "code",
   "execution_count": null,
   "metadata": {},
   "outputs": [],
   "source": [
    "# unpack tuple into params\n",
    "param_tuple = (1, 2, 3)\n",
    "print(sum(*param_tuple))  # 6"
   ]
  },
  {
   "cell_type": "code",
   "execution_count": null,
   "metadata": {},
   "outputs": [],
   "source": [
    "# unpack list into params\n",
    "param_list = [3, 4, 5]\n",
    "print(sum(*param_list))  # 12"
   ]
  },
  {
   "cell_type": "markdown",
   "metadata": {},
   "source": [
    "#### Unpack tuple into *args: \n",
    "We can pass *tuple to unpack it. The function definition then packs it back into tuples using *args"
   ]
  },
  {
   "cell_type": "code",
   "execution_count": null,
   "metadata": {},
   "outputs": [],
   "source": [
    "def sum_all_values(*args): # *args combines all arguments into a tuple\n",
    "    print(type(args))\n",
    "    print(args)\n",
    "    total= 0\n",
    "    for v in args:\n",
    "        total +=v\n",
    "    return total\n",
    "\n",
    "nums = (1,2,3,4,5,6,7)  # tuple\n",
    "print(sum_all_values(*nums))  # 28  # *nums unpacks the tuple into arguments\n",
    "nums = [1,2,3,4,5,6,7]  # list\n",
    "print(sum_all_values(*nums))  # 28  # *nums unpacks the list into arguments"
   ]
  },
  {
   "cell_type": "markdown",
   "metadata": {},
   "source": [
    "# Dictionary unpacking\n",
    "uses \\*\\* to unpack dictionary items into keyword-arguments"
   ]
  },
  {
   "cell_type": "code",
   "execution_count": null,
   "metadata": {},
   "outputs": [],
   "source": [
    "def sum(num1=0, num2=0, num3=0):\n",
    "    return num1+num2+num3\n",
    "\n",
    "# individual params\n",
    "print(sum(1,2,3))  # 9\n",
    "print(sum(num3=3,num1=1,num2=2))  # 9"
   ]
  },
  {
   "cell_type": "code",
   "execution_count": null,
   "metadata": {},
   "outputs": [],
   "source": [
    "# unpack dictionary into params\n",
    "param_dict = {'num1': 1, 'num2': 2, 'num3': 3}\n",
    "print(sum(**param_dict))  # 6"
   ]
  },
  {
   "cell_type": "markdown",
   "metadata": {},
   "source": [
    "#### Unpack dictionary into **kwargs: \n",
    "We can pass **dictionary to unpack it. The function definition then packs it back into a dictionary using **kwargs"
   ]
  },
  {
   "cell_type": "code",
   "execution_count": null,
   "metadata": {},
   "outputs": [],
   "source": [
    "def sum_all_values(**kwargs): # **kwargs combines all arguments into a dictionary\n",
    "    print(type(kwargs))\n",
    "    print(kwargs)\n",
    "    total= 0\n",
    "    for k,v in kwargs.items():\n",
    "        total +=v\n",
    "    return total\n",
    "\n",
    "nums = {'num1': 1, 'num2': 2, 'num3': 3, 'num4': 4, 'num5': 5, 'num6': 6,}  # dictionary\n",
    "print(sum_all_values(**nums))  # 28  # **nums unpacks the dictionary into arguments\n"
   ]
  },
  {
   "cell_type": "markdown",
   "metadata": {},
   "source": [
    "# Parameters ordering\n",
    "Make sure that if you use different types of parameters in the same function, order them as follows:\n",
    "1. Parameters\n",
    "2. *args\n",
    "3. default parameters\n",
    "4. **kwargs"
   ]
  },
  {
   "cell_type": "code",
   "execution_count": null,
   "metadata": {},
   "outputs": [],
   "source": [
    "def display_info(a, b, *args, instructor=\"colt\", **kwargs):\n",
    "    return [a, b, args, instructor, kwargs]\n",
    "\n",
    "print(display_info(1, 2, 3 , last_name=\"Steele\", job=\"Instructor\"))"
   ]
  },
  {
   "cell_type": "markdown",
   "metadata": {},
   "source": [
    "Arguments have been assigned to the parameters as follows:\n",
    "* a = 1\n",
    "* b = 2\n",
    "* args (3, ) # NOTE:  if a tuple has a single element, python inserts a comma after it to distinguish it from (3) which is just an int inside brackets\n",
    "* instructor = \"colt\"\n",
    "* kwargs- {last_name:\"Steele\", job:\"Instructor\"}"
   ]
  }
 ],
 "metadata": {
  "kernelspec": {
   "display_name": "Python 3",
   "language": "python",
   "name": "python3"
  },
  "language_info": {
   "codemirror_mode": {
    "name": "ipython",
    "version": 3
   },
   "file_extension": ".py",
   "mimetype": "text/x-python",
   "name": "python",
   "nbconvert_exporter": "python",
   "pygments_lexer": "ipython3",
   "version": "3.8.7"
  }
 },
 "nbformat": 4,
 "nbformat_minor": 4
}
