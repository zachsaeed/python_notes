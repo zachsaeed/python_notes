{
 "cells": [
  {
   "cell_type": "markdown",
   "metadata": {},
   "source": [
    "# Function\n",
    "Function is reusable set/block of procedures which can be called and executed over and over again\n",
    "It can accept inputs (arguments) and returns an output\n",
    "* They help implement DRY - dont repeat yourself as opposed to WET - write everything twice\n",
    "* helps cleanup and avoid code duplication\n",
    "* abstracts away code for other users\n",
    "* allows us to organise things\n",
    "* enable us to debug a program easily\n",
    "\n",
    "> **Note:** pep:8:\n",
    "> 1- most function names should be lower_snake_case (not camelCase)\n",
    "> 2- leave 2 lines b4 and after method definition\n",
    "\n",
    "### Structure:\n",
    "```console\n",
    "def name_of_function (arguments):\n",
    "    # block of runnable code\n",
    "    # optional return which stops execution and may return a value\n",
    "```    "
   ]
  },
  {
   "cell_type": "code",
   "execution_count": 6,
   "metadata": {},
   "outputs": [
    {
     "name": "stdout",
     "output_type": "stream",
     "text": [
      "Hi\n"
     ]
    }
   ],
   "source": [
    "def say_hi():\n",
    "    print('Hi')\n",
    "\n",
    "# call/invoke function:\n",
    "say_hi()"
   ]
  },
  {
   "cell_type": "markdown",
   "metadata": {},
   "source": [
    "## return\n",
    "The optional return keyword is used within the function body to stop execution and return the result. \n",
    "\n",
    "> **Note:** when return is called,\n",
    "> * It exits the function\n",
    "> * Outputs whatever value is placed after the return keyword\n",
    "> * pops the function off the call stack\n",
    "> * An empty retun (without return a value) is used to stop and exit the function"
   ]
  },
  {
   "cell_type": "code",
   "execution_count": 7,
   "metadata": {},
   "outputs": [
    {
     "name": "stdout",
     "output_type": "stream",
     "text": [
      "49\n"
     ]
    }
   ],
   "source": [
    "def square_of_seven():\n",
    "    return 7**2\n",
    "\n",
    "result = square_of_seven()\n",
    "print(result)  # 49"
   ]
  },
  {
   "cell_type": "code",
   "execution_count": 8,
   "metadata": {},
   "outputs": [
    {
     "name": "stdout",
     "output_type": "stream",
     "text": [
      "Before the return\n",
      "64\n"
     ]
    }
   ],
   "source": [
    "def square_of_eight():\n",
    "    print('Before the return')\n",
    "    return 8**2\n",
    "    # because o the return before this line, code will\n",
    "    print('After the return')\n",
    "    # end execution and never reach this point\n",
    "\n",
    "result = square_of_eight()  # prints: Before the return\n",
    "print(result)  # 64"
   ]
  },
  {
   "cell_type": "markdown",
   "metadata": {},
   "source": [
    "### Common mistakes with return\n",
    "\n",
    "1. Be very careful with position of return. eg if its places inside a for loop it will 'break' the function as the first iteration is run\n",
    "\n",
    "2. In the example below, 'else' is not really required:\n",
    "```python\n",
    "if <condition>:\n",
    "    return True\n",
    "else\n",
    "return False\n",
    "```\n",
    "and can be written as:\n",
    "```python\n",
    "if <condition>:\n",
    "    return True\n",
    "return False\n",
    "```\n",
    "\n",
    "\n",
    "### Returning multiple values\n",
    "In Python, we can return multiple values from a function. Following are the different 4 ways\n",
    "\n",
    "\n",
    "#### 1. Using Object: \n",
    "This is similar to C / C + + and Java, we can create a class(in C, struct) to hold multiple values and return an object of the class."
   ]
  },
  {
   "cell_type": "code",
   "execution_count": 9,
   "metadata": {},
   "outputs": [
    {
     "name": "stdout",
     "output_type": "stream",
     "text": [
      "A string value\n",
      "20\n"
     ]
    }
   ],
   "source": [
    "class Test:\n",
    "    def __init__(self):\n",
    "        self.str_value = \"A string value\"\n",
    "        self.x = 20\n",
    "\n",
    "# This function returns an object of Test\n",
    "def fun():\n",
    "    return Test()\n",
    "\n",
    "t = fun()\n",
    "print(t.str_value)  # geeksforgeeks\n",
    "print(t.x)  # 20\n",
    "\n",
    "# Below are some more interesting methods for somebody shifting C++ / Java world."
   ]
  },
  {
   "cell_type": "markdown",
   "metadata": {},
   "source": [
    "#### 2. Using Tuple:\n",
    "\n",
    "A Tuple is a comma separated sequence of items. It is created with or without (). Tuples are immutable."
   ]
  },
  {
   "cell_type": "code",
   "execution_count": 10,
   "metadata": {},
   "outputs": [
    {
     "name": "stdout",
     "output_type": "stream",
     "text": [
      "geeksforgeeks\n",
      "20\n"
     ]
    }
   ],
   "source": [
    "def fun():\n",
    "    str_value = \"Super duper\"\n",
    "    x = 20\n",
    "    return str_value, x;  # Return tuple, we can also write (str_value, x)\n",
    "\n",
    "\n",
    "str_value, x = fun()  # Assign returned tuple\n",
    "print(str_value)  # geeksforgeeks\n",
    "print(x)  # 20"
   ]
  },
  {
   "cell_type": "markdown",
   "metadata": {},
   "source": [
    "#### 3. Using a list: \n",
    "A list is like an array of items created using square brackets.They are different from arrays as they can contain items of different types.Lists are different from tuples as they are mutable."
   ]
  },
  {
   "cell_type": "code",
   "execution_count": 11,
   "metadata": {},
   "outputs": [
    {
     "name": "stdout",
     "output_type": "stream",
     "text": [
      "['geeksforgeeks', 20]\n"
     ]
    }
   ],
   "source": [
    "def fun():\n",
    "    str_value = \"marlboro Gold\"\n",
    "    x = 20\n",
    "    return [str_value, x];\n",
    "\n",
    "list = fun()\n",
    "print(list)  # ['geeksforgeeks', 20]"
   ]
  },
  {
   "cell_type": "markdown",
   "metadata": {},
   "source": [
    "#### 4. Using a Dictionary: \n",
    "A Dictionary is similar to hash or map in other languages."
   ]
  },
  {
   "cell_type": "code",
   "execution_count": 12,
   "metadata": {},
   "outputs": [
    {
     "name": "stdout",
     "output_type": "stream",
     "text": [
      "{'str_value': 'GeeksforGeeks', 'x': 20}\n"
     ]
    }
   ],
   "source": [
    "def fun():\n",
    "    d = dict();\n",
    "    d['str_value'] = \"Python Patterns\"\n",
    "    d['x'] = 20\n",
    "    return d\n",
    "\n",
    "\n",
    "# Driver code to test above method\n",
    "d = fun()\n",
    "print(d)  # {'x': 20, 'str_value': 'GeeksforGeeks'}"
   ]
  },
  {
   "cell_type": "markdown",
   "metadata": {},
   "source": [
    "## Parameters\n",
    "\n",
    "We define one or more comma separated parameters as part of the function definition to pass arguments (input) into a function:"
   ]
  }
 ],
 "metadata": {
  "kernelspec": {
   "display_name": "Python 3",
   "language": "python",
   "name": "python3"
  },
  "language_info": {
   "codemirror_mode": {
    "name": "ipython",
    "version": 3
   },
   "file_extension": ".py",
   "mimetype": "text/x-python",
   "name": "python",
   "nbconvert_exporter": "python",
   "pygments_lexer": "ipython3",
   "version": "3.7.4"
  }
 },
 "nbformat": 4,
 "nbformat_minor": 4
}
