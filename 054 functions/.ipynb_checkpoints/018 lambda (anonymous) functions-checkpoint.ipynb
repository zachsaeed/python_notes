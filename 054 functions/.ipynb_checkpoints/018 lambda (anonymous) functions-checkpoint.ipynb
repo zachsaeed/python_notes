{
 "cells": [
  {
   "cell_type": "markdown",
   "metadata": {},
   "source": [
    "# Lambda (anonymous) functions\n",
    "\n",
    "Python lambda function has no name. Therefore, we can use Python Anonymous function for a small scope of program. \n",
    "Normally, we define Python function using def keyword. But we define anonymous function using lambda keyword. \n",
    "The basic structure of an anonymous function is given below.\n",
    "```console\n",
    "lambda arguments : expression\n",
    "```\n",
    "> **Note:** \n",
    "> * Even though it taking zero or more arguments, the anonymous function is allowed only one expression. The value of the expression is automatically returned. \n",
    "\n",
    "A normal function which will calculate the sum of two number will look as follows:"
   ]
  },
  {
   "cell_type": "code",
   "execution_count": 1,
   "metadata": {},
   "outputs": [
    {
     "name": "stdout",
     "output_type": "stream",
     "text": [
      "3\n",
      "8\n",
      "7\n"
     ]
    }
   ],
   "source": [
    "def sum ( a, b ):\n",
    "    return a+b\n",
    "\n",
    "print (sum(1, 2))\n",
    "print (sum(3, 5))\n",
    "\n",
    "# A name function can be assigned to a variable and then called again with new variable name\n",
    "sm = sum\n",
    "print(sm(2,5))  # 7 "
   ]
  },
  {
   "cell_type": "code",
   "execution_count": 2,
   "metadata": {},
   "outputs": [
    {
     "name": "stdout",
     "output_type": "stream",
     "text": [
      "sum\n",
      "sum\n"
     ]
    }
   ],
   "source": [
    "print(sum.__name__)\n",
    "print(sm.__name__)"
   ]
  },
  {
   "cell_type": "markdown",
   "metadata": {},
   "source": [
    "If we can convert this function to an anonymous function, the code will be like this:"
   ]
  },
  {
   "cell_type": "code",
   "execution_count": 3,
   "metadata": {},
   "outputs": [
    {
     "name": "stdout",
     "output_type": "stream",
     "text": [
      "3\n",
      "8\n"
     ]
    }
   ],
   "source": [
    "sm2 = lambda a,b: (a+b)\n",
    "\n",
    "print (sm2(1,2))\n",
    "print (sm2(3,5))"
   ]
  },
  {
   "cell_type": "code",
   "execution_count": 4,
   "metadata": {},
   "outputs": [
    {
     "name": "stdout",
     "output_type": "stream",
     "text": [
      "<lambda>\n"
     ]
    }
   ],
   "source": [
    "print(sm2.__name__)"
   ]
  },
  {
   "cell_type": "markdown",
   "metadata": {},
   "source": [
    "> **Note:** \n",
    "> It is NOT usually used in this manner by assigning to a variable. This is just an example to show you.\n",
    "\n",
    "## Why Should We Use Python Anonymous Function\n",
    "\n",
    "Lambdas are not widely used. There are vasa blog posts online where people argue they shouldn't be used, removed from python 3 or there should be another solution. This is because we can replace an anonymous function with a regular function. \n",
    "\n",
    "* Lambda functions are used when you need to pass a function into another function as an argument and that passed function is unique and never re-used again.The best example is map filter and reduce functions\n",
    "* When you may need to do a single task repeatedly across your scope. Therefore, you need a temporary function to do that. Because, anonymous function is valid in between the scope while a regular function is valid in the program.\n",
    "\n",
    "\n",
    "\n",
    "## Example Usea of Lambda/Anonymous Function\n",
    "\n",
    "Now, we are going to see some common use of lambda. By using map() and filter() function we can change a list using anonymous function. For example, we want increment all the numbers in a list by n. To do so, the code should be like this"
   ]
  },
  {
   "cell_type": "code",
   "execution_count": 5,
   "metadata": {},
   "outputs": [
    {
     "name": "stdout",
     "output_type": "stream",
     "text": [
      "The initial list is: \n",
      "[1, 2, 3, 4, 5, 6, 7, 8]\n"
     ]
    },
    {
     "name": "stdin",
     "output_type": "stream",
     "text": [
      "Enter the value of n:  2\n"
     ]
    },
    {
     "name": "stdout",
     "output_type": "stream",
     "text": [
      "The changed list is: \n",
      "[3, 4, 5, 6, 7, 8, 9, 10]\n"
     ]
    }
   ],
   "source": [
    "#initial list\n",
    "l = [1,2,3,4,5,6,7,8]\n",
    "\n",
    "#print the initial list\n",
    "print(\"The initial list is: \")\n",
    "print(l)\n",
    "\n",
    "#choose n\n",
    "n = int(input('Enter the value of n: '))\n",
    "\n",
    "#increment all the values of the list by using map with help of lambda\n",
    "l = list(map(lambda x: x+n , l))\n",
    "\n",
    "#print the changed list\n",
    "print(\"The changed list is: \")\n",
    "print(l)"
   ]
  },
  {
   "cell_type": "markdown",
   "metadata": {},
   "source": [
    "Similarly, if we want to store the common elements of two list into new list, we can use filter. To check if the an element is in List2, we used lambda function. The example code is given below"
   ]
  },
  {
   "cell_type": "code",
   "execution_count": 6,
   "metadata": {},
   "outputs": [
    {
     "name": "stdout",
     "output_type": "stream",
     "text": [
      "List1: [1, 2, 3, 4, 5, 6, 7, 8]\n",
      "List2: [2, 3, 5, 9, 12, 14]\n",
      "List3 (List1 intersect List2 ): [2, 3, 5]\n"
     ]
    }
   ],
   "source": [
    "#initialize list1\n",
    "list1 = [1,2,3,4,5,6,7,8]\n",
    "\n",
    "#print list1\n",
    "print(\"List1:\", end = ' ')\n",
    "print(list1)\n",
    "\n",
    "#intialize list2 for select numbers\n",
    "list2 = [2,3,5,9,12,14]\n",
    "\n",
    "#print list2\n",
    "print(\"List2:\", end = ' ')\n",
    "print(list2)\n",
    "\n",
    "'''\n",
    "compare using lambda function if the value is in list2, if yes then filer the result and assign to list3\n",
    "'''\n",
    "list3 = list(filter(lambda x: x in list2 , list1))\n",
    "\n",
    "#print the changed list\n",
    "print(\"List3 (List1 intersect List2 ):\", end=' ')\n",
    "print(list3)"
   ]
  },
  {
   "cell_type": "code",
   "execution_count": null,
   "metadata": {},
   "outputs": [],
   "source": []
  }
 ],
 "metadata": {
  "kernelspec": {
   "display_name": "Python 3",
   "language": "python",
   "name": "python3"
  },
  "language_info": {
   "codemirror_mode": {
    "name": "ipython",
    "version": 3
   },
   "file_extension": ".py",
   "mimetype": "text/x-python",
   "name": "python",
   "nbconvert_exporter": "python",
   "pygments_lexer": "ipython3",
   "version": "3.8.7"
  }
 },
 "nbformat": 4,
 "nbformat_minor": 4
}
