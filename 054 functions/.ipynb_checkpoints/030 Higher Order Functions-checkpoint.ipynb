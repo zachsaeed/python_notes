{
 "cells": [
  {
   "cell_type": "markdown",
   "metadata": {},
   "source": [
    "## Passing functions as variables\n",
    "We can pass function definitions as variable too for example:"
   ]
  },
  {
   "cell_type": "code",
   "execution_count": 12,
   "metadata": {},
   "outputs": [
    {
     "name": "stdout",
     "output_type": "stream",
     "text": [
      "HEY THERE\n"
     ]
    }
   ],
   "source": [
    "def shout(text):  \n",
    "    return text.upper()  \n",
    "\n",
    "print(shout('Hey there'))"
   ]
  },
  {
   "cell_type": "code",
   "execution_count": 13,
   "metadata": {},
   "outputs": [
    {
     "name": "stdout",
     "output_type": "stream",
     "text": [
      "HEY THERE2\n"
     ]
    }
   ],
   "source": [
    "another_shout=shout\n",
    "print(another_shout('Hey there2'))"
   ]
  },
  {
   "cell_type": "markdown",
   "metadata": {},
   "source": [
    "> **Note:** When a function is passed to anopther variable, the name property of the function stays the same as defined in the function defintion. For example:"
   ]
  },
  {
   "cell_type": "code",
   "execution_count": 14,
   "metadata": {},
   "outputs": [
    {
     "name": "stdout",
     "output_type": "stream",
     "text": [
      "shout\n",
      "shout\n"
     ]
    }
   ],
   "source": [
    "print(shout.__name__)\n",
    "print(another_shout.__name__)"
   ]
  },
  {
   "cell_type": "markdown",
   "metadata": {},
   "source": [
    "> **Note:** To pass a function into a variable, only use the name of the function (without the arguments) as a value otherwise python will try to execute the function instead of passing the definition to the variable"
   ]
  },
  {
   "cell_type": "markdown",
   "metadata": {},
   "source": [
    "# Higher Order Functions\n",
    "Since, functions can be assigned to variables, we can also pass them as arguments to anopther function which can call it internally or return a new function. \n",
    "\n",
    "A function is called Higher Order Function if it contains other functions as a parameter or returns a function as an output i.e, the functions that operate with another function are known as Higher order Functions. \n",
    "\n",
    "It is worth knowing that this higher order function is applicable for functions and methods as well that takes functions as a parameter or returns a function as a result. \n",
    "\n",
    "## Properties of higher-order functions:\n",
    "- A function is an instance of the Object type.\n",
    "- You can store the function in a variable.\n",
    "- You can pass the function as a parameter to another function.\n",
    "- You can return the function from a function.\n",
    "- You can store them in data structures such as hash tables, lists, …\n",
    "\n",
    "## Functions as objects\n",
    "In Python, a function can be assigned to a variable. This assignment does not call the function, instead a reference to that function is created. Consider the below example, for better understanding.\n",
    "\n",
    "Example:"
   ]
  },
  {
   "cell_type": "code",
   "execution_count": 15,
   "metadata": {},
   "outputs": [
    {
     "name": "stdout",
     "output_type": "stream",
     "text": [
      "HELLO\n",
      "HELLO\n"
     ]
    }
   ],
   "source": [
    "# Python program to illustrate functions  \n",
    "# can be treated as objects  \n",
    "def shout(text):  \n",
    "    return text.upper()  \n",
    "    \n",
    "print(shout('Hello'))  \n",
    "    \n",
    "# Assigning function to a variable \n",
    "yell = shout  \n",
    "    \n",
    "print(yell('Hello')) "
   ]
  },
  {
   "cell_type": "code",
   "execution_count": 16,
   "metadata": {},
   "outputs": [
    {
     "name": "stdout",
     "output_type": "stream",
     "text": [
      "3\n"
     ]
    }
   ],
   "source": [
    "# Another example:\n",
    "\n",
    "def add(a, b):\n",
    "    print(a + b)\n",
    "add(1,2) # can be called separtately"
   ]
  },
  {
   "cell_type": "code",
   "execution_count": 17,
   "metadata": {},
   "outputs": [
    {
     "name": "stdout",
     "output_type": "stream",
     "text": [
      "4\n",
      "3\n"
     ]
    }
   ],
   "source": [
    "# Since functions can be assigned to a new variable, we can also pass functions as arguments:\n",
    "def subtract(a, b):\n",
    "    print(a - b)\n",
    "\n",
    "def math(a, b, fn=add): # Note add is set as a default argument which gets assigned to fn and then fn is called\n",
    "    fn(a, b)\n",
    "\n",
    "# Calling the math function:    \n",
    "# default add function used, as no argument is provided to fn paramater and defualt fn=add is used    \n",
    "math(2, 2)\n",
    "# Here, fn=subtract\n",
    "math(5, 2, subtract)  # 3"
   ]
  },
  {
   "cell_type": "markdown",
   "metadata": {},
   "source": [
    "> **Note:** As math is a mixture of normal and keyword arguments, the order of params is also important. So,"
   ]
  },
  {
   "cell_type": "code",
   "execution_count": 18,
   "metadata": {},
   "outputs": [],
   "source": [
    "# math(subtract, 5, 2)  # Will not work and throw error: TypeError: 'int' object is not callable"
   ]
  }
 ],
 "metadata": {
  "kernelspec": {
   "display_name": "Python 3",
   "language": "python",
   "name": "python3"
  },
  "language_info": {
   "codemirror_mode": {
    "name": "ipython",
    "version": 3
   },
   "file_extension": ".py",
   "mimetype": "text/x-python",
   "name": "python",
   "nbconvert_exporter": "python",
   "pygments_lexer": "ipython3",
   "version": "3.8.7"
  }
 },
 "nbformat": 4,
 "nbformat_minor": 4
}
