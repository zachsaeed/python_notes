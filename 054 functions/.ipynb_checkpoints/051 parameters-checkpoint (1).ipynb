{
 "cells": [
  {
   "cell_type": "markdown",
   "metadata": {},
   "source": [
    "# Parameters\n",
    "We define one or more comma separated parameters as part of the function definition to pass arguments (input) into a function:"
   ]
  },
  {
   "cell_type": "code",
   "execution_count": 30,
   "metadata": {},
   "outputs": [
    {
     "name": "stdout",
     "output_type": "stream",
     "text": [
      "16\n",
      "64\n"
     ]
    }
   ],
   "source": [
    "def square(num_param):\n",
    "    return num_param**2\n",
    "\n",
    "\n",
    "print(square(4))  # 16\n",
    "print(square(8))  # 64"
   ]
  },
  {
   "cell_type": "code",
   "execution_count": 31,
   "metadata": {},
   "outputs": [
    {
     "name": "stdout",
     "output_type": "stream",
     "text": [
      "happy birthday saquib\n"
     ]
    }
   ],
   "source": [
    "def sing_birthday(name):\n",
    "    print(f\"happy birthday {name}\")\n",
    "\n",
    "\n",
    "sing_birthday('saquib')  # happy birthday saquib"
   ]
  },
  {
   "cell_type": "markdown",
   "metadata": {},
   "source": [
    "The quantity of parameters can be as many as you want of any types"
   ]
  },
  {
   "cell_type": "code",
   "execution_count": 32,
   "metadata": {},
   "outputs": [
    {
     "name": "stdout",
     "output_type": "stream",
     "text": [
      "Your fullname is Saquib Saeed\n"
     ]
    }
   ],
   "source": [
    "def print_full_name(first_name, last_name):\n",
    "    return f'Your fullname is {first_name} {last_name}'\n",
    "\n",
    "print(print_full_name('Saquib', 'Saeed'))  # Your fullname is Saquib Saeed"
   ]
  },
  {
   "cell_type": "markdown",
   "metadata": {},
   "source": [
    "> #### Parameters vs Arguments\n",
    "> Parameters are the variables in the function definition\n",
    "> Arguments are the variables which we pass in when the function is called / invoked\n",
    "\n",
    "\n",
    "## Default Parameters \n",
    "We can define default values for parameters in the function definition. The default values are automatically used if an argument is not specified during function call. However, if argument is passed, it overrides the default value. \n",
    "\n",
    "* default params allows u to be more defensive\n",
    "* avoid errors with incorrect params\n",
    "* more readable examples\n",
    "*  default values can be lists, dictionaries, strings, booleans, even other"
   ]
  },
  {
   "cell_type": "code",
   "execution_count": 33,
   "metadata": {},
   "outputs": [
    {
     "name": "stdout",
     "output_type": "stream",
     "text": [
      "16\n"
     ]
    }
   ],
   "source": [
    "def power(num, power=2):\n",
    "    return num**power\n",
    "\n",
    "\n",
    "print(power(4))  # 16"
   ]
  },
  {
   "cell_type": "markdown",
   "metadata": {},
   "source": [
    "We can pass functions as variables too and as default param"
   ]
  },
  {
   "cell_type": "code",
   "execution_count": 34,
   "metadata": {},
   "outputs": [
    {
     "name": "stdout",
     "output_type": "stream",
     "text": [
      "4\n",
      "3\n"
     ]
    }
   ],
   "source": [
    "def add(a, b):\n",
    "    return a + b\n",
    "\n",
    "def subtract(a, b):\n",
    "    return a - b\n",
    "\n",
    "def math(a, b, fn=add):\n",
    "    return fn(a, b)\n",
    "\n",
    "print(math(2, 2))  # 4  # default add function used\n",
    "print(math(5, 2, subtract))  # 3"
   ]
  },
  {
   "cell_type": "markdown",
   "metadata": {},
   "source": [
    "The order of params is important. So,\n",
    "```python\n",
    "print(math(subtract, 5, 2))  # Will not work\n",
    "```\n",
    "\n",
    "##  Keyword Arguments\n",
    "We can pass keyword arguments when function is called by assigning arguments to the original name of the params (as defined in the function definition"
   ]
  },
  {
   "cell_type": "code",
   "execution_count": 35,
   "metadata": {},
   "outputs": [
    {
     "name": "stdout",
     "output_type": "stream",
     "text": [
      "3\n"
     ]
    }
   ],
   "source": [
    "print(math(fn=subtract, a=5, b=2)) # 3"
   ]
  },
  {
   "cell_type": "markdown",
   "metadata": {},
   "source": [
    "Keyword arguments are useful when \n",
    "* The arguments dont match the arrangement of the parameters in the function definition\n",
    "* passing a dictionary to a function and unpacking its values.\n",
    "\n",
    "> #### **Note:**  default params vs keyword arguments\n",
    "> when you define a function and use =, you are setting a default param but\n",
    "> when you invoke a function and use =, you are passing a keyword argument to the function\n",
    "\n",
    "## \\*args - Passing variable / unknown number of arguments\n",
    "If you don’t know how many arguments you have to pass in the function then you can allow the function to take variable number of arguments. To do this you need to add an asterisk(*) right before your argument name. \n",
    "\n",
    "But there is some condition, that your special argument has to be the last argument of the function and it is allowed to have only one argument of that kind in one function as it's aim is to gathers remaining arguments as tuple. A tuple which is accessible within the function body."
   ]
  },
  {
   "cell_type": "markdown",
   "metadata": {},
   "source": [
    "def sum_all_nums(num1, num2, num3):\n",
    "    return num1 + num2 + num3\n",
    "\n",
    "\n",
    "print(sum_all_nums(1, 2, 3))  # 6"
   ]
  },
  {
   "cell_type": "markdown",
   "metadata": {},
   "source": [
    "In the code above, we are limited to three arguments. What i we have 10 or 20 arguments? we use *args as parameter. "
   ]
  },
  {
   "cell_type": "code",
   "execution_count": 36,
   "metadata": {},
   "outputs": [
    {
     "name": "stdout",
     "output_type": "stream",
     "text": [
      "<class 'tuple'>\n",
      "(1, 2, 3)\n",
      "6\n",
      "<class 'tuple'>\n",
      "(1, 2, 3, 20, 1, 5)\n",
      "32\n"
     ]
    }
   ],
   "source": [
    "def sum_all_nums2(*nums):\n",
    "    # nums will be treated as a tuple here\n",
    "    print(type(nums))  # <class 'tuple'>\n",
    "    print(nums)\n",
    "    total = 0\n",
    "    for num in nums:\n",
    "        total += num\n",
    "    return total\n",
    "\n",
    "\n",
    "print(sum_all_nums2(1, 2, 3))\n",
    "\n",
    "print(sum_all_nums2(1, 2, 3, 20, 1, 5))\n"
   ]
  },
  {
   "cell_type": "markdown",
   "metadata": {},
   "source": [
    "> **Note:** we can mix *arg with individual params but args has to be in the end otherwise it wont be able to differentiate b/w params and arg tuple"
   ]
  },
  {
   "cell_type": "code",
   "execution_count": 37,
   "metadata": {},
   "outputs": [
    {
     "name": "stdout",
     "output_type": "stream",
     "text": [
      "1 2 ()\n",
      "1 2 (3, 4, 5, 6)\n"
     ]
    }
   ],
   "source": [
    "def func(arg1, arg2, *args):\n",
    "    print(arg1, arg2, args)\n",
    "    \n",
    "func(1,2)\n",
    "func(1,2,3,4,5,6)\n"
   ]
  },
  {
   "cell_type": "markdown",
   "metadata": {},
   "source": [
    "## \\*\\*kwargs - Passing variable / unknown number of keyword arguments\n",
    "\n",
    "You can also pass arguments by keywords ( that the order you send argument does not matter. To do so, you have to add two asterisks(\\*\\*) right before the special argument when you define a function. The function gathers remaining keyword arguments as a dictionary which is available in the function definition / body"
   ]
  },
  {
   "cell_type": "code",
   "execution_count": 38,
   "metadata": {},
   "outputs": [
    {
     "name": "stdout",
     "output_type": "stream",
     "text": [
      "<class 'dict'>\n",
      "{'colt': 'purple', 'ruby': 'red', 'ethel': 'teal'}\n",
      "colt's favourite color is purple\n",
      "ruby's favourite color is red\n",
      "ethel's favourite color is teal\n"
     ]
    }
   ],
   "source": [
    "def fav_colors(**kwargs):\n",
    "    #kwargs needs to be treated as a dictionary here\n",
    "    print(type(kwargs))  # <class 'dict'>\n",
    "    print(kwargs)  # {'colt': 'purple', 'ruby': 'red', 'ethel': 'teal'}\n",
    "    for k,v in kwargs.items():\n",
    "        print(f\"{k}'s favourite color is {v}\")\n",
    "        # colt's favourite color is purple\n",
    "        # ruby's favourite color is red\n",
    "        # ethel's favourite color is teal\n",
    "\n",
    "fav_colors(colt='purple', ruby='red', ethel='teal')"
   ]
  },
  {
   "cell_type": "markdown",
   "metadata": {},
   "source": [
    "## tuple and list unpacking\n",
    "We can pass in a tuple or list with the same length as the params of a function with a * before the list/tuple name. The * will unpack the collection and turn each item into individual method arguments"
   ]
  },
  {
   "cell_type": "code",
   "execution_count": 39,
   "metadata": {},
   "outputs": [
    {
     "name": "stdout",
     "output_type": "stream",
     "text": [
      "9\n"
     ]
    }
   ],
   "source": [
    "def sum(num1, num2, num3):\n",
    "    return num1+num2+num3\n",
    "\n",
    "# individual params\n",
    "print(sum(1,4,4))  # 9"
   ]
  },
  {
   "cell_type": "code",
   "execution_count": 40,
   "metadata": {
    "jupyter": {
     "source_hidden": true
    }
   },
   "outputs": [
    {
     "name": "stdout",
     "output_type": "stream",
     "text": [
      "6\n"
     ]
    }
   ],
   "source": [
    "# unpack tuple into params\n",
    "param_tuple = (1, 2, 3)\n",
    "print(sum(*param_tuple))  # 6"
   ]
  },
  {
   "cell_type": "code",
   "execution_count": 41,
   "metadata": {},
   "outputs": [
    {
     "name": "stdout",
     "output_type": "stream",
     "text": [
      "12\n"
     ]
    }
   ],
   "source": [
    "# unpack list into params\n",
    "param_list = [3, 4, 5]\n",
    "print(sum(*param_list))  # 12"
   ]
  },
  {
   "cell_type": "markdown",
   "metadata": {},
   "source": [
    "#### Unpack tuple into *args: \n",
    "We can pass *tuple to unpack it. The function definition then packs it back into tuples using *args"
   ]
  },
  {
   "cell_type": "code",
   "execution_count": 42,
   "metadata": {},
   "outputs": [
    {
     "name": "stdout",
     "output_type": "stream",
     "text": [
      "<class 'tuple'>\n",
      "(1, 2, 3, 4, 5, 6, 7)\n",
      "28\n",
      "<class 'tuple'>\n",
      "(1, 2, 3, 4, 5, 6, 7)\n",
      "28\n"
     ]
    }
   ],
   "source": [
    "def sum_all_values(*args): # *args combines all arguments into a tuple\n",
    "    print(type(args))\n",
    "    print(args)\n",
    "    total= 0\n",
    "    for v in args:\n",
    "        total +=v\n",
    "    return total\n",
    "\n",
    "nums = (1,2,3,4,5,6,7)  # tuple\n",
    "print(sum_all_values(*nums))  # 28  # *nums unpacks the tuple into arguments\n",
    "nums = [1,2,3,4,5,6,7]  # list\n",
    "print(sum_all_values(*nums))  # 28  # *nums unpacks the list into arguments"
   ]
  },
  {
   "cell_type": "markdown",
   "metadata": {},
   "source": [
    "# Dictionary unpacking\n",
    "uses \\*\\* to unpack dictionary items into keyword-arguments"
   ]
  },
  {
   "cell_type": "code",
   "execution_count": 44,
   "metadata": {},
   "outputs": [
    {
     "name": "stdout",
     "output_type": "stream",
     "text": [
      "6\n",
      "6\n"
     ]
    }
   ],
   "source": [
    "def sum(num1=0, num2=0, num3=0):\n",
    "    return num1+num2+num3\n",
    "\n",
    "# individual params\n",
    "print(sum(1,2,3))  # 9\n",
    "print(sum(num3=3,num1=1,num2=2))  # 9"
   ]
  },
  {
   "cell_type": "code",
   "execution_count": 46,
   "metadata": {},
   "outputs": [
    {
     "name": "stdout",
     "output_type": "stream",
     "text": [
      "6\n"
     ]
    }
   ],
   "source": [
    "# unpack dictionary into params\n",
    "param_dict = {'num1': 1, 'num2': 2, 'num3': 3}\n",
    "print(sum(**param_dict))  # 6"
   ]
  },
  {
   "cell_type": "markdown",
   "metadata": {},
   "source": [
    "#### Unpack dictionary into **kwargs: \n",
    "We can pass **dictionary to unpack it. The function definition then packs it back into a dictionary using **kwargs"
   ]
  },
  {
   "cell_type": "code",
   "execution_count": 50,
   "metadata": {},
   "outputs": [
    {
     "name": "stdout",
     "output_type": "stream",
     "text": [
      "<class 'dict'>\n",
      "{'num1': 1, 'num2': 2, 'num3': 3, 'num4': 4, 'num5': 5, 'num6': 6}\n",
      "21\n"
     ]
    }
   ],
   "source": [
    "def sum_all_values(**kwargs): # **kwargs combines all arguments into a dictionary\n",
    "    print(type(kwargs))\n",
    "    print(kwargs)\n",
    "    total= 0\n",
    "    for k,v in kwargs.items():\n",
    "        total +=v\n",
    "    return total\n",
    "\n",
    "nums = {'num1': 1, 'num2': 2, 'num3': 3, 'num4': 4, 'num5': 5, 'num6': 6,}  # dictionary\n",
    "print(sum_all_values(**nums))  # 28  # **nums unpacks the dictionary into arguments\n"
   ]
  },
  {
   "cell_type": "markdown",
   "metadata": {},
   "source": [
    "# Parameters ordering in functions\n",
    "Make sure that if you use different types of parameters in the same function, order them as follows:\n",
    "1. Parameters\n",
    "2. *args\n",
    "3. default parameters\n",
    "4. **kwargs"
   ]
  },
  {
   "cell_type": "code",
   "execution_count": 51,
   "metadata": {},
   "outputs": [
    {
     "name": "stdout",
     "output_type": "stream",
     "text": [
      "[1, 2, (3,), 'colt', {'last_name': 'Steele', 'job': 'Instructor'}]\n"
     ]
    }
   ],
   "source": [
    "def display_info(a, b, *args, instructor=\"colt\", **kwargs):\n",
    "    return [a, b, args, instructor, kwargs]\n",
    "\n",
    "print(display_info(1, 2, 3 , last_name=\"Steele\", job=\"Instructor\"))"
   ]
  },
  {
   "cell_type": "markdown",
   "metadata": {},
   "source": [
    "Arguments have been assigned to the parameters as follows:\n",
    "* a = 1\n",
    "* b = 2\n",
    "* args (3, ) # NOTE:  if a tuple has a single element, python inserts a comma after it to distinguish it from (3) which is just an int inside brackets\n",
    "* instructor = \"colt\"\n",
    "* kwargs- {last_name:\"Steele\", job:\"Instructor\"}"
   ]
  }
 ],
 "metadata": {
  "kernelspec": {
   "display_name": "Python 3",
   "language": "python",
   "name": "python3"
  },
  "language_info": {
   "codemirror_mode": {
    "name": "ipython",
    "version": 3
   },
   "file_extension": ".py",
   "mimetype": "text/x-python",
   "name": "python",
   "nbconvert_exporter": "python",
   "pygments_lexer": "ipython3",
   "version": "3.7.4"
  }
 },
 "nbformat": 4,
 "nbformat_minor": 4
}
