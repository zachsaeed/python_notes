{
 "cells": [
  {
   "cell_type": "markdown",
   "metadata": {},
   "source": [
    "# Local variables\n",
    "A variable declared inside the function's body or in the local scope is known as local variable.\n",
    "```python\n",
    "def foo1():\n",
    "    y_local_variable = \"local\"\n",
    "foo1()\n",
    "\n",
    "print(y_local_variable) \n",
    "```\n",
    "Gives:\n",
    "NameError: name 'y_local_variable' is not defined\n",
    "\n",
    "The output shows an error, because we are trying to access a local variable y_local_variable in a global scope whereas the local variable only works inside foo() or local scope.\n",
    "\n",
    "# Global variable\n",
    "\n",
    "A variable declared outside of the function or in global scope is known as global variable. As long as the global variable is not manipulated or redeclared/initialised inside the function it can be accessed without the global keyword inside the function."
   ]
  },
  {
   "cell_type": "code",
   "execution_count": 6,
   "metadata": {},
   "outputs": [
    {
     "name": "stdout",
     "output_type": "stream",
     "text": [
      "value inside:  globalValue\n",
      "value outside:  globalValue\n"
     ]
    }
   ],
   "source": [
    "x_global_var = \"globalValue\"  # global variable\n",
    "\n",
    "def foo2():\n",
    "    print(\"value inside: \", x_global_var)  # accessing global variable inside function body\n",
    "\n",
    "foo2()\n",
    "print(\"value outside: \", x_global_var)  # accessing global variable outside function body"
   ]
  },
  {
   "cell_type": "markdown",
   "metadata": {},
   "source": [
    "In above code, we created x_global_var as a global variable and defined a function to print the global variable x_global_var. Finally, we call the foo() which will print the value of x_global_var.\n",
    "\n",
    "# Global and Local variables with the same name:\n",
    "A local variable with the same name as global variable can be initialised within the scope of a function. This variable will be treated differently"
   ]
  },
  {
   "cell_type": "code",
   "execution_count": 7,
   "metadata": {},
   "outputs": [
    {
     "name": "stdout",
     "output_type": "stream",
     "text": [
      "local x: I am local\n",
      "global x: I am global\n"
     ]
    }
   ],
   "source": [
    "x = 'I am global'\n",
    "def foo3():\n",
    "    x = 'I am local'\n",
    "    print(\"local x:\", x)\n",
    "foo3()\n",
    "print(\"global x:\", x)"
   ]
  },
  {
   "cell_type": "markdown",
   "metadata": {},
   "source": [
    "In above code, we used same name x for both global variable and local variable. We get different result when we print same variable because the variable is declared in both scopes, i.e. the local scope inside foo() and global scope outside foo().\n",
    "\n",
    "When we print the variable inside the foo() it outputs local x: I am local, this is called local scope of variable.\n",
    "Similarly, when we print the variable outside the foo(), it outputs global x: I am global, this is called global scope of variable.\n",
    "\n",
    "```python\n",
    "x = \"I am global\"\n",
    "def foo2():\n",
    "    print(x)\n",
    "    x = 'I am local'\n",
    "foo2()\n",
    "\n",
    "```\n",
    "```console\n",
    "# UnboundLocalError: local variable 'x' referenced before assignment\n",
    "```\n",
    "\n",
    "In the above example, f we move print(x) to the top, it will fail at 'print(x)' as local variables are hoisted before function call and the line\n",
    "```python\n",
    "x_global_var2 = '2' \n",
    "```\n",
    "which is an assignment has hoisted this variable as a local variable in the functions scope.\n",
    "\n",
    "To make it work, variable either needs to be declared before the print (to be used as a local variable) or be declared\n",
    "with the global keyword to use the global one.\n",
    "\n",
    "\n",
    "## What if you want to change value of global 'x_global_var' inside a function?\n",
    "\n",
    "(https://docs.python.org/3/faq/programming.html#why-am-i-getting-an-unboundlocalerror-when-the-variable-has-a-value)\n",
    "\n",
    "```python\n",
    "x = \"I am global\"\n",
    "def foo():\n",
    "    x = x + 'Appending to local'\n",
    "    print(x)\n",
    "foo()\n",
    "```\n",
    "This will give\n",
    "```console\n",
    "UnboundLocalError: local variable 'x_global_var' referenced before assignment\n",
    "```\n",
    "\n",
    "As discussed before, variables that are 'only' referenced inside a function are implicitly global but, as shown in the example above, if a variable is 'assigned a value' anywhere within the function’s body, it’s assumed to be a local unless explicitly declared as global.\n",
    "\n",
    "This is because when you make an assignment to a variable 'anywhere' in a scope, that variable becomes local to that\n",
    "scope and shadows any similarly named variable in the outer scope.\n",
    "\n",
    "The output shows an error because Python treats 'x' as a local variable and 'x' is also not defined inside foo() therefore \n",
    "```python\n",
    "x_global_var + '2'\n",
    "```\n",
    "cannot execute.\n",
    "\n",
    "Similarly "
   ]
  },
  {
   "cell_type": "code",
   "execution_count": null,
   "metadata": {},
   "outputs": [],
   "source": []
  }
 ],
 "metadata": {
  "kernelspec": {
   "display_name": "Python 3",
   "language": "python",
   "name": "python3"
  },
  "language_info": {
   "codemirror_mode": {
    "name": "ipython",
    "version": 3
   },
   "file_extension": ".py",
   "mimetype": "text/x-python",
   "name": "python",
   "nbconvert_exporter": "python",
   "pygments_lexer": "ipython3",
   "version": "3.7.4"
  }
 },
 "nbformat": 4,
 "nbformat_minor": 4
}
