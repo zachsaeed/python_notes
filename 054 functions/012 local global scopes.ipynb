{
 "cells": [
  {
   "cell_type": "markdown",
   "metadata": {},
   "source": [
    "# Local variables\n",
    "A variable declared inside the function's body or in the local scope is known as local variable."
   ]
  },
  {
   "cell_type": "code",
   "execution_count": 9,
   "metadata": {},
   "outputs": [],
   "source": [
    "def foo1():\n",
    "    i_am_local_a_local_variable = \"local\"\n",
    "\n",
    "foo1()\n",
    "\n",
    "# print(i_am_a_local_variable) # NameError: name 'y_local_variable' is not defined"
   ]
  },
  {
   "cell_type": "markdown",
   "metadata": {},
   "source": [
    "The commented out line's output shows an error, because we are trying to access a local variable 'i_am_local_a_local_variable' in a global scope whereas the local variable only works inside foo() or local scope.\n",
    "\n",
    "# Global variable\n",
    "\n",
    "A variable declared outside of the function or in global scope is known as global variable. \n",
    "\n",
    "> Note: As long as the global variable is not manipulated or redeclared/initialised inside the function it can be accessed (without the global keyword) inside the function. We will look into the global keyword later."
   ]
  },
  {
   "cell_type": "code",
   "execution_count": 10,
   "metadata": {},
   "outputs": [
    {
     "name": "stdout",
     "output_type": "stream",
     "text": [
      "value inside function:  globalValue\n",
      "value outside function:  globalValue\n"
     ]
    }
   ],
   "source": [
    "i_am_a_global_var = \"globalValue\"  # global variable\n",
    "\n",
    "def foo2():\n",
    "    print(\"value inside function: \", i_am_a_global_var)  # accessing global variable inside function body\n",
    "\n",
    "foo2()\n",
    "\n",
    "print(\"value outside function: \", i_am_a_global_var)  # accessing global variable outside function body"
   ]
  },
  {
   "cell_type": "markdown",
   "metadata": {},
   "source": [
    "# Global and Local variables with the same name:\n",
    "A local variable with the same name as global variable can be initialised within the scope of a function. This variable will be treated differently"
   ]
  },
  {
   "cell_type": "code",
   "execution_count": 11,
   "metadata": {},
   "outputs": [
    {
     "name": "stdout",
     "output_type": "stream",
     "text": [
      "local x: I am local\n",
      "global x: I am global\n"
     ]
    }
   ],
   "source": [
    "# we used same name x for both global variable and local variable\n",
    "\n",
    "x = 'I am global'\n",
    "\n",
    "def foo3():\n",
    "    x = 'I am local'\n",
    "    print(\"local x:\", x)  # printing x in the local scope will print the local x\n",
    "\n",
    "foo3()\n",
    "\n",
    "print(\"global x:\", x) # printing x in the global x scope will print the global x"
   ]
  },
  {
   "cell_type": "markdown",
   "metadata": {},
   "source": [
    "We get different result when we print same variable because even though the variable has the same name, is declared separately in both scopes, i.e. the local scope inside foo() and global scope outside foo().\n",
    "\n",
    "## UnboundLocalError\n",
    "SO far, we have seen that when we 'access' a global variable inside a function, it fetches the value of the global. \n",
    "However, as soon as a global variable is 'initialised' anywhere in your function, python automatically creates a copy in the local scope for it."
   ]
  },
  {
   "cell_type": "code",
   "execution_count": 13,
   "metadata": {},
   "outputs": [
    {
     "name": "stdout",
     "output_type": "stream",
     "text": [
      "I am global\n"
     ]
    }
   ],
   "source": [
    "x = \"I am global\"\n",
    "\n",
    "def foo2():\n",
    "    # print(x) # UnboundLocalError: local variable 'x' referenced before assignment\n",
    "    x = 'I am local'\n",
    "foo2()\n",
    "print(x)"
   ]
  },
  {
   "cell_type": "markdown",
   "metadata": {},
   "source": [
    "As soon as you uncomment the line in the above code, and run, you will get:\n",
    "\n",
    "```\n",
    "UnboundLocalError: local variable 'x' referenced before assignment\n",
    "```\n",
    "\n",
    "This is because python decides in advance which variables to create in the local and global scopes before we call a function.\n",
    "\n",
    "To make it work, variable either needs to be declared before the print (to be used as a local variable) or be declared\n",
    "with the global keyword to use the global one.\n",
    "\n",
    "Another example: "
   ]
  },
  {
   "cell_type": "code",
   "execution_count": 16,
   "metadata": {},
   "outputs": [
    {
     "name": "stdout",
     "output_type": "stream",
     "text": [
      "I am global\n"
     ]
    }
   ],
   "source": [
    "# What if you want to change value of global var inside a function?\n",
    "x = \"I am global\"\n",
    "def foo():\n",
    "    # x = x + 'Appending to local'\n",
    "    print(x)\n",
    "foo()"
   ]
  },
  {
   "cell_type": "markdown",
   "metadata": {},
   "source": [
    "Uncomment the statement above. This will give\n",
    "```console\n",
    "UnboundLocalError: local variable 'x' referenced before assignment\n",
    "```\n",
    "\n",
    "As discussed before, variables that are 'only referenced inside a function' are implicitly global but, if a variable is 'assigned a value' anywhere within the function’s body, it’s assumed to be a local unless explicitly declared as global.\n",
    "\n",
    "This is because when you make an assignment to a variable 'anywhere' in a scope, that variable becomes local to that scope and as a result shadows any same-named variable in the outer scope.\n",
    "\n",
    "To handle this, we use the 'global' and 'nonlocal' keywords.\n",
    "\n",
    "Further reading:\n",
    "https://realpython.com/python-scope-legb-rule/\n",
    "https://medium.com/@dannymcwaves/a-python-tutorial-to-understanding-scopes-and-closures-c6a3d3ba0937\n"
   ]
  },
  {
   "cell_type": "code",
   "execution_count": null,
   "metadata": {},
   "outputs": [],
   "source": []
  }
 ],
 "metadata": {
  "kernelspec": {
   "display_name": "Python 3",
   "language": "python",
   "name": "python3"
  },
  "language_info": {
   "codemirror_mode": {
    "name": "ipython",
    "version": 3
   },
   "file_extension": ".py",
   "mimetype": "text/x-python",
   "name": "python",
   "nbconvert_exporter": "python",
   "pygments_lexer": "ipython3",
   "version": "3.8.7"
  }
 },
 "nbformat": 4,
 "nbformat_minor": 4
}
