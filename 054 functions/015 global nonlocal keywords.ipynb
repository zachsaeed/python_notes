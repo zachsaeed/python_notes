{
 "cells": [
  {
   "cell_type": "markdown",
   "metadata": {},
   "source": [
    "# Global Keyword\n",
    "\n",
    "To manipulate global variables within function, we use global keyword to stop it creating a local variable with the same name"
   ]
  },
  {
   "cell_type": "code",
   "execution_count": null,
   "metadata": {},
   "outputs": [],
   "source": [
    "total = 0\n",
    "def increment():\n",
    "    global total  # have to do this fso we can manipulate the global var from inside the function\n",
    "    total += 1\n",
    "    return total"
   ]
  },
  {
   "cell_type": "markdown",
   "metadata": {},
   "source": [
    "The basic rules for global keyword in Python are:\n",
    "- When we create a variable inside a function, it’s local by default.\n",
    "- When we define a variable outside of a function, it’s global by default. You don’t have to use global keyword.\n",
    "- We use global keyword if we want to write a global variable inside a function (and stop the function from creating a local keyword).\n",
    "- Use of global keyword outside a function has no effect\n",
    "\n",
    "# Global in Nested Functions\n",
    "Here is how you can use a global variable in nested function."
   ]
  },
  {
   "cell_type": "code",
   "execution_count": 1,
   "metadata": {},
   "outputs": [
    {
     "name": "stdout",
     "output_type": "stream",
     "text": [
      "Before calling bar:  20\n",
      "Calling bar now\n",
      "After calling bar:  20\n",
      "x in main :  25\n"
     ]
    }
   ],
   "source": [
    "def foo():\n",
    "    x = 20\n",
    "    \n",
    "    def bar():\n",
    "        global x\n",
    "        x = 25\n",
    "    \n",
    "    print(\"Before calling bar: \", x)\n",
    "    \n",
    "    print(\"Calling bar now\")\n",
    "    bar()\n",
    "    print(\"After calling bar: \", x)\n",
    "\n",
    "foo()\n",
    "print(\"x in main : \", x)"
   ]
  },
  {
   "cell_type": "markdown",
   "metadata": {},
   "source": [
    "In the above program, we declare global variable inside the nested function bar(). \n",
    "Inside foo() function, x has no effect of global keyword and is treated within the local scope of foo.\n",
    "Before and after calling bar(), the variable x takes the value of local variable i.e x = 20.\n",
    "Outside of the foo() function, the variable x will take value defined in the bar() function i.e x = 25. This is because we have used global keyword in x to create global variable inside the bar() function (local scope).\n",
    "\n",
    "If we make any changes inside the bar() function, the changes appears outside the local scope, i.e. foo().\n",
    "\n",
    "Also note, global x does not preexist and is created outside the foo function scope when bar is called.\n",
    "\n",
    "# nonlocal keyword\n",
    "\n",
    "Python 3 introduced the nonlocal  keyword that allows you to assign to variables in an outer, but non-global, scope."
   ]
  },
  {
   "cell_type": "code",
   "execution_count": 2,
   "metadata": {},
   "outputs": [
    {
     "name": "stdout",
     "output_type": "stream",
     "text": [
      "Inside!\n",
      "Outside!\n"
     ]
    }
   ],
   "source": [
    "# Without using nonlocal:\n",
    "def outside():\n",
    "    msg = \"Outside!\"\n",
    "    \n",
    "    def inside():\n",
    "        msg = \"Inside!\"\n",
    "        print(msg)\n",
    "        \n",
    "    inside()\n",
    "    print(msg)\n",
    "\n",
    "outside()"
   ]
  },
  {
   "cell_type": "markdown",
   "metadata": {},
   "source": [
    "msg  is declared in the outside function and assigned the value “Outside!”. Then, in the inside function, the value “Inside!” is assigned to it. When we run outside, msg has the value “Inside!” in the inside function, but retains the old value in the outside function.\n",
    "\n",
    "We see this behaviour because Python hasn’t actually assigned to the existing msg variable, but has created a new variable called msg in the local scope of inside that shadows the name of the variable in the outer scope."
   ]
  },
  {
   "cell_type": "code",
   "execution_count": null,
   "metadata": {},
   "outputs": [],
   "source": [
    "# Preventing that behaviour is where the nonlocal keyword comes in.\n",
    "def outside():\n",
    "    msg = \"Outside!\"\n",
    "    def inside():\n",
    "        nonlocal msg\n",
    "        msg = \"Inside!\"\n",
    "        print(msg)\n",
    "\n",
    "    inside()\n",
    "    print(msg)\n",
    "\n",
    "outside()"
   ]
  },
  {
   "cell_type": "markdown",
   "metadata": {},
   "source": [
    "Now, by adding nonlocal msg in inside(), Python knows that when it sees an assignment to msg, it should assign to the variable from the outer scope instead of declaring a new variable that shadows its name.\n",
    "\n",
    "The usage of nonlocal is very similar to that of global, except that the former is used for variables in outer function scopes and the latter is used for variable in the global scope. Nonlocal variable are used in nested function whose local scope is not defined.\n",
    "\n",
    "Some confusion might arise about when nonlocal should be used. Take the following function, for instance."
   ]
  },
  {
   "cell_type": "code",
   "execution_count": 3,
   "metadata": {},
   "outputs": [
    {
     "name": "stdout",
     "output_type": "stream",
     "text": [
      "{'outside': 1, 'inside': 2}\n",
      "{'outside': 1, 'inside': 2}\n"
     ]
    }
   ],
   "source": [
    "def outside():\n",
    "    d = {\"outside\": 1}\n",
    "    def inside():\n",
    "        d[\"inside\"] = 2\n",
    "        print(d)\n",
    "    inside()\n",
    "    print(d)\n",
    "\n",
    "outside()"
   ]
  },
  {
   "cell_type": "markdown",
   "metadata": {},
   "source": [
    " It would be reasonable to expect that without using nonlocal the insertion of the “inside”: 2 key-value pair in the\n",
    " dictionary would not be reflected in outside. Reasonable, but incorrect, because the dictionary insertion is not an\n",
    " assignment, but a method call. In fact, inserting a key-value pair into a dictionary is equivalent to calling the\n",
    " __setitem__ method on the dictionary object.\n",
    "\n",
    " The nonlocal statement causes the listed identifiers to refer to previously bound variables in the nearest enclosing\n",
    " scope. This is important because the default behavior for binding is to search the local namespace first. The\n",
    " statement allows encapsulated code to rebind variables outside of the local scope besides the global (module) scope.\n",
    "\n",
    " Names listed in a nonlocal statement, unlike to those listed in a global statement, must refer to pre-existing\n",
    " bindings in an enclosing scope (the scope in which a new binding should be created cannot be determined unambiguously)\n",
    "\n",
    " Names listed in a nonlocal statement must not collide with pre- existing bindings in the local scope\n",
    "\n",
    " This means, the variable can be  neither in the local nor the global scope."
   ]
  },
  {
   "cell_type": "code",
   "execution_count": null,
   "metadata": {},
   "outputs": [],
   "source": []
  }
 ],
 "metadata": {
  "kernelspec": {
   "display_name": "Python 3",
   "language": "python",
   "name": "python3"
  },
  "language_info": {
   "codemirror_mode": {
    "name": "ipython",
    "version": 3
   },
   "file_extension": ".py",
   "mimetype": "text/x-python",
   "name": "python",
   "nbconvert_exporter": "python",
   "pygments_lexer": "ipython3",
   "version": "3.8.7"
  }
 },
 "nbformat": 4,
 "nbformat_minor": 4
}
