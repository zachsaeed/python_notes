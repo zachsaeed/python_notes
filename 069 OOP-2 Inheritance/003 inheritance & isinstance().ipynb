{
 "cells": [
  {
   "cell_type": "markdown",
   "metadata": {},
   "source": [
    "# Inheritence\n",
    "Inheritance is included in almost every object-oriented programming languages. Python Inheritance enables us to use the member attributes and methods of one class into another or define a class which inherits from another class.\n",
    "\n",
    "We can use inheritance to define different categories datatypes in a tree like structure\n",
    "\n",
    "# Python Inheritance Terminologies\n",
    "* *Super/parent/base class:** This is a top level class from which attributes and methods will be inherited. Common properties / members (attributes and methods) are usually defined in this base class.\n",
    "\n",
    "* *Sub/child class:** These are classes/datatypes which inherit members from the superclass and in addition, define their own members which are specific to it's type.\n",
    "\n",
    "# Syntax:\n",
    "In python, inheritance works by passing the parrent class as an argument to the base class.\n",
    "```\n",
    "class ParentClass():\n",
    "    <parent members>\n",
    "    \n",
    "class Child1Class(ParentClass):  <--Child1Class's parent is ParentClass\n",
    "    <optional child members>\n",
    "\n",
    "class Child2Class(ParentClass):  <--Child2Class's parent is also ParentClass\n",
    "    <optional child members>\n",
    "```    \n",
    "    \n",
    "* *Method Overriding:** Redefining the definitions of methods in subclass which was already defined in superclass.\n",
    "\n",
    "Example, "
   ]
  },
  {
   "cell_type": "code",
   "execution_count": 53,
   "metadata": {},
   "outputs": [
    {
     "name": "stdout",
     "output_type": "stream",
     "text": [
      "this animal says Chirp\n"
     ]
    }
   ],
   "source": [
    "class Animal:  # <- as discussed earlier, () is optional if there is no parent class\n",
    "    cool = True\n",
    "    \n",
    "    def make_sound(self, sound):\n",
    "        print(f\"this animal says {sound}\")\n",
    "\n",
    "class Cat(Animal): # <- Animal is the base class of Cat\n",
    "    pass # <- There is nothing inside cat. But it inherits the members of Animal\n",
    "\n",
    "# Create an instance of base class animal\n",
    "my_animal = Animal()\n",
    "my_animal.make_sound('Chirp')"
   ]
  },
  {
   "cell_type": "markdown",
   "metadata": {},
   "source": [
    "As seen in the above example, Cat class is empty, but due to inheritance it inherits the members (cool and make_sound) from Animal"
   ]
  },
  {
   "cell_type": "code",
   "execution_count": 54,
   "metadata": {},
   "outputs": [
    {
     "name": "stdout",
     "output_type": "stream",
     "text": [
      "this animal says Roar\n",
      "True\n"
     ]
    }
   ],
   "source": [
    "# Create an instance of base class Cat\n",
    "my_lion = Cat()\n",
    "# both members inherited from Animal:\n",
    "my_lion.make_sound('Roar') \n",
    "print(my_lion.cool)"
   ]
  },
  {
   "cell_type": "markdown",
   "metadata": {},
   "source": [
    "## type() and isinstance()\n",
    "\n",
    "We have already seen what type does. It returns the class of an instance:"
   ]
  },
  {
   "cell_type": "code",
   "execution_count": 55,
   "metadata": {},
   "outputs": [
    {
     "data": {
      "text/plain": [
       "__main__.Animal"
      ]
     },
     "execution_count": 55,
     "metadata": {},
     "output_type": "execute_result"
    }
   ],
   "source": [
    "type(my_animal)"
   ]
  },
  {
   "cell_type": "code",
   "execution_count": 56,
   "metadata": {},
   "outputs": [
    {
     "data": {
      "text/plain": [
       "__main__.Cat"
      ]
     },
     "execution_count": 56,
     "metadata": {},
     "output_type": "execute_result"
    }
   ],
   "source": [
    "type(my_lion)"
   ]
  },
  {
   "cell_type": "markdown",
   "metadata": {},
   "source": [
    "The isinstance() method takes 2 arguments (instance and classname) and return a boolean value. It is used to check wheather an instance belongs to a certain class:"
   ]
  },
  {
   "cell_type": "code",
   "execution_count": 57,
   "metadata": {},
   "outputs": [
    {
     "data": {
      "text/plain": [
       "True"
      ]
     },
     "execution_count": 57,
     "metadata": {},
     "output_type": "execute_result"
    }
   ],
   "source": [
    "isinstance(my_animal, Animal)"
   ]
  },
  {
   "cell_type": "code",
   "execution_count": 58,
   "metadata": {},
   "outputs": [
    {
     "data": {
      "text/plain": [
       "True"
      ]
     },
     "execution_count": 58,
     "metadata": {},
     "output_type": "execute_result"
    }
   ],
   "source": [
    "isinstance(my_lion, Cat)"
   ]
  },
  {
   "cell_type": "code",
   "execution_count": 59,
   "metadata": {},
   "outputs": [
    {
     "data": {
      "text/plain": [
       "False"
      ]
     },
     "execution_count": 59,
     "metadata": {},
     "output_type": "execute_result"
    }
   ],
   "source": [
    "# is my lion a dict?\n",
    "isinstance(my_lion, dict)"
   ]
  },
  {
   "cell_type": "markdown",
   "metadata": {},
   "source": [
    "> **Important Note:** Since Cat class is a subtype of Animal Class, my_animal is an instance of both Animal and Cat classes"
   ]
  },
  {
   "cell_type": "code",
   "execution_count": 60,
   "metadata": {},
   "outputs": [
    {
     "data": {
      "text/plain": [
       "True"
      ]
     },
     "execution_count": 60,
     "metadata": {},
     "output_type": "execute_result"
    }
   ],
   "source": [
    " isinstance(my_lion, Cat)"
   ]
  },
  {
   "cell_type": "code",
   "execution_count": 61,
   "metadata": {},
   "outputs": [
    {
     "data": {
      "text/plain": [
       "True"
      ]
     },
     "execution_count": 61,
     "metadata": {},
     "output_type": "execute_result"
    }
   ],
   "source": [
    " isinstance(my_lion, Animal)"
   ]
  },
  {
   "cell_type": "markdown",
   "metadata": {},
   "source": [
    "> **Note:** All python classes inherit from python's built-in 'object' class. It is the ultimate parent (directly or indirectly) of any class in python. To prove that all python classes are of type 'object'. More about 'object' in next section"
   ]
  },
  {
   "cell_type": "code",
   "execution_count": 62,
   "metadata": {},
   "outputs": [
    {
     "data": {
      "text/plain": [
       "True"
      ]
     },
     "execution_count": 62,
     "metadata": {},
     "output_type": "execute_result"
    }
   ],
   "source": [
    "isinstance(my_animal, object)"
   ]
  },
  {
   "cell_type": "code",
   "execution_count": 63,
   "metadata": {},
   "outputs": [
    {
     "data": {
      "text/plain": [
       "True"
      ]
     },
     "execution_count": 63,
     "metadata": {},
     "output_type": "execute_result"
    }
   ],
   "source": [
    "isinstance(my_lion, object)"
   ]
  },
  {
   "cell_type": "markdown",
   "metadata": {},
   "source": [
    "# TO DELETE :"
   ]
  },
  {
   "cell_type": "markdown",
   "metadata": {},
   "source": []
  },
  {
   "cell_type": "code",
   "execution_count": 64,
   "metadata": {},
   "outputs": [
    {
     "ename": "NameError",
     "evalue": "name 'Person' is not defined",
     "output_type": "error",
     "traceback": [
      "\u001b[1;31m---------------------------------------------------------------------------\u001b[0m",
      "\u001b[1;31mNameError\u001b[0m                                 Traceback (most recent call last)",
      "\u001b[1;32m<ipython-input-64-566f43168e3b>\u001b[0m in \u001b[0;36m<module>\u001b[1;34m\u001b[0m\n\u001b[0;32m     19\u001b[0m \u001b[1;33m\u001b[0m\u001b[0m\n\u001b[0;32m     20\u001b[0m \u001b[1;31m# definition of subclass starts here\u001b[0m\u001b[1;33m\u001b[0m\u001b[1;33m\u001b[0m\u001b[1;33m\u001b[0m\u001b[0m\n\u001b[1;32m---> 21\u001b[1;33m \u001b[1;32mclass\u001b[0m \u001b[0mStudent\u001b[0m\u001b[1;33m(\u001b[0m\u001b[0mPerson\u001b[0m\u001b[1;33m)\u001b[0m\u001b[1;33m:\u001b[0m \u001b[1;31m# Person is the  superclass and Student is the subclass\u001b[0m\u001b[1;33m\u001b[0m\u001b[1;33m\u001b[0m\u001b[0m\n\u001b[0m\u001b[0;32m     22\u001b[0m     \u001b[0mstudentId\u001b[0m \u001b[1;33m=\u001b[0m \u001b[1;34m\"\"\u001b[0m\u001b[1;33m\u001b[0m\u001b[1;33m\u001b[0m\u001b[0m\n\u001b[0;32m     23\u001b[0m \u001b[1;33m\u001b[0m\u001b[0m\n",
      "\u001b[1;31mNameError\u001b[0m: name 'Person' is not defined"
     ]
    }
   ],
   "source": [
    "        \n",
    "class User:  \n",
    "    # initializing the variables  \n",
    "    name = \"\"  \n",
    "    age = 0  \n",
    "  \n",
    "    # defining constructor  \n",
    "    def __init__(self, personName, personAge):  \n",
    "        self.name = personName  \n",
    "        self.age = personAge  \n",
    "  \n",
    "    # defining class methods  \n",
    "    def showName(self):  \n",
    "        print(self.name)  \n",
    "  \n",
    "    def showAge(self):  \n",
    "        print(self.age)  \n",
    "  \n",
    "# Line: 19, end of superclass definition  \n",
    "  \n",
    "# definition of subclass starts here\n",
    "class Student(Person): # Person is the  superclass and Student is the subclass\n",
    "    studentId = \"\"  \n",
    "  \n",
    "    def __init__(self, studentName, studentAge, studentId): \n",
    "        #self.name = personName  \n",
    "        #self.age = personAge  \n",
    "        # The above is code duplication as it already exists in super class's constructor hence we can call:\n",
    "        \n",
    "        Person.__init__(self, studentName, studentAge)  # Calling the superclass constructor and sending values of attributes.\n",
    "        # or much better/shorter way using super (Dont have to specify self) (More in next section):\n",
    "        # super().__init__(studentName, studentAge)  # Super refers to Person. Call init on parent class\n",
    "        \n",
    "        self.studentId = studentId  \n",
    "  \n",
    "    def getId(self):  \n",
    "        return self.studentId  #returns the value of student id \n",
    "    \n",
    "#end of subclass definition\n",
    "  \n",
    "  \n",
    "# Create an object of the superclass  \n",
    "person1 = Person(\"Richard\", 23)  #Line: 43\n",
    "#call member methods of the objects  \n",
    "person1.showAge()  \n",
    "# Create an object of the subclass  \n",
    "student1 = Student(\"Max\", 22, \"102\")  #Line: 47\n",
    "print(student1.getId())  \n",
    "student1.showName()  #Line: 50"
   ]
  },
  {
   "cell_type": "markdown",
   "metadata": {},
   "source": [
    "Now, we are going to explain the above example to understand how inheritance works in python.\n",
    "\n",
    "## 1. Defining Superclass\n",
    "Line 1 – 19 defines the superclass. You should have no trouble in understanding this if you are familiar with python class. Class Person is defined with necessary constructor, attributes and methods. Explanation of this segment has already been provided in Python Class tutorial.\n",
    "\n",
    "## 2. Defining Subclass\n",
    "According to the rule of inheritance, the subclass inherits the attributes and methods of its superclass. Line 22 shows how subclass Student extends Person as its superclass. The name of superclass has to be kept in parentheses while declaring the subclass. \n",
    "\n",
    "## 3. Subclass constructor\n",
    "And the constructor has to call the superclass constructor with appropriate attribute values (if needed) as shown in line 33. Apart from that, everything is the same as defining a normal python class.\n",
    "\n",
    "## 4. creating objects of super class and subclass\n",
    "After defining both the superclass and the subclass, we may create objects of superclass and subclass as in lines 43 and 47. As we have been told earlier, the subclass inherits the attributes and methods. You may notice here that the object student1 (object of Student subclass) has the method showName under its scope (line 50).\n",
    "\n"
   ]
  }
 ],
 "metadata": {
  "kernelspec": {
   "display_name": "Python 3",
   "language": "python",
   "name": "python3"
  },
  "language_info": {
   "codemirror_mode": {
    "name": "ipython",
    "version": 3
   },
   "file_extension": ".py",
   "mimetype": "text/x-python",
   "name": "python",
   "nbconvert_exporter": "python",
   "pygments_lexer": "ipython3",
   "version": "3.8.10"
  }
 },
 "nbformat": 4,
 "nbformat_minor": 4
}
