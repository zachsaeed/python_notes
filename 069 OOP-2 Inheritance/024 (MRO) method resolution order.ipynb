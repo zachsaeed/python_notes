{
 "cells": [
  {
   "cell_type": "markdown",
   "metadata": {},
   "source": [
    "# MRO (Method resolution order)\n",
    "\n",
    "Whenever we create a class, python automatically sets a method resolution order (MRO) for that class, which is in the order in which python will look for methods in instances of that class.\n",
    "\n",
    "This is just the order in which python is going to look back on instances of that class (like a hierarchy. Look in Penguin first, then Ambulatory, then on Aquatic and then the base 'object' class). The algorithm for this which is pretty complex has changed over different versions of python and there are long blog posts devoted to the discussion of this algorithm. \n",
    "As an example, doc for 2.3 (Even though we we are on 3.8): https://www.python.org/download/releases/2.3/mro/\n",
    "\n",
    "We dont need to get into the knity grity of it. There are three ways you can programaticaly reference the MRO:\n",
    "\n",
    "1- ```__mro__``` attribute in a class\n",
    "\n",
    "2- Use the mro() method in a class\n",
    "\n",
    "3- Use built-in help(<classname>) method\n",
    "\n",
    "Lets use the examples from the previous topic:"
   ]
  },
  {
   "cell_type": "code",
   "execution_count": 4,
   "metadata": {},
   "outputs": [],
   "source": [
    "class AquaticAnimal:\n",
    "    def __init__(self, name):\n",
    "        self.name = name\n",
    "        \n",
    "    def swim(self):\n",
    "        return f\"{self.name} is swimming\"\n",
    "    \n",
    "    def greet(self):\n",
    "        return f\"I am {self.name} of the sea!\"\n",
    "\n",
    "    \n",
    "class AmbulatoryAnimal:\n",
    "    def __init__(self, name):\n",
    "        self.name = name\n",
    "        \n",
    "    def walk(self):\n",
    "        return f\"{self.name} is walking\"\n",
    "    \n",
    "    def greet(self):\n",
    "        return f\"I am {self.name} of the land!\"\n",
    "    \n",
    "class Penguin(AmbulatoryAnimal, AquaticAnimal):\n",
    "    \n",
    "    def __init__(self, name):\n",
    "        super().__init__(name=name)    "
   ]
  },
  {
   "cell_type": "markdown",
   "metadata": {},
   "source": [
    "## 1- ```__mro__``` attribute in a class"
   ]
  },
  {
   "cell_type": "code",
   "execution_count": 5,
   "metadata": {},
   "outputs": [
    {
     "data": {
      "text/plain": [
       "(__main__.Penguin, __main__.AmbulatoryAnimal, __main__.AquaticAnimal, object)"
      ]
     },
     "execution_count": 5,
     "metadata": {},
     "output_type": "execute_result"
    }
   ],
   "source": [
    "Penguin.__mro__  # Gives a list of MRO"
   ]
  },
  {
   "cell_type": "markdown",
   "metadata": {},
   "source": [
    "## 2- Use built-in mro() method on the class"
   ]
  },
  {
   "cell_type": "code",
   "execution_count": 6,
   "metadata": {},
   "outputs": [
    {
     "data": {
      "text/plain": [
       "[__main__.Penguin, __main__.AmbulatoryAnimal, __main__.AquaticAnimal, object]"
      ]
     },
     "execution_count": 6,
     "metadata": {},
     "output_type": "execute_result"
    }
   ],
   "source": [
    "Penguin.mro()  # Same as above"
   ]
  },
  {
   "cell_type": "markdown",
   "metadata": {},
   "source": [
    "## 3- Use built-in help(cls) method"
   ]
  },
  {
   "cell_type": "code",
   "execution_count": 7,
   "metadata": {},
   "outputs": [
    {
     "name": "stdout",
     "output_type": "stream",
     "text": [
      "Help on class Penguin in module __main__:\n",
      "\n",
      "class Penguin(AmbulatoryAnimal, AquaticAnimal)\n",
      " |  Penguin(name)\n",
      " |  \n",
      " |  Method resolution order:\n",
      " |      Penguin\n",
      " |      AmbulatoryAnimal\n",
      " |      AquaticAnimal\n",
      " |      builtins.object\n",
      " |  \n",
      " |  Methods defined here:\n",
      " |  \n",
      " |  __init__(self, name)\n",
      " |      Initialize self.  See help(type(self)) for accurate signature.\n",
      " |  \n",
      " |  ----------------------------------------------------------------------\n",
      " |  Methods inherited from AmbulatoryAnimal:\n",
      " |  \n",
      " |  greet(self)\n",
      " |  \n",
      " |  walk(self)\n",
      " |  \n",
      " |  ----------------------------------------------------------------------\n",
      " |  Data descriptors inherited from AmbulatoryAnimal:\n",
      " |  \n",
      " |  __dict__\n",
      " |      dictionary for instance variables (if defined)\n",
      " |  \n",
      " |  __weakref__\n",
      " |      list of weak references to the object (if defined)\n",
      " |  \n",
      " |  ----------------------------------------------------------------------\n",
      " |  Methods inherited from AquaticAnimal:\n",
      " |  \n",
      " |  swim(self)\n",
      "\n"
     ]
    }
   ],
   "source": [
    "help(Penguin)  # Gives us 'Method resolution order:' along with further info"
   ]
  }
 ],
 "metadata": {
  "kernelspec": {
   "display_name": "Python 3",
   "language": "python",
   "name": "python3"
  },
  "language_info": {
   "codemirror_mode": {
    "name": "ipython",
    "version": 3
   },
   "file_extension": ".py",
   "mimetype": "text/x-python",
   "name": "python",
   "nbconvert_exporter": "python",
   "pygments_lexer": "ipython3",
   "version": "3.8.10"
  }
 },
 "nbformat": 4,
 "nbformat_minor": 4
}
