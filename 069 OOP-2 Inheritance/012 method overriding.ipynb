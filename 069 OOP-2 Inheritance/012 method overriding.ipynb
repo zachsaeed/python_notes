{
 "cells": [
  {
   "cell_type": "markdown",
   "metadata": {},
   "source": [
    "# Method overriding\n",
    "\n",
    "Inside a subclass, We can overide (replace) methods that are inherited from a super class. This is implemented by re-defining a method in a subclass that alreay exists in the parent class.   \n",
    "For Example:"
   ]
  },
  {
   "cell_type": "code",
   "execution_count": 6,
   "metadata": {},
   "outputs": [
    {
     "name": "stdout",
     "output_type": "stream",
     "text": [
      "A sound\n"
     ]
    }
   ],
   "source": [
    "class Animal:\n",
    "    def speak(self):\n",
    "        return \"A sound\"\n",
    "\n",
    "class Fish(Animal): # Fish inherits speak from Animal\n",
    "    pass\n",
    "\n",
    "f = Fish()\n",
    "print(f.speak()) "
   ]
  },
  {
   "cell_type": "markdown",
   "metadata": {},
   "source": [
    "However, we can redefine a method in the base class to replace / overide the same method in the parent class by using the same method name:"
   ]
  },
  {
   "cell_type": "code",
   "execution_count": 7,
   "metadata": {},
   "outputs": [
    {
     "name": "stdout",
     "output_type": "stream",
     "text": [
      "Meow\n"
     ]
    }
   ],
   "source": [
    "class Cat(Animal):\n",
    "    \n",
    "    # This method overrides the speak() in base class Animal\n",
    "    def speak(self):\n",
    "        return \"Meow\"\n",
    "    \n",
    "c = Cat()\n",
    "print(c.speak()) # Cat has it's own speak method which is called here"
   ]
  },
  {
   "cell_type": "markdown",
   "metadata": {},
   "source": [
    ">**Note:** Methods are overidden in method using their names. It does not matter if they have different parameters:"
   ]
  },
  {
   "cell_type": "code",
   "execution_count": 8,
   "metadata": {},
   "outputs": [
    {
     "name": "stdout",
     "output_type": "stream",
     "text": [
      "Woof\n"
     ]
    }
   ],
   "source": [
    "class Dog(Animal):\n",
    "    \n",
    "    def speak(self, language): #<- the overiding method here has an extra parameter than the overidden method\n",
    "        return language\n",
    "\n",
    "\n",
    "d = Dog()\n",
    "print(d.speak('Woof'))  # Woof"
   ]
  },
  {
   "cell_type": "code",
   "execution_count": null,
   "metadata": {},
   "outputs": [],
   "source": []
  }
 ],
 "metadata": {
  "kernelspec": {
   "display_name": "Python 3",
   "language": "python",
   "name": "python3"
  },
  "language_info": {
   "codemirror_mode": {
    "name": "ipython",
    "version": 3
   },
   "file_extension": ".py",
   "mimetype": "text/x-python",
   "name": "python",
   "nbconvert_exporter": "python",
   "pygments_lexer": "ipython3",
   "version": "3.8.10"
  }
 },
 "nbformat": 4,
 "nbformat_minor": 4
}
