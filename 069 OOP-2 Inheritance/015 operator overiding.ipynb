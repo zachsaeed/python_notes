{
 "cells": [
  {
   "cell_type": "markdown",
   "metadata": {},
   "source": [
    "# Operator Overiding\n",
    "https://micropyramid.com/blog/python-special-class-methods-or-magic-methods/\n",
    "\n",
    "Operator overriding is where the same operation works differently for different kinds of objects (Internally via special dunder methods). FOr example:\n",
    "\n",
    "https://docs.pytho n.org/3/reference/datamodel.html#special-method-names"
   ]
  },
  {
   "cell_type": "code",
   "execution_count": 1,
   "metadata": {},
   "outputs": [
    {
     "name": "stdout",
     "output_type": "stream",
     "text": [
      "4\n",
      "22\n"
     ]
    }
   ],
   "source": [
    "print(2 + 2)  # 4  (since they ar int objects they are added)\n",
    "print('2'+'2')  # '22' (Since they are string objects they are concatenated)"
   ]
  },
  {
   "cell_type": "markdown",
   "metadata": {},
   "source": [
    "Python Operators (arithmetuic boolean, comparion etc etc) work differently for different types of objects. This is achieved by special methods (also known as \"magic methods\" or \"dunder methods\", format: format __dunders__()) which we define in our classes.\n",
    "\n",
    "These methods give instructions to python for how to deal with objects when an operator is used on them. For example how 2 objects should be added etc. \n",
    "\n",
    "For example:\n",
    "- The + operator is shorthand for a special method called __add__() that gets called on the first operand and the second operand is passed as an argument.\n",
    "SO, var_1 + var_2 is internally running: var_1.__add__(var_2)\n",
    "- The default behaviour if the first (left) operand is an instance of int, __add__() does mathematical addition. If it's a string, it does string concatenation"
   ]
  },
  {
   "cell_type": "code",
   "execution_count": 2,
   "metadata": {},
   "outputs": [],
   "source": [
    "from copy import copy\n",
    "\n",
    "class Human:\n",
    "    def __init__(self, first, last, age):\n",
    "        self.first = first\n",
    "        self.last = last\n",
    "        self.age = age\n",
    "\n",
    "    def __repr__(self):\n",
    "        return f\"Human named {self.first} {self.last} aged {self.age}\"\n",
    "\n",
    "    # Similarly, we can declare special methods in our on classes to mimic the behaviour\n",
    "    # of built-in objects, like __len__ object\n",
    "    def __len__(self):\n",
    "        return self.age\n",
    "   # If we do not define len, TypeError: object of type 'Human' has no len()\n",
    "\n",
    "    def __add__(self, other):\n",
    "        # When you add two humans together...you get a newborn baby Human!\n",
    "        if isinstance(other, Human):\n",
    "            return Human(first='Newborn', last=self.last, age=0)\n",
    "        return \"You can't add that!\"\n",
    "\n",
    "    def __mul__(self, other):\n",
    "        # When you multiply a Human by an int, you get clones of that Human!\n",
    "        if isinstance(other, int):\n",
    "            return [copy(self) for i in range(other)]\n",
    "        return \"CANT MULTIPLY!\"\n",
    "\n",
    "\n",
    "j = Human(\"Jenny\", \"Larsen\", 47)\n",
    "k = Human(\"Kevin\", \"Jones\", 49)"
   ]
  },
  {
   "cell_type": "markdown",
   "metadata": {},
   "source": [
    "WHen we use python operators, they ececute our dunder methods:"
   ]
  },
  {
   "cell_type": "code",
   "execution_count": 3,
   "metadata": {},
   "outputs": [
    {
     "name": "stdout",
     "output_type": "stream",
     "text": [
      "Human named Jenny Larsen aged 47\n",
      "47\n",
      "[Human named Jenny Larsen aged 47, Human named Jenny Larsen aged 47, Human named Jenny Larsen aged 47]\n",
      "[Human named Newborn Jones aged 0, Human named Newborn Jones aged 0, Human named Newborn Jones aged 0]\n"
     ]
    }
   ],
   "source": [
    "# executes __repr__\n",
    "print(j)  # Human named Jenny Larsen aged 47\n",
    "\n",
    "# execute __ len__()\n",
    "print(len(j))  # 47  # If we do not define __len__ in class above,  TypeError: object of type 'Human' has no len()\n",
    "\n",
    "# execute __ mul__()\n",
    "triplets = j * 3\n",
    "print(triplets)  # [Human named Jenny Larsen aged 47, Human named Jenny Larsen aged 47, Human named Jenny Larsen aged 47]\n",
    "\n",
    "# executes __mul__ and __add__\n",
    "triplets = (k + j) * 3\n",
    "print(triplets)  # [Human named Newborn Jones aged 0, Human named Newborn Jones aged 0, Human named Newborn Jones aged 0]"
   ]
  },
  {
   "cell_type": "code",
   "execution_count": null,
   "metadata": {},
   "outputs": [],
   "source": []
  }
 ],
 "metadata": {
  "kernelspec": {
   "display_name": "Python 3",
   "language": "python",
   "name": "python3"
  },
  "language_info": {
   "codemirror_mode": {
    "name": "ipython",
    "version": 3
   },
   "file_extension": ".py",
   "mimetype": "text/x-python",
   "name": "python",
   "nbconvert_exporter": "python",
   "pygments_lexer": "ipython3",
   "version": "3.8.10"
  }
 },
 "nbformat": 4,
 "nbformat_minor": 4
}
