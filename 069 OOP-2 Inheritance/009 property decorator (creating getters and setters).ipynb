{
 "cells": [
  {
   "cell_type": "markdown",
   "metadata": {},
   "source": [
    "# @property decorator (creating getters, setters and deleters)\n",
    "\n",
    "Let's say that this class is part of your program. You are modeling a house with a House class (at the moment, the class only has a price instance attribute defined):"
   ]
  },
  {
   "cell_type": "code",
   "execution_count": 2,
   "metadata": {},
   "outputs": [],
   "source": [
    "class House:\n",
    "\n",
    "    def __init__(self, price):\n",
    "        self.price = price"
   ]
  },
  {
   "cell_type": "markdown",
   "metadata": {},
   "source": [
    "This instance attribute, 'price' is public because its name doesn't have a leading underscore. Since the attribute is currently public, it is very likely that you and other developers in your team can access and modify the attribute directly in other parts of the program using dot notation, like this:"
   ]
  },
  {
   "cell_type": "code",
   "execution_count": 3,
   "metadata": {},
   "outputs": [
    {
     "name": "stdout",
     "output_type": "stream",
     "text": [
      "3000000\n"
     ]
    }
   ],
   "source": [
    "shaheen_manzil = House(3000000)\n",
    "# Access value\n",
    "print(shaheen_manzil.price)\n",
    "\n",
    "# Modify value\n",
    "shaheen_manzil.price = 40000"
   ]
  },
  {
   "cell_type": "markdown",
   "metadata": {},
   "source": [
    "So far everything is working great, right? But let's say that you are asked to \n",
    "1- make this attribute private (non-public) \n",
    "2- and validate the new value before assigning it. For example, you need to check if the value is a positive float. \n",
    "How would you do that? Let's see.\n",
    "\n",
    "## Changing your Code:\n",
    "At this point, if you decide to add getters and setters, you and your team will probably panic ?. This is because each line of code in other parts of your program that accesses or modifies the value of the attribute will have to be modified to call the getter or setter, respectively. Otherwise, the code will break."
   ]
  },
  {
   "cell_type": "code",
   "execution_count": 5,
   "metadata": {},
   "outputs": [
    {
     "name": "stdout",
     "output_type": "stream",
     "text": [
      "924000000\n",
      "Please enter a valid price\n",
      "0\n"
     ]
    }
   ],
   "source": [
    "class House2:\n",
    "\n",
    "    def __init__(self, price):\n",
    "        self._price = price\n",
    "        \n",
    "    # getter:\n",
    "    def get_price(self):\n",
    "        dollar_price = self._price*154\n",
    "        return dollar_price # self._price\n",
    "   \n",
    "    # setter:\n",
    "    def set_price(self, new_price):\n",
    "        if new_price > 0 and isinstance(new_price, float):\n",
    "            self._price = new_price\n",
    "        else:\n",
    "            self._price = 0\n",
    "            print(\"Please enter a valid price\")\n",
    "\n",
    "moti_mahal= House2(6000000)            \n",
    "\n",
    "# get value. Changed from  print(shaheen_manzil.price):\n",
    "print(moti_mahal.get_price())\n",
    "\n",
    "# Modify value. Changed from shaheen_manzil.price = 40000:\n",
    "moti_mahal.set_price(605000000)\n",
    "\n",
    "print(moti_mahal.get_price())"
   ]
  },
  {
   "cell_type": "markdown",
   "metadata": {},
   "source": [
    "But... Properties come to the rescue! With @property, you and your team will not need to modify any of those lines where you access the property directly, because you will able to add getters and setters \"behind the scenes\" without affecting the syntax that you used to access or modify the attribute when it was public.\n",
    "\n",
    "## @property: Syntax and Logic\n",
    "\n",
    "If you decide to use @property, your class will look like the example below:"
   ]
  },
  {
   "cell_type": "code",
   "execution_count": 10,
   "metadata": {},
   "outputs": [],
   "source": [
    "class House3:\n",
    "\n",
    "    def __init__(self, init_price):\n",
    "        self._prvprice = init_price\n",
    "\n",
    "    @property\n",
    "    def price1(self):\n",
    "        #processing\n",
    "        return self._prvprice\n",
    "    \n",
    "    @price1.setter\n",
    "    def price1(self, new_price):\n",
    "        if new_price > 0 and isinstance(new_price, float):\n",
    "            self._prvprice = new_price\n",
    "        else:\n",
    "            self._prvprice = 0\n",
    "            print(\"Please enter a valid price\")\n",
    "    \n",
    "    @price1.deleter\n",
    "    def price1(self):\n",
    "        del self._prvprice\n",
    "        "
   ]
  },
  {
   "cell_type": "markdown",
   "metadata": {},
   "source": [
    "Specifically, you can define three methods for a property:\n",
    "\n",
    "- A getter - to access the value of the attribute.\n",
    "- A setter - to set the value of the attribute.\n",
    "- A deleter - to delete the instance attribute.\n",
    "\n",
    "\n",
    "### Price is now \"Protected\"\n",
    "Please note that the price attribute is now considered \"private\" because we added a leading underscore to its name in self._price:\n",
    "\n",
    "```python\n",
    "self._price = price\n",
    "```\n",
    "\n",
    "> Note: We have already seen that in Python, by convention, when you add a leading underscore to a name, you are telling other developers that it should not be accessed or modified directly outside of the class. It should only be accessed through intermediaries (getters and setters) if they are available.\n",
    "\n",
    "\n",
    "## Getter\n",
    "\n",
    "Here we have the getter method:\n",
    "```python\n",
    "@property\n",
    "def price(self):\n",
    "\treturn self._price\n",
    "```\n",
    "\n",
    "Notice the syntax:\n",
    "\n",
    "**@property**  - Used to indicate that we are going to define a property. Notice how this immediately improves readability because we can clearly see the purpose of this method.\n",
    "\n",
    "**def price(self)** - The header. Notice how the getter is named exactly like the property that we are defining: price. This is the name that we will use to access and modify the attribute outside of the class. The method only takes one formal parameter, self, which is a reference to the instance.\n",
    "\n",
    "**return self._price** - This line is exactly what you would expect in a regular getter. The value of the protected attribute is returned.\n",
    "Here is an example of the use of the getter method:"
   ]
  },
  {
   "cell_type": "code",
   "execution_count": 12,
   "metadata": {},
   "outputs": [
    {
     "name": "stdout",
     "output_type": "stream",
     "text": [
      "50000.0\n"
     ]
    }
   ],
   "source": [
    "house = House3(50000.0) # Create instance\n",
    "print(house.price)            # Access value"
   ]
  },
  {
   "cell_type": "markdown",
   "metadata": {},
   "source": [
    "> Notice how we access the price attribute as if it were a public attribute. We are not changing the syntax at all, but we are actually using the getter as an intermediary to avoid accessing the data directly.\n",
    "\n",
    "## Setter\n",
    "Now we have the setter method:\n",
    "\n",
    "```python\n",
    "@price.setter\n",
    "def price(self, new_price):\n",
    "    if new_price > 0 and isinstance(new_price, float):\n",
    "        self._price = new_price\n",
    "    else:\n",
    "        self._prvprice = 0\n",
    "        print(\"Please enter a valid price\")\n",
    "```\n",
    "\n",
    "Notice the syntax:\n",
    "\n",
    "**@price.setter** - Used to indicate that this is the setter method for the price property. Notice that we are not using @property.setter, we are using @price.setter. The name of the property is included before .setter.\n",
    "\n",
    "**def price(self, new_price):** - The header and the list of parameters. Notice how the name of the property is used as the name of the setter. We also have a second formal parameter (new_price), which is the new value that will be assigned to the price attribute (if it is valid).\n",
    "\n",
    "Finally, we have the body of the setter where we validate the argument to check if it is a positive float and then, if the argument is valid, we update the value of the attribute. If the value is not valid, a descriptive message is printed. You can choose how to handle invalid values according the needs of your program.\n",
    "This is an example of the use of the setter method with @property:"
   ]
  },
  {
   "cell_type": "code",
   "execution_count": 14,
   "metadata": {},
   "outputs": [
    {
     "name": "stdout",
     "output_type": "stream",
     "text": [
      "Please enter a valid price\n"
     ]
    },
    {
     "data": {
      "text/plain": [
       "0"
      ]
     },
     "execution_count": 14,
     "metadata": {},
     "output_type": "execute_result"
    }
   ],
   "source": [
    "house.price = 450000   # Update value\n",
    "house.price             # Access value"
   ]
  },
  {
   "cell_type": "markdown",
   "metadata": {},
   "source": [
    "> Notice how we are not changing the syntax, but now we are using an intermediary (the setter) to validate the argument before assigning it. The new value (45000.0) is passed as an argument to the setter :\n",
    "\n",
    "```python\n",
    "house.price = 45000.0\n",
    "```\n",
    "\n",
    "If we try to assign an invalid value, we see the descriptive message. We can also check that the value was not updated:"
   ]
  },
  {
   "cell_type": "code",
   "execution_count": 8,
   "metadata": {},
   "outputs": [
    {
     "name": "stdout",
     "output_type": "stream",
     "text": [
      "Please enter a valid price\n"
     ]
    },
    {
     "data": {
      "text/plain": [
       "0"
      ]
     },
     "execution_count": 8,
     "metadata": {},
     "output_type": "execute_result"
    }
   ],
   "source": [
    "house.price = -50\n",
    "house.price"
   ]
  },
  {
   "cell_type": "markdown",
   "metadata": {},
   "source": [
    "> Tip: This proves that the setter method is working as an intermediary. It is being called \"behind the scenes\" when we try to update the value, so the descriptive message is displayed when the value is not valid.\n",
    "\n",
    "### Deleter\n",
    "Finally, we have the deleter method:\n",
    "\n",
    "```python\n",
    "@price.deleter\n",
    "def price(self):\n",
    "    del self._price\n",
    "```"
   ]
  },
  {
   "cell_type": "markdown",
   "metadata": {},
   "source": [
    "Notice the syntax:\n",
    "\n",
    "**@price.deleter** - Used to indicate that this is the deleter method for the price property. Notice that this line is very similar to @price.setter, but now we are defining the deleter method, so we write @price.deleter.\n",
    "\n",
    "**def price(self):** - The header. This method only has one formal parameter defined, self.\n",
    "\n",
    "**del self._price** - The body, where we delete the instance attribute.\n",
    "\n",
    ">Tip: Notice that the name of the property is \"reused\" for all three methods.\n",
    "\n",
    "This is an example of the use of the deleter method with @property:"
   ]
  },
  {
   "cell_type": "code",
   "execution_count": 16,
   "metadata": {},
   "outputs": [
    {
     "ename": "AttributeError",
     "evalue": "_prvprice",
     "output_type": "error",
     "traceback": [
      "\u001b[1;31m---------------------------------------------------------------------------\u001b[0m",
      "\u001b[1;31mAttributeError\u001b[0m                            Traceback (most recent call last)",
      "\u001b[1;32m<ipython-input-16-f638e44d2301>\u001b[0m in \u001b[0;36m<module>\u001b[1;34m\u001b[0m\n\u001b[0;32m      1\u001b[0m \u001b[1;31m# Delete the instance attribute\u001b[0m\u001b[1;33m\u001b[0m\u001b[1;33m\u001b[0m\u001b[1;33m\u001b[0m\u001b[0m\n\u001b[1;32m----> 2\u001b[1;33m \u001b[1;32mdel\u001b[0m \u001b[0mhouse\u001b[0m\u001b[1;33m.\u001b[0m\u001b[0mprice\u001b[0m\u001b[1;33m\u001b[0m\u001b[1;33m\u001b[0m\u001b[0m\n\u001b[0m\u001b[0;32m      3\u001b[0m \u001b[1;33m\u001b[0m\u001b[0m\n\u001b[0;32m      4\u001b[0m \u001b[1;31m# The instance attribute doesn't exist\u001b[0m\u001b[1;33m\u001b[0m\u001b[1;33m\u001b[0m\u001b[1;33m\u001b[0m\u001b[0m\n\u001b[0;32m      5\u001b[0m \u001b[0mprint\u001b[0m\u001b[1;33m(\u001b[0m\u001b[0mhouse\u001b[0m\u001b[1;33m.\u001b[0m\u001b[0mprice\u001b[0m\u001b[1;33m)\u001b[0m\u001b[1;33m\u001b[0m\u001b[1;33m\u001b[0m\u001b[0m\n",
      "\u001b[1;32m<ipython-input-10-0740a480ee9a>\u001b[0m in \u001b[0;36mprice\u001b[1;34m(self)\u001b[0m\n\u001b[0;32m     19\u001b[0m     \u001b[1;33m@\u001b[0m\u001b[0mprice\u001b[0m\u001b[1;33m.\u001b[0m\u001b[0mdeleter\u001b[0m\u001b[1;33m\u001b[0m\u001b[1;33m\u001b[0m\u001b[0m\n\u001b[0;32m     20\u001b[0m     \u001b[1;32mdef\u001b[0m \u001b[0mprice\u001b[0m\u001b[1;33m(\u001b[0m\u001b[0mself\u001b[0m\u001b[1;33m)\u001b[0m\u001b[1;33m:\u001b[0m\u001b[1;33m\u001b[0m\u001b[1;33m\u001b[0m\u001b[0m\n\u001b[1;32m---> 21\u001b[1;33m         \u001b[1;32mdel\u001b[0m \u001b[0mself\u001b[0m\u001b[1;33m.\u001b[0m\u001b[0m_prvprice\u001b[0m\u001b[1;33m\u001b[0m\u001b[1;33m\u001b[0m\u001b[0m\n\u001b[0m\u001b[0;32m     22\u001b[0m \u001b[1;33m\u001b[0m\u001b[0m\n",
      "\u001b[1;31mAttributeError\u001b[0m: _prvprice"
     ]
    }
   ],
   "source": [
    "# Delete the instance attribute\n",
    "del house.price\n",
    "\n",
    "# The instance attribute doesn't exist\n",
    "# print(house.price)"
   ]
  },
  {
   "cell_type": "markdown",
   "metadata": {},
   "source": [
    "The error above proves the instance attribute was deleted successfully. When we try to access it again, an error is thrown because the attribute doesn't exist anymore.\n",
    "\n",
    "## Some final Tips\n",
    "You don't necessarily have to define all three methods for every property. You can define read-only properties by only including a getter method. You could also choose to define a getter and setter without a deleter.\n",
    "\n",
    "If you think that an attribute should only be set when the instance is created or that it should only be modified internally within the class, you can omit the setter.\n",
    "\n",
    "You can choose which methods to include depending on the context that you are working with.\n",
    "\n",
    "## In Summary\n",
    "- You can define properties with the @property syntax, which is more compact and readable.\n",
    "- @property can be considered the \"pythonic\" way of defining getters, setters, and deleters.\n",
    "- By defining properties, you can change the internal implementation of a class without affecting the program, so you can add getters, setters, and deleters that act as intermediaries \"behind the scenes\" to avoid accessing or modifying the data directly.    "
   ]
  },
  {
   "cell_type": "code",
   "execution_count": null,
   "metadata": {},
   "outputs": [],
   "source": []
  }
 ],
 "metadata": {
  "kernelspec": {
   "display_name": "Python 3",
   "language": "python",
   "name": "python3"
  },
  "language_info": {
   "codemirror_mode": {
    "name": "ipython",
    "version": 3
   },
   "file_extension": ".py",
   "mimetype": "text/x-python",
   "name": "python",
   "nbconvert_exporter": "python",
   "pygments_lexer": "ipython3",
   "version": "3.8.10"
  }
 },
 "nbformat": 4,
 "nbformat_minor": 4
}
