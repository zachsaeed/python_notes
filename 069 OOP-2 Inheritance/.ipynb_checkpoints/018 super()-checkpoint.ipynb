{
 "cells": [
  {
   "cell_type": "markdown",
   "metadata": {},
   "source": [
    "# super()\n",
    "\n",
    "Python super() function allows us to refer the superclass implicitly ie while referring the superclass from the subclass, (even though we can) we don’t need to write the name of superclass explicitly. \n",
    "\n",
    "In the example code below, the superclass is called Person and the subclass is Student:"
   ]
  },
  {
   "cell_type": "code",
   "execution_count": null,
   "metadata": {},
   "outputs": [],
   "source": [
    "class Person:\n",
    "    # initializing the variables\n",
    "    name = \"\"\n",
    "    age = 0\n",
    "\n",
    "    # defining constructor\n",
    "    def __init__(self, person_name, person_age):\n",
    "        self.name = person_name\n",
    "        self.age = person_age\n",
    "\n",
    "        # defining class methods\n",
    "\n",
    "    def show_name(self):\n",
    "        print(self.name)\n",
    "\n",
    "    def show_age(self):\n",
    "        print(self.age)\n",
    "\n",
    "\n",
    "# definition of subclass starts here\n",
    "class Student(Person):\n",
    "    studentId = \"\"\n",
    "\n",
    "    def __init__(self, student_name, student_age, student_id):\n",
    "        Person.__init__(self, student_name, student_age)\n",
    "        self.studentId = student_id\n",
    "\n",
    "    def get_id(self):\n",
    "        return self.studentId  # returns the value of student id\n",
    "\n",
    "\n",
    "# end of subclass definition\n",
    "\n",
    "\n",
    "# Create an object of the superclass\n",
    "person1 = Person(\"Richard\", 23)\n",
    "# call member methods of the objects\n",
    "person1.show_age()\n",
    "# Create an object of the subclass\n",
    "student1 = Student(\"Max\", 22, \"102\")\n",
    "print(student1.get_id())\n",
    "student1.show_name()"
   ]
  },
  {
   "cell_type": "markdown",
   "metadata": {},
   "source": [
    "In the above example, we have called parent class constructor explicitly as:\n",
    "\n",
    "```python\n",
    "Person.__init__(self, student_name, student_age) \n",
    "```\n",
    "\n",
    "We can replace this with python super function implicitly as below.\n",
    "```python\n",
    "super().__init__(student_name, student_age)\n",
    "```\n",
    "> **Note:** super is a builtin method and does not take 'self' parameter. It either takes no paramaters or two parameters: the first is the subclass, and the second parameter is an object that is an instance of that subclass. More about that in multiple inheritance\n",
    "\n",
    "The output will remain the same in both the cases, as shown in the below image.\n",
    "\n",
    "# super for function calls\n",
    "Also Python super() function not only can refer the __init__() function but also can call all other function of the superclass. See next example\n",
    "\n",
    "# super function with multilevel inheritance\n",
    "As we have stated previously that Python super() function allows us to refer the superclass implicitly.\n",
    "But in the case of multi-level inheritances, super() will always refer the immediate superclass.\n",
    "\n",
    "So, in the following example, we will see that."
   ]
  },
  {
   "cell_type": "code",
   "execution_count": 1,
   "metadata": {},
   "outputs": [
    {
     "name": "stdout",
     "output_type": "stream",
     "text": [
      "Initializing: class C\n",
      "Initializing: class B\n",
      "Initializing: class A\n",
      "Printing from class C: 1\n",
      "Printing from class B: 2\n",
      "Printing from class A: 3\n"
     ]
    }
   ],
   "source": [
    "class A:\n",
    "    def __init__(self):\n",
    "        print('Initializing: class A')\n",
    "\n",
    "    def sub_method(self, b):\n",
    "        print('Printing from class A:', b)\n",
    "\n",
    "\n",
    "class B(A):\n",
    "    def __init__(self):\n",
    "        print('Initializing: class B')\n",
    "        super().__init__()\n",
    "\n",
    "    def sub_method(self, b):\n",
    "        print('Printing from class B:', b)\n",
    "        super().sub_method(b + 1)\n",
    "\n",
    "\n",
    "class C(B):\n",
    "    def __init__(self):\n",
    "        print('Initializing: class C')\n",
    "        super().__init__()\n",
    "\n",
    "    def sub_method(self, b):\n",
    "        print('Printing from class C:', b)\n",
    "        super().sub_method(b + 1)\n",
    "\n",
    "\n",
    "if __name__ == '__main__':\n",
    "    c = C()\n",
    "    c.sub_method(1)"
   ]
  },
  {
   "cell_type": "markdown",
   "metadata": {},
   "source": [
    "So, from the output we can clearly see that the __init__() function of class C had been called at first, then class B and after that class A. Similar thing happened by calling sub_method() function.\n",
    "\n",
    "Python 2 super \n",
    "Note that the above syntax is for python 3 super function. If you are on python 2.x versions, then it’s slightly different and you will have to do the following changes:\n",
    "```python\n",
    "class Person(object):\n",
    "    ...\n",
    "    super(Student, self).__init__(student_name, student_age)\n",
    "```\n",
    "The first change is to explicitly have object as the base class for Person. In python 3, this happens by default so we can use both syntaxes.\n",
    "\n",
    "It’s required to use the super function in Python 2.x versions. Otherwise, you will get the following error.\n",
    "\n",
    "```console\n",
    "Traceback (most recent call last):\n",
    "  File \"super_example.py\", line 40, in <module>\n",
    "    student1 = Student(\"Max\", 22, \"102\")\n",
    "  File \"super_example.py\", line 25, in __init__\n",
    "    super(Student, self).__init__(student_name, student_age)\n",
    "TypeError: must be type, not classobj\n",
    "```\n",
    "\n",
    "The second change in the syntax of the super function itself."
   ]
  },
  {
   "cell_type": "code",
   "execution_count": null,
   "metadata": {},
   "outputs": [],
   "source": []
  }
 ],
 "metadata": {
  "kernelspec": {
   "display_name": "Python 3",
   "language": "python",
   "name": "python3"
  },
  "language_info": {
   "codemirror_mode": {
    "name": "ipython",
    "version": 3
   },
   "file_extension": ".py",
   "mimetype": "text/x-python",
   "name": "python",
   "nbconvert_exporter": "python",
   "pygments_lexer": "ipython3",
   "version": "3.8.7"
  }
 },
 "nbformat": 4,
 "nbformat_minor": 4
}
