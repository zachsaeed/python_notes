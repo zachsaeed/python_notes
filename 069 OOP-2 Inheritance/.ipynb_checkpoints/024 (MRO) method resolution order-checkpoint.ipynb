{
 "cells": [
  {
   "cell_type": "markdown",
   "metadata": {},
   "source": [
    "# MRO (Method resolution order)\n",
    "\n",
    "Whenever we create a class, python automatically sets a method resolution order (MRO) for that class, which is in the order in which python will look for methods in instances of that class.\n",
    "\n",
    "This is just the order in which python is going to look back on instances of that class (like a hierarchy. Look in Penguin first, then Ambulatory, then on Aquatic and then the base 'object' class). The algorithm for this which is pretty complex has changed over different versions of python and there are long blog posts devoted to the discussion of this algorithm. \n",
    "As an example, doc for 2.3 (Even though we we are on 3.8): https://www.python.org/download/releases/2.3/mro/\n",
    "\n",
    "We dont need to get into the knity grity of it. There are three ways you can programaticaly reference the MRO:\n",
    "\n",
    "1- ```__mro__``` attribute in a class\n",
    "2- Use built-in mro() method on the class\n",
    "3- Use built-in help(cls) method\n",
    "\n",
    "Lets use the examples from the previous topic:"
   ]
  },
  {
   "cell_type": "code",
   "execution_count": null,
   "metadata": {},
   "outputs": [],
   "source": [
    "class AquaticAnimal:\n",
    "    def __init__(self, name):\n",
    "        self.name = name\n",
    "        \n",
    "    def swim(self):\n",
    "        return f\"{self.name} is swimming\"\n",
    "    \n",
    "    def greet(self):\n",
    "        return f\"I am {self.name} of the sea!\"\n",
    "\n",
    "    \n",
    "class AmbulatoryAnimal:\n",
    "    def __init__(self, name):\n",
    "        self.name = name\n",
    "        \n",
    "    def walk(self):\n",
    "        return f\"{self.name} is walking\"\n",
    "    \n",
    "    def greet(self):\n",
    "        return f\"I am {self.name} of the land!\"\n",
    "    \n",
    "class Penguin(AmbulatoryAnimal, AquaticAnimal):\n",
    "    \n",
    "    def __init__(self, name):\n",
    "        super().__init__(name=name)    "
   ]
  }
 ],
 "metadata": {
  "kernelspec": {
   "display_name": "Python 3",
   "language": "python",
   "name": "python3"
  },
  "language_info": {
   "codemirror_mode": {
    "name": "ipython",
    "version": 3
   },
   "file_extension": ".py",
   "mimetype": "text/x-python",
   "name": "python",
   "nbconvert_exporter": "python",
   "pygments_lexer": "ipython3",
   "version": "3.8.7"
  }
 },
 "nbformat": 4,
 "nbformat_minor": 4
}
