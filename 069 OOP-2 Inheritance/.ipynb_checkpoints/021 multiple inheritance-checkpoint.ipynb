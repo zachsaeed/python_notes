{
 "cells": [
  {
   "cell_type": "markdown",
   "metadata": {},
   "source": [
    "# Multiple inheritance\n",
    "Multiple inheritence is not a commonly used feature and not viewed as super important however, it helps illuminate certain things that are happening behind the scenes with inheritance. It is a controverisal topic as it overcomplicates things.\n",
    "\n",
    "We have already seen multiple subclasses inheriting from a single parent class. In multiple inheritance, a subclass can inherit from multiple parent classes. \n",
    "\n",
    "For example, we have 2 separate base classes which define the type of Animal:"
   ]
  },
  {
   "cell_type": "code",
   "execution_count": 36,
   "metadata": {},
   "outputs": [],
   "source": [
    "class AquaticAnimal:\n",
    "    def __init__(self, name):\n",
    "        self.name = name\n",
    "        \n",
    "    def swim(self):\n",
    "        return f\"{self.name} is swimming\"\n",
    "    \n",
    "    def greet(self):\n",
    "        return f\"I am {self.name} of the sea!\"\n",
    "\n",
    "    \n",
    "class AmbulatoryAnimal:\n",
    "    def __init__(self, name):\n",
    "        self.name = name\n",
    "        \n",
    "    def walk(self):\n",
    "        return f\"{self.name} is walking\"\n",
    "    \n",
    "    def greet(self):\n",
    "        return f\"I am {self.name} of the land!\""
   ]
  },
  {
   "cell_type": "markdown",
   "metadata": {},
   "source": [
    "We now have a class that inherits from both. A penguin is both Aquatic and Ambulatory type, therefore it will inherit all the methods from both classes:"
   ]
  },
  {
   "cell_type": "code",
   "execution_count": 37,
   "metadata": {},
   "outputs": [],
   "source": [
    "class Penguin(AmbulatoryAnimal, AquaticAnimal):\n",
    "    \n",
    "    def __init__(self, name):\n",
    "        super().__init__(name=name)\n",
    "        \n",
    "        "
   ]
  },
  {
   "cell_type": "code",
   "execution_count": 38,
   "metadata": {},
   "outputs": [
    {
     "name": "stdout",
     "output_type": "stream",
     "text": [
      "Captain Cook is swimming\n"
     ]
    }
   ],
   "source": [
    "# Just like we can instances from the super classes\n",
    "jaws = AquaticAnimal('Jaws') # Since jaws is a shark\n",
    "lassie = AmbulatoryAnimal('Lassie')  # Since lassie is a dog\n",
    "\n",
    "# Similarly, we can create an instance of their subclass, Penguin\n",
    "captain_cook = Penguin('Captain Cook')   # Since Captain Cook is a pengiun\n",
    "\n",
    "print(captain_cook.swim())  # inherited from AquaticAnimal"
   ]
  },
  {
   "cell_type": "code",
   "execution_count": 39,
   "metadata": {},
   "outputs": [
    {
     "name": "stdout",
     "output_type": "stream",
     "text": [
      "Captain Cook is swimming\n"
     ]
    }
   ],
   "source": [
    "print(captain_cook.swim())  # inherited from AmbulatoryAnimal"
   ]
  },
  {
   "cell_type": "markdown",
   "metadata": {},
   "source": [
    "> **Note:** Penguin is a type of all 3 classes. Itself and it's superclasses. You can check as follows:"
   ]
  },
  {
   "cell_type": "code",
   "execution_count": 40,
   "metadata": {},
   "outputs": [
    {
     "name": "stdout",
     "output_type": "stream",
     "text": [
      "True\n",
      "True\n",
      "True\n"
     ]
    }
   ],
   "source": [
    "print(isinstance(captain_cook, Penguin))\n",
    "print(isinstance(captain_cook, AmbulatoryAnimal))\n",
    "print(isinstance(captain_cook, AquaticAnimal))"
   ]
  },
  {
   "cell_type": "markdown",
   "metadata": {},
   "source": [
    "### Common methods in parent classes\n",
    "```greet()``` is a method which is present in both classes. Therefore, when we call ```greet()```, which one will be called?"
   ]
  },
  {
   "cell_type": "code",
   "execution_count": 41,
   "metadata": {},
   "outputs": [
    {
     "name": "stdout",
     "output_type": "stream",
     "text": [
      "I am Captain Cook of the land!\n"
     ]
    }
   ],
   "source": [
    "print(captain_cook.greet())  # inherited from both  AquaticAnimal and AmbulatoryAnimal"
   ]
  },
  {
   "cell_type": "markdown",
   "metadata": {},
   "source": [
    "It calls the ```greet()``` method from ```AmbulatoryAnimal``` because ```AmbulatoryAnimal``` was defined as the first superclass for penguin ie ```class Penguin(AmbulatoryAnimal, AquaticAnimal):```. Try switching the parent classes and see which greet() gets called.\n",
    "\n",
    "\n",
    "### ```super().__init__():```\n",
    "In the subclass penguin's ```__init__()```, ```super().__init__(name=name)``` calls the ```__init__()``` of the first class only and not the second class. To prove this, we can put ```print()```s in the ```__init__()```s of both superclasses and initiate penguin:"
   ]
  },
  {
   "cell_type": "code",
   "execution_count": 42,
   "metadata": {},
   "outputs": [
    {
     "name": "stdout",
     "output_type": "stream",
     "text": [
      "inside Penguin's init\n",
      "inside AmbulatoryAnimal's init\n"
     ]
    }
   ],
   "source": [
    "class AquaticAnimal2:\n",
    "    def __init__(self, name):\n",
    "        print('inside AquaticAnimal\\'s init')\n",
    "        self.name = name\n",
    "        \n",
    "    def swim(self):\n",
    "        return f\"{self.name} is swimming\"\n",
    "    \n",
    "    def greet(self):\n",
    "        return f\"I am {self.name} of the sea!\"\n",
    "\n",
    "    \n",
    "class AmbulatoryAnimal2:\n",
    "    def __init__(self, name):\n",
    "        print('inside AmbulatoryAnimal\\'s init')\n",
    "        self.name = name\n",
    "        \n",
    "    def walk(self):\n",
    "        return f\"{self.name} is walking\"\n",
    "    \n",
    "    def greet(self):\n",
    "        return f\"I am {self.name} of the land!\"\n",
    "\n",
    "    \n",
    "class Penguin2(AmbulatoryAnimal2, AquaticAnimal2):    \n",
    "    def __init__(self, name):\n",
    "        print('inside Penguin\\'s init')\n",
    "        super().__init__(name=name)\n",
    "        \n",
    "        \n",
    "captain_cook = Penguin2('Captain Cook')   # Since Captain Cook is a pengiun    "
   ]
  },
  {
   "cell_type": "markdown",
   "metadata": {},
   "source": [
    "Only AmbulatoryAnimal's ```__init__()``` was called.\n",
    "\n",
    "These last 2 behaviours have something to with 'method resolution order' which we will see in detail in the next topic."
   ]
  }
 ],
 "metadata": {
  "kernelspec": {
   "display_name": "Python 3",
   "language": "python",
   "name": "python3"
  },
  "language_info": {
   "codemirror_mode": {
    "name": "ipython",
    "version": 3
   },
   "file_extension": ".py",
   "mimetype": "text/x-python",
   "name": "python",
   "nbconvert_exporter": "python",
   "pygments_lexer": "ipython3",
   "version": "3.8.7"
  }
 },
 "nbformat": 4,
 "nbformat_minor": 4
}
