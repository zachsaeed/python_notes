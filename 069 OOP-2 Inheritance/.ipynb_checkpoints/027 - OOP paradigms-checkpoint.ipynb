{
 "cells": [
  {
   "cell_type": "markdown",
   "id": "9bab0fc4",
   "metadata": {},
   "source": [
    "# Paradigms of of Programming\n",
    "\n",
    "There are two main programming paradigms:\n",
    "\n",
    "1. **Procedural programming** in which codes are written in sequentially\n",
    "2. **Functional Programming** in which code is broken down into functions\n",
    "3. **Object-oriented programming** in which code is broken down into classes, objects and methods\n",
    "\n",
    "Python is a multi-paradigm high-level programming language which means it supports procedural, functional and OOP programming. \n",
    "A programmer decides on the paradigm to use based on his expertise and the problems his trying to solve. However, there is no controversy that OOP makes programming easier, faster, more dynamic, and secured. This is a major reason C++, Java and Python are the top most popular programming languages in the world today\n",
    "\n",
    "If you want to learn Java and Python or any other object-oriented programming languages, then you must understand these Object-Oriented Programming paradigms which are a relatively easy concept to understand. Let’s take a look at them.\n",
    "\n",
    "OOP has the following concepts which are: \n",
    "\n",
    "1. classes\n",
    "2. objects\n",
    "3. methods\n",
    "4. Encapsulation, \n",
    "5. Inheritance\n",
    "6. Polymorphism, \n",
    "7. Abstraction\n",
    "\n",
    "We will have a look at them in further detail:"
   ]
  },
  {
   "cell_type": "markdown",
   "id": "9e3105e6",
   "metadata": {},
   "source": [
    "## Class\n",
    "A class is a blueprint for the object. We can also say it is a user created datatype.\n",
    "\n",
    "We can think of class as a sketch of a parrot or a architectural drawing of a house with labels. It contains all the details about the name, colors, size etc. Based on these descriptions, we can study about the parrot. Here, a parrot is an object.\n",
    "\n",
    "The example for class of parrot can be :"
   ]
  },
  {
   "cell_type": "code",
   "execution_count": 33,
   "id": "6e3a06ab",
   "metadata": {},
   "outputs": [],
   "source": [
    "class Parrot:\n",
    "    pass"
   ]
  },
  {
   "cell_type": "markdown",
   "id": "741bba10",
   "metadata": {},
   "source": [
    "Here, we use the ```class``` keyword to define an empty class ```Parrot```. From class, we construct instances. An instance is a specific object created from a particular class. In other words, we can also say a class is a user-defined datatype that holds data and methods that process that data."
   ]
  },
  {
   "cell_type": "markdown",
   "id": "444b3427",
   "metadata": {},
   "source": [
    "## Object\n",
    "An object (instance) is an instantiation of a class. When class is defined, only the description for the object is defined. Therefore, no memory or storage is allocated.\n",
    "\n",
    "> Note: In python, classes themselves are objects of class type. But that is an advance topic and rarely used.\n",
    "\n",
    "The example for object of parrot class can be:"
   ]
  },
  {
   "cell_type": "code",
   "execution_count": 34,
   "id": "abcd25ed",
   "metadata": {},
   "outputs": [],
   "source": [
    "obj = Parrot()"
   ]
  },
  {
   "cell_type": "markdown",
   "id": "f652135f",
   "metadata": {},
   "source": [
    "Here, obj is an object of class Parrot.\n",
    "\n",
    "Suppose we have details of parrots. Now, we are going to show how to build the class and objects of parrots.\n",
    "\n",
    "Example 1: Creating Class and Object in Python"
   ]
  },
  {
   "cell_type": "code",
   "execution_count": 35,
   "id": "125ce914",
   "metadata": {},
   "outputs": [
    {
     "name": "stdout",
     "output_type": "stream",
     "text": [
      "Blu is a bird\n",
      "Woo is also a bird\n",
      "Mian Mithu is 10 years old\n",
      "Polly is 15 years old\n"
     ]
    }
   ],
   "source": [
    "class Parrot:\n",
    "\n",
    "    # class attribute\n",
    "    species = \"bird\"\n",
    "    \n",
    "    def __init__(self, name, age):\n",
    "        # instance attributes\n",
    "        self.name = name\n",
    "        self.age = age\n",
    "\n",
    "# instantiate the Parrot class\n",
    "mithu = Parrot(\"Mian Mithu\", 10)\n",
    "polly = Parrot(\"Polly\", 15)\n",
    "\n",
    "# access the class attributes\n",
    "print(f\"Blu is a {mithu.__class__.species}\")  \n",
    "# Above, mithu.__class__ is equal to Parrot. So we can also use Parrot.species instead of mithu.__class__.species as shown below\n",
    "print(f\"Woo is also a {Parrot.species}\")\n",
    "\n",
    "# access the instance attributes\n",
    "print(f\"{mithu.name} is {mithu.age} years old\")\n",
    "print(f\"{polly.name} is {polly.age} years old\")"
   ]
  },
  {
   "cell_type": "markdown",
   "id": "8540b90c",
   "metadata": {},
   "source": [
    "In the above program, we created a class with the name Parrot. Then, we define attributes. The attributes are a characteristic of an object.\n",
    "\n",
    "These attributes are defined inside the ```__init__``` method of the class. It is the initializer/constructor method that is first run as soon as the object is created.\n",
    "\n",
    "Then, we create instances of the ```Parrot``` class. Here, ```mithu``` and ```polly``` are references (value) to our new objects.\n",
    "\n",
    "We can access the class attribute using ```__class__.species```. Class attributes are the same for all instances of a class. Similarly, we access the instance attributes using ```mithu.name``` and ```mithu.age```. However, instance attributes are different for every instance of a class.\n",
    "\n",
    "To learn more about classes and objects, go to Python Classes and Objects in the previous sections."
   ]
  },
  {
   "cell_type": "markdown",
   "id": "a9be0aaa",
   "metadata": {},
   "source": [
    "## Methods\n",
    "Methods are functions defined inside the body of a class. They are used to define the behaviors of an object.\n",
    "\n",
    "Example 2 : Creating Methods in Python"
   ]
  },
  {
   "cell_type": "code",
   "execution_count": 36,
   "id": "c1ec2261",
   "metadata": {},
   "outputs": [
    {
     "name": "stdout",
     "output_type": "stream",
     "text": [
      "Blu sings 'Happy'\n",
      "Blu is now dancing\n"
     ]
    }
   ],
   "source": [
    "class Parrot:\n",
    "    \n",
    "    # instance attributes\n",
    "    def __init__(self, name, age):\n",
    "        self.name = name\n",
    "        self.age = age\n",
    "    \n",
    "    # instance method\n",
    "    def sing(self, song):\n",
    "        # return self.name + \" sings \" + song\n",
    "        # return \"{} sings {}\".format(self.name, song)\n",
    "        return f\"{self.name} sings {song}\"\n",
    "\n",
    "    def dance(self):\n",
    "        return \"{} is now dancing\".format(self.name)\n",
    "\n",
    "# instantiate the object\n",
    "blu = Parrot(\"Blu\", 10)\n",
    "\n",
    "# call our instance methods\n",
    "print(blu.sing(\"'Happy'\"))\n",
    "print(blu.dance())"
   ]
  },
  {
   "cell_type": "markdown",
   "id": "2aadf7b8",
   "metadata": {},
   "source": [
    "In the above program, we define two methods i.e ```sing()``` and ```dance()```. These are called instance methods because they are called on an instance object i.e blu."
   ]
  },
  {
   "cell_type": "markdown",
   "id": "b0812ae0",
   "metadata": {},
   "source": [
    "## Inheritance\n",
    "Inheritance is a way of creating a new class for using details of an existing class without modifying it. The newly formed class is a derived class (or child class). Similarly, the existing class is a base class (or parent class).\n",
    "\n",
    "Example 3: Use of Inheritance in Python"
   ]
  },
  {
   "cell_type": "code",
   "execution_count": 45,
   "id": "69e19240",
   "metadata": {},
   "outputs": [
    {
     "name": "stdout",
     "output_type": "stream",
     "text": [
      "Bird is ready\n",
      "Penguin is ready\n"
     ]
    }
   ],
   "source": [
    "# parent class\n",
    "class Bird:\n",
    "    \n",
    "    def __init__(self):\n",
    "        print(\"Bird is ready\")\n",
    "\n",
    "    def whoisThis(self):\n",
    "        print(\"Bird\")\n",
    "\n",
    "    def swim(self):\n",
    "        print(\"Swim faster\")\n",
    "\n",
    "# child class\n",
    "class Penguin(Bird):\n",
    "   \n",
    "    def __init__(self):\n",
    "        # call super() function\n",
    "        super().__init__()\n",
    "        print(\"Penguin is ready\")\n",
    "\n",
    "    def whoisThis(self):\n",
    "        print(\"Penguin\")\n",
    "\n",
    "    def run(self):\n",
    "        print(\"Run faster\")\n",
    "   \n",
    "\n",
    "peggy = Penguin()"
   ]
  },
  {
   "cell_type": "code",
   "execution_count": 44,
   "id": "7adf69da",
   "metadata": {},
   "outputs": [
    {
     "name": "stdout",
     "output_type": "stream",
     "text": [
      "Bird is ready\n",
      "Penguin is ready\n",
      "Penguin\n",
      "Swim faster\n",
      "Run faster\n"
     ]
    }
   ],
   "source": [
    "peggy.whoisThis()\n",
    "peggy.swim()\n",
    "peggy.run()"
   ]
  },
  {
   "cell_type": "markdown",
   "id": "866d44a7",
   "metadata": {},
   "source": [
    "In the above program, we created two classes i.e. ```Bird``` (parent class) and ```Penguin``` (child class). The child class inherits the functions of parent class. We can see this from the ```swim()``` method.\n",
    "\n",
    "Again, the child class modified the behavior of the parent class. We can see this from the ```whoisThis()``` method. Furthermore, we extend the functions of the parent class, by creating a new ```run()``` method.\n",
    "\n",
    "Additionally, we use the ```super()``` function inside the ```__init__()``` method. This allows us to run the ```__init__()``` method of the parent class inside the child class."
   ]
  },
  {
   "cell_type": "markdown",
   "id": "ec22410b",
   "metadata": {},
   "source": [
    "## Encapsulation\n",
    "Encapsulation is the ability of a class or an object to hold attributes (i.e. a class or object encapsulates variables)\n",
    "Also, using OOP in Python, we can restrict access to methods and variables. This prevents data from direct modification which is also called encapsulation. In Python, we denote private attributes using underscore as the prefix i.e single ```_``` or double ```__```.\n",
    "\n",
    "Example 4: Data Encapsulation in Python"
   ]
  },
  {
   "cell_type": "code",
   "execution_count": 38,
   "id": "57c99238",
   "metadata": {},
   "outputs": [
    {
     "name": "stdout",
     "output_type": "stream",
     "text": [
      "Selling Price: 900\n",
      "Selling Price: 900\n",
      "Selling Price: 1000\n"
     ]
    }
   ],
   "source": [
    "class Computer:\n",
    "\n",
    "    def __init__(self, _max):\n",
    "        self.__maxprice = _max\n",
    "\n",
    "    def sell(self):\n",
    "        print(f\"Selling Price: {self.__maxprice}\")\n",
    "\n",
    "    def setMaxPrice(self, price):\n",
    "        self.__maxprice = price\n",
    "        \n",
    "    def getMaxPrice(self):\n",
    "        return self.__maxprice    \n",
    "\n",
    "c = Computer(100)\n",
    "c.sell()\n",
    "\n",
    "# change the price\n",
    "c.__maxprice = 1000\n",
    "c.sell()\n",
    "print(c.__maxprice)\n",
    "\n",
    "# using setter function\n",
    "c.setMaxPrice(1000)\n",
    "c.sell()\n",
    "print(c.getMaxPrice())"
   ]
  },
  {
   "cell_type": "markdown",
   "id": "06bc5154",
   "metadata": {},
   "source": [
    "In the above program, we defined a Computer class.\n",
    "\n",
    "We used ```__init__()``` method to store the maximum selling price of Computer. We tried to modify the price. However, we can't change it because Python treats the ```__maxprice``` as private attributes.\n",
    "\n",
    "As shown, to change the value, we have to use a setter function i.e ```setMaxPrice()``` which takes price as a parameter."
   ]
  },
  {
   "cell_type": "markdown",
   "id": "ef8bb931",
   "metadata": {},
   "source": [
    "## Polymorphism\n",
    "\n",
    "poly means many and morph means shape. polymorphism = many shapes.\n",
    "\n",
    "Polymorphism is an ability (in OOP) to use a common interface for multiple forms (data types).\n",
    "\n",
    "Suppose, we need to color a shape, there are multiple shape options (rectangle, square, circle). However we could use the same method to color any shape. This concept is called Polymorphism.\n",
    "\n",
    "Example 5: Using Polymorphism in Python"
   ]
  },
  {
   "cell_type": "code",
   "execution_count": 52,
   "id": "d61c9a64",
   "metadata": {},
   "outputs": [
    {
     "name": "stdout",
     "output_type": "stream",
     "text": [
      "Bird is ready\n",
      "Swim faster\n",
      "Parrot can't swim\n",
      "Bird is ready\n",
      "True\n",
      "True\n",
      "False\n",
      "True\n",
      "True\n"
     ]
    }
   ],
   "source": [
    "# parent class\n",
    "class Bird:\n",
    "    \n",
    "    def __init__(self):\n",
    "        print(\"Bird is ready\")\n",
    "\n",
    "    def whoisThis(self):\n",
    "        print(\"Bird\")\n",
    "\n",
    "    def swim(self):\n",
    "        print(\"Swim faster\")\n",
    "\n",
    "        \n",
    "class Parrot(Bird):\n",
    "\n",
    "    def fly(self):\n",
    "        print(\"Parrot can fly\")\n",
    "    \n",
    "    def swim(self):\n",
    "        super().swim()\n",
    "        print(\"Parrot can't swim\")\n",
    "        \n",
    "    def whoisThis(self):\n",
    "       print(\"Parrot\")    \n",
    "\n",
    "    \n",
    "class Penguin(Bird):\n",
    "\n",
    "    def fly(self):\n",
    "        print(\"Penguin can't fly\")\n",
    "    \n",
    "    def swim(self):\n",
    "        print(\"Penguin can swim\")\n",
    "   \n",
    "    def whoisThis(self):\n",
    "        print(\"Penguin\")\n",
    "\n",
    "'''\n",
    "# common interface\n",
    "def flying_test(bird):\n",
    "    bird.fly()\n",
    "'''\n",
    "\n",
    "#instantiate objects\n",
    "blu = Parrot()\n",
    "blu.swim()\n",
    "\n",
    "peggy = Penguin()\n",
    "\n",
    "print(isinstance(blu, Parrot))\n",
    "print(isinstance(peggy, Penguin))\n",
    "\n",
    "print(isinstance(blu, Penguin))\n",
    "\n",
    "print(isinstance(blu, object))\n",
    "print(isinstance(peggy, object))\n",
    "\n",
    "\n",
    "# passing the object\n",
    "#flying_test(blu)\n",
    "#flying_test(peggy)"
   ]
  },
  {
   "cell_type": "markdown",
   "id": "abc972fe",
   "metadata": {},
   "source": [
    "In the above program, we defined two classes ```Parrot``` and ```Penguin```. Each of them have a common ```fly()``` method. However, their functions are different.\n",
    "\n",
    "To use polymorphism, we created a common interface i.e ```flying_test()``` function that takes any object and calls the object's ```fly()``` method. Thus, when we passed the blu and peggy objects in the ```flying_test()``` function, it ran effectively."
   ]
  },
  {
   "cell_type": "markdown",
   "id": "45d99ad5",
   "metadata": {},
   "source": [
    "## Abstraction\n",
    " Abstraction focuses on hiding the internal implementations of a process or method from the user. In this way, the user knows what he is doing but not how the work is being done.\n",
    " \n",
    "Also, we can create abstract classes to force other developers to inherit from it and follow a certain structure in their subclasses.\n",
    "\n",
    "For example, look at the abstract class below. An abstract class inherits from ABC (which makes it an abstract class). Abstract classes have normal methods aswell as abstract methods (using @abstractmethod decorator).\n",
    "\n",
    "If you try to instantiate an abstract class, it will throw an error as shown in the commented out statement below:"
   ]
  },
  {
   "cell_type": "code",
   "execution_count": 59,
   "id": "9e4653fd",
   "metadata": {},
   "outputs": [],
   "source": [
    "from abc import ABC, abstractmethod\n",
    "\n",
    "# abstract class inherits from ABC\n",
    "class AbsClass(ABC):\n",
    "    \n",
    "    # normal method\n",
    "    def print(self,x):\n",
    "        #method definition\n",
    "        print(\"Passed value: \", x)\n",
    "    \n",
    "    # abstract method\n",
    "    @abstractmethod\n",
    "    def task(self):\n",
    "        pass\n",
    "        # print(\"We are inside Absclass task\")\n",
    "    \n",
    "    \n",
    "# TypeError: Can't instantiate abstract class AbsClass with abstract methods task->\n",
    "# test_obj = AbsClass()"
   ]
  },
  {
   "cell_type": "markdown",
   "id": "56038e12",
   "metadata": {},
   "source": [
    "Abstract classes do not have an ```__init__()``` method as they cannot be instantiated. They are only meant to be inherited ie You have to create a sublcass and the subclass needs to implement (override) the abstract methods to be able to make it usable (instantiable).\n",
    "\n",
    "If we do not implement the abstract methods in a subclass, the subclass will be treated as anabstract class too.\n",
    "\n",
    "For example, when we **don't** overide the abstract method:"
   ]
  },
  {
   "cell_type": "code",
   "execution_count": 62,
   "id": "df311de8",
   "metadata": {},
   "outputs": [],
   "source": [
    "# The following subclass does not implement / override the abstract method task\n",
    "class sub_class(AbsClass):\n",
    "    pass\n",
    "\n",
    "# This will throw an error: TypeError: Can't instantiate abstract class sub_class with abstract methods task\n",
    "# sub_class_obj = sub_class()"
   ]
  },
  {
   "cell_type": "markdown",
   "id": "e0d12f83",
   "metadata": {},
   "source": [
    "In the example below, the class can be instantiated as it implements the abstract methods inherited from the parent abstract class. \n",
    "\n",
    "> Note: We are forced to structure our subclass in a certain way by overiding the abstract methods in the superclass:"
   ]
  },
  {
   "cell_type": "code",
   "execution_count": 63,
   "id": "43613caf",
   "metadata": {},
   "outputs": [
    {
     "name": "stdout",
     "output_type": "stream",
     "text": [
      "We are inside SubClass2 task\n",
      "Passed value:  100\n",
      "We are inside SubClass3 task\n",
      "Passed value:  200\n"
     ]
    }
   ],
   "source": [
    "class SubClass2(AbsClass):\n",
    "    def task(self):\n",
    "        print(\"We are inside SubClass2 task\")\n",
    " \n",
    "class SubClass3(AbsClass):\n",
    "    def task(self):\n",
    "        print(\"We are inside SubClass3 task\")\n",
    " \n",
    "# object of sub_class_2 created\n",
    "sub_class_2_obj = SubClass2()\n",
    "sub_class_2_obj.task()\n",
    "sub_class_2_obj.print(100)\n",
    " \n",
    "# object of example_class created\n",
    "sub_class_3_obj = SubClass3()\n",
    "sub_class_3_obj.task()\n",
    "sub_class_3_obj.print(200)"
   ]
  },
  {
   "cell_type": "code",
   "execution_count": 43,
   "id": "2277fe2b",
   "metadata": {},
   "outputs": [
    {
     "name": "stdout",
     "output_type": "stream",
     "text": [
      "sub_class_2_obj is instance of Absclass?  True\n",
      "sub_class_3_obj is instance of Absclass?  True\n"
     ]
    }
   ],
   "source": [
    "# Due to inheritance, the objects of an abstract class's subclasses are of type abstract class too \n",
    "print(\"sub_class_2_obj is instance of Absclass? \", isinstance(sub_class_2_obj, AbsClass))\n",
    "print(\"sub_class_3_obj is instance of Absclass? \", isinstance(sub_class_3_obj, AbsClass))      "
   ]
  },
  {
   "cell_type": "markdown",
   "id": "ebea14d3",
   "metadata": {},
   "source": [
    "After the user creates objects from both the SubClass2 and SubClass3 classes and invoke the task() method for both of them, the hidden definitions for task() methods inside both the classes come into play. These definitions are hidden from the user. The abstract method task() from the abstract class AbsClass is actually never invoked.\n",
    "\n",
    "But when the print() method is called for both the sub_class_2_obj and sub_class_3_obj, the AbsClass’s print() method is invoked since it is not an abstract method.\n",
    "\n",
    "\n",
    "\n",
    "\n",
    "## Key Points to Remember:\n",
    "- Object-Oriented Programming makes the program easy to understand as well as efficient.\n",
    "- Since the class is sharable, the code can be reused.\n",
    "- Data is safe and secure with data abstraction.\n",
    "- Polymorphism allows the same interface for different objects, so programmers can write efficient code."
   ]
  },
  {
   "cell_type": "code",
   "execution_count": null,
   "id": "e39e7780",
   "metadata": {},
   "outputs": [],
   "source": []
  },
  {
   "cell_type": "code",
   "execution_count": null,
   "id": "9a730473",
   "metadata": {},
   "outputs": [],
   "source": []
  }
 ],
 "metadata": {
  "kernelspec": {
   "display_name": "Python 3",
   "language": "python",
   "name": "python3"
  },
  "language_info": {
   "codemirror_mode": {
    "name": "ipython",
    "version": 3
   },
   "file_extension": ".py",
   "mimetype": "text/x-python",
   "name": "python",
   "nbconvert_exporter": "python",
   "pygments_lexer": "ipython3",
   "version": "3.8.10"
  }
 },
 "nbformat": 4,
 "nbformat_minor": 5
}
