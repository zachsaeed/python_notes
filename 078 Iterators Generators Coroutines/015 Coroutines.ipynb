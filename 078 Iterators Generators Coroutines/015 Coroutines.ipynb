{
 "cells": [
  {
   "cell_type": "markdown",
   "metadata": {},
   "source": [
    "# Coroutines\n",
    "\n",
    "Coroutines are similar to generators with a few differences. The main differences are:\n",
    "\n",
    "- generators are data producers\n",
    "- coroutines are data consumers\n",
    "\n",
    "First of all let’s review the generator creation process. We can make generators like this:"
   ]
  },
  {
   "cell_type": "code",
   "execution_count": 4,
   "metadata": {},
   "outputs": [
    {
     "name": "stdout",
     "output_type": "stream",
     "text": [
      "<generator object fibonaci at 0x000001C1A5ED2040>\n",
      "0\n",
      "1\n",
      "1\n",
      "2\n",
      "3\n",
      "5\n",
      "8\n",
      "13\n",
      "21\n",
      "34\n",
      "55\n",
      "89\n",
      "144\n",
      "233\n",
      "377\n",
      "610\n",
      "987\n",
      "1597\n",
      "2584\n",
      "4181\n",
      "6765\n",
      "10946\n",
      "17711\n",
      "28657\n",
      "46368\n",
      "75025\n",
      "121393\n",
      "196418\n",
      "317811\n",
      "514229\n"
     ]
    }
   ],
   "source": [
    "def fibonaci():\n",
    "    a, b = 0, 1\n",
    "    while b < 1000000:\n",
    "        yield a\n",
    "        a, b = b, a+b\n",
    "        \n",
    "print(fibonaci()) # output: <generator object fibonaci at 0x000001C1A5ED2040>\n",
    "\n",
    "# We then commonly use it in a for loop like this:\n",
    "\n",
    "for i in fibonaci():\n",
    "    print(i)"
   ]
  },
  {
   "cell_type": "markdown",
   "metadata": {},
   "source": [
    "It is fast and does not take a lot of memory (compared to storing everything in a list) because it generates the values on the fly rather than storing them in a list. \n",
    "\n",
    "Now, if we use yield in the above example, more generally, we get a coroutine. Coroutines consume values which are sent to it. A very basic example would be a grep alternative in Python:"
   ]
  },
  {
   "cell_type": "code",
   "execution_count": 6,
   "metadata": {},
   "outputs": [],
   "source": [
    "def grep(pattern):\n",
    "    print(\"Searching for\", pattern)\n",
    "    while True:\n",
    "        line = (yield)\n",
    "        if pattern in line:\n",
    "            print(line)"
   ]
  },
  {
   "cell_type": "markdown",
   "metadata": {},
   "source": [
    "Wait! What does yield return? We have actually turned it into a coroutine. It does not contain any value initially, instead we supply it values externally. We supply values by using the .send() method. Here is an example:"
   ]
  },
  {
   "cell_type": "code",
   "execution_count": 8,
   "metadata": {},
   "outputs": [
    {
     "name": "stdout",
     "output_type": "stream",
     "text": [
      "<generator object grep at 0x000001C1A5ED2580>\n",
      "Searching for coroutine\n",
      "I love coroutines instead!\n"
     ]
    }
   ],
   "source": [
    "search = grep('coroutine')\n",
    "\n",
    "print(search) # Output: <generator object grep at 0x000001C1A5ED2580>\n",
    "\n",
    "next(search) # Output: Searching for coroutine\n",
    "\n",
    "search.send(\"I love you\")\n",
    "search.send(\"Don't you love me?\") \n",
    "search.send(\"I love coroutines instead!\") # Output: I love coroutines instead!"
   ]
  },
  {
   "cell_type": "markdown",
   "metadata": {},
   "source": [
    "The sent values are accessed by yield. \n",
    "\n",
    "Why did we run next()? It is required in order to start the coroutine. Which stops at line = (yield)and waits for the send() method to send a value which is assigned to line.\n",
    "\n",
    "Just like generators, coroutines do not start the function immediately. Instead they run it in response to the __next__() and .send() methods. Therefore, you have to run next() only on the first time so that the execution advances to the yield expression.\n",
    "\n",
    "We can close a coroutine by calling the .close() method:"
   ]
  },
  {
   "cell_type": "code",
   "execution_count": null,
   "metadata": {},
   "outputs": [],
   "source": [
    "search.close()"
   ]
  },
  {
   "cell_type": "markdown",
   "metadata": {},
   "source": [
    "There is a lot more to coroutines. I suggest you check out this awesome presentation by David Beazley: http://www.dabeaz.com/coroutines/Coroutines.pdf"
   ]
  }
 ],
 "metadata": {
  "kernelspec": {
   "display_name": "Python 3 (ipykernel)",
   "language": "python",
   "name": "python3"
  },
  "language_info": {
   "codemirror_mode": {
    "name": "ipython",
    "version": 3
   },
   "file_extension": ".py",
   "mimetype": "text/x-python",
   "name": "python",
   "nbconvert_exporter": "python",
   "pygments_lexer": "ipython3",
   "version": "3.8.10"
  }
 },
 "nbformat": 4,
 "nbformat_minor": 4
}
