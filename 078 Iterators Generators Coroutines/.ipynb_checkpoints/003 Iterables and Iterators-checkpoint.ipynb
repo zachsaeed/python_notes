{
 "cells": [
  {
   "cell_type": "markdown",
   "metadata": {},
   "source": [
    "# Iterators and iterables\n",
    "\n",
    "## Iterable: \n",
    "An object which will return an iterator when iter() is called on it. \n",
    "\n",
    "Example \n",
    "The string \"Hello\" is an iterable. When we call iter() on it, it returns an iterator object. Fo example:"
   ]
  },
  {
   "cell_type": "code",
   "execution_count": 4,
   "metadata": {},
   "outputs": [
    {
     "data": {
      "text/plain": [
       "<str_iterator at 0x1e999256a30>"
      ]
     },
     "execution_count": 4,
     "metadata": {},
     "output_type": "execute_result"
    }
   ],
   "source": [
    "my_string = \"Hello\"  # String is an iterable\n",
    "my_string_iterator = iter(my_string)  # get the iterator\n",
    "my_string_iterator"
   ]
  },
  {
   "cell_type": "markdown",
   "metadata": {},
   "source": [
    "## Iterator \n",
    "Any object that can be iterated upon. \n",
    "Iterators have a method called next(). Whenever next() is called on an iterator, it returns data from a sequence, one element at a time until it hits the end.\n",
    "For example:"
   ]
  },
  {
   "cell_type": "code",
   "execution_count": 5,
   "metadata": {},
   "outputs": [
    {
     "name": "stdout",
     "output_type": "stream",
     "text": [
      "H\n",
      "e\n",
      "l\n",
      "l\n",
      "o\n"
     ]
    }
   ],
   "source": [
    "print(next(my_string_iterator))  # H\n",
    "print(next(my_string_iterator))  # e\n",
    "print(next(my_string_iterator))  # l\n",
    "print(next(my_string_iterator))  # l\n",
    "print(next(my_string_iterator))  # o\n",
    "# print(next(my_iterator))  # StopIteration Error\n",
    "\n",
    "# my_string.next()  # AttributeError: 'str' object has no attribute 'next'\n"
   ]
  },
  {
   "cell_type": "markdown",
   "metadata": {},
   "source": [
    "When we run a for loop on an iterable, (e.g. string), behind the scenes:\n",
    "- it takes the string (iterable) \n",
    "- calls iter() on it to get the string iterator \n",
    "- and then keeps on calling next() on the iterator \n",
    "- until it raises a StopIterationError which it catches and then stops.\n",
    "\n",
    "This is the standard protocol that needs to be setup in any iterator that exists or that we define"
   ]
  },
  {
   "cell_type": "code",
   "execution_count": 6,
   "metadata": {},
   "outputs": [
    {
     "name": "stdout",
     "output_type": "stream",
     "text": [
      "H\n",
      "e\n",
      "l\n",
      "l\n",
      "o\n"
     ]
    }
   ],
   "source": [
    "for ch in my_string:\n",
    "    print(ch)"
   ]
  },
  {
   "cell_type": "markdown",
   "metadata": {},
   "source": [
    "Similarly [list], {dictionaries}, (tuples) etc etc  are iterables aswell."
   ]
  },
  {
   "cell_type": "code",
   "execution_count": null,
   "metadata": {},
   "outputs": [],
   "source": []
  }
 ],
 "metadata": {
  "kernelspec": {
   "display_name": "Python 3",
   "language": "python",
   "name": "python3"
  },
  "language_info": {
   "codemirror_mode": {
    "name": "ipython",
    "version": 3
   },
   "file_extension": ".py",
   "mimetype": "text/x-python",
   "name": "python",
   "nbconvert_exporter": "python",
   "pygments_lexer": "ipython3",
   "version": "3.8.10"
  }
 },
 "nbformat": 4,
 "nbformat_minor": 4
}
