{
 "cells": [
  {
   "cell_type": "markdown",
   "metadata": {},
   "source": [
    "# Generators\n",
    "\n",
    "- Generators are a type of (Subset of) iterators ie. All generators are iterators but all iterators are not generator\n",
    "- They are actually a short and quick way of creating iterators and can be created in one of two ways\n",
    "\n",
    "1. with generator functions which use the yield keyword\n",
    "2. with generator expressions\n",
    "\n",
    "## Generator Functions: \n",
    "Is a way of creating a generator (which is an iterator)\n",
    "\n",
    "| Normal Functions | Generator Functions |\n",
    "|-|-|\n",
    "| use return keyword | use yield keyword |\n",
    "| returns only once and stops execution of function | can yeild multiple times |\n",
    "| When invoked, returns a return value | When invoked, returns a generator |\n",
    "| Once invoked, stops execution and exits function |  Once invoked, pauses execution of the generator function until next() is called |\n",
    "\n",
    "Example A generator function which creates a generator:"
   ]
  },
  {
   "cell_type": "code",
   "execution_count": 16,
   "metadata": {},
   "outputs": [
    {
     "data": {
      "text/plain": [
       "<generator object count_up_to at 0x0000029D12474190>"
      ]
     },
     "execution_count": 16,
     "metadata": {},
     "output_type": "execute_result"
    }
   ],
   "source": [
    "def count_up_to(max):\n",
    "    count = 1\n",
    "    while count <= max:\n",
    "        # when next is called, the statement below will return the value of count and pause \n",
    "        # and stay that way until next() is called again on the generator\n",
    "        yield count\n",
    "        count += 1\n",
    "\n",
    "my_generator = count_up_to(5) # returns a generator:\n",
    "my_generator"
   ]
  },
  {
   "cell_type": "code",
   "execution_count": 17,
   "metadata": {},
   "outputs": [
    {
     "name": "stdout",
     "output_type": "stream",
     "text": [
      "1\n",
      "2\n",
      "3\n",
      "4\n",
      "5\n"
     ]
    }
   ],
   "source": [
    "print(next(my_generator))  # 1 first iteration of while loop. 'yield count' returns 1, goes into secod iteration of while and on yield count again, pauses execution\n",
    "print(next(my_generator))  # 2 Was paused on yield count. 'yield count' returns 2, goes into third iteration of while and on yield count again, pauses execution\n",
    "print(next(my_generator))  # 3\n",
    "print(next(my_generator))  # 4\n",
    "print(next(my_generator))  # 5"
   ]
  },
  {
   "cell_type": "markdown",
   "metadata": {},
   "source": [
    "Since yield returns and pauses, each next keeps track of the current value and returns the next value when next is called again. This happens until the StopIteration error is thrown. If we call it again:"
   ]
  },
  {
   "cell_type": "code",
   "execution_count": 18,
   "metadata": {},
   "outputs": [
    {
     "ename": "StopIteration",
     "evalue": "",
     "output_type": "error",
     "traceback": [
      "\u001b[1;31m---------------------------------------------------------------------------\u001b[0m",
      "\u001b[1;31mStopIteration\u001b[0m                             Traceback (most recent call last)",
      "\u001b[1;32m<ipython-input-18-18c3127b87c1>\u001b[0m in \u001b[0;36m<module>\u001b[1;34m\u001b[0m\n\u001b[1;32m----> 1\u001b[1;33m \u001b[0mprint\u001b[0m\u001b[1;33m(\u001b[0m\u001b[0mnext\u001b[0m\u001b[1;33m(\u001b[0m\u001b[0mmy_generator\u001b[0m\u001b[1;33m)\u001b[0m\u001b[1;33m)\u001b[0m  \u001b[1;31m# StopIteration Error\u001b[0m\u001b[1;33m\u001b[0m\u001b[1;33m\u001b[0m\u001b[0m\n\u001b[0m",
      "\u001b[1;31mStopIteration\u001b[0m: "
     ]
    }
   ],
   "source": [
    "print(next(my_generator))  # StopIteration Error"
   ]
  },
  {
   "cell_type": "markdown",
   "metadata": {},
   "source": [
    "### Generators can be passed to for loop and typecasted to list:"
   ]
  },
  {
   "cell_type": "code",
   "execution_count": 22,
   "metadata": {},
   "outputs": [
    {
     "name": "stdout",
     "output_type": "stream",
     "text": [
      "1\n",
      "2\n",
      "3\n",
      "4\n",
      "5\n"
     ]
    }
   ],
   "source": [
    "my_generator_2 = count_up_to(5) # returns a generator\n",
    "for num in my_generator_2 :\n",
    "    print(num)"
   ]
  },
  {
   "cell_type": "markdown",
   "metadata": {},
   "source": [
    "We can also typecast a generator into a list and get all the values at once. For example, lets create a new generator from the previous generator function and typecast it to a list:"
   ]
  },
  {
   "cell_type": "code",
   "execution_count": 19,
   "metadata": {},
   "outputs": [
    {
     "data": {
      "text/plain": [
       "1"
      ]
     },
     "execution_count": 19,
     "metadata": {},
     "output_type": "execute_result"
    }
   ],
   "source": [
    "my_generator_2 = count_up_to(5) # returns a generator\n",
    "next(my_generator_2)"
   ]
  },
  {
   "cell_type": "code",
   "execution_count": 20,
   "metadata": {},
   "outputs": [
    {
     "data": {
      "text/plain": [
       "[2, 3, 4, 5]"
      ]
     },
     "execution_count": 20,
     "metadata": {},
     "output_type": "execute_result"
    }
   ],
   "source": [
    "list(my_generator_2) "
   ]
  },
  {
   "cell_type": "markdown",
   "metadata": {},
   "source": [
    "> Note: In the above list, 1 is missing as it has already been yielded via next().\n",
    "\n",
    "### All generators are iterators:\n",
    "All generators are iterators but all iterators are not generators (As Iterators define \\_\\_next\\_\\_() methods but generators define it it internaly)\n",
    "\n",
    "### Generators do not yeild the same element twice:\n",
    "\n",
    "Another example, that explains how yield is paused on when next() is called. Here, next() is called on a generator and then it is passed in a for loop. You will see that the loop starts from the last time when next() was called:"
   ]
  },
  {
   "cell_type": "code",
   "execution_count": 21,
   "metadata": {},
   "outputs": [
    {
     "name": "stdout",
     "output_type": "stream",
     "text": [
      "1\n",
      "2\n",
      "3\n",
      "4\n",
      "5\n"
     ]
    }
   ],
   "source": [
    "my_generator3 = count_up_to(5)\n",
    "print(next(my_generator3))  # 1\n",
    "\n",
    "for num in my_generator3:\n",
    "    print(num) # \n",
    "    "
   ]
  },
  {
   "cell_type": "markdown",
   "metadata": {},
   "source": [
    "> Note: Creating an iterable/iterator involves creating a class with \\_\\_iter\\_\\_ () and \\_\\_next\\_\\_() and is a longer way of doing things compared to a generator which is created by a function that calls yield. It has \\_\\_iter\\_\\_() and \\_\\_next\\_\\_() already setup:"
   ]
  },
  {
   "cell_type": "code",
   "execution_count": 6,
   "metadata": {},
   "outputs": [
    {
     "name": "stdout",
     "output_type": "stream",
     "text": [
      "Help on generator object:\n",
      "\n",
      "count_up_to = class generator(object)\n",
      " |  Methods defined here:\n",
      " |  \n",
      " |  __del__(...)\n",
      " |  \n",
      " |  __getattribute__(self, name, /)\n",
      " |      Return getattr(self, name).\n",
      " |  \n",
      " |  __iter__(self, /)\n",
      " |      Implement iter(self).\n",
      " |  \n",
      " |  __next__(self, /)\n",
      " |      Implement next(self).\n",
      " |  \n",
      " |  __repr__(self, /)\n",
      " |      Return repr(self).\n",
      " |  \n",
      " |  close(...)\n",
      " |      close() -> raise GeneratorExit inside generator.\n",
      " |  \n",
      " |  send(...)\n",
      " |      send(arg) -> send 'arg' into generator,\n",
      " |      return next yielded value or raise StopIteration.\n",
      " |  \n",
      " |  throw(...)\n",
      " |      throw(typ[,val[,tb]]) -> raise exception in generator,\n",
      " |      return next yielded value or raise StopIteration.\n",
      " |  \n",
      " |  ----------------------------------------------------------------------\n",
      " |  Data descriptors defined here:\n",
      " |  \n",
      " |  gi_code\n",
      " |  \n",
      " |  gi_frame\n",
      " |  \n",
      " |  gi_running\n",
      " |  \n",
      " |  gi_yieldfrom\n",
      " |      object being iterated by yield from, or None\n",
      "\n"
     ]
    }
   ],
   "source": [
    "help(my_generator)"
   ]
  },
  {
   "cell_type": "markdown",
   "metadata": {},
   "source": [
    "To conclude, a Generator is a way of making an iterator quickly. Takes up less memory and is faster unlike an iterable (like list or string) that holds all the items at once, generator generates (yeilds) one value at a time thus saving lots of memory. It's very similar to range()"
   ]
  },
  {
   "cell_type": "markdown",
   "metadata": {},
   "source": [
    "## Generator expressions:\n",
    "\n",
    "- You can also create generators from generator expressions\n",
    "- generator expressions are to generators and are very similar to what, list comprehensions are to lists, \n",
    "- The main difference is, Generator expressions use () instead of [], used by list comprehensions\n",
    "- It is a very short, simple way to create generators in a single line\n",
    "\n",
    "Suppose we have a very simple generator function:"
   ]
  },
  {
   "cell_type": "code",
   "execution_count": 25,
   "metadata": {},
   "outputs": [
    {
     "data": {
      "text/plain": [
       "<generator object nums at 0x0000029D12474510>"
      ]
     },
     "execution_count": 25,
     "metadata": {},
     "output_type": "execute_result"
    }
   ],
   "source": [
    "def nums():\n",
    "    for num in range(1,10):\n",
    "        yield num\n",
    "\n",
    "g = nums()\n",
    "g # g is a genrator object derived from a generator function"
   ]
  },
  {
   "cell_type": "code",
   "execution_count": 24,
   "metadata": {},
   "outputs": [
    {
     "name": "stdout",
     "output_type": "stream",
     "text": [
      "1\n",
      "2\n",
      "3\n"
     ]
    }
   ],
   "source": [
    "print(next(g))\n",
    "print(next(g))\n",
    "print(next(g))"
   ]
  },
  {
   "cell_type": "markdown",
   "metadata": {},
   "source": [
    "We can do the same using a generator expressions as follows: (Please see list comprehensions in previous classes)"
   ]
  },
  {
   "cell_type": "code",
   "execution_count": 26,
   "metadata": {},
   "outputs": [
    {
     "data": {
      "text/plain": [
       "<generator object <genexpr> at 0x0000029D124749E0>"
      ]
     },
     "execution_count": 26,
     "metadata": {},
     "output_type": "execute_result"
    }
   ],
   "source": [
    "g = (num for num in range(1, 10))\n",
    "g # g is a generator object derived from a generator expression which is the same as the g derived above"
   ]
  },
  {
   "cell_type": "code",
   "execution_count": 27,
   "metadata": {},
   "outputs": [
    {
     "name": "stdout",
     "output_type": "stream",
     "text": [
      "1\n",
      "2\n",
      "3\n"
     ]
    }
   ],
   "source": [
    "print(next(g))\n",
    "print(next(g))\n",
    "print(next(g))"
   ]
  },
  {
   "cell_type": "markdown",
   "metadata": {},
   "source": [
    "We will now compare the time it takes summing up numbers from 1 to 100 using different techniques. FOr example:\n",
    "using sum() \n",
    "to add a lists\n",
    "using generators:"
   ]
  },
  {
   "cell_type": "code",
   "execution_count": 29,
   "metadata": {},
   "outputs": [
    {
     "name": "stdout",
     "output_type": "stream",
     "text": [
      "4999999950000000\n",
      "4999999950000000\n",
      "11.108941316604614\n",
      "sum([n for n in range(10000000)]) took: 16.44905185699463\n",
      "sum(n for n in range(10000000)) took: 11.108941316604614\n"
     ]
    }
   ],
   "source": [
    "import time\n",
    "\n",
    "# Using sum\n",
    "# SUMMING 10,000,000 Digits With List Comprehension\n",
    "start_time = time.time() # get the start time\n",
    "a_list = [n for n in range(100000000)] # use list comprehension to get a list from 1 to 10,000,000\n",
    "print(sum(a_list))\n",
    "total_time_list = time.time() - start_time # calculate total time\n",
    "\n",
    "\n",
    "# Ysing a generator expression\n",
    "# SUMMING 10,000,000 Digits With Generator Expression\n",
    "start_time = time.time()  # save start time\n",
    "print(sum(n for n in range(100000000))) # use list comprehension to yield numbers from 1 to 10,000,000\n",
    "total_time_gen = time.time() - start_time # calculate total time\n",
    "print(total_time_gen)\n",
    "\n",
    "print(f\"sum([n for n in range(10000000)]) took: {total_time_list}\")\n",
    "print(f\"sum(n for n in range(10000000)) took: {total_time_gen}\")\n",
    "\n"
   ]
  },
  {
   "cell_type": "markdown",
   "metadata": {},
   "source": [
    "> Note: Please wait for the above output to run and print the output. There is a difference of about 4-5 seconds\n",
    "\n",
    "This is because in the first block, python has to create the entire list then add that entire list whereas in the second block, the entire list is not generated. It is yeilded one at a time and added."
   ]
  }
 ],
 "metadata": {
  "kernelspec": {
   "display_name": "Python 3 (ipykernel)",
   "language": "python",
   "name": "python3"
  },
  "language_info": {
   "codemirror_mode": {
    "name": "ipython",
    "version": 3
   },
   "file_extension": ".py",
   "mimetype": "text/x-python",
   "name": "python",
   "nbconvert_exporter": "python",
   "pygments_lexer": "ipython3",
   "version": "3.8.10"
  }
 },
 "nbformat": 4,
 "nbformat_minor": 4
}
