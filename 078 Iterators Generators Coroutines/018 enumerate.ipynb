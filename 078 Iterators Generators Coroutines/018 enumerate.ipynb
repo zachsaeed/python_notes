{
 "cells": [
  {
   "cell_type": "markdown",
   "id": "a4649fc8-f1ae-444a-ab16-9df2b8e799ec",
   "metadata": {},
   "source": [
    "# enumerate() method\n",
    "\n",
    "In Python, a for or while loop is usually written as a loop over an iterable object. This means you don’t need a counting variable to access items in the iterable. Sometimes, though, you do want to have a variable that changes on each loop iteration. Rather than creating and incrementing a variable yourself, you can use Python’s enumerate() to get a counter and the value from the iterable at the same time!\n",
    "\n",
    "## Iterating With for Loops in Python\n",
    "A for loop in Python uses collection-based iteration. This means that Python assigns the next item from an iterable to the loop variable on every iteration, like in this example:"
   ]
  },
  {
   "cell_type": "code",
   "execution_count": 35,
   "id": "3e5aa0e1-d515-4d70-9612-3365a839e5a7",
   "metadata": {},
   "outputs": [
    {
     "name": "stdout",
     "output_type": "stream",
     "text": [
      "a\n",
      "b\n",
      "c\n"
     ]
    }
   ],
   "source": [
    "lst_values = [\"a\", \"b\", \"c\"]\n",
    "for value in lst_values:\n",
    "    print(value)    "
   ]
  },
  {
   "cell_type": "markdown",
   "id": "4757a8e7-d7bb-45ed-aa7d-3a4f504c6f8f",
   "metadata": {},
   "source": [
    "On each iteration of the loop, var 'value' is set to the next item from the list var 'lst_values'.\n",
    "\n",
    "> Issue with this approach: The advantage of collection-based iteration is that it helps avoid the off-by-one error that is common in other programming languages.\n",
    "\n",
    "Now imagine that, in addition to the value itself, you want to print the index of the item in the list to the screen on every iteration. One way to approach this task is to create a variable to store the index and update it on each iteration:"
   ]
  },
  {
   "cell_type": "code",
   "execution_count": 36,
   "id": "481fd24d-dc1f-459f-a7d4-cd95a344f153",
   "metadata": {},
   "outputs": [
    {
     "name": "stdout",
     "output_type": "stream",
     "text": [
      "0 a\n",
      "1 b\n",
      "2 c\n"
     ]
    }
   ],
   "source": [
    "counter = 0\n",
    "\n",
    "for value in lst_values:\n",
    "    print(counter, value)\n",
    "    counter += 1"
   ]
  },
  {
   "cell_type": "markdown",
   "id": "dca631ce-e278-4c7a-a529-51adb50ea06d",
   "metadata": {},
   "source": [
    "> Issue with this approach: A common bug occurs when you forget to update index on each iteration:"
   ]
  },
  {
   "cell_type": "code",
   "execution_count": 37,
   "id": "dd2efcd8-bf54-4bf6-b1b1-23c2f921bac5",
   "metadata": {},
   "outputs": [
    {
     "name": "stdout",
     "output_type": "stream",
     "text": [
      "0 a\n",
      "0 b\n",
      "0 c\n"
     ]
    }
   ],
   "source": [
    "index = 0\n",
    "\n",
    "for value in lst_values:\n",
    "    print(index, value)"
   ]
  },
  {
   "cell_type": "markdown",
   "id": "a5c732ee-7eb6-4367-b185-064a434b6c23",
   "metadata": {},
   "source": [
    "In the above example, index stays at 0 on every iteration because there’s no code to update its value at the end of the loop. Particularly for long or complicated loops, this kind of bug is notoriously hard to track down.\n",
    "\n",
    "Another common way to approach this problem is to use range() combined with len() to create an index automatically. This way, you don’t need to remember to update the index:"
   ]
  },
  {
   "cell_type": "code",
   "execution_count": 38,
   "id": "cf67db0f-04a1-46ea-bd7a-c906d982b62a",
   "metadata": {},
   "outputs": [
    {
     "name": "stdout",
     "output_type": "stream",
     "text": [
      "0 a\n",
      "1 b\n",
      "2 c\n"
     ]
    }
   ],
   "source": [
    "for index in range(len(lst_values)):\n",
    "    value = lst_values[index]\n",
    "    print(index, value)"
   ]
  },
  {
   "cell_type": "markdown",
   "id": "2405116c-b9a8-42e1-a466-3dc42b26aedc",
   "metadata": {},
   "source": [
    "In this example, len(values) returns the length of values, which is 3. Then range() creates an iterator running from the default starting value of 0 until it reaches len(values) minus one. 'index' becomes your loop variable. In the loop, you set 'value' equal to the item in 'values' at the current value of 'index'. Finally, you print index and value.\n",
    "\n",
    "> Issue with this approach: one common bug that can occur is when you forget to update value at the beginning of each iteration. This is similar to the previous bug of forgetting to update the index. This is one reason that this loop isn’t considered Pythonic. Also, This example is also somewhat restricted because values has to allow access to its items using integer indices. Iterables that allow this kind of access are called sequences in Python.\n",
    "\n",
    "\n",
    "**Technical Detail:** According to the Python documentation, an iterable is any object that can return its members one at a time. By definition, iterables support the iterator protocol, which specifies how object members are returned when an object is used in an iterator. Python has two commonly used types of iterables:\n",
    "\n",
    "Sequences\n",
    "Generators\n",
    "Any iterable can be used in a for loop, but only sequences can be accessed by integer indices. Trying to access items by index from a generator or an iterator will raise a TypeError:"
   ]
  },
  {
   "cell_type": "code",
   "execution_count": 39,
   "id": "dacf966a-9d60-4291-bd70-525f5f9fc877",
   "metadata": {},
   "outputs": [],
   "source": [
    "# enum = enumerate(values)\n",
    "# print(enum[0])\n",
    "\n",
    "# Traceback (most recent call last):\n",
    "#   File \"<stdin>\", line 1, in <module>\n",
    "# TypeError: 'enumerate' object is not subscriptable"
   ]
  },
  {
   "cell_type": "markdown",
   "id": "18af6eaa-5277-4dfb-b930-3e7bb408ec68",
   "metadata": {},
   "source": [
    "In this example, you assign the return value of enumerate() to enum. enumerate() is an iterator, so attempting to access its values by index raises a TypeError.\n",
    "    \n",
    "\n",
    "# enumerate(iterable, start=0)\n",
    "\n",
    "Fortunately, Python’s enumerate() lets you avoid all these problems. It’s a built-in function, which means that it’s been available in every version of Python since it was added in Python 2.3, way back in 2003.\n",
    "\n",
    "## Using Python’s enumerate(iterable)\n",
    "You can use enumerate() in a loop in almost the same way that you use the original iterable object. Instead of putting the iterable directly after *in* in the *for* loop, you put it inside the parentheses of enumerate(). You also have to change the loop variable a little bit, as shown in this example:"
   ]
  },
  {
   "cell_type": "code",
   "execution_count": 40,
   "id": "4140f7fd-fbcf-427b-98b6-068380c89a11",
   "metadata": {},
   "outputs": [
    {
     "name": "stdout",
     "output_type": "stream",
     "text": [
      "0 a\n",
      "1 b\n",
      "2 c\n"
     ]
    }
   ],
   "source": [
    "for count, value in enumerate(lst_values):\n",
    "    print(count, value)"
   ]
  },
  {
   "cell_type": "markdown",
   "id": "8fa3dcc8-54f1-427e-abba-3a7f213bf6a2",
   "metadata": {},
   "source": [
    "When you use enumerate(), the function gives you back two loop variables:\n",
    "\n",
    "1. The **count** of the current iteration\n",
    "2. The **value** of the item at the current iteration\n",
    "\n",
    "Just like with a normal for loop, the loop variables can be named whatever you want them to be named. You use count and value in this example, but they could be named i and v or any other valid Python names.\n",
    "\n",
    "With enumerate(), you don’t need to remember to access the item from the iterable, and you don’t need to remember to advance the index at the end of the loop. Everything is automatically handled for you by the magic of Python!\n",
    "\n",
    "**Technical Details:** The use of the two loop variables, count and value, separated by a comma is an example of argument unpacking. This powerful Python feature has been discussed in the functions section of this tutorial.\n",
    "\n",
    "## Using Python’s enumerate(iterable, start=0):\n",
    "Python’s enumerate() has one additional argument that you can use to control the starting value of the count. By default, the starting value is 0 because Python sequence types are indexed starting with zero. In other words, when you want to retrieve the first element of a list, you use index 0:"
   ]
  },
  {
   "cell_type": "code",
   "execution_count": 41,
   "id": "ca971985-bb03-42da-af8c-5f7d08181bea",
   "metadata": {},
   "outputs": [
    {
     "name": "stdout",
     "output_type": "stream",
     "text": [
      "a\n"
     ]
    }
   ],
   "source": [
    "print(lst_values[0])"
   ]
  },
  {
   "cell_type": "markdown",
   "id": "73c42d80-bdd2-4e27-9023-6c4ba6edbca9",
   "metadata": {},
   "source": [
    "You can see in this example that accessing values with the index 0 gives the first element, a. However, there are many times when you might not want the count from enumerate() to start at 0. For instance, you might want to print a natural counting number as an output for the user. In this case, you can use the start argument for enumerate() to change the starting count:"
   ]
  },
  {
   "cell_type": "code",
   "execution_count": 42,
   "id": "bb1538f3-2daf-4b54-869d-df2692c5d553",
   "metadata": {},
   "outputs": [
    {
     "name": "stdout",
     "output_type": "stream",
     "text": [
      "1 a\n",
      "2 b\n",
      "3 c\n"
     ]
    }
   ],
   "source": [
    "for count, value in enumerate(lst_values, start=1):\n",
    "    print(count, value)"
   ]
  },
  {
   "cell_type": "markdown",
   "id": "63673d8a-1bcc-4108-ad0b-bf5d29e0c71c",
   "metadata": {},
   "source": [
    "In this example, you pass start=1, which starts count with the value 1 on the first loop iteration. Compare this with the previous examples, in which start had the default value of 0, and see whether you can spot the difference.\n",
    "\n",
    "## Practicing With Python enumerate()\n",
    "You should use enumerate() anytime you need to use the count and an item in a loop. Keep in mind that enumerate() increments the count by one on every iteration. However, this only slightly limits your flexibility. Since the count is a standard Python integer, you can use it in many ways. In the next few sections, you’ll see some uses of enumerate().\n",
    "\n"
   ]
  },
  {
   "cell_type": "markdown",
   "id": "b3f29a89-a568-48cc-8848-5c0a0a176304",
   "metadata": {},
   "source": [
    "### Conditional Statements to Skip Items\n",
    "Using conditional statements to process items can be a very powerful technique. Sometimes you might need to perform an action on only the very first iteration of a loop, as in this example:"
   ]
  },
  {
   "cell_type": "code",
   "execution_count": 43,
   "id": "5ee5ce92-5aa5-4a39-bac2-38dfe86e1bf8",
   "metadata": {},
   "outputs": [
    {
     "name": "stdout",
     "output_type": "stream",
     "text": [
      "Extra verbose output for: Test User\n",
      "Test User\n",
      "Real User 1\n",
      "Real User 2\n"
     ]
    }
   ],
   "source": [
    "users = [\"Test User\", \"Real User 1\", \"Real User 2\"]\n",
    "for index, user in enumerate(users):\n",
    "    if index == 0:\n",
    "        print(\"Extra verbose output for:\", user)\n",
    "    print(user)"
   ]
  },
  {
   "cell_type": "markdown",
   "id": "04c06c4e-6410-4d00-b52f-e2e2616eac88",
   "metadata": {},
   "source": [
    "In this example, you use a list as a mock database of users. The first user is your testing user, so you want to print extra diagnostic information about that user. Since you’ve set up your system so that the test user is first, you can use the first index value of the loop to print extra verbose output.\n",
    "\n",
    "You can also combine mathematical operations with conditions for the count or index. For instance, you might need to return items from an iterable, but only if they have an even index. You can do this by using enumerate():"
   ]
  },
  {
   "cell_type": "code",
   "execution_count": 44,
   "id": "14bc103e-4442-4364-a421-bcb14fd07b86",
   "metadata": {},
   "outputs": [],
   "source": [
    "def even_items(iterable):\n",
    "    \"\"\"Return items from ``iterable`` when their index is even.\"\"\"\n",
    "    lst_values = []\n",
    "    for index, value in enumerate(iterable, start=1):\n",
    "        if not index % 2:\n",
    "            lst_values.append(value)\n",
    "    return lst_values"
   ]
  },
  {
   "cell_type": "markdown",
   "id": "464b74d2-dae5-40fa-bd9e-1d6bac34c0ad",
   "metadata": {},
   "source": [
    "even_items() takes one argument, called iterable, that should be some type of object that Python can loop over. First, values is initialized to be an empty list. Then you create a for loop over iterable with enumerate() and set start=1.\n",
    "\n",
    "Within the for loop, you check whether the remainder of dividing index by 2 is zero. If it is, then you append the item to values. Finally, you return values.\n",
    "\n",
    "You can make the code more Pythonic by using a list comprehension to do the same thing in one line without initializing the empty list:"
   ]
  },
  {
   "cell_type": "code",
   "execution_count": 45,
   "id": "1e8ccf83-2e86-4536-a9e3-f2518f758215",
   "metadata": {},
   "outputs": [],
   "source": [
    "def even_items(iterable):\n",
    "    return [v for i, v in enumerate(iterable, start=1) if not i % 2]"
   ]
  },
  {
   "cell_type": "markdown",
   "id": "f2f400dc-0a03-4f9a-90db-be09fe2834fa",
   "metadata": {},
   "source": [
    "In this example code, even_items() uses a list comprehension rather than a for loop to extract every item from the list whose index is an even number.\n",
    "\n",
    "You can verify that even_items() works as expected by getting the even-indexed items from a range of integers from 1 to 10. The result will be [2, 4, 6, 8, 10]:"
   ]
  },
  {
   "cell_type": "code",
   "execution_count": 46,
   "id": "8e542d6a-1d38-45f3-a6a8-93a08b9bb2e7",
   "metadata": {},
   "outputs": [
    {
     "name": "stdout",
     "output_type": "stream",
     "text": [
      "[1, 2, 3, 4, 5, 6, 7, 8, 9, 10]\n"
     ]
    },
    {
     "data": {
      "text/plain": [
       "[2, 4, 6, 8, 10]"
      ]
     },
     "execution_count": 46,
     "metadata": {},
     "output_type": "execute_result"
    }
   ],
   "source": [
    "seq = list(range(1, 11))\n",
    "print(seq)\n",
    "even_items(seq)"
   ]
  },
  {
   "cell_type": "markdown",
   "id": "2fd5e92d-03c2-4ae5-bbfe-380fe523376e",
   "metadata": {},
   "source": [
    "As expected, even_items() returns the even-indexed items from seq. This isn’t the most efficient way to get the even numbers when you’re working with integers. However, now that you’ve verified that even_items() works properly, you can get the even-indexed letters of the ASCII alphabet:"
   ]
  },
  {
   "cell_type": "code",
   "execution_count": 47,
   "id": "458b7b29-01bd-4f05-bc2c-634047d80415",
   "metadata": {},
   "outputs": [
    {
     "data": {
      "text/plain": [
       "['b', 'd', 'f', 'h', 'j', 'l', 'n', 'p', 'r', 't', 'v', 'x', 'z']"
      ]
     },
     "execution_count": 47,
     "metadata": {},
     "output_type": "execute_result"
    }
   ],
   "source": [
    "alphabet = \"abcdefghijklmnopqrstuvwxyz\"\n",
    "even_items(alphabet)"
   ]
  },
  {
   "cell_type": "markdown",
   "id": "8d88aa47-733d-42ec-a702-ac4b8591cc0a",
   "metadata": {},
   "source": [
    "alphabet is a string that has all twenty-six lowercase letters of the ASCII alphabet. Calling even_items() and passing alphabet returns a list of alternating letters from the alphabet.\n",
    "\n",
    "Python strings are sequences, which can be used in loops as well as in integer indexing and slicing. So in the case of strings, you can use square brackets to achieve the same functionality as even_items() more efficiently:"
   ]
  },
  {
   "cell_type": "code",
   "execution_count": 48,
   "id": "36c5a558-6116-41a4-abae-ef9f71609ebf",
   "metadata": {},
   "outputs": [
    {
     "data": {
      "text/plain": [
       "['b', 'd', 'f', 'h', 'j', 'l', 'n', 'p', 'r', 't', 'v', 'x', 'z']"
      ]
     },
     "execution_count": 48,
     "metadata": {},
     "output_type": "execute_result"
    }
   ],
   "source": [
    "list(alphabet[1::2])"
   ]
  },
  {
   "cell_type": "markdown",
   "id": "800e9596-5cc7-4a33-840e-eb7c8de8a04e",
   "metadata": {},
   "source": [
    "Using string slicing here, you give the starting index 1, which corresponds to the second element. There’s no ending index after the first colon, so Python goes to the end of the string. Then you add the second colon followed by a 2 so that Python will take every other element.\n",
    "\n",
    "However, as you saw earlier, generators and iterators can’t be indexed or sliced, so you’ll still find enumerate() useful. To continue the previous example, you can create a generator function that yields letters of the alphabet on demand:"
   ]
  },
  {
   "cell_type": "code",
   "execution_count": 49,
   "id": "06c0417d-4eb2-4ddd-a991-1d14ddb6f248",
   "metadata": {},
   "outputs": [
    {
     "data": {
      "text/plain": [
       "'\\nTraceback (most recent call last):\\n  File \"<stdin>\", line 1, in <module>\\nTypeError: \\'function\\' object is not subscriptable\\n'"
      ]
     },
     "execution_count": 49,
     "metadata": {},
     "output_type": "execute_result"
    }
   ],
   "source": [
    "def alphabet():\n",
    "    alpha = \"abcdefghijklmnopqrstuvwxyz\"\n",
    "    for a in alpha:\n",
    "        yield a\n",
    "        \n",
    "# alpha[1::2] # cannot be sliced. will throw error:\n",
    "'''\n",
    "Traceback (most recent call last):\n",
    "  File \"<stdin>\", line 1, in <module>\n",
    "TypeError: 'function' object is not subscriptable\n",
    "'''"
   ]
  },
  {
   "cell_type": "code",
   "execution_count": 50,
   "id": "ade9ac18-5445-4ca5-8f4d-6b8e672b77ca",
   "metadata": {},
   "outputs": [
    {
     "data": {
      "text/plain": [
       "['b', 'd', 'f', 'h', 'j', 'l', 'n', 'p', 'r', 't', 'v', 'x', 'z']"
      ]
     },
     "execution_count": 50,
     "metadata": {},
     "output_type": "execute_result"
    }
   ],
   "source": [
    "even_items(alphabet())"
   ]
  },
  {
   "cell_type": "markdown",
   "id": "fb260ad6-2958-46b0-a80b-06f3d66be2b3",
   "metadata": {},
   "source": [
    "In this example, you define alphabet(), a generator function that yields letters of the alphabet one-by-one when the function is used in a loop. Python functions, whether generators or regular functions, can’t be accessed by the square bracket indexing. You try this out on the second line, and it raises a TypeError.\n",
    "\n",
    "You can use generator functions in loops, though, and you do so on the last line by passing alphabet() to even_items(). You can see that the result is the same as the previous two examples.\n",
    "\n",
    "### Understanding Python enumerate()\n",
    "In the last few sections, you saw examples of when and how to use enumerate() to your advantage. Now that you’ve got a handle on the practical aspects of enumerate(), you can learn more about how the function works internally.\n",
    "\n",
    "To get a better sense of how enumerate() works, you can implement your own version with Python. Your version of enumerate() has two requirements. It should:\n",
    "1. Accept an iterable and a starting count value as arguments\n",
    "2. Send back a tuple with the current count value and the associated item from the iterable\n",
    "One way to write a function meeting these specifications is given in the Python documentation:"
   ]
  },
  {
   "cell_type": "code",
   "execution_count": 51,
   "id": "3f0a9a5e-6b8e-4fb1-a05f-da8eae16a3dc",
   "metadata": {},
   "outputs": [],
   "source": [
    "def my_enumerate(sequence, start=0):\n",
    "    n = start\n",
    "    for elem in sequence:\n",
    "        yield n, elem\n",
    "        n += 1"
   ]
  },
  {
   "cell_type": "markdown",
   "id": "74c15f5f-33d1-41fa-a874-f08c7797bc77",
   "metadata": {},
   "source": [
    "my_enumerate() takes two arguments, sequence and start. The default value of start is 0. Inside the function definition, you initialize n to be the value of start and run a for loop over the sequence.\n",
    "\n",
    "For each elem in sequence, you yield control back to the calling location and send back the current values of n and elem. Finally, you increment n to get ready for the next iteration. You can see my_enumerate() in action here:"
   ]
  },
  {
   "cell_type": "code",
   "execution_count": 52,
   "id": "390fa8f0-029d-41a1-bac0-3110681e63e7",
   "metadata": {},
   "outputs": [
    {
     "data": {
      "text/plain": [
       "<generator object my_enumerate at 0x0000024EB0D0B2E0>"
      ]
     },
     "execution_count": 52,
     "metadata": {},
     "output_type": "execute_result"
    }
   ],
   "source": [
    "seasons = [\"Spring\", \"Summer\", \"Fall\", \"Winter\"]\n",
    "my_enumerate(seasons)"
   ]
  },
  {
   "cell_type": "code",
   "execution_count": 53,
   "id": "ec37e9f4-a745-48d8-8af9-0bfdb8055f19",
   "metadata": {},
   "outputs": [
    {
     "data": {
      "text/plain": [
       "[(0, 'Spring'), (1, 'Summer'), (2, 'Fall'), (3, 'Winter')]"
      ]
     },
     "execution_count": 53,
     "metadata": {},
     "output_type": "execute_result"
    }
   ],
   "source": [
    "list(my_enumerate(seasons))"
   ]
  },
  {
   "cell_type": "code",
   "execution_count": 54,
   "id": "31b2da34-6959-48b9-b2a5-caa4f5a288f8",
   "metadata": {},
   "outputs": [
    {
     "data": {
      "text/plain": [
       "[(1, 'Spring'), (2, 'Summer'), (3, 'Fall'), (4, 'Winter')]"
      ]
     },
     "execution_count": 54,
     "metadata": {},
     "output_type": "execute_result"
    }
   ],
   "source": [
    "list(my_enumerate(seasons, start=1))"
   ]
  },
  {
   "cell_type": "markdown",
   "id": "3193311e-aebe-4bc8-80ed-0fca70393761",
   "metadata": {},
   "source": [
    "First, you create a list of the four seasons to work with. Next, you show that calling my_enumerate() with seasons as the sequence creates a generator object. This is because you use the yield keyword to send values back to the caller.\n",
    "\n",
    "Finally, you create two lists from my_enumerate(), one in which the start value is left as the default, 0, and one in which start is changed to 1. In both cases, you end up with a list of tuples in which the first element of each tuple is the count and the second element is the value from seasons.\n",
    "\n",
    "Although you can implement an equivalent function for enumerate() in only a few lines of Python code, the actual code for enumerate() is written in C. This means that it’s super fast and efficient.\n",
    "\n",
    "### Unpacking Arguments With enumerate()\n",
    "When you use enumerate() in a for loop, you tell Python to use two variables, one for the count and one for the value itself. You’re able to do this by using a Python concept called argument unpacking.\n",
    "\n",
    "Argument unpacking is the idea that a tuple can be split into several variables depending on the length of the sequence. For instance, you can unpack a tuple of two elements into two variables:"
   ]
  },
  {
   "cell_type": "code",
   "execution_count": 55,
   "id": "6bea34a7-23e6-4bb0-bbac-36213ee41e85",
   "metadata": {},
   "outputs": [
    {
     "data": {
      "text/plain": [
       "10"
      ]
     },
     "execution_count": 55,
     "metadata": {},
     "output_type": "execute_result"
    }
   ],
   "source": [
    "tuple_2 = (10, \"a\")\n",
    "first_elem, second_elem = tuple_2\n",
    "first_elem"
   ]
  },
  {
   "cell_type": "code",
   "execution_count": 56,
   "id": "a925488f-8f44-4c6e-8d13-3a0fc865a343",
   "metadata": {},
   "outputs": [
    {
     "data": {
      "text/plain": [
       "'a'"
      ]
     },
     "execution_count": 56,
     "metadata": {},
     "output_type": "execute_result"
    }
   ],
   "source": [
    "second_elem"
   ]
  },
  {
   "cell_type": "markdown",
   "id": "9ee02db6-5314-439e-b36f-4f0551a6474e",
   "metadata": {},
   "source": [
    "First, you create a tuple with two elements, 10 and \"a\". Then you unpack that tuple into first_elem and second_elem, which are each assigned one of the values from the tuple.\n",
    "\n",
    "When you call enumerate() and pass a sequence of values, Python returns an iterator. When you ask the iterator for its next value, it yields a tuple with two elements. The first element of the tuple is the count, and the second element is the value from the sequence that you passed:"
   ]
  },
  {
   "cell_type": "code",
   "execution_count": 57,
   "id": "6d7e5c02-1c9e-4475-b87b-bd17a193e7f9",
   "metadata": {},
   "outputs": [
    {
     "data": {
      "text/plain": [
       "<enumerate at 0x24eb0cefd40>"
      ]
     },
     "execution_count": 57,
     "metadata": {},
     "output_type": "execute_result"
    }
   ],
   "source": [
    "values = [\"a\", \"b\"]\n",
    "enum_instance = enumerate(values)\n",
    "enum_instance"
   ]
  },
  {
   "cell_type": "code",
   "execution_count": 58,
   "id": "454c3eb3-bc45-4123-8219-01f6d8995983",
   "metadata": {},
   "outputs": [
    {
     "data": {
      "text/plain": [
       "(0, 'a')"
      ]
     },
     "execution_count": 58,
     "metadata": {},
     "output_type": "execute_result"
    }
   ],
   "source": [
    "next(enum_instance)"
   ]
  },
  {
   "cell_type": "code",
   "execution_count": 59,
   "id": "4d4f9b57-0981-44d4-9799-8d6f467546fd",
   "metadata": {},
   "outputs": [
    {
     "data": {
      "text/plain": [
       "(1, 'b')"
      ]
     },
     "execution_count": 59,
     "metadata": {},
     "output_type": "execute_result"
    }
   ],
   "source": [
    "next(enum_instance)"
   ]
  },
  {
   "cell_type": "code",
   "execution_count": 60,
   "id": "09711c0f-f70c-4065-8f17-905fb35e9a02",
   "metadata": {},
   "outputs": [
    {
     "data": {
      "text/plain": [
       "'\\n---------------------------------------------------------------------------\\nStopIteration                             Traceback (most recent call last)\\n<ipython-input-29-9073f4b61d8b> in <module>\\n----> 1 next(enum_instance)\\n\\nStopIteration:\\n'"
      ]
     },
     "execution_count": 60,
     "metadata": {},
     "output_type": "execute_result"
    }
   ],
   "source": [
    "# next(enum_instance) Will throw an error\n",
    "'''\n",
    "---------------------------------------------------------------------------\n",
    "StopIteration                             Traceback (most recent call last)\n",
    "<ipython-input-29-9073f4b61d8b> in <module>\n",
    "----> 1 next(enum_instance)\n",
    "\n",
    "StopIteration:\n",
    "'''"
   ]
  },
  {
   "cell_type": "markdown",
   "id": "e3659014-8efa-4868-b7b9-882d713b11f5",
   "metadata": {},
   "source": [
    "In this example, you create a list called values with two elements, \"a\" and \"b\". Then you pass values to enumerate() and assign the return value to enum_instance. When you print enum_instance, you can see that it’s an instance of enumerate() with a particular memory address.\n",
    "\n",
    "Then you use Python’s built-in next() to get the next value from enum_instance. The first value that enum_instance returns is a tuple with the count 0 and the first element from values, which is \"a\".\n",
    "\n",
    "Calling next() again on enum_instance yields another tuple, this time with the count 1 and the second element from values, \"b\". Finally, calling next() one more time raises StopIteration since there are no more values to be returned from enum_instance.\n",
    "\n",
    "When an iterable is used in a for loop, Python automatically calls next() at the start of every iteration until StopIteration is raised. Python assigns the value it retrieves from the iterable to the loop variable.\n",
    "\n",
    "If an iterable returns a tuple, then you can use argument unpacking to assign the elements of the tuple to multiple variables. This is what you did earlier in this tutorial by using two loop variables.\n",
    "\n",
    "Another time you might have seen argument unpacking with a for loop is with the built-in zip(), which allows you to iterate through two or more sequences at the same time. On each iteration, zip() returns a tuple that collects the elements from all the sequences that were passed:"
   ]
  },
  {
   "cell_type": "code",
   "execution_count": 61,
   "id": "505fae34-9858-4fe8-8c01-8a1221accd3f",
   "metadata": {},
   "outputs": [
    {
     "name": "stdout",
     "output_type": "stream",
     "text": [
      "a d g\n",
      "b e h\n",
      "c f i\n"
     ]
    }
   ],
   "source": [
    "first = [\"a\", \"b\", \"c\"]\n",
    "second = [\"d\", \"e\", \"f\"]\n",
    "third = [\"g\", \"h\", \"i\"]\n",
    "for one, two, three in zip(first, second, third):\n",
    "    print(one, two, three)"
   ]
  },
  {
   "cell_type": "markdown",
   "id": "44ced5f0-54be-4f8a-888c-0418948d1aab",
   "metadata": {},
   "source": [
    "By using zip(), you can iterate through first, second, and third at the same time. In the for loop, you assign the element from first to one, from second to two, and from third to three. Then you print the three values.\n",
    "\n",
    "You can combine zip() and enumerate() by using nested argument unpacking:"
   ]
  },
  {
   "cell_type": "code",
   "execution_count": 62,
   "id": "a51c79b7-2d44-4b6d-8fe9-ac016718c4be",
   "metadata": {},
   "outputs": [
    {
     "name": "stdout",
     "output_type": "stream",
     "text": [
      "0 a d g\n",
      "1 b e h\n",
      "2 c f i\n"
     ]
    }
   ],
   "source": [
    "for count, (one, two, three) in enumerate(zip(first, second, third)):\n",
    "    print(count, one, two, three)"
   ]
  },
  {
   "cell_type": "markdown",
   "id": "45147c3a-f37b-4703-8555-a0879948c011",
   "metadata": {},
   "source": [
    "In the for loop in this example, you nest zip() inside enumerate(). This means that each time the for loop iterates, enumerate() yields a tuple with the first value as the count and the second value as another tuple containing the elements from the arguments to zip(). To unpack the nested structure, you need to add parentheses to capture the elements from the nested tuple of elements from zip().\n",
    "\n",
    "There are other ways to emulate the behavior of enumerate() combined with zip(). One method uses itertools.count(), which returns consecutive integers by default, starting at zero. You can change the previous example to use itertools.count():"
   ]
  },
  {
   "cell_type": "code",
   "execution_count": 63,
   "id": "99ffdb76-31c0-40f9-898a-7353434ca768",
   "metadata": {},
   "outputs": [
    {
     "name": "stdout",
     "output_type": "stream",
     "text": [
      "0 a d g\n",
      "1 b e h\n",
      "2 c f i\n"
     ]
    }
   ],
   "source": [
    "import itertools\n",
    "for count, one, two, three in zip(itertools.count(), first, second, third):\n",
    "    print(count, one, two, three)"
   ]
  },
  {
   "cell_type": "markdown",
   "id": "b8552739-f55c-4d6d-b8b6-f7533d364969",
   "metadata": {},
   "source": [
    "Using itertools.count() in this example allows you to use a single zip() call to generate the count as well as the loop variables without nested argument unpacking.\n",
    "\n",
    "## Conclusion\n",
    "Python’s enumerate() lets you write Pythonic for loops when you need a count and the value from an iterable. The big advantage of enumerate() is that it returns a tuple with the counter and value, so you don’t have to increment the counter yourself. It also gives you the option to change the starting value for the counter."
   ]
  },
  {
   "cell_type": "code",
   "execution_count": null,
   "id": "25fbecdd-4018-47ca-8669-88366645ae61",
   "metadata": {},
   "outputs": [],
   "source": []
  }
 ],
 "metadata": {
  "kernelspec": {
   "display_name": "Python 3 (ipykernel)",
   "language": "python",
   "name": "python3"
  },
  "language_info": {
   "codemirror_mode": {
    "name": "ipython",
    "version": 3
   },
   "file_extension": ".py",
   "mimetype": "text/x-python",
   "name": "python",
   "nbconvert_exporter": "python",
   "pygments_lexer": "ipython3",
   "version": "3.8.10"
  }
 },
 "nbformat": 4,
 "nbformat_minor": 5
}
