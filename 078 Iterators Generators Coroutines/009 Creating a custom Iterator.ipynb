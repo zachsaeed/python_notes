{
 "cells": [
  {
   "cell_type": "markdown",
   "id": "0931e3b0",
   "metadata": {},
   "source": [
    "# Custom Iterables\n",
    "\n",
    "Python already has a number of iterables like list, string tuple dictionaries etc. We can create our own iterable datatypes (classes) aswell.\n",
    "\n",
    "For an object to be an iterable, we should be able to call the iter() function on it ie it should have a dunder method \\_\\_iter\\_\\_() defined in it which will return an iterable object ie iter(iterable_obj) calls the dunder iterable_obj.\\_\\_iter\\_\\_().\n",
    "\n",
    "Similarly, for an object to be an iterator, we should be able to call the next() function on it i.e. it should have the dunder method \\_\\_next\\_\\_ defined in it which will return an element/item from the collection ie next(iterator_obj) calls the dunder iterator_obj.\\_\\_iter\\_\\_().\n",
    "\n",
    "\n",
    "Here, the counter object is an iterator and iterable at the same time. ie iter() returns self on which you can then call next()"
   ]
  },
  {
   "cell_type": "code",
   "execution_count": 1,
   "id": "8861594a",
   "metadata": {},
   "outputs": [
    {
     "name": "stdout",
     "output_type": "stream",
     "text": [
      "50\n",
      "51\n",
      "52\n",
      "53\n",
      "54\n",
      "55\n",
      "56\n",
      "57\n",
      "58\n",
      "59\n",
      "60\n",
      "61\n",
      "62\n",
      "63\n",
      "64\n",
      "65\n",
      "66\n",
      "67\n",
      "68\n",
      "69\n"
     ]
    }
   ],
   "source": [
    "class Counter:\n",
    "    def __init__(self, low, high):\n",
    "        self.current = low\n",
    "        self.high = high\n",
    "\n",
    "    def __iter__(self):\n",
    "        return self  # self is an iterator as it has the __next__() method too\n",
    "\n",
    "    def __next__(self):\n",
    "        if self.current < self.high:\n",
    "            num = self.current\n",
    "            self.current += 1\n",
    "            return num\n",
    "        raise StopIteration # can be inside else aswell. Will do the same thing\n",
    "\n",
    "\n",
    "for x in Counter(50, 70):\n",
    "    print(x)"
   ]
  },
  {
   "cell_type": "code",
   "execution_count": null,
   "id": "e0c62761",
   "metadata": {},
   "outputs": [],
   "source": []
  }
 ],
 "metadata": {
  "kernelspec": {
   "display_name": "Python 3 (ipykernel)",
   "language": "python",
   "name": "python3"
  },
  "language_info": {
   "codemirror_mode": {
    "name": "ipython",
    "version": 3
   },
   "file_extension": ".py",
   "mimetype": "text/x-python",
   "name": "python",
   "nbconvert_exporter": "python",
   "pygments_lexer": "ipython3",
   "version": "3.8.10"
  }
 },
 "nbformat": 4,
 "nbformat_minor": 5
}
