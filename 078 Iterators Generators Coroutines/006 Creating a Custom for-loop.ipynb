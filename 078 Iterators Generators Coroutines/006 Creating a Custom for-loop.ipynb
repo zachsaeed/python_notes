{
 "cells": [
  {
   "cell_type": "markdown",
   "id": "95e4db85",
   "metadata": {},
   "source": [
    "# Custom For Loop\n",
    "\n",
    "We usually write for loops as follows. \n",
    "        \n",
    "        for num in [1,2,3]:\n",
    "            pass\n",
    "        \n",
    "        for char in \"hi there\":\n",
    "            pass\n",
    "\n",
    "Behind the scenes, \n",
    "- the for loop will call the iter() function on the list [1,2,3] or the string \"hi there\" (which are iterables) to get an iterator. \n",
    "- Once the iterator is acquired, for loop will call it's next() method to get a value until it reaches the end \n",
    "- and throws a StopIterationError which it catches and then stops. \n",
    "\n",
    "We will now write a function that works like a for loop:\n"
   ]
  },
  {
   "cell_type": "code",
   "execution_count": 1,
   "id": "df19f594",
   "metadata": {},
   "outputs": [
    {
     "name": "stdout",
     "output_type": "stream",
     "text": [
      "l\n",
      "o\n",
      "l\n",
      "1\n",
      "4\n",
      "9\n",
      "16\n",
      "25\n"
     ]
    }
   ],
   "source": [
    "# It takes an iterable like the for loop.\n",
    "# It also takes a func which it will call on each item as it iterates through the interator\n",
    "\n",
    "def my_for(iterable, func):\n",
    "    \n",
    "    iterator = iter(iterable)  # First get the iterator\n",
    "    \n",
    "    while True:  # continuously loop and call next() until it reaches the end and raises a StopIteration error which we will catch and break the loop\n",
    "        try:\n",
    "            element_value = next(iterator)\n",
    "        except StopIteration:  # When Error raised, means end of iterator. So, break while loop\n",
    "            break\n",
    "        else: # else always gets called when no error is caught (We dont need to move our code into else. Its just there for clarity)\n",
    "            func(element_value)  # run passed in function on each item\n",
    "\n",
    "            \n",
    "# calling our for loop function. print() will be called on each element:\n",
    "my_for(\"lol\", print)\n",
    "\n",
    "# we can also pass our own functions to apply on each element:\n",
    "def square(x):\n",
    "    print(x * x)\n",
    "\n",
    "my_for([1, 2, 3, 4, 5], square)"
   ]
  },
  {
   "cell_type": "code",
   "execution_count": null,
   "id": "c86484f7",
   "metadata": {},
   "outputs": [],
   "source": []
  }
 ],
 "metadata": {
  "kernelspec": {
   "display_name": "Python 3",
   "language": "python",
   "name": "python3"
  },
  "language_info": {
   "codemirror_mode": {
    "name": "ipython",
    "version": 3
   },
   "file_extension": ".py",
   "mimetype": "text/x-python",
   "name": "python",
   "nbconvert_exporter": "python",
   "pygments_lexer": "ipython3",
   "version": "3.8.8"
  }
 },
 "nbformat": 4,
 "nbformat_minor": 5
}
