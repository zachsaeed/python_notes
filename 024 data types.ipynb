{
 "cells": [
  {
   "cell_type": "markdown",
   "metadata": {},
   "source": [
    "# Datatypes \n",
    "\n",
    "(https://docs.python.org/3.8/library/stdtypes.html#special-attributes)\n",
    "Python is dynamically-typed, which means it only checks the types of the variables you specified when you run the program. Variables can store data of different types, and different types can do different things. \n",
    "\n",
    "Python has the following data types built-in by default, in these categories:\n",
    "\n",
    "### Primitive:\n",
    "\n",
    "| datatype                |                    Description                                            |   Mutable |\n",
    "|-------------------------|---------------------------------------------------------------------------|-----------|\n",
    "| **Numeric Types:**                                                                                              |\n",
    "| *int*                   | holds signed integers of non-limited length. | Immutable |\n",
    "| *long*                  | holds long integers(exists in Python 2.x, deprecated in Python 3.x)       | Immutable |\n",
    "| *float*                 | holds floating precision numbers and it’s accurate upto 15 decimal places | Immutable | \n",
    "| *complex*               | holds complex numbers (used in integral algebra, calculus in scientific, mathematical or electrical engineering apps)                                                                       | Immutable |\n",
    "| **Boolean Type:**                                                                                               | \n",
    "| *bool*                  | Holds True or False values (Starting with a capital T and F for python to identify its a boolean)                                                                                            | Immutable |\n",
    "| **Text Sequence Type:**                                                                                         |\n",
    "| *str*                   | Holds a sequence of characters. Python supports Unicode characters. Generally, strings are represented by either single or double quotes.                                                    | Immutable |\n",
    "|                         |                                                                           |           \n",
    "\n",
    "### Composite datatypes (Also called Collections):\n",
    "\n",
    "| datatype                |                    Description                                            |   Mutable |\n",
    "|-------------------------|---------------------------------------------------------------------------|-----------|\n",
    "| **Sequence Types:**                                                                                             |\n",
    "| *list*                  | The list  is a versatile data type exclusive in Python. In a sense, it is the same as the array in C/C++. But the interesting thing about the list in Python is it can simultaneously hold different types of data. Formally list is an ordered sequence of some data written using square brackets([]) and commas(,).                                                                                                         |   Mutable |\n",
    "| *tuple*                 | Tuple is another data type which is a sequence of data similar to list. But it is immutable. That means data in a tuple is write protected. Data in a tuple is written using parenthesis () and commas(,).                                                                                            | Immutable |\n",
    "| *bytes*                 |                                                                           | Immutable |\n",
    "| *bytearray*             |                                                                           | Mutable   | \n",
    "| *memoryview*            |                                                                           | both      | \n",
    "| **part Sequence Type:**                                                                                         |\n",
    "| *range*                |                                                                           | Immutable |\n",
    "| **Mapping Type / Collection:**                                                                                  |\n",
    "| *dict*                  | Holds unordered sequence (pre-python 3.6) but now ordered sequence of data of key-value pair form. It is similar to the hash table type. Dictionaries are written within curly braces in the form key:value. It is very useful to retrieve data in an optimized way among a large amount of data.       | Mutable   |\n",
    "| **Set Types / Collection:**                                                                                     | \n",
    "| *set*                   |                                                                           | Mutable   |\n",
    "| *frozenset*             |                                                                           | Immutable |\n",
    "\n",
    "\n",
    "\n",
    "\n",
    "> **Legend for the above tables:** \n",
    ">\n",
    "> **Sequences:** \n",
    "> - Have a defined Order which will not change\n",
    "> - Indexed ie elements can be accessed using indexes mySequence[index]\n",
    "> - Can be sliced using mySequence[start:End:Steps]\n",
    "> - List Comprehension\n",
    "> - have specific sequence related functions\n",
    ">\n",
    "> **Collections:**\n",
    "> - Usually unordered (Except for dictionary)\n",
    "> - Key-value paired\n",
    "> \n",
    "> **Mutable:** \n",
    "> - Can be changed / Modifiable\n",
    ">\n",
    "> **Immutable:** \n",
    "> - Cannot be changed / Non Modifiable / Read Only\n",
    ">"
   ]
  },
  {
   "cell_type": "markdown",
   "metadata": {},
   "source": [
    "In Python we need not to declare datatype while declaring a variable like C or C++. We can simply just assign values in a variable.\n",
    "\n",
    "Before we have a deeper look at the datatypes, we need to be aware of the following 2 functions:\n",
    "\n",
    "### type() method:\n",
    "You can get the data type of any object by using the type() function:"
   ]
  },
  {
   "cell_type": "code",
   "execution_count": 1,
   "metadata": {},
   "outputs": [
    {
     "name": "stdout",
     "output_type": "stream",
     "text": [
      "<class 'int'>\n"
     ]
    }
   ],
   "source": [
    "x = 5\n",
    "print(type(x))  # <class 'int'>"
   ]
  },
  {
   "cell_type": "markdown",
   "metadata": {},
   "source": [
    "### sys.getsizeof() method:\n",
    "Python has a built-in function, getsizeof, that tells us how big each different datatype is in bytes.\n",
    "To see the smallest size of each datatype:"
   ]
  },
  {
   "cell_type": "code",
   "execution_count": 2,
   "metadata": {},
   "outputs": [
    {
     "name": "stdout",
     "output_type": "stream",
     "text": [
      "[('object', 16), ('float', 24), ('int', 24), ('complex', 32), ('tuple', 40), ('str', 50), ('unicode', 50), ('list', 56), ('set', 216), ('dict', 232)]\n"
     ]
    }
   ],
   "source": [
    "# import decimal\n",
    "import sys\n",
    "\n",
    "d = {\"int\": 0,\n",
    "     \"float\": 0.0,\n",
    "     \"complex\": 0+0j,\n",
    "     \"dict\": dict(),\n",
    "     \"set\": set(),\n",
    "     \"tuple\": tuple(),\n",
    "     \"list\": list(),\n",
    "     \"str\": \"a\",\n",
    "     \"unicode\": u\"a\",\n",
    "#      \"decimal\": decimal.Decimal(0),\n",
    "     \"object\": object(),\n",
    "     }\n",
    "\n",
    "# Create new dict that can be sorted by size\n",
    "d_size = {}\n",
    "\n",
    "for k, v in sorted(d.items()):\n",
    "    d_size[k] = sys.getsizeof(v)\n",
    "\n",
    "sorted_x = sorted(d_size.items(), key=lambda kv: kv[1])\n",
    "print(sorted_x)"
   ]
  },
  {
   "cell_type": "markdown",
   "metadata": {},
   "source": [
    "# Datatypes in detail:\n",
    "\n",
    "# int"
   ]
  },
  {
   "cell_type": "code",
   "execution_count": 3,
   "metadata": {},
   "outputs": [
    {
     "name": "stdout",
     "output_type": "stream",
     "text": [
      "<class 'int'>\n",
      "<class 'int'>\n"
     ]
    }
   ],
   "source": [
    "# An integer can be declared as\n",
    "int_var1 = -23\n",
    "print(type(int_var1))  \n",
    "\n",
    "# or by using the int class (Both syntaxes are exactly te same)\n",
    "int_var2 = int(23)\n",
    "print(type(int_var2))  "
   ]
  },
  {
   "cell_type": "markdown",
   "metadata": {},
   "source": [
    "**Note:** The 'int' class can also be used to typecast strings and floats into int\n",
    "### Size: \n",
    "There is effectively no limit to how long an integer value can be. Of course, it is constrained by the amount of memory your system has, as are all things, but beyond that an integer can be as long as you need it to be:\n"
   ]
  },
  {
   "cell_type": "code",
   "execution_count": 4,
   "metadata": {},
   "outputs": [
    {
     "name": "stdout",
     "output_type": "stream",
     "text": [
      "24\n",
      "48\n"
     ]
    }
   ],
   "source": [
    "import sys\n",
    "int_var1 = 0\n",
    "print(sys.getsizeof(int_var1))  \n",
    "\n",
    "int_var2 = 123123123123123123123123123123123123123123123124\n",
    "print(sys.getsizeof(int_var2))  "
   ]
  },
  {
   "cell_type": "markdown",
   "metadata": {},
   "source": [
    "### base 10 (Decimal):\n",
    "Python interprets a sequence of decimal digits without any prefix to be a decimal number by default"
   ]
  },
  {
   "cell_type": "code",
   "execution_count": 5,
   "metadata": {},
   "outputs": [
    {
     "name": "stdout",
     "output_type": "stream",
     "text": [
      "10\n"
     ]
    }
   ],
   "source": [
    "int_var_base10 = 10\n",
    "print(int_var_base10)  # 10"
   ]
  },
  {
   "cell_type": "markdown",
   "metadata": {},
   "source": [
    "### base 2 (Binary): \n",
    "To define an integer as binary we prepend 0b (zero + 'b' or 'B')"
   ]
  },
  {
   "cell_type": "code",
   "execution_count": 6,
   "metadata": {},
   "outputs": [
    {
     "name": "stdout",
     "output_type": "stream",
     "text": [
      "2\n"
     ]
    }
   ],
   "source": [
    "int_var_base2 = 0b10\n",
    "print(int_var_base2)  # 2"
   ]
  },
  {
   "cell_type": "markdown",
   "metadata": {},
   "source": [
    "### base 8 (Octal): \n",
    "To define an integer as Octal we prepend 0o (zero + 'o' or 'O')"
   ]
  },
  {
   "cell_type": "code",
   "execution_count": 7,
   "metadata": {},
   "outputs": [
    {
     "name": "stdout",
     "output_type": "stream",
     "text": [
      "8\n"
     ]
    }
   ],
   "source": [
    "int_var_base8 = 0o10\n",
    "print(int_var_base8)  # 8"
   ]
  },
  {
   "cell_type": "markdown",
   "metadata": {},
   "source": [
    "### base 16 (Hexadecimal): \n",
    "To define an integer as hexadecimal we prepend 0x (zero + 'x' or 'X')"
   ]
  },
  {
   "cell_type": "code",
   "execution_count": 8,
   "metadata": {},
   "outputs": [
    {
     "name": "stdout",
     "output_type": "stream",
     "text": [
      "16\n"
     ]
    }
   ],
   "source": [
    "int_var_base16 = 0x10\n",
    "print(int_var_base16)  # 16"
   ]
  },
  {
   "cell_type": "markdown",
   "metadata": {},
   "source": [
    "> **Note:** The underlying type, irrespective of the base used to specify it, will be int. \n",
    "\n",
    "> **Note:** The aboe values are returned in base 10. We can get the same value by directly calling object.\\_\\_int\\_\\_() function."
   ]
  },
  {
   "cell_type": "markdown",
   "metadata": {},
   "source": [
    "# float\n",
    "\n",
    "The float type in Python designates a floating-point number. float values are specified with a decimal point. Optionally, the character e or E followed by a positive or negative integer may be appended to specify scientific notation:"
   ]
  },
  {
   "cell_type": "code",
   "execution_count": 9,
   "metadata": {},
   "outputs": [
    {
     "name": "stdout",
     "output_type": "stream",
     "text": [
      "<class 'float'>\n",
      "1.8e+30\n",
      "<class 'float'>\n",
      "1.8e+30\n"
     ]
    }
   ],
   "source": [
    "# A float can be declared as\n",
    "var1 = -23.\n",
    "print(type(var1))  # <class 'float'>\n",
    "\n",
    "var2 = 1.8e30\n",
    "print(var2)\n",
    "\n",
    "# or by using the float class (Both syntaxes are exactly te same)\n",
    "var3 = float(1.8)\n",
    "print(type(var3))  # <class 'float'>\n",
    "\n",
    "var4 = float(1.8e30)\n",
    "print(var4)"
   ]
  },
  {
   "cell_type": "markdown",
   "metadata": {},
   "source": [
    "> **Note:** The 'float' class can also be used to typecast strings and ints into float\n",
    "### Size: \n",
    "The size of a float is always 24 bits"
   ]
  },
  {
   "cell_type": "code",
   "execution_count": 10,
   "metadata": {},
   "outputs": [
    {
     "name": "stdout",
     "output_type": "stream",
     "text": [
      "24\n",
      "24\n"
     ]
    }
   ],
   "source": [
    "import sys\n",
    "var1 = .0\n",
    "print(sys.getsizeof(var1))  # 24\n",
    "\n",
    "var2 = 1.8e308\n",
    "print(sys.getsizeof(var2))  # 24"
   ]
  },
  {
   "cell_type": "markdown",
   "metadata": {},
   "source": [
    "### Deep Dive: Floating-Point Representation\n",
    "The float is accurate upto 15 decimal places. Almost all platforms represent Python float values as 64-bit “double-precision” values, according to the IEEE 754 standard. In that case, the maximum value a floating-point number can have is approximately 1.8 ⨉ 10^308. Python will indicate a number greater than that by the string inf (see 'keywords' notes for description of inf):"
   ]
  },
  {
   "cell_type": "code",
   "execution_count": 11,
   "metadata": {},
   "outputs": [
    {
     "name": "stdout",
     "output_type": "stream",
     "text": [
      "1.79e+308\n",
      "inf\n"
     ]
    }
   ],
   "source": [
    "print(1.79e308)  # 1.79e+308\n",
    "print(1.8e308)  # inf"
   ]
  },
  {
   "cell_type": "markdown",
   "metadata": {},
   "source": [
    "The closest a nonzero number can be to zero is approximately 5.0 ⨉ 10^-324. Anything closer to zero than that is effectively zero:"
   ]
  },
  {
   "cell_type": "code",
   "execution_count": 12,
   "metadata": {},
   "outputs": [
    {
     "name": "stdout",
     "output_type": "stream",
     "text": [
      "5e-324\n",
      "0.0\n"
     ]
    }
   ],
   "source": [
    "print(5e-324)  # 5e-324\n",
    "print(1e-325)  # 0.0"
   ]
  },
  {
   "cell_type": "markdown",
   "metadata": {},
   "source": [
    "Floating point numbers are represented internally as binary (base-2) fractions. Most decimal fractions cannot be represented exactly as binary fractions, so in most cases the internal representation of a floating-point number is an approximation of the actual value. In practice, the difference between the actual value and the represented value is very small and should not usually cause significant problems.\n",
    "\n",
    "### Further reading:\n",
    "Floating Point Arithmetic: Issues and Limitations: (https://docs.python.org/3.6/tutorial/floatingpoint.html)\n",
    "\n"
   ]
  },
  {
   "cell_type": "markdown",
   "metadata": {},
   "source": [
    "# Complex\n",
    "\n",
    "Complex datatypes used in integral algebra and calculus in scientific, mathematical or electrical engineering apps. Complex numbers are specified with syntax a+bj ie \\<real part\\>+\\<imaginary part\\>j. \n",
    "j/J symbol  is compulsory where: square of j = -1 or: j = square root of -1\n",
    "\n",
    "### Real and imaginary can be int or float values\n",
    "real can be int, float, binary, octal or hexadecimal but imaginary must always be base 10 int or floats\n"
   ]
  },
  {
   "cell_type": "code",
   "execution_count": 13,
   "metadata": {},
   "outputs": [
    {
     "name": "stdout",
     "output_type": "stream",
     "text": [
      "(2+3j)\n",
      "<class 'complex'>\n",
      "2.0\n",
      "3.0\n"
     ]
    }
   ],
   "source": [
    "var_complex = 2 + 3j\n",
    "print(var_complex)  # (2+3j)\n",
    "print(type(2 + 3j))  # <class 'complex'>\n",
    "print(var_complex.real)  # 2.0  # real part as float\n",
    "print(var_complex.imag)  # 3.0  # imaginary part as float\n",
    "\n",
    "# var_complex2 = 2 + 3i  # syntax err\n",
    "var_complex3 = 2.1 + 3.5j  # real and imag are floats\n",
    "x = 0B1111 + 20J  # real can be int float binary octal or hexadecimal but imaginary must always be base10 int or float"
   ]
  },
  {
   "cell_type": "markdown",
   "metadata": {},
   "source": [
    "We can perform arithmetic operations on complex numbers"
   ]
  },
  {
   "cell_type": "code",
   "execution_count": 14,
   "metadata": {},
   "outputs": [
    {
     "name": "stdout",
     "output_type": "stream",
     "text": [
      "(4.1+6.5j)\n",
      "(-0.10000000000000009-0.5j)\n",
      "(-6.3+13.3j)\n",
      "(0.8823529411764707-0.042016806722689114j)\n"
     ]
    }
   ],
   "source": [
    "print(var_complex + var_complex3)  # (4.1+6.5j)\n",
    "print(var_complex - var_complex3)  # (-0.10000000000000009-0.5j)\n",
    "print(var_complex * var_complex3)  # (-6.3+13.3j)\n",
    "print(var_complex / var_complex3)  # (0.8823529411764707-0.042016806722689114j)"
   ]
  },
  {
   "cell_type": "markdown",
   "metadata": {},
   "source": [
    "# Boolean\n",
    "Objects of Boolean type may have one of two values, True or False:"
   ]
  },
  {
   "cell_type": "code",
   "execution_count": 15,
   "metadata": {},
   "outputs": [
    {
     "name": "stdout",
     "output_type": "stream",
     "text": [
      "<class 'bool'>\n",
      "<class 'bool'>\n",
      "<class 'bool'>\n",
      "<class 'bool'>\n"
     ]
    }
   ],
   "source": [
    "# A boolean can be declared as:\n",
    "bool_var1 = True\n",
    "print(type(bool_var1))  # <class 'bool'>\n",
    "\n",
    "bool_var2 = bool(False)\n",
    "print(type(bool_var2))  # <class 'bool'>\n",
    "\n",
    "# Or by using the bool class\n",
    "bool_var3 = bool(True)\n",
    "print(type(bool_var1))  # <class 'bool'>\n",
    "\n",
    "bool_var4 = bool(False)\n",
    "print(type(bool_var2))  # <class 'bool'>\n",
    "\n"
   ]
  },
  {
   "cell_type": "markdown",
   "metadata": {},
   "source": [
    "## Truthy and Falsy\n",
    "As you will see in upcoming tutorials, expressions in Python are often evaluated in Boolean context, meaning they are\n",
    "interpreted to represent truth or falsehood. A value that is true in Boolean context is sometimes said to be “truthy,”\n",
    "and one that is false in Boolean context is said to be “falsy.” (You may also see “falsy” spelled “falsey.”)\n",
    "\n",
    "Non-Boolean objects can be evaluated in Boolean context as well and determined to be true or false. You will learn more about evaluation of objects in Boolean context when you encounter logical operators in the upcoming tutorial on operators and expressions in Python.\n",
    "\n",
    "# string"
   ]
  },
  {
   "cell_type": "code",
   "execution_count": 16,
   "metadata": {},
   "outputs": [
    {
     "name": "stdout",
     "output_type": "stream",
     "text": [
      "string in a double quote\n",
      "string in a single quote\n",
      "string in a double quote concatenated with string in a single quote\n",
      "string in a double quote concated with string in a single quote\n"
     ]
    }
   ],
   "source": [
    "# String\n",
    "d = \"string in a double quote\"\n",
    "e = 'string in a single quote'\n",
    "print(d)\n",
    "print(e)\n",
    "\n",
    "# using ',' to concatenate the two or several strings\n",
    "print(d,\"concatenated with\",e)\n",
    "\n",
    "#using '+' to concate the two or several strings\n",
    "print(d+\" concated with \"+e)"
   ]
  },
  {
   "cell_type": "markdown",
   "metadata": {},
   "source": [
    "# list"
   ]
  },
  {
   "cell_type": "code",
   "execution_count": 17,
   "metadata": {},
   "outputs": [
    {
     "name": "stdout",
     "output_type": "stream",
     "text": [
      "[1, 2, 3, 4, 5, 6]\n",
      "['hello', 'john', 'reese']\n",
      "['hey', 'you', 1, 2, 3, 'go']\n",
      "you\n"
     ]
    }
   ],
   "source": [
    "# List\n",
    "#list of having only integers\n",
    "a= [1,2,3,4,5,6]\n",
    "print(a)\n",
    "\n",
    "#list of having only strings\n",
    "b=[\"hello\",\"john\",\"reese\"]\n",
    "print(b)\n",
    "\n",
    "#list of having both integers and strings\n",
    "c= [\"hey\",\"you\",1,2,3,\"go\"]\n",
    "print(c)\n",
    "\n",
    "#index are 0 based. this will print a single character\n",
    "print(c[1]) #this will print \"you\" in list c"
   ]
  },
  {
   "cell_type": "markdown",
   "metadata": {},
   "source": [
    "# tuple"
   ]
  },
  {
   "cell_type": "code",
   "execution_count": 18,
   "metadata": {},
   "outputs": [
    {
     "name": "stdout",
     "output_type": "stream",
     "text": [
      "(1, 2, 3, 4)\n",
      "('hello', 1, 2, 3, 'go')\n",
      "go\n"
     ]
    }
   ],
   "source": [
    "#tuple having only integer type of data.\n",
    "a=(1,2,3,4)\n",
    "print(a) #prints the whole tuple\n",
    "\n",
    "#tuple having multiple type of data.\n",
    "b=(\"hello\", 1,2,3,\"go\")\n",
    "print(b) #prints the whole tuple\n",
    "\n",
    "#index of tuples are also 0 based.\n",
    "\n",
    "print(b[4]) #this prints a single element in a tuple, in this case \"go\""
   ]
  },
  {
   "cell_type": "markdown",
   "metadata": {},
   "source": [
    "# Dictionary"
   ]
  },
  {
   "cell_type": "code",
   "execution_count": 19,
   "metadata": {},
   "outputs": [
    {
     "name": "stdout",
     "output_type": "stream",
     "text": [
      "first name\n",
      "last name\n",
      "33\n"
     ]
    }
   ],
   "source": [
    "# a sample dictionary variable\n",
    "a = {1:\"first name\",2:\"last name\", \"age\":33}\n",
    "\n",
    "#print value having key=1\n",
    "print(a[1])\n",
    "#print value having key=2\n",
    "print(a[2])\n",
    "#print value having key=\"age\"\n",
    "print(a[\"age\"])\n",
    "\n"
   ]
  },
  {
   "cell_type": "markdown",
   "metadata": {},
   "source": [
    "# Set and Frozenset"
   ]
  },
  {
   "cell_type": "code",
   "execution_count": 20,
   "metadata": {},
   "outputs": [],
   "source": [
    "x = {\"apple\", \"banana\", \"cherry\"}  # set\n",
    "x = frozenset({\"apple\", \"banana\", \"cherry\"})  # frozenset"
   ]
  },
  {
   "cell_type": "markdown",
   "metadata": {},
   "source": [
    "# Other data types"
   ]
  },
  {
   "cell_type": "code",
   "execution_count": 21,
   "metadata": {},
   "outputs": [],
   "source": [
    "x = range(6)  # range\n",
    "x = b\"Hello\"  # bytes\n",
    "x = bytearray(5)  # bytearray\n",
    "x = memoryview(bytes(5))  # memoryview"
   ]
  },
  {
   "cell_type": "markdown",
   "metadata": {},
   "source": [
    "# Setting the Specific Data Type\n",
    "If you want to specify the data type, you can use the following constructor functions. These constructors are discussed in detail further down the course."
   ]
  },
  {
   "cell_type": "code",
   "execution_count": 22,
   "metadata": {},
   "outputs": [],
   "source": [
    "x = str(\"Hello World\")  # str\n",
    "x = int(20)\t # int\n",
    "x = float(20.5)\t # float\n",
    "x = complex(1j)\t # complex\n",
    "x = list((\"apple\", \"banana\", \"cherry\"))\t # list\n",
    "x = tuple((\"apple\", \"banana\", \"cherry\"))  # tuple\n",
    "x = range(6)  # range\n",
    "x = dict(name=\"John\", age=36)  # dict\n",
    "x = set((\"apple\", \"banana\", \"cherry\"))  # set\n",
    "x = frozenset((\"apple\", \"banana\", \"cherry\"))  # frozenset\n",
    "x = bool(5)\t # bool\n",
    "x = bytes(5)  # bytes\n",
    "x = bytearray(5)  # bytearray\n",
    "x = memoryview(bytes(5))  # memoryview"
   ]
  }
 ],
 "metadata": {
  "kernelspec": {
   "display_name": "Python 3 (ipykernel)",
   "language": "python",
   "name": "python3"
  },
  "language_info": {
   "codemirror_mode": {
    "name": "ipython",
    "version": 3
   },
   "file_extension": ".py",
   "mimetype": "text/x-python",
   "name": "python",
   "nbconvert_exporter": "python",
   "pygments_lexer": "ipython3",
   "version": "3.8.10"
  }
 },
 "nbformat": 4,
 "nbformat_minor": 4
}
