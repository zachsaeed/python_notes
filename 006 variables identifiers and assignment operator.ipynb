{
 "cells": [
  {
   "cell_type": "markdown",
   "metadata": {},
   "source": [
    "# Variable\n",
    "A variable, (as the name indicates) is something whose value is changeable over time. In fact, a variable is a memory location where a value can be stored. Later we can retrieve the value to use. \n",
    "\n",
    "# Identifier\n",
    "To retrieve the value stored in a variable (memory location), it we need to give a nickname to that memory location so that we can refer to it. That’s the identifier, the nickname.\n",
    "\n",
    "> **Note:** Sometimes variable and identifier are often misunderstood as same but they are not. A variable is a memory location where as an identifier is a nickname we use to refer to that memory location\n",
    "\n",
    "For example, the value 2 is stored in a variable identified by the name var_a."
   ]
  },
  {
   "cell_type": "markdown",
   "metadata": {},
   "source": [
    "var_a = 2 "
   ]
  },
  {
   "cell_type": "markdown",
   "metadata": {},
   "source": [
    "# Assignment operator\n",
    "Variables must be assigned before they can be used otherwise you get a NameError: not defined. '=' as shown in the example above assigns the value 2 to the variable, var_a"
   ]
  },
  {
   "cell_type": "code",
   "execution_count": 4,
   "metadata": {},
   "outputs": [
    {
     "name": "stdout",
     "output_type": "stream",
     "text": [
      "10\n"
     ]
    }
   ],
   "source": [
    "jar = '10'\n",
    "print(jar)  # print is what we call a funciton in python. It printa whatever variable is passed to itwithin the brackets"
   ]
  },
  {
   "cell_type": "code",
   "execution_count": 5,
   "metadata": {},
   "outputs": [],
   "source": [
    "# print(xyz)  # xyz is an unassigned variable hence nameError"
   ]
  },
  {
   "cell_type": "markdown",
   "metadata": {},
   "source": [
    "A pre-existing variable can be assigned to other variables."
   ]
  },
  {
   "cell_type": "code",
   "execution_count": 6,
   "metadata": {},
   "outputs": [
    {
     "name": "stdout",
     "output_type": "stream",
     "text": [
      "10\n"
     ]
    }
   ],
   "source": [
    "box = jar;\n",
    "print(box)"
   ]
  },
  {
   "cell_type": "markdown",
   "metadata": {},
   "source": [
    "A variable can be reassigned with a new value which replaces the old value."
   ]
  },
  {
   "cell_type": "code",
   "execution_count": 4,
   "metadata": {},
   "outputs": [
    {
     "name": "stdout",
     "output_type": "stream",
     "text": [
      "I am Saquib\n"
     ]
    }
   ],
   "source": [
    "box = \"I am Saquib\"\n",
    "print(box)"
   ]
  },
  {
   "cell_type": "markdown",
   "metadata": {},
   "source": [
    "Variables Can be assigned at the ame time as other variables in a single line"
   ]
  },
  {
   "cell_type": "code",
   "execution_count": 7,
   "metadata": {},
   "outputs": [
    {
     "name": "stdout",
     "output_type": "stream",
     "text": [
      "A\n",
      "1.5\n",
      "Zach\n",
      "Acer\n"
     ]
    }
   ],
   "source": [
    "bottle, case, bag, der = 'A', 1.5, \"Zach\", 'Acer'\n",
    "print(bottle)\n",
    "print(case)\n",
    "print(bag)\n",
    "print(der)"
   ]
  },
  {
   "cell_type": "markdown",
   "metadata": {},
   "source": [
    "We can also use a list to assign each item to variables in a single line (More about lists later. For now they are just comma separated values inside square brackets)"
   ]
  },
  {
   "cell_type": "code",
   "execution_count": null,
   "metadata": {},
   "outputs": [],
   "source": [
    "bottle, case, bag = ['A', 1.5, \"Zach\"]\n",
    "print(bottle)\n",
    "print(case)\n",
    "print(bag)"
   ]
  },
  {
   "cell_type": "markdown",
   "metadata": {},
   "source": [
    "Prepared by: Syed Saquib Saeed"
   ]
  },
  {
   "cell_type": "code",
   "execution_count": 6,
   "metadata": {},
   "outputs": [
    {
     "name": "stdout",
     "output_type": "stream",
     "text": [
      "A\n",
      "1.5\n",
      "Zach\n"
     ]
    }
   ],
   "source": [
    "bottle2, case2, bag2 = ('A', 1.5, \"Zach\")\n",
    "print(bottle2)\n",
    "print(case2)\n",
    "print(bag2)"
   ]
  },
  {
   "cell_type": "code",
   "execution_count": 7,
   "metadata": {},
   "outputs": [
    {
     "name": "stdout",
     "output_type": "stream",
     "text": [
      "color\n",
      "blue\n"
     ]
    }
   ],
   "source": [
    "my_key, my_val = ('color', 'blue')\n",
    "print(my_key)\n",
    "print(my_val)"
   ]
  },
  {
   "cell_type": "code",
   "execution_count": null,
   "metadata": {},
   "outputs": [],
   "source": []
  }
 ],
 "metadata": {
  "kernelspec": {
   "display_name": "Python 3",
   "language": "python",
   "name": "python3"
  },
  "language_info": {
   "codemirror_mode": {
    "name": "ipython",
    "version": 3
   },
   "file_extension": ".py",
   "mimetype": "text/x-python",
   "name": "python",
   "nbconvert_exporter": "python",
   "pygments_lexer": "ipython3",
   "version": "3.8.8"
  },
  "widgets": {
   "application/vnd.jupyter.widget-state+json": {
    "state": {},
    "version_major": 2,
    "version_minor": 0
   }
  }
 },
 "nbformat": 4,
 "nbformat_minor": 4
}
