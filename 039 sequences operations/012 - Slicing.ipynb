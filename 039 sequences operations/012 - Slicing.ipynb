{
 "cells": [
  {
   "cell_type": "markdown",
   "metadata": {},
   "source": [
    "# Sequence Slicing\n",
    "A Slice in Python is used to extract a subset of a sequence (ie it returns the same datatype as the sequence)\n",
    "\n",
    "They're defined by a starting point, and ending point, and an increment with the following syntax:\n",
    "\n",
    "`mySeq[start:end:increment]` \n",
    "\n",
    "Python will then return a new Seq containing:\n",
    "\n",
    "`mySeq[start], mySeq[start+increment], mySeq[start+2*increment],... up to but not including mySeq[end]`\n",
    "\n",
    "> Note: This is very important, and bears repeating: mySeq[end] will not be included in the slice.\n",
    "\n",
    "Each parameter is optional. If not provided, \n",
    "- start defaults to 0, \n",
    "- end defaults to the length of the list, \n",
    "- and increment defaults to 1. \n",
    "\n",
    "The first colon is always necessary (to indicate Python should make a slice rather than access a single element), but if the increment isn't specified the second colon can be omitted.\n",
    "\n",
    "Hence, by way of example:"
   ]
  },
  {
   "cell_type": "code",
   "execution_count": 26,
   "metadata": {},
   "outputs": [],
   "source": [
    "my_string_sequence = 'I am a string sequence'  # length: 22\n",
    "# index positions:    0123456789...........21\n",
    "\n",
    "my_list_sequence = [23, False, 'Hello World', ['Nested', True, 12, 2.2]] # length: 4\n",
    "# index positions:  0     1          2                       3   \n",
    "                    \n",
    "my_tuple_sequence = (21, True, 'Hello-World', ['Nested', True, 12, 2.2], 3.4) # length: 5\n",
    "# index positions:   0     1          2                      3            4   \n",
    "\n",
    "my_range = range(1, 100, 2)\n",
    "# This range object contains the values [1, 3, 5, 7, 9, 11, 13, 15, 17, 19, 21, 23, 25, 27, 29, 31, 33, 35, 37, 39, 41, 43, 45, 47, 49, 51, 53, 55, 57, 59, 61, 63, 65, 67, 69, 71, 73, 75, 77, 79, 81, 83, 85, 87, 89, 91, 93, 95, 97, 99]"
   ]
  },
  {
   "cell_type": "markdown",
   "metadata": {},
   "source": [
    "### Strings:"
   ]
  },
  {
   "cell_type": "code",
   "execution_count": 27,
   "metadata": {},
   "outputs": [
    {
     "name": "stdout",
     "output_type": "stream",
     "text": [
      "m a strin\n"
     ]
    }
   ],
   "source": [
    "print(my_string_sequence[3:12])  # (index: 12 is not included!)"
   ]
  },
  {
   "cell_type": "code",
   "execution_count": 28,
   "metadata": {},
   "outputs": [
    {
     "name": "stdout",
     "output_type": "stream",
     "text": [
      "a  tigsqe\n"
     ]
    }
   ],
   "source": [
    "print(my_string_sequence[2:20:2])"
   ]
  },
  {
   "cell_type": "code",
   "execution_count": 29,
   "metadata": {},
   "outputs": [
    {
     "name": "stdout",
     "output_type": "stream",
     "text": [
      "\n"
     ]
    }
   ],
   "source": [
    "print(my_string_sequence[5:5]) # (endpoints still aren't included!)"
   ]
  },
  {
   "cell_type": "code",
   "execution_count": 30,
   "metadata": {},
   "outputs": [
    {
     "name": "stdout",
     "output_type": "stream",
     "text": [
      "I am\n"
     ]
    }
   ],
   "source": [
    "print(my_string_sequence[:4])  # the first 4 elements of the string"
   ]
  },
  {
   "cell_type": "code",
   "execution_count": 31,
   "metadata": {},
   "outputs": [
    {
     "name": "stdout",
     "output_type": "stream",
     "text": [
      "I am a string sequence\n"
     ]
    }
   ],
   "source": [
    "print(my_string_sequence[:])   # an exact copy of the string"
   ]
  },
  {
   "cell_type": "code",
   "execution_count": 32,
   "metadata": {},
   "outputs": [
    {
     "name": "stdout",
     "output_type": "stream",
     "text": [
      "Im rgeee\n"
     ]
    }
   ],
   "source": [
    "print(my_string_sequence[::3])  # Every third element"
   ]
  },
  {
   "cell_type": "markdown",
   "metadata": {},
   "source": [
    "### Lists and Tuples:"
   ]
  },
  {
   "cell_type": "code",
   "execution_count": 33,
   "metadata": {},
   "outputs": [
    {
     "name": "stdout",
     "output_type": "stream",
     "text": [
      "[23, False]\n"
     ]
    }
   ],
   "source": [
    "print(my_list_sequence[0:2])  # (index: 12 is not included!)"
   ]
  },
  {
   "cell_type": "code",
   "execution_count": 34,
   "metadata": {},
   "outputs": [
    {
     "name": "stdout",
     "output_type": "stream",
     "text": [
      "[23, 'Hello World']\n"
     ]
    }
   ],
   "source": [
    "print(my_list_sequence[0:4:2])"
   ]
  },
  {
   "cell_type": "code",
   "execution_count": 35,
   "metadata": {},
   "outputs": [
    {
     "name": "stdout",
     "output_type": "stream",
     "text": [
      "[]\n"
     ]
    }
   ],
   "source": [
    "print(my_list_sequence[2:2]) # (endpoints still aren't included!)"
   ]
  },
  {
   "cell_type": "code",
   "execution_count": 36,
   "metadata": {},
   "outputs": [
    {
     "name": "stdout",
     "output_type": "stream",
     "text": [
      "[23, False, 'Hello World']\n"
     ]
    }
   ],
   "source": [
    "print(my_list_sequence[:3])  # the first 3 elements of the list"
   ]
  },
  {
   "cell_type": "code",
   "execution_count": 37,
   "metadata": {},
   "outputs": [
    {
     "name": "stdout",
     "output_type": "stream",
     "text": [
      "[23, False, 'Hello World', ['Nested', True, 12, 2.2]]\n"
     ]
    }
   ],
   "source": [
    "print(my_list_sequence[:])   # an exact copy of the list"
   ]
  },
  {
   "cell_type": "code",
   "execution_count": 38,
   "metadata": {},
   "outputs": [
    {
     "name": "stdout",
     "output_type": "stream",
     "text": [
      "[23, ['Nested', True, 12, 2.2]]\n"
     ]
    }
   ],
   "source": [
    "print(my_list_sequence[::3])  # Every third element"
   ]
  },
  {
   "cell_type": "markdown",
   "metadata": {},
   "source": [
    "### Range\n",
    "Range slicing is the same as the above types. For example:"
   ]
  },
  {
   "cell_type": "code",
   "execution_count": 39,
   "metadata": {},
   "outputs": [
    {
     "name": "stdout",
     "output_type": "stream",
     "text": [
      "range(1, 9, 4)\n"
     ]
    }
   ],
   "source": [
    "print(my_range[0:4:2])"
   ]
  },
  {
   "cell_type": "code",
   "execution_count": 40,
   "metadata": {},
   "outputs": [
    {
     "name": "stdout",
     "output_type": "stream",
     "text": [
      "[1, 5]\n"
     ]
    }
   ],
   "source": [
    "print(list(my_range[0:4:2]))"
   ]
  },
  {
   "cell_type": "markdown",
   "metadata": {},
   "source": [
    "# Slices using negative values\n",
    "We can use -ve indices to slice a sequence. The syntax for slicing is:\n",
    "\n",
    "`mySeq[start:end:increment]` \n",
    "\n",
    "> **Note:** When 'increment' is +ve, the sequence is read from left to right ->, however when it is -ve, the sequence will be read from right to left <-.\n",
    "> Therefore, make sure 'start' and 'end' values are according to which side you start reading the sequence."
   ]
  },
  {
   "cell_type": "code",
   "execution_count": 41,
   "metadata": {},
   "outputs": [],
   "source": [
    "my_string_sequence    = 'I am a string sequence'  # length: 22\n",
    "# -ve index positions: -22 . . . . .  987654321  (All negatives)    \n",
    "\n",
    "my_list_sequence     = [23, False, 'Hello World', ['Nested', True, 12, 2.2]] # length: 4\n",
    "# -ve index positions:  -4    -3        -2                     -1   \n",
    "                    \n",
    "my_tuple_sequence     = (21, True, 'Hello-World', ['Nested', True, 12, 2.2], 3.4) # length: 5\n",
    "# -ve index positions:   -5   -4        -3                     -2            -1   "
   ]
  },
  {
   "cell_type": "markdown",
   "metadata": {},
   "source": [
    "### Strings"
   ]
  },
  {
   "cell_type": "code",
   "execution_count": 42,
   "metadata": {},
   "outputs": [
    {
     "name": "stdout",
     "output_type": "stream",
     "text": [
      "I am a string sequenc\n"
     ]
    }
   ],
   "source": [
    "print(my_string_sequence[-22:-1])"
   ]
  },
  {
   "cell_type": "markdown",
   "metadata": {},
   "source": [
    "> **Note** \n",
    ">\n",
    "> 1- The increment is not defined therefore it defaults to +1 i.e. Sequence is read from left to right. Therefore, the 'start' index (-22) should come before the 'end' index.\n",
    ">\n",
    ">2- The last index (-1) is exclusive, so the end element is not fetched"
   ]
  },
  {
   "cell_type": "code",
   "execution_count": 43,
   "metadata": {},
   "outputs": [
    {
     "name": "stdout",
     "output_type": "stream",
     "text": [
      "ecneuqes gnirts a ma \n"
     ]
    }
   ],
   "source": [
    "print(my_string_sequence[-1:-22:-1])"
   ]
  },
  {
   "cell_type": "markdown",
   "metadata": {},
   "source": [
    "As mentioned before, we are using a -ve increment now. Which means our sequence will be read from right to left. This is why we had to switch the values of start and end. Also note, -22 is not included. \n",
    "\n",
    "If start does not come before end, (whether increment is +ve or -ve) the sequence does not return anything:"
   ]
  },
  {
   "cell_type": "code",
   "execution_count": 44,
   "metadata": {},
   "outputs": [
    {
     "name": "stdout",
     "output_type": "stream",
     "text": [
      "\n"
     ]
    }
   ],
   "source": [
    "print(my_string_sequence[-1:-22]) # prints nothing "
   ]
  },
  {
   "cell_type": "code",
   "execution_count": 45,
   "metadata": {},
   "outputs": [
    {
     "name": "stdout",
     "output_type": "stream",
     "text": [
      "\n"
     ]
    }
   ],
   "source": [
    "print(my_string_sequence[-22:-1:-1]) # prints nothing "
   ]
  },
  {
   "cell_type": "markdown",
   "metadata": {},
   "source": [
    "### Lists and Tuples:"
   ]
  },
  {
   "cell_type": "code",
   "execution_count": 46,
   "metadata": {},
   "outputs": [],
   "source": [
    "# Same rules as strings. Try it out here"
   ]
  },
  {
   "cell_type": "markdown",
   "metadata": {},
   "source": [
    "### Range:"
   ]
  },
  {
   "cell_type": "code",
   "execution_count": 46,
   "metadata": {},
   "outputs": [],
   "source": [
    "# Same rules as strings. Try it out here    "
   ]
  },
  {
   "cell_type": "markdown",
   "metadata": {},
   "source": [
    "# Assignment in Slices:\n",
    "Slices can also be assigned but only for mutable sequences. Changes to immutable sequences will throw an error.\n",
    "> **Note:**  \n",
    ">\n",
    "> 1- Unlike assignment to an index number where only one value is replaced, assignment to slices replaces more than one indices that were defined in the slice.\n",
    ">\n",
    "> 2- The assignment value should be the same sequence datatype. ie cannot assign a string or a tuple to a list type slice\n",
    ">\n",
    "> 3- The length of the assignment can be anything \n",
    "\n",
    "### Lists:\n",
    "Since list is a mutable sequence, we will start with that:"
   ]
  },
  {
   "cell_type": "code",
   "execution_count": 47,
   "metadata": {},
   "outputs": [
    {
     "name": "stdout",
     "output_type": "stream",
     "text": [
      "[23, 2, 1, 'I am a new list', ['Nested', True, 12, 2.2], 2.345]\n"
     ]
    }
   ],
   "source": [
    "my_list_sequence     = [23, False, 'Hello World', ['Nested', True, 12, 2.2], 2.345] # length: 5\n",
    "# Indexes:               0   1           2                   3                  4 \n",
    "\n",
    "my_list_sequence[1:3] = [2, 1, 'I am a new list']\n",
    "print(my_list_sequence)"
   ]
  },
  {
   "cell_type": "markdown",
   "metadata": {},
   "source": [
    "In the above example, `my_list_sequence[1:3]` represents `[False, 'Hello World']`. These two elements have been replaced by the elements inside `[2, 1, 'I am a new list']`\n",
    "\n",
    "So in short, whatever is returned by the slice (whether you use -ve or +ve indices), it gets replaces by the elements (of any quantity) in the newly assigned list. For example, assigning a shorter list:"
   ]
  },
  {
   "cell_type": "code",
   "execution_count": 48,
   "metadata": {},
   "outputs": [
    {
     "name": "stdout",
     "output_type": "stream",
     "text": [
      "['I am a new list', 2.345]\n"
     ]
    }
   ],
   "source": [
    "my_list_sequence     = [23, False, 'Hello World', ['Nested', True, 12, 2.2], 2.345] # length: 5\n",
    "# Indexes:               0   1           2                   3                  4 \n",
    "\n",
    "my_list_sequence[0:4] = ['I am a new list']\n",
    "print(my_list_sequence)"
   ]
  },
  {
   "cell_type": "markdown",
   "metadata": {},
   "source": [
    "### String and tuples:"
   ]
  },
  {
   "cell_type": "code",
   "execution_count": 49,
   "metadata": {},
   "outputs": [],
   "source": [
    "my_string_sequence = 'I am a string sequence'  # length: 22\n",
    "# index positions:    0123456789...........21\n",
    "                    \n",
    "my_tuple_sequence = (21, True, 'Hello-World', ['Nested', True, 12, 2.2], 3.4) # length: 5\n",
    "# index positions:   0     1          2                      3            4   "
   ]
  },
  {
   "cell_type": "markdown",
   "metadata": {},
   "source": [
    "Both string and tuples are immutable sequences. Thefore changing them will throw an error **TypeError: 'str' object does not support item assignment\n",
    "**\n",
    "    "
   ]
  },
  {
   "cell_type": "code",
   "execution_count": 50,
   "metadata": {},
   "outputs": [],
   "source": [
    "# my_string_sequence[1:18] = 'I am a New string sequence'                 \n",
    "# my_tuple_sequence[1:3] = (2, 1, 'I am a new tuple')"
   ]
  },
  {
   "cell_type": "code",
   "execution_count": null,
   "metadata": {},
   "outputs": [],
   "source": []
  }
 ],
 "metadata": {
  "kernelspec": {
   "display_name": "Python 3",
   "language": "python",
   "name": "python3"
  },
  "language_info": {
   "codemirror_mode": {
    "name": "ipython",
    "version": 3
   },
   "file_extension": ".py",
   "mimetype": "text/x-python",
   "name": "python",
   "nbconvert_exporter": "python",
   "pygments_lexer": "ipython3",
   "version": "3.8.7"
  }
 },
 "nbformat": 4,
 "nbformat_minor": 4
}
