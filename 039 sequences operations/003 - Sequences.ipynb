{
 "cells": [
  {
   "cell_type": "markdown",
   "metadata": {},
   "source": [
    "# Sequence\n",
    "\n",
    "In Python, sequence is the generic term for an ordered (and indexed) collection of items. There are several types of sequences in Python, the following three are the most important.\n",
    "\n",
    "**Strings** are a special type of text sequence that can only store unicode characters, and they have a special notation i.e represented by either single or double quotes. However, all of the sequence operations described here can also be used on strings. They are **immutable** (Once created, can't be changed).\n",
    "\n",
    "**Lists** are the most versatile sequence type. They are represented by square brackets [] and elements are separated using commas ,. The elements of a list can be any object, and lists are **mutable** (They can be changed) as elements can be reassigned or removed, and new elements can be inserted.\n",
    "\n",
    "**Tuples** are like lists. They are represented by round brackets () and elements are separated using commas , but they are **immutable** ( can't be changed) and generallyu used when we need read-only list.\n",
    "\n",
    "Other sequences built in python are:\n",
    "- **range** \n",
    "- **xrange** In python 2 only. Decomissioned in python 3 and renamed to range\n",
    "\n",
    "and Binary Sequence Types:\n",
    "- **bytes**\n",
    "- **bytearray**\n",
    "- **memoryview**\n",
    "\n",
    "\n",
    "Sequences have specific properties and support specific operations which we will discuss next."
   ]
  },
  {
   "cell_type": "code",
   "execution_count": null,
   "metadata": {},
   "outputs": [],
   "source": []
  }
 ],
 "metadata": {
  "kernelspec": {
   "display_name": "Python 3",
   "language": "python",
   "name": "python3"
  },
  "language_info": {
   "codemirror_mode": {
    "name": "ipython",
    "version": 3
   },
   "file_extension": ".py",
   "mimetype": "text/x-python",
   "name": "python",
   "nbconvert_exporter": "python",
   "pygments_lexer": "ipython3",
   "version": "3.8.7"
  }
 },
 "nbformat": 4,
 "nbformat_minor": 4
}
