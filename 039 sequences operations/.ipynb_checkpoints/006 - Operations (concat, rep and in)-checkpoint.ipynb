{
 "cells": [
  {
   "cell_type": "markdown",
   "metadata": {},
   "source": [
    "# Sequence Operations\n",
    "Sequences behave specifically with some operators. \n",
    "We will use the following three sequences to run operations in them:"
   ]
  },
  {
   "cell_type": "code",
   "execution_count": 2,
   "metadata": {},
   "outputs": [],
   "source": [
    "my_string_sequence = 'I am a string sequence'\n",
    "my_list_sequence = [23, False, 'Hello World', ['Nested', True, 12, 2.2]]\n",
    "my_tuple_sequence = (21, True, 'Hello-World', ['Nested', True, 12, 2.2])"
   ]
  },
  {
   "cell_type": "markdown",
   "metadata": {},
   "source": [
    "## Sequence concatenation (+ operator):\n",
    "'+' combines two sequences in a process called concatenation. For example, [1,2,3]+[4,5] will evaluate to [1,2,3,4,5]."
   ]
  },
  {
   "cell_type": "code",
   "execution_count": 3,
   "metadata": {},
   "outputs": [
    {
     "name": "stdout",
     "output_type": "stream",
     "text": [
      "I am a string sequence I am a second string\n"
     ]
    }
   ],
   "source": [
    "# String concatenation:\n",
    "another_string = 'I am a second string'\n",
    "new_string = my_string_sequence + ' ' + another_string\n",
    "print(new_string)"
   ]
  },
  {
   "cell_type": "code",
   "execution_count": 4,
   "metadata": {},
   "outputs": [
    {
     "name": "stdout",
     "output_type": "stream",
     "text": [
      "[23, False, 'Hello World', ['Nested', True, 12, 2.2], 'world', 21]\n"
     ]
    }
   ],
   "source": [
    "# List Concatenation\n",
    "another_list = ['world', 21 ]\n",
    "new_list = my_list_sequence + another_list\n",
    "print(new_list)"
   ]
  },
  {
   "cell_type": "code",
   "execution_count": 5,
   "metadata": {},
   "outputs": [
    {
     "name": "stdout",
     "output_type": "stream",
     "text": [
      "(21, True, 'Hello-World', ['Nested', True, 12, 2.2], 'world', 21)\n"
     ]
    }
   ],
   "source": [
    "# Tuple Concatenation \n",
    "another_tuple = ('world', 21)\n",
    "new_tuple = my_tuple_sequence + another_tuple\n",
    "print(new_tuple)"
   ]
  },
  {
   "cell_type": "markdown",
   "metadata": {},
   "source": [
    "> **Note:** We cannot mix different sequences in concatenation. So `print(my_string_sequence + my_list_sequence)` will throw an error. To overcome this, we can use typecasting to convert one of the variable type to match the other one during concatenation. \n",
    ">\n",
    "> For example, convert string to list() before concatenating to another list. string to list conversion breaks up the string's characters into separate list indices"
   ]
  },
  {
   "cell_type": "code",
   "execution_count": 6,
   "metadata": {},
   "outputs": [
    {
     "name": "stdout",
     "output_type": "stream",
     "text": [
      "['I', ' ', 'a', 'm', ' ', 'a', ' ', 's', 't', 'r', 'i', 'n', 'g', ' ', 's', 'e', 'q', 'u', 'e', 'n', 'c', 'e']\n",
      "['I', ' ', 'a', 'm', ' ', 'a', ' ', 's', 't', 'r', 'i', 'n', 'g', ' ', 's', 'e', 'q', 'u', 'e', 'n', 'c', 'e', 23, False, 'Hello World', ['Nested', True, 12, 2.2]]\n"
     ]
    }
   ],
   "source": [
    "print(list(my_string_sequence)) # after conversion of string to list \n",
    "print(list(my_string_sequence) + my_list_sequence) # after concat"
   ]
  },
  {
   "cell_type": "markdown",
   "metadata": {},
   "source": [
    "> Or convert list to str() before concatenating to another string. list to string conversion converts the list structure into one single string"
   ]
  },
  {
   "cell_type": "code",
   "execution_count": 7,
   "metadata": {},
   "outputs": [],
   "source": [
    "print(str(my_list_sequence)) # conversion of list to string. NOte that the output looks like a list but is actually a string.\n",
    "print(my_string_sequence + str(my_list_sequence))"
   ]
  },
  {
   "cell_type": "code",
   "execution_count": 7,
   "metadata": {},
   "outputs": [],
   "source": [
    "> **Note:** range() does not support sequence concatenation. It throws an error:\n",
    ">        \n",
    ">  TypeError: unsupported operand type(s) for +: 'range' and 'range'        "
   ]
  },
  {
   "cell_type": "code",
   "execution_count": 23,
   "metadata": {},
   "outputs": [
    {
     "ename": "TypeError",
     "evalue": "unsupported operand type(s) for +: 'range' and 'range'",
     "output_type": "error",
     "traceback": [
      "\u001b[1;31m---------------------------------------------------------------------------\u001b[0m",
      "\u001b[1;31mTypeError\u001b[0m                                 Traceback (most recent call last)",
      "\u001b[1;32m<ipython-input-23-535d0f87fb29>\u001b[0m in \u001b[0;36m<module>\u001b[1;34m\u001b[0m\n\u001b[0;32m      1\u001b[0m \u001b[0mmy_range\u001b[0m \u001b[1;33m=\u001b[0m \u001b[0mrange\u001b[0m\u001b[1;33m(\u001b[0m\u001b[1;36m10\u001b[0m\u001b[1;33m)\u001b[0m\u001b[1;33m\u001b[0m\u001b[1;33m\u001b[0m\u001b[0m\n\u001b[0;32m      2\u001b[0m \u001b[0mmy_range_2\u001b[0m \u001b[1;33m=\u001b[0m \u001b[0mrange\u001b[0m\u001b[1;33m(\u001b[0m\u001b[1;36m10\u001b[0m\u001b[1;33m,\u001b[0m \u001b[1;36m20\u001b[0m\u001b[1;33m)\u001b[0m\u001b[1;33m\u001b[0m\u001b[1;33m\u001b[0m\u001b[0m\n\u001b[1;32m----> 3\u001b[1;33m \u001b[0mmy_range\u001b[0m \u001b[1;33m+\u001b[0m \u001b[0mmy_range_2\u001b[0m\u001b[1;33m\u001b[0m\u001b[1;33m\u001b[0m\u001b[0m\n\u001b[0m",
      "\u001b[1;31mTypeError\u001b[0m: unsupported operand type(s) for +: 'range' and 'range'"
     ]
    }
   ],
   "source": [
    "my_range = range(10)\n",
    "my_range_2 = range(10, 20)\n",
    "# my_range + my_range_2"
   ]
  },
  {
   "cell_type": "markdown",
   "metadata": {},
   "source": [
    "## Sequence Repetition (* operator)\n",
    "'\\*' repeats a sequence a (positive integral) number of times. For example, [1, 11]*3 will evaluate to [1, 11, 1, 11, 1, 11]."
   ]
  },
  {
   "cell_type": "code",
   "execution_count": 8,
   "metadata": {},
   "outputs": [
    {
     "name": "stdout",
     "output_type": "stream",
     "text": [
      "I am a string sequenceI am a string sequenceI am a string sequence\n"
     ]
    }
   ],
   "source": [
    "new_string = my_string_sequence * 3\n",
    "print(new_string)"
   ]
  },
  {
   "cell_type": "code",
   "execution_count": 9,
   "metadata": {},
   "outputs": [
    {
     "name": "stdout",
     "output_type": "stream",
     "text": [
      "[23, False, 'Hello World', ['Nested', True, 12, 2.2], 23, False, 'Hello World', ['Nested', True, 12, 2.2], 23, False, 'Hello World', ['Nested', True, 12, 2.2]]\n"
     ]
    }
   ],
   "source": [
    "new_list = my_list_sequence * 3\n",
    "print(new_list)"
   ]
  },
  {
   "cell_type": "code",
   "execution_count": 10,
   "metadata": {},
   "outputs": [
    {
     "name": "stdout",
     "output_type": "stream",
     "text": [
      "(21, True, 'Hello-World', ['Nested', True, 12, 2.2], 21, True, 'Hello-World', ['Nested', True, 12, 2.2], 21, True, 'Hello-World', ['Nested', True, 12, 2.2])\n"
     ]
    }
   ],
   "source": [
    "new_tuple = my_tuple_sequence * 3\n",
    "print(new_tuple)"
   ]
  },
  {
   "cell_type": "markdown",
   "metadata": {},
   "source": [
    "> **Note** \\* works with a positive 'int' greater than 0. \n",
    ">\n",
    ">Using a zeroor negative number will return an empty object of the same type. \n",
    ">\n",
    "> Using a float ie `my_string_sequence * 2.4` will throw an error **TypeError: can't multiply sequence by non-int of type 'float'**\n",
    ">\n",
    "> For example:"
   ]
  },
  {
   "cell_type": "code",
   "execution_count": 11,
   "metadata": {},
   "outputs": [
    {
     "name": "stdout",
     "output_type": "stream",
     "text": [
      "\n"
     ]
    }
   ],
   "source": [
    "print(my_string_sequence * -2)"
   ]
  },
  {
   "cell_type": "code",
   "execution_count": 12,
   "metadata": {},
   "outputs": [
    {
     "name": "stdout",
     "output_type": "stream",
     "text": [
      "[]\n"
     ]
    }
   ],
   "source": [
    "print(my_list_sequence * -3)"
   ]
  },
  {
   "cell_type": "code",
   "execution_count": 13,
   "metadata": {},
   "outputs": [
    {
     "name": "stdout",
     "output_type": "stream",
     "text": [
      "()\n"
     ]
    }
   ],
   "source": [
    "print(my_tuple_sequence * -3)"
   ]
  },
  {
   "cell_type": "code",
   "execution_count": 14,
   "metadata": {},
   "outputs": [],
   "source": [
    "print(my_list_sequence * 0)"
   ]
  },
  {
   "cell_type": "markdown",
   "metadata": {},
   "source": [
    "> **Note:** range() does not support sequence multiplication. It throws an error:\n",
    ">        \n",
    ">  TypeError: unsupported operand type(s) for *: 'range' and 'range'        "
   ]
  },
  {
   "cell_type": "code",
   "execution_count": 24,
   "metadata": {},
   "outputs": [
    {
     "ename": "TypeError",
     "evalue": "unsupported operand type(s) for *: 'range' and 'range'",
     "output_type": "error",
     "traceback": [
      "\u001b[1;31m---------------------------------------------------------------------------\u001b[0m",
      "\u001b[1;31mTypeError\u001b[0m                                 Traceback (most recent call last)",
      "\u001b[1;32m<ipython-input-24-8884d4862bab>\u001b[0m in \u001b[0;36m<module>\u001b[1;34m\u001b[0m\n\u001b[0;32m      1\u001b[0m \u001b[0mmy_range\u001b[0m \u001b[1;33m=\u001b[0m \u001b[0mrange\u001b[0m\u001b[1;33m(\u001b[0m\u001b[1;36m10\u001b[0m\u001b[1;33m)\u001b[0m\u001b[1;33m\u001b[0m\u001b[1;33m\u001b[0m\u001b[0m\n\u001b[0;32m      2\u001b[0m \u001b[0mmy_range_2\u001b[0m \u001b[1;33m=\u001b[0m \u001b[0mrange\u001b[0m\u001b[1;33m(\u001b[0m\u001b[1;36m10\u001b[0m\u001b[1;33m,\u001b[0m \u001b[1;36m20\u001b[0m\u001b[1;33m)\u001b[0m\u001b[1;33m\u001b[0m\u001b[1;33m\u001b[0m\u001b[0m\n\u001b[1;32m----> 3\u001b[1;33m \u001b[0mmy_range\u001b[0m \u001b[1;33m*\u001b[0m \u001b[0mmy_range_2\u001b[0m\u001b[1;33m\u001b[0m\u001b[1;33m\u001b[0m\u001b[0m\n\u001b[0m",
      "\u001b[1;31mTypeError\u001b[0m: unsupported operand type(s) for *: 'range' and 'range'"
     ]
    }
   ],
   "source": [
    "my_range = range(10)\n",
    "my_range_2 = range(10, 20)\n",
    "# my_range * my_range_2"
   ]
  },
  {
   "cell_type": "markdown",
   "metadata": {},
   "source": [
    "# Sequence Membership Operators ('in' and 'not in')\n",
    "x in mySeq will return 'True' if x is an element of mySeq, and 'False' otherwise. \n",
    "You can negate this statement with either `not (x in mySeq)` or `x not in mySeq`."
   ]
  },
  {
   "cell_type": "code",
   "execution_count": 15,
   "metadata": {},
   "outputs": [
    {
     "name": "stdout",
     "output_type": "stream",
     "text": [
      "True\n"
     ]
    }
   ],
   "source": [
    "# String:\n",
    "my_string_sequence = 'I am a string sequence'\n",
    "print('I am' in my_string_sequence )"
   ]
  },
  {
   "cell_type": "code",
   "execution_count": 16,
   "metadata": {},
   "outputs": [
    {
     "name": "stdout",
     "output_type": "stream",
     "text": [
      "False\n"
     ]
    }
   ],
   "source": [
    "print('I am lumber ONE' in my_string_sequence )"
   ]
  },
  {
   "cell_type": "code",
   "execution_count": 17,
   "metadata": {},
   "outputs": [
    {
     "name": "stdout",
     "output_type": "stream",
     "text": [
      "True\n"
     ]
    }
   ],
   "source": [
    "print('I am lumber ONE' not in my_string_sequence )"
   ]
  },
  {
   "cell_type": "code",
   "execution_count": 18,
   "metadata": {},
   "outputs": [
    {
     "name": "stdout",
     "output_type": "stream",
     "text": [
      "True\n",
      "True\n"
     ]
    }
   ],
   "source": [
    "# List:\n",
    "my_list_sequence = [23, False, 'Hello World', ['Nested', True, 12, 2.2]]\n",
    "print('Hello World' in my_list_sequence )\n",
    "print(['Nested', True, 12, 2.2] in my_list_sequence )"
   ]
  },
  {
   "cell_type": "code",
   "execution_count": 19,
   "metadata": {},
   "outputs": [
    {
     "name": "stdout",
     "output_type": "stream",
     "text": [
      "False\n"
     ]
    }
   ],
   "source": [
    "print('Hello World' not in my_list_sequence )"
   ]
  },
  {
   "cell_type": "code",
   "execution_count": 21,
   "metadata": {},
   "outputs": [
    {
     "name": "stdout",
     "output_type": "stream",
     "text": [
      "True\n"
     ]
    }
   ],
   "source": [
    "# range\n",
    "my_range = range(10) # generate a range of numbers from 0 to 9\n",
    "print(1 in my_range)"
   ]
  },
  {
   "cell_type": "code",
   "execution_count": null,
   "metadata": {},
   "outputs": [],
   "source": []
  }
 ],
 "metadata": {
  "kernelspec": {
   "display_name": "Python 3",
   "language": "python",
   "name": "python3"
  },
  "language_info": {
   "codemirror_mode": {
    "name": "ipython",
    "version": 3
   },
   "file_extension": ".py",
   "mimetype": "text/x-python",
   "name": "python",
   "nbconvert_exporter": "python",
   "pygments_lexer": "ipython3",
   "version": "3.8.7"
  }
 },
 "nbformat": 4,
 "nbformat_minor": 4
}
