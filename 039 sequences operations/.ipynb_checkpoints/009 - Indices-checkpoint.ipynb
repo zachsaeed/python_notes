{
 "cells": [
  {
   "cell_type": "markdown",
   "metadata": {},
   "source": [
    "# Sequence Index []\n",
    "\n",
    "# Positive Indexes:\n",
    "In sequences, elements are stored against indices. To access an element on a certain index, we use [index] next to the variable name ie sequence_var[x].\n",
    "Sequences in Python are zero-indexed, so from left to right, the first element has index 0, the second has index 1, and so on, with the last element at index: SequenceLength-1 (Since indexing started at 0)"
   ]
  },
  {
   "cell_type": "code",
   "execution_count": 25,
   "metadata": {},
   "outputs": [],
   "source": [
    "my_string_sequence = 'I am a string sequence'  # length: 22\n",
    "# index positions:    0123456789...........21\n",
    "\n",
    "my_list_sequence = [23, False, 'Hello World', ['Nested', True, 12, 2.2]] # length: 4\n",
    "# index positions:  0     1          2                       3   \n",
    "\n",
    "my_tuple_sequence = (21, True, 'Hello-World', ['Nested', True, 12, 2.2], 3.4) # length: 5\n",
    "# index positions:   0     1          2                      3            4   \n",
    "\n",
    "my_range = range(1, 100, 2)\n",
    "# This range object contains the values [1, 3, 5, 7, 9, 11, 13, 15, 17, 19, 21, 23, 25, 27, 29, 31, 33, 35, 37, 39, 41, 43, 45, 47, 49, 51, 53, 55, 57, 59, 61, 63, 65, 67, 69, 71, 73, 75, 77, 79, 81, 83, 85, 87, 89, 91, 93, 95, 97, 99]"
   ]
  },
  {
   "cell_type": "markdown",
   "metadata": {},
   "source": [
    "## String:"
   ]
  },
  {
   "cell_type": "code",
   "execution_count": 26,
   "metadata": {},
   "outputs": [
    {
     "name": "stdout",
     "output_type": "stream",
     "text": [
      "I\n"
     ]
    }
   ],
   "source": [
    "print(my_string_sequence[0])  # first element"
   ]
  },
  {
   "cell_type": "code",
   "execution_count": 27,
   "metadata": {},
   "outputs": [
    {
     "name": "stdout",
     "output_type": "stream",
     "text": [
      "22\n"
     ]
    }
   ],
   "source": [
    "print(len(my_string_sequence)) # Length of string"
   ]
  },
  {
   "cell_type": "code",
   "execution_count": 28,
   "metadata": {},
   "outputs": [
    {
     "name": "stdout",
     "output_type": "stream",
     "text": [
      "e\n"
     ]
    }
   ],
   "source": [
    "last_index = len(my_string_sequence) - 1\n",
    "print(my_string_sequence[last_index]) # last element of string"
   ]
  },
  {
   "cell_type": "code",
   "execution_count": 29,
   "metadata": {},
   "outputs": [
    {
     "name": "stdout",
     "output_type": "stream",
     "text": [
      "e\n"
     ]
    }
   ],
   "source": [
    "# or the same as above in one line:\n",
    "print( my_string_sequence[len(my_string_sequence) - 1] ) # last element of string    "
   ]
  },
  {
   "cell_type": "markdown",
   "metadata": {},
   "source": [
    "## List and tuple:"
   ]
  },
  {
   "cell_type": "code",
   "execution_count": 30,
   "metadata": {},
   "outputs": [],
   "source": [
    "# same rules as above. Try it out yourselves"
   ]
  },
  {
   "cell_type": "markdown",
   "metadata": {},
   "source": [
    "## range():"
   ]
  },
  {
   "cell_type": "code",
   "execution_count": 31,
   "metadata": {},
   "outputs": [
    {
     "name": "stdout",
     "output_type": "stream",
     "text": [
      "1\n",
      "21\n"
     ]
    }
   ],
   "source": [
    "# same rules as above. Try it out yourselves\n",
    "print(my_range[0])\n",
    "print(my_range[10])"
   ]
  },
  {
   "cell_type": "markdown",
   "metadata": {},
   "source": [
    "# Negative Indexes\n",
    "Negative indices in python start from right to left with the last element (on the right) at -1 and the first element (on the left) at -length (Due to zero indexes).\n",
    "\n",
    "In other words, mySeq[-i] will return the i'th element from the end of mySeq, so mySeq[-1] is the last element of mySeq, mySeq[-2] is the second-to-last element, etc."
   ]
  },
  {
   "cell_type": "code",
   "execution_count": 32,
   "metadata": {},
   "outputs": [],
   "source": [
    "my_string_sequence = 'I am a string sequence'  # length: 22\n",
    "# index positions: -length................-1\n",
    "\n",
    "my_list_sequence = [23, False, 'Hello World', ['Nested', True, 12, 2.2]] # length: 4\n",
    "# index positions:  -4    -3        -2                      -1   \n",
    "\n",
    "my_tuple_sequence = (21, True, 'Hello-World', ['Nested', True, 12, 2.2], 3.4) # length: 5\n",
    "# index positions:   -5    -4        -3                     -2            -1   "
   ]
  },
  {
   "cell_type": "markdown",
   "metadata": {},
   "source": [
    "## Strings"
   ]
  },
  {
   "cell_type": "code",
   "execution_count": 33,
   "metadata": {},
   "outputs": [
    {
     "name": "stdout",
     "output_type": "stream",
     "text": [
      "e\n"
     ]
    }
   ],
   "source": [
    "print(my_string_sequence[-1]) # last element"
   ]
  },
  {
   "cell_type": "code",
   "execution_count": 34,
   "metadata": {},
   "outputs": [
    {
     "name": "stdout",
     "output_type": "stream",
     "text": [
      "I\n"
     ]
    }
   ],
   "source": [
    "print(my_string_sequence[-len(my_string_sequence)]) # first element. Note the negative index: -len(my_string_sequence)"
   ]
  },
  {
   "cell_type": "markdown",
   "metadata": {},
   "source": [
    "## List and tuple:"
   ]
  },
  {
   "cell_type": "code",
   "execution_count": 35,
   "metadata": {},
   "outputs": [],
   "source": [
    "# same rules as above. Try it out yourselves"
   ]
  },
  {
   "cell_type": "markdown",
   "metadata": {},
   "source": [
    "## range():"
   ]
  },
  {
   "cell_type": "code",
   "execution_count": 36,
   "metadata": {},
   "outputs": [
    {
     "name": "stdout",
     "output_type": "stream",
     "text": [
      "50\n"
     ]
    }
   ],
   "source": [
    "print(len(my_range))"
   ]
  },
  {
   "cell_type": "markdown",
   "metadata": {},
   "source": [
    "# Assignment to an Index\n",
    "We can assign values to an existing index if it is a mutable datatype (That can be changed)\n",
    "\n",
    "## String (immutable):\n",
    "Since string is an immutable datatype, we cannot change the object after it is created"
   ]
  },
  {
   "cell_type": "code",
   "execution_count": 37,
   "metadata": {},
   "outputs": [
    {
     "name": "stdout",
     "output_type": "stream",
     "text": [
      "I am a string sequence\n"
     ]
    }
   ],
   "source": [
    "print(my_string_sequence) # original string"
   ]
  },
  {
   "cell_type": "markdown",
   "metadata": {},
   "source": [
    "> **Note:** Since a string is immutable, my_string_sequence[3] = 'R' will throw an error: **TypeError: 'str' object does not support item assignment**. You can try it out by uncommenting below:"
   ]
  },
  {
   "cell_type": "code",
   "execution_count": 38,
   "metadata": {},
   "outputs": [],
   "source": [
    "# my_list_sequence[3] = 'Replace with this string'\n",
    "# my_list_sequence[3] = 'e'"
   ]
  },
  {
   "cell_type": "markdown",
   "metadata": {},
   "source": [
    "## List (mutable): \n",
    "Since list is mutable,"
   ]
  },
  {
   "cell_type": "code",
   "execution_count": 39,
   "metadata": {},
   "outputs": [
    {
     "name": "stdout",
     "output_type": "stream",
     "text": [
      "[23, False, 'Hello World', ['Nested', True, 12, 2.2]]\n"
     ]
    }
   ],
   "source": [
    "print(my_list_sequence) # original list"
   ]
  },
  {
   "cell_type": "code",
   "execution_count": 40,
   "metadata": {},
   "outputs": [
    {
     "name": "stdout",
     "output_type": "stream",
     "text": [
      "[23, False, 'Hello World', 'Replace with this string']\n"
     ]
    }
   ],
   "source": [
    "my_list_sequence[3] = 'Replace with this string'\n",
    "print(my_list_sequence)"
   ]
  },
  {
   "cell_type": "code",
   "execution_count": 41,
   "metadata": {},
   "outputs": [
    {
     "name": "stdout",
     "output_type": "stream",
     "text": [
      "[23, False, 'Hello World', 24]\n"
     ]
    }
   ],
   "source": [
    "my_list_sequence[-1] = 24\n",
    "print(my_list_sequence)"
   ]
  },
  {
   "cell_type": "markdown",
   "metadata": {},
   "source": [
    "## Tuple (immutable):\n",
    "Since tuple is an immutable datatype, we can access the indices but cannot change the element values inside a tuple object after it is created"
   ]
  },
  {
   "cell_type": "code",
   "execution_count": 42,
   "metadata": {},
   "outputs": [
    {
     "name": "stdout",
     "output_type": "stream",
     "text": [
      "(21, True, 'Hello-World', ['Nested', True, 12, 2.2], 3.4)\n"
     ]
    }
   ],
   "source": [
    "print(my_tuple_sequence) # original tuple"
   ]
  },
  {
   "cell_type": "markdown",
   "metadata": {},
   "source": [
    "> **Note:** Since a tuple is immutable, my_tuple_sequence[3] = 'R' will throw an error: **TypeError: 'tuple' object does not support item assignment**. You can try it out by uncommenting below:"
   ]
  },
  {
   "cell_type": "code",
   "execution_count": 43,
   "metadata": {},
   "outputs": [],
   "source": [
    "# my_tuple_sequence[3] = 'Replace with this element'\n",
    "# my_tuple_sequence[3] = 'e'"
   ]
  },
  {
   "cell_type": "markdown",
   "metadata": {},
   "source": [
    "# Range (immutable):\n",
    "Since range is an immutable datatype, we can access the indices but cannot change the element values inside a range object after it is created"
   ]
  },
  {
   "cell_type": "code",
   "execution_count": 44,
   "metadata": {},
   "outputs": [
    {
     "name": "stdout",
     "output_type": "stream",
     "text": [
      "range(1, 100, 2)\n"
     ]
    }
   ],
   "source": [
    "print(my_range)"
   ]
  },
  {
   "cell_type": "markdown",
   "metadata": {},
   "source": [
    "> **Note:** Since a range is immutable, my_range[3] = 'R' will throw an error: **TypeError: 'range' object does not support item assignment**. You can try it out by uncommenting below:"
   ]
  },
  {
   "cell_type": "code",
   "execution_count": 46,
   "metadata": {},
   "outputs": [
    {
     "ename": "TypeError",
     "evalue": "'range' object does not support item assignment",
     "output_type": "error",
     "traceback": [
      "\u001b[1;31m---------------------------------------------------------------------------\u001b[0m",
      "\u001b[1;31mTypeError\u001b[0m                                 Traceback (most recent call last)",
      "\u001b[1;32m<ipython-input-46-4e2b2cd4c82f>\u001b[0m in \u001b[0;36m<module>\u001b[1;34m\u001b[0m\n\u001b[1;32m----> 1\u001b[1;33m \u001b[0mmy_range\u001b[0m\u001b[1;33m[\u001b[0m\u001b[1;36m3\u001b[0m\u001b[1;33m]\u001b[0m \u001b[1;33m=\u001b[0m \u001b[1;36m1\u001b[0m\u001b[1;33m\u001b[0m\u001b[1;33m\u001b[0m\u001b[0m\n\u001b[0m\u001b[0;32m      2\u001b[0m \u001b[0mmy_range\u001b[0m\u001b[1;33m[\u001b[0m\u001b[1;36m0\u001b[0m\u001b[1;33m]\u001b[0m \u001b[1;33m=\u001b[0m \u001b[1;36m3\u001b[0m\u001b[1;33m\u001b[0m\u001b[1;33m\u001b[0m\u001b[0m\n",
      "\u001b[1;31mTypeError\u001b[0m: 'range' object does not support item assignment"
     ]
    }
   ],
   "source": [
    "# my_range[3] = 1\n",
    "# my_range[0] = 3"
   ]
  },
  {
   "cell_type": "code",
   "execution_count": null,
   "metadata": {},
   "outputs": [],
   "source": []
  }
 ],
 "metadata": {
  "kernelspec": {
   "display_name": "Python 3",
   "language": "python",
   "name": "python3"
  },
  "language_info": {
   "codemirror_mode": {
    "name": "ipython",
    "version": 3
   },
   "file_extension": ".py",
   "mimetype": "text/x-python",
   "name": "python",
   "nbconvert_exporter": "python",
   "pygments_lexer": "ipython3",
   "version": "3.8.7"
  }
 },
 "nbformat": 4,
 "nbformat_minor": 4
}
