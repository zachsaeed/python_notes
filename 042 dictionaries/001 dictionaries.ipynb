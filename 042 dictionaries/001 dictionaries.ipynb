{
 "cells": [
  {
   "cell_type": "markdown",
   "metadata": {},
   "source": [
    "# Dictionaries\n",
    "Dictionary is one of built-in data types in Python used to store collections of data in the form of key:value pairs. \n",
    "\n",
    "A Dictionary is a collection which is\n",
    "\n",
    "- mutable (can be changed / modified). ie key:value pairs can be added and removed.\n",
    "- Keys must be unique. Duplicate keys are not allowed as they are used to reference the elements of the dictionary.\n",
    "- However, Dictionaries allow only immutable types for it's keys and any mutable/immutable datatype as it's elements. \n",
    "- Since the keys are immutable types, they cannot be changed. Only added or removed\n",
    "- Not a sequence type ie Even though a dictionary is ordered (as of pyhon 3.7), it is unindexed \n",
    "\n",
    "A dictionary is defined using {} containing a list of comma separated key:value pair elements. "
   ]
  },
  {
   "cell_type": "code",
   "execution_count": 8,
   "metadata": {},
   "outputs": [
    {
     "name": "stdout",
     "output_type": "stream",
     "text": [
      "Ford\n"
     ]
    }
   ],
   "source": [
    "thisdict = {\n",
    "  \"brand\": \"Ford\",\n",
    "  \"model\": \"Mustang\",\n",
    "  \"year\": 1964\n",
    "}\n",
    "print(thisdict[\"brand\"])"
   ]
  },
  {
   "cell_type": "code",
   "execution_count": 9,
   "metadata": {},
   "outputs": [
    {
     "name": "stdout",
     "output_type": "stream",
     "text": [
      "{'brand': 'Ford', 'model': 'Suzuki', 'year': 1964}\n"
     ]
    }
   ],
   "source": [
    "# Only allows unique keys. If keys match, the last key will be used\n",
    "thisdict = {\n",
    "  \"brand\": \"Ford\",\n",
    "  \"model\": \"Mustang\",\n",
    "  \"year\": 1964,\n",
    "  \"model\": \"Suzuki\"  \n",
    "}\n",
    "print(thisdict)"
   ]
  },
  {
   "cell_type": "code",
   "execution_count": 10,
   "metadata": {},
   "outputs": [
    {
     "name": "stdout",
     "output_type": "stream",
     "text": [
      "{(1, 2, 3): 2.2, 32: [4, 5, 6, 7], 'astring': 1964, frozenset({1, 2, 3}): (4, 5, 6)}\n"
     ]
    }
   ],
   "source": [
    "# Keys can only be immutable types but values can be any type\n",
    "thisdict = {\n",
    "  (1,2,3): 2.2, # key is a tuple which is immutable\n",
    "  32: [4,5,6,7], # key is an int which is immutable\n",
    "  \"astring\": 1964,\n",
    "  frozenset({1,2,3}): (4,5,6)\n",
    "  # [1,2,3,4]: 'my key is a list' # will throw error: SyntaxError: invalid syntax since the key is a list which is mutable  \n",
    "}\n",
    "print(thisdict)"
   ]
  },
  {
   "cell_type": "markdown",
   "metadata": {},
   "source": [
    "## The dict() constructor method\n",
    "There are 3 ways of creating a dictionary using the dict() constructor method: \n",
    "- dict(**kwarg)\n",
    "- dict(mapping, **kwarg)\n",
    "- dict(iterable, **kwarg)\n",
    "> Note: We will cover **kwarg in the functions section "
   ]
  },
  {
   "cell_type": "code",
   "execution_count": 7,
   "metadata": {},
   "outputs": [
    {
     "name": "stdout",
     "output_type": "stream",
     "text": [
      "{}\n"
     ]
    }
   ],
   "source": [
    "# An empty dictionary:\n",
    "empty = dict()\n",
    "print(empty)"
   ]
  },
  {
   "cell_type": "code",
   "execution_count": 5,
   "metadata": {},
   "outputs": [
    {
     "name": "stdout",
     "output_type": "stream",
     "text": [
      "{'key': 5, 'y': 0, 'z': 'I am a string'}\n",
      "<class 'dict'>\n"
     ]
    }
   ],
   "source": [
    "# Create Dictionary Using keyword arguments only\n",
    "numbers = dict(key=5, y=0, z='I am a string')\n",
    "print(numbers)"
   ]
  },
  {
   "cell_type": "code",
   "execution_count": 6,
   "metadata": {},
   "outputs": [
    {
     "name": "stdout",
     "output_type": "stream",
     "text": [
      "{'x': 5, 'y': -5}\n",
      "{'x': 5, 'y': -5, 'z': 8}\n",
      "{'x': 1, 'y': 2, 'z': 3}\n"
     ]
    }
   ],
   "source": [
    "# Create Dictionary Using Iterable\n",
    "# keyword argument is not passed\n",
    "numbers1 = dict([('x', 5), ('y', -5)])\n",
    "print(numbers1)\n",
    "\n",
    "# keyword argument is also passed\n",
    "numbers2 = dict([('x', 5), ('y', -5)], z=8)\n",
    "print(numbers2)\n",
    "\n",
    "# zip() creates an iterable in Python 3 (We will cover iterables later)\n",
    "numbers3 = dict(dict(zip(['x', 'y', 'z'], [1, 2, 3])))\n",
    "print(numbers3)"
   ]
  },
  {
   "cell_type": "code",
   "execution_count": 9,
   "metadata": {},
   "outputs": [
    {
     "name": "stdout",
     "output_type": "stream",
     "text": [
      "{'x': 4, 'y': 5}\n",
      "{'x': 4, 'y': 5}\n",
      "{'x': 4, 'y': 5, 'z': 8}\n"
     ]
    }
   ],
   "source": [
    "# Create Dictionary Using Mapping\n",
    "numbers1 = dict({'x': 4, 'y': 5})\n",
    "print(numbers1)\n",
    "\n",
    "# you don't need to use dict() in above code\n",
    "numbers2 = {'x': 4, 'y': 5}\n",
    "print(numbers2)\n",
    "\n",
    "# keyword argument is also passed. Keyword arguments will be covered later\n",
    "numbers3 = dict({'x': 4, 'y': 5}, z=8)\n",
    "print(numbers3)"
   ]
  },
  {
   "cell_type": "code",
   "execution_count": null,
   "metadata": {},
   "outputs": [],
   "source": []
  }
 ],
 "metadata": {
  "kernelspec": {
   "display_name": "Python 3",
   "language": "python",
   "name": "python3"
  },
  "language_info": {
   "codemirror_mode": {
    "name": "ipython",
    "version": 3
   },
   "file_extension": ".py",
   "mimetype": "text/x-python",
   "name": "python",
   "nbconvert_exporter": "python",
   "pygments_lexer": "ipython3",
   "version": "3.8.7"
  }
 },
 "nbformat": 4,
 "nbformat_minor": 4
}
