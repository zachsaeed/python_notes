{
 "cells": [
  {
   "cell_type": "markdown",
   "metadata": {},
   "source": [
    "# Python while loop\n",
    "Python while loop is used to repeatedly execute some statements until the condition is true. The basic structure of python while loop is:\n",
    "```console\n",
    "While condition :\n",
    "    #Start of the statements\n",
    "    Statement\n",
    "    . . . . . . .\n",
    "    Statement\n",
    "    #End of the Statements\n",
    "else : #this scope is optional\n",
    "    # This statements will be executed if the while loop ends naturally. It is not executed if while stops due to a break statement\n",
    "```\n",
    "\n",
    "In this example, we are printing numbers from 1 to 4 inside loop and 5 in outside of the loop"
   ]
  },
  {
   "cell_type": "code",
   "execution_count": 1,
   "metadata": {},
   "outputs": [
    {
     "name": "stdout",
     "output_type": "stream",
     "text": [
      "1 This is inside of while loop\n",
      "2 This is inside of while loop\n",
      "3 This is inside of while loop\n",
      "4 This is inside of while loop\n",
      "5 This is outside of while loop\n"
     ]
    }
   ],
   "source": [
    "cnt=1 #this is the initial variable\n",
    "\n",
    "while cnt < 5 :\n",
    "    #inside of while loop\n",
    "    print (cnt,\"This is inside of while loop\")\n",
    "    cnt+=1\n",
    "else :\n",
    "    #this statement will be printed if cnt is equals to 5\n",
    "    print (cnt, \"This is outside of while loop\")"
   ]
  },
  {
   "cell_type": "markdown",
   "metadata": {},
   "source": [
    "In the previous for loop tutorial, we print each letter from words. We can implement that using while loop too:"
   ]
  },
  {
   "cell_type": "code",
   "execution_count": null,
   "metadata": {},
   "outputs": [],
   "source": [
    "word=\"anaconda\"\n",
    "pos=0  # initial position is zero\n",
    "\n",
    "while pos < len(word) :\n",
    "    print (word[pos])\n",
    "    # increment the position after printing the letter of that position\n",
    "    pos+=1 "
   ]
  },
  {
   "cell_type": "markdown",
   "metadata": {},
   "source": [
    "An interesting fact about the loop is if you implement something using for loop, you can implement that in a while loop too. \n",
    "\n",
    "## Python Nested while loop\n",
    "You can write while loop inside another while loop. Suppose you need to print a pattern like this\n",
    "\n",
    "1\n",
    "1 2\n",
    "1 2 3\n",
    "1 2 3 4\n",
    "1 2 3 4 5\n",
    "The following code will illustrate how to implement that using nested while loop."
   ]
  },
  {
   "cell_type": "code",
   "execution_count": 29,
   "metadata": {},
   "outputs": [
    {
     "name": "stdout",
     "output_type": "stream",
     "text": [
      "1\n",
      "1 2\n",
      "1 2 3\n",
      "1 2 3 4\n",
      "1 2 3 4 5\n"
     ]
    }
   ],
   "source": [
    "line_number = 1 # this is the initial variable\n",
    "\n",
    "while line_number <= 5 : # The first loop represents each line number\n",
    "    count = 1    \n",
    "    while count < line_number: # the second loop defines the counting for the current line          \n",
    "        print(str(count), end = \" \")  # print ends with a default new-line. This will print space instead of newline    \n",
    "        count += 1  # increment the value of pos by one\n",
    "    else:\n",
    "        print(count)  # This prints the last value for a line and automatically ends with a new-line character        \n",
    "    # increment the value of line by one\n",
    "    line_number += 1"
   ]
  },
  {
   "cell_type": "markdown",
   "metadata": {},
   "source": [
    "## Python while loop infinite problem\n",
    "Since the while loop will continue to run until the condition becomes false, you should make sure it does otherwise program will never end. Sometimes it can come handy when you want your program to wait for some input and keep checking continuously.\n",
    "\n",
    "```python\n",
    "var = 100\n",
    "while var == 100 :  # an infinite loop\n",
    "   data = input(\"Enter something:\")\n",
    "   print (\"You entered : \", data)\n",
    "\n",
    "print (\"Good Bye Friend!\")\n",
    "```\n",
    "\n",
    "If you run the above program, it will never end and you will have to kill it using the Ctrl+C keyboard command."
   ]
  },
  {
   "cell_type": "code",
   "execution_count": null,
   "metadata": {},
   "outputs": [],
   "source": []
  }
 ],
 "metadata": {
  "kernelspec": {
   "display_name": "Python 3",
   "language": "python",
   "name": "python3"
  },
  "language_info": {
   "codemirror_mode": {
    "name": "ipython",
    "version": 3
   },
   "file_extension": ".py",
   "mimetype": "text/x-python",
   "name": "python",
   "nbconvert_exporter": "python",
   "pygments_lexer": "ipython3",
   "version": "3.8.7"
  }
 },
 "nbformat": 4,
 "nbformat_minor": 4
}
