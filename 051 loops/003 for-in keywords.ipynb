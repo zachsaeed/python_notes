{
 "cells": [
  {
   "cell_type": "markdown",
   "metadata": {},
   "source": [
    "Python for loop is used to iterate over a list of elements or strings. For loop is present in almost all programming languages and is used for iteration, same is the case with python for loops too. \n",
    "\n",
    "## Python for loop\n",
    "Python for loop is used to iterate over an iterable object like list, tuple, range or strings. The basic structure of Python for loop is given below.\n",
    "\n",
    "```console\n",
    "for itarator_current_position in iterable_object:\n",
    "    Statements\n",
    "    . . .\n",
    "    Statements\n",
    "else : #this scope is optional\n",
    "    # This statements will be executed if the loop completes normally and it was not stopped by a break statement.\n",
    "    # If the loop encounters a break statement, this else wont run\n",
    "```\n",
    "item_current_position references the current position of our iterator within the iterable.\n",
    "It will iterate over (run through) every item of the collection and then end when it has visited all items\n",
    "\n",
    "### Looping through strings\n",
    "For example, suppose we have a word, we need to print each letter of that word. So we can use python for loop as shown below."
   ]
  },
  {
   "cell_type": "code",
   "execution_count": 65,
   "metadata": {},
   "outputs": [
    {
     "name": "stdout",
     "output_type": "stream",
     "text": [
      "a\n",
      "n\n",
      "a\n",
      "c\n",
      "o\n",
      "n\n",
      "d\n",
      "a\n"
     ]
    }
   ],
   "source": [
    "# For in loop in strings:\n",
    "word = \"anaconda\"\n",
    "\n",
    "for letter in word:\n",
    "    print (letter)"
   ]
  },
  {
   "cell_type": "markdown",
   "metadata": {},
   "source": [
    "### Looping through lists\n",
    "Again, you can use for loop to access a List data. Following code can help to understand the thing."
   ]
  },
  {
   "cell_type": "code",
   "execution_count": 66,
   "metadata": {},
   "outputs": [
    {
     "name": "stdout",
     "output_type": "stream",
     "text": [
      "Apple\n",
      "Banana\n",
      "Car\n",
      "Dolphin\n"
     ]
    }
   ],
   "source": [
    "# For in loop with list\n",
    "words = [\"Apple\", \"Banana\", \"Car\", \"Dolphin\" ]\n",
    "\n",
    "for word in words:\n",
    "    print (word)"
   ]
  },
  {
   "cell_type": "markdown",
   "metadata": {},
   "source": [
    "### Looping through range\n",
    "Range is used in loopes to generate a range of numbers which we can use in our loop. For example:"
   ]
  },
  {
   "cell_type": "code",
   "execution_count": 67,
   "metadata": {},
   "outputs": [
    {
     "name": "stdout",
     "output_type": "stream",
     "text": [
      "1\n",
      "7\n",
      "13\n",
      "19\n",
      "25\n",
      "31\n",
      "37\n",
      "43\n",
      "49\n",
      "55\n",
      "61\n",
      "67\n",
      "73\n",
      "79\n",
      "85\n",
      "91\n",
      "97\n"
     ]
    }
   ],
   "source": [
    "# For in Loop with range\n",
    "for range_int in range(1,100,6): # Note range step is 6\n",
    "    print(range_int)"
   ]
  },
  {
   "cell_type": "markdown",
   "metadata": {},
   "source": [
    "In the following case, we can use range items as indices for any sequence type:  "
   ]
  },
  {
   "cell_type": "code",
   "execution_count": 68,
   "metadata": {},
   "outputs": [
    {
     "name": "stdout",
     "output_type": "stream",
     "text": [
      "red\n",
      "green\n",
      "blue\n",
      "purple\n"
     ]
    }
   ],
   "source": [
    "colors = [\"red\", \"green\", \"blue\", \"purple\"]\n",
    "for i in range(len(colors)):   # Notice we are defining the range using len()\n",
    "    print(colors[i])"
   ]
  },
  {
   "cell_type": "markdown",
   "metadata": {},
   "source": [
    "For comparision with the above, for-in in the usual way:"
   ]
  },
  {
   "cell_type": "code",
   "execution_count": 69,
   "metadata": {},
   "outputs": [
    {
     "name": "stdout",
     "output_type": "stream",
     "text": [
      "red\n",
      "green\n",
      "blue\n",
      "purple\n"
     ]
    }
   ],
   "source": [
    "colors = [\"red\", \"green\", \"blue\", \"purple\"]\n",
    "for color in colors:\n",
    "    print(color)  "
   ]
  },
  {
   "cell_type": "markdown",
   "metadata": {},
   "source": [
    "## Looping with dictionaries\n",
    "\n",
    "Dictionaries are key->value maps. This means there are several techniques/methods we can use to iterate though a dictionary\n",
    "\n",
    "By default, for in return dictionary keys for each iteration. So we get access to the keys (key) and the values (a_dict[key]) of a_dict at the same time. This way, we can do any operation with both the keys and the values:"
   ]
  },
  {
   "cell_type": "code",
   "execution_count": 70,
   "metadata": {},
   "outputs": [
    {
     "name": "stdout",
     "output_type": "stream",
     "text": [
      "color\n",
      "blue\n",
      "fruit\n",
      "apple\n",
      "pet\n",
      "dog\n"
     ]
    }
   ],
   "source": [
    "a_dict = {'color': 'blue', 'fruit': 'apple', 'pet': 'dog'}\n",
    "\n",
    "\n",
    "for key in a_dict:\n",
    "    print(key)  # key\n",
    "    print(a_dict[key])  # value for that key"
   ]
  },
  {
   "cell_type": "markdown",
   "metadata": {},
   "source": [
    "### Iterating Through .items()\n",
    "One of the most useful ways to iterate through a dictionary in Python is by using .items(), which is a method that returns a new view of the dictionary’s items:"
   ]
  },
  {
   "cell_type": "code",
   "execution_count": 71,
   "metadata": {},
   "outputs": [
    {
     "name": "stdout",
     "output_type": "stream",
     "text": [
      "dict_items([('color', 'blue'), ('fruit', 'apple'), ('pet', 'dog')])\n"
     ]
    }
   ],
   "source": [
    "d_items = a_dict.items()\n",
    "print(d_items) # Prints a new view of the dictionary items (More about view types later)"
   ]
  },
  {
   "cell_type": "code",
   "execution_count": 72,
   "metadata": {},
   "outputs": [
    {
     "name": "stdout",
     "output_type": "stream",
     "text": [
      "('color', 'blue')\n",
      "('fruit', 'apple')\n",
      "('pet', 'dog')\n"
     ]
    }
   ],
   "source": [
    "for item in a_dict.items():\n",
    "    print(item)"
   ]
  },
  {
   "cell_type": "markdown",
   "metadata": {},
   "source": [
    "If you take a closer look at the individual items yielded by .items(), you’ll notice that they’re really tuple objects. This means we can use tuple unpacking to iterate through the keys and values of the dictionary you are working with. To achieve this, you just need to unpack the elements of every item into two different variables representing the key and the value:"
   ]
  },
  {
   "cell_type": "code",
   "execution_count": 73,
   "metadata": {},
   "outputs": [
    {
     "name": "stdout",
     "output_type": "stream",
     "text": [
      "color -> blue\n",
      "fruit -> apple\n",
      "pet -> dog\n"
     ]
    }
   ],
   "source": [
    "for key, value in a_dict.items():\n",
    "    print(key, '->', value)"
   ]
  },
  {
   "cell_type": "markdown",
   "metadata": {},
   "source": [
    "### Iterating Through .keys()\n",
    "If you just need to work with the keys of a dictionary, then you can use .keys(), which is a method that returns a new view object containing \n",
    "the dictionary’s keys:"
   ]
  },
  {
   "cell_type": "code",
   "execution_count": 74,
   "metadata": {},
   "outputs": [
    {
     "name": "stdout",
     "output_type": "stream",
     "text": [
      "dict_keys(['color', 'fruit', 'pet'])\n"
     ]
    }
   ],
   "source": [
    "keys = a_dict.keys()\n",
    "print(keys)"
   ]
  },
  {
   "cell_type": "markdown",
   "metadata": {},
   "source": [
    "The object returned by .keys() here provided a dynamic view on the keys of a_dict. This view can be used to iterate through the keys of a_dict.\n",
    "To iterate through a dictionary in Python by using .keys(), you just need to call .keys() in the header of a for loop:"
   ]
  },
  {
   "cell_type": "code",
   "execution_count": 75,
   "metadata": {},
   "outputs": [
    {
     "name": "stdout",
     "output_type": "stream",
     "text": [
      "color\n",
      "fruit\n",
      "pet\n"
     ]
    }
   ],
   "source": [
    "for key in a_dict.keys():\n",
    "    print(key)"
   ]
  },
  {
   "cell_type": "markdown",
   "metadata": {},
   "source": [
    "When you call .keys() on a_dict, you get a view of keys. Python knows that view objects are iterables, so it starts looping, and you can process the \n",
    "keys of a_dict.\n",
    "On the other hand, using the same trick you’ve seen before (indexing operator []), you can get access to the values of the dictionary:"
   ]
  },
  {
   "cell_type": "code",
   "execution_count": 76,
   "metadata": {},
   "outputs": [
    {
     "name": "stdout",
     "output_type": "stream",
     "text": [
      "color -> blue\n",
      "fruit -> apple\n",
      "pet -> dog\n"
     ]
    }
   ],
   "source": [
    "for key in a_dict.keys():\n",
    "    print(key, '->', a_dict[key])"
   ]
  },
  {
   "cell_type": "markdown",
   "metadata": {},
   "source": [
    "This way you’ve gotten access to the keys (key) and values (a_dict[key]) of a_dict at the same time, and you’ll be able to perform any action on them.\n",
    "\n",
    "### Iterating Through .values()\n",
    "It’s also common to only use the values to iterate through a dictionary in Python. One way to do that is to use .values(), which returns a view with the values of the dictionary:"
   ]
  },
  {
   "cell_type": "code",
   "execution_count": 77,
   "metadata": {},
   "outputs": [
    {
     "name": "stdout",
     "output_type": "stream",
     "text": [
      "dict_values(['blue', 'apple', 'dog'])\n"
     ]
    }
   ],
   "source": [
    "values = a_dict.values()\n",
    "print(values)"
   ]
  },
  {
   "cell_type": "markdown",
   "metadata": {},
   "source": [
    "In the previous code, values holds a reference to a view object containing the values of a_dict.\n",
    "\n",
    "As any view object, the object returned by .values() can also be iterated over. In this case, .values() yields the values of a_dict:"
   ]
  },
  {
   "cell_type": "code",
   "execution_count": 78,
   "metadata": {},
   "outputs": [
    {
     "name": "stdout",
     "output_type": "stream",
     "text": [
      "blue\n",
      "apple\n",
      "dog\n"
     ]
    }
   ],
   "source": [
    "for value in a_dict.values():\n",
    "    print(value)"
   ]
  },
  {
   "cell_type": "markdown",
   "metadata": {},
   "source": [
    "Using .values(), you’ll be getting access to only the values of a_dict, without dealing with the keys.\n",
    "\n",
    "It’s worth noting that they also support membership tests (in), which is an important feature if you’re trying to know if a specific element is in a \n",
    "dictionary or not:"
   ]
  },
  {
   "cell_type": "code",
   "execution_count": 79,
   "metadata": {},
   "outputs": [
    {
     "name": "stdout",
     "output_type": "stream",
     "text": [
      "True\n",
      "True\n",
      "False\n"
     ]
    }
   ],
   "source": [
    "print('pet' in a_dict.keys())\n",
    "print('apple' in a_dict.values())\n",
    "print('onion' in a_dict.values())"
   ]
  },
  {
   "cell_type": "markdown",
   "metadata": {},
   "source": [
    "The membership test using in returns True if the key (or value or item) is present in the dictionary you’re testing, and returns False otherwise. The membership test allows you to not iterate through a dictionary in Python if you just want to know if certain key (or value or item) is present in a dictionary or not."
   ]
  },
  {
   "cell_type": "markdown",
   "metadata": {},
   "source": [
    "## Python Nested For Loop\n",
    "\n",
    "You can also write for loops inside other for loops. But in this case, you have to maintain the indentation properly. The following code will illustrate python nested for loop."
   ]
  },
  {
   "cell_type": "code",
   "execution_count": 80,
   "metadata": {},
   "outputs": [
    {
     "name": "stdout",
     "output_type": "stream",
     "text": [
      "The following lines will print each letters of Apple\n",
      "A\n",
      "p\n",
      "p\n",
      "l\n",
      "e\n",
      "\n",
      "The following lines will print each letters of Banana\n",
      "B\n",
      "a\n",
      "n\n",
      "a\n",
      "n\n",
      "a\n",
      "\n",
      "The following lines will print each letters of Car\n",
      "C\n",
      "a\n",
      "r\n",
      "\n",
      "The following lines will print each letters of Dolphin\n",
      "D\n",
      "o\n",
      "l\n",
      "p\n",
      "h\n",
      "i\n",
      "n\n",
      "\n"
     ]
    }
   ],
   "source": [
    "words= [\"Apple\", \"Banana\", \"Car\", \"Dolphin\" ]\n",
    "\n",
    "for word in words: # This loop is fetching word from the list   \n",
    "    print (\"The following lines will print each letters of \"+word)\n",
    "    for letter in word: # This loop is fetching letters from the word\n",
    "        print (letter)\n",
    "    print(\"\") #This print is used to print a blank line"
   ]
  },
  {
   "cell_type": "code",
   "execution_count": 2,
   "metadata": {},
   "outputs": [
    {
     "name": "stdout",
     "output_type": "stream",
     "text": [
      "1\n",
      "2\n",
      "3\n",
      "4\n",
      "5\n",
      "6\n",
      "7\n",
      "8\n",
      "9\n",
      "10\n",
      "11\n",
      "12\n",
      "13\n",
      "14\n",
      "15\n",
      "16\n",
      "17\n",
      "18\n",
      "19\n",
      "20\n",
      "21\n",
      "22\n",
      "23\n",
      "24\n",
      "25\n",
      "26\n",
      "27\n",
      "28\n",
      "29\n",
      "30\n",
      "31\n",
      "32\n",
      "33\n",
      "34\n",
      "35\n",
      "36\n",
      "37\n",
      "38\n",
      "39\n",
      "40\n",
      "41\n",
      "42\n",
      "43\n",
      "44\n",
      "45\n",
      "46\n",
      "47\n",
      "48\n",
      "49\n",
      "50\n",
      "51\n",
      "52\n",
      "53\n",
      "54\n",
      "55\n",
      "56\n",
      "57\n",
      "58\n",
      "59\n",
      "60\n",
      "61\n",
      "62\n",
      "63\n",
      "64\n",
      "65\n",
      "66\n",
      "67\n",
      "68\n",
      "69\n",
      "70\n",
      "71\n",
      "72\n",
      "73\n",
      "74\n",
      "75\n",
      "76\n",
      "77\n",
      "78\n",
      "79\n",
      "80\n",
      "81\n",
      "82\n",
      "83\n",
      "84\n",
      "85\n",
      "86\n",
      "87\n",
      "88\n",
      "89\n",
      "90\n",
      "91\n",
      "92\n",
      "93\n",
      "94\n",
      "95\n",
      "96\n",
      "97\n",
      "98\n",
      "99\n"
     ]
    }
   ],
   "source": []
  },
  {
   "cell_type": "code",
   "execution_count": null,
   "metadata": {},
   "outputs": [],
   "source": []
  }
 ],
 "metadata": {
  "kernelspec": {
   "display_name": "Python 3",
   "language": "python",
   "name": "python3"
  },
  "language_info": {
   "codemirror_mode": {
    "name": "ipython",
    "version": 3
   },
   "file_extension": ".py",
   "mimetype": "text/x-python",
   "name": "python",
   "nbconvert_exporter": "python",
   "pygments_lexer": "ipython3",
   "version": "3.8.7"
  }
 },
 "nbformat": 4,
 "nbformat_minor": 4
}
