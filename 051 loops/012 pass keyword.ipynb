{
 "cells": [
  {
   "cell_type": "markdown",
   "metadata": {},
   "source": [
    "# Python pass statement\n",
    "You can consider python pass statement as no operation statement. It is used when a statement is required syntactically but you do not want any command or code to execute. The pass statement is a null operation; nothing happens when it executes. The pass is also useful in places where your code will eventually go, but has not been written yet (e.g., in stubs for example)\n",
    "\n",
    "The difference between Python comments and pass statement is; comments are being eliminated while interpreting the program but pass statement does not. It consumes execution cycle like a valid statement. \n",
    "\n",
    "For example, for printing only the odd numbers from a list, our program flow will be:\n",
    "```console\n",
    "List <- a list of number\n",
    "for each number in the list:\n",
    "\tif the number is even,\n",
    "\t\tthen, do nothing\n",
    "\telse \n",
    "\t\tprint odd number\n",
    "```        \n",
    "Now if we convert the above things to python,"
   ]
  },
  {
   "cell_type": "code",
   "execution_count": 2,
   "metadata": {},
   "outputs": [
    {
     "name": "stdout",
     "output_type": "stream",
     "text": [
      "1\n",
      "3\n",
      "5\n",
      "7\n",
      "9\n"
     ]
    }
   ],
   "source": [
    "# Generate a list of number\n",
    "numbers = [ 1, 2, 4, 3, 6, 5, 7, 10, 9 ]\n",
    "# Check for each number that belongs to the list\n",
    "for number in numbers:\n",
    "    # check if the number is even\n",
    "    if number % 2 == 0:\n",
    "        # if even, then pass ( No operation )\n",
    "        pass\n",
    "    else:\n",
    "        # print the odd numbers\n",
    "        print (number),"
   ]
  },
  {
   "cell_type": "markdown",
   "metadata": {},
   "source": [
    "Suppose you need to implement many function one by one. But you have to check every function after implementing the function. Now if you leave the things like this:\n",
    "\n",
    "```python\n",
    "def func1():\n",
    "        # TODO: implement func1 later\n",
    " \n",
    "def func2():\n",
    "        # TODO: implement func2 later\n",
    "        \n",
    "def func3(a):\n",
    "        print (a)\n",
    " \n",
    "func3(\"Hello\")\n",
    "``` \n",
    "\n",
    "Then, you will get IndentationError for this.\n",
    "\n",
    "So, what you need to do is, add pass statement to each no-implemented function like this."
   ]
  },
  {
   "cell_type": "code",
   "execution_count": 3,
   "metadata": {},
   "outputs": [
    {
     "name": "stdout",
     "output_type": "stream",
     "text": [
      "Hello\n"
     ]
    }
   ],
   "source": [
    "def func1():\n",
    "        pass # TODO: implement func1 later\n",
    " \n",
    "def func2():\n",
    "        pass # TODO: implement func2 later\n",
    "        \n",
    "def func3(a):\n",
    "        print (a)\n",
    " \n",
    "func3(\"Hello\")"
   ]
  }
 ],
 "metadata": {
  "kernelspec": {
   "display_name": "Python 3",
   "language": "python",
   "name": "python3"
  },
  "language_info": {
   "codemirror_mode": {
    "name": "ipython",
    "version": 3
   },
   "file_extension": ".py",
   "mimetype": "text/x-python",
   "name": "python",
   "nbconvert_exporter": "python",
   "pygments_lexer": "ipython3",
   "version": "3.8.7"
  }
 },
 "nbformat": 4,
 "nbformat_minor": 4
}
