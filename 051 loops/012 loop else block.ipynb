{
 "cells": [
  {
   "cell_type": "markdown",
   "metadata": {},
   "source": [
    "## the else block\n",
    "The else clause executes after the loop completes normally. This means that the loop did not encounter a break statement as the 'else' block is NOT executed when the loop is terminated by a break statement.\n",
    "\n",
    "## for-in loop"
   ]
  },
  {
   "cell_type": "code",
   "execution_count": 4,
   "metadata": {},
   "outputs": [
    {
     "name": "stdout",
     "output_type": "stream",
     "text": [
      "1\n",
      "loop iteration\n",
      "2\n",
      "loop iteration\n",
      "3\n",
      "loop iteration\n",
      "No Break. Inside else\n",
      "Outside he loop. Loop ended naturally\n"
     ]
    }
   ],
   "source": [
    "# else is always executed at the end of the loop as it ends naturally\n",
    "for i in range(1, 4):\n",
    "    print(i)\n",
    "    print(\"loop iteration\")\n",
    "else:  # Executed because no break in for\n",
    "    print(\"No Break. Inside else\")\n",
    "print('Outside he loop. Loop ended naturally')"
   ]
  },
  {
   "cell_type": "code",
   "execution_count": 2,
   "metadata": {},
   "outputs": [
    {
     "name": "stdout",
     "output_type": "stream",
     "text": [
      "1\n",
      "for Loop terminated by break\n"
     ]
    }
   ],
   "source": [
    "# else block is NOT executed in below :\n",
    "for i in range(1, 4):\n",
    "    print(i)\n",
    "    break\n",
    "else:  # Not executed as there is a break\n",
    "    print(\"No Break\")\n",
    "print('for Loop terminated by break')\n",
    "# 1\n",
    "# for Loop terminated by break"
   ]
  },
  {
   "cell_type": "markdown",
   "metadata": {},
   "source": [
    "## while loop\n",
    "if the while loop exits due to encountering a break statement, the else block is not entered:"
   ]
  },
  {
   "cell_type": "code",
   "execution_count": 3,
   "metadata": {},
   "outputs": [
    {
     "name": "stdout",
     "output_type": "stream",
     "text": [
      "1\n",
      "while loop terminated by break\n"
     ]
    }
   ],
   "source": [
    "count = 0\n",
    "while (count < 1):\n",
    "    count = count+1\n",
    "    print(count)\n",
    "    break\n",
    "else:\n",
    "    print(\"No Break\")\n",
    "print('while loop terminated by break')"
   ]
  }
 ],
 "metadata": {
  "kernelspec": {
   "display_name": "Python 3",
   "language": "python",
   "name": "python3"
  },
  "language_info": {
   "codemirror_mode": {
    "name": "ipython",
    "version": 3
   },
   "file_extension": ".py",
   "mimetype": "text/x-python",
   "name": "python",
   "nbconvert_exporter": "python",
   "pygments_lexer": "ipython3",
   "version": "3.8.7"
  }
 },
 "nbformat": 4,
 "nbformat_minor": 4
}
