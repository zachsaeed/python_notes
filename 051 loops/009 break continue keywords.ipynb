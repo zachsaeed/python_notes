{
 "cells": [
  {
   "cell_type": "markdown",
   "metadata": {},
   "source": [
    "# Python Break and Continue\n",
    "Python break and continue statements are used only in loops (while and for). They helps us modify loop behaviour. Suppose you’re executing a loop, at one phase you need to terminate the loop or skip some statements then you need these statements. \n",
    "\n",
    "> **Note:** They are always used inside an if statement within the loop\n",
    "\n",
    "# Python break\n",
    "This statement is used to break the loop ie when some external condition is triggered requiring a hasty exit from a loop. \n",
    "\n",
    "Suppose you’re printing odd numbers using while loop. But you don’t need to print numbers greater than 10. Then you can write the following python code."
   ]
  },
  {
   "cell_type": "code",
   "execution_count": 6,
   "metadata": {},
   "outputs": [
    {
     "name": "stdout",
     "output_type": "stream",
     "text": [
      "1\n",
      "3\n",
      "5\n",
      "7\n",
      "9\n"
     ]
    }
   ],
   "source": [
    "number = 1 # Number is initially 1\n",
    " \n",
    "while True : # This means the loop will continue infinite time\n",
    "    print (number) # print the number\n",
    "    number+=2 # calculate next odd number\n",
    " \n",
    "    # Now give the breaking condition\n",
    "    if number > 10:\n",
    "        break;\n",
    "        # Breaks the loop if number is greater than ten\n",
    "        print (number) # This statement won't be executed"
   ]
  },
  {
   "cell_type": "markdown",
   "metadata": {},
   "source": [
    "In the given example you will see that the statement(s) that are written after break, won’t be executed. So here, 11 will not be printed.\n",
    "\n",
    "Python break statement can be used in for loop also. Suppose you are printing words from a list. If any words that matches with “exit” won’t be printed and the loop will terminate. The following python code illustrates the idea."
   ]
  },
  {
   "cell_type": "code",
   "execution_count": 7,
   "metadata": {},
   "outputs": [
    {
     "name": "stdout",
     "output_type": "stream",
     "text": [
      "rain\n",
      "sun\n",
      "moon\n"
     ]
    }
   ],
   "source": [
    "words = [\"rain\", \"sun\", \"moon\", \"exit\", \"weather\"]\n",
    " \n",
    "for word in words:\n",
    "    # checking for the breaking condition\n",
    "    if word == \"exit\" :\n",
    "        # if the condition is true, then break the loop\n",
    "        break;\n",
    " \n",
    "    # Otherwise, print the word\n",
    "    print (word)"
   ]
  },
  {
   "cell_type": "markdown",
   "metadata": {},
   "source": [
    "# Python continue\n",
    "The continue statement returns the control to the beginning of the while/for loop. The continue statement rejects all the remaining statements in the current iteration of the loop and moves the control back to the top of the loop. \n",
    "\n",
    "For example you’re printing number 1 to 10. You need to skip all statements at step 7. The following python code illustrates the scenario."
   ]
  },
  {
   "cell_type": "code",
   "execution_count": 8,
   "metadata": {},
   "outputs": [
    {
     "name": "stdout",
     "output_type": "stream",
     "text": [
      "2 is double of  1\n",
      "4 is double of  2\n",
      "6 is double of  3\n",
      "8 is double of  4\n",
      "10 is double of  5\n",
      "12 is double of  6\n",
      "7 is skipped\n",
      "16 is double of  8\n",
      "18 is double of  9\n",
      "20 is double of  10\n"
     ]
    }
   ],
   "source": [
    "numbers = range(1,11)\n",
    "'''\n",
    "the range(a,b) function creates a list of number 1 to (b-1)\n",
    "So, in this case it would generate\n",
    "numbers from 1 to 10\n",
    "'''\n",
    "for number in numbers:\n",
    "    # check the skipping condition\n",
    "    if number == 7:\n",
    "        #this statement will be executed\n",
    "        print(\"7 is skipped\")\n",
    "        continue\n",
    "        #this statement won't be executed\n",
    "        print (\"This won't be printed\")\n",
    " \n",
    "    # print the values for example:\n",
    "    # 2 is double of 1\n",
    "    print (number*2, end=' '),\n",
    "    print (\"is double of \", end=' '),\n",
    "    print (number)"
   ]
  },
  {
   "cell_type": "markdown",
   "metadata": {},
   "source": [
    "Same thing you can do for while loop. Suppose, you are trying to print all the odd values from 1 to 10, then the python code which solves the problem would be:"
   ]
  },
  {
   "cell_type": "code",
   "execution_count": 9,
   "metadata": {},
   "outputs": [
    {
     "name": "stdout",
     "output_type": "stream",
     "text": [
      "1\n",
      "3\n",
      "5\n",
      "7\n",
      "9\n"
     ]
    }
   ],
   "source": [
    "numbers = [ 1, 2, 4, 3, 6, 5, 7, 10, 9 ]\n",
    "pos = 0 #initial position is one\n",
    "\n",
    "while pos < len(numbers):\n",
    "    # checking skipping condition if number is divisible by two, it is even\n",
    "    if numbers[pos] % 2 == 0 :\n",
    "        #increment the position by one\n",
    "        pos = pos + 1\n",
    "        continue\n",
    "    #print the odd number\n",
    "    print (numbers[pos])\n",
    "    #increment the position by one\n",
    "    pos = pos + 1\n"
   ]
  },
  {
   "cell_type": "markdown",
   "metadata": {},
   "source": [
    "## Breaking outer loops\n",
    "Many popular programming languages support a labelled break statement. It’s mostly used inside a nested loop to break out of the outer loop. However, Python doesn’t support labeled break statement.\n",
    "PEP 3136 was raised to add label support to break statement. But, it was rejected because it will add unnecessary complexity to the language. There is a better alternative available for this scenario – move the whole code clock to a function and add the return statement.\n"
   ]
  }
 ],
 "metadata": {
  "kernelspec": {
   "display_name": "Python 3",
   "language": "python",
   "name": "python3"
  },
  "language_info": {
   "codemirror_mode": {
    "name": "ipython",
    "version": 3
   },
   "file_extension": ".py",
   "mimetype": "text/x-python",
   "name": "python",
   "nbconvert_exporter": "python",
   "pygments_lexer": "ipython3",
   "version": "3.8.7"
  }
 },
 "nbformat": 4,
 "nbformat_minor": 4
}
