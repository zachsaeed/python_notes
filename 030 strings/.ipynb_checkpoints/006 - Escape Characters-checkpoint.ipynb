{
 "cells": [
  {
   "cell_type": "markdown",
   "metadata": {},
   "source": [
    "# String Escape Characters\n",
    "\n",
    "To insert characters that are illegal in a string, we use escape characters. An escape character is a backslash \\ followed by the character you want to insert.\n",
    "\n",
    "An example of an illegal character is a double quote inside a string that is surrounded by double quotes"
   ]
  },
  {
   "cell_type": "code",
   "execution_count": 2,
   "metadata": {},
   "outputs": [],
   "source": [
    "# txt = \"We are the so-called \"Vikings\" from the north.\""
   ]
  },
  {
   "cell_type": "markdown",
   "metadata": {},
   "source": [
    "If you uncomment the above code and run it, you will get an error:  **SyntaxError: invalid syntax**. This is because python cannot tell where are string is starting and where it is ending.\n",
    "\n",
    "To fix this problem, use the escape character **\\\\\"**:"
   ]
  },
  {
   "cell_type": "code",
   "execution_count": 3,
   "metadata": {},
   "outputs": [],
   "source": [
    "txt = \"We are the so-called \\\"Vikings\\\" from the north.\""
   ]
  },
  {
   "cell_type": "markdown",
   "metadata": {},
   "source": [
    "The escape character allows you to use double quotes when you normally would not be allowed:\n",
    "\n",
    "There are other characters that we need to escape with a \\\\ to place them as part of a python string:\n",
    "\n",
    "| Code  | Result          |\n",
    "| ----- | --------------- |\n",
    "| \\\\\"   | Double Quote    |\n",
    "| \\\\'   | Single Quote    |\n",
    "| \\\\\\   | Backslash       |\n",
    "| \\\\n   | New Line        |\n",
    "| \\\\r   | Carriage Return |\n",
    "| \\\\t   | Tab             |\n",
    "| \\\\b   | Backspace       |\n",
    "| \\\\f   | Form Feed       |\n",
    "| \\\\ooo | Octal value     |\n",
    "| \\\\xhh | Hex value       |\n",
    "\n",
    "Try them out and see what they do:"
   ]
  },
  {
   "cell_type": "code",
   "execution_count": null,
   "metadata": {},
   "outputs": [],
   "source": []
  }
 ],
 "metadata": {
  "kernelspec": {
   "display_name": "Python 3",
   "language": "python",
   "name": "python3"
  },
  "language_info": {
   "codemirror_mode": {
    "name": "ipython",
    "version": 3
   },
   "file_extension": ".py",
   "mimetype": "text/x-python",
   "name": "python",
   "nbconvert_exporter": "python",
   "pygments_lexer": "ipython3",
   "version": "3.8.7"
  }
 },
 "nbformat": 4,
 "nbformat_minor": 4
}
