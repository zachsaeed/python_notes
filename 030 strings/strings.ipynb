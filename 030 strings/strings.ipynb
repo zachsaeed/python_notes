{
 "cells": [
  {
   "cell_type": "markdown",
   "metadata": {},
   "source": [
    "# Strings\n",
    "\n",
    "Strings (Text values) in python are surrounded by either single quotation (') marks, or double quotation marks (\"). You can use either as (unlike other languages) there is no difference between the two."
   ]
  },
  {
   "cell_type": "code",
   "execution_count": 5,
   "metadata": {},
   "outputs": [
    {
     "name": "stdout",
     "output_type": "stream",
     "text": [
      "True\n"
     ]
    }
   ],
   "source": [
    "my_string_1 = 'Hello World'\n",
    "my_string_2 = \"Hello World\"\n",
    "\n",
    "print(my_string_1 == my_string_2) # Compare values"
   ]
  },
  {
   "cell_type": "markdown",
   "metadata": {},
   "source": [
    "## Multiline Strings\n",
    "Lets say you have a multline string which you want to store into a variable:\n",
    "\n",
    "> Then an artificial intelligence (AI) software system assessed my personality, and either passed or failed me. No human had a look-in.\n",
    ">\n",
    "> I wondered: is it fair for a computer alone to accept or reject your job application?\n",
    "\n",
    "We cannot assign it to a variable like this as it will throw a **SyntaxError: EOL while scanning string literal**:\n",
    "\n",
    "    my_string_multiline = \"Then an artificial intelligence (AI) software system assessed my personality, and either passed or failed me. No human had a look-in.\n",
    "\n",
    "    I wondered: is it fair for a computer alone to accept or reject your job application?\"\n",
    "\n",
    "To assign a multiline string to a variable by using three single or double quotes"
   ]
  },
  {
   "cell_type": "code",
   "execution_count": 13,
   "metadata": {},
   "outputs": [
    {
     "name": "stdout",
     "output_type": "stream",
     "text": [
      "Then an artificial intelligence (AI) software system assessed my personality, and either passed or failed me. No human had a look-in.\n",
      "\n",
      "I wondered: is it fair for a computer alone to accept or reject your job application?\n"
     ]
    }
   ],
   "source": [
    "my_string_multiline_1 = \"\"\"Then an artificial intelligence (AI) software system assessed my personality, and either passed or failed me. No human had a look-in.\n",
    "\n",
    "I wondered: is it fair for a computer alone to accept or reject your job application?\"\"\"\n",
    "print(my_string_multiline_1)"
   ]
  },
  {
   "cell_type": "markdown",
   "metadata": {},
   "source": [
    "with single quotes: "
   ]
  },
  {
   "cell_type": "code",
   "execution_count": 12,
   "metadata": {},
   "outputs": [
    {
     "name": "stdout",
     "output_type": "stream",
     "text": [
      "Like many other popular programming languages, strings in Python are:\n",
      "    arrays of bytes representing unicode characters.\n"
     ]
    }
   ],
   "source": [
    "my_string_multiline_2 = '''Like many other popular programming languages, strings in Python are:\n",
    "    arrays of bytes representing unicode characters.'''\n",
    "print(my_string_multiline_2)"
   ]
  },
  {
   "cell_type": "markdown",
   "metadata": {},
   "source": [
    "## Strings are arrays of characters:\n",
    "Strings in Python are arrays of bytes representing unicode characters.\n",
    "Since Python does not have a character data type, a single character is simply a string with a length of 1."
   ]
  },
  {
   "cell_type": "code",
   "execution_count": 15,
   "metadata": {},
   "outputs": [],
   "source": [
    "my_string_character = \"A\""
   ]
  },
  {
   "cell_type": "markdown",
   "metadata": {},
   "source": [
    "In arrays, each character is indexed starting from 0 to the length-1 of the string. Square brackets can be used to access elements of the string using their index position:"
   ]
  },
  {
   "cell_type": "code",
   "execution_count": 17,
   "metadata": {},
   "outputs": [
    {
     "name": "stdout",
     "output_type": "stream",
     "text": [
      "S\n",
      "i\n"
     ]
    }
   ],
   "source": [
    "my_string_array = \"Strings in Python are arrays of bytes representing unicode characters.\"\n",
    "print(my_string_array[0])\n",
    "print(my_string_array[8])"
   ]
  },
  {
   "cell_type": "markdown",
   "metadata": {},
   "source": [
    "## Length\n",
    "The len() function returns the length of a string:\n",
    "    "
   ]
  },
  {
   "cell_type": "code",
   "execution_count": 18,
   "metadata": {},
   "outputs": [
    {
     "name": "stdout",
     "output_type": "stream",
     "text": [
      "70\n"
     ]
    }
   ],
   "source": [
    "print(len(my_string_array))"
   ]
  },
  {
   "cell_type": "markdown",
   "metadata": {},
   "source": [
    "> Note: Since the index start from 0, the last character of the string, my_string_array will be indexed 70-1 = 69\n",
    ">\n",
    "> If we call `print(my_string_array[70])`, it will throw an error  ***IndexError: string index out of range***"
   ]
  },
  {
   "cell_type": "code",
   "execution_count": 21,
   "metadata": {},
   "outputs": [
    {
     "name": "stdout",
     "output_type": "stream",
     "text": [
      ".\n"
     ]
    }
   ],
   "source": [
    "print(my_string_array[69])"
   ]
  },
  {
   "cell_type": "markdown",
   "metadata": {},
   "source": [
    "## Check String (using 'in' and 'not in')\n",
    "To check if a certain phrase or character is present in a string, we can use the keyword `in` and `not in` keywords which return a boolean value."
   ]
  },
  {
   "cell_type": "code",
   "execution_count": 23,
   "metadata": {},
   "outputs": [
    {
     "name": "stdout",
     "output_type": "stream",
     "text": [
      "True\n",
      "False\n"
     ]
    }
   ],
   "source": [
    "my_string_to_check = 'check if a certain phrase or character is present in a string'\n",
    "print(\"certain\" in my_string_to_check)\n",
    "print(\"google\" in my_string_to_check)"
   ]
  },
  {
   "cell_type": "code",
   "execution_count": 24,
   "metadata": {},
   "outputs": [
    {
     "name": "stdout",
     "output_type": "stream",
     "text": [
      "False\n",
      "True\n"
     ]
    }
   ],
   "source": [
    "print(\"certain\" not in my_string_to_check)\n",
    "print(\"google\" not in my_string_to_check)"
   ]
  },
  {
   "cell_type": "code",
   "execution_count": null,
   "metadata": {},
   "outputs": [],
   "source": []
  }
 ],
 "metadata": {
  "kernelspec": {
   "display_name": "Python 3",
   "language": "python",
   "name": "python3"
  },
  "language_info": {
   "codemirror_mode": {
    "name": "ipython",
    "version": 3
   },
   "file_extension": ".py",
   "mimetype": "text/x-python",
   "name": "python",
   "nbconvert_exporter": "python",
   "pygments_lexer": "ipython3",
   "version": "3.8.7"
  }
 },
 "nbformat": 4,
 "nbformat_minor": 4
}
