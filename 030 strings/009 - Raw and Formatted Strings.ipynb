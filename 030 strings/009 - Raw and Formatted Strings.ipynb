{
 "cells": [
  {
   "cell_type": "markdown",
   "metadata": {},
   "source": [
    "# Raw Strings\n",
    "\n",
    "A \"raw\" string literal is prefixed by an 'r' or 'R' and passes all the chars through without special treatment of backslashes, so r'x\\nx' evaluates to the length-4 string 'x\\nx'."
   ]
  },
  {
   "cell_type": "code",
   "execution_count": 49,
   "metadata": {},
   "outputs": [
    {
     "name": "stdout",
     "output_type": "stream",
     "text": [
      "this\\t\\n and that\n"
     ]
    }
   ],
   "source": [
    "raw = r'this\\t\\n and that'\n",
    "print(raw)  # this\\t\\n and that"
   ]
  },
  {
   "cell_type": "markdown",
   "metadata": {},
   "source": [
    "> NOTE: Raw strings are not 100% raw, there is still some rudimentary backslash-processing. \n",
    "> https://docs.python.org/3/faq/design.html#why-can-t-raw-strings-r-strings-end-with-a-backslash\n",
    "\n",
    "More precisely, they can’t end with an odd number of backslashes: the unpaired backslash at the end escapes the closing quote character, leaving an unterminated string."
   ]
  },
  {
   "cell_type": "code",
   "execution_count": 50,
   "metadata": {},
   "outputs": [
    {
     "name": "stdout",
     "output_type": "stream",
     "text": [
      "\\'\n"
     ]
    }
   ],
   "source": [
    "# Some of the invalid raw strings are:\n",
    " # print(r'\\')  # missing end quote because the end quote is being escaped. Will throw Syntax Error\n",
    "# do this instead:\n",
    "print(r'\\'')  # \\'"
   ]
  },
  {
   "cell_type": "code",
   "execution_count": 51,
   "metadata": {},
   "outputs": [
    {
     "name": "stdout",
     "output_type": "stream",
     "text": [
      "ab\\\\\n",
      "\\\\\\\"\n"
     ]
    }
   ],
   "source": [
    "# print(r'ab\\\\\\')  # first backslash will escape the next, the third one will try to escape the end quote. Will throw Syntax Error\n",
    "# do this instead:\n",
    "print(r'ab\\\\')  # ab\\\\\n",
    "\n",
    "raw_s = R'\\\\\\\"'  # prefix can be 'R' or 'r'\n",
    "print(raw_s)  # \\\\\\\""
   ]
  },
  {
   "cell_type": "markdown",
   "metadata": {},
   "source": [
    "# Formatting Strings\n",
    "We format strings when we need to insert (interpolate) variables into our string.\n",
    "There are several ways to format a string to interpolate variables\n",
    "\n",
    "### 0 - Non-recommended way:"
   ]
  },
  {
   "cell_type": "code",
   "execution_count": 52,
   "metadata": {},
   "outputs": [
    {
     "name": "stdout",
     "output_type": "stream",
     "text": [
      "I've told you 10 times already!Saeed\n"
     ]
    }
   ],
   "source": [
    "x = 10\n",
    "formatted = \"I've told you \" + str(x)  + ' times already!' + \"Saeed\"\n",
    "print(formatted)"
   ]
  },
  {
   "cell_type": "markdown",
   "metadata": {},
   "source": [
    "### 1- Using argument specifiers (Prior to Python 2)\n",
    "\n",
    "Prior to Python 2, the The old way we use argument specifiers % operator (deprecated)"
   ]
  },
  {
   "cell_type": "code",
   "execution_count": 53,
   "metadata": {},
   "outputs": [
    {
     "name": "stdout",
     "output_type": "stream",
     "text": [
      "I've told you 10 times already! Saeed\n"
     ]
    }
   ],
   "source": [
    "x = 10\n",
    "formatted = \"I've told you %d times already! %s\" % (x, \"Saeed\")\n",
    "print(formatted)"
   ]
  },
  {
   "cell_type": "markdown",
   "metadata": {},
   "source": [
    "The example above is great for simple formatting but limited support for strings, ints, doubles only. We can’t use it with objects.\n",
    "\n",
    "Here are some basic argument specifiers you should know:\n",
    " - %s - String (or any object with a string representation, like numbers)\n",
    " - %d - Integers\n",
    " - %f - Floating point numbers\n",
    " - %.<number of digits>f - Floating point numbers with a fixed amount of digits to the right of the dot.\n",
    " - %x/%X - Integers in hex representation (lowercase/uppercase)\n",
    "\n",
    "### 2- Using the format method (python 2 to 3.5)\n",
    "In python 2 to 3.5 we use .format() method"
   ]
  },
  {
   "cell_type": "code",
   "execution_count": 54,
   "metadata": {},
   "outputs": [
    {
     "name": "stdout",
     "output_type": "stream",
     "text": [
      "Ive told you 10 times already Saquib\n"
     ]
    }
   ],
   "source": [
    "a_var = 10\n",
    "formatted = \"Ive told you {} times already {}\".format(a_var, \"Saquib\")\n",
    "print(formatted)"
   ]
  },
  {
   "cell_type": "markdown",
   "metadata": {},
   "source": [
    "It takes empty curly bracea with respect to the values you need, inside format function\n",
    "\n",
    "### 3- Using f-strings (python 3.6 - onwards)\n",
    "In python 3.6+ we use f-strings by prefixing the string with 'f' or 'F'  e.g"
   ]
  },
  {
   "cell_type": "code",
   "execution_count": 55,
   "metadata": {},
   "outputs": [
    {
     "name": "stdout",
     "output_type": "stream",
     "text": [
      "Ive told you 10 times already\n"
     ]
    }
   ],
   "source": [
    "x = 10\n",
    "formatted = f\"Ive told you {x} times already\"\n",
    "print(formatted)"
   ]
  },
  {
   "cell_type": "markdown",
   "metadata": {},
   "source": [
    "f\"{}\" takes anything inside the {} and turns it into a string\n",
    "\n",
    "we can also do some math in there"
   ]
  },
  {
   "cell_type": "code",
   "execution_count": 56,
   "metadata": {},
   "outputs": [
    {
     "name": "stdout",
     "output_type": "stream",
     "text": [
      "I am 30 years older than zach who is 10 years old\n"
     ]
    }
   ],
   "source": [
    "print(f\"I am {x+20} years older than zach who is {x} years old\")"
   ]
  },
  {
   "cell_type": "markdown",
   "metadata": {},
   "source": [
    "## Using formatted and raw strings togather:\n",
    "Both f and r can be combined"
   ]
  },
  {
   "cell_type": "code",
   "execution_count": 57,
   "metadata": {},
   "outputs": [
    {
     "name": "stdout",
     "output_type": "stream",
     "text": [
      "this\\t\\n and that 10\n"
     ]
    }
   ],
   "source": [
    "raw_formatted = fr'this\\t\\n and that {x}'\n",
    "print(raw_formatted)  # this\\t\\n and that 10"
   ]
  },
  {
   "cell_type": "markdown",
   "metadata": {},
   "source": [
    "TODO for students: Please understand and add to notes here:  https://stackoverflow.com/questions/41630728/using-s-vs-s-to-format-a-string-in-python"
   ]
  },
  {
   "cell_type": "code",
   "execution_count": null,
   "metadata": {},
   "outputs": [],
   "source": []
  }
 ],
 "metadata": {
  "kernelspec": {
   "display_name": "Python 3",
   "language": "python",
   "name": "python3"
  },
  "language_info": {
   "codemirror_mode": {
    "name": "ipython",
    "version": 3
   },
   "file_extension": ".py",
   "mimetype": "text/x-python",
   "name": "python",
   "nbconvert_exporter": "python",
   "pygments_lexer": "ipython3",
   "version": "3.8.7"
  }
 },
 "nbformat": 4,
 "nbformat_minor": 4
}
