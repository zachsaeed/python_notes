{
 "cells": [
  {
   "cell_type": "markdown",
   "metadata": {},
   "source": [
    "# map( function, *iterable )\n",
    "- Accepts at least 2 arguments, \n",
    "    - 1- a function (named or lambda) which takes one or more parameters (should match the quantity of iterables) \n",
    "    - 2- unlimited (atleast 1) iterable (string, list, dictionary, set, tuple) etc\n",
    "- It runs the passed function on each iterable and returns a map object which can be converted to another data structure\n",
    "- Whatever value is returened by the passed function, will be present as an element of the map object"
   ]
  },
  {
   "cell_type": "code",
   "execution_count": 2,
   "metadata": {},
   "outputs": [
    {
     "name": "stdout",
     "output_type": "stream",
     "text": [
      "<map object at 0x000001B19F4153D0>\n",
      "[4, 8, 12, 20]\n"
     ]
    }
   ],
   "source": [
    "num = [2, 4, 6, 10]\n",
    "\n",
    "# I want to multiply by 2, every item of the list above. Can do it using loop but map provides us a much simpler solution \n",
    "# We dont have to use lambda and can use normal unction\n",
    "\n",
    "# A function that multiplies by 2 and returns the result\n",
    "def doubleFunction(num_element):\n",
    "    return num_element * 2\n",
    "\n",
    "# passing the above function and lisy to map()\n",
    "doubles = map(doubleFunction, num)\n",
    "\n",
    "print(doubles)  # map object\n",
    "\n",
    "print(list(doubles))  # map object converted back to list"
   ]
  },
  {
   "cell_type": "markdown",
   "metadata": {},
   "source": [
    "We can run the above code by passing in a lambda function instead as follows"
   ]
  },
  {
   "cell_type": "code",
   "execution_count": 40,
   "metadata": {},
   "outputs": [
    {
     "name": "stdout",
     "output_type": "stream",
     "text": [
      "<map object at 0x000001596835AC70>\n",
      "[4, 8, 12, 20]\n"
     ]
    }
   ],
   "source": [
    "doubles2 = map(lambda item: item*2, num)\n",
    "\n",
    "print(doubles2)  # <map object at 0x030D0E90>\n",
    "\n",
    "print(list(doubles2))  # [4, 8, 12, 20]"
   ]
  },
  {
   "cell_type": "markdown",
   "metadata": {},
   "source": [
    "Because of map(), we dont need a for loop to run through each item of an iterable"
   ]
  },
  {
   "cell_type": "code",
   "execution_count": 41,
   "metadata": {},
   "outputs": [
    {
     "name": "stdout",
     "output_type": "stream",
     "text": [
      "['Saquib', 'faraz', 'John']\n"
     ]
    }
   ],
   "source": [
    "# Another Example:\n",
    "\n",
    "# create a list of first names only\n",
    "names=[\n",
    "    {'first': 'Saquib', 'last': 'Saeed'},\n",
    "    {'first': 'faraz', 'last': 'Shahab'},\n",
    "    {'first': 'John', 'last': 'Doe'}\n",
    "]\n",
    "\n",
    "# Note: names is just 1 argument. It is a single list of 3 elements, and each element is a dictionary. Therefore a dictionary will \n",
    "# be passed into the lambda function's 'x' param each time\n",
    "firstNamesMap = map(lambda x: x['first'], names)\n",
    "print(list(firstNamesMap))  "
   ]
  },
  {
   "cell_type": "markdown",
   "metadata": {},
   "source": [
    "## map() with multiple iterables\n",
    "We can call map with multiple iterables, but remember, the function / lambda function should be able to accept the same number \n",
    "of parameters as the iterables"
   ]
  },
  {
   "cell_type": "code",
   "execution_count": 42,
   "metadata": {},
   "outputs": [
    {
     "name": "stdout",
     "output_type": "stream",
     "text": [
      "[28, 80, 162]\n"
     ]
    }
   ],
   "source": [
    "num = [\"1\",\"2\",\"3\"]\n",
    "num2 =[\"4\",\"5\",\"6\"]\n",
    "num3 = [\"7\",\"8\",\"9\"]\n",
    "\n",
    "# 3 iterables num1, num2, num3 therefore lambda accepts 3 params aswell\n",
    "j = list(map(lambda x, y, z: int(x)*int(y)*int(z), num, num2, num3))\n",
    "print(list(j))   "
   ]
  },
  {
   "cell_type": "markdown",
   "metadata": {},
   "source": [
    "> **Note:** If the passed iterators have different lengths, the iterator with the least items decides the length of the new iterator."
   ]
  },
  {
   "cell_type": "code",
   "execution_count": 43,
   "metadata": {},
   "outputs": [
    {
     "name": "stdout",
     "output_type": "stream",
     "text": [
      "[18, 56]\n"
     ]
    }
   ],
   "source": [
    "num = [\"1\",\"2\"]\n",
    "num2 =[\"3\", \"4\",\"5\"]\n",
    "num3 = [\"6\",\"7\",\"8\",\"9\"]\n",
    "\n",
    "# 3 iterables num1, num2, num3 therefore lambda accepts 3 params aswell\n",
    "j = list(map(lambda x, y, z: int(x)*int(y)*int(z), num, num2, num3))\n",
    "print(list(j))   "
   ]
  },
  {
   "cell_type": "markdown",
   "metadata": {},
   "source": [
    "## Writing our own map function\n",
    "Let’s see step by step instructions on how to create our own map function to understand what happens internally:\n",
    "\n",
    "- Create an empty list map_Arr.\n",
    "- Loop through array elements.\n",
    "- Call function map_func with the current element as the argument.\n",
    "- Push the result of the mapFunc function to the map_arr array.\n",
    "- Return the map_arr array after going through all the elements.\n",
    "\n",
    "Now let’s write our implementation of the map()"
   ]
  },
  {
   "cell_type": "code",
   "execution_count": 45,
   "metadata": {},
   "outputs": [
    {
     "name": "stdout",
     "output_type": "stream",
     "text": [
      "[4, 8, 12, 20]\n"
     ]
    }
   ],
   "source": [
    "# my_map takes an array and function as argument\n",
    "def my_map(map_func, map_iter ): \n",
    "    map_Arr = [];  # empty array        \n",
    "    # loop though iter    \n",
    "    for i in  map_iter:\n",
    "        result = map_func(i)\n",
    "        map_Arr.append(result);    \n",
    "    return map_Arr\n",
    "\n",
    "\n",
    "num = [2, 4, 6, 10]\n",
    "doubles2 = my_map(lambda item: item*2, num)\n",
    "print(doubles2)"
   ]
  },
  {
   "cell_type": "code",
   "execution_count": null,
   "metadata": {},
   "outputs": [],
   "source": []
  }
 ],
 "metadata": {
  "kernelspec": {
   "display_name": "Python 3 (ipykernel)",
   "language": "python",
   "name": "python3"
  },
  "language_info": {
   "codemirror_mode": {
    "name": "ipython",
    "version": 3
   },
   "file_extension": ".py",
   "mimetype": "text/x-python",
   "name": "python",
   "nbconvert_exporter": "python",
   "pygments_lexer": "ipython3",
   "version": "3.8.10"
  }
 },
 "nbformat": 4,
 "nbformat_minor": 4
}
