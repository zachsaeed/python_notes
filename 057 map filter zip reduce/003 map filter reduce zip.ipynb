{
 "cells": [
  {
   "cell_type": "markdown",
   "metadata": {},
   "source": [
    "# map, filter and zip\n",
    "\n",
    "Python provides us with three functions, map(), filter(), and zip() that are higher order functions (see previous topic) and paradigms of functional programming. \n",
    "\n",
    "They allow the us to write simpler, shorter code, without neccessarily needing to bother about intricacies like loops and branching.\n",
    "\n",
    "Essentially, these three functions allow us to apply a function across a number of iterables, in one fell swoop. \n",
    "\n",
    "> Note: map, filter and zip come built-in with Python (in the __builtins__ module) and require no importing. \n",
    ">\n",
    "> reduce, however, needs to be imported as it resides in the functools module. "
   ]
  }
 ],
 "metadata": {
  "kernelspec": {
   "display_name": "Python 3 (ipykernel)",
   "language": "python",
   "name": "python3"
  },
  "language_info": {
   "codemirror_mode": {
    "name": "ipython",
    "version": 3
   },
   "file_extension": ".py",
   "mimetype": "text/x-python",
   "name": "python",
   "nbconvert_exporter": "python",
   "pygments_lexer": "ipython3",
   "version": "3.8.10"
  }
 },
 "nbformat": 4,
 "nbformat_minor": 4
}
