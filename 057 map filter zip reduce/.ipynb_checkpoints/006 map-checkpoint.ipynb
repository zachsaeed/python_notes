{
 "cells": [
  {
   "cell_type": "markdown",
   "metadata": {},
   "source": [
    "# map( function, *iterable )\n",
    "- Accepts at least 2 arguments, \n",
    "    - 1- a function (named or lambda) which takes one or more parameters (should match the quantity of iterables) \n",
    "    - 2- unlimited (atleast 1) iterable (string, list, dictionary, set, tuple) etc\n",
    "- It runs the passed function on each iterable and returns a map object which can be converted to another data structure\n",
    "- Whatever value is returened by the passed function, will be present as an element of the map object"
   ]
  },
  {
   "cell_type": "code",
   "execution_count": 30,
   "metadata": {},
   "outputs": [
    {
     "name": "stdout",
     "output_type": "stream",
     "text": [
      "<map object at 0x000001596835A100>\n",
      "[4, 8, 12, 20]\n"
     ]
    }
   ],
   "source": [
    "num = [2, 4, 6, 10]\n",
    "\n",
    "# I want to multiply by 2, every item of the list above. Can do it using loop but map provides us a much simpler solution \n",
    "# We dont have to use lambda and can use normal unction\n",
    "\n",
    "# A function that multiplies by 2 and returns the result\n",
    "def doubleFunction(x):\n",
    "    return x*2\n",
    "\n",
    "# passing the above function and lisy to map()\n",
    "doubles = map(doubleFunction, num)\n",
    "\n",
    "print(doubles)  # map object\n",
    "\n",
    "print(list(doubles))  # map object converted back to list"
   ]
  },
  {
   "cell_type": "markdown",
   "metadata": {},
   "source": [
    "We can run the above code by passing in a lambda function instead as follows"
   ]
  },
  {
   "cell_type": "code",
   "execution_count": 31,
   "metadata": {},
   "outputs": [
    {
     "name": "stdout",
     "output_type": "stream",
     "text": [
      "<map object at 0x000001596835AD90>\n",
      "[4, 8, 12, 20]\n"
     ]
    }
   ],
   "source": [
    "doubles2 = map(lambda item: item*2, num)\n",
    "\n",
    "print(doubles2)  # <map object at 0x030D0E90>\n",
    "\n",
    "print(list(doubles2))  # [4, 8, 12, 20]"
   ]
  },
  {
   "cell_type": "markdown",
   "metadata": {},
   "source": [
    "Because of map(), we dont need a for loop to run through each item of an iterable"
   ]
  },
  {
   "cell_type": "code",
   "execution_count": 32,
   "metadata": {},
   "outputs": [
    {
     "name": "stdout",
     "output_type": "stream",
     "text": [
      "['Saquib', 'faraz', 'John']\n"
     ]
    }
   ],
   "source": [
    "# Another Example:\n",
    "\n",
    "# create a list of first names only\n",
    "names=[\n",
    "    {'first': 'Saquib', 'last': 'Saeed'},\n",
    "    {'first': 'faraz', 'last': 'Shahab'},\n",
    "    {'first': 'John', 'last': 'Doe'}\n",
    "]\n",
    "\n",
    "# Note: names is just 1 argument. It is a single list of 3 elements, and each element is a dictionary. Therefore a dictionary will \n",
    "# be passed into the lambda function's 'x' param each time\n",
    "firstNamesMap = map(lambda x: x['first'], names)\n",
    "print(list(firstNamesMap))  "
   ]
  },
  {
   "cell_type": "markdown",
   "metadata": {},
   "source": [
    "## map() with multiple iterables\n",
    "We can call map with multiple iterables, but remember, the function / lambda function should be able to accept the same number \n",
    "of parameters as the iterables"
   ]
  },
  {
   "cell_type": "code",
   "execution_count": 33,
   "metadata": {},
   "outputs": [
    {
     "name": "stdout",
     "output_type": "stream",
     "text": [
      "[28, 80, 162]\n"
     ]
    }
   ],
   "source": [
    "num = [\"1\",\"2\",\"3\"]\n",
    "num2 =[\"4\",\"5\",\"6\"]\n",
    "num3 = [\"7\",\"8\",\"9\"]\n",
    "\n",
    "# 3 iterables num1, num2, num3 therefore lambda accepts 3 params aswell\n",
    "j = list(map(lambda x, y, z: int(x)*int(y)*int(z), num, num2, num3))\n",
    "print(list(j))   "
   ]
  },
  {
   "cell_type": "markdown",
   "metadata": {},
   "source": [
    "> **Note:** If the passed iterators have different lengths, the iterator with the least items decides the length of the new iterator."
   ]
  },
  {
   "cell_type": "code",
   "execution_count": 34,
   "metadata": {},
   "outputs": [],
   "source": [
    "num = [\"1\",\"2\"]\n",
    "num2 =[\"3\", \"4\",\"5\"]\n",
    "num3 = [\"6\",\"7\",\"8\",\"9\"]\n",
    "\n",
    "# 3 iterables num1, num2, num3 therefore lambda accepts 3 params aswell\n",
    "j = list(map(lambda x, y, z: int(x)*int(y)*int(z), num, num2, num3))\n",
    "print(list(j))   "
   ]
  },
  {
   "cell_type": "markdown",
   "metadata": {},
   "source": [
    "## Writing our own map function\n",
    "Let’s see step by step instructions on how to create our own map function.\n",
    "1- Create an empty array mapArr.\n",
    "2- Loop through array elements.\n",
    "3- Call function mapFunc with the current element as the argument.\n",
    "4- Push the result of the mapFunc function to the mapArr array.\n",
    "5- Return the mapArr array after going through all the elements.\n",
    "\n",
    "Now let’s write our implementation of the map()"
   ]
  },
  {
   "cell_type": "code",
   "execution_count": 37,
   "metadata": {},
   "outputs": [
    {
     "ename": "TypeError",
     "evalue": "insert expected 2 arguments, got 1",
     "output_type": "error",
     "traceback": [
      "\u001b[1;31m---------------------------------------------------------------------------\u001b[0m",
      "\u001b[1;31mTypeError\u001b[0m                                 Traceback (most recent call last)",
      "\u001b[1;32m<ipython-input-37-01103eba7e85>\u001b[0m in \u001b[0;36m<module>\u001b[1;34m\u001b[0m\n\u001b[0;32m     10\u001b[0m \u001b[1;33m\u001b[0m\u001b[0m\n\u001b[0;32m     11\u001b[0m \u001b[0mnum\u001b[0m \u001b[1;33m=\u001b[0m \u001b[1;33m[\u001b[0m\u001b[1;36m2\u001b[0m\u001b[1;33m,\u001b[0m \u001b[1;36m4\u001b[0m\u001b[1;33m,\u001b[0m \u001b[1;36m6\u001b[0m\u001b[1;33m,\u001b[0m \u001b[1;36m10\u001b[0m\u001b[1;33m]\u001b[0m\u001b[1;33m\u001b[0m\u001b[1;33m\u001b[0m\u001b[0m\n\u001b[1;32m---> 12\u001b[1;33m \u001b[0mdoubles2\u001b[0m \u001b[1;33m=\u001b[0m \u001b[0mmy_map\u001b[0m\u001b[1;33m(\u001b[0m\u001b[1;32mlambda\u001b[0m \u001b[0mitem\u001b[0m\u001b[1;33m:\u001b[0m \u001b[0mitem\u001b[0m\u001b[1;33m*\u001b[0m\u001b[1;36m2\u001b[0m\u001b[1;33m,\u001b[0m \u001b[0mnum\u001b[0m\u001b[1;33m)\u001b[0m\u001b[1;33m\u001b[0m\u001b[1;33m\u001b[0m\u001b[0m\n\u001b[0m\u001b[0;32m     13\u001b[0m \u001b[0mprint\u001b[0m\u001b[1;33m(\u001b[0m\u001b[0mdoubles2\u001b[0m\u001b[1;33m)\u001b[0m\u001b[1;33m\u001b[0m\u001b[1;33m\u001b[0m\u001b[0m\n",
      "\u001b[1;32m<ipython-input-37-01103eba7e85>\u001b[0m in \u001b[0;36mmy_map\u001b[1;34m(map_func, map_iter)\u001b[0m\n\u001b[0;32m      5\u001b[0m     \u001b[1;32mfor\u001b[0m \u001b[0mi\u001b[0m \u001b[1;32min\u001b[0m  \u001b[0mmap_iter\u001b[0m\u001b[1;33m:\u001b[0m\u001b[1;33m\u001b[0m\u001b[1;33m\u001b[0m\u001b[0m\n\u001b[0;32m      6\u001b[0m         \u001b[0mresult\u001b[0m \u001b[1;33m=\u001b[0m \u001b[0mmap_func\u001b[0m\u001b[1;33m(\u001b[0m\u001b[0mi\u001b[0m\u001b[1;33m)\u001b[0m\u001b[1;33m\u001b[0m\u001b[1;33m\u001b[0m\u001b[0m\n\u001b[1;32m----> 7\u001b[1;33m         \u001b[0mmap_Arr\u001b[0m\u001b[1;33m.\u001b[0m\u001b[0minsert\u001b[0m\u001b[1;33m(\u001b[0m\u001b[0mresult\u001b[0m\u001b[1;33m)\u001b[0m\u001b[1;33m;\u001b[0m\u001b[1;33m\u001b[0m\u001b[1;33m\u001b[0m\u001b[0m\n\u001b[0m\u001b[0;32m      8\u001b[0m     \u001b[1;32mreturn\u001b[0m \u001b[0mmap_Arr\u001b[0m\u001b[1;33m\u001b[0m\u001b[1;33m\u001b[0m\u001b[0m\n\u001b[0;32m      9\u001b[0m \u001b[1;33m\u001b[0m\u001b[0m\n",
      "\u001b[1;31mTypeError\u001b[0m: insert expected 2 arguments, got 1"
     ]
    }
   ],
   "source": [
    "# my_map takes an array and function as argument\n",
    "def my_map(map_func, map_iter ): \n",
    "    map_Arr = [];  # empty array        \n",
    "    # loop though iter    \n",
    "    for i in  map_iter:\n",
    "        result = map_func(i)\n",
    "        map_Arr.append(result);    \n",
    "    return map_Arr\n",
    "\n",
    "\n",
    "num = [2, 4, 6, 10]\n",
    "doubles2 = my_map(lambda item: item*2, num)\n",
    "print(doubles2)"
   ]
  },
  {
   "cell_type": "code",
   "execution_count": null,
   "metadata": {},
   "outputs": [],
   "source": []
  }
 ],
 "metadata": {
  "kernelspec": {
   "display_name": "Python 3",
   "language": "python",
   "name": "python3"
  },
  "language_info": {
   "codemirror_mode": {
    "name": "ipython",
    "version": 3
   },
   "file_extension": ".py",
   "mimetype": "text/x-python",
   "name": "python",
   "nbconvert_exporter": "python",
   "pygments_lexer": "ipython3",
   "version": "3.8.7"
  }
 },
 "nbformat": 4,
 "nbformat_minor": 4
}
