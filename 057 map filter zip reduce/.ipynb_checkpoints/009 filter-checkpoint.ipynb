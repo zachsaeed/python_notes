{
 "cells": [
  {
   "cell_type": "markdown",
   "metadata": {},
   "source": [
    "# filter( function, iterable )\n",
    "- Accepts 2 arguments, \n",
    "    - 1- a function (named or lambda) which takes one parameter and returns a boolean value \n",
    "    - 2- an iterable (string, list, dictionary, set, tuple) etc\n",
    "    - It runs the lambda function on each element of the iterable \n",
    "    - and returns a filter object of a length equal or smaller to the iterable (based on weather the passed function returned true or false)"
   ]
  },
  {
   "cell_type": "code",
   "execution_count": 1,
   "metadata": {},
   "outputs": [
    {
     "name": "stdout",
     "output_type": "stream",
     "text": [
      "<filter object at 0x00000202B83F1940>\n",
      "[2, 4, 6]\n"
     ]
    }
   ],
   "source": [
    "# Using filter to get evens\n",
    "num = [1, 2, 3, 4, 5, 6, 7]\n",
    "\n",
    "evens = filter(lambda item: item % 2 == 0, num) # can be a named function instead of lambda\n",
    "\n",
    "print(evens)  # <filter object at 0x030D0E90>\n",
    "print(list(evens))  # will return the elements for which lambda was true"
   ]
  },
  {
   "cell_type": "markdown",
   "metadata": {},
   "source": [
    "> **Note:** The filter object is not guranteed to be the same length as lambda will filter out some of them"
   ]
  },
  {
   "cell_type": "markdown",
   "metadata": {},
   "source": [
    "## Writing our own filter function\n",
    "Let’s see step by step instructions on how to create our own filter function to understand what happens internally:\n",
    "\n",
    "The filter function will take a function which will return true if a number is even. \n",
    "The filter() “filters” the input iterator based on whether the element is true or false. Let’s go through step by step on how the filter() works.\n",
    "\n",
    "= Create an empty array filter_arr.\n",
    "- Loop through the array elements.\n",
    "- Called the filter_func function with the current element as the argument.\n",
    "- If the result is true, push the element to the filter_arr array.\n",
    "- Return filter_arr array after going through all the elements.\n",
    "\n",
    "Time to write our own filter()"
   ]
  },
  {
   "cell_type": "code",
   "execution_count": null,
   "metadata": {},
   "outputs": [],
   "source": [
    "# filter takes an array and function as argument\n",
    "\n",
    "def my_filter(filter_func, my_iter): \n",
    "    filter_arr = []; # empty array        \n",
    "    # loop though array    \n",
    "    for i in my_iter:\n",
    "        result = filter_func(i)        \n",
    "        # push the current element if result is true        \n",
    "        if result :             \n",
    "            filter_arr.append(i)     \n",
    "    \n",
    "    return filter_arr\n",
    "\n",
    "# Using our filter to get evens\n",
    "num = [1, 2, 3, 4, 5, 6, 7]\n",
    "evens = my_filter(lambda item: item % 2 == 0, num) # can be a named function instead of lambda\n",
    "print(evens)  \n",
    "\n"
   ]
  }
 ],
 "metadata": {
  "kernelspec": {
   "display_name": "Python 3",
   "language": "python",
   "name": "python3"
  },
  "language_info": {
   "codemirror_mode": {
    "name": "ipython",
    "version": 3
   },
   "file_extension": ".py",
   "mimetype": "text/x-python",
   "name": "python",
   "nbconvert_exporter": "python",
   "pygments_lexer": "ipython3",
   "version": "3.8.7"
  }
 },
 "nbformat": 4,
 "nbformat_minor": 4
}
