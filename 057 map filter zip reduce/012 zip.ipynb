{
 "cells": [
  {
   "cell_type": "markdown",
   "metadata": {},
   "source": [
    "# zip( *iterables )\n",
    "- Accepts 1 or more iterables (string, list, dictionary, set, tuple) etc    \n",
    "- returns a zip object, which is an iterator of tuples where the first item in each passed iterator is paired together, and then the second item in each passed iterator are paired together etc."
   ]
  },
  {
   "cell_type": "code",
   "execution_count": 5,
   "metadata": {},
   "outputs": [
    {
     "name": "stdout",
     "output_type": "stream",
     "text": [
      "<zip object at 0x0000021EE74F9040>\n",
      "[('John', 'Jenny'), ('Charles', 'Christy'), ('Mike', 'Monica')]\n"
     ]
    }
   ],
   "source": [
    "# Using zip\n",
    "a = (\"John\", \"Charles\", \"Mike\")\n",
    "b = (\"Jenny\", \"Christy\", \"Monica\")\n",
    "\n",
    "x = zip(a, b)\n",
    "print(x)\n",
    "print(list(x))"
   ]
  },
  {
   "cell_type": "markdown",
   "metadata": {},
   "source": [
    "> **Note:** If the passed iterators have different lengths, the iterator with the least items decides the length of the new iterator. If iterators contains more items, these items are ignored:"
   ]
  },
  {
   "cell_type": "code",
   "execution_count": 6,
   "metadata": {},
   "outputs": [
    {
     "name": "stdout",
     "output_type": "stream",
     "text": [
      "[('M', 'J', 'G', 'N'), ('a', 'u', 'h', 'a'), (',', 'd', 'a', 'w'), (' ', 'g', 'r', 'a'), ('m', 'e', ' ', ' '), ('e', ' ', 'm', 'a'), ('i', 's', 'e', 'y'), ('n', 'a', 'i', 'a'), ('e', 'h', 'n', ' '), (' ', 'a', ' ', 'a'), ('m', 'b', 'n', 'i'), ('e', '!', 'a', 'e'), ('t', ' ', 'y', 'n'), ('r', 'M', 'a', ' '), ('i', 'u', ' ', 's'), ('c', 'j', 'm', 'o'), (' ', 'h', 'e', 'n'), ('p', 'e', 'h', 'y'), ('a', ' ', 'm', 'a')]\n"
     ]
    }
   ],
   "source": [
    "# strings are iterators too:\n",
    "a = \"Ma, meine metric pass kar liya\"\n",
    "b = \"Judge sahab! Mujhe meri jawani lauta dou\"\n",
    "c = \"Ghar mein naya mehman aanay wala hai\" \n",
    "d = \"Nawa aya aien sonya\" \n",
    "print(list(zip(a, b, c, d)))\n"
   ]
  },
  {
   "cell_type": "code",
   "execution_count": null,
   "metadata": {},
   "outputs": [],
   "source": []
  }
 ],
 "metadata": {
  "kernelspec": {
   "display_name": "Python 3 (ipykernel)",
   "language": "python",
   "name": "python3"
  },
  "language_info": {
   "codemirror_mode": {
    "name": "ipython",
    "version": 3
   },
   "file_extension": ".py",
   "mimetype": "text/x-python",
   "name": "python",
   "nbconvert_exporter": "python",
   "pygments_lexer": "ipython3",
   "version": "3.8.10"
  }
 },
 "nbformat": 4,
 "nbformat_minor": 4
}
