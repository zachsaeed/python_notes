{
 "cells": [
  {
   "cell_type": "markdown",
   "metadata": {},
   "source": [
    "# frozenSets\n",
    "\n",
    "frozenSets are to sets what tuples are to lists.\n",
    "\n",
    "A frozen set is just an **immutable** version of a Python set object. While elements of a set can be modified at any time, elements of the frozen set remain the same after creation.\n",
    "\n",
    "## frozenSet() constructor method\n",
    "Unlike a set which can be created using {} or the set() constructor method, a frozenSet can only be created using the frozenset() constructor function which can take an **iterable** as input.\n",
    "\n",
    "If no parameters are passed, it returns an empty frozenset."
   ]
  },
  {
   "cell_type": "code",
   "execution_count": 22,
   "metadata": {},
   "outputs": [
    {
     "name": "stdout",
     "output_type": "stream",
     "text": [
      "frozenset({'baz', 'qux', 'bar', 'foo'})\n",
      "<class 'frozenset'>\n"
     ]
    }
   ],
   "source": [
    "list_frozenset= frozenset(['foo', 'bar', 'baz', 'foo', 'qux']) # we are typcasting a list to frozenset\n",
    "print(list_frozenset)\n",
    "print(type(list_frozenset))"
   ]
  },
  {
   "cell_type": "code",
   "execution_count": 23,
   "metadata": {},
   "outputs": [
    {
     "name": "stdout",
     "output_type": "stream",
     "text": [
      "frozenset({'baz', 'qux', 'bar', 'foo'})\n"
     ]
    }
   ],
   "source": [
    "tuple_frozenset = frozenset(('foo', 'bar', 'baz', 'foo', 'qux')) # we are typcasting a tuple to frozenset\n",
    "print(tuple_frozenset)"
   ]
  },
  {
   "cell_type": "code",
   "execution_count": 24,
   "metadata": {},
   "outputs": [
    {
     "name": "stdout",
     "output_type": "stream",
     "text": [
      "frozenset({'U', 'B', 'I', 'A', 'Q', 'S'})\n"
     ]
    }
   ],
   "source": [
    "string_frozenset = frozenset('SAQUIBUUU')  # we are typcasting a string to frozenset\n",
    "print(string_frozenset)"
   ]
  },
  {
   "cell_type": "code",
   "execution_count": 25,
   "metadata": {},
   "outputs": [
    {
     "name": "stdout",
     "output_type": "stream",
     "text": [
      "frozenset({'key1', 'key3', 'key2'})\n"
     ]
    }
   ],
   "source": [
    "dict_x = {'key1':'a', 'key2':'b', 'key3': 'c', 'key3': 'saquib'}  # we are typcasting a dictionary to frozenset\n",
    "dict_frozenset = frozenset(dict_x) \n",
    "print(dict_frozenset)"
   ]
  },
  {
   "cell_type": "code",
   "execution_count": 26,
   "metadata": {},
   "outputs": [
    {
     "name": "stdout",
     "output_type": "stream",
     "text": [
      "frozenset({'baz', 'qux', 'bar', 'foo'})\n"
     ]
    }
   ],
   "source": [
    "set_frozenset = frozenset({'foo', 'bar', 'baz', 'qux'}) # we are typcasting a set to frozenset\n",
    "print(set_frozenset)"
   ]
  },
  {
   "cell_type": "markdown",
   "metadata": {},
   "source": [
    "# frozensets are immutable\n",
    "Since frozensets are immutable, none of the methods that change it's structure (to add remove elements) are present in it"
   ]
  },
  {
   "cell_type": "code",
   "execution_count": 27,
   "metadata": {},
   "outputs": [],
   "source": [
    "# dict_frozenset.add('v')  # Will throw: AttributeError: 'frozenset' object has no attribute 'add'"
   ]
  },
  {
   "cell_type": "markdown",
   "metadata": {},
   "source": [
    "## Frozenset mathematical functions\n",
    "\n",
    "Like normal sets, frozenset have all mathematical functions except the following ones that update the frozenset (as frozensets are immutable)\n",
    "- x1.update(x2[, x3 ...]) or x1 |= x2 [| x3 ...]\n",
    "- x1.intersection_update(x2[, x3 ...]) or x1 &= x2 [& x3 ...]\n",
    "- x1.difference_update(x2[, x3 ...]) or x1 -= x2 [| x3 ...]\n",
    "- x1.symmetric_difference_update(x2) or x1 ^= x2"
   ]
  }
 ],
 "metadata": {
  "kernelspec": {
   "display_name": "Python 3",
   "language": "python",
   "name": "python3"
  },
  "language_info": {
   "codemirror_mode": {
    "name": "ipython",
    "version": 3
   },
   "file_extension": ".py",
   "mimetype": "text/x-python",
   "name": "python",
   "nbconvert_exporter": "python",
   "pygments_lexer": "ipython3",
   "version": "3.8.7"
  }
 },
 "nbformat": 4,
 "nbformat_minor": 4
}
