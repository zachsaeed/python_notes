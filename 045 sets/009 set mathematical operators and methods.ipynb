{
 "cells": [
  {
   "cell_type": "markdown",
   "metadata": {},
   "source": [
    "# Available Set mathematical Operators and Methods\n",
    "\n",
    "Many of the operations that can be used for Python’s other composite data types don’t make sense for sets. \n",
    "\n",
    "For example, sets can’t be indexed or sliced. \n",
    "\n",
    "However, Python provides a whole host of operations on set objects that generally mimic the operations that are defined for mathematical sets.\n",
    "\n",
    "Below is a list of the set operations available in Python. Some are performed by operator, some by method, and some by both. They are:\n",
    "\n",
    "- x1.union(x2[, x3 ...]) or x1 | x2 [| x3 ...]\n",
    "- x1.intersection(x2[, x3 ...]) or x1 & x2 [& x3 ...]\n",
    "- x1.difference(x2[, x3 ...]) or x1 - x2 [- x3 ...]\n",
    "- x1.symmetric_difference(x2) or x1 ^ x2 [^ x3 ...]\n",
    "- x1.isdisjoint(x2)\n",
    "- x1.issubset(x2) or x1 <= x2\n",
    "- x1.issuperset(x2) or x1 >= x2\n",
    "- x1 > x2\n",
    "Will modify a set:\n",
    "- x1.update(x2[, x3 ...]) or x1 |= x2 [| x3 ...]\n",
    "- x1.intersection_update(x2[, x3 ...]) or x1 &= x2 [& x3 ...]\n",
    "- x1.difference_update(x2[, x3 ...]) or x1 -= x2 [| x3 ...]\n",
    "- x1.symmetric_difference_update(x2)  or x1 ^= x2\n",
    "\n",
    "##  x1.union(x2[, x3 ...]) or x1 | x2 [| x3 ...]\n",
    "\n",
    "Used to compute the union of two or more sets.\n",
    "\n",
    "<div>\n",
    "<img src=\"../assets/set_union.webp\" width=\"250\"/>\n",
    "</div>\n",
    "\n",
    "x1.union(x2) and x1 | x2 both return the set of all elements in either x1 or x2:"
   ]
  },
  {
   "cell_type": "code",
   "execution_count": 1,
   "metadata": {},
   "outputs": [
    {
     "name": "stdout",
     "output_type": "stream",
     "text": [
      "{'quux', 'foo', 'qux', 'baz', 'bar'}\n"
     ]
    }
   ],
   "source": [
    "x1 = {'foo', 'bar', 'baz'}\n",
    "x2 = {'baz', 'qux', 'quux'}\n",
    "\n",
    "print(x1.union(x2))"
   ]
  },
  {
   "cell_type": "code",
   "execution_count": 2,
   "metadata": {},
   "outputs": [
    {
     "name": "stdout",
     "output_type": "stream",
     "text": [
      "{'quux', 'foo', 'qux', 'baz', 'bar'}\n"
     ]
    }
   ],
   "source": [
    "print(x1 | x2)"
   ]
  },
  {
   "cell_type": "markdown",
   "metadata": {},
   "source": [
    "More than two sets may be specified with either the operator or the method:"
   ]
  },
  {
   "cell_type": "code",
   "execution_count": 3,
   "metadata": {},
   "outputs": [
    {
     "name": "stdout",
     "output_type": "stream",
     "text": [
      "{1, 2, 3, 4, 5, 6, 7}\n"
     ]
    }
   ],
   "source": [
    "a = {1, 2, 3, 4}\n",
    "b = {2, 3, 4, 5}\n",
    "c = {3, 4, 5, 6}\n",
    "d = {4, 5, 6, 7}\n",
    "\n",
    "print(a.union(b, c, d))"
   ]
  },
  {
   "cell_type": "code",
   "execution_count": 4,
   "metadata": {},
   "outputs": [
    {
     "name": "stdout",
     "output_type": "stream",
     "text": [
      "{1, 2, 3, 4, 5, 6, 7}\n"
     ]
    }
   ],
   "source": [
    "print(a | b | c | d)"
   ]
  },
  {
   "cell_type": "markdown",
   "metadata": {},
   "source": [
    "The resulting set contains all elements that are present in any of the specified sets.\n",
    "\n",
    "## x1.intersection(x2[, x3 ...]) or x1 & x2 [& x3 ...]\n",
    "\n",
    "Used to compute the intersection of two or more sets.\n",
    "\n",
    "<div>\n",
    "<img src=\"../assets/set_intersection.webp\" width=\"250\"/>\n",
    "</div>\n",
    "\n",
    "x1.intersection(x2) and x1 & x2 return the set of elements common to both x1 and x2:"
   ]
  },
  {
   "cell_type": "code",
   "execution_count": 5,
   "metadata": {},
   "outputs": [
    {
     "name": "stdout",
     "output_type": "stream",
     "text": [
      "{'baz', 1}\n"
     ]
    }
   ],
   "source": [
    "x1 = {'foo', 1, 'bar', 'baz'}\n",
    "x2 = {'baz', 'qux', 1, 'quux'}\n",
    "\n",
    "print(x1.intersection(x2))"
   ]
  },
  {
   "cell_type": "code",
   "execution_count": 6,
   "metadata": {},
   "outputs": [
    {
     "name": "stdout",
     "output_type": "stream",
     "text": [
      "{'baz', 1}\n"
     ]
    }
   ],
   "source": [
    "print(x1 & x2)"
   ]
  },
  {
   "cell_type": "markdown",
   "metadata": {},
   "source": [
    "You can specify multiple sets with the intersection method and operator, just like you can with set union:"
   ]
  },
  {
   "cell_type": "code",
   "execution_count": 7,
   "metadata": {},
   "outputs": [
    {
     "name": "stdout",
     "output_type": "stream",
     "text": [
      "{4}\n"
     ]
    }
   ],
   "source": [
    "a = {1, 2, 3, 4}\n",
    "b = {2, 3, 4, 5}\n",
    "c = {3, 4, 5, 6}\n",
    "d = {4, 5, 6, 7}\n",
    "\n",
    "print(a.intersection(b, c, d))"
   ]
  },
  {
   "cell_type": "code",
   "execution_count": 8,
   "metadata": {},
   "outputs": [
    {
     "name": "stdout",
     "output_type": "stream",
     "text": [
      "{4}\n"
     ]
    }
   ],
   "source": [
    "print(a & b & c & d)"
   ]
  },
  {
   "cell_type": "markdown",
   "metadata": {},
   "source": [
    "The resulting set contains only elements that are present in all of the specified sets.\n",
    "\n",
    "## x1.difference(x2[, x3 ...]) or x1 - x2 [- x3 ...]\n",
    "\n",
    "Used to compute the difference between two or more sets.\n",
    "\n",
    "<div>\n",
    "<img src=\"../assets/set_difference.webp\" width=\"250\"/>\n",
    "</div>\n",
    "\n",
    "x1.difference(x2) and x1 - x2 return the set of all elements that are in x1 but not in x2:"
   ]
  },
  {
   "cell_type": "code",
   "execution_count": 9,
   "metadata": {},
   "outputs": [
    {
     "name": "stdout",
     "output_type": "stream",
     "text": [
      "{'bar', 'foo'}\n",
      "{'quux', 'qux'}\n"
     ]
    }
   ],
   "source": [
    "x1 = {'foo', 'bar', 'baz'}\n",
    "x2 = {'baz', 'qux', 'quux'}\n",
    "\n",
    "print(x1.difference(x2))\n",
    "print(x2.difference(x1))"
   ]
  },
  {
   "cell_type": "code",
   "execution_count": 10,
   "metadata": {},
   "outputs": [
    {
     "name": "stdout",
     "output_type": "stream",
     "text": [
      "{'bar', 'foo'}\n"
     ]
    }
   ],
   "source": [
    "print(x1 - x2)"
   ]
  },
  {
   "cell_type": "markdown",
   "metadata": {},
   "source": [
    "Another way to think of this is that x1.difference(x2) and x1 - x2 return the set that results when any elements in x2 are removed or subtracted from x1.\n",
    "\n",
    "Once again, you can specify more than two sets:"
   ]
  },
  {
   "cell_type": "code",
   "execution_count": 11,
   "metadata": {},
   "outputs": [
    {
     "name": "stdout",
     "output_type": "stream",
     "text": [
      "{1, 2, 3}\n"
     ]
    }
   ],
   "source": [
    "a = {1, 2, 3, 30, 300}\n",
    "b = {10, 20, 30, 40}\n",
    "c = {100, 200, 300, 400}\n",
    "\n",
    "print(a.difference(b, c))"
   ]
  },
  {
   "cell_type": "code",
   "execution_count": 12,
   "metadata": {},
   "outputs": [
    {
     "name": "stdout",
     "output_type": "stream",
     "text": [
      "{1, 2, 3}\n"
     ]
    }
   ],
   "source": [
    "print(a - b - c)"
   ]
  },
  {
   "cell_type": "markdown",
   "metadata": {},
   "source": [
    "> **Note:** When multiple sets are specified, the operation is performed from left to right. In the example above, a - b is computed first, resulting in {1, 2, 3, 300}. Then c is \n",
    "> subtracted from that set, leaving {1, 2, 3}:\n",
    ">\n",
    "> <div>\n",
    "> <img src=\"../assets/set_difference_multiple.webp\" width=\"500\"/>\n",
    "> </div>\n",
    ">\n",
    "\n",
    "## x1.symmetric_difference(x2) or x1 ^ x2 [^ x3 ...]\n",
    "\n",
    "Used to compute the symmetric difference between sets.\n",
    "\n",
    "<div>\n",
    "<img src=\"../assets/set_symetric_difference.webp\" width=\"250\"/>\n",
    "</div>\n",
    "\n",
    "x1.symmetric_difference(x2) and x1 ^ x2 return the set of all elements in either x1 or x2, but not both:"
   ]
  },
  {
   "cell_type": "code",
   "execution_count": 13,
   "metadata": {},
   "outputs": [
    {
     "name": "stdout",
     "output_type": "stream",
     "text": [
      "{'foo', 'bar', 'qux', 'quux'}\n"
     ]
    }
   ],
   "source": [
    "x1 = {'foo', 'bar', 'baz'}\n",
    "x2 = {'baz', 'qux', 'quux'}\n",
    "\n",
    "print(x1.symmetric_difference(x2))"
   ]
  },
  {
   "cell_type": "code",
   "execution_count": 14,
   "metadata": {},
   "outputs": [
    {
     "name": "stdout",
     "output_type": "stream",
     "text": [
      "{'foo', 'bar', 'qux', 'quux'}\n"
     ]
    }
   ],
   "source": [
    "print(x1 ^ x2)"
   ]
  },
  {
   "cell_type": "markdown",
   "metadata": {},
   "source": [
    "The ^ operator also allows more than two sets:"
   ]
  },
  {
   "cell_type": "code",
   "execution_count": 15,
   "metadata": {},
   "outputs": [
    {
     "name": "stdout",
     "output_type": "stream",
     "text": [
      "{10, 100, 5}\n"
     ]
    }
   ],
   "source": [
    "a = {1, 2, 3, 4, 5}\n",
    "b = {10, 2, 3, 4, 50}\n",
    "c = {1, 50, 100}\n",
    "\n",
    "print(a ^ b ^ c)"
   ]
  },
  {
   "cell_type": "markdown",
   "metadata": {},
   "source": [
    "As with the difference operator, when multiple sets are specified, the operation is performed from left to right.\n",
    "\n",
    "> **Note:** Although the ^ operator allows multiple sets, the .symmetric_difference() method doesn’t and will throw an error:\n",
    "> TypeError: symmetric_difference() takes exactly one argument (2 given)\n",
    ">"
   ]
  },
  {
   "cell_type": "code",
   "execution_count": 16,
   "metadata": {},
   "outputs": [
    {
     "name": "stdout",
     "output_type": "stream",
     "text": [
      "{10, 100, 5}\n"
     ]
    }
   ],
   "source": [
    "# d= a.symmetric_difference(b,c)\n",
    "d= a.symmetric_difference(b)\n",
    "e = d.symmetric_difference(c)\n",
    "print(e)"
   ]
  },
  {
   "cell_type": "markdown",
   "metadata": {},
   "source": [
    "## x1.isdisjoint(x2)\n",
    "\n",
    "Determines whether or not two sets have any elements in common.\n",
    "\n",
    "x1.isdisjoint(x2) returns True if x1 and x2 have no elements in common:"
   ]
  },
  {
   "cell_type": "code",
   "execution_count": 17,
   "metadata": {},
   "outputs": [
    {
     "name": "stdout",
     "output_type": "stream",
     "text": [
      "False\n"
     ]
    }
   ],
   "source": [
    "x1 = {'foo', 'bar', 'baz'}\n",
    "x2 = {'baz', 'qux', 'quux'}\n",
    "\n",
    "print(x1.isdisjoint(x2))"
   ]
  },
  {
   "cell_type": "code",
   "execution_count": 18,
   "metadata": {},
   "outputs": [
    {
     "name": "stdout",
     "output_type": "stream",
     "text": [
      "{'quux', 'qux'}\n",
      "True\n"
     ]
    }
   ],
   "source": [
    "print(x2 - {'baz'})\n",
    "\n",
    "print(x1.isdisjoint(x2 - {'baz'}))"
   ]
  },
  {
   "cell_type": "markdown",
   "metadata": {},
   "source": [
    "If x1.isdisjoint(x2) is True, then x1 & x2 is the empty set:"
   ]
  },
  {
   "cell_type": "code",
   "execution_count": 19,
   "metadata": {},
   "outputs": [
    {
     "name": "stdout",
     "output_type": "stream",
     "text": [
      "True\n"
     ]
    }
   ],
   "source": [
    "x1 = {1, 3, 5}\n",
    "x2 = {2, 4, 6}\n",
    "\n",
    "print(x1.isdisjoint(x2))"
   ]
  },
  {
   "cell_type": "code",
   "execution_count": 20,
   "metadata": {},
   "outputs": [
    {
     "name": "stdout",
     "output_type": "stream",
     "text": [
      "set()\n"
     ]
    }
   ],
   "source": [
    "print(x1 & x2)"
   ]
  },
  {
   "cell_type": "markdown",
   "metadata": {},
   "source": [
    "> **Note:** There is no operator that corresponds to the .isdisjoint() method.\n",
    "\n",
    "## x1.issubset(x2) or x1 <= x2\n",
    "\n",
    "Determines whether one set is a subset of the other.\n",
    "\n",
    "In set theory, a set x1 is considered a subset of another set x2 if every element of x1 is in x2.\n",
    "\n",
    "x1.issubset(x2) and x1 <= x2 return True if x1 is a subset of x2:"
   ]
  },
  {
   "cell_type": "code",
   "execution_count": 21,
   "metadata": {},
   "outputs": [
    {
     "name": "stdout",
     "output_type": "stream",
     "text": [
      "True\n"
     ]
    }
   ],
   "source": [
    "x1 = {'foo', 'bar', 'baz'}\n",
    "x2 = {'foo', 'bar', 'baz', 'qux', 'quux'}\n",
    "print(x1.issubset(x2))"
   ]
  },
  {
   "cell_type": "code",
   "execution_count": 22,
   "metadata": {},
   "outputs": [
    {
     "name": "stdout",
     "output_type": "stream",
     "text": [
      "False\n"
     ]
    }
   ],
   "source": [
    "x2 = {'baz', 'qux', 'quux'}\n",
    "print(x1 <= x2)"
   ]
  },
  {
   "cell_type": "markdown",
   "metadata": {},
   "source": [
    "A set is considered to be a subset of itself:"
   ]
  },
  {
   "cell_type": "code",
   "execution_count": 23,
   "metadata": {},
   "outputs": [
    {
     "name": "stdout",
     "output_type": "stream",
     "text": [
      "True\n"
     ]
    }
   ],
   "source": [
    "x = {1, 2, 3, 4, 5}\n",
    "print(x.issubset(x))"
   ]
  },
  {
   "cell_type": "code",
   "execution_count": 24,
   "metadata": {},
   "outputs": [
    {
     "name": "stdout",
     "output_type": "stream",
     "text": [
      "True\n"
     ]
    }
   ],
   "source": [
    "print(x <= x)"
   ]
  },
  {
   "cell_type": "markdown",
   "metadata": {},
   "source": [
    "> Because, it fits the definition: every element of x is in x.\n",
    "\n",
    "## x1 < x2\n",
    "\n",
    "Determines whether one set is a proper subset of the other.\n",
    "\n",
    "A proper subset is the same as a subset, except that the sets can’t be identical. A set x1 is considered a proper subset of another set x2 if every element of x1 is in x2, and x1 and x2 are not equal.\n",
    "\n",
    "x1 < x2 returns True if x1 is a proper subset of x2:"
   ]
  },
  {
   "cell_type": "code",
   "execution_count": 25,
   "metadata": {},
   "outputs": [
    {
     "name": "stdout",
     "output_type": "stream",
     "text": [
      "True\n"
     ]
    }
   ],
   "source": [
    "x1 = {'foo', 'bar'}\n",
    "x2 = {'foo', 'bar', 'baz'}\n",
    "print(x1 < x2)"
   ]
  },
  {
   "cell_type": "code",
   "execution_count": 26,
   "metadata": {},
   "outputs": [
    {
     "name": "stdout",
     "output_type": "stream",
     "text": [
      "False\n"
     ]
    }
   ],
   "source": [
    "x1 = {'foo', 'bar', 'baz'}\n",
    "x2 = {'foo', 'bar', 'baz'}\n",
    "print(x1 < x2)"
   ]
  },
  {
   "cell_type": "markdown",
   "metadata": {},
   "source": [
    "While a set is considered a subset of itself, it is not a proper subset of itself:"
   ]
  },
  {
   "cell_type": "code",
   "execution_count": 27,
   "metadata": {},
   "outputs": [
    {
     "name": "stdout",
     "output_type": "stream",
     "text": [
      "True\n"
     ]
    }
   ],
   "source": [
    "x = {1, 2, 3, 4, 5}\n",
    "print(x <= x)"
   ]
  },
  {
   "cell_type": "code",
   "execution_count": 28,
   "metadata": {},
   "outputs": [
    {
     "name": "stdout",
     "output_type": "stream",
     "text": [
      "False\n"
     ]
    }
   ],
   "source": [
    "print(x < x)"
   ]
  },
  {
   "cell_type": "markdown",
   "metadata": {},
   "source": [
    "> **Note:** The < operator is the only way to test whether a set is a proper subset. There is no corresponding method.\n",
    "\n",
    "## x1.issuperset(x2) or x1 >= x2\n",
    "\n",
    "Determines whether one set is a superset of the other.\n",
    "\n",
    "A superset is the reverse of a subset. A set x1 is considered a superset of another set x2 if x1 contains every element of x2.\n",
    "\n",
    "x1.issuperset(x2) and x1 >= x2 return True if x1 is a superset of x2:"
   ]
  },
  {
   "cell_type": "code",
   "execution_count": 29,
   "metadata": {},
   "outputs": [
    {
     "name": "stdout",
     "output_type": "stream",
     "text": [
      "True\n"
     ]
    }
   ],
   "source": [
    "x1 = {'foo', 'bar', 'baz'}\n",
    "x2 = {'foo', 'bar'}\n",
    "print(x1.issuperset(x2))"
   ]
  },
  {
   "cell_type": "code",
   "execution_count": 30,
   "metadata": {},
   "outputs": [
    {
     "name": "stdout",
     "output_type": "stream",
     "text": [
      "False\n"
     ]
    }
   ],
   "source": [
    "x2 = {'baz', 'qux', 'quux'}\n",
    "print(x1 >= x2)"
   ]
  },
  {
   "cell_type": "markdown",
   "metadata": {},
   "source": [
    "You have already seen that a set is considered a subset of itself. A set is also considered a superset of itself:"
   ]
  },
  {
   "cell_type": "code",
   "execution_count": 31,
   "metadata": {},
   "outputs": [
    {
     "name": "stdout",
     "output_type": "stream",
     "text": [
      "True\n"
     ]
    }
   ],
   "source": [
    "x = {1, 2, 3, 4, 5}\n",
    "print(x.issuperset(x))"
   ]
  },
  {
   "cell_type": "code",
   "execution_count": 32,
   "metadata": {},
   "outputs": [
    {
     "name": "stdout",
     "output_type": "stream",
     "text": [
      "True\n"
     ]
    }
   ],
   "source": [
    "print(x >= x)"
   ]
  },
  {
   "cell_type": "markdown",
   "metadata": {},
   "source": [
    "## x1 > x2\n",
    "\n",
    "Determines whether one set is a proper superset of the other.\n",
    "\n",
    "A proper superset is the same as a superset, except that the sets can’t be identical. A set x1 is considered a proper superset of another set x2 if x1 contains every element of x2, and x1 and x2 are not equal.\n",
    "\n",
    "x1 > x2 returns True if x1 is a proper superset of x2:"
   ]
  },
  {
   "cell_type": "code",
   "execution_count": 33,
   "metadata": {},
   "outputs": [
    {
     "name": "stdout",
     "output_type": "stream",
     "text": [
      "True\n"
     ]
    }
   ],
   "source": [
    "x1 = {'foo', 'bar', 'baz'}\n",
    "x2 = {'foo', 'bar'}\n",
    "print(x1 > x2)"
   ]
  },
  {
   "cell_type": "code",
   "execution_count": 34,
   "metadata": {},
   "outputs": [
    {
     "name": "stdout",
     "output_type": "stream",
     "text": [
      "False\n"
     ]
    }
   ],
   "source": [
    "x1 = {'foo', 'bar', 'baz'}\n",
    "x2 = {'foo', 'bar', 'baz'}\n",
    "print(x1 > x2)"
   ]
  },
  {
   "cell_type": "markdown",
   "metadata": {},
   "source": [
    "A set is not a proper superset of itself:"
   ]
  },
  {
   "cell_type": "code",
   "execution_count": 35,
   "metadata": {},
   "outputs": [
    {
     "name": "stdout",
     "output_type": "stream",
     "text": [
      "False\n"
     ]
    }
   ],
   "source": [
    "x = {1, 2, 3, 4, 5}\n",
    "print(x > x)"
   ]
  },
  {
   "cell_type": "markdown",
   "metadata": {},
   "source": [
    "> **Note:** The > operator is the only way to test whether a set is a proper superset. There is no corresponding method.\n",
    "\n",
    "# Modifying a Set\n",
    "Although the elements contained in a set must be of immutable type, sets themselves can be modified. Like the operations above, there are a mix of operators and methods that can be used to change the contents of a set.\n",
    "\n",
    "## Augmented Assignment Operators and Methods\n",
    "Each of the union, intersection, difference, and symmetric difference operators listed above has an augmented assignment form that can be used to modify a set. For each, there is a corresponding method as well.\n",
    "\n",
    "## Modify a set by union\n",
    "## x1.update(x2[, x3 ...]) or x1 |= x2 [| x3 ...]\n",
    "\n",
    "x1.update(x2) and x1 |= x2 add to x1 any elements in x2 that x1 does not already have:"
   ]
  },
  {
   "cell_type": "code",
   "execution_count": 36,
   "metadata": {},
   "outputs": [
    {
     "name": "stdout",
     "output_type": "stream",
     "text": [
      "{'garply2', 'foo', 'baz', 'bar', 'corge2', 'corge', 'garply'}\n"
     ]
    }
   ],
   "source": [
    "x1 = {'foo', 'bar', 'baz'}\n",
    "x1.update({'corge', 'garply'}, {'corge2', 'garply2'})\n",
    "print(x1)"
   ]
  },
  {
   "cell_type": "code",
   "execution_count": 37,
   "metadata": {},
   "outputs": [
    {
     "name": "stdout",
     "output_type": "stream",
     "text": [
      "{'foo', 'baz', 'bar', 'corge', 'garply', 'qux', 'corge2', 'garply2'}\n"
     ]
    }
   ],
   "source": [
    "x2 = {'foo', 'baz', 'qux'}\n",
    "x1 |= x2\n",
    "print(x1)"
   ]
  },
  {
   "cell_type": "markdown",
   "metadata": {},
   "source": [
    "## Modify a set by intersection.\n",
    "## x1.intersection_update(x2[, x3 ...]) or x1 &= x2 [& x3 ...]\n",
    "\n",
    "x1.intersection_update(x2) and x1 &= x2 update x1, retaining only elements found in both x1 and x2:"
   ]
  },
  {
   "cell_type": "code",
   "execution_count": 38,
   "metadata": {},
   "outputs": [
    {
     "name": "stdout",
     "output_type": "stream",
     "text": [
      "{'baz', 'foo'}\n"
     ]
    }
   ],
   "source": [
    "x1 = {'foo', 'bar', 'baz'}\n",
    "x2 = {'foo', 'baz', 'qux'}\n",
    "x1 &= x2\n",
    "print(x1)"
   ]
  },
  {
   "cell_type": "code",
   "execution_count": 39,
   "metadata": {},
   "outputs": [
    {
     "name": "stdout",
     "output_type": "stream",
     "text": [
      "{'baz'}\n"
     ]
    }
   ],
   "source": [
    "x1.intersection_update(['baz', 'qux'])\n",
    "print(x1)"
   ]
  },
  {
   "cell_type": "markdown",
   "metadata": {},
   "source": [
    "## Modify a set by difference.\n",
    "## x1.difference_update(x2[, x3 ...]) or x1 -= x2 [| x3 ...]\n",
    "\n",
    "x1.difference_update(x2) and x1 -= x2 update x1, removing elements found in x2:"
   ]
  },
  {
   "cell_type": "code",
   "execution_count": 40,
   "metadata": {},
   "outputs": [
    {
     "name": "stdout",
     "output_type": "stream",
     "text": [
      "{'bar'}\n"
     ]
    }
   ],
   "source": [
    "x1 = {'foo', 'bar', 'baz'}\n",
    "x2 = {'foo', 'baz', 'qux'}\n",
    "x1 -= x2\n",
    "print(x1)"
   ]
  },
  {
   "cell_type": "code",
   "execution_count": 41,
   "metadata": {},
   "outputs": [
    {
     "name": "stdout",
     "output_type": "stream",
     "text": [
      "set()\n"
     ]
    }
   ],
   "source": [
    "x1.difference_update(['foo', 'bar', 'qux'])\n",
    "print(x1)"
   ]
  },
  {
   "cell_type": "markdown",
   "metadata": {},
   "source": [
    "## Modify a set by symmetric difference.\n",
    "## x1.symmetric_difference_update(x2) or x1 ^= x2\n",
    "\n",
    "x1.symmetric_difference_update(x2) and x1 ^= x2 update x1, retaining elements found in either x1 or x2, but not both:"
   ]
  },
  {
   "cell_type": "code",
   "execution_count": 42,
   "metadata": {},
   "outputs": [
    {
     "name": "stdout",
     "output_type": "stream",
     "text": [
      "{'bar', 'qux'}\n"
     ]
    }
   ],
   "source": [
    "x1 = {'foo', 'bar', 'baz'}\n",
    "x2 = {'foo', 'baz', 'qux'}\n",
    "x1 ^= x2\n",
    "print(x1)"
   ]
  },
  {
   "cell_type": "code",
   "execution_count": 43,
   "metadata": {},
   "outputs": [
    {
     "name": "stdout",
     "output_type": "stream",
     "text": [
      "{'bar', 'corge'}\n"
     ]
    }
   ],
   "source": [
    "x1.symmetric_difference_update(['qux', 'corge'])\n",
    "print(x1)"
   ]
  },
  {
   "cell_type": "markdown",
   "metadata": {},
   "source": [
    "# Operators vs Methods\n",
    "\n",
    "As we have seen, set operations (though not quite all) in Python can be performed in two different ways: \n",
    "    by operator or by method. \n",
    "    \n",
    "Let’s take a look at how these operators and methods work, using set union as an example.\n",
    "\n",
    "Given two sets, x1 and x2, the union of x1 and x2 is a set consisting of all elements in either set.\n",
    "Consider these two sets:"
   ]
  },
  {
   "cell_type": "code",
   "execution_count": 44,
   "metadata": {},
   "outputs": [],
   "source": [
    "x1 = {'foo', 'bar', 'baz'}\n",
    "x2 = {'baz', 'qux', 'quux'}"
   ]
  },
  {
   "cell_type": "markdown",
   "metadata": {},
   "source": [
    "The union of x1 and x2 is {'foo', 'bar', 'baz', 'qux', 'quux'}.\n",
    "\n",
    "> **Note:** Notice that the element 'baz', which appears in both x1 and x2, appears only once in the union. Sets never contain duplicate values.\n",
    "\n",
    "In Python, set union can be performed with the | operator:"
   ]
  },
  {
   "cell_type": "code",
   "execution_count": 45,
   "metadata": {},
   "outputs": [
    {
     "name": "stdout",
     "output_type": "stream",
     "text": [
      "{'quux', 'foo', 'qux', 'baz', 'bar'}\n"
     ]
    }
   ],
   "source": [
    "x1 = {'foo', 'bar', 'baz'}\n",
    "x2 = {'baz', 'qux', 'quux'}\n",
    "print(x1 | x2)"
   ]
  },
  {
   "cell_type": "markdown",
   "metadata": {},
   "source": [
    "Set union can also be obtained with the .union() method. The method is invoked on one of the sets, and the other is passed as an argument:"
   ]
  },
  {
   "cell_type": "code",
   "execution_count": 46,
   "metadata": {},
   "outputs": [
    {
     "name": "stdout",
     "output_type": "stream",
     "text": [
      "{'quux', 'foo', 'qux', 'baz', 'bar'}\n"
     ]
    }
   ],
   "source": [
    "print(x1.union(x2))"
   ]
  },
  {
   "cell_type": "markdown",
   "metadata": {},
   "source": [
    ">\n",
    "> **Note:**  The way they are used in the examples above, the operator and method behave identically. But there is a subtle difference between them. \n",
    ">\n",
    "> - When you use the | operator, both operands must be sets. \n",
    "> - The .union() method, on the other hand, will take any iterable as an argument, convert it to a set, and then perform the union.\n",
    "\n",
    "Observe the difference between these two statements when we pass a tuple:"
   ]
  },
  {
   "cell_type": "code",
   "execution_count": 47,
   "metadata": {},
   "outputs": [
    {
     "name": "stdout",
     "output_type": "stream",
     "text": [
      "{'foo', 'baz', 'bar', 'qux', 'quux'}\n"
     ]
    }
   ],
   "source": [
    "print(x1.union(('baz', 'qux', 'quux')))"
   ]
  },
  {
   "cell_type": "code",
   "execution_count": 48,
   "metadata": {},
   "outputs": [],
   "source": [
    "# print(x1 | ('baz', 'qux', 'quux')) # will throw an error: TypeError: unsupported operand type(s) for |: 'set' and 'tuple'"
   ]
  },
  {
   "cell_type": "markdown",
   "metadata": {},
   "source": [
    "Both attempt to compute the union of x1 and the tuple ('baz', 'qux', 'quux'). This fails with the | operator but succeeds with the .union() method."
   ]
  }
 ],
 "metadata": {
  "kernelspec": {
   "display_name": "Python 3",
   "language": "python",
   "name": "python3"
  },
  "language_info": {
   "codemirror_mode": {
    "name": "ipython",
    "version": 3
   },
   "file_extension": ".py",
   "mimetype": "text/x-python",
   "name": "python",
   "nbconvert_exporter": "python",
   "pygments_lexer": "ipython3",
   "version": "3.8.7"
  }
 },
 "nbformat": 4,
 "nbformat_minor": 4
}
