{
 "cells": [
  {
   "cell_type": "markdown",
   "metadata": {},
   "source": [
    "# Set\n",
    "\n",
    "Set is one of built-in data types in Python used to store collections of data. \n",
    "\n",
    "A set is a collection which is \n",
    "- **mutable** (can be changed / modified),\n",
    "- However, the elements contained in the set must be of an **immutable type**.  \n",
    "- Set elements must be unique. Duplicate elements are not allowed.\n",
    "- Not a **sequence type** ie A set is unordered and unindexed (Set items can appear in a different order every time you use them, and cannot be referred to by index or key).\n",
    "- It allows the elements to be of different types\n",
    "\n",
    "Sets are written with curly brackets (like dictionaries but the elements not as key:value pairs)."
   ]
  },
  {
   "cell_type": "code",
   "execution_count": 4,
   "metadata": {},
   "outputs": [
    {
     "name": "stdout",
     "output_type": "stream",
     "text": [
      "{'apple'}\n"
     ]
    }
   ],
   "source": [
    "thisset = {\"apple\", \"banana\", \"cherry\"}\n",
    "print(thisset)"
   ]
  },
  {
   "cell_type": "markdown",
   "metadata": {},
   "source": [
    "## The set() constructor method\n",
    "The argument to set() should be an **iterable**. We will later see what iterables are. "
   ]
  },
  {
   "cell_type": "code",
   "execution_count": 1,
   "metadata": {},
   "outputs": [
    {
     "name": "stdout",
     "output_type": "stream",
     "text": [
      "{'baz', 'qux', 'foo', 'bar'}\n",
      "<class 'set'>\n"
     ]
    }
   ],
   "source": [
    "list_set= set(['foo', 'bar', 'baz', 'foo', 'qux']) # we are typcasting a list to set\n",
    "print(list_set)\n",
    "print(type(list_set))"
   ]
  },
  {
   "cell_type": "code",
   "execution_count": 60,
   "metadata": {},
   "outputs": [
    {
     "name": "stdout",
     "output_type": "stream",
     "text": [
      "{'qux', 'foo', 'bar', 'baz'}\n"
     ]
    }
   ],
   "source": [
    "tuple_set = set(('foo', 'bar', 'baz', 'foo', 'qux')) # we are typcasting a tuple to set\n",
    "print(tuple_set)"
   ]
  },
  {
   "cell_type": "code",
   "execution_count": 2,
   "metadata": {},
   "outputs": [
    {
     "name": "stdout",
     "output_type": "stream",
     "text": [
      "{'B', 'A', 'Q', 'S', 'I', 'U'}\n"
     ]
    }
   ],
   "source": [
    "string_set = set('SAQUIBUUU')  # we are typcasting a string to set\n",
    "print(string_set)"
   ]
  },
  {
   "cell_type": "code",
   "execution_count": 3,
   "metadata": {},
   "outputs": [
    {
     "name": "stdout",
     "output_type": "stream",
     "text": [
      "{'key2', 'key1', 'key3'}\n"
     ]
    }
   ],
   "source": [
    "dict_x = {'key1':'a', 'key2':'b', 'key3': 'c', 'key3': 'saquib'}  # we are typcasting a dictionary to set\n",
    "dict_set = set(dict_x) \n",
    "print(dict_set)"
   ]
  },
  {
   "cell_type": "markdown",
   "metadata": {},
   "source": [
    "> **Note:** \n",
    "> - The set method only takes iterables. Thats why it doesnt work with non-iterables like int float bool etc\n",
    ">\n",
    "> - You can see that the resulting sets are unordered: the original order, as specified in the definition, is not necessarily preserved.\n",
    ">\n",
    "> - Additionally, duplicate values are only represented in the set once, as with the string 'foo' in the first two examples and the letter 'u' in the third.\n",
    "\n",
    "\n",
    "> **Note:** The objects in curly braces are placed into the set intact, even if they are iterable. Observe the difference between these two set creation processes:"
   ]
  },
  {
   "cell_type": "code",
   "execution_count": 5,
   "metadata": {},
   "outputs": [
    {
     "name": "stdout",
     "output_type": "stream",
     "text": [
      "{'apple'}\n"
     ]
    }
   ],
   "source": [
    "a_set = {\"apple\"}\n",
    "print(a_set)"
   ]
  },
  {
   "cell_type": "code",
   "execution_count": 6,
   "metadata": {},
   "outputs": [
    {
     "name": "stdout",
     "output_type": "stream",
     "text": [
      "{'p', 'e', 'a', 'l'}\n"
     ]
    }
   ],
   "source": [
    "b_set = set('apple')\n",
    "print(b_set)"
   ]
  },
  {
   "cell_type": "markdown",
   "metadata": {},
   "source": [
    "### Empty Set\n",
    "A set can be empty. However, Python interprets empty curly braces ({}) as an empty dictionary, so the only way to define an empty set is with the set() function:"
   ]
  },
  {
   "cell_type": "code",
   "execution_count": 7,
   "metadata": {},
   "outputs": [
    {
     "name": "stdout",
     "output_type": "stream",
     "text": [
      "<class 'set'>\n",
      "set()\n"
     ]
    }
   ],
   "source": [
    "x = set()\n",
    "print(type(x))\n",
    "print(x)"
   ]
  },
  {
   "cell_type": "code",
   "execution_count": 4,
   "metadata": {},
   "outputs": [
    {
     "name": "stdout",
     "output_type": "stream",
     "text": [
      "<class 'dict'>\n"
     ]
    }
   ],
   "source": [
    "x = {} # Python will take this as an empty dictionary\n",
    "print(type(x))"
   ]
  },
  {
   "cell_type": "markdown",
   "metadata": {},
   "source": [
    "### Elements of different types\n",
    "The elements in a set do not have to be of the same datatype. We can store objects of different types (as long as they are immutable datatypes):"
   ]
  },
  {
   "cell_type": "code",
   "execution_count": 68,
   "metadata": {},
   "outputs": [
    {
     "name": "stdout",
     "output_type": "stream",
     "text": [
      "{3.14159, 42, 'foo', None}\n"
     ]
    }
   ],
   "source": [
    "x = {42, 'foo', 3.14159, None}\n",
    "print(x)"
   ]
  },
  {
   "cell_type": "markdown",
   "metadata": {},
   "source": [
    "### Elements must be immutable\n",
    "Don’t forget that set elements must be immutable. For example, a tuple may be included in a set:"
   ]
  },
  {
   "cell_type": "code",
   "execution_count": 69,
   "metadata": {},
   "outputs": [
    {
     "name": "stdout",
     "output_type": "stream",
     "text": [
      "{3.14159, 42, 'foo', (1, 2, 3)}\n"
     ]
    }
   ],
   "source": [
    "x = {42, 'foo', (1, 2, 3), 3.14159}\n",
    "print(x)"
   ]
  },
  {
   "cell_type": "markdown",
   "metadata": {},
   "source": [
    "But lists and dictionaries are mutable, so they can’t be set elements:"
   ]
  },
  {
   "cell_type": "code",
   "execution_count": 12,
   "metadata": {},
   "outputs": [
    {
     "name": "stdout",
     "output_type": "stream",
     "text": [
      "set()\n"
     ]
    }
   ],
   "source": [
    "# x = {42, 'foo', [1, 2, 3], 3.14159}  # will throw an error TypeError: unhashable type: 'list'\n",
    "print(x)"
   ]
  },
  {
   "cell_type": "code",
   "execution_count": 5,
   "metadata": {},
   "outputs": [
    {
     "name": "stdout",
     "output_type": "stream",
     "text": [
      "{}\n"
     ]
    }
   ],
   "source": [
    "our_dict = {'a': 1, 'b': 2}\n",
    "# x = {42, 'foo', our_dict, 3.14159}  # will throw an error TypeError: unhashable type: 'list'\n",
    "print(x) # returns 'set()' instead of '{}' as {} represents an empty dictionary"
   ]
  },
  {
   "cell_type": "code",
   "execution_count": null,
   "metadata": {},
   "outputs": [],
   "source": []
  },
  {
   "cell_type": "code",
   "execution_count": null,
   "metadata": {},
   "outputs": [],
   "source": []
  }
 ],
 "metadata": {
  "kernelspec": {
   "display_name": "Python 3",
   "language": "python",
   "name": "python3"
  },
  "language_info": {
   "codemirror_mode": {
    "name": "ipython",
    "version": 3
   },
   "file_extension": ".py",
   "mimetype": "text/x-python",
   "name": "python",
   "nbconvert_exporter": "python",
   "pygments_lexer": "ipython3",
   "version": "3.8.7"
  }
 },
 "nbformat": 4,
 "nbformat_minor": 4
}
