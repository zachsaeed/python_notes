{
 "cells": [
  {
   "cell_type": "markdown",
   "metadata": {},
   "source": [
    "# Available Set mathematical Operators and Methods\n",
    "\n",
    "Many of the operations that can be used for Python’s other composite data types don’t make sense for sets. \n",
    "\n",
    "For example, sets can’t be indexed or sliced. \n",
    "\n",
    "However, Python provides a whole host of operations on set objects that generally mimic the operations that are defined for mathematical sets.\n",
    "\n",
    "Below is a list of the set operations available in Python. Some are performed by operator, some by method, and some by both. They are:\n",
    "\n",
    "- x1.union(x2[, x3 ...]) or x1 | x2 [| x3 ...]\n",
    "- x1.intersection(x2[, x3 ...]) or x1 & x2 [& x3 ...]\n",
    "- x1.difference(x2[, x3 ...]) or x1 - x2 [- x3 ...]\n",
    "- x1.symmetric_difference(x2) or x1 ^ x2 [^ x3 ...]\n",
    "- x1.isdisjoint(x2)\n",
    "- x1.issubset(x2) or x1 <= x2\n",
    "- x1.issuperset(x2) or x1 >= x2\n",
    "- x1 > x2\n",
    "Will modify a set:\n",
    "- x1.update(x2[, x3 ...]) or x1 |= x2 [| x3 ...]\n",
    "- x1.intersection_update(x2[, x3 ...]) or x1 &= x2 [& x3 ...]\n",
    "- x1.difference_update(x2[, x3 ...]) or x1 -= x2 [| x3 ...]\n",
    "- x1.symmetric_difference_update(x2)  or x1 ^= x2\n",
    "\n",
    "##  x1.union(x2[, x3 ...]) or x1 | x2 [| x3 ...]\n",
    "\n",
    "Used to compute the union of two or more sets.\n",
    "\n",
    "<div>\n",
    "<img src=\"../assets/set_union.webp\" width=\"250\"/>\n",
    "</div>\n",
    "\n",
    "x1.union(x2) and x1 | x2 both return the set of all elements in either x1 or x2:"
   ]
  },
  {
   "cell_type": "code",
   "execution_count": 244,
   "metadata": {},
   "outputs": [
    {
     "name": "stdout",
     "output_type": "stream",
     "text": [
      "{'bar', 'foo', 'qux', 'baz', 'quux'}\n"
     ]
    }
   ],
   "source": [
    "x1 = {'foo', 'bar', 'baz'}\n",
    "x2 = {'baz', 'qux', 'quux'}\n",
    "\n",
    "print(x1.union(x2))"
   ]
  },
  {
   "cell_type": "code",
   "execution_count": 245,
   "metadata": {},
   "outputs": [
    {
     "name": "stdout",
     "output_type": "stream",
     "text": [
      "{'bar', 'foo', 'qux', 'baz', 'quux'}\n"
     ]
    }
   ],
   "source": [
    "print(x1 | x2)"
   ]
  },
  {
   "cell_type": "markdown",
   "metadata": {},
   "source": [
    "More than two sets may be specified with either the operator or the method:"
   ]
  },
  {
   "cell_type": "code",
   "execution_count": 292,
   "metadata": {},
   "outputs": [
    {
     "name": "stdout",
     "output_type": "stream",
     "text": [
      "{1, 2, 3, 4, 5, 6, 7}\n",
      "{1, 2, 3, 4}\n",
      "{2, 3, 4, 5}\n",
      "{3, 4, 5, 6}\n",
      "{4, 5, 6, 7}\n"
     ]
    }
   ],
   "source": [
    "a = {1, 2, 3, 4}\n",
    "b = {2, 3, 4, 5}\n",
    "c = {3, 4, 5, 6}\n",
    "d = {4, 5, 6, 7}\n",
    "\n",
    "print(a.union(b, c, d))"
   ]
  },
  {
   "cell_type": "code",
   "execution_count": 247,
   "metadata": {},
   "outputs": [
    {
     "name": "stdout",
     "output_type": "stream",
     "text": [
      "{1, 2, 3, 4, 5, 6, 7}\n"
     ]
    }
   ],
   "source": [
    "print(a | b | c | d)"
   ]
  },
  {
   "cell_type": "markdown",
   "metadata": {},
   "source": [
    "The resulting set contains all elements that are present in any of the specified sets.\n",
    "\n",
    "## x1.intersection(x2[, x3 ...]) or x1 & x2 [& x3 ...]\n",
    "\n",
    "Used to compute the intersection of two or more sets.\n",
    "\n",
    "<div>\n",
    "<img src=\"../assets/set_intersection.webp\" width=\"250\"/>\n",
    "</div>\n",
    "\n",
    "x1.intersection(x2) and x1 & x2 return the set of elements common to both x1 and x2:"
   ]
  },
  {
   "cell_type": "code",
   "execution_count": 294,
   "metadata": {},
   "outputs": [
    {
     "name": "stdout",
     "output_type": "stream",
     "text": [
      "{'baz', 1}\n"
     ]
    }
   ],
   "source": [
    "x1 = {'foo', 1, 'bar', 'baz'}\n",
    "x2 = {'baz', 'qux', 1, 'quux'}\n",
    "\n",
    "print(x1.intersection(x2))"
   ]
  },
  {
   "cell_type": "code",
   "execution_count": 295,
   "metadata": {},
   "outputs": [
    {
     "name": "stdout",
     "output_type": "stream",
     "text": [
      "{'baz', 1}\n"
     ]
    }
   ],
   "source": [
    "print(x1 & x2)"
   ]
  },
  {
   "cell_type": "markdown",
   "metadata": {},
   "source": [
    "You can specify multiple sets with the intersection method and operator, just like you can with set union:"
   ]
  },
  {
   "cell_type": "code",
   "execution_count": 250,
   "metadata": {},
   "outputs": [
    {
     "name": "stdout",
     "output_type": "stream",
     "text": [
      "{4}\n"
     ]
    }
   ],
   "source": [
    "a = {1, 2, 3, 4}\n",
    "b = {2, 3, 4, 5}\n",
    "c = {3, 4, 5, 6}\n",
    "d = {4, 5, 6, 7}\n",
    "\n",
    "print(a.intersection(b, c, d))"
   ]
  },
  {
   "cell_type": "code",
   "execution_count": 251,
   "metadata": {},
   "outputs": [
    {
     "name": "stdout",
     "output_type": "stream",
     "text": [
      "{4}\n"
     ]
    }
   ],
   "source": [
    "print(a & b & c & d)"
   ]
  },
  {
   "cell_type": "markdown",
   "metadata": {},
   "source": [
    "The resulting set contains only elements that are present in all of the specified sets.\n",
    "\n",
    "## x1.difference(x2[, x3 ...]) or x1 - x2 [- x3 ...]\n",
    "\n",
    "Used to compute the difference between two or more sets.\n",
    "\n",
    "<div>\n",
    "<img src=\"../assets/set_difference.webp\" width=\"250\"/>\n",
    "</div>\n",
    "\n",
    "x1.difference(x2) and x1 - x2 return the set of all elements that are in x1 but not in x2:"
   ]
  },
  {
   "cell_type": "code",
   "execution_count": 296,
   "metadata": {},
   "outputs": [
    {
     "name": "stdout",
     "output_type": "stream",
     "text": [
      "{'bar', 'foo'}\n",
      "{'quux', 'qux'}\n"
     ]
    }
   ],
   "source": [
    "x1 = {'foo', 'bar', 'baz'}\n",
    "x2 = {'baz', 'qux', 'quux'}\n",
    "\n",
    "print(x1.difference(x2))\n",
    "print(x2.difference(x1))"
   ]
  },
  {
   "cell_type": "code",
   "execution_count": 253,
   "metadata": {},
   "outputs": [
    {
     "name": "stdout",
     "output_type": "stream",
     "text": [
      "{'bar', 'foo'}\n"
     ]
    }
   ],
   "source": [
    "print(x1 - x2)"
   ]
  },
  {
   "cell_type": "markdown",
   "metadata": {},
   "source": [
    "Another way to think of this is that x1.difference(x2) and x1 - x2 return the set that results when any elements in x2 are removed or subtracted from x1.\n",
    "\n",
    "Once again, you can specify more than two sets:"
   ]
  },
  {
   "cell_type": "code",
   "execution_count": 254,
   "metadata": {},
   "outputs": [
    {
     "name": "stdout",
     "output_type": "stream",
     "text": [
      "{1, 2, 3}\n"
     ]
    }
   ],
   "source": [
    "a = {1, 2, 3, 30, 300}\n",
    "b = {10, 20, 30, 40}\n",
    "c = {100, 200, 300, 400}\n",
    "\n",
    "print(a.difference(b, c))"
   ]
  },
  {
   "cell_type": "code",
   "execution_count": 255,
   "metadata": {},
   "outputs": [
    {
     "name": "stdout",
     "output_type": "stream",
     "text": [
      "{1, 2, 3}\n"
     ]
    }
   ],
   "source": [
    "print(a - b - c)"
   ]
  },
  {
   "cell_type": "markdown",
   "metadata": {},
   "source": [
    "> **Note:** When multiple sets are specified, the operation is performed from left to right. In the example above, a - b is computed first, resulting in {1, 2, 3, 300}. Then c is \n",
    "> subtracted from that set, leaving {1, 2, 3}:\n",
    ">\n",
    "> <div>\n",
    "> <img src=\"../assets/set_difference_multiple.webp\" width=\"500\"/>\n",
    "> </div>\n",
    ">\n",
    "\n",
    "## x1.symmetric_difference(x2) or x1 ^ x2 [^ x3 ...]\n",
    "\n",
    "Used to compute the symmetric difference between sets.\n",
    "\n",
    "<div>\n",
    "<img src=\"../assets/set_symetric_difference.webp\" width=\"250\"/>\n",
    "</div>\n",
    "\n",
    "x1.symmetric_difference(x2) and x1 ^ x2 return the set of all elements in either x1 or x2, but not both:"
   ]
  },
  {
   "cell_type": "code",
   "execution_count": 256,
   "metadata": {},
   "outputs": [
    {
     "name": "stdout",
     "output_type": "stream",
     "text": [
      "{'bar', 'qux', 'foo', 'quux'}\n"
     ]
    }
   ],
   "source": [
    "x1 = {'foo', 'bar', 'baz'}\n",
    "x2 = {'baz', 'qux', 'quux'}\n",
    "\n",
    "print(x1.symmetric_difference(x2))"
   ]
  },
  {
   "cell_type": "code",
   "execution_count": 257,
   "metadata": {},
   "outputs": [
    {
     "name": "stdout",
     "output_type": "stream",
     "text": [
      "{'bar', 'qux', 'foo', 'quux'}\n"
     ]
    }
   ],
   "source": [
    "print(x1 ^ x2)"
   ]
  },
  {
   "cell_type": "markdown",
   "metadata": {},
   "source": [
    "The ^ operator also allows more than two sets:"
   ]
  },
  {
   "cell_type": "code",
   "execution_count": 297,
   "metadata": {},
   "outputs": [
    {
     "name": "stdout",
     "output_type": "stream",
     "text": [
      "{10, 100, 5}\n"
     ]
    }
   ],
   "source": [
    "a = {1, 2, 3, 4, 5}\n",
    "b = {10, 2, 3, 4, 50}\n",
    "c = {1, 50, 100}\n",
    "\n",
    "print(a ^ b ^ c)"
   ]
  },
  {
   "cell_type": "markdown",
   "metadata": {},
   "source": [
    "As with the difference operator, when multiple sets are specified, the operation is performed from left to right.\n",
    "\n",
    "> **Note:** Although the ^ operator allows multiple sets, the .symmetric_difference() method doesn’t and will throw an error:\n",
    "> TypeError: symmetric_difference() takes exactly one argument (2 given)\n",
    ">"
   ]
  },
  {
   "cell_type": "code",
   "execution_count": 300,
   "metadata": {},
   "outputs": [
    {
     "name": "stdout",
     "output_type": "stream",
     "text": [
      "{10, 100, 5}\n"
     ]
    }
   ],
   "source": [
    "# d= a.symmetric_difference(b,c)\n",
    "d= a.symmetric_difference(b)\n",
    "e = d.symmetric_difference(c)\n",
    "print(e)"
   ]
  },
  {
   "cell_type": "markdown",
   "metadata": {},
   "source": [
    "## x1.isdisjoint(x2)\n",
    "\n",
    "Determines whether or not two sets have any elements in common.\n",
    "\n",
    "x1.isdisjoint(x2) returns True if x1 and x2 have no elements in common:"
   ]
  },
  {
   "cell_type": "code",
   "execution_count": 307,
   "metadata": {},
   "outputs": [
    {
     "name": "stdout",
     "output_type": "stream",
     "text": [
      "False\n"
     ]
    }
   ],
   "source": [
    "x1 = {'foo', 'bar', 'baz'}\n",
    "x2 = {'baz', 'qux', 'quux'}\n",
    "\n",
    "print(x1.isdisjoint(x2))"
   ]
  },
  {
   "cell_type": "code",
   "execution_count": 261,
   "metadata": {},
   "outputs": [
    {
     "name": "stdout",
     "output_type": "stream",
     "text": [
      "{'quux', 'qux'}\n",
      "True\n"
     ]
    }
   ],
   "source": [
    "print(x2 - {'baz'})\n",
    "\n",
    "print(x1.isdisjoint(x2 - {'baz'}))"
   ]
  },
  {
   "cell_type": "markdown",
   "metadata": {},
   "source": [
    "If x1.isdisjoint(x2) is True, then x1 & x2 is the empty set:"
   ]
  },
  {
   "cell_type": "code",
   "execution_count": 262,
   "metadata": {},
   "outputs": [
    {
     "name": "stdout",
     "output_type": "stream",
     "text": [
      "True\n"
     ]
    }
   ],
   "source": [
    "x1 = {1, 3, 5}\n",
    "x2 = {2, 4, 6}\n",
    "\n",
    "print(x1.isdisjoint(x2))"
   ]
  },
  {
   "cell_type": "code",
   "execution_count": 263,
   "metadata": {},
   "outputs": [
    {
     "name": "stdout",
     "output_type": "stream",
     "text": [
      "set()\n"
     ]
    }
   ],
   "source": [
    "print(x1 & x2)"
   ]
  },
  {
   "cell_type": "markdown",
   "metadata": {},
   "source": [
    "> **Note:** There is no operator that corresponds to the .isdisjoint() method.\n",
    "\n",
    "## x1.issubset(x2) or x1 <= x2\n",
    "\n",
    "Determines whether one set is a subset of the other.\n",
    "\n",
    "In set theory, a set x1 is considered a subset of another set x2 if every element of x1 is in x2.\n",
    "\n",
    "x1.issubset(x2) and x1 <= x2 return True if x1 is a subset of x2:"
   ]
  },
  {
   "cell_type": "code",
   "execution_count": 309,
   "metadata": {},
   "outputs": [
    {
     "name": "stdout",
     "output_type": "stream",
     "text": [
      "True\n"
     ]
    }
   ],
   "source": [
    "x1 = {'foo', 'bar', 'baz'}\n",
    "x2 = {'foo', 'bar', 'baz', 'qux', 'quux'}\n",
    "print(x1.issubset(x2))"
   ]
  },
  {
   "cell_type": "code",
   "execution_count": 265,
   "metadata": {},
   "outputs": [
    {
     "name": "stdout",
     "output_type": "stream",
     "text": [
      "False\n"
     ]
    }
   ],
   "source": [
    "x2 = {'baz', 'qux', 'quux'}\n",
    "print(x1 <= x2)"
   ]
  },
  {
   "cell_type": "markdown",
   "metadata": {},
   "source": [
    "A set is considered to be a subset of itself:"
   ]
  },
  {
   "cell_type": "code",
   "execution_count": 266,
   "metadata": {},
   "outputs": [
    {
     "name": "stdout",
     "output_type": "stream",
     "text": [
      "True\n"
     ]
    }
   ],
   "source": [
    "x = {1, 2, 3, 4, 5}\n",
    "print(x.issubset(x))"
   ]
  },
  {
   "cell_type": "code",
   "execution_count": 267,
   "metadata": {},
   "outputs": [
    {
     "name": "stdout",
     "output_type": "stream",
     "text": [
      "True\n"
     ]
    }
   ],
   "source": [
    "print(x <= x)"
   ]
  },
  {
   "cell_type": "markdown",
   "metadata": {},
   "source": [
    "> Because, it fits the definition: every element of x is in x.\n",
    "\n",
    "## x1 < x2\n",
    "\n",
    "Determines whether one set is a proper subset of the other.\n",
    "\n",
    "A proper subset is the same as a subset, except that the sets can’t be identical. A set x1 is considered a proper subset of another set x2 if every element of x1 is in x2, and x1 and x2 are not equal.\n",
    "\n",
    "x1 < x2 returns True if x1 is a proper subset of x2:"
   ]
  },
  {
   "cell_type": "code",
   "execution_count": 268,
   "metadata": {},
   "outputs": [
    {
     "name": "stdout",
     "output_type": "stream",
     "text": [
      "True\n"
     ]
    }
   ],
   "source": [
    "x1 = {'foo', 'bar'}\n",
    "x2 = {'foo', 'bar', 'baz'}\n",
    "print(x1 < x2)"
   ]
  },
  {
   "cell_type": "code",
   "execution_count": 269,
   "metadata": {},
   "outputs": [
    {
     "name": "stdout",
     "output_type": "stream",
     "text": [
      "False\n"
     ]
    }
   ],
   "source": [
    "x1 = {'foo', 'bar', 'baz'}\n",
    "x2 = {'foo', 'bar', 'baz'}\n",
    "print(x1 < x2)"
   ]
  },
  {
   "cell_type": "markdown",
   "metadata": {},
   "source": [
    "While a set is considered a subset of itself, it is not a proper subset of itself:"
   ]
  },
  {
   "cell_type": "code",
   "execution_count": 270,
   "metadata": {},
   "outputs": [
    {
     "name": "stdout",
     "output_type": "stream",
     "text": [
      "True\n"
     ]
    }
   ],
   "source": [
    "x = {1, 2, 3, 4, 5}\n",
    "print(x <= x)"
   ]
  },
  {
   "cell_type": "code",
   "execution_count": 271,
   "metadata": {},
   "outputs": [
    {
     "name": "stdout",
     "output_type": "stream",
     "text": [
      "False\n"
     ]
    }
   ],
   "source": [
    "print(x < x)"
   ]
  },
  {
   "cell_type": "markdown",
   "metadata": {},
   "source": [
    "> **Note:** The < operator is the only way to test whether a set is a proper subset. There is no corresponding method.\n",
    "\n",
    "## x1.issuperset(x2) or x1 >= x2\n",
    "\n",
    "Determines whether one set is a superset of the other.\n",
    "\n",
    "A superset is the reverse of a subset. A set x1 is considered a superset of another set x2 if x1 contains every element of x2.\n",
    "\n",
    "x1.issuperset(x2) and x1 >= x2 return True if x1 is a superset of x2:"
   ]
  },
  {
   "cell_type": "code",
   "execution_count": 310,
   "metadata": {},
   "outputs": [
    {
     "name": "stdout",
     "output_type": "stream",
     "text": [
      "True\n"
     ]
    }
   ],
   "source": [
    "x1 = {'foo', 'bar', 'baz'}\n",
    "x2 = {'foo', 'bar'}\n",
    "print(x1.issuperset(x2))"
   ]
  },
  {
   "cell_type": "code",
   "execution_count": 273,
   "metadata": {},
   "outputs": [
    {
     "name": "stdout",
     "output_type": "stream",
     "text": [
      "False\n"
     ]
    }
   ],
   "source": [
    "x2 = {'baz', 'qux', 'quux'}\n",
    "print(x1 >= x2)"
   ]
  },
  {
   "cell_type": "markdown",
   "metadata": {},
   "source": [
    "You have already seen that a set is considered a subset of itself. A set is also considered a superset of itself:"
   ]
  },
  {
   "cell_type": "code",
   "execution_count": 274,
   "metadata": {},
   "outputs": [
    {
     "name": "stdout",
     "output_type": "stream",
     "text": [
      "True\n"
     ]
    }
   ],
   "source": [
    "x = {1, 2, 3, 4, 5}\n",
    "print(x.issuperset(x))"
   ]
  },
  {
   "cell_type": "code",
   "execution_count": 275,
   "metadata": {},
   "outputs": [
    {
     "name": "stdout",
     "output_type": "stream",
     "text": [
      "True\n"
     ]
    }
   ],
   "source": [
    "print(x >= x)"
   ]
  },
  {
   "cell_type": "markdown",
   "metadata": {},
   "source": [
    "## x1 > x2\n",
    "\n",
    "Determines whether one set is a proper superset of the other.\n",
    "\n",
    "A proper superset is the same as a superset, except that the sets can’t be identical. A set x1 is considered a proper superset of another set x2 if x1 contains every element of x2, and x1 and x2 are not equal.\n",
    "\n",
    "x1 > x2 returns True if x1 is a proper superset of x2:"
   ]
  },
  {
   "cell_type": "code",
   "execution_count": 276,
   "metadata": {},
   "outputs": [
    {
     "name": "stdout",
     "output_type": "stream",
     "text": [
      "True\n"
     ]
    }
   ],
   "source": [
    "x1 = {'foo', 'bar', 'baz'}\n",
    "x2 = {'foo', 'bar'}\n",
    "print(x1 > x2)"
   ]
  },
  {
   "cell_type": "code",
   "execution_count": 311,
   "metadata": {},
   "outputs": [
    {
     "name": "stdout",
     "output_type": "stream",
     "text": [
      "True\n"
     ]
    }
   ],
   "source": [
    "x1 = {'foo', 'bar', 'baz'}\n",
    "x2 = {'foo', 'bar', 'baz'}\n",
    "print(x1 > x2)"
   ]
  },
  {
   "cell_type": "markdown",
   "metadata": {},
   "source": [
    "A set is not a proper superset of itself:"
   ]
  },
  {
   "cell_type": "code",
   "execution_count": 278,
   "metadata": {},
   "outputs": [
    {
     "name": "stdout",
     "output_type": "stream",
     "text": [
      "False\n"
     ]
    }
   ],
   "source": [
    "x = {1, 2, 3, 4, 5}\n",
    "print(x > x)"
   ]
  },
  {
   "cell_type": "markdown",
   "metadata": {},
   "source": [
    "> **Note:** The > operator is the only way to test whether a set is a proper superset. There is no corresponding method.\n",
    "\n",
    "# Modifying a Set\n",
    "Although the elements contained in a set must be of immutable type, sets themselves can be modified. Like the operations above, there are a mix of operators and methods that can be used to change the contents of a set.\n",
    "\n",
    "## Augmented Assignment Operators and Methods\n",
    "Each of the union, intersection, difference, and symmetric difference operators listed above has an augmented assignment form that can be used to modify a set. For each, there is a corresponding method as well.\n",
    "\n",
    "## Modify a set by union\n",
    "## x1.update(x2[, x3 ...]) or x1 |= x2 [| x3 ...]\n",
    "\n",
    "x1.update(x2) and x1 |= x2 add to x1 any elements in x2 that x1 does not already have:"
   ]
  },
  {
   "cell_type": "code",
   "execution_count": 321,
   "metadata": {},
   "outputs": [
    {
     "name": "stdout",
     "output_type": "stream",
     "text": [
      "{'bar', 'garply2', 'foo', 'baz', 'garply', 'corge2', 'corge'}\n"
     ]
    }
   ],
   "source": [
    "x1 = {'foo', 'bar', 'baz'}\n",
    "x1.update({'corge', 'garply'}, {'corge2', 'garply2'})\n",
    "print(x1)"
   ]
  },
  {
   "cell_type": "code",
   "execution_count": 320,
   "metadata": {},
   "outputs": [
    {
     "name": "stdout",
     "output_type": "stream",
     "text": [
      "{'bar', 'foo', 'qux', 'baz', 'garply', 'corge'}\n"
     ]
    }
   ],
   "source": [
    "x2 = {'foo', 'baz', 'qux'}\n",
    "x1 |= x2\n",
    "print(x1)"
   ]
  },
  {
   "cell_type": "markdown",
   "metadata": {},
   "source": [
    "## Modify a set by intersection.\n",
    "## x1.intersection_update(x2[, x3 ...]) or x1 &= x2 [& x3 ...]\n",
    "\n",
    "x1.intersection_update(x2) and x1 &= x2 update x1, retaining only elements found in both x1 and x2:"
   ]
  },
  {
   "cell_type": "code",
   "execution_count": 281,
   "metadata": {},
   "outputs": [
    {
     "name": "stdout",
     "output_type": "stream",
     "text": [
      "{'baz', 'foo'}\n"
     ]
    }
   ],
   "source": [
    "x1 = {'foo', 'bar', 'baz'}\n",
    "x2 = {'foo', 'baz', 'qux'}\n",
    "x1 &= x2\n",
    "print(x1)"
   ]
  },
  {
   "cell_type": "code",
   "execution_count": 282,
   "metadata": {},
   "outputs": [
    {
     "name": "stdout",
     "output_type": "stream",
     "text": [
      "{'baz'}\n"
     ]
    }
   ],
   "source": [
    "x1.intersection_update(['baz', 'qux'])\n",
    "print(x1)"
   ]
  },
  {
   "cell_type": "markdown",
   "metadata": {},
   "source": [
    "## Modify a set by difference.\n",
    "## x1.difference_update(x2[, x3 ...]) or x1 -= x2 [| x3 ...]\n",
    "\n",
    "x1.difference_update(x2) and x1 -= x2 update x1, removing elements found in x2:"
   ]
  },
  {
   "cell_type": "code",
   "execution_count": 283,
   "metadata": {},
   "outputs": [
    {
     "name": "stdout",
     "output_type": "stream",
     "text": [
      "{'bar'}\n"
     ]
    }
   ],
   "source": [
    "x1 = {'foo', 'bar', 'baz'}\n",
    "x2 = {'foo', 'baz', 'qux'}\n",
    "x1 -= x2\n",
    "print(x1)"
   ]
  },
  {
   "cell_type": "code",
   "execution_count": 284,
   "metadata": {},
   "outputs": [
    {
     "name": "stdout",
     "output_type": "stream",
     "text": [
      "set()\n"
     ]
    }
   ],
   "source": [
    "x1.difference_update(['foo', 'bar', 'qux'])\n",
    "print(x1)"
   ]
  },
  {
   "cell_type": "markdown",
   "metadata": {},
   "source": [
    "## Modify a set by symmetric difference.\n",
    "## x1.symmetric_difference_update(x2) or x1 ^= x2\n",
    "\n",
    "x1.symmetric_difference_update(x2) and x1 ^= x2 update x1, retaining elements found in either x1 or x2, but not both:"
   ]
  },
  {
   "cell_type": "code",
   "execution_count": 285,
   "metadata": {},
   "outputs": [
    {
     "name": "stdout",
     "output_type": "stream",
     "text": [
      "{'bar', 'qux'}\n"
     ]
    }
   ],
   "source": [
    "x1 = {'foo', 'bar', 'baz'}\n",
    "x2 = {'foo', 'baz', 'qux'}\n",
    "x1 ^= x2\n",
    "print(x1)"
   ]
  },
  {
   "cell_type": "code",
   "execution_count": 286,
   "metadata": {},
   "outputs": [
    {
     "name": "stdout",
     "output_type": "stream",
     "text": [
      "{'bar', 'corge'}\n"
     ]
    }
   ],
   "source": [
    "x1.symmetric_difference_update(['qux', 'corge'])\n",
    "print(x1)"
   ]
  },
  {
   "cell_type": "markdown",
   "metadata": {},
   "source": [
    "# Operators vs Methods\n",
    "\n",
    "As we have seen, set operations (though not quite all) in Python can be performed in two different ways: \n",
    "    by operator or by method. \n",
    "    \n",
    "Let’s take a look at how these operators and methods work, using set union as an example.\n",
    "\n",
    "Given two sets, x1 and x2, the union of x1 and x2 is a set consisting of all elements in either set.\n",
    "Consider these two sets:"
   ]
  },
  {
   "cell_type": "code",
   "execution_count": 287,
   "metadata": {},
   "outputs": [],
   "source": [
    "x1 = {'foo', 'bar', 'baz'}\n",
    "x2 = {'baz', 'qux', 'quux'}"
   ]
  },
  {
   "cell_type": "markdown",
   "metadata": {},
   "source": [
    "The union of x1 and x2 is {'foo', 'bar', 'baz', 'qux', 'quux'}.\n",
    "\n",
    "> **Note:** Notice that the element 'baz', which appears in both x1 and x2, appears only once in the union. Sets never contain duplicate values.\n",
    "\n",
    "In Python, set union can be performed with the | operator:"
   ]
  },
  {
   "cell_type": "code",
   "execution_count": 288,
   "metadata": {},
   "outputs": [
    {
     "name": "stdout",
     "output_type": "stream",
     "text": [
      "{'bar', 'foo', 'qux', 'baz', 'quux'}\n"
     ]
    }
   ],
   "source": [
    "x1 = {'foo', 'bar', 'baz'}\n",
    "x2 = {'baz', 'qux', 'quux'}\n",
    "print(x1 | x2)"
   ]
  },
  {
   "cell_type": "markdown",
   "metadata": {},
   "source": [
    "Set union can also be obtained with the .union() method. The method is invoked on one of the sets, and the other is passed as an argument:"
   ]
  },
  {
   "cell_type": "code",
   "execution_count": 289,
   "metadata": {},
   "outputs": [
    {
     "name": "stdout",
     "output_type": "stream",
     "text": [
      "{'bar', 'foo', 'qux', 'baz', 'quux'}\n"
     ]
    }
   ],
   "source": [
    "print(x1.union(x2))"
   ]
  },
  {
   "cell_type": "markdown",
   "metadata": {},
   "source": [
    ">\n",
    "> **Note:**  The way they are used in the examples above, the operator and method behave identically. But there is a subtle difference between them. \n",
    ">\n",
    "> - When you use the | operator, both operands must be sets. \n",
    "> - The .union() method, on the other hand, will take any iterable as an argument, convert it to a set, and then perform the union.\n",
    "\n",
    "Observe the difference between these two statements when we pass a tuple:"
   ]
  },
  {
   "cell_type": "code",
   "execution_count": 315,
   "metadata": {},
   "outputs": [
    {
     "name": "stdout",
     "output_type": "stream",
     "text": [
      "{'bar', 'qux', 'baz', 'foo', 'quux'}\n"
     ]
    }
   ],
   "source": [
    "print(x1.union(('baz', 'qux', 'quux')))"
   ]
  },
  {
   "cell_type": "code",
   "execution_count": 312,
   "metadata": {},
   "outputs": [
    {
     "ename": "TypeError",
     "evalue": "unsupported operand type(s) for |: 'set' and 'tuple'",
     "output_type": "error",
     "traceback": [
      "\u001b[1;31m---------------------------------------------------------------------------\u001b[0m",
      "\u001b[1;31mTypeError\u001b[0m                                 Traceback (most recent call last)",
      "\u001b[1;32m<ipython-input-312-6a8d58404fe2>\u001b[0m in \u001b[0;36m<module>\u001b[1;34m\u001b[0m\n\u001b[1;32m----> 1\u001b[1;33m \u001b[0mprint\u001b[0m\u001b[1;33m(\u001b[0m\u001b[0mx1\u001b[0m \u001b[1;33m|\u001b[0m \u001b[1;33m(\u001b[0m\u001b[1;34m'baz'\u001b[0m\u001b[1;33m,\u001b[0m \u001b[1;34m'qux'\u001b[0m\u001b[1;33m,\u001b[0m \u001b[1;34m'quux'\u001b[0m\u001b[1;33m)\u001b[0m\u001b[1;33m)\u001b[0m \u001b[1;31m# will throw an error: TypeError: unsupported operand type(s) for |: 'set' and 'tuple'\u001b[0m\u001b[1;33m\u001b[0m\u001b[1;33m\u001b[0m\u001b[0m\n\u001b[0m",
      "\u001b[1;31mTypeError\u001b[0m: unsupported operand type(s) for |: 'set' and 'tuple'"
     ]
    }
   ],
   "source": [
    "# print(x1 | ('baz', 'qux', 'quux')) # will throw an error: TypeError: unsupported operand type(s) for |: 'set' and 'tuple'"
   ]
  },
  {
   "cell_type": "markdown",
   "metadata": {},
   "source": [
    "Both attempt to compute the union of x1 and the tuple ('baz', 'qux', 'quux'). This fails with the | operator but succeeds with the .union() method."
   ]
  }
 ],
 "metadata": {
  "kernelspec": {
   "display_name": "Python 3",
   "language": "python",
   "name": "python3"
  },
  "language_info": {
   "codemirror_mode": {
    "name": "ipython",
    "version": 3
   },
   "file_extension": ".py",
   "mimetype": "text/x-python",
   "name": "python",
   "nbconvert_exporter": "python",
   "pygments_lexer": "ipython3",
   "version": "3.8.7"
  }
 },
 "nbformat": 4,
 "nbformat_minor": 4
}
