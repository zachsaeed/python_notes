{
 "cells": [
  {
   "cell_type": "markdown",
   "metadata": {},
   "source": [
    "Python if else and elif are keywords for conditional logic in the program.\n",
    "\n",
    "# Python if else – conditional logic\n",
    "Well, so far we dealt with a static decision program. That means in our program we didn’t have to choose between any options. But what if we have to make our program behave differently in different conditions. That’s where we will use conditional logic. So conditional logic is how we can make a logical decision in a program.\n",
    "\n",
    "To implement conditional logic, Python’s keywords are if, else and elif.\n",
    "\n",
    "## if\n",
    "Suppose we want to write a program, that will determine whether a number is odd or even. If the number is odd, we want to print – “the number is odd” and if the number is even we want to print – “the number is even”. We can write this program using if keyword."
   ]
  },
  {
   "cell_type": "code",
   "execution_count": 1,
   "metadata": {},
   "outputs": [
    {
     "name": "stdout",
     "output_type": "stream",
     "text": [
      "the number is odd\n"
     ]
    }
   ],
   "source": [
    "n= 1245 # A number we want to check\n",
    "\n",
    "# check if n is odd or even\n",
    "#  logic for odd/even is-\n",
    "#   if we divide an even number by 2, the remainder will be zero\n",
    "#   if we divide an odd number by 2, the remainder will be one\n",
    "\n",
    "# we can perform this logic with modulus operator (%)\n",
    "if n%2==0: # (n%2) is the remainder.Check if it's zero\n",
    "    print(\"the number is even\")\n",
    "if n%2==1: # Check the remainder is one\n",
    "    print(\"the number is odd\")"
   ]
  },
  {
   "cell_type": "markdown",
   "metadata": {},
   "source": [
    "## else\n",
    "\n",
    "Well, in the above scenario, the condition we have put, n%2, which has only two possible outcome. Either it’s zero or one. So here we can use else for the second condition. In that case we don’t have to write the second condition manually. We can write the first condition using an if and use else for other case."
   ]
  },
  {
   "cell_type": "code",
   "execution_count": 2,
   "metadata": {},
   "outputs": [
    {
     "name": "stdout",
     "output_type": "stream",
     "text": [
      "the number is odd\n"
     ]
    }
   ],
   "source": [
    "n= 1245 # A number we want to check\n",
    "\n",
    "# check if n is odd or even\n",
    "#  logic for odd/even is-\n",
    "#   if we divide an even number by 2, the remainder will be zero\n",
    "#   else the remainder will be one\n",
    "\n",
    "# we can perform this logic with modulus operator (%)\n",
    "if n%2==0: #(n%2) is the remainder.Check if it's zero\n",
    "    print(\"the number is even\")\n",
    "else:       #this will consider every other case without the above-mentioned condition in if\n",
    "    print(\"the number is odd\")"
   ]
  },
  {
   "cell_type": "markdown",
   "metadata": {},
   "source": [
    "## elif\n",
    "What if we have to write a program that will have to handle three or more conditions. Suppose, you have to take a ransom number and consider these three cases.\n",
    "\n",
    "1. If the number is between 1 to 10 – print “too low”\n",
    "2. If the number is between 11 to 20 – print “medium”\n",
    "3. If the number is between 21 to 30 – print “large”\n",
    "4. If the number is greater than 30 – print “too large”\n",
    "\n",
    "So, in this scenario, we have to use if for the first condition and else for the last condition. That much we know till now. So what about the other two? We will use elif to specify the other condition just like if."
   ]
  },
  {
   "cell_type": "code",
   "execution_count": 3,
   "metadata": {},
   "outputs": [
    {
     "name": "stdout",
     "output_type": "stream",
     "text": [
      "large\n"
     ]
    }
   ],
   "source": [
    "n=22 #take a input from user\n",
    "\n",
    "#Check If the number is between 1 to 10\n",
    "if n>=1 and n<=10:\n",
    "    print(\"too low\");\n",
    "\n",
    "#Check If the number is between 11 to 20\n",
    "elif n>=11 and n<=20:\n",
    "    print(\"medium\");   \n",
    "\n",
    "#Check If the number is between 21 to 30\n",
    "elif n>=21 and n<=30:\n",
    "    print(\"large\");\n",
    "\n",
    "#Check if the number is greater than 30 \n",
    "else:\n",
    "    print(\"too large\")"
   ]
  },
  {
   "cell_type": "markdown",
   "metadata": {},
   "source": [
    "# If ternary operator (or Conditional Expressions)\n",
    "In its simplest form, the syntax of the conditional expression is as follows:\n",
    "\n",
    "```<expr1> if <conditional_expr> else <expr2>```\n",
    "\n",
    "As we have already seen, if you have only one statement to execute, you can put it on the same line as the if statement."
   ]
  },
  {
   "cell_type": "code",
   "execution_count": 5,
   "metadata": {},
   "outputs": [
    {
     "name": "stdout",
     "output_type": "stream",
     "text": [
      "a is greater than b\n"
     ]
    }
   ],
   "source": [
    "# One line if statement:\n",
    "a=50\n",
    "b=2\n",
    "if a > b: print(\"a is greater than b\")"
   ]
  },
  {
   "cell_type": "markdown",
   "metadata": {},
   "source": [
    "If you have only one statement to execute, one for if, and one for else, you can put it all on the same line:"
   ]
  },
  {
   "cell_type": "code",
   "execution_count": null,
   "metadata": {},
   "outputs": [],
   "source": [
    "# One line if else statement:\n",
    "a = 2\n",
    "b = 330\n",
    "print(\"A\") if a > b else print(\"B\")"
   ]
  },
  {
   "cell_type": "markdown",
   "metadata": {},
   "source": [
    "You can also have multiple else statements on the same line:"
   ]
  },
  {
   "cell_type": "code",
   "execution_count": null,
   "metadata": {},
   "outputs": [],
   "source": [
    "# One line if else statement, with 3 conditions:\n",
    "a = 330\n",
    "b = 330\n",
    "print(\"A\") if a > b else print(\"=\") if a == b else print(\"B\")"
   ]
  }
 ],
 "metadata": {
  "kernelspec": {
   "display_name": "Python 3",
   "language": "python",
   "name": "python3"
  },
  "language_info": {
   "codemirror_mode": {
    "name": "ipython",
    "version": 3
   },
   "file_extension": ".py",
   "mimetype": "text/x-python",
   "name": "python",
   "nbconvert_exporter": "python",
   "pygments_lexer": "ipython3",
   "version": "3.8.7"
  }
 },
 "nbformat": 4,
 "nbformat_minor": 4
}
