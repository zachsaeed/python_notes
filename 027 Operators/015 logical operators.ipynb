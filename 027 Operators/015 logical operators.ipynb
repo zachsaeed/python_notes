{
 "cells": [
  {
   "cell_type": "markdown",
   "metadata": {},
   "source": [
    "## Python Logical Operators\n",
    "\n",
    "Logical operators are used to combine conditional statements.\n",
    "Logical operators always operate on boolean values. If a value is non boolean type then it will be evaluated as a boolean value (converted to bool())\n",
    "\n",
    "\n",
    "| Operator | Description | Example |\n",
    "|----------|-------------|---------|\n",
    "| and | Logical AND Operator. True if both x and y are True. False otherwise <br> This is a short-circuit operator, so it only evaluates the second argument if the first one is true. | a and b |\n",
    "| or | Logical OR Operator. True if either x or y or both are True. False otherwise. <br>This is a short-circuit operator, so it only evaluates the second argument if the first one is false. | a or b |\n",
    "| not (unary) | Logical NOT Operator. True if a is False. False if a is True. (Logically reverses the sense of a)<br> not has a lower priority than non-Boolean operators, so not a == b is interpreted as not (a == b), and a == not b is a syntax error. | not(a) |\n"
   ]
  },
  {
   "cell_type": "code",
   "execution_count": null,
   "metadata": {},
   "outputs": [],
   "source": [
    "a = 3\n",
    "b = 2\n",
    "c = 4\n",
    "\n",
    "# <bool> and <bool>\n",
    "print(a==b and b == c)\n",
    "# and = only true when both are true\n",
    "\n",
    "print(a==b or b == c)\n",
    "# or"
   ]
  },
  {
   "cell_type": "code",
   "execution_count": null,
   "metadata": {},
   "outputs": [],
   "source": [
    "#take user input as int\n",
    "a = 45\n",
    "\n",
    "# logical AND operation\n",
    "\n",
    "if a%4==0 and a%3==0:\n",
    "    print(\"divided by both 4 and 3\")"
   ]
  },
  {
   "cell_type": "code",
   "execution_count": null,
   "metadata": {},
   "outputs": [],
   "source": [
    "# logical OR operation\n",
    "if a%4==0 or a%3==0:\n",
    "    print(\"either divided by 4 or 3\")"
   ]
  },
  {
   "cell_type": "code",
   "execution_count": null,
   "metadata": {},
   "outputs": [],
   "source": [
    "# logical NOT operation\n",
    "if not (a%4==0 or a%3==0):\n",
    "    print(\"neither divided by 4 nor 3\")"
   ]
  },
  {
   "cell_type": "markdown",
   "metadata": {},
   "source": [
    "### Truth Value Testing (Non boolean values)\n",
    "Any object can be tested for truth value, for use in an if or while condition or as operand of the Boolean operations, 'and', 'or' and 'not'.\n",
    "\n",
    "Here are most of the built-in objects considered false:\n",
    "* constants defined to be false: None and False.\n",
    "* zero of any numeric type: 0, 0.0, 0j, Decimal(0), Fraction(0, 1)\n",
    "* empty sequences and collections: '', (), [], {}, set(), range(0)\n",
    "\n",
    "#### custom objects:\n",
    "By default, an object is considered 'True' unless \n",
    "    * its class defines either a __bool__() method that returns False \n",
    "    * or a __len__() method that returns zero, when called with the object.\n",
    "\n",
    "> **Note:** Operations and built-in functions that have a Boolean result always return '0' or 'False' for false and '1' or 'True' for true, unless otherwise stated. (Important exception: the Boolean operations 'or' and 'and' always return one of their operands.)\n",
    "\n"
   ]
  },
  {
   "cell_type": "code",
   "execution_count": null,
   "metadata": {},
   "outputs": [],
   "source": []
  }
 ],
 "metadata": {
  "kernelspec": {
   "display_name": "Python 3",
   "language": "python",
   "name": "python3"
  },
  "language_info": {
   "codemirror_mode": {
    "name": "ipython",
    "version": 3
   },
   "file_extension": ".py",
   "mimetype": "text/x-python",
   "name": "python",
   "nbconvert_exporter": "python",
   "pygments_lexer": "ipython3",
   "version": "3.8.7"
  }
 },
 "nbformat": 4,
 "nbformat_minor": 4
}
