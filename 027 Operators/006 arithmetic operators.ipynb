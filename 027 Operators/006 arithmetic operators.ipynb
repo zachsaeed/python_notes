{
 "cells": [
  {
   "cell_type": "markdown",
   "metadata": {},
   "source": [
    "## Python Arithmetic Operators\n",
    "\n",
    "Arithmetic operators are used with numeric values to perform common mathematical operations\n",
    "\n",
    "> **Note:** they can also be used by non-numerical values like strings, lists, dictionaries etc to perform concatenation\n",
    "\n",
    "| Operator | Description | Example |\n",
    "|----------|-------------|---------|\n",
    "| +(unary) | Represents a +ve value. It doesn’t really do anything. It mostly exists for the sake of completeness, to complement Unary Negation.| a<br>+a |\n",
    "| +(binary) | used to add two numbers | sum = a + b |\n",
    "| -(unary) | Represents a -ve value | -a |\n",
    "| –(binary) | used for subtraction | difference = a – b |\n",
    "| \\* | used to multiply two numbers. If a string and int is multiplied then the string is repeated the int times. | mul = a\\*b<br> >>> “Hi”\\*5<br> ‘HiHiHiHiHi’ |\n",
    "| / | used to divide two numbersThe result of standard division (/) is always a float, even if the dividend is evenly divisible by the divisor | div = b/a |\n",
    "| // | integer division. Same as / but the result is floored ie rounds it down. When the result of floor division (//) is positive, it is as though the fractional portion is truncated off, leaving only the integer portion. When the result is negative, the result is rounded down to the next smallest (greater negative) integer | intdiv = a//b |\n",
    "| % | modulus operator, returns the remainder of division | mod = a%b |\n",
    "| \\*\\* | exponent operator | exp = a\\*\\*b |\n"
   ]
  },
  {
   "cell_type": "code",
   "execution_count": 2,
   "metadata": {},
   "outputs": [
    {
     "name": "stdout",
     "output_type": "stream",
     "text": [
      "300\n"
     ]
    }
   ],
   "source": [
    "#create two variables\n",
    "a=100\n",
    "b=200\n",
    "\n",
    "# addition (+) operator\n",
    "print(a+b) "
   ]
  },
  {
   "cell_type": "code",
   "execution_count": 3,
   "metadata": {},
   "outputs": [
    {
     "name": "stdout",
     "output_type": "stream",
     "text": [
      "-100\n"
     ]
    }
   ],
   "source": [
    "# subtraction (-) operator\n",
    "print(a-b) "
   ]
  },
  {
   "cell_type": "code",
   "execution_count": 4,
   "metadata": {},
   "outputs": [
    {
     "name": "stdout",
     "output_type": "stream",
     "text": [
      "20000\n"
     ]
    }
   ],
   "source": [
    "# multiplication (*) operator\n",
    "print(a*b)"
   ]
  },
  {
   "cell_type": "code",
   "execution_count": 5,
   "metadata": {},
   "outputs": [
    {
     "name": "stdout",
     "output_type": "stream",
     "text": [
      "2.0\n"
     ]
    }
   ],
   "source": [
    "# division (/) operator\n",
    "print(b/a)"
   ]
  },
  {
   "cell_type": "markdown",
   "metadata": {},
   "source": [
    "> **Note:** The result of standard division (/) is always a float, even if the dividend is evenly divisible by the divisor"
   ]
  },
  {
   "cell_type": "code",
   "execution_count": 6,
   "metadata": {},
   "outputs": [
    {
     "name": "stdout",
     "output_type": "stream",
     "text": [
      "2.5\n",
      "2\n",
      "-3\n",
      "-3\n",
      "2\n"
     ]
    }
   ],
   "source": [
    "# Integer division (//) operator.\n",
    "print(10 / 4)  # 2.5 gives us float\n",
    "print(10 // 4)  # 2 gives us int\n",
    "print(10 // -4)  # -3 -ve result. therefore rounded down to the next smallest (greater negative) integer\n",
    "print(-10 // 4)  # -3 -ve result. therefore rounded down to the next smallest (greater negative) integer\n",
    "print(-10 // -4)  # 2"
   ]
  },
  {
   "cell_type": "markdown",
   "metadata": {},
   "source": [
    "> **Note:** When the result of floor division (//) is positive, it is as though the fractional portion is truncated off, leaving only the integer portion. When the result is negative, the result is rounded down to the next smallest (greater negative) integer:"
   ]
  },
  {
   "cell_type": "code",
   "execution_count": 7,
   "metadata": {},
   "outputs": [
    {
     "name": "stdout",
     "output_type": "stream",
     "text": [
      "100\n"
     ]
    }
   ],
   "source": [
    "# modulus (%) operator\n",
    "print(a%b) # prints the remainder of a/b"
   ]
  },
  {
   "cell_type": "code",
   "execution_count": 8,
   "metadata": {},
   "outputs": [
    {
     "name": "stdout",
     "output_type": "stream",
     "text": [
      "10000000000000000000000000000000000000000000000000000000000000000000000000000000000000000000000000000000000000000000000000000000000000000000000000000000000000000000000000000000000000000000000000000000000000000000000000000000000000000000000000000000000000000000000000000000000000000000000000000000000000000000000000000000000000000000000000000000000000000000000000000000000000000000000000000000000000000\n"
     ]
    }
   ],
   "source": [
    "# exponent (**) operator\n",
    "print(a**b) #prints a^b"
   ]
  }
 ],
 "metadata": {
  "kernelspec": {
   "display_name": "Python 3",
   "language": "python",
   "name": "python3"
  },
  "language_info": {
   "codemirror_mode": {
    "name": "ipython",
    "version": 3
   },
   "file_extension": ".py",
   "mimetype": "text/x-python",
   "name": "python",
   "nbconvert_exporter": "python",
   "pygments_lexer": "ipython3",
   "version": "3.8.7"
  }
 },
 "nbformat": 4,
 "nbformat_minor": 4
}
