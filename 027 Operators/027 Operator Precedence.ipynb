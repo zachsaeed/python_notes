{
 "cells": [
  {
   "cell_type": "markdown",
   "metadata": {},
   "source": [
    "## Python Operator Precedence\n",
    "\n",
    "Precedence of python operators means the priority level of operators. This becomes vital when an expression has \n",
    "multiple operators in it. For example consider the following expression:"
   ]
  },
  {
   "cell_type": "code",
   "execution_count": null,
   "metadata": {},
   "outputs": [],
   "source": [
    "print(2+3*4and5/-21*20)  "
   ]
  },
  {
   "cell_type": "markdown",
   "metadata": {},
   "source": [
    "Now, what do you think the series of operation would be? We can add 2 and 3, then multiply the result by 4. \n",
    "Also, we can multiply 3 and 4 first, then add 2 with it. Here we can see that the operators’ precedence is \n",
    "important.\n",
    "\n",
    "Below is a list of operators indicating the precedence level. It’s in descending order. That means the upper \n",
    "group has more precedence than that of the lower group.\n",
    "\n",
    "1. Parenthesis – ()\n",
    "2. Exponentiation – \\*\\*\n",
    "3. Compliment, unary plus and minus – ~, +, -\n",
    "4. Multiply, Divide, modulo – \\*, /, %\n",
    "5. Addition and Subtraction – +, -\n",
    "6. Right and Left Shift – >>, <<\n",
    "7. Bitwise AND – &\n",
    "8. Bitwise OR and XOR – \\|, ^\n",
    "9. Comparison Operators – ==, !=, >, <, >=, <=\n",
    "10. Assignment Operator - =\n",
    "\n",
    "> **Note:** The order of execution of the operators follow PEMDAS and the precedence is:\n",
    "> * Parentheses (simplify inside 'em)\n",
    "> * Exponents\n",
    "> * Multiplication and Division (from left to right)\n",
    "> * Addition and Subtraction (from left to right)"
   ]
  }
 ],
 "metadata": {
  "kernelspec": {
   "display_name": "Python 3",
   "language": "python",
   "name": "python3"
  },
  "language_info": {
   "codemirror_mode": {
    "name": "ipython",
    "version": 3
   },
   "file_extension": ".py",
   "mimetype": "text/x-python",
   "name": "python",
   "nbconvert_exporter": "python",
   "pygments_lexer": "ipython3",
   "version": "3.8.7"
  }
 },
 "nbformat": 4,
 "nbformat_minor": 4
}
