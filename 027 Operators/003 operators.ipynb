{
 "cells": [
  {
   "cell_type": "markdown",
   "metadata": {},
   "source": [
    "# Python Operators\n",
    "Python Operators are the special symbols that can manipulate values of one or more operands.\n",
    "\n",
    "### Python Operator Types\n",
    "\n",
    "Python operators can be classified into several categories.\n",
    "* Arithmetic Operators\n",
    "* Assignment Operators\n",
    "* Comparison Operators\n",
    "* Logical Operators\n",
    "* Identity operators\n",
    "* Membership operators\n",
    "* Bitwise Operators"
   ]
  },
  {
   "cell_type": "code",
   "execution_count": null,
   "metadata": {},
   "outputs": [],
   "source": []
  }
 ],
 "metadata": {
  "kernelspec": {
   "display_name": "Python 3",
   "language": "python",
   "name": "python3"
  },
  "language_info": {
   "codemirror_mode": {
    "name": "ipython",
    "version": 3
   },
   "file_extension": ".py",
   "mimetype": "text/x-python",
   "name": "python",
   "nbconvert_exporter": "python",
   "pygments_lexer": "ipython3",
   "version": "3.8.7"
  }
 },
 "nbformat": 4,
 "nbformat_minor": 4
}
