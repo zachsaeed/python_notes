{
 "cells": [
  {
   "cell_type": "markdown",
   "metadata": {},
   "source": [
    "##  Python Comparison Operators\n",
    "Comparison operators are used to compare two values. They always return a boolean value.\n",
    "There are eight comparison operations in Python. They all have the same priority (which is higher than that of the Boolean operations).\n",
    "\n",
    "| Operator | Description | Example |\n",
    "|----------|-------------|---------|\n",
    "| == | returns True if two operands are equal, otherwise False. | flag = a == b |\n",
    "|!= | returns True if two operands are not equal, otherwise False. | flag = a != b |\n",
    "| > | returns True if left operand is greater than the right operand, otherwise False. | flag = a > b |\n",
    "| < | returns True if left operand is smaller than the right operand, otherwise False. | flag = a < b |\n",
    "| >= | returns True if left operand is greater than or equal to the right operand, otherwise False. | flag = a > b |\n",
    "| <= | returns True if left operand is smaller than or equal to the right operand, otherwise False. | flag = a < b |"
   ]
  },
  {
   "cell_type": "code",
   "execution_count": 1,
   "metadata": {},
   "outputs": [
    {
     "name": "stdout",
     "output_type": "stream",
     "text": [
      "False\n"
     ]
    }
   ],
   "source": [
    "# create two variables\n",
    "a=100\n",
    "b=200\n",
    "\n",
    "# (==) operator, checks if two operands are equal or not\n",
    "print(a==b)"
   ]
  },
  {
   "cell_type": "code",
   "execution_count": 2,
   "metadata": {},
   "outputs": [
    {
     "name": "stdout",
     "output_type": "stream",
     "text": [
      "True\n"
     ]
    }
   ],
   "source": [
    "# (!=) operator, checks if two operands are not equal\n",
    "print(a!=b)"
   ]
  },
  {
   "cell_type": "code",
   "execution_count": 3,
   "metadata": {},
   "outputs": [
    {
     "name": "stdout",
     "output_type": "stream",
     "text": [
      "False\n"
     ]
    }
   ],
   "source": [
    "# (>) operator, checks left operand is greater than right operand or not\n",
    "print(a>b)"
   ]
  },
  {
   "cell_type": "code",
   "execution_count": 4,
   "metadata": {},
   "outputs": [
    {
     "name": "stdout",
     "output_type": "stream",
     "text": [
      "True\n"
     ]
    }
   ],
   "source": [
    "# (<) operator, checks left operand is less than right operand or not\n",
    "print(a<b)"
   ]
  },
  {
   "cell_type": "code",
   "execution_count": 5,
   "metadata": {},
   "outputs": [
    {
     "name": "stdout",
     "output_type": "stream",
     "text": [
      "False\n"
     ]
    }
   ],
   "source": [
    "#(>=) operator, checks left operand is greater than or equal to right operand or not\n",
    "print(a>=b)"
   ]
  },
  {
   "cell_type": "code",
   "execution_count": 6,
   "metadata": {},
   "outputs": [
    {
     "name": "stdout",
     "output_type": "stream",
     "text": [
      "True\n"
     ]
    }
   ],
   "source": [
    "# (<=) operator, checks left operand is less than or equal to right operand or not\n",
    "print(a<=b)"
   ]
  },
  {
   "cell_type": "code",
   "execution_count": 7,
   "metadata": {},
   "outputs": [
    {
     "name": "stdout",
     "output_type": "stream",
     "text": [
      "False\n"
     ]
    }
   ],
   "source": [
    "print(not a!=b)"
   ]
  },
  {
   "cell_type": "markdown",
   "metadata": {},
   "source": [
    "### Chaining\n",
    "Comparisons can be chained arbitrarily; for example, x < y <= z is equivalent to x < y and y <= z, except that y is evaluated only once (but in both cases z is not evaluated at all. When x < y is found to be false thee is no point moving forward in the chain as we can already deduce the whole chain will be false).\n",
    "\n",
    "### Equality Comparison on Floating-Point Values\n",
    "Recall from the earlier discussion of floating-point numbers that the value stored internally for a float object may not be precisely what you’d think it would be. For that reason, it is poor practice to compare floating-point values for exact equality. Consider this example:"
   ]
  },
  {
   "cell_type": "code",
   "execution_count": 10,
   "metadata": {},
   "outputs": [
    {
     "name": "stdout",
     "output_type": "stream",
     "text": [
      "False\n"
     ]
    }
   ],
   "source": [
    "x = 1.1 + 2.2\n",
    "print(x == 3.3)"
   ]
  },
  {
   "cell_type": "markdown",
   "metadata": {},
   "source": [
    "Yikes! The internal representations of the addition operands are not exactly equal to 1.1 and 2.2, so you cannot rely on x to compare exactly to 3.3.\n",
    "\n",
    "The preferred way to determine whether two floating-point values are “equal” is to compute whether they are close to one another, given some tolerance. Take a look at this example:"
   ]
  },
  {
   "cell_type": "code",
   "execution_count": 11,
   "metadata": {},
   "outputs": [
    {
     "name": "stdout",
     "output_type": "stream",
     "text": [
      "True\n"
     ]
    }
   ],
   "source": [
    "tolerance = 0.00001\n",
    "x = 1.1 + 2.2\n",
    "print(abs(x - 3.3) < tolerance)"
   ]
  },
  {
   "cell_type": "markdown",
   "metadata": {},
   "source": [
    "abs() returns absolute value. If the absolute value of the difference between the two numbers is less than the specified tolerance, they are close enough to one another to be considered equal.\n",
    "\n",
    "Objects of different types, except different numeric types, never compare equal."
   ]
  },
  {
   "cell_type": "code",
   "execution_count": 12,
   "metadata": {},
   "outputs": [
    {
     "ename": "TypeError",
     "evalue": "'>' not supported between instances of 'str' and 'int'",
     "output_type": "error",
     "traceback": [
      "\u001b[1;31m---------------------------------------------------------------------------\u001b[0m",
      "\u001b[1;31mTypeError\u001b[0m                                 Traceback (most recent call last)",
      "\u001b[1;32m<ipython-input-12-1bb74f2db6c6>\u001b[0m in \u001b[0;36m<module>\u001b[1;34m\u001b[0m\n\u001b[1;32m----> 1\u001b[1;33m \u001b[0mprint\u001b[0m\u001b[1;33m(\u001b[0m\u001b[1;34m'23'\u001b[0m \u001b[1;33m>\u001b[0m \u001b[1;36m2\u001b[0m\u001b[1;33m)\u001b[0m\u001b[1;33m\u001b[0m\u001b[1;33m\u001b[0m\u001b[0m\n\u001b[0m\u001b[0;32m      2\u001b[0m \u001b[0mprint\u001b[0m\u001b[1;33m(\u001b[0m\u001b[1;34m'A'\u001b[0m \u001b[1;33m<\u001b[0m \u001b[1;34m'a'\u001b[0m\u001b[1;33m)\u001b[0m  \u001b[1;31m# True (ASCII table value comparison)\u001b[0m\u001b[1;33m\u001b[0m\u001b[1;33m\u001b[0m\u001b[0m\n",
      "\u001b[1;31mTypeError\u001b[0m: '>' not supported between instances of 'str' and 'int'"
     ]
    }
   ],
   "source": [
    "print('23' > 2)\n",
    "print('A' < 'a')  # True (ASCII table value comparison)"
   ]
  },
  {
   "cell_type": "markdown",
   "metadata": {},
   "source": [
    "> **Note:** The objects need not have the same type. objects of different types always compare unequal, and are ordered consistently but arbitrarily. The <, <=, > and >= operators are only defined where they make sense; for example, they raise a TypeError exception when one of the arguments is a complex number.\n",
    "\n",
    "## Equality Comparison on custom objects\n",
    "\n",
    "The == operator is always defined but for some object types (for example, class objects) is equivalent to is. \n",
    "\n",
    "Non-identical instances of a class normally compare as non-equal unless the class defines the \\_\\_eq\\_\\_() method.\n",
    "\n",
    "Instances of a class cannot be ordered with respect to other instances of the same class, or other types of object, however unless the class defines enough of the methods \\_\\_lt\\_\\_(), \\_\\_le\\_\\_(), \\_\\_gt\\_\\_(), and \\_\\_ge\\_\\_() (in general, \\_\\_lt\\_\\_() and \\_\\_eq\\_\\_() are sufficient, if you want the conventional meanings of the comparison operators).\n",
    "\n",
    "> **Note:** The behavior of the 'is' and 'is not' operators cannot be customized; also they can be applied to any two objects and never raise an exception.\n",
    "\n",
    "Two more operations with the same syntactic priority, 'in' and 'not in', are supported by types that are iterable or implement the \\_\\_contains\\_\\_() method."
   ]
  }
 ],
 "metadata": {
  "kernelspec": {
   "display_name": "Python 3",
   "language": "python",
   "name": "python3"
  },
  "language_info": {
   "codemirror_mode": {
    "name": "ipython",
    "version": 3
   },
   "file_extension": ".py",
   "mimetype": "text/x-python",
   "name": "python",
   "nbconvert_exporter": "python",
   "pygments_lexer": "ipython3",
   "version": "3.8.7"
  }
 },
 "nbformat": 4,
 "nbformat_minor": 4
}
