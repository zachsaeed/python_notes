{
 "cells": [
  {
   "cell_type": "markdown",
   "metadata": {},
   "source": [
    "## Python Bitwise Operators\n",
    "\n",
    "| Operator | Example         | Meaning | Description |\n",
    "|----------|-----------------|---------|-------------|\n",
    "| & | a & b<br>x = 10 & 7 = 2 | Bitwise AND Operator | Each bit position in the result is the logical AND of the bits in the corresponding position of the operands. (1 if both are 1, otherwise 0.) |\n",
    "| \\| | a \\| b<br>x = 10 \\| 7 = 15 | Binary OR Operator | Each bit position in the result is the logical OR of the bits in the corresponding position of the operands. (1 if either is 1, otherwise 0.) |\n",
    "| ^ | a ^ b<br>x = 10 ^ 7 = 13 | Binary XOR (Exclusive OR) Operator |Each bit position in the result is the logical XOR of the bits in the corresponding position of the operands. (1 if the bits in the operands are different, 0 if they are the same.) |\n",
    "| ~ | ~a<br>x = ~10 = -11 | Binary  negation / ONEs Compliment Operator | Each bit position in the result is the logical negation of the bit in the corresponding position of the operand. (1 if 0, 0 if 1.) | \n",
    "| << | a << n<br>x = 10<<1 = 20 | Bitwise Left Shift operator | Each bit is shifted left n places. |\n",
    "| >> | a >> n<br>x = 10>>1 = 5 | Binary Right Shift Operator | Each bit is shifted rigt n places. |\n"
   ]
  },
  {
   "cell_type": "code",
   "execution_count": 1,
   "metadata": {},
   "outputs": [
    {
     "name": "stdout",
     "output_type": "stream",
     "text": [
      "2\n"
     ]
    }
   ],
   "source": [
    "# create two variables\n",
    "a=10 # binary 1010\n",
    "b=7  # binary 0111\n",
    "\n",
    "# Binary AND (&) operator, done binary AND operation\n",
    "print(a&b)"
   ]
  },
  {
   "cell_type": "code",
   "execution_count": 2,
   "metadata": {},
   "outputs": [
    {
     "name": "stdout",
     "output_type": "stream",
     "text": [
      "15\n"
     ]
    }
   ],
   "source": [
    "# Binary OR (|) operator, done binary OR operation\n",
    "print(a|b)"
   ]
  },
  {
   "cell_type": "code",
   "execution_count": 3,
   "metadata": {},
   "outputs": [
    {
     "name": "stdout",
     "output_type": "stream",
     "text": [
      "13\n"
     ]
    }
   ],
   "source": [
    "# Binary XOR (^) operator, done binary XOR operation\n",
    "print(a^b)"
   ]
  },
  {
   "cell_type": "code",
   "execution_count": 4,
   "metadata": {},
   "outputs": [
    {
     "name": "stdout",
     "output_type": "stream",
     "text": [
      "-11\n"
     ]
    }
   ],
   "source": [
    "# Binary ONEs Compliment (~) operator, done binary One's Compliment operation\n",
    "print(~a)"
   ]
  },
  {
   "cell_type": "code",
   "execution_count": 5,
   "metadata": {},
   "outputs": [
    {
     "name": "stdout",
     "output_type": "stream",
     "text": [
      "20\n"
     ]
    }
   ],
   "source": [
    "# Binary Left Shift (<<) operator, done binary Left Shift operation\n",
    "print(a<<1) "
   ]
  },
  {
   "cell_type": "code",
   "execution_count": 6,
   "metadata": {},
   "outputs": [
    {
     "name": "stdout",
     "output_type": "stream",
     "text": [
      "5\n"
     ]
    }
   ],
   "source": [
    "# Binary Right Shift (>>) operator, done binary Right Shift operation\n",
    "print(a>>1)"
   ]
  }
 ],
 "metadata": {
  "kernelspec": {
   "display_name": "Python 3",
   "language": "python",
   "name": "python3"
  },
  "language_info": {
   "codemirror_mode": {
    "name": "ipython",
    "version": 3
   },
   "file_extension": ".py",
   "mimetype": "text/x-python",
   "name": "python",
   "nbconvert_exporter": "python",
   "pygments_lexer": "ipython3",
   "version": "3.8.7"
  }
 },
 "nbformat": 4,
 "nbformat_minor": 4
}
