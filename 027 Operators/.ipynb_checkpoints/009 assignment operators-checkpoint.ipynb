{
 "cells": [
  {
   "cell_type": "markdown",
   "metadata": {},
   "source": [
    "## Python Assignment Operators\n",
    "\n",
    "| Operator | Description |\n",
    "|----------|-------------|\n",
    "| =  | a=b takes the value of b and assigns it to a |\n",
    "| += | a+=b is equivalent to a=a+b |\n",
    "| -= | a-=b is equivalent to a=a-b |\n",
    "| *= | a*=b is equivalent to a=a\\*b |\n",
    "| /= | a/=b is equivalent to a=a/b |\n",
    "| %= | a%=b is equivalent to a=a%b |\n",
    "| //= | a//=b is equivalent to a=a//b (floor division) |\n",
    "| \\*\\*= | a\\*\\*=b is equivalent to a=a\\*\\*b (exponent operator) |\n",
    "| &= | x &= 3 is equivalent to x = x & 3 |\n",
    "| |= | x |= 3 is equivalent to x = x | 3 |\n",
    "| ^= | x ^= 3 is equivalent to x = x ^ 3 |\n",
    "| >>= | x >>= 3 is equivalent to x = x >> 3 |\n",
    "| <<=  | x <<= 3 is equivalent to x = x << 3 |"
   ]
  },
  {
   "cell_type": "code",
   "execution_count": 181,
   "metadata": {},
   "outputs": [
    {
     "name": "stdout",
     "output_type": "stream",
     "text": [
      "a: 3\n",
      "b: 4\n",
      "a: 7\n",
      "b: 4\n"
     ]
    }
   ],
   "source": [
    "# take two variable, assign values with assignment operators\n",
    "a=3\n",
    "b=4\n",
    "\n",
    "print(\"a: \"+str(a))\n",
    "print(\"b: \"+str(b))\n",
    "\n",
    "# it is equivalent to a=a+b\n",
    "a+=b\n",
    "\n",
    "print(\"a: \"+str(a))\n",
    "print(\"b: \"+str(b))"
   ]
  },
  {
   "cell_type": "code",
   "execution_count": 182,
   "metadata": {},
   "outputs": [
    {
     "name": "stdout",
     "output_type": "stream",
     "text": [
      "a: 28\n",
      "b: 4\n"
     ]
    }
   ],
   "source": [
    "# it is equivalent to a=a*b\n",
    "a*=b\n",
    "print(\"a: \"+str(a))\n",
    "print(\"b: \"+str(b))"
   ]
  },
  {
   "cell_type": "code",
   "execution_count": 183,
   "metadata": {},
   "outputs": [
    {
     "name": "stdout",
     "output_type": "stream",
     "text": [
      "a: 7.0\n",
      "b: 4\n"
     ]
    }
   ],
   "source": [
    "# it is equivalent to a=a/b\n",
    "a/=b\n",
    "print(\"a: \"+str(a))\n",
    "print(\"b: \"+str(b))"
   ]
  },
  {
   "cell_type": "code",
   "execution_count": 184,
   "metadata": {},
   "outputs": [
    {
     "name": "stdout",
     "output_type": "stream",
     "text": [
      "a: 3.0\n",
      "b: 4\n"
     ]
    }
   ],
   "source": [
    "# it is equivalent to a=a%b\n",
    "a%=b\n",
    "print(\"a: \"+str(a))\n",
    "print(\"b: \"+str(b))"
   ]
  },
  {
   "cell_type": "code",
   "execution_count": 185,
   "metadata": {},
   "outputs": [
    {
     "name": "stdout",
     "output_type": "stream",
     "text": [
      "a: 81.0\n",
      "b: 4\n"
     ]
    }
   ],
   "source": [
    "# it is equivalent to a=a**b ( exponent operator)\n",
    "a**=b\n",
    "print(\"a: \"+str(a))\n",
    "print(\"b: \"+str(b))"
   ]
  },
  {
   "cell_type": "code",
   "execution_count": 186,
   "metadata": {},
   "outputs": [
    {
     "name": "stdout",
     "output_type": "stream",
     "text": [
      "a: 20.0\n",
      "b: 4\n"
     ]
    }
   ],
   "source": [
    "# it is equivalent to a=a//b ( floor division)\n",
    "a//=b\n",
    "print(\"a: \"+str(a))\n",
    "print(\"b: \"+str(b))"
   ]
  }
 ],
 "metadata": {
  "kernelspec": {
   "display_name": "Python 3",
   "language": "python",
   "name": "python3"
  },
  "language_info": {
   "codemirror_mode": {
    "name": "ipython",
    "version": 3
   },
   "file_extension": ".py",
   "mimetype": "text/x-python",
   "name": "python",
   "nbconvert_exporter": "python",
   "pygments_lexer": "ipython3",
   "version": "3.8.7"
  }
 },
 "nbformat": 4,
 "nbformat_minor": 4
}
