{
 "cells": [
  {
   "cell_type": "markdown",
   "metadata": {},
   "source": [
    "# Python Operators\n",
    "Python Operators are the special symbols that can manipulate values of one or more operands.\n",
    "\n",
    "### Python Operator Types\n",
    "\n",
    "Python operators can be classified into several categories.\n",
    "* Arithmetic Operators\n",
    "* Assignment Operators\n",
    "* Comparison Operators\n",
    "* Logical Operators\n",
    "* Identity operators\n",
    "* Membership operators\n",
    "* Bitwise Operators\n",
    "\n",
    "\n",
    "## Python Arithmetic Operators\n",
    "\n",
    "| Operator | Description | Example |\n",
    "|----------|-------------|---------|\n",
    "| +(unary) | Represents a +ve value. It doesn’t really do anything. It mostly exists for the sake of completeness, to complement Unary Negation.| a<br>+a |\n",
    "| +(binary) | used to add two numbers | sum = a + b |\n",
    "| -(unary) | Represents a -ve value | -a |\n",
    "| –(binary) | used for subtraction | difference = a – b |\n",
    "| \\* | used to multiply two numbers. If a string and int is multiplied then the string is repeated the int times. | mul = a\\*b<br> >>> “Hi”\\*5<br> ‘HiHiHiHiHi’ |\n",
    "| / | used to divide two numbersThe result of standard division (/) is always a float, even if the dividend is evenly divisible by the divisor | div = b/a |\n",
    "| // | integer division. Same as / but the result is floored ie rounds it down. When the result of floor division (//) is positive, it is as though the fractional portion is truncated off, leaving only the integer portion. When the result is negative, the result is rounded down to the next smallest (greater negative) integer | intdiv = a//b |\n",
    "| % | modulus operator, returns the remainder of division | mod = a%b |\n",
    "| \\*\\* | exponent operator | exp = a\\*\\*b |\n",
    "\n"
   ]
  },
  {
   "cell_type": "code",
   "execution_count": 157,
   "metadata": {},
   "outputs": [
    {
     "name": "stdout",
     "output_type": "stream",
     "text": [
      "300\n"
     ]
    }
   ],
   "source": [
    "#create two variables\n",
    "a=100\n",
    "b=200\n",
    "\n",
    "# addition (+) operator\n",
    "print(a+b) "
   ]
  },
  {
   "cell_type": "code",
   "execution_count": 158,
   "metadata": {},
   "outputs": [
    {
     "name": "stdout",
     "output_type": "stream",
     "text": [
      "-100\n"
     ]
    }
   ],
   "source": [
    "# subtraction (-) operator\n",
    "print(a-b) "
   ]
  },
  {
   "cell_type": "code",
   "execution_count": 159,
   "metadata": {},
   "outputs": [
    {
     "name": "stdout",
     "output_type": "stream",
     "text": [
      "20000\n"
     ]
    }
   ],
   "source": [
    "# multiplication (*) operator\n",
    "print(a*b)"
   ]
  },
  {
   "cell_type": "code",
   "execution_count": 160,
   "metadata": {},
   "outputs": [
    {
     "name": "stdout",
     "output_type": "stream",
     "text": [
      "2.0\n"
     ]
    }
   ],
   "source": [
    "# division (/) operator\n",
    "print(b/a)"
   ]
  },
  {
   "cell_type": "markdown",
   "metadata": {},
   "source": [
    "> **Note:** The result of standard division (/) is always a float, even if the dividend is evenly divisible by the divisor"
   ]
  },
  {
   "cell_type": "code",
   "execution_count": 161,
   "metadata": {},
   "outputs": [
    {
     "name": "stdout",
     "output_type": "stream",
     "text": [
      "2.5\n",
      "2\n",
      "-3\n",
      "-3\n",
      "2\n"
     ]
    }
   ],
   "source": [
    "# Integer division (//) operator.\n",
    "print(10 / 4)  # 2.5 gives us float\n",
    "print(10 // 4)  # 2 gives us int\n",
    "print(10 // -4)  # -3 -ve result. therefore rounded down to the next smallest (greater negative) integer\n",
    "print(-10 // 4)  # -3 -ve result. therefore rounded down to the next smallest (greater negative) integer\n",
    "print(-10 // -4)  # 2"
   ]
  },
  {
   "cell_type": "markdown",
   "metadata": {},
   "source": [
    "> **Note:** When the result of floor division (//) is positive, it is as though the fractional portion is truncated off, leaving only the integer portion. When the result is negative, the result is rounded down to the next smallest (greater negative) integer:"
   ]
  },
  {
   "cell_type": "code",
   "execution_count": 162,
   "metadata": {},
   "outputs": [
    {
     "name": "stdout",
     "output_type": "stream",
     "text": [
      "100\n"
     ]
    }
   ],
   "source": [
    "# modulus (%) operator\n",
    "print(a%b) # prints the remainder of a/b"
   ]
  },
  {
   "cell_type": "code",
   "execution_count": 163,
   "metadata": {},
   "outputs": [
    {
     "name": "stdout",
     "output_type": "stream",
     "text": [
      "10000000000000000000000000000000000000000000000000000000000000000000000000000000000000000000000000000000000000000000000000000000000000000000000000000000000000000000000000000000000000000000000000000000000000000000000000000000000000000000000000000000000000000000000000000000000000000000000000000000000000000000000000000000000000000000000000000000000000000000000000000000000000000000000000000000000000000\n"
     ]
    }
   ],
   "source": [
    "# exponent (**) operator\n",
    "print(a**b) #prints a^b"
   ]
  },
  {
   "cell_type": "markdown",
   "metadata": {},
   "source": [
    "##  Python Comparison Operators\n",
    "There are eight comparison operations in Python. They all have the same priority (which is higher than that of the Boolean operations).\n",
    "\n",
    "| Operator | Description | Example |\n",
    "|----------|-------------|---------|\n",
    "| == | returns True if two operands are equal, otherwise False. | flag = a == b |\n",
    "|!= | returns True if two operands are not equal, otherwise False. | flag = a != b |\n",
    "| > | returns True if left operand is greater than the right operand, otherwise False. | flag = a > b |\n",
    "| < | returns True if left operand is smaller than the right operand, otherwise False. | flag = a < b |\n",
    "| >= | returns True if left operand is greater than or equal to the right operand, otherwise False. | flag = a > b |\n",
    "| <= | returns True if left operand is smaller than or equal to the right operand, otherwise False. | flag = a < b |\n",
    "| is | object identity | flag = obj_a is obj_b |\n",
    "| is not| negated object identity | flag = obj_a is not obj_b |"
   ]
  },
  {
   "cell_type": "code",
   "execution_count": 6,
   "metadata": {},
   "outputs": [
    {
     "name": "stdout",
     "output_type": "stream",
     "text": [
      "False\n"
     ]
    }
   ],
   "source": [
    "# create two variables\n",
    "a=100\n",
    "b=200\n",
    "\n",
    "# (==) operator, checks if two operands are equal or not\n",
    "print(a==b)"
   ]
  },
  {
   "cell_type": "code",
   "execution_count": 2,
   "metadata": {},
   "outputs": [
    {
     "name": "stdout",
     "output_type": "stream",
     "text": [
      "True\n"
     ]
    }
   ],
   "source": [
    "# (!=) operator, checks if two operands are not equal\n",
    "print(a!=b)"
   ]
  },
  {
   "cell_type": "code",
   "execution_count": 166,
   "metadata": {},
   "outputs": [
    {
     "name": "stdout",
     "output_type": "stream",
     "text": [
      "False\n"
     ]
    }
   ],
   "source": [
    "# (>) operator, checks left operand is greater than right operand or not\n",
    "print(a>b)"
   ]
  },
  {
   "cell_type": "code",
   "execution_count": 167,
   "metadata": {},
   "outputs": [
    {
     "name": "stdout",
     "output_type": "stream",
     "text": [
      "True\n"
     ]
    }
   ],
   "source": [
    "# (<) operator, checks left operand is less than right operand or not\n",
    "print(a<b)"
   ]
  },
  {
   "cell_type": "code",
   "execution_count": 4,
   "metadata": {},
   "outputs": [
    {
     "name": "stdout",
     "output_type": "stream",
     "text": [
      "True\n"
     ]
    }
   ],
   "source": [
    "#(>=) operator, checks left operand is greater than or equal to right operand or not\n",
    "print(a>=b)"
   ]
  },
  {
   "cell_type": "code",
   "execution_count": 169,
   "metadata": {},
   "outputs": [
    {
     "name": "stdout",
     "output_type": "stream",
     "text": [
      "True\n"
     ]
    }
   ],
   "source": [
    "# (<=) operator, checks left operand is less than or equal to right operand or not\n",
    "print(a<=b)"
   ]
  },
  {
   "cell_type": "code",
   "execution_count": 8,
   "metadata": {},
   "outputs": [
    {
     "name": "stdout",
     "output_type": "stream",
     "text": [
      "False\n"
     ]
    }
   ],
   "source": [
    "print(not a!=b)"
   ]
  },
  {
   "cell_type": "code",
   "execution_count": 195,
   "metadata": {},
   "outputs": [
    {
     "name": "stdout",
     "output_type": "stream",
     "text": [
      "False\n",
      "True\n"
     ]
    }
   ],
   "source": [
    "print(a is b)\n",
    "c = a\n",
    "print(a is c)"
   ]
  },
  {
   "cell_type": "code",
   "execution_count": 196,
   "metadata": {},
   "outputs": [
    {
     "name": "stdout",
     "output_type": "stream",
     "text": [
      "True\n"
     ]
    }
   ],
   "source": [
    "print (a is not b)"
   ]
  },
  {
   "cell_type": "markdown",
   "metadata": {},
   "source": [
    "### Chaining\n",
    "Comparisons can be chained arbitrarily; for example, x < y <= z is equivalent to x < y and y <= z, except that y is evaluated only once (but in both cases z is not evaluated at all. When x < y is found to be false thee is no point moving forward in the chain as we can already deduce the whole chain will be false).\n",
    "\n",
    "### Equality Comparison on Floating-Point Values\n",
    "Recall from the earlier discussion of floating-point numbers that the value stored internally for a float object may not be precisely what you’d think it would be. For that reason, it is poor practice to compare floating-point values for exact equality. Consider this example:"
   ]
  },
  {
   "cell_type": "code",
   "execution_count": 170,
   "metadata": {},
   "outputs": [
    {
     "name": "stdout",
     "output_type": "stream",
     "text": [
      "False\n"
     ]
    }
   ],
   "source": [
    "x = 1.1 + 2.2\n",
    "print(x == 3.3)"
   ]
  },
  {
   "cell_type": "markdown",
   "metadata": {},
   "source": [
    "Yikes! The internal representations of the addition operands are not exactly equal to 1.1 and 2.2, so you cannot rely on x to compare exactly to 3.3.\n",
    "\n",
    "The preferred way to determine whether two floating-point values are “equal” is to compute whether they are close to one another, given some tolerance. Take a look at this example:"
   ]
  },
  {
   "cell_type": "code",
   "execution_count": 171,
   "metadata": {},
   "outputs": [
    {
     "name": "stdout",
     "output_type": "stream",
     "text": [
      "True\n"
     ]
    }
   ],
   "source": [
    "tolerance = 0.00001\n",
    "x = 1.1 + 2.2\n",
    "print(abs(x - 3.3) < tolerance)"
   ]
  },
  {
   "cell_type": "markdown",
   "metadata": {},
   "source": [
    "abs() returns absolute value. If the absolute value of the difference between the two numbers is less than the specified tolerance, they are close enough to one another to be considered equal.\n",
    "\n",
    "Objects of different types, except different numeric types, never compare equal."
   ]
  },
  {
   "cell_type": "code",
   "execution_count": 190,
   "metadata": {},
   "outputs": [
    {
     "ename": "TypeError",
     "evalue": "'>' not supported between instances of 'str' and 'int'",
     "output_type": "error",
     "traceback": [
      "\u001b[0;31m---------------------------------------------------------------------------\u001b[0m",
      "\u001b[0;31mTypeError\u001b[0m                                 Traceback (most recent call last)",
      "\u001b[0;32m<ipython-input-190-1bb74f2db6c6>\u001b[0m in \u001b[0;36m<module>\u001b[0;34m\u001b[0m\n\u001b[0;32m----> 1\u001b[0;31m \u001b[0mprint\u001b[0m\u001b[0;34m(\u001b[0m\u001b[0;34m'23'\u001b[0m \u001b[0;34m>\u001b[0m \u001b[0;36m2\u001b[0m\u001b[0;34m)\u001b[0m\u001b[0;34m\u001b[0m\u001b[0;34m\u001b[0m\u001b[0m\n\u001b[0m\u001b[1;32m      2\u001b[0m \u001b[0mprint\u001b[0m\u001b[0;34m(\u001b[0m\u001b[0;34m'A'\u001b[0m \u001b[0;34m<\u001b[0m \u001b[0;34m'a'\u001b[0m\u001b[0;34m)\u001b[0m  \u001b[0;31m# True (ASCII table value comparison)\u001b[0m\u001b[0;34m\u001b[0m\u001b[0;34m\u001b[0m\u001b[0m\n",
      "\u001b[0;31mTypeError\u001b[0m: '>' not supported between instances of 'str' and 'int'"
     ]
    }
   ],
   "source": [
    "print('23' > 2)\n",
    "print('A' < 'a')  # True (ASCII table value comparison)"
   ]
  },
  {
   "cell_type": "markdown",
   "metadata": {},
   "source": [
    "> **Note:** The objects need not have the same type. objects of different types always compare unequal, and are ordered consistently but arbitrarily. The <, <=, > and >= operators are only defined where they make sense; for example, they raise a TypeError exception when one of the arguments is a complex number.\n",
    "\n",
    "## Equality Comparison on custom objects\n",
    "\n",
    "The == operator is always defined but for some object types (for example, class objects) is equivalent to is. \n",
    "\n",
    "Non-identical instances of a class normally compare as non-equal unless the class defines the \\_\\_eq\\_\\_() method.\n",
    "\n",
    "Instances of a class cannot be ordered with respect to other instances of the same class, or other types of object, however unless the class defines enough of the methods \\_\\_lt\\_\\_(), \\_\\_le\\_\\_(), \\_\\_gt\\_\\_(), and \\_\\_ge\\_\\_() (in general, \\_\\_lt\\_\\_() and \\_\\_eq\\_\\_() are sufficient, if you want the conventional meanings of the comparison operators).\n",
    "\n",
    "> **Note:** The behavior of the 'is' and 'is not' operators cannot be customized; also they can be applied to any two objects and never raise an exception.\n",
    "\n",
    "Two more operations with the same syntactic priority, 'in' and 'not in', are supported by types that are iterable or implement the \\_\\_contains\\_\\_() method.\n",
    "\n",
    "\n",
    "## Python Bitwise Operators\n",
    "\n",
    "| Operator | Example | Meaning | Description |\n",
    "|----------|---------|---------|-------------|\n",
    "| & | a & b<br>x = 10 & 7 = 2 | Bitwise AND Operator | Each bit position in the result is the logical AND of the bits in the corresponding position of the operands. (1 if both are 1, otherwise 0.) |\n",
    "| \\| | a \\| b<br>x = 10 \\| 7 = 15 | Binary OR Operator | Each bit position in the result is the logical OR of the bits in the corresponding position of the operands. (1 if either is 1, otherwise 0.) |\n",
    "| ^ | a ^ b<br>x = 10 ^ 7 = 13 | Binary XOR (Exclusive OR) Operator |Each bit position in the result is the logical XOR of the bits in the corresponding position of the operands. (1 if the bits in the operands are different, 0 if they are the same.) |\n",
    "| ~ | ~a<br>x = ~10 = -11 | Binary  negation / ONEs Compliment Operator | Each bit position in the result is the logical negation of the bit in the corresponding position of the operand. (1 if 0, 0 if 1.) | \n",
    "| << | a << n<br>x = 10<<1 = 20 | Bitwise Left Shift operator | Each bit is shifted left n places. |\n",
    "| >> | a >> n<br>x = 10>>1 = 5 | Binary Right Shift Operator | Each bit is shifted rigt n places. |"
   ]
  },
  {
   "cell_type": "code",
   "execution_count": 172,
   "metadata": {},
   "outputs": [
    {
     "name": "stdout",
     "output_type": "stream",
     "text": [
      "2\n"
     ]
    }
   ],
   "source": [
    "# create two variables\n",
    "a=10 # binary 1010\n",
    "b=7  # binary 0111\n",
    "\n",
    "# Binary AND (&) operator, done binary AND operation\n",
    "print(a&b)"
   ]
  },
  {
   "cell_type": "code",
   "execution_count": 173,
   "metadata": {},
   "outputs": [
    {
     "name": "stdout",
     "output_type": "stream",
     "text": [
      "15\n"
     ]
    }
   ],
   "source": [
    "# Binary OR (|) operator, done binary OR operation\n",
    "print(a|b)"
   ]
  },
  {
   "cell_type": "code",
   "execution_count": 174,
   "metadata": {},
   "outputs": [
    {
     "name": "stdout",
     "output_type": "stream",
     "text": [
      "13\n"
     ]
    }
   ],
   "source": [
    "# Binary XOR (^) operator, done binary XOR operation\n",
    "print(a^b)"
   ]
  },
  {
   "cell_type": "code",
   "execution_count": 175,
   "metadata": {},
   "outputs": [
    {
     "name": "stdout",
     "output_type": "stream",
     "text": [
      "-11\n"
     ]
    }
   ],
   "source": [
    "# Binary ONEs Compliment (~) operator, done binary One's Compliment operation\n",
    "print(~a)"
   ]
  },
  {
   "cell_type": "code",
   "execution_count": 176,
   "metadata": {},
   "outputs": [
    {
     "name": "stdout",
     "output_type": "stream",
     "text": [
      "20\n"
     ]
    }
   ],
   "source": [
    "# Binary Left Shift (<<) operator, done binary Left Shift operation\n",
    "print(a<<1) "
   ]
  },
  {
   "cell_type": "code",
   "execution_count": 177,
   "metadata": {},
   "outputs": [
    {
     "name": "stdout",
     "output_type": "stream",
     "text": [
      "5\n"
     ]
    }
   ],
   "source": [
    "# Binary Right Shift (>>) operator, done binary Right Shift operation\n",
    "print(a>>1)"
   ]
  },
  {
   "cell_type": "markdown",
   "metadata": {},
   "source": [
    "## Python Logical Operators\n",
    "\n",
    "| Operator | Description | Example |\n",
    "|----------|-------------|---------|\n",
    "| and | Logical AND Operator. True if both x and y are True. False otherwise <br> This is a short-circuit operator, so it only evaluates the second argument if the first one is true. | a and b |\n",
    "| or | Logical OR Operator. True if either x or y or both are True. False otherwise. <br>This is a short-circuit operator, so it only evaluates the second argument if the first one is false. | a or b |\n",
    "| not (unary) | Logical NOT Operator. True if a is False. False if a is True. (Logically reverses the sense of a)<br> not has a lower priority than non-Boolean operators, so not a == b is interpreted as not (a == b), and a == not b is a syntax error. | not(a) |\n"
   ]
  },
  {
   "cell_type": "code",
   "execution_count": 12,
   "metadata": {},
   "outputs": [
    {
     "name": "stdout",
     "output_type": "stream",
     "text": [
      "False\n",
      "False\n"
     ]
    }
   ],
   "source": [
    "a = 3\n",
    "b = 2\n",
    "c = 4\n",
    "\n",
    "# <bool> and <bool>\n",
    "print(a==b and b == c)\n",
    "# and = only true when both are true\n",
    "\n",
    "print(a==b or b == c)\n",
    "# or"
   ]
  },
  {
   "cell_type": "code",
   "execution_count": 178,
   "metadata": {},
   "outputs": [],
   "source": [
    "#take user input as int\n",
    "a = 45\n",
    "\n",
    "# logical AND operation\n",
    "\n",
    "if a%4==0 and a%3==0:\n",
    "    print(\"divided by both 4 and 3\")"
   ]
  },
  {
   "cell_type": "code",
   "execution_count": 179,
   "metadata": {},
   "outputs": [
    {
     "name": "stdout",
     "output_type": "stream",
     "text": [
      "either divided by 4 or 3\n"
     ]
    }
   ],
   "source": [
    "# logical OR operation\n",
    "if a%4==0 or a%3==0:\n",
    "    print(\"either divided by 4 or 3\")"
   ]
  },
  {
   "cell_type": "code",
   "execution_count": 180,
   "metadata": {},
   "outputs": [],
   "source": [
    "# logical NOT operation\n",
    "if not (a%4==0 or a%3==0):\n",
    "    print(\"neither divided by 4 nor 3\")"
   ]
  },
  {
   "cell_type": "markdown",
   "metadata": {},
   "source": [
    "### Truth Value Testing\n",
    "Any object can be tested for truth value, for use in an if or while condition or as operand of the Boolean operations, 'and', 'or' and 'not'.\n",
    "\n",
    "Here are most of the built-in objects considered false:\n",
    "* constants defined to be false: None and False.\n",
    "* zero of any numeric type: 0, 0.0, 0j, Decimal(0), Fraction(0, 1)\n",
    "* empty sequences and collections: '', (), [], {}, set(), range(0)\n",
    "\n",
    "#### custom objects:\n",
    "By default, an object is considered 'True' unless \n",
    "    * its class defines either a __bool__() method that returns False \n",
    "    * or a __len__() method that returns zero, when called with the object.\n",
    "\n",
    "> **Note:** Operations and built-in functions that have a Boolean result always return '0' or 'False' for false and '1' or 'True' for true, unless otherwise stated. (Important exception: the Boolean operations 'or' and 'and' always return one of their operands.)\n",
    "\n",
    "## Python Assignment Operators\n",
    "\n",
    "| Operator | Description |\n",
    "|----------|-------------|\n",
    "| =  | a=b takes the value of b and assigns it to a |\n",
    "| += | a+=b is equivalent to a=a+b |\n",
    "| *= | a*=b is equivalent to a=a\\*b |\n",
    "| /= | a/=b is equivalent to a=a/b |\n",
    "| %= | a%=b is equivalent to a=a%b |\n",
    "| \\*\\*= | a\\*\\*=b is equivalent to a=a\\*\\*b (exponent operator) |\n",
    "| //= | a//=b is equivalent to a=a//b (floor division) |"
   ]
  },
  {
   "cell_type": "code",
   "execution_count": 181,
   "metadata": {},
   "outputs": [
    {
     "name": "stdout",
     "output_type": "stream",
     "text": [
      "a: 3\n",
      "b: 4\n",
      "a: 7\n",
      "b: 4\n"
     ]
    }
   ],
   "source": [
    "# take two variable, assign values with assignment operators\n",
    "a=3\n",
    "b=4\n",
    "\n",
    "print(\"a: \"+str(a))\n",
    "print(\"b: \"+str(b))\n",
    "\n",
    "# it is equivalent to a=a+b\n",
    "a+=b\n",
    "\n",
    "print(\"a: \"+str(a))\n",
    "print(\"b: \"+str(b))"
   ]
  },
  {
   "cell_type": "code",
   "execution_count": 182,
   "metadata": {},
   "outputs": [
    {
     "name": "stdout",
     "output_type": "stream",
     "text": [
      "a: 28\n",
      "b: 4\n"
     ]
    }
   ],
   "source": [
    "# it is equivalent to a=a*b\n",
    "a*=b\n",
    "print(\"a: \"+str(a))\n",
    "print(\"b: \"+str(b))"
   ]
  },
  {
   "cell_type": "code",
   "execution_count": 183,
   "metadata": {},
   "outputs": [
    {
     "name": "stdout",
     "output_type": "stream",
     "text": [
      "a: 7.0\n",
      "b: 4\n"
     ]
    }
   ],
   "source": [
    "# it is equivalent to a=a/b\n",
    "a/=b\n",
    "print(\"a: \"+str(a))\n",
    "print(\"b: \"+str(b))"
   ]
  },
  {
   "cell_type": "code",
   "execution_count": 184,
   "metadata": {},
   "outputs": [
    {
     "name": "stdout",
     "output_type": "stream",
     "text": [
      "a: 3.0\n",
      "b: 4\n"
     ]
    }
   ],
   "source": [
    "# it is equivalent to a=a%b\n",
    "a%=b\n",
    "print(\"a: \"+str(a))\n",
    "print(\"b: \"+str(b))"
   ]
  },
  {
   "cell_type": "code",
   "execution_count": 185,
   "metadata": {},
   "outputs": [
    {
     "name": "stdout",
     "output_type": "stream",
     "text": [
      "a: 81.0\n",
      "b: 4\n"
     ]
    }
   ],
   "source": [
    "# it is equivalent to a=a**b ( exponent operator)\n",
    "a**=b\n",
    "print(\"a: \"+str(a))\n",
    "print(\"b: \"+str(b))"
   ]
  },
  {
   "cell_type": "code",
   "execution_count": 186,
   "metadata": {},
   "outputs": [
    {
     "name": "stdout",
     "output_type": "stream",
     "text": [
      "a: 20.0\n",
      "b: 4\n"
     ]
    }
   ],
   "source": [
    "# it is equivalent to a=a//b ( floor division)\n",
    "a//=b\n",
    "print(\"a: \"+str(a))\n",
    "print(\"b: \"+str(b))"
   ]
  },
  {
   "cell_type": "markdown",
   "metadata": {},
   "source": [
    "## Python Operator Precedence\n",
    "\n",
    "Precedence of python operators means the priority level of operators. This becomes vital when an expression has \n",
    "multiple operators in it. For example consider the following expression:"
   ]
  },
  {
   "cell_type": "code",
   "execution_count": 187,
   "metadata": {},
   "outputs": [
    {
     "name": "stdout",
     "output_type": "stream",
     "text": [
      "14\n"
     ]
    }
   ],
   "source": [
    "print(2+3*4and5/-21*20)  "
   ]
  },
  {
   "cell_type": "markdown",
   "metadata": {},
   "source": [
    "Now, what do you think the series of operation would be? We can add 2 and 3, then multiply the result by 4. \n",
    "Also, we can multiply 3 and 4 first, then add 2 with it. Here we can see that the operators’ precedence is \n",
    "important.\n",
    "\n",
    "Below is a list of operators indicating the precedence level. It’s in descending order. That means the upper \n",
    "group has more precedence than that of the lower group.\n",
    "\n",
    "1. Parenthesis – ()\n",
    "2. Exponentiation – \\*\\*\n",
    "3. Compliment, unary plus and minus – ~, +, -\n",
    "4. Multiply, Divide, modulo – \\*, /, %\n",
    "5. Addition and Subtraction – +, -\n",
    "6. Right and Left Shift – >>, <<\n",
    "7. Bitwise AND – &\n",
    "8. Bitwise OR and XOR – \\|, ^\n",
    "9. Comparison Operators – ==, !=, >, <, >=, <=\n",
    "10. Assignment Operator - =\n",
    "\n",
    "> **Note:** The order of execution of the operators follow PEMDAS and the precedence is:\n",
    "> * Parentheses (simplify inside 'em)\n",
    "> * Exponents\n",
    "> * Multiplication and Division (from left to right)\n",
    "> * Addition and Subtraction (from left to right)"
   ]
  },
  {
   "cell_type": "code",
   "execution_count": null,
   "metadata": {},
   "outputs": [],
   "source": []
  },
  {
   "cell_type": "code",
   "execution_count": null,
   "metadata": {},
   "outputs": [],
   "source": []
  }
 ],
 "metadata": {
  "kernelspec": {
   "display_name": "Python 3",
   "language": "python",
   "name": "python3"
  },
  "language_info": {
   "codemirror_mode": {
    "name": "ipython",
    "version": 3
   },
   "file_extension": ".py",
   "mimetype": "text/x-python",
   "name": "python",
   "nbconvert_exporter": "python",
   "pygments_lexer": "ipython3",
   "version": "3.8.7"
  }
 },
 "nbformat": 4,
 "nbformat_minor": 4
}
