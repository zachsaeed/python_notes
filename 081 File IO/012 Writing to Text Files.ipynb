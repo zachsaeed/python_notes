{
 "cells": [
  {
   "cell_type": "markdown",
   "id": "6da34415",
   "metadata": {},
   "source": [
    "# Writing to files\n",
    "\n",
    "- To write to a file you have to open it first (regardless if it exists or not)\n",
    "- Need to specify the 'w' flag as an argument to open() to 'w'rite. The 'r' flag is for 'r'eading and is default so we did not provide it to open()\n",
    "\n",
    "First example:"
   ]
  },
  {
   "cell_type": "code",
   "execution_count": 4,
   "id": "79d87b18",
   "metadata": {},
   "outputs": [],
   "source": [
    "with open(\"./files/haiku.txt\", 'w') as file:\n",
    "    file.write(\"Writing files is great\\n\")\n",
    "    file.write(\"Here's another line of text\\n\")\n",
    "    file.write(\"Closing now, goodbye!\\n\")"
   ]
  },
  {
   "cell_type": "markdown",
   "id": "6c4a7bfe",
   "metadata": {},
   "source": [
    "Once you run the above code, if haiku does not exist, it will create a new file (./files/haiku.txt) and write to it. \n",
    "\n",
    "Since this is a with-as block, the file will be closed() automatically. \n",
    "> Notice , that since we passed the 'w' flag to open, we cannot use the read() method.\n",
    "\n",
    "Now lets reopen and add some more text to our newly created file:"
   ]
  },
  {
   "cell_type": "code",
   "execution_count": 5,
   "id": "93b9da83",
   "metadata": {},
   "outputs": [],
   "source": [
    "with open(\"./files/haiku.txt\", 'w') as file:\n",
    "    file.write(\"Here's one more haiku\\n\")\n",
    "    file.write(\"What about the older one?\\n\")\n",
    "    file.write(\"Let's check it out\\n\")"
   ]
  },
  {
   "cell_type": "markdown",
   "id": "25eca4b6",
   "metadata": {},
   "source": [
    "If you open the txt file (notepad etc), you will see that rather than adding the new text, it has replaced the old one. This is because when the file is opened, the cursor starts from the beginning."
   ]
  },
  {
   "cell_type": "code",
   "execution_count": null,
   "id": "a1a38ce2",
   "metadata": {},
   "outputs": [],
   "source": []
  }
 ],
 "metadata": {
  "kernelspec": {
   "display_name": "Python 3",
   "language": "python",
   "name": "python3"
  },
  "language_info": {
   "codemirror_mode": {
    "name": "ipython",
    "version": 3
   },
   "file_extension": ".py",
   "mimetype": "text/x-python",
   "name": "python",
   "nbconvert_exporter": "python",
   "pygments_lexer": "ipython3",
   "version": "3.8.10"
  }
 },
 "nbformat": 4,
 "nbformat_minor": 5
}
