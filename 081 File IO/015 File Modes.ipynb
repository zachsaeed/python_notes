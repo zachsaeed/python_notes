{
 "cells": [
  {
   "cell_type": "markdown",
   "id": "d88b37e7",
   "metadata": {},
   "source": [
    "# Modes for opening files\n",
    "\n",
    "We have already seen two modes when opening a file. 'r' (which is also the default) to open files for reading and 'w' which to open files for writing (but it overwrites anything already in the file).\n",
    "\n",
    "There are other modes too which can be seen in the chart here:\n",
    "https://docs.python.org/3/library/functions.html#open\n",
    "\n",
    "We will look into the commonly used ones:\n",
    "\n",
    "- r - Read a file (no writing). This is the default\n",
    "- w - Write to a file (Previous contents removed)\n",
    "- a - Append to a file (Previous contents not removed) It always adds to the end. Even if you use seek(0) to move cursor to begining, calling write() will still append to the end"
   ]
  },
  {
   "cell_type": "code",
   "execution_count": 2,
   "id": "5f31ba5c",
   "metadata": {},
   "outputs": [],
   "source": [
    "with open(\"./files/haiku.txt\", 'a') as file:  # open using mode = 'a'\n",
    "    file.seek(0)  # Has no effect\n",
    "    file.write(\"Appended text\\n\") # Appends at the end"
   ]
  },
  {
   "cell_type": "markdown",
   "id": "7fd3874e",
   "metadata": {},
   "source": [
    "- r+ = Read and write to a file (writing based on cursor)"
   ]
  },
  {
   "cell_type": "code",
   "execution_count": 3,
   "id": "69720a7f",
   "metadata": {},
   "outputs": [],
   "source": [
    "with open(\"./files/haiku.txt\", 'r+') as file:  # open using mode = 'r+'    \n",
    "    file.write(\"ADDED USING r+\\n\") "
   ]
  },
  {
   "cell_type": "markdown",
   "id": "76952507",
   "metadata": {},
   "source": [
    "Open the file and you will see that the new string was added to the beginning of the file by default. It starts the cursor from the begining of the file and therefore it overwrote what was already there.\n",
    "\n",
    "Now lets seek to poisiton 10 and write:"
   ]
  },
  {
   "cell_type": "code",
   "execution_count": 4,
   "id": "b6039c59",
   "metadata": {},
   "outputs": [],
   "source": [
    "with open(\"./files/haiku.txt\", 'r+') as file:  # open using mode = 'r+'    \n",
    "    file.write(\":)\")\n",
    "    file.seek(10)\n",
    "    file.write(\":(\")"
   ]
  },
  {
   "cell_type": "markdown",
   "id": "176a5436",
   "metadata": {},
   "source": [
    "> Note: Unlike 'w' or 'a', if the file does not exist, 'r+' does not create a file and raises an exception. It only works with an existing file"
   ]
  },
  {
   "cell_type": "code",
   "execution_count": 5,
   "id": "14701da5",
   "metadata": {},
   "outputs": [
    {
     "ename": "FileNotFoundError",
     "evalue": "[Errno 2] No such file or directory: './files/doesnotexist.txt'",
     "output_type": "error",
     "traceback": [
      "\u001b[1;31m---------------------------------------------------------------------------\u001b[0m",
      "\u001b[1;31mFileNotFoundError\u001b[0m                         Traceback (most recent call last)",
      "\u001b[1;32m<ipython-input-5-0e6c9b9add33>\u001b[0m in \u001b[0;36m<module>\u001b[1;34m\u001b[0m\n\u001b[1;32m----> 1\u001b[1;33m \u001b[1;32mwith\u001b[0m \u001b[0mopen\u001b[0m\u001b[1;33m(\u001b[0m\u001b[1;34m\"./files/doesnotexist.txt\"\u001b[0m\u001b[1;33m,\u001b[0m \u001b[1;34m'r+'\u001b[0m\u001b[1;33m)\u001b[0m \u001b[1;32mas\u001b[0m \u001b[0mfile\u001b[0m\u001b[1;33m:\u001b[0m  \u001b[1;31m# open using mode = 'r+'\u001b[0m\u001b[1;33m\u001b[0m\u001b[1;33m\u001b[0m\u001b[0m\n\u001b[0m\u001b[0;32m      2\u001b[0m     \u001b[0mfile\u001b[0m\u001b[1;33m.\u001b[0m\u001b[0mwrite\u001b[0m\u001b[1;33m(\u001b[0m\u001b[1;34m\":)\"\u001b[0m\u001b[1;33m)\u001b[0m\u001b[1;33m\u001b[0m\u001b[1;33m\u001b[0m\u001b[0m\n\u001b[0;32m      3\u001b[0m     \u001b[0mfile\u001b[0m\u001b[1;33m.\u001b[0m\u001b[0mseek\u001b[0m\u001b[1;33m(\u001b[0m\u001b[1;36m10\u001b[0m\u001b[1;33m)\u001b[0m\u001b[1;33m\u001b[0m\u001b[1;33m\u001b[0m\u001b[0m\n\u001b[0;32m      4\u001b[0m     \u001b[0mfile\u001b[0m\u001b[1;33m.\u001b[0m\u001b[0mwrite\u001b[0m\u001b[1;33m(\u001b[0m\u001b[1;34m\":(\"\u001b[0m\u001b[1;33m)\u001b[0m\u001b[1;33m\u001b[0m\u001b[1;33m\u001b[0m\u001b[0m\n",
      "\u001b[1;31mFileNotFoundError\u001b[0m: [Errno 2] No such file or directory: './files/doesnotexist.txt'"
     ]
    }
   ],
   "source": [
    "with open(\"./files/doesnotexist.txt\", 'r+') as file:  # open using mode = 'r+'    \n",
    "    file.write(\":)\")\n",
    "    file.seek(10)\n",
    "    file.write(\":(\")"
   ]
  },
  {
   "cell_type": "code",
   "execution_count": null,
   "id": "c0593976",
   "metadata": {},
   "outputs": [],
   "source": []
  }
 ],
 "metadata": {
  "kernelspec": {
   "display_name": "Python 3",
   "language": "python",
   "name": "python3"
  },
  "language_info": {
   "codemirror_mode": {
    "name": "ipython",
    "version": 3
   },
   "file_extension": ".py",
   "mimetype": "text/x-python",
   "name": "python",
   "nbconvert_exporter": "python",
   "pygments_lexer": "ipython3",
   "version": "3.8.10"
  }
 },
 "nbformat": 4,
 "nbformat_minor": 5
}
