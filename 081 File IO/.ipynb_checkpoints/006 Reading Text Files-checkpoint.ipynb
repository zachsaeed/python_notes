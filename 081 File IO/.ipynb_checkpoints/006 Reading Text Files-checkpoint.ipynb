{
 "cells": [
  {
   "cell_type": "markdown",
   "id": "e9321141",
   "metadata": {},
   "source": [
    "# Reading Text Files \n",
    "\n",
    "## Using open() built-in function\n",
    "\n",
    "We can read a file using the open() function. The minimum argument it takes is the file path/name and returns a file object. The rest of the parameters are optional. Function signature:\n",
    "\n",
    "open(file, mode='r', buffering=-1, encoding=None, errors=None, newline=None, closefd=True, opener=None)\n",
    "FOr details: https://docs.python.org/3/library/functions.html#open"
   ]
  },
  {
   "cell_type": "code",
   "execution_count": 8,
   "id": "0deba565",
   "metadata": {},
   "outputs": [],
   "source": [
    "my_file_obj = open(\"./files/story.txt\")"
   ]
  },
  {
   "cell_type": "markdown",
   "id": "eb6219f3",
   "metadata": {},
   "source": [
    "## The file object:\n",
    "\n",
    "The file object returned by open has a lot of details about the file (meta-data) Aswell as the data itself. Meta-data is information about the file like permissions, type of file, when it was last created or modified etc.\n",
    "The file object has a read() method which returns the contents of the file.\n",
    "\n",
    "If we print 'my_file_obj':"
   ]
  },
  {
   "cell_type": "code",
   "execution_count": 9,
   "id": "f563ed8f",
   "metadata": {},
   "outputs": [
    {
     "data": {
      "text/plain": [
       "<_io.TextIOWrapper name='./files/story.txt' mode='r' encoding='cp1252'>"
      ]
     },
     "execution_count": 9,
     "metadata": {},
     "output_type": "execute_result"
    }
   ],
   "source": [
    "my_file_obj"
   ]
  },
  {
   "cell_type": "markdown",
   "id": "065b014c",
   "metadata": {},
   "source": [
    "You can see from the way it is printed out, it is an instance of TextIOWrapper class and the instance has a filename, read mode (r represents read only which) whcih is a default argument in open and encoding whcih the txt file uses.\n",
    "\n",
    "More about TestIOWrapper: https://docs.python.org/3/library/io.html#io.TextIOWrapper\n",
    "\n",
    "## TextIOWrapper.read()\n",
    "We can use a method in this object called read() to get the contents of the file:"
   ]
  },
  {
   "cell_type": "code",
   "execution_count": 13,
   "id": "607a399c",
   "metadata": {},
   "outputs": [
    {
     "data": {
      "text/plain": [
       "''"
      ]
     },
     "execution_count": 13,
     "metadata": {},
     "output_type": "execute_result"
    }
   ],
   "source": [
    "my_file_obj.read()"
   ]
  },
  {
   "cell_type": "markdown",
   "id": "2b5366ce",
   "metadata": {},
   "source": [
    "The read method takes a number. In our case, a default value of -1 is used. A -ve number or None reads the whole file until EOF (End of file)\n",
    "\n",
    "> Note: read() method is defined in the TextIOBase class which is a super class of TextIOWrapper where it is inherited.\n",
    "https://docs.python.org/3/library/io.html#io.TextIOBase.read\n"
   ]
  },
  {
   "cell_type": "markdown",
   "id": "544f3e08",
   "metadata": {},
   "source": [
    "## Cursor movement:\n",
    "If we call read() again, it does not print the contents again:"
   ]
  },
  {
   "cell_type": "code",
   "execution_count": 14,
   "id": "0aa8d613",
   "metadata": {},
   "outputs": [
    {
     "data": {
      "text/plain": [
       "''"
      ]
     },
     "execution_count": 14,
     "metadata": {},
     "output_type": "execute_result"
    }
   ],
   "source": [
    "my_file_obj.read()"
   ]
  },
  {
   "cell_type": "markdown",
   "id": "4d6825c0",
   "metadata": {},
   "source": [
    "This is because pytohn reads a file using a cursor. This is like the cursor we see when we are typing.\n",
    "\n",
    "After a file is read(), the cursor goes to the end of file. Therefore, when we call read() again, there's nothing to read where the cursor is so it prints empty"
   ]
  },
  {
   "cell_type": "markdown",
   "id": "2ae366b6",
   "metadata": {},
   "source": [
    "## seek()\n",
    "\n",
    "We can move the position of the cursor using the seek() method. To see how, lets open the file using the above code again:"
   ]
  },
  {
   "cell_type": "code",
   "execution_count": 17,
   "id": "2d0bd877",
   "metadata": {},
   "outputs": [
    {
     "data": {
      "text/plain": [
       "'This short story is really short\\n'"
      ]
     },
     "execution_count": 17,
     "metadata": {},
     "output_type": "execute_result"
    }
   ],
   "source": [
    "my_file_obj = open(\"./files/story.txt\")\n",
    "my_file_obj.read()"
   ]
  },
  {
   "cell_type": "markdown",
   "id": "a52f3873",
   "metadata": {},
   "source": [
    "call the read() method again print empty string as cursor is in the end:"
   ]
  },
  {
   "cell_type": "code",
   "execution_count": 18,
   "id": "be15a708",
   "metadata": {},
   "outputs": [
    {
     "data": {
      "text/plain": [
       "''"
      ]
     },
     "execution_count": 18,
     "metadata": {},
     "output_type": "execute_result"
    }
   ],
   "source": [
    "my_file_obj.read()"
   ]
  },
  {
   "cell_type": "markdown",
   "id": "256d390d",
   "metadata": {},
   "source": [
    "We can call seek() and give the cursor a position to move (cursor position starts from 0 all the way to the end of file (EOF))"
   ]
  },
  {
   "cell_type": "code",
   "execution_count": 19,
   "id": "dffec034",
   "metadata": {},
   "outputs": [
    {
     "data": {
      "text/plain": [
       "' story is really short\\n'"
      ]
     },
     "execution_count": 19,
     "metadata": {},
     "output_type": "execute_result"
    }
   ],
   "source": [
    "my_file_obj.seek(10)  # Move to the tenth position\n",
    "my_file_obj.read()"
   ]
  },
  {
   "cell_type": "markdown",
   "id": "76c8ff38",
   "metadata": {},
   "source": [
    "Above, read() now starts reading from the cursor which is at the 10th position. The cursor has moved to the end position again so another read() will return empty:"
   ]
  },
  {
   "cell_type": "code",
   "execution_count": 20,
   "id": "b2194742",
   "metadata": {},
   "outputs": [
    {
     "data": {
      "text/plain": [
       "''"
      ]
     },
     "execution_count": 20,
     "metadata": {},
     "output_type": "execute_result"
    }
   ],
   "source": [
    "my_file_obj.read()"
   ]
  },
  {
   "cell_type": "markdown",
   "id": "b5fed87c",
   "metadata": {},
   "source": [
    "## readline()\n",
    "readline() reads and returns one line and moves the cursor to the beginning of the next line. So everytime we call readline, a new line is returned."
   ]
  },
  {
   "cell_type": "code",
   "execution_count": 22,
   "id": "84369c15",
   "metadata": {},
   "outputs": [
    {
     "data": {
      "text/plain": [
       "'Guest rooms were always hiding things. \\n'"
      ]
     },
     "execution_count": 22,
     "metadata": {},
     "output_type": "execute_result"
    }
   ],
   "source": [
    "my_file_obj = open(\"./files/multilinestory.txt\")\n",
    "my_file_obj.readline()"
   ]
  },
  {
   "cell_type": "code",
   "execution_count": 23,
   "id": "dcbbcab9",
   "metadata": {},
   "outputs": [
    {
     "data": {
      "text/plain": [
       "'No one starts out wanting a guest room. \\n'"
      ]
     },
     "execution_count": 23,
     "metadata": {},
     "output_type": "execute_result"
    }
   ],
   "source": [
    "my_file_obj.readline()"
   ]
  },
  {
   "cell_type": "markdown",
   "id": "b86ce2c7",
   "metadata": {},
   "source": [
    "## readlines()\n",
    "readlines() reads all the lines and puts them in a list and moves the cursor to the end"
   ]
  },
  {
   "cell_type": "code",
   "execution_count": 24,
   "id": "327b3478",
   "metadata": {},
   "outputs": [
    {
     "data": {
      "text/plain": [
       "['Itâ€™s usually an office first, but then you got fired and canâ€™t look at it anymore, so you throw a bed in it that youâ€™ll never sleep in. \\n',\n",
       " 'Sometimes itâ€™s a kidâ€™s room, but theyâ€™ve moved out into a college dorm room. \\n',\n",
       " 'It used to be storage but then the divorce happened leaving it depressingly empty. \\n',\n",
       " 'A studio for recording music but the bass player was in a car accident, and the band broke up.\\n',\n",
       " '\\n',\n",
       " 'Guest rooms are rarely ever intentional. \\n',\n",
       " 'Itâ€™s more of a ritual. Something society has deemed necessary. \\n',\n",
       " 'The presumption that someone wants to stay with you and your new husband.']"
      ]
     },
     "execution_count": 24,
     "metadata": {},
     "output_type": "execute_result"
    }
   ],
   "source": [
    "my_file_obj.readlines()"
   ]
  },
  {
   "cell_type": "markdown",
   "id": "a5514f33",
   "metadata": {},
   "source": [
    "> Notice, that it has started reading from the cursor's last position which was on line 3"
   ]
  },
  {
   "cell_type": "markdown",
   "id": "c6778ff9",
   "metadata": {},
   "source": [
    "cursor is in the end, so any type of read method we call will return empty:"
   ]
  },
  {
   "cell_type": "code",
   "execution_count": 26,
   "id": "cc58c03c",
   "metadata": {},
   "outputs": [
    {
     "data": {
      "text/plain": [
       "[]"
      ]
     },
     "execution_count": 26,
     "metadata": {},
     "output_type": "execute_result"
    }
   ],
   "source": [
    "my_file_obj.readlines()"
   ]
  },
  {
   "cell_type": "code",
   "execution_count": 27,
   "id": "30d4f061",
   "metadata": {},
   "outputs": [
    {
     "data": {
      "text/plain": [
       "''"
      ]
     },
     "execution_count": 27,
     "metadata": {},
     "output_type": "execute_result"
    }
   ],
   "source": [
    "my_file_obj.readline()"
   ]
  },
  {
   "cell_type": "code",
   "execution_count": 28,
   "id": "9b70592f",
   "metadata": {},
   "outputs": [
    {
     "data": {
      "text/plain": [
       "''"
      ]
     },
     "execution_count": 28,
     "metadata": {},
     "output_type": "execute_result"
    }
   ],
   "source": [
    "my_file_obj.read()"
   ]
  },
  {
   "cell_type": "markdown",
   "id": "6608214d",
   "metadata": {},
   "source": [
    "close()\n",
    "Once we finish reading from a file, it is important to close them otherwise the file stays open and uses system resources.  Oncce closed, a file cannot be read() or seek() again, until you open() it again.\n",
    "\n",
    "> Note: A file once opened, does not load the whole file in memory. It just retains a connection / tunnel to the file. Therefore, if you edit a txt file and save it while it is open in python, the cursor can still read the newly added lines. For example:"
   ]
  },
  {
   "cell_type": "code",
   "execution_count": 29,
   "id": "aee24bb3",
   "metadata": {},
   "outputs": [
    {
     "data": {
      "text/plain": [
       "'This short story is really short\\n'"
      ]
     },
     "execution_count": 29,
     "metadata": {},
     "output_type": "execute_result"
    }
   ],
   "source": [
    "my_file_obj = open(\"./files/story.txt\")\n",
    "my_file_obj.read()"
   ]
  },
  {
   "cell_type": "code",
   "execution_count": 30,
   "id": "2b9cc402",
   "metadata": {},
   "outputs": [
    {
     "data": {
      "text/plain": [
       "''"
      ]
     },
     "execution_count": 30,
     "metadata": {},
     "output_type": "execute_result"
    }
   ],
   "source": [
    "my_file_obj.read()"
   ]
  },
  {
   "cell_type": "markdown",
   "id": "84ce1467",
   "metadata": {},
   "source": [
    "The above read gives an empty result. Now open the text file (in notepad for example), add a new line to it, save it and call the read method in python"
   ]
  },
  {
   "cell_type": "code",
   "execution_count": null,
   "id": "be417660",
   "metadata": {},
   "outputs": [],
   "source": [
    "my_file_obj.read()"
   ]
  },
  {
   "cell_type": "markdown",
   "id": "4e90228e",
   "metadata": {},
   "source": [
    "This returns the new line. This makes it important to close a file to close this tunnel and free up some resources. \n",
    "\n",
    "We can check if a file is closed with the 'closed' boolean attribute."
   ]
  },
  {
   "cell_type": "code",
   "execution_count": 31,
   "id": "268532bf",
   "metadata": {},
   "outputs": [
    {
     "data": {
      "text/plain": [
       "False"
      ]
     },
     "execution_count": 31,
     "metadata": {},
     "output_type": "execute_result"
    }
   ],
   "source": [
    "my_file_obj.closed  "
   ]
  },
  {
   "cell_type": "code",
   "execution_count": 32,
   "id": "5e692f00",
   "metadata": {},
   "outputs": [],
   "source": [
    "my_file_obj.close()"
   ]
  },
  {
   "cell_type": "code",
   "execution_count": 33,
   "id": "db18782a",
   "metadata": {},
   "outputs": [
    {
     "data": {
      "text/plain": [
       "True"
      ]
     },
     "execution_count": 33,
     "metadata": {},
     "output_type": "execute_result"
    }
   ],
   "source": [
    "my_file_obj.closed"
   ]
  },
  {
   "cell_type": "markdown",
   "id": "2047d8e4",
   "metadata": {},
   "source": [
    "The file.closed returns True which proves it is now closed. Now if we try to read the file, it will raise an exception:\n",
    "    "
   ]
  },
  {
   "cell_type": "code",
   "execution_count": 36,
   "id": "9c1f83a3",
   "metadata": {},
   "outputs": [
    {
     "ename": "ValueError",
     "evalue": "I/O operation on closed file.",
     "output_type": "error",
     "traceback": [
      "\u001b[1;31m---------------------------------------------------------------------------\u001b[0m",
      "\u001b[1;31mValueError\u001b[0m                                Traceback (most recent call last)",
      "\u001b[1;32m<ipython-input-36-e6492de24b8f>\u001b[0m in \u001b[0;36m<module>\u001b[1;34m\u001b[0m\n\u001b[1;32m----> 1\u001b[1;33m \u001b[0mmy_file_obj\u001b[0m\u001b[1;33m.\u001b[0m\u001b[0mread\u001b[0m\u001b[1;33m(\u001b[0m\u001b[1;33m)\u001b[0m\u001b[1;33m\u001b[0m\u001b[1;33m\u001b[0m\u001b[0m\n\u001b[0m",
      "\u001b[1;31mValueError\u001b[0m: I/O operation on closed file."
     ]
    }
   ],
   "source": [
    "my_file_obj.read()"
   ]
  },
  {
   "cell_type": "code",
   "execution_count": 38,
   "id": "03bcd475",
   "metadata": {},
   "outputs": [
    {
     "ename": "ValueError",
     "evalue": "I/O operation on closed file.",
     "output_type": "error",
     "traceback": [
      "\u001b[1;31m---------------------------------------------------------------------------\u001b[0m",
      "\u001b[1;31mValueError\u001b[0m                                Traceback (most recent call last)",
      "\u001b[1;32m<ipython-input-38-8e2e4c8b5d22>\u001b[0m in \u001b[0;36m<module>\u001b[1;34m\u001b[0m\n\u001b[1;32m----> 1\u001b[1;33m \u001b[0mmy_file_obj\u001b[0m\u001b[1;33m.\u001b[0m\u001b[0mseek\u001b[0m\u001b[1;33m(\u001b[0m\u001b[1;36m2\u001b[0m\u001b[1;33m)\u001b[0m\u001b[1;33m\u001b[0m\u001b[1;33m\u001b[0m\u001b[0m\n\u001b[0m",
      "\u001b[1;31mValueError\u001b[0m: I/O operation on closed file."
     ]
    }
   ],
   "source": [
    "my_file_obj.seek(2)"
   ]
  },
  {
   "cell_type": "code",
   "execution_count": null,
   "id": "f5d085f4",
   "metadata": {},
   "outputs": [],
   "source": []
  }
 ],
 "metadata": {
  "kernelspec": {
   "display_name": "Python 3",
   "language": "python",
   "name": "python3"
  },
  "language_info": {
   "codemirror_mode": {
    "name": "ipython",
    "version": 3
   },
   "file_extension": ".py",
   "mimetype": "text/x-python",
   "name": "python",
   "nbconvert_exporter": "python",
   "pygments_lexer": "ipython3",
   "version": "3.8.10"
  }
 },
 "nbformat": 4,
 "nbformat_minor": 5
}
