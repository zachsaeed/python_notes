{
 "cells": [
  {
   "cell_type": "markdown",
   "id": "ec15a0d1",
   "metadata": {},
   "source": [
    "# Intro\n",
    "\n",
    "FileIO is a crucial topic for datascience.\n",
    "\n",
    "In datascience we often work with datasets For example in the form of thousands and thousands lines of csv, xml, yaml or json files which we can read and analyze with python.\n",
    "\n",
    "We can also read files in one format for example and writing inanother for example pdf format.\n",
    "\n",
    "Most data is in csv, xml, yaml or json format. These are actually text files in which data is defined in a certain syntax and have their own extensions (instead of .txt). A quick look at these file formats:\n",
    "\n",
    "## csv:\n",
    "A CSV is a comma-separated values file, which allows data to be saved in a tabular format. CSVs look like a garden-variety spreadsheet but with a . csv extension. CSV files can be used with most any spreadsheet program, such as Microsoft Excel or Google Spreadsheets. \n",
    "\n",
    "For example: ./files/cities.csv\n",
    "\n",
    "The first line represents the columns, all the lines from then represent rows of data. If you save the above block in a text file with a csv extension, you can open it in excel to see the contents.\n",
    "\n",
    "\n",
    "## xml:\n",
    "A file with the .xml file extension is an Extensible Markup Language (XML) file. These are really just plain text files that use custom tags to describe the structure and other features of the document. \n",
    "\n",
    "For example: ./files/XMLSample.xml\n",
    "\n",
    "EVerything between <a_tag> and </a_tag> is data. You can create tags with any tag which can be nested to any depth. Like CSV, this data is not 2-dimensional. If you save the above block in a text file with a xml extension, you can open it in internet explorer to see the contents.\n",
    "\n",
    "## JSON files\n",
    "A JSON file is a file that stores simple data structures and objects in JavaScript Object Notation (JSON) format, which is a standard data interchange format. It is primarily used for transmitting data between a web application and a server. JSON files are lightweight, text-based, human-readable, and can be edited using a text editor.\n",
    "\n",
    "For example: ./files/JSONsample.json\n",
    " \n",
    "The data structure of JSON is the same as an xml file except that we dont use tags. Instead it is structured like nested lists and dictionaries\n",
    "\n",
    "\n"
   ]
  },
  {
   "cell_type": "markdown",
   "id": "11467681",
   "metadata": {},
   "source": [
    "We have a lot of other file formats (Both txt and non-text) which can be read using python's file io. Some of them have their own classes which can make sense of the specific data format (Non txt files)"
   ]
  },
  {
   "cell_type": "code",
   "execution_count": null,
   "id": "143e4b6f",
   "metadata": {},
   "outputs": [],
   "source": []
  }
 ],
 "metadata": {
  "kernelspec": {
   "display_name": "Python 3",
   "language": "python",
   "name": "python3"
  },
  "language_info": {
   "codemirror_mode": {
    "name": "ipython",
    "version": 3
   },
   "file_extension": ".py",
   "mimetype": "text/x-python",
   "name": "python",
   "nbconvert_exporter": "python",
   "pygments_lexer": "ipython3",
   "version": "3.8.10"
  }
 },
 "nbformat": 4,
 "nbformat_minor": 5
}
