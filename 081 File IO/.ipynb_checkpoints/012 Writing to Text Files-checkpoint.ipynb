{
 "cells": [
  {
   "cell_type": "markdown",
   "id": "371909f7",
   "metadata": {},
   "source": [
    "# Writing to files\n",
    "\n",
    "- To write to a file you have to open it first (regardless if it exists or not)\n",
    "- Need to specify the 'w' flag as an argument to open() to 'w'rite. The 'r' flag is for 'r'eading and is default so we did not provide it to open()\n",
    "\n",
    "First example:"
   ]
  },
  {
   "cell_type": "code",
   "execution_count": null,
   "id": "05250d34",
   "metadata": {},
   "outputs": [],
   "source": [
    "with open(\"./files/haiku.txt\", 'w') as file:\n",
    "    file.write(\"Writing files is great\\n\")\n",
    "    file.write(\"Here's another line of text\\n\")\n",
    "    file.write(\"Closing now, goodbye!\\n\")"
   ]
  }
 ],
 "metadata": {
  "kernelspec": {
   "display_name": "Python 3",
   "language": "python",
   "name": "python3"
  },
  "language_info": {
   "codemirror_mode": {
    "name": "ipython",
    "version": 3
   },
   "file_extension": ".py",
   "mimetype": "text/x-python",
   "name": "python",
   "nbconvert_exporter": "python",
   "pygments_lexer": "ipython3",
   "version": "3.8.10"
  }
 },
 "nbformat": 4,
 "nbformat_minor": 5
}
