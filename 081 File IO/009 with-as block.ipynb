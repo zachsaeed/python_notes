{
 "cells": [
  {
   "cell_type": "markdown",
   "id": "985d4d6c",
   "metadata": {},
   "source": [
    "# with-as block\n",
    "\n",
    "A with-as statement in Python is used in exception handling to make the code cleaner and much more readable. It simplifies the management of common resources like file streams.\n",
    "\n",
    "Observe the following code example related to file handling on how the use of with statement makes code cleaner.\n",
    "\n",
    "## 1. No exception handling:\n",
    "An exception during the file.read() call in the first implementation can prevent the file from closing properly which may introduce several bugs in the code, i.e. many changes in files do not go into effect until the file is properly  closed"
   ]
  },
  {
   "cell_type": "code",
   "execution_count": 6,
   "id": "c52380c8",
   "metadata": {},
   "outputs": [
    {
     "name": "stdout",
     "output_type": "stream",
     "text": [
      "This short story is really short\n",
      "\n",
      "True\n"
     ]
    }
   ],
   "source": [
    "my_file_obj = open(\"./files/story.txt\")\n",
    "\n",
    "print(my_file_obj.read())\n",
    "\n",
    "my_file_obj.close()\n",
    "\n",
    "print(my_file_obj.closed)"
   ]
  },
  {
   "cell_type": "markdown",
   "id": "9fc14fab",
   "metadata": {},
   "source": [
    "## 2. Exception handling using try except/finally blocks\n",
    "This is a proper way to take care of all exceptions but using the 'with' statement in the next example makes the code compact and much more readable."
   ]
  },
  {
   "cell_type": "code",
   "execution_count": 7,
   "id": "3fc48dd9",
   "metadata": {},
   "outputs": [
    {
     "name": "stdout",
     "output_type": "stream",
     "text": [
      "This short story is really short\n",
      "\n"
     ]
    }
   ],
   "source": [
    "file = open(\"./files/story.txt\")\n",
    "try:\n",
    "    print(file.read())\n",
    "finally:\n",
    "    file.close()"
   ]
  },
  {
   "cell_type": "markdown",
   "id": "5706d096",
   "metadata": {},
   "source": [
    "## 3. using with-as statement\n",
    "We will now look into a slightly different syntax which is basically the same exact process as above (behind the scenes):"
   ]
  },
  {
   "cell_type": "code",
   "execution_count": 8,
   "id": "5715771d",
   "metadata": {},
   "outputs": [
    {
     "name": "stdout",
     "output_type": "stream",
     "text": [
      "This short story is really short\n",
      "\n"
     ]
    },
    {
     "data": {
      "text/plain": [
       "True"
      ]
     },
     "execution_count": 8,
     "metadata": {},
     "output_type": "execute_result"
    }
   ],
   "source": [
    "with open(\"./files/story.txt\") as my_file_obj_2:\n",
    "    print(my_file_obj_2.read())\n",
    "    \n",
    "my_file_obj_2.closed  # True    "
   ]
  },
  {
   "cell_type": "markdown",
   "id": "86e8111d",
   "metadata": {},
   "source": [
    "Notice that unlike the first two implementations, there is no need to call file.close() when using with statement. The with statement itself ensures proper acquisition and release of resources. Thus, with statement helps avoiding bugs and leaks by ensuring that a resource is properly released when the code using the resource is completely executed.\n",
    "\n",
    "The with statement is popularly used with file streams, as shown above and with Locks, sockets, subprocesses and telnets etc."
   ]
  },
  {
   "cell_type": "markdown",
   "id": "4451cd0e",
   "metadata": {},
   "source": [
    "## Behind the scenes:\n",
    "\n",
    "The with-as block automatically calls a few dunder/magic methods which are defined inside of my_file_obj_2's TextIOWrapper class.\n",
    "\n",
    "The first one is \\_\\_enter\\_\\_() which returns the file object. Everytime we have a with block \\_\\_enter\\_\\_() is always called on the variable following 'as' (my_file_obj_2). This can be proved here:"
   ]
  },
  {
   "cell_type": "code",
   "execution_count": 9,
   "id": "fb53dd62",
   "metadata": {},
   "outputs": [
    {
     "data": {
      "text/plain": [
       "<_io.TextIOWrapper name='./files/story.txt' mode='r' encoding='cp1252'>"
      ]
     },
     "execution_count": 9,
     "metadata": {},
     "output_type": "execute_result"
    }
   ],
   "source": [
    "my_file_obj_3 = open(\"./files/story.txt\")\n",
    "my_file_obj_3.__enter__()"
   ]
  },
  {
   "cell_type": "markdown",
   "id": "19519e4d",
   "metadata": {},
   "source": [
    "The we have \\_\\_exit\\_\\_(). This is called on the variable following 'as' (my_file_obj_2) when the with-as block finishes execution no matter how it went, even if there was an error. It closes the file. Thgis can be proved here:"
   ]
  },
  {
   "cell_type": "code",
   "execution_count": 10,
   "id": "78c52069",
   "metadata": {},
   "outputs": [
    {
     "data": {
      "text/plain": [
       "True"
      ]
     },
     "execution_count": 10,
     "metadata": {},
     "output_type": "execute_result"
    }
   ],
   "source": [
    "my_file_obj_2.__exit__()\n",
    "my_file_obj_2.closed"
   ]
  },
  {
   "cell_type": "markdown",
   "id": "edad673e",
   "metadata": {},
   "source": [
    "Classes that have \\_\\_enter\\_\\_() and \\_\\_exit\\_\\_() methods to enable them to be used with with-as statements are called **Context managers**.\n",
    "\n",
    "## Our own custom Context Manager class (which can be passed to with-as):\n",
    "**Context managers** allow setup and cleanup actions to be taken for objects when their creation (constructor) is wrapped with a with-as statement. The behavior of the context manager is determined by two magic methods:\n",
    "\n",
    "### \\_\\_enter\\_\\_(self)\n",
    "Defines what the context manager should do at the beginning of the block created by the with statement. Note that the return value of \\_\\_enter\\_\\_ is bound to the target of the with statement, or the name after the as.\n",
    "\n",
    "### \\_\\_exit\\_\\_(self, exception_type, exception_value, traceback)\n",
    "Defines what the context manager should do after its block has been executed (or terminates). It can be used to handle exceptions, perform cleanup, or do something always done immediately after the action in the block. \n",
    "\n",
    "If the block executes successfully, exception_type, exception_value, and traceback will be None. Otherwise, you can choose to handle the exception or let the user handle it; if you want to handle it, make sure \\_\\_exit\\_\\_ returns True after all is said and done. If you don't want the exception to be handled by the context manager, just let it happen.\n",
    "\n",
    "\\_\\_enter\\_\\_ and \\_\\_exit\\_\\_ can be useful for specific classes that have well-defined and common behavior for setup and cleanup. You can also use these methods to create generic context managers that wrap other objects.\n",
    "\n",
    "Consider the following example for further clarification."
   ]
  },
  {
   "cell_type": "code",
   "execution_count": 24,
   "id": "5821bcda",
   "metadata": {},
   "outputs": [
    {
     "name": "stdout",
     "output_type": "stream",
     "text": [
      "Enter called\n",
      "65\n",
      "Exit called\n"
     ]
    }
   ],
   "source": [
    "class MySumClass:\n",
    "    \n",
    "    def __init__(self, a1, b2):\n",
    "        self.a = a1\n",
    "        self.b = b2\n",
    "        \n",
    "    def my_sum(self):\n",
    "        return self.a + self.b\n",
    "\n",
    "    # The following dunder / magic methods are called by with-as:\n",
    "    def __enter__(self):\n",
    "        print('Enter called')\n",
    "        return self  # returns the object\n",
    "    \n",
    "    def __exit__(self, type, value, traceback):\n",
    "        print('Exit called')\n",
    "            \n",
    "    \n",
    "with MySumClass(20, 45) as my_sum_obj:\n",
    "    print(my_sum_obj.my_sum())\n",
    "    \n",
    "    "
   ]
  },
  {
   "cell_type": "markdown",
   "id": "98289f0c",
   "metadata": {},
   "source": [
    "The above code is the same as:"
   ]
  },
  {
   "cell_type": "code",
   "execution_count": 26,
   "id": "90f37983",
   "metadata": {},
   "outputs": [
    {
     "name": "stdout",
     "output_type": "stream",
     "text": [
      "Enter called\n",
      "65\n",
      "Exit called\n"
     ]
    }
   ],
   "source": [
    "my_sum_obj = MySumClass(20, 45)\n",
    "print('Enter called')\n",
    "print(my_sum_obj.my_sum())\n",
    "print('Exit called')\n"
   ]
  },
  {
   "cell_type": "markdown",
   "id": "0412a0f8",
   "metadata": {},
   "source": [
    "ANother Example:"
   ]
  },
  {
   "cell_type": "code",
   "execution_count": null,
   "id": "14db8ba2",
   "metadata": {},
   "outputs": [],
   "source": [
    "# a simple file writer object\n",
    "class MessageWriter(object):\n",
    "    def __init__(self, file_name):\n",
    "        self.file_name = file_name\n",
    "\n",
    "    def __enter__(self):\n",
    "        self.file = open(self.file_name, 'w')\n",
    "        return self.file\n",
    "\n",
    "    def __exit__(self, exception_type, exception_value, traceback):\n",
    "        self.file.close()\n",
    "\n",
    "\n",
    "# using with statement with MessageWriter\n",
    "with MessageWriter('my_file.txt') as xfile:\n",
    "    xfile.write('hello world 2')"
   ]
  },
  {
   "cell_type": "markdown",
   "id": "b41b6e2c",
   "metadata": {},
   "source": [
    "- In the code above, what follows the with keyword is the constructor of MessageWriter.\n",
    "- As soon as the execution enters the context of the with statement a MessageWriter object is created and python then calls the \\_\\_enter\\_\\_() method. In this \\_\\_enter\\_\\_() method, initialize the resource you wish to use in the object.\n",
    "- This \\_\\_enter\\_\\_() method should always return a resource/file descriptor of the acquired resource.\n",
    "\n",
    "> **Note:** What are resource descriptors?\n",
    "> * These are the handles provided by the operating system to access the requested resources. In the precious code block, file is a descriptor of the file stream resource ie  file = open('hello.txt')\n",
    "> * In the MessageWriter example provided above, the \\_\\_enter\\_\\_() method creates a file descriptor and returns it. The name xfile here is used to refer to the file descriptor returned by the \\_\\_enter\\_\\_() method.\n",
    "> * The block of code which uses the acquired resource is placed inside the block of the with statement.\n",
    "> * As soon as the with block is executed, the \\_\\_exit\\_\\_() method is called. All the acquired resources are released in the \\_\\_exit\\_\\_() method. This is how we use the with statement with user defined objects.\n"
   ]
  },
  {
   "cell_type": "markdown",
   "id": "087002e7",
   "metadata": {},
   "source": [
    "# The contextlib module\n",
    "[https://docs.python.org/3/library/contextlib.html]\n",
    "> Note: Here, we require the knowledge of generators, decorators and yield.\n",
    "\n",
    "A class based context manager  as shown previously is not the only way to support the with statement in user defined objects. The contextlib module provides a few more abstractions built upon the basic context manager interface. Here is how we can rewrite the context manager for the MessageWriter object using the contextlib module."
   ]
  },
  {
   "cell_type": "code",
   "execution_count": 11,
   "id": "c6586a48",
   "metadata": {},
   "outputs": [],
   "source": [
    "from contextlib import contextmanager\n",
    "\n",
    "class MessageWriter(object):\n",
    "    def __init__(self, filename):\n",
    "        self.file_name = filename\n",
    "\n",
    "    @contextmanager\n",
    "    def open_file(self):\n",
    "        try:\n",
    "            file = open(self.file_name, 'w')\n",
    "            yield file\n",
    "        finally:\n",
    "            file.close()\n",
    "\n",
    "\n",
    "# usage\n",
    "message_writer = MessageWriter('hello.txt')\n",
    "with message_writer.open_file() as my_file:\n",
    "    my_file.write('hello world')"
   ]
  },
  {
   "cell_type": "markdown",
   "id": "9d4dfb81",
   "metadata": {},
   "source": [
    "* In this code example, because of the yield statement in its definition, the function open_file() is a generator function.\n",
    "* When this open_file() function is called, it creates a resource descriptor named file. This resource descriptor is then passed to the caller and is represented here by the variable my_file. After the code inside the with block is executed the program control returns back to the open_file() function. The open_file() function resumes its execution and executes the code following the yield statement. This part of code which appears after the yield statement releases the acquired resources. The @contextmanager here is a decorator.\n",
    "\n",
    "The previous class-based implementation and this generator-based implementation of context managers is internally the same. While the later seems more readable, it requires the knowledge of generators, decorators and yield."
   ]
  },
  {
   "cell_type": "code",
   "execution_count": null,
   "id": "8a6169aa",
   "metadata": {},
   "outputs": [],
   "source": []
  }
 ],
 "metadata": {
  "kernelspec": {
   "display_name": "Python 3",
   "language": "python",
   "name": "python3"
  },
  "language_info": {
   "codemirror_mode": {
    "name": "ipython",
    "version": 3
   },
   "file_extension": ".py",
   "mimetype": "text/x-python",
   "name": "python",
   "nbconvert_exporter": "python",
   "pygments_lexer": "ipython3",
   "version": "3.8.10"
  }
 },
 "nbformat": 4,
 "nbformat_minor": 5
}
