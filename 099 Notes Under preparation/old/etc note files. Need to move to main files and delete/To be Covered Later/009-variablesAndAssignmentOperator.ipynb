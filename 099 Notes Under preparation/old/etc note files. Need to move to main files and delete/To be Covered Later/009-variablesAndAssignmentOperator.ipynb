{
 "cells": [
  {
   "cell_type": "code",
   "execution_count": 4,
   "metadata": {},
   "outputs": [
    {
     "name": "stdout",
     "output_type": "stream",
     "text": [
      "10\n"
     ]
    }
   ],
   "source": [
    "# Note: Variables must be assigned before they can be used\n",
    "# Otherwise you get a name undefined error\n",
    "# variables\n",
    "jar = 10;\n",
    "print(jar)"
   ]
  },
  {
   "cell_type": "code",
   "execution_count": 5,
   "metadata": {},
   "outputs": [
    {
     "name": "stdout",
     "output_type": "stream",
     "text": [
      "10\n"
     ]
    }
   ],
   "source": [
    "# can be assigned to other variables\n",
    "box = jar;\n",
    "print(box)"
   ]
  },
  {
   "cell_type": "code",
   "execution_count": 6,
   "metadata": {},
   "outputs": [
    {
     "name": "stdout",
     "output_type": "stream",
     "text": [
      "SAQUIB\n"
     ]
    }
   ],
   "source": [
    "# can be reassigned\n",
    "box = \"SAQUIB\"\n",
    "print(box)"
   ]
  },
  {
   "cell_type": "code",
   "execution_count": 7,
   "metadata": {},
   "outputs": [
    {
     "name": "stdout",
     "output_type": "stream",
     "text": [
      "A\n",
      "1.5\n",
      "Zach\n"
     ]
    }
   ],
   "source": [
    "# Can be assigned at the ame time as other vars\n",
    "bottle, case, bag = 'A', 1.5, \"Zach\"\n",
    "print(bottle)\n",
    "print(case)\n",
    "print(bag)"
   ]
  },
  {
   "cell_type": "code",
   "execution_count": 9,
   "metadata": {},
   "outputs": [
    {
     "name": "stdout",
     "output_type": "stream",
     "text": [
      "A\n",
      "1.5\n",
      "Zach\n"
     ]
    }
   ],
   "source": [
    "# We can also use a list to assign each item to variables in a single line\n",
    "bottle, case, bag = ['A', 1.5, \"Zach\"]\n",
    "print(bottle)\n",
    "print(case)\n",
    "print(bag)"
   ]
  }
 ],
 "metadata": {
  "kernelspec": {
   "display_name": "Python 3",
   "language": "python",
   "name": "python3"
  },
  "language_info": {
   "codemirror_mode": {
    "name": "ipython",
    "version": 3
   },
   "file_extension": ".py",
   "mimetype": "text/x-python",
   "name": "python",
   "nbconvert_exporter": "python",
   "pygments_lexer": "ipython3",
   "version": "3.7.4"
  }
 },
 "nbformat": 4,
 "nbformat_minor": 4
}
