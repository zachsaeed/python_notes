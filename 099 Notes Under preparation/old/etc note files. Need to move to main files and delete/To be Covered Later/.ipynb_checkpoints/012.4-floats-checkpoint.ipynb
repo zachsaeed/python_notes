{
 "cells": [
  {
   "cell_type": "markdown",
   "metadata": {},
   "source": [
    "# Declaration\n",
    "\n",
    "The float type in Python designates a floating-point number. float values are specified with a decimal point. Optionally, the character e or E followed by a positive or negative integer may be appended to specify scientific notation:"
   ]
  },
  {
   "cell_type": "code",
   "execution_count": 16,
   "metadata": {},
   "outputs": [
    {
     "name": "stdout",
     "output_type": "stream",
     "text": [
      "<class 'float'>\n",
      "1.8e+30\n",
      "<class 'float'>\n",
      "1.8\n"
     ]
    }
   ],
   "source": [
    "# A float can be declared as\n",
    "var1 = -23.\n",
    "print(type(var1))  # <class 'float'>\n",
    "\n",
    "var2 = 1.8e30\n",
    "print(var4)\n",
    "\n",
    "# or by using the float class (Both syntaxes are exactly te same)\n",
    "var3 = float(1.8)\n",
    "print(type(var2))  # <class 'float'>\n",
    "\n",
    "var4 = float(1.8e30)\n",
    "print(var3)\n",
    "\n"
   ]
  },
  {
   "cell_type": "markdown",
   "metadata": {},
   "source": [
    "**Note:** The 'float' class can also be used to typecast strings and ints into float\n",
    "# Size: \n",
    "The size of a float is always 24 bits"
   ]
  },
  {
   "cell_type": "code",
   "execution_count": 6,
   "metadata": {},
   "outputs": [
    {
     "name": "stdout",
     "output_type": "stream",
     "text": [
      "24\n",
      "24\n"
     ]
    }
   ],
   "source": [
    "import sys\n",
    "var1 = .0\n",
    "print(sys.getsizeof(var1))  # 24\n",
    "\n",
    "var2 = 1.8e308\n",
    "print(sys.getsizeof(var2))  # 24"
   ]
  },
  {
   "cell_type": "markdown",
   "metadata": {},
   "source": [
    "# Deep Dive: Floating-Point Representation\n",
    "Almost all platforms represent Python float values as 64-bit “double-precision” values, according to the IEEE 754 standard. In that case, the maximum value a floating-point number can have is approximately 1.8 ⨉ 10^308. Python will indicate a number greater than that by the string inf:"
   ]
  },
  {
   "cell_type": "code",
   "execution_count": 7,
   "metadata": {},
   "outputs": [
    {
     "name": "stdout",
     "output_type": "stream",
     "text": [
      "1.79e+308\n",
      "inf\n"
     ]
    }
   ],
   "source": [
    "print(1.79e308)  # 1.79e+308\n",
    "print(1.8e308)  # inf"
   ]
  },
  {
   "cell_type": "markdown",
   "metadata": {},
   "source": [
    "The closest a nonzero number can be to zero is approximately 5.0 ⨉ 10^-324. Anything closer to zero than that is effectively zero:"
   ]
  },
  {
   "cell_type": "code",
   "execution_count": 8,
   "metadata": {},
   "outputs": [
    {
     "name": "stdout",
     "output_type": "stream",
     "text": [
      "5e-324\n",
      "0.0\n"
     ]
    }
   ],
   "source": [
    "print(5e-324)  # 5e-324\n",
    "print(1e-325)  # 0.0"
   ]
  },
  {
   "cell_type": "markdown",
   "metadata": {},
   "source": [
    "Floating point numbers are represented internally as binary (base-2) fractions. Most decimal fractions cannot be represented exactly as binary fractions, so in most cases the internal representation of a floating-point number is an approximation of the actual value. In practice, the difference between the actual value and the represented value is very small and should not usually cause significant problems.\n",
    "\n",
    "# Further reading:\n",
    "Floating Point Arithmetic: Issues and Limitations: (https://docs.python.org/3.6/tutorial/floatingpoint.html)\n",
    "\n",
    "# Working with Inf and Nan:"
   ]
  },
  {
   "cell_type": "code",
   "execution_count": 17,
   "metadata": {},
   "outputs": [
    {
     "name": "stdout",
     "output_type": "stream",
     "text": [
      "inf\n",
      "nan\n"
     ]
    }
   ],
   "source": [
    "abc = float('Inf')\n",
    "print(abc)\n",
    "\n",
    "abc = float('Nan')\n",
    "print(abc)"
   ]
  },
  {
   "cell_type": "markdown",
   "metadata": {},
   "source": [
    "**Note:** More about inf and nan after comparision operators"
   ]
  }
 ],
 "metadata": {
  "kernelspec": {
   "display_name": "Python 3",
   "language": "python",
   "name": "python3"
  },
  "language_info": {
   "codemirror_mode": {
    "name": "ipython",
    "version": 3
   },
   "file_extension": ".py",
   "mimetype": "text/x-python",
   "name": "python",
   "nbconvert_exporter": "python",
   "pygments_lexer": "ipython3",
   "version": "3.7.4"
  }
 },
 "nbformat": 4,
 "nbformat_minor": 4
}
