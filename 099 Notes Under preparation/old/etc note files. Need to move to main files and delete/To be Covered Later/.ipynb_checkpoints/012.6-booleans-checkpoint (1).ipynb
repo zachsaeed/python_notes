{
 "cells": [
  {
   "cell_type": "markdown",
   "metadata": {},
   "source": [
    "# Declaration\n",
    "Objects of Boolean type may have one of two values, True or False:"
   ]
  },
  {
   "cell_type": "code",
   "execution_count": 3,
   "metadata": {},
   "outputs": [
    {
     "name": "stdout",
     "output_type": "stream",
     "text": [
      "<class 'bool'>\n",
      "<class 'bool'>\n",
      "<class 'bool'>\n",
      "<class 'bool'>\n"
     ]
    }
   ],
   "source": [
    "# A boolean can be declared as:\n",
    "bool_var1 = True\n",
    "print(type(bool_var1))  # <class 'bool'>\n",
    "\n",
    "bool_var2 = bool(False)\n",
    "print(type(bool_var2))  # <class 'bool'>\n",
    "\n",
    "# Or by using the bool class\n",
    "bool_var3 = bool(True)\n",
    "print(type(bool_var1))  # <class 'bool'>\n",
    "\n",
    "bool_var4 = bool(False)\n",
    "print(type(bool_var2))  # <class 'bool'>\n",
    "\n"
   ]
  },
  {
   "cell_type": "markdown",
   "metadata": {},
   "source": [
    "## Truthy and Falsy\n",
    "As you will see in upcoming tutorials, expressions in Python are often evaluated in Boolean context, meaning they are\n",
    "interpreted to represent truth or falsehood. A value that is true in Boolean context is sometimes said to be “truthy,”\n",
    "and one that is false in Boolean context is said to be “falsy.” (You may also see “falsy” spelled “falsey.”)\n",
    "\n",
    "Non-Boolean objects can be evaluated in Boolean context as well and determined to be true or false. You will learn more about evaluation of objects in Boolean context when you encounter logical operators in the upcoming tutorial on operators and expressions in Python.\n",
    "\n",
    "# Python bool()\n",
    "\n",
    "The bool() method converts a value to Boolean (True or False) using the standard truth testing procedure.\n",
    "The syntax of bool is:\n",
    "```python\n",
    "bool([value])\n",
    "```\n",
    "\n",
    "## bool() parameters\n",
    "It's not mandatory to pass a value to bool(). If you do not pass a value, bool() returns False.\n",
    "\n",
    "In general use, bool() takes a single parameter value.\n",
    "\n",
    "## Return Value from bool()\n",
    "The bool() returns:\n",
    "\n",
    "* False if the value is omitted or false\n",
    "* True if the value is true\n",
    "\n",
    "The following values are considered false in Python:\n",
    "* None\n",
    "* False\n",
    "* Zero of any numeric type. For example, 0, 0.0, 0j\n",
    "* Empty sequence. For example, (), [], ''.\n",
    "* Empty mapping. For example, {}\n",
    "* objects of Classes which has __bool__() or __len()__ method which returns 0 or False\n",
    "\n",
    "All other values except these values are considered true.\n",
    "\n",
    "## How bool() works?"
   ]
  },
  {
   "cell_type": "code",
   "execution_count": 4,
   "metadata": {},
   "outputs": [
    {
     "name": "stdout",
     "output_type": "stream",
     "text": [
      "[] is False\n",
      "[0] is True\n",
      "0.0 is False\n",
      "None is False\n",
      "True is True\n",
      "Easy string is True\n"
     ]
    }
   ],
   "source": [
    "test = []\n",
    "print(test,'is',bool(test))\n",
    "\n",
    "test = [0]\n",
    "print(test,'is',bool(test))\n",
    "\n",
    "test = 0.0\n",
    "print(test,'is',bool(test))\n",
    "\n",
    "test = None\n",
    "print(test,'is',bool(test))\n",
    "\n",
    "test = True\n",
    "print(test,'is',bool(test))\n",
    "\n",
    "test = 'Easy string'\n",
    "print(test,'is',bool(test))"
   ]
  }
 ],
 "metadata": {
  "kernelspec": {
   "display_name": "Python 3",
   "language": "python",
   "name": "python3"
  },
  "language_info": {
   "codemirror_mode": {
    "name": "ipython",
    "version": 3
   },
   "file_extension": ".py",
   "mimetype": "text/x-python",
   "name": "python",
   "nbconvert_exporter": "python",
   "pygments_lexer": "ipython3",
   "version": "3.7.4"
  }
 },
 "nbformat": 4,
 "nbformat_minor": 4
}
