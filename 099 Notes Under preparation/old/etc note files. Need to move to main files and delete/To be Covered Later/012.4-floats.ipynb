{
 "cells": [
  {
   "cell_type": "markdown",
   "metadata": {},
   "source": [
    "# Python float()\n",
    "As the name says, python float() function returns a floating point number. It takes one parameter and that is optional. So the basic syntax of python float() function is;\n",
    "\n",
    "class float(item)\n",
    "\n",
    "Here, item can be string, integer or float. So the basic example about python float is given in the following code."
   ]
  },
  {
   "cell_type": "code",
   "execution_count": 6,
   "metadata": {},
   "outputs": [
    {
     "name": "stdout",
     "output_type": "stream",
     "text": [
      "The type of str_to_float is: <class 'str'>\n",
      "The type of str_to_float is: <class 'float'>\n"
     ]
    }
   ],
   "source": [
    "# init a string with the value of a number\n",
    "str_float = '12.60'\n",
    "# check the type of the variable\n",
    "print('The type of str_to_float is:', type(str_float))\n",
    "\n",
    "# use the float() function\n",
    "str_to_float = float(str_float)\n",
    "# now check the type of the variable\n",
    "print('The type of str_to_float is:', type(str_float))"
   ]
  },
  {
   "cell_type": "code",
   "execution_count": 7,
   "metadata": {},
   "outputs": [
    {
     "name": "stdout",
     "output_type": "stream",
     "text": [
      "The type of int_to_float is: <class 'int'>\n",
      "12\n",
      "The type of int_to_float is: <class 'float'>\n",
      "12.0\n"
     ]
    }
   ],
   "source": [
    "# init an integer\n",
    "int_float = 12\n",
    "# check the type of the variable\n",
    "print('The type of int_to_float is:', type(int_float))\n",
    "print(int_float)\n",
    "\n",
    "# use the float() function\n",
    "int_float = float(int_to_float)\n",
    "# now check the type of the variable\n",
    "print('The type of int_to_float is:', type(int_float))\n",
    "print(int_float)"
   ]
  },
  {
   "cell_type": "markdown",
   "metadata": {},
   "source": [
    "## Python float() special parameters\n",
    "As we said earlier, the parameter of float() function is optional. So if you print a blank float() function, what will it print. Well, it will print 0.0 as output. "
   ]
  },
  {
   "cell_type": "code",
   "execution_count": null,
   "metadata": {},
   "outputs": [],
   "source": [
    "# store the valure returned by float()\n",
    "store = float()\n",
    "# check the type of the variable\n",
    "print('The type of variable store is :', type(store))\n",
    "# print the value stored in the variable\n",
    "print('The value of store :', store)"
   ]
  },
  {
   "cell_type": "markdown",
   "metadata": {},
   "source": [
    "Again you can define **infinity** in float and also **NaN (Not A Number)** using this function. To do so, you just have to put a string containing **inf** or **NaN** as parameter:"
   ]
  },
  {
   "cell_type": "code",
   "execution_count": null,
   "metadata": {},
   "outputs": [],
   "source": [
    "# store the infinite value by float()\n",
    "store = float('inf')\n",
    "# check the type of the variable\n",
    "print('The type of variable store is :', type(store))\n",
    "# print the value stored in the variable\n",
    "print('The value of store :', store)\n",
    "\n",
    "\n",
    "# store the 'Not a Number' value by float()\n",
    "store = float('NaN')\n",
    "# check the type of the variable\n",
    "print('The type of variable store is :', type(store))\n",
    "# print the value stored in the variable\n",
    "print('The value of store :', store)"
   ]
  },
  {
   "cell_type": "markdown",
   "metadata": {},
   "source": [
    "**Note:** More about inf and nan after comparision operators"
   ]
  },
  {
   "cell_type": "code",
   "execution_count": null,
   "metadata": {},
   "outputs": [],
   "source": []
  }
 ],
 "metadata": {
  "kernelspec": {
   "display_name": "Python 3",
   "language": "python",
   "name": "python3"
  },
  "language_info": {
   "codemirror_mode": {
    "name": "ipython",
    "version": 3
   },
   "file_extension": ".py",
   "mimetype": "text/x-python",
   "name": "python",
   "nbconvert_exporter": "python",
   "pygments_lexer": "ipython3",
   "version": "3.7.4"
  }
 },
 "nbformat": 4,
 "nbformat_minor": 4
}
