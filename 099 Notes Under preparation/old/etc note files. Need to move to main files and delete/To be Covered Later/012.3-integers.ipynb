{
 "cells": [
  {
   "cell_type": "markdown",
   "metadata": {},
   "source": [
    "# Python int()\n",
    "Python int() function syntax is:\n",
    "```python\n",
    "class int(x=0, base=10)\n",
    "```\n",
    "\n",
    "Some important points for int() function are:\n",
    "\n",
    "* If no argument is provided, 0 will be returned by the int() function.\n",
    "* If integer literal argument is provided, base should not be provided. The returned int object will be in decimal even if the argument is in hexadecimal, binary or any other base.\n",
    "* For floating point argument, decimal point will be truncated and int value will be returned. There will be no rounding performed.\n",
    "* If the argument is string, it will be converted to int. If the string argument is not in base 10, then base must be provided.\n",
    "* Base argument can be provided for string, bytes and bytearray argument only. The allowed values are 0 and 2 to 36.\n",
    "* We can use int() with custom object too, in that case object \\_\\_int\\_\\_() function will be called. If \\_\\_int\\_\\_() function is not defined, then \\_\\_trunc\\_\\_() function will be called. If none of them are defined, then TypeError will be thrown.\n",
    "\n",
    "Let’s look into int() function examples with different types of input arguments.\n",
    "\n",
    "## Python int() with numbers"
   ]
  },
  {
   "cell_type": "code",
   "execution_count": 24,
   "metadata": {},
   "outputs": [
    {
     "name": "stdout",
     "output_type": "stream",
     "text": [
      "<class 'int'>\n",
      "0\n",
      "15\n",
      "7\n"
     ]
    }
   ],
   "source": [
    "x = int()\n",
    "print(type(x))\n",
    "print(x)\n",
    "\n",
    "print(int(0xF))\n",
    "print(int(0b111))"
   ]
  },
  {
   "cell_type": "markdown",
   "metadata": {},
   "source": [
    "## Python int() with float"
   ]
  },
  {
   "cell_type": "code",
   "execution_count": 25,
   "metadata": {},
   "outputs": [
    {
     "name": "stdout",
     "output_type": "stream",
     "text": [
      "10\n",
      "10\n"
     ]
    }
   ],
   "source": [
    "x = int(10.043)\n",
    "print(x)\n",
    "\n",
    "x = int(10.8901)\n",
    "print(x)"
   ]
  },
  {
   "cell_type": "markdown",
   "metadata": {},
   "source": [
    "> Notice that integer part of floating point number is returned, no rounding is performed.\n",
    "\n",
    "## Python int() with string"
   ]
  },
  {
   "cell_type": "code",
   "execution_count": 26,
   "metadata": {},
   "outputs": [
    {
     "name": "stdout",
     "output_type": "stream",
     "text": [
      "5\n",
      "-15\n",
      "7\n"
     ]
    }
   ],
   "source": [
    "x = int(\"5\")\n",
    "print(x)\n",
    "\n",
    "x = int(\"-0xf\", base=16)\n",
    "print(x)\n",
    "\n",
    "x = int(\"0b111\", base=2)\n",
    "print(x)"
   ]
  },
  {
   "cell_type": "markdown",
   "metadata": {},
   "source": [
    "## Python int() with bytes and bytearray"
   ]
  },
  {
   "cell_type": "code",
   "execution_count": 27,
   "metadata": {},
   "outputs": [
    {
     "name": "stdout",
     "output_type": "stream",
     "text": [
      "-15\n",
      "-20\n"
     ]
    }
   ],
   "source": [
    "x = int(bytes(\"-0xf\", \"utf-8\"), 16)\n",
    "print(x)\n",
    "\n",
    "x = int(bytearray(\"-20\", \"utf-8\"))\n",
    "print(x)"
   ]
  },
  {
   "cell_type": "markdown",
   "metadata": {},
   "source": [
    "## Python int() with custom object"
   ]
  },
  {
   "cell_type": "code",
   "execution_count": 28,
   "metadata": {},
   "outputs": [
    {
     "name": "stdout",
     "output_type": "stream",
     "text": [
      "__int__ function called\n",
      "100\n"
     ]
    }
   ],
   "source": [
    "class Emp:\n",
    "    id = 0\n",
    "\n",
    "    def __int__(self):\n",
    "        print('__int__ function called')\n",
    "        return self.id\n",
    "\n",
    "    def __trunc__(self):\n",
    "        print('__trunc__ function called')\n",
    "        return self.id\n",
    "\n",
    "\n",
    "x = Emp()\n",
    "x.id = 100\n",
    "print(int(x))"
   ]
  },
  {
   "cell_type": "markdown",
   "metadata": {},
   "source": [
    "If we comment \\_\\_int\\_\\_ function, then the output will be:\n",
    "```console\n",
    "__trunc__ function called\n",
    "100\n",
    "```\n",
    "\n",
    "If we comment both \\_\\_int\\_\\_ and \\_\\_trunc\\_\\_ functions, then we get the following error.\n",
    "```console\n",
    "TypeError: int() argument must be a string, a bytes-like object or a number, not 'Emp'\n",
    "```\n",
    "\n",
    "## Summary\n",
    "Python int() function is used to convert string, bytes, bytearray and objects to an int object. The integer is always \n",
    "returned in base 10. We can get the same value by directly calling object.\\_\\_int\\_\\_() function."
   ]
  },
  {
   "cell_type": "code",
   "execution_count": null,
   "metadata": {},
   "outputs": [],
   "source": []
  }
 ],
 "metadata": {
  "kernelspec": {
   "display_name": "Python 3",
   "language": "python",
   "name": "python3"
  },
  "language_info": {
   "codemirror_mode": {
    "name": "ipython",
    "version": 3
   },
   "file_extension": ".py",
   "mimetype": "text/x-python",
   "name": "python",
   "nbconvert_exporter": "python",
   "pygments_lexer": "ipython3",
   "version": "3.7.4"
  }
 },
 "nbformat": 4,
 "nbformat_minor": 4
}
