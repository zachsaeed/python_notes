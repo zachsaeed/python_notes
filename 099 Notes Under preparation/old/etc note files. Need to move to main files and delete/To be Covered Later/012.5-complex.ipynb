{
 "cells": [
  {
   "cell_type": "markdown",
   "metadata": {},
   "source": [
    "# Python complex\n",
    "The complex() method returns a complex number when real and imaginary parts are provided, or it converts a string to a complex number.\n",
    "The syntax of complex() is:\n",
    "```python\n",
    "complex([real[, imag]])\n",
    "```\n",
    "## complex() Parameters\n",
    "In general, the complex() method takes two parameters:\n",
    "\n",
    "* real - real part. If real is omitted, it defaults to 0.\n",
    "* imag - imaginary part. If imag is omitted, it default to 0.\n",
    "\n",
    "> **Note:** If the first parameter passed to this method is a string, it will be interpreted as a complex number. In this case, second parameter shouldn't be passed.\n",
    "\n",
    "## Return Value from complex()\n",
    "As suggested by the name, the complex() method returns a complex number.\n",
    "\n",
    "If the string passed to this method is not a valid complex number, ValueError exception is raised.\n",
    "\n",
    "> **Note:** The string passed to the complex() should be in the form real+imagj or real+imagJ\n",
    "\n",
    "## How to create a complex number in Python?"
   ]
  },
  {
   "cell_type": "code",
   "execution_count": 6,
   "metadata": {},
   "outputs": [
    {
     "name": "stdout",
     "output_type": "stream",
     "text": [
      "(2-3j)\n",
      "(1+0j)\n",
      "0j\n",
      "0j\n",
      "(5-9j)\n"
     ]
    }
   ],
   "source": [
    "z = complex(2, -3)\n",
    "print(z)\n",
    "\n",
    "z = complex(1)\n",
    "print(z)\n",
    "\n",
    "z = complex(0)\n",
    "print(z)\n",
    "\n",
    "z = complex()\n",
    "print(z)\n",
    "\n",
    "z = complex('5-9j')\n",
    "print(z)"
   ]
  },
  {
   "cell_type": "code",
   "execution_count": null,
   "metadata": {},
   "outputs": [],
   "source": []
  }
 ],
 "metadata": {
  "kernelspec": {
   "display_name": "Python 3",
   "language": "python",
   "name": "python3"
  },
  "language_info": {
   "codemirror_mode": {
    "name": "ipython",
    "version": 3
   },
   "file_extension": ".py",
   "mimetype": "text/x-python",
   "name": "python",
   "nbconvert_exporter": "python",
   "pygments_lexer": "ipython3",
   "version": "3.7.4"
  }
 },
 "nbformat": 4,
 "nbformat_minor": 4
}
