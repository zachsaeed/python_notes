{
 "cells": [
  {
   "cell_type": "markdown",
   "metadata": {},
   "source": [
    "# Python bool()\n",
    "\n",
    "The bool() method converts a value to Boolean (True or False) using the standard truth testing procedure.\n",
    "The syntax of bool is:\n",
    "```python\n",
    "bool([value])\n",
    "```\n",
    "\n",
    "## bool() parameters\n",
    "It's not mandatory to pass a value to bool(). If you do not pass a value, bool() returns False.\n",
    "\n",
    "In general use, bool() takes a single parameter value.\n",
    "\n",
    "## Return Value from bool()\n",
    "The bool() returns:\n",
    "\n",
    "* False if the value is omitted or false\n",
    "* True if the value is true\n",
    "\n",
    "The following values are considered false in Python:\n",
    "* None\n",
    "* False\n",
    "* Zero of any numeric type. For example, 0, 0.0, 0j\n",
    "* Empty sequence. For example, (), [], ''.\n",
    "* Empty mapping. For example, {}\n",
    "* objects of Classes which has __bool__() or __len()__ method which returns 0 or False\n",
    "\n",
    "All other values except these values are considered true.\n",
    "\n",
    "## How bool() works?"
   ]
  },
  {
   "cell_type": "code",
   "execution_count": 4,
   "metadata": {},
   "outputs": [
    {
     "name": "stdout",
     "output_type": "stream",
     "text": [
      "[] is False\n",
      "[0] is True\n",
      "0.0 is False\n",
      "None is False\n",
      "True is True\n",
      "Easy string is True\n"
     ]
    }
   ],
   "source": [
    "test = []\n",
    "print(test,'is',bool(test))\n",
    "\n",
    "test = [0]\n",
    "print(test,'is',bool(test))\n",
    "\n",
    "test = 0.0\n",
    "print(test,'is',bool(test))\n",
    "\n",
    "test = None\n",
    "print(test,'is',bool(test))\n",
    "\n",
    "test = True\n",
    "print(test,'is',bool(test))\n",
    "\n",
    "test = 'Easy string'\n",
    "print(test,'is',bool(test))"
   ]
  }
 ],
 "metadata": {
  "kernelspec": {
   "display_name": "Python 3",
   "language": "python",
   "name": "python3"
  },
  "language_info": {
   "codemirror_mode": {
    "name": "ipython",
    "version": 3
   },
   "file_extension": ".py",
   "mimetype": "text/x-python",
   "name": "python",
   "nbconvert_exporter": "python",
   "pygments_lexer": "ipython3",
   "version": "3.7.4"
  }
 },
 "nbformat": 4,
 "nbformat_minor": 4
}
