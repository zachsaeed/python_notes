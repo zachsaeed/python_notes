{
 "cells": [
  {
   "cell_type": "markdown",
   "metadata": {},
   "source": [
    "reduce()\n",
    "\n",
    "# https://treyhunner.com/2016/04/how-to-loop-with-indexes-in-python/ zip enumerate\n",
    "\n",
    "OOP:\n",
    "Hoisting / LEGB etc\n",
    "pass by reference vs value\n",
    "super - extended\n",
    "pdb debugging\n",
    "dunder / magic methods\n",
    "operator overloading (https://www.journaldev.com/14637/python-operator-overloading)\n",
    "cli arguments\n",
    "** operator to merge dictionaries (https://blog.finxter.com/python-double-asterisk/)\n",
    "\n",
    "method overloading (https://www.geeksforgeeks.org/python-method-overloading/)\n",
    "operator overriding - python code notes\n",
    "\n",
    "Abstraction, encapsulation and polymorphism\n",
    "Any and all - udemy course\n",
    "\n",
    "https://rszalski.github.io/magicmethods/#sequence"
   ]
  },
  {
   "cell_type": "code",
   "execution_count": null,
   "metadata": {},
   "outputs": [],
   "source": [
    "https://docs.python.org/3/glossary.html#term-sequence (sequences are iterables) Dictionary is map. Iterables and sequences are not separate. need to fix notes\n",
    "\n",
    "packages: https://towardsdatascience.com/10-topics-python-intermediate-programmer-should-know-3c865e8533d6"
   ]
  },
  {
   "cell_type": "markdown",
   "metadata": {},
   "source": [
    "creating a pypi package\n",
    "\n",
    "__init__.py in folders\n",
    "\n",
    "# Modules search path\n",
    "[https://docs.python.org/3/reference/import.html#the-module-cache]\n",
    " \n",
    " # Importing a module from a different directory\n",
    "When we try to import a python module, it’s looked into the current directory and the PATH variable location. So if your python file is not \n",
    " present in these locations, then you will get ModuleNotFoundError. The solution is to import sys module and then append the required directory \n",
    " to its path variable.\n",
    "\n",
    "Below code shows the error when we try to import from a different directory. We then fixg it by adding its directory to the path variable.\n",
    "```python\n",
    "import test123\n",
    "Traceback (most recent call last):\n",
    "  File \"<stdin>\", line 1, in <module>\n",
    "ModuleNotFoundError: No module named 'test123'\n",
    "```\n",
    "Fix:\n",
    "```python\n",
    "import sys\n",
    "sys.path.append('/Users/pankaj/temp')\n",
    "import test123\n",
    "print(test123.x)\n",
    "test123.foo()\n",
    "foo\n",
    "```\n",
    "\n",
    "\n",
    "> **Note:** A module can contain executable statements as well as function definitions. These statements are intended to initialize the module. They are executed only the first time the module name is encountered in an import statement.\n",
    "\n",
    "> **Note:** Modules can import other modules. It is customary but not required to place all import statements at the beginning of a module (or script, for that matter). The imported module names are placed in the importing module’s global symbol table.\n",
    "\n",
    "> **Note:** For efficiency reasons, each module is only imported once per interpreter session. Therefore, if you change your modules, you must restart the interpreter – or, if it’s just one module you want to test interactively, use importlib.reload(), e.g. ```python import importlib; importlib.reload(modulename)```\n",
    "[https://docs.python.org/3/tutorial/modules.html#compiled-python-files]"
   ]
  },
  {
   "cell_type": "markdown",
   "metadata": {},
   "source": [
    "https://www.udemy.com/course/the-modern-python3-bootcamp/learn/lecture/9141988#overview\n",
    "\n",
    "TODO: How does python search for modules, site-packages folder\n",
    "defining our own module packages\n"
   ]
  }
 ],
 "metadata": {
  "kernelspec": {
   "display_name": "Python 3",
   "language": "python",
   "name": "python3"
  },
  "language_info": {
   "codemirror_mode": {
    "name": "ipython",
    "version": 3
   },
   "file_extension": ".py",
   "mimetype": "text/x-python",
   "name": "python",
   "nbconvert_exporter": "python",
   "pygments_lexer": "ipython3",
   "version": "3.7.9"
  }
 },
 "nbformat": 4,
 "nbformat_minor": 4
}
