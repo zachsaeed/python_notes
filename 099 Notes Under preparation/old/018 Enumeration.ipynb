{
 "cells": [
  {
   "cell_type": "markdown",
   "id": "a3ff8685",
   "metadata": {},
   "source": [
    "# Enumerate\n",
    "\n",
    "A lot of times when dealing with iterators, we also get a need to keep a count of iterations. Python eases the programmers’ task by providing a built-in function called enumerate() for this task.\n",
    "\n",
    "enumerate() method adds a counter to an iterable and returns it in a form of enumerate object. This enumerate object can then be used directly in for loops or be converted into a list(), tuple(), set() and many more.\n",
    "\n",
    "It takes 2 params:\n",
    "\n",
    "    enumerate(iterable, start=0)\n",
    "\n",
    "where:\n",
    "- Iterable: any object that supports iteration\n",
    "- Start: the index value from which the counter is to be started, by default it is 0\n",
    "\n",
    "The following code illustrates enumerate function:"
   ]
  },
  {
   "cell_type": "code",
   "execution_count": 1,
   "id": "264c18e5",
   "metadata": {},
   "outputs": [
    {
     "name": "stdout",
     "output_type": "stream",
     "text": [
      "<class 'list'>\n",
      "<class 'enumerate'>\n"
     ]
    }
   ],
   "source": [
    "programmming = [\"Python\", \"Programmming\", \"Is\", \"Fun\"]\n",
    "print(type(programmming))\n",
    "\n",
    "enum = enumerate(programmming)\n",
    "print(type(enum))"
   ]
  },
  {
   "cell_type": "markdown",
   "id": "e048e71e",
   "metadata": {},
   "source": [
    "# Note: Once list(), tuple(), set() is called on enum, it cannot be accessed again\n",
    "\n",
    "# Converting to a list of tuples\n",
    "print(list(enum))  # [(0, 'Python'), (1, 'Programmming'), (2, 'Is'), (3, 'Fun')]\n",
    "\n",
    "# Comment out previous conversions on enum or else this will print empty tuple.\n",
    "# Converting to a tuple  of tuples\n",
    "# print(tuple(enum))  # ((0, 'Python'), (1, 'Programmming'), (2, 'Is'), (3, 'Fun'))\n",
    "\n",
    "# Comment out previous conversions on enum or else this will print empty set.\n",
    "# Converting to a set  of tuples\n",
    "# print(set(enum))  # {(0, 'Python'), (3, 'Fun'), (1, 'Programmming'), (2, 'Is')}\n",
    "\n",
    "\n",
    "# for loop\n",
    "programmming = [\"Python\", \"Programmming\", \"Is\", \"Fun\"]\n",
    "# printing the tuples in object directly\n",
    "for item in enumerate(programmming):\n",
    "    print(item)\n",
    "# (0, 'Python')\n",
    "# (1, 'Programmming')\n",
    "# (2, 'Is')\n",
    "# (3, 'Fun')\n",
    "\n",
    "\n",
    "# changing index and printing separately\n",
    "for count, item in enumerate(programmming,100):\n",
    "    print(count, item)\n",
    "# 100 Python\n",
    "# 101 Programmming\n",
    "# 102 Is\n",
    "# 103 Fun"
   ]
  }
 ],
 "metadata": {
  "kernelspec": {
   "display_name": "Python 3",
   "language": "python",
   "name": "python3"
  },
  "language_info": {
   "codemirror_mode": {
    "name": "ipython",
    "version": 3
   },
   "file_extension": ".py",
   "mimetype": "text/x-python",
   "name": "python",
   "nbconvert_exporter": "python",
   "pygments_lexer": "ipython3",
   "version": "3.8.10"
  }
 },
 "nbformat": 4,
 "nbformat_minor": 5
}
