{
 "cells": [
  {
   "cell_type": "markdown",
   "metadata": {},
   "source": [
    "# Executing modules as a script\n",
    "Within a module, the module’s name (as a string) is available as the value of the global variable __name__. For instance, when we import :\n",
    "```python\n",
    "import printNumbers\n",
    "\n",
    "print(printNumbers.__name__)  # printNumbers\n",
    "```\n",
    "\n",
    "But, When you run a Python module directly via CLI eg:\n",
    "```console\n",
    "python printNumbers.py <arguments>\n",
    "```\n",
    "the code in the module will be executed, just as if you imported it, but with the __name__ set to \"__main__\". \n",
    "That means that by adding this code at the end of your module:\n",
    "```python\n",
    "if __name__ == \"__main__\":\n",
    "    import sys\n",
    "    printForward(int(sys.argv[1]))\n",
    "```\n",
    "\n",
    "you can make the file usable as a script as well as an importable module, because the code that parses the command line only runs if the module is executed as the “main” file:\n",
    "```console\n",
    "$ python printNumbers.py 5\n",
    "```\n",
    "\n",
    "If the module is imported into your code, the code is not run.\n",
    "\n",
    "This is often used either to provide a convenient user interface to a module, or for testing purposes (running the module as a script executes a test suite).\n"
   ]
  }
 ],
 "metadata": {
  "kernelspec": {
   "display_name": "Python 3",
   "language": "python",
   "name": "python3"
  },
  "language_info": {
   "codemirror_mode": {
    "name": "ipython",
    "version": 3
   },
   "file_extension": ".py",
   "mimetype": "text/x-python",
   "name": "python",
   "nbconvert_exporter": "python",
   "pygments_lexer": "ipython3",
   "version": "3.8.7"
  }
 },
 "nbformat": 4,
 "nbformat_minor": 4
}
