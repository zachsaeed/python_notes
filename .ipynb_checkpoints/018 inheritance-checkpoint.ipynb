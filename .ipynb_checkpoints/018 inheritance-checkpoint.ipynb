{
 "cells": [
  {
   "cell_type": "markdown",
   "metadata": {},
   "source": [
    "Inheritance is included in almost every object-oriented programming languages. Python Inheritance enables us to use the member attributes and methods of one class into another.\n",
    "\n",
    "# Python Inheritance Terminologies\n",
    "* *Super/parent class:** The class from which attributes and methods will be inherited.\n",
    "* *Sub/child class:** The class which inherits the members from superclass.\n",
    "* *Method Overriding:** Redefining the definitions of methods in subclass which was already defined in superclass.\n",
    "\n",
    "Example"
   ]
  },
  {
   "cell_type": "code",
   "execution_count": null,
   "metadata": {},
   "outputs": [],
   "source": [
    "# Definition of the superclass starts here  \n",
    "class Person:  \n",
    "    # initializing the variables  \n",
    "    name = \"\"  \n",
    "    age = 0  \n",
    "  \n",
    "    # defining constructor  \n",
    "    def __init__(self, personName, personAge):  \n",
    "        self.name = personName  \n",
    "        self.age = personAge  \n",
    "  \n",
    "    # defining class methods  \n",
    "    def showName(self):  \n",
    "        print(self.name)  \n",
    "  \n",
    "    def showAge(self):  \n",
    "        print(self.age)  \n",
    "  \n",
    "# Line: 19, end of superclass definition  \n",
    "  \n",
    "# definition of subclass starts here\n",
    "class Student(Person): # Person is the  superclass and Student is the subclass\n",
    "    studentId = \"\"  \n",
    "  \n",
    "    def __init__(self, studentName, studentAge, studentId): \n",
    "        #self.name = personName  \n",
    "        #self.age = personAge  \n",
    "        # The above is code duplication as it already exists in super class's constructor hence we can call:\n",
    "        \n",
    "        Person.__init__(self, studentName, studentAge)  # Calling the superclass constructor and sending values of attributes.\n",
    "        # or much better/shorter way using super (Dont have to specify self) (More in next section):\n",
    "        # super().__init__(studentName, studentAge)  # Super refers to Person. Call init on parent class\n",
    "        \n",
    "        self.studentId = studentId  \n",
    "  \n",
    "    def getId(self):  \n",
    "        return self.studentId  #returns the value of student id \n",
    "    \n",
    "#end of subclass definition\n",
    "  \n",
    "  \n",
    "# Create an object of the superclass  \n",
    "person1 = Person(\"Richard\", 23)  #Line: 43\n",
    "#call member methods of the objects  \n",
    "person1.showAge()  \n",
    "# Create an object of the subclass  \n",
    "student1 = Student(\"Max\", 22, \"102\")  #Line: 47\n",
    "print(student1.getId())  \n",
    "student1.showName()  #Line: 50"
   ]
  },
  {
   "cell_type": "markdown",
   "metadata": {},
   "source": [
    "Now, we are going to explain the above example to understand how inheritance works in python.\n",
    "\n",
    "## 1. Defining Superclass\n",
    "Line 1 – 19 defines the superclass. You should have no trouble in understanding this if you are familiar with python class. Class Person is defined with necessary constructor, attributes and methods. Explanation of this segment has already been provided in Python Class tutorial.\n",
    "\n",
    "## 2. Defining Subclass\n",
    "According to the rule of inheritance, the subclass inherits the attributes and methods of its superclass. Line 22 shows how subclass Student extends Person as its superclass. The name of superclass has to be kept in parentheses while declaring the subclass. \n",
    "\n",
    "## 3. Subclass constructor\n",
    "And the constructor has to call the superclass constructor with appropriate attribute values (if needed) as shown in line 33. Apart from that, everything is the same as defining a normal python class.\n",
    "\n",
    "# 4. creating objects of super class and subclass\n",
    "After defining both the superclass and the subclass, we may create objects of superclass and subclass as in lines 43 and 47. As we have been told earlier, the subclass inherits the attributes and methods. You may notice here that the object student1 (object of Student subclass) has the method showName under its scope (line 50).\n",
    "\n"
   ]
  }
 ],
 "metadata": {
  "kernelspec": {
   "display_name": "Python 3",
   "language": "python",
   "name": "python3"
  },
  "language_info": {
   "codemirror_mode": {
    "name": "ipython",
    "version": 3
   },
   "file_extension": ".py",
   "mimetype": "text/x-python",
   "name": "python",
   "nbconvert_exporter": "python",
   "pygments_lexer": "ipython3",
   "version": "3.7.4"
  }
 },
 "nbformat": 4,
 "nbformat_minor": 4
}
