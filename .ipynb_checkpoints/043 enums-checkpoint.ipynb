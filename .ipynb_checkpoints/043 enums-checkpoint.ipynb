{
 "cells": [
  {
   "cell_type": "markdown",
   "id": "dc3bc4a4-b7c7-45b9-ba77-4d21a2925e9a",
   "metadata": {},
   "source": [
    "# What Is an Enum?¶\n",
    "enum stands for enumeration and refers to a set of symbolic names, which are called enumeration members. These enum members are bound to unique, constant values. You can iterate over an enumeration and compare its members by identity (Python's is operator).\n",
    "\n",
    "The following code snippet shows you a simple example of an enum Colour:"
   ]
  },
  {
   "cell_type": "code",
   "execution_count": 9,
   "id": "c58cef34-43cd-4bda-9d7b-80165cb0e94b",
   "metadata": {},
   "outputs": [],
   "source": [
    "from enum import Enum\n",
    "\n",
    "class Colour(Enum):\n",
    "    RED = 1\n",
    "    GREEN = 2\n",
    "    BLUE = 3"
   ]
  },
  {
   "cell_type": "markdown",
   "id": "e7bdfba0-82bd-4199-8d47-e20d6f511f78",
   "metadata": {},
   "source": [
    "We imported the Enum class from Python's enum module. It serves as a base class for defining new enumerations in Python. Subsequently, a new enum called Colour is implemented having three enum members: RED, GREEN, and BLUE.\n",
    "\n",
    "> Note: Although the class syntax is used to define new enumerations, they aren't normal Python classes. If you want to know more about it, check out the How are Enums different? section in the module's documentation: https://docs.python.org/3/library/enum.html#how-are-enums-different\n",
    "\n",
    "Let's see how enums behave when used."
   ]
  },
  {
   "cell_type": "code",
   "execution_count": 11,
   "id": "48ac21ea-dd71-4b3f-9747-3c4f9e7ff1f7",
   "metadata": {},
   "outputs": [
    {
     "name": "stdout",
     "output_type": "stream",
     "text": [
      "Colour.RED\n",
      "<enum 'Colour'>\n",
      "RED\n",
      "1\n",
      "True\n",
      "False\n",
      "True\n",
      "False\n",
      "False\n"
     ]
    }
   ],
   "source": [
    "c = Colour.RED\n",
    "print(c)\n",
    "print(type(c))\n",
    "print(c.name)\n",
    "print(c.value)\n",
    "print(c is Colour.RED)\n",
    "print(c is Colour.BLUE)\n",
    "print(c == Colour.RED)\n",
    "print(c == 1)\n",
    "print(Colour.RED == 1)"
   ]
  },
  {
   "cell_type": "markdown",
   "id": "00dd9571-70ef-4ad8-8c23-ca53a2bef2e3",
   "metadata": {},
   "source": [
    "We extended the colour.py script by creating a new instance of Colour.RED and assigning it to the variable c. Furthermore, we print the string representation of Colour.RED, its name and value. Additionally, we compare c's identity with Colour.RED and Colour.BLUE."
   ]
  },
  {
   "cell_type": "markdown",
   "id": "6ef40654-2ae0-4969-b3f3-027a63b686f5",
   "metadata": {},
   "source": [
    "Running the script reveals that c is indeed an instance of Colour.RED with RED as its name and 1 as value.\n",
    "\n",
    "> Note: We used the 'is' operator to compare the variable c with the different enum members. Keep in mind that enums can only be compared to enums and not to integers, even though the enum member values are integers.\n",
    "\n",
    "## Iterating Over the Members of an Enum¶\n",
    "Enumerations have a special attribute called ```__members__```, which is a read-only ordered mapping of names and members. Utilising ```__members__``` allows you to iterate over an enum and print the members as well as their corresponding names."
   ]
  },
  {
   "cell_type": "code",
   "execution_count": 21,
   "id": "677d4f67-ecbf-49ca-83d1-64532ab96f86",
   "metadata": {},
   "outputs": [
    {
     "name": "stdout",
     "output_type": "stream",
     "text": [
      "RED Colour.RED\n",
      "GREEN Colour.GREEN\n",
      "BLUE Colour.BLUE\n"
     ]
    }
   ],
   "source": [
    "from enum import Enum\n",
    "\n",
    "class Colour(Enum):\n",
    "    RED = 1\n",
    "    GREEN = 2\n",
    "    BLUE = 3\n",
    "\n",
    "for name, member in Colour.__members__.items():\n",
    "    print(name, member)"
   ]
  },
  {
   "cell_type": "markdown",
   "id": "fb894be3-7311-4bbe-b17d-ea24819551b1",
   "metadata": {},
   "source": [
    "You might ask yourself why we did not something like:"
   ]
  },
  {
   "cell_type": "code",
   "execution_count": 22,
   "id": "2c95c694-08c6-4afe-b111-452467420f07",
   "metadata": {},
   "outputs": [
    {
     "name": "stdout",
     "output_type": "stream",
     "text": [
      "RED Colour.RED\n",
      "GREEN Colour.GREEN\n",
      "BLUE Colour.BLUE\n"
     ]
    }
   ],
   "source": [
    "for member in Colour:\n",
    "    print(member.name, member)"
   ]
  },
  {
   "cell_type": "markdown",
   "id": "397886c1-effc-4c1e-bcc2-1049ece04f85",
   "metadata": {},
   "source": [
    "For the example at hand, both approaches produce the same result. However, if you have an enumeration that has aliases, too, only the approach using __members__ will print the aliases as well. Checkout the following example:"
   ]
  },
  {
   "cell_type": "code",
   "execution_count": 7,
   "id": "2826ce53-5783-4dee-9222-44cb5ff833b0",
   "metadata": {},
   "outputs": [
    {
     "name": "stdout",
     "output_type": "stream",
     "text": [
      "RED Colour.RED\n",
      "GREEN Colour.GREEN\n",
      "BLUE Colour.BLUE\n",
      "ORANGE Colour.RED\n",
      "====================\n",
      "RED Colour.RED\n",
      "GREEN Colour.GREEN\n",
      "BLUE Colour.BLUE\n"
     ]
    }
   ],
   "source": [
    "from enum import Enum\n",
    "\n",
    "class Colour(Enum):\n",
    "    RED = 1\n",
    "    GREEN = 2\n",
    "    BLUE = 3\n",
    "    ALIAS_RED = 1\n",
    "\n",
    "for name, member in Colour.__members__.items():\n",
    "    print(name, member)\n",
    "\n",
    "print(\"=\"*20)\n",
    "\n",
    "for member in Colour:\n",
    "    print(member.name, member)"
   ]
  },
  {
   "cell_type": "markdown",
   "id": "d1caf3aa-54e8-476f-9e24-93c790dc2701",
   "metadata": {},
   "source": [
    "## Automatic Values¶\n",
    "In the previous example, we assigned integers to the symbolic names RED, GREEN, and BLUE. If the exact values are not important, you can use the enum.auto() function. The function calls _generate_next_value_() internally and generates the values for you."
   ]
  },
  {
   "cell_type": "code",
   "execution_count": 24,
   "id": "253a5132-d388-476b-9072-6040d4c09127",
   "metadata": {},
   "outputs": [
    {
     "name": "stdout",
     "output_type": "stream",
     "text": [
      "1\n"
     ]
    }
   ],
   "source": [
    "from enum import auto\n",
    "from enum import Enum\n",
    "\n",
    "class Colour(Enum):\n",
    "    RED = auto()\n",
    "    GREEN = auto()\n",
    "    BLUE = auto()\n",
    "\n",
    "\n",
    "c = Colour.RED\n",
    "print(c.value)"
   ]
  },
  {
   "cell_type": "markdown",
   "id": "32e332ca-922c-4a5a-bfe2-c0c5b5a8078a",
   "metadata": {},
   "source": [
    "It chooses a suited value for each enum member, which will (most of the time) be the integers we used before.\n",
    "\n",
    "However, the _generate_next_value_() function can be overwritten to generate new values the way you like:"
   ]
  },
  {
   "cell_type": "code",
   "execution_count": 25,
   "id": "7b23b3e8-4c7a-411e-b144-2e3e9b38c02e",
   "metadata": {},
   "outputs": [
    {
     "name": "stdout",
     "output_type": "stream",
     "text": [
      "2\n",
      "4\n",
      "8\n"
     ]
    }
   ],
   "source": [
    "from enum import auto\n",
    "from enum import Enum\n",
    "\n",
    "class AutoName(Enum):\n",
    "    def _generate_next_value_(name, start, count, last_values):\n",
    "        if len(last_values) > 0:\n",
    "            return last_values[-1] * 2\n",
    "        return 2\n",
    "\n",
    "\n",
    "class Colour(AutoName):\n",
    "    RED = auto()\n",
    "    GREEN = auto()\n",
    "    BLUE = auto()\n",
    "\n",
    "\n",
    "c = Colour.RED\n",
    "g = Colour.GREEN\n",
    "b = Colour.BLUE\n",
    "print(c.value)\n",
    "print(g.value)\n",
    "print(b.value)"
   ]
  },
  {
   "cell_type": "markdown",
   "id": "3fd35041-e8c0-4068-8093-482955cd4bd6",
   "metadata": {},
   "source": [
    "## Extending an Enum¶\n",
    "Being Python classes, enums can have any (special) methods just like all other classes. Consider the following example."
   ]
  },
  {
   "cell_type": "code",
   "execution_count": 26,
   "id": "ac1ad699-5901-4aae-bdb3-69e2a3649e21",
   "metadata": {},
   "outputs": [
    {
     "name": "stdout",
     "output_type": "stream",
     "text": [
      "RED\n",
      "Let's paint everything in red\n"
     ]
    }
   ],
   "source": [
    "from enum import Enum\n",
    "\n",
    "class Colour(Enum):\n",
    "    RED = 1\n",
    "    GREEN = 2\n",
    "    BLUE = 3\n",
    "\n",
    "    def __str__(self):\n",
    "        return self.name\n",
    "\n",
    "    def colorize(self):\n",
    "        return f\"Let's paint everything in {self.name.lower()}\"\n",
    "\n",
    "\n",
    "c = Colour.RED\n",
    "print(c)\n",
    "print(c.colorize())"
   ]
  },
  {
   "cell_type": "markdown",
   "id": "1639f499-21e9-44bb-9b31-2581731eadec",
   "metadata": {},
   "source": [
    "We extended the Colour enum by a new method colorize() printing a string generated based on the member's value. Furthermore, we overwrite the __str__() dunder method to return the member's name if called.\n",
    "\n",
    "## Kinds of Enums in Python¶\n",
    "Besides Enum, Python provides three derived enumerations out of the box:\n",
    "1. IntEnum\n",
    "2. IntFlag\n",
    "3. Flag\n",
    "We will have a look at all three of them. Keep in mind that you are free to implement your own derived enumerations based on Enum. Implementing your own enumeration is not covered here.\n",
    "\n",
    "### IntEnum¶\n",
    "We already know that we can compare enum members using Python's identity operator. However, the Enum class does not provide ordered comparisons even though integers are used as values for the enumeration members. Let's have a look at the following example."
   ]
  },
  {
   "cell_type": "code",
   "execution_count": 15,
   "id": "e932cb0e-fc44-4de3-9cb3-dad9e0fda4bb",
   "metadata": {},
   "outputs": [
    {
     "name": "stdout",
     "output_type": "stream",
     "text": [
      "3\n"
     ]
    }
   ],
   "source": [
    "from enum import Enum\n",
    "\n",
    "class Colour(Enum):\n",
    "    RED = 1\n",
    "    GREEN = 2\n",
    "    BLUE = RED+GREEN\n",
    "\n",
    "r = Colour.RED\n",
    "b = Colour.GREEN\n",
    "# print(r < b) # Executing this statement results in a TypeError\n",
    "\n",
    "'''\n",
    "---------------------------------------------------------------------------\n",
    "TypeError                                 Traceback (most recent call last)\n",
    "<ipython-input-13-e23758bdacd2> in <module>\n",
    "      8 r = Colour.RED\n",
    "      9 b = Colour.GREEN\n",
    "---> 10 print(r < b) # Executing this statement results in a TypeError.\n",
    "\n",
    "TypeError: '<' not supported between instances of 'Colour' and 'Colour'\n",
    "'''\n",
    "\n",
    "print(Colour.BLUE.value)"
   ]
  },
  {
   "cell_type": "markdown",
   "id": "5697623d-6c9f-4f26-b691-a07d987ac393",
   "metadata": {},
   "source": [
    "The only thing you can do is making use of equality comparisons like == and !=. Additionally, comparing enum members with any non-enumeration value is not supported.\n",
    "\n",
    "However, the derived enumeration IntEnum does provide ordered comparisons as it is also a subclass of int. In order to make our example work, we need to import the IntEnum class instead of Enum and derive Colour from it. We do not need to change anything else."
   ]
  },
  {
   "cell_type": "code",
   "execution_count": 14,
   "id": "22df305e-7349-4698-8cf8-a6cc499ea68f",
   "metadata": {},
   "outputs": [
    {
     "name": "stdout",
     "output_type": "stream",
     "text": [
      "True\n",
      "3\n"
     ]
    }
   ],
   "source": [
    "from enum import IntEnum\n",
    "\n",
    "class Colour(IntEnum):\n",
    "    RED = 1\n",
    "    GREEN = 2\n",
    "    BLUE = RED + GREEN\n",
    "\n",
    "r = Colour.RED\n",
    "b = Colour.GREEN\n",
    "print(r < b)\n",
    "\n",
    "print(Colour.BLUE.value)\n"
   ]
  },
  {
   "cell_type": "markdown",
   "id": "549680df-cd38-4243-9a4b-7bf105313de5",
   "metadata": {},
   "source": [
    "### IntFlag¶\n",
    "The IntFlag class is pretty similar to the IntEnum class with the exception that is also supports bitwise operations. With supporting bitwise operations I mean that it is possible to combine two enum members resulting in an IntFlag member, too. All other operations on an IntFlag member will result in the loss of the IntFlag membership.\n",
    "\n",
    "Let's have a look at an example. Assume that we grant permissions to users so that they can read, write and/or execute a certain file. We create an enumeration Permission with the members R (read permission), W (write permission), and X (execute permission) respectively.\n",
    "\n",
    "If we have a user, who should have read and write permissions for a certain file, we can combine both using the | operator."
   ]
  },
  {
   "cell_type": "code",
   "execution_count": 29,
   "id": "55086c7f-0c7c-42c7-a454-074869cd5bc5",
   "metadata": {},
   "outputs": [
    {
     "name": "stdout",
     "output_type": "stream",
     "text": [
      "Permission.R|W\n",
      "6\n",
      "True\n"
     ]
    }
   ],
   "source": [
    "from enum import IntFlag\n",
    "\n",
    "class Permission(IntFlag):\n",
    "    R = 4\n",
    "    W = 2\n",
    "    X = 1\n",
    "\n",
    "\n",
    "RW = Permission.R | Permission.W\n",
    "print(RW)\n",
    "print(Permission.R + Permission.W)\n",
    "print(Permission.R in RW)"
   ]
  },
  {
   "cell_type": "markdown",
   "id": "a90fa2a7-b59a-4b09-9957-a491add3d740",
   "metadata": {},
   "source": [
    "### Flag¶\n",
    "The Flag class does also provide support for bitwise operations but does not inherit from int. In fact, it is like Enum but with support for the bitwise operations.\n",
    "\n",
    "If we take the Colour enum from the beginning, we could easily mix the colour white based on the other three colours."
   ]
  },
  {
   "cell_type": "code",
   "execution_count": 30,
   "id": "963dd82b-ff16-48fc-89fe-e9e4201c7abc",
   "metadata": {},
   "outputs": [
    {
     "name": "stdout",
     "output_type": "stream",
     "text": [
      "WHITE 7\n"
     ]
    }
   ],
   "source": [
    "from enum import auto\n",
    "from enum import Flag\n",
    "\n",
    "\n",
    "class Colour(Flag):\n",
    "    RED = auto()\n",
    "    GREEN = auto()\n",
    "    BLUE = auto()\n",
    "    WHITE = RED | GREEN | BLUE\n",
    "\n",
    "\n",
    "print(Colour.WHITE.name, Colour.WHITE.value)"
   ]
  },
  {
   "cell_type": "markdown",
   "id": "63158f68-a561-4fc6-bb1f-994eb81476e6",
   "metadata": {},
   "source": [
    "## Why Do I Need Enums?¶\n",
    "At this point, we have an understanding of what enums are and how we can create them in Python. Furthermore, we are able to compare and work with them. However, we still do not know why we need and should use enumerations more often.\n",
    "\n",
    "The examples we had a look at were pretty simple. Although the Permission enumeration seems pretty useful, the Colour enum does not. Why would you use these enumerations in your code?\n",
    "\n",
    "Have a look at the following Python snippet."
   ]
  },
  {
   "cell_type": "code",
   "execution_count": 31,
   "id": "94a9cff9-4390-4801-a940-cac43647e33e",
   "metadata": {},
   "outputs": [],
   "source": [
    "from http.client import HTTPResponse\n",
    "\n",
    "def evaluate_response(response: HTTPResponse) -> str:\n",
    "    if response.code() == 404:\n",
    "        return \"Not Found\"\n",
    "    elif response.code() == 502:\n",
    "        return \"???\"\n",
    "    elif response.code() == 400:\n",
    "        return \"???\"\n",
    "    else:\n",
    "        return \"Unknown Status Code\""
   ]
  },
  {
   "cell_type": "markdown",
   "id": "13451abc-bd8a-4e51-9481-90263c3a244c",
   "metadata": {},
   "source": [
    "We defined a function, which takes an HTTPResponse object and returns a string based on the status code of the supplied HTTPResponse object. You may know that 404 is the status code for Not Found, but do you know the meaning of 502 and 400?\n",
    "\n",
    "These are only two less known status codes and much more are out there. It is hard to read and understand the code without a web search. This is where enumerations come into play. We can implement our own custom enumeration to lend more meaning to the code."
   ]
  },
  {
   "cell_type": "code",
   "execution_count": 34,
   "id": "2e2cb645-9a2a-4da4-9ff7-a90a40b36d02",
   "metadata": {},
   "outputs": [],
   "source": [
    "from enum import IntEnum\n",
    "\n",
    "class HTTPCode(IntEnum):\n",
    "    BAD_REQUEST = 400\n",
    "    NOT_FOUND = 404\n",
    "    BAD_GATEWAY = 502\n",
    "    "
   ]
  },
  {
   "cell_type": "markdown",
   "id": "86d65b3a-5a40-4b7f-9fc9-750887a29ce5",
   "metadata": {},
   "source": [
    "Here an IntEnum is used as we want to be able to compare members of it with integers. Now, the function from before looks like this:"
   ]
  },
  {
   "cell_type": "code",
   "execution_count": 35,
   "id": "c3823a56-54f2-47d4-b7b6-101eb2065b63",
   "metadata": {},
   "outputs": [],
   "source": [
    "from http.client import HTTPResponse\n",
    "\n",
    "def evaluate_response(response: HTTPResponse) -> str:\n",
    "    if response.code() == HTTPCode.NOT_FOUND:\n",
    "        return \"Not Found\"\n",
    "    elif response.code() == HTTPCode.BAD_GATEWAY:\n",
    "        return \"???\"\n",
    "    elif response.code() == HTTPCode.BAD_REQUEST:\n",
    "        return \"???\"\n",
    "    else:\n",
    "        return \"Unknown Status Code\""
   ]
  },
  {
   "cell_type": "markdown",
   "id": "e612d04e-c359-4a9f-825f-3595a28f92fb",
   "metadata": {},
   "source": [
    "In essence, if you have magic numbers in your code, you should definitely consider to either assign them to a variable or group them together to an enumeration. This way your code's readability increases a lot. It is especially true if you want to write tests for your code."
   ]
  },
  {
   "cell_type": "code",
   "execution_count": null,
   "id": "a8f6041e-ca17-4730-aaec-f742679c28ef",
   "metadata": {},
   "outputs": [],
   "source": []
  }
 ],
 "metadata": {
  "kernelspec": {
   "display_name": "Python 3 (ipykernel)",
   "language": "python",
   "name": "python3"
  },
  "language_info": {
   "codemirror_mode": {
    "name": "ipython",
    "version": 3
   },
   "file_extension": ".py",
   "mimetype": "text/x-python",
   "name": "python",
   "nbconvert_exporter": "python",
   "pygments_lexer": "ipython3",
   "version": "3.8.10"
  }
 },
 "nbformat": 4,
 "nbformat_minor": 5
}
