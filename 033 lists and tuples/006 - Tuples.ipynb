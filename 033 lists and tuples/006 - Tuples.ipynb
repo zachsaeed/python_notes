{
 "cells": [
  {
   "cell_type": "markdown",
   "metadata": {},
   "source": [
    "# Tuples\n",
    "Python tuples is a **sequence type** which is **immutable**, and allows mixed or same datatypes with duplicate values. \n",
    "\n",
    "A tuple is defined using () containing a list of comma separated elements. \n",
    "\n",
    "Tuples can contain any datatype as it's elements."
   ]
  },
  {
   "cell_type": "code",
   "execution_count": 12,
   "metadata": {},
   "outputs": [],
   "source": [
    "tuple1 = (\"apple\", \"banana\", \"cherry\") # Same datatype\n",
    "tuple2 = (1, 5, 7, 9, 3) # Same datatype\n",
    "tuple3 = (True, False, False) # Same datatype\n",
    "tuple4 = (\"apple\", 2.2, \"cherry\", True, \"apple\")  # Mixed datatype"
   ]
  },
  {
   "cell_type": "markdown",
   "metadata": {},
   "source": [
    "Tuples are used to store multiple items in a single read-only variable.\n",
    "\n",
    "## The tuple() Constructor\n",
    "It is also possible to use the tuplr() constructor when creating a new tuple."
   ]
  },
  {
   "cell_type": "code",
   "execution_count": 13,
   "metadata": {},
   "outputs": [
    {
     "name": "stdout",
     "output_type": "stream",
     "text": [
      "('apple', 'banana', 'cherry')\n"
     ]
    }
   ],
   "source": [
    "thisTuple = tuple((\"apple\", \"banana\", \"cherry\")) # note the double round-brackets\n",
    "print(thisTuple)"
   ]
  },
  {
   "cell_type": "markdown",
   "metadata": {},
   "source": [
    "We can create tuples via a list too to make them read only"
   ]
  },
  {
   "cell_type": "code",
   "execution_count": 14,
   "metadata": {},
   "outputs": [
    {
     "name": "stdout",
     "output_type": "stream",
     "text": [
      "('apple', 'banana', 'cherry')\n"
     ]
    }
   ],
   "source": [
    "thisTuple = tuple([\"apple\", \"banana\", \"cherry\"]) # note the double round-brackets\n",
    "print(thisTuple)"
   ]
  },
  {
   "cell_type": "markdown",
   "metadata": {},
   "source": [
    "## Tuple Methods\n",
    "There are only 2 methods in tuples (Please see the sequence section)\n",
    "1- count()\n",
    "2- index"
   ]
  },
  {
   "cell_type": "code",
   "execution_count": null,
   "metadata": {},
   "outputs": [],
   "source": []
  }
 ],
 "metadata": {
  "kernelspec": {
   "display_name": "Python 3",
   "language": "python",
   "name": "python3"
  },
  "language_info": {
   "codemirror_mode": {
    "name": "ipython",
    "version": 3
   },
   "file_extension": ".py",
   "mimetype": "text/x-python",
   "name": "python",
   "nbconvert_exporter": "python",
   "pygments_lexer": "ipython3",
   "version": "3.8.7"
  }
 },
 "nbformat": 4,
 "nbformat_minor": 4
}
